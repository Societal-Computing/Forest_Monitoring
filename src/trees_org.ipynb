{
 "cells": [
  {
   "cell_type": "markdown",
   "metadata": {},
   "source": [
    "# Trees.org\n",
    "https://trees.org"
   ]
  },
  {
   "cell_type": "code",
   "execution_count": 1,
   "metadata": {},
   "outputs": [],
   "source": [
    "import json\n",
    "import pandas as pd\n",
    "import geopandas as gpd\n",
    "from shapely.geometry import Point"
   ]
  },
  {
   "cell_type": "code",
   "execution_count": 2,
   "metadata": {},
   "outputs": [
    {
     "data": {
      "text/plain": [
       "list"
      ]
     },
     "execution_count": 2,
     "metadata": {},
     "output_type": "execute_result"
    }
   ],
   "source": [
    "with open('../input/TreesOrg/data.json', 'r') as file:\n",
    "    data = json.load(file)\n",
    "type(data)"
   ]
  },
  {
   "cell_type": "code",
   "execution_count": 3,
   "metadata": {},
   "outputs": [
    {
     "name": "stdout",
     "output_type": "stream",
     "text": [
      "<class 'pandas.core.frame.DataFrame'>\n",
      "RangeIndex: 86 entries, 0 to 85\n",
      "Data columns (total 19 columns):\n",
      " #   Column          Non-Null Count  Dtype \n",
      "---  ------          --------------  ----- \n",
      " 0   ID              86 non-null     int64 \n",
      " 1   type            86 non-null     object\n",
      " 2   slug            86 non-null     object\n",
      " 3   title           86 non-null     object\n",
      " 4   content         86 non-null     object\n",
      " 5   excerpt         86 non-null     object\n",
      " 6   long_excerpt    86 non-null     object\n",
      " 7   short_excerpt   86 non-null     object\n",
      " 8   link            86 non-null     object\n",
      " 9   featured_image  86 non-null     object\n",
      " 10  author          86 non-null     object\n",
      " 11  publish_date    86 non-null     object\n",
      " 12  date            86 non-null     object\n",
      " 13  button          86 non-null     object\n",
      " 14  map             86 non-null     object\n",
      " 15  address         86 non-null     object\n",
      " 16  coordinates     86 non-null     object\n",
      " 17  country_image   86 non-null     object\n",
      " 18  info            86 non-null     object\n",
      "dtypes: int64(1), object(18)\n",
      "memory usage: 12.9+ KB\n"
     ]
    }
   ],
   "source": [
    "if isinstance(data, list) and isinstance(data[0], dict):\n",
    "    df = pd.DataFrame(data)\n",
    "df.info()"
   ]
  },
  {
   "cell_type": "code",
   "execution_count": 4,
   "metadata": {},
   "outputs": [
    {
     "data": {
      "text/html": [
       "<div>\n",
       "<style scoped>\n",
       "    .dataframe tbody tr th:only-of-type {\n",
       "        vertical-align: middle;\n",
       "    }\n",
       "\n",
       "    .dataframe tbody tr th {\n",
       "        vertical-align: top;\n",
       "    }\n",
       "\n",
       "    .dataframe thead th {\n",
       "        text-align: right;\n",
       "    }\n",
       "</style>\n",
       "<table border=\"1\" class=\"dataframe\">\n",
       "  <thead>\n",
       "    <tr style=\"text-align: right;\">\n",
       "      <th></th>\n",
       "      <th>ID</th>\n",
       "      <th>type</th>\n",
       "      <th>slug</th>\n",
       "      <th>title</th>\n",
       "      <th>content</th>\n",
       "      <th>excerpt</th>\n",
       "      <th>long_excerpt</th>\n",
       "      <th>short_excerpt</th>\n",
       "      <th>link</th>\n",
       "      <th>featured_image</th>\n",
       "      <th>author</th>\n",
       "      <th>publish_date</th>\n",
       "      <th>date</th>\n",
       "      <th>button</th>\n",
       "      <th>map</th>\n",
       "      <th>address</th>\n",
       "      <th>coordinates</th>\n",
       "      <th>country_image</th>\n",
       "      <th>info</th>\n",
       "      <th>country</th>\n",
       "    </tr>\n",
       "  </thead>\n",
       "  <tbody>\n",
       "    <tr>\n",
       "      <th>0</th>\n",
       "      <td>7396</td>\n",
       "      <td>project</td>\n",
       "      <td>mwanza-2</td>\n",
       "      <td>Mwanza 2</td>\n",
       "      <td></td>\n",
       "      <td></td>\n",
       "      <td></td>\n",
       "      <td></td>\n",
       "      <td>https://trees.org/project/mwanza-2/</td>\n",
       "      <td></td>\n",
       "      <td></td>\n",
       "      <td>15 Feb 2024</td>\n",
       "      <td>2024-02-15</td>\n",
       "      <td>https://trees.org/project/mwanza-2/, Read more...</td>\n",
       "      <td>7JGG+96 Kabila, Tanzania, -2.72407, 33.62559, ...</td>\n",
       "      <td>Kabila, Tanzania</td>\n",
       "      <td>-2.72407, 33.62559</td>\n",
       "      <td>5755, 5755, tanzia, tanzia.svg, 5868, https://...</td>\n",
       "      <td>Project Name: , Mwanza 2, Project Type: , Expa...</td>\n",
       "      <td>Tanzania</td>\n",
       "    </tr>\n",
       "  </tbody>\n",
       "</table>\n",
       "</div>"
      ],
      "text/plain": [
       "     ID     type      slug     title content excerpt long_excerpt  \\\n",
       "0  7396  project  mwanza-2  Mwanza 2                                \n",
       "\n",
       "  short_excerpt                                 link featured_image author  \\\n",
       "0                https://trees.org/project/mwanza-2/                         \n",
       "\n",
       "  publish_date        date                                             button  \\\n",
       "0  15 Feb 2024  2024-02-15  https://trees.org/project/mwanza-2/, Read more...   \n",
       "\n",
       "                                                 map           address  \\\n",
       "0  7JGG+96 Kabila, Tanzania, -2.72407, 33.62559, ...  Kabila, Tanzania   \n",
       "\n",
       "          coordinates                                      country_image  \\\n",
       "0  -2.72407, 33.62559  5755, 5755, tanzia, tanzia.svg, 5868, https://...   \n",
       "\n",
       "                                                info   country  \n",
       "0  Project Name: , Mwanza 2, Project Type: , Expa...  Tanzania  "
      ]
     },
     "execution_count": 4,
     "metadata": {},
     "output_type": "execute_result"
    }
   ],
   "source": [
    "df['country'] = df['address'].astype(str).apply(lambda x: x.split()[-1] if isinstance(x, str) else '')\n",
    "df.head(1)"
   ]
  },
  {
   "cell_type": "code",
   "execution_count": 5,
   "metadata": {},
   "outputs": [],
   "source": [
    "columns_rename_mapping = {\n",
    "    'ID': 'project_id_reported',\n",
    "    'coordinates': 'geometry',\n",
    "    'info': 'project_description_reported',\n",
    "    'country': 'country',\n",
    "    'date': 'planting_date_reported',\n",
    "    'link': 'url'\n",
    "}\n",
    "df = df[list(columns_rename_mapping.keys())]\n",
    "df.rename(columns=columns_rename_mapping, inplace=True)"
   ]
  },
  {
   "cell_type": "markdown",
   "metadata": {},
   "source": [
    "### Fix geometries"
   ]
  },
  {
   "cell_type": "code",
   "execution_count": 6,
   "metadata": {},
   "outputs": [],
   "source": [
    "df[['lon', 'lat']] = df['geometry'].str.split(',', expand=True).astype(float)\n",
    "df['geometry'] = df.apply(lambda row: Point(row['lon'], row['lat']), axis=1)\n",
    "df.drop(columns = ['lon', 'lat'], inplace = True)"
   ]
  },
  {
   "cell_type": "code",
   "execution_count": 7,
   "metadata": {},
   "outputs": [],
   "source": [
    "gdf = gpd.GeoDataFrame(df, geometry='geometry', crs = 'EPSG:4326')\n",
    "gdf['geometry'] = gdf['geometry'].make_valid()"
   ]
  },
  {
   "cell_type": "code",
   "execution_count": 8,
   "metadata": {},
   "outputs": [],
   "source": [
    "invalid_geom = False\n",
    "\n",
    "if len(gdf[gdf.geometry.is_valid == False]) > 0:\n",
    "    invalid_geom = True"
   ]
  },
  {
   "cell_type": "markdown",
   "metadata": {},
   "source": [
    "### Harmonize nomenclature"
   ]
  },
  {
   "cell_type": "code",
   "execution_count": 9,
   "metadata": {},
   "outputs": [],
   "source": [
    "gdf['planting_date_reported'] = pd.to_datetime(gdf['planting_date_reported']).dt.year"
   ]
  },
  {
   "cell_type": "code",
   "execution_count": 10,
   "metadata": {},
   "outputs": [
    {
     "name": "stdout",
     "output_type": "stream",
     "text": [
      "<class 'geopandas.geodataframe.GeoDataFrame'>\n",
      "RangeIndex: 86 entries, 0 to 85\n",
      "Data columns (total 14 columns):\n",
      " #   Column                        Non-Null Count  Dtype   \n",
      "---  ------                        --------------  -----   \n",
      " 0   project_id_reported           86 non-null     int64   \n",
      " 1   geometry                      86 non-null     geometry\n",
      " 2   project_description_reported  86 non-null     object  \n",
      " 3   country                       86 non-null     object  \n",
      " 4   planting_date_reported        86 non-null     int32   \n",
      " 5   url                           86 non-null     object  \n",
      " 6   host_name                     86 non-null     object  \n",
      " 7   project_geometries_invalid    86 non-null     bool    \n",
      " 8   site_sqkm                     0 non-null      object  \n",
      " 9   species_count_reported        0 non-null      object  \n",
      " 10  species_planted_reported      0 non-null      object  \n",
      " 11  survival_rate_reported        0 non-null      object  \n",
      " 12  trees_planted_reported        0 non-null      object  \n",
      " 13  site_id_reported              0 non-null      object  \n",
      "dtypes: bool(1), geometry(1), int32(1), int64(1), object(10)\n",
      "memory usage: 8.6+ KB\n"
     ]
    }
   ],
   "source": [
    "gdf['host_name'] = 'trees.org'\n",
    "gdf['project_geometries_invalid'] = invalid_geom\n",
    "gdf = gdf.assign(site_sqkm=None,species_count_reported=None, species_planted_reported=None, survival_rate_reported=None,trees_planted_reported=None,site_id_reported=None)\n",
    "gdf.info()"
   ]
  },
  {
   "cell_type": "code",
   "execution_count": 11,
   "metadata": {},
   "outputs": [],
   "source": [
    "gdf.to_file('../midsave/trees_org.gpkg')"
   ]
  }
 ],
 "metadata": {
  "kernelspec": {
   "display_name": "Python 3 (ipykernel)",
   "language": "python",
   "name": "python3"
  },
  "language_info": {
   "codemirror_mode": {
    "name": "ipython",
    "version": 3
   },
   "file_extension": ".py",
   "mimetype": "text/x-python",
   "name": "python",
   "nbconvert_exporter": "python",
   "pygments_lexer": "ipython3",
   "version": "3.13.2"
  }
 },
 "nbformat": 4,
 "nbformat_minor": 4
}
