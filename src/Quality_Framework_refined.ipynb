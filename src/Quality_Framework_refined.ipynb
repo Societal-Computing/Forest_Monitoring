{
  "cells": [
    {
      "cell_type": "code",
      "execution_count": null,
      "metadata": {
        "id": "U23wlH_kE3xv"
      },
      "outputs": [],
      "source": [
        "import geopandas as gpd\n",
        "import pandas as pd\n",
        "import numpy as np\n",
        "import matplotlib.pyplot as plt\n",
        "import seaborn as sns\n",
        "import os\n",
        "import simplekml\n",
        "from helper_functions import calculate_area, calculate_built_area, calculate_road_length, calculate_forest_loss,process_month,extract_polygons\n",
        "from helper_functions import calculate_elevation_and_slope, get_savi_for_month, get_ndvi_for_month,get_ndre_for_month,get_nearest_tree_cover,extract_planting_date,check_intersection\n",
        "\n",
        "\n",
        "file_path = \"../midsave/consolidated_reforestation_projects.parquet\"\n",
        "merged_df= gpd.read_parquet(file_path)\n"
      ]
    },
    {
      "cell_type": "code",
      "execution_count": null,
      "metadata": {
        "id": "7A_5lUtRdNCg"
      },
      "outputs": [],
      "source": [
        "merged_df =merged_df.rename(columns={\n",
        "    \"NDVI_Polygon_atplanting\": \"NDVI_Polygon_At_Planting\",\n",
        "    \"NDVI_Polygon_1yr_before\": \"NDVI_Polygon_1YearBefore\",\n",
        "    \"NDVI_Polygon_1yr_after\": \"NDVI_Polygon_1YearAfter\",\n",
        "    \"NDVI_Polygon_2yr_after\": \"NDVI_Polygon_2YearsAfter\",\n",
        "    \"NDVI_Polygon_5yr_after\": \"NDVI_Polygon_5YearsAfter\",\n",
        "    \"NDVI_Buffer_atplanting\": \"NDVI_Buffer_At_Planting\",\n",
        "    \"NDVI_Buffer_1yr_before\": \"NDVI_Buffer_1YearBefore\",\n",
        "    \"NDVI_Buffer_1yr_after\": \"NDVI_Buffer_1YearAfter\",\n",
        "    \"NDVI_Buffer_2yr_after\": \"NDVI_Buffer_2YearsAfter\",\n",
        "    \"NDVI_Buffer_5yr_after\": \"NDVI_Buffer_5YearsAfter\",\n",
        "      \"NDRE_Polygon_atplanting\": \"NDRE_Polygon_At_Planting\",\n",
        "    \"NDRE_Polygon_1yr_before\": \"NDRE_Polygon_1YearBefore\",\n",
        "    \"NDRE_Polygon_1yr_after\": \"NDRE_Polygon_1YearAfter\",\n",
        "    \"NDRE_Polygon_2yr_after\": \"NDRE_Polygon_2YearsAfter\",\n",
        "    \"NDRE_Polygon_5yr_after\": \"NDRE_Polygon_5YearsAfter\",\n",
        "    \"NDRE_Buffer_atplanting\": \"NDRE_Buffer_At_Planting\",\n",
        "    \"NDRE_Buffer_1yr_before\": \"NDRE_Buffer_1YearBefore\",\n",
        "    \"NDRE_Buffer_1yr_after\": \"NDRE_Buffer_1YearAfter\",\n",
        "    \"NDRE_Buffer_2yr_after\": \"NDRE_Buffer_2YearsAfter\",\n",
        "    \"NDRE_Buffer_5yr_after\": \"NDRE_Buffer_5YearsAfter\",\n",
        "        \"SAVI_Polygon_atplanting\": \"SAVI_Polygon_At_Planting\",\n",
        "    \"SAVI_Polygon_1yr_before\": \"SAVI_Polygon_1YearBefore\",\n",
        "    \"SAVI_Polygon_1yr_after\": \"SAVI_Polygon_1YearAfter\",\n",
        "    \"SAVI_Polygon_2yr_after\": \"SAVI_Polygon_2YearsAfter\",\n",
        "    \"SAVI_Polygon_5yr_after\": \"SAVI_Polygon_5YearsAfter\",\n",
        "    \"SAVI_Buffer_atplanting\": \"SAVI_Buffer_At_Planting\",\n",
        "    \"SAVI_Buffer_1yr_before\": \"SAVI_Buffer_1YearBefore\",\n",
        "    \"SAVI_Buffer_1yr_after\": \"SAVI_Buffer_1YearAfter\",\n",
        "    \"SAVI_Buffer_2yr_after\": \"SAVI_Buffer_2YearsAfter\",\n",
        "    \"SAVI_Buffer_5yr_after\": \"SAVI_Buffer_5YearsAfter\"\n",
        "})"
      ]
    },
    {
      "cell_type": "markdown",
      "metadata": {
        "id": "Cb60Dpopvu1m"
      },
      "source": [
        "### The  columns to consider in the Data quality Framework\n",
        "\n",
        "\n",
        "1. Site_sqkm\n",
        "2. Road presence\n",
        "3. Nested_in\n",
        "4. Intersecting_with\n",
        "5. Built area presence\n",
        "6. Forest at planting\n",
        "7. Presence of other land cover classes\n",
        "8. Administrative area overlap\n",
        "9. Circular shape indicator\n",
        "10. Invalid geometries indicator\n",
        "11. Buffer change and polygon area change difference\n",
        "\n",
        "\n"
      ]
    },
    {
      "cell_type": "code",
      "execution_count": null,
      "metadata": {
        "colab": {
          "base_uri": "https://localhost:8080/"
        },
        "id": "iCsYbYfrUwey",
        "outputId": "b7e2e3f8-ec16-45ea-978d-464ed05c091a"
      },
      "outputs": [],
      "source": [
        "\n",
        "merged_data=merged_df.copy()\n",
        "\n",
        "\n",
        "merged_data['planting_date_reported'] = merged_data['planting_date_reported'].apply(extract_planting_date)\n",
        "\n",
        "\n",
        "merged_data['planting_date_reported'] = pd.to_datetime(merged_data['planting_date_reported'], errors='coerce', utc=True)\n",
        "\n",
        "\n",
        "merged_data['PlantingYear'] = merged_data['planting_date_reported'].dt.year\n",
        "\n",
        "merged_data.info()\n"
      ]
    },
    {
      "cell_type": "code",
      "execution_count": null,
      "metadata": {
        "colab": {
          "base_uri": "https://localhost:8080/",
          "height": 444
        },
        "id": "MkUMSppYM_E4",
        "outputId": "bb5818c4-5845-4188-ba3d-4250b24c080a"
      },
      "outputs": [],
      "source": [
        "merged_data['planting_date_reported']"
      ]
    },
    {
      "cell_type": "code",
      "execution_count": null,
      "metadata": {
        "colab": {
          "base_uri": "https://localhost:8080/",
          "height": 331
        },
        "id": "XGxgb8szSNWl",
        "outputId": "1f83c6c6-d36b-4f25-dffc-c54b845bf4cc"
      },
      "outputs": [],
      "source": [
        "# years = [2000, 2005, 2010, 2015, 2020]\n",
        "\n",
        "\n",
        "merged_data['treecover_atplanting'] = merged_data.apply(get_nearest_tree_cover, axis=1)\n",
        "\n",
        "merged_data.head()\n"
      ]
    },
    {
      "cell_type": "code",
      "execution_count": null,
      "metadata": {
        "id": "R09rNg7lWlFE"
      },
      "outputs": [],
      "source": [
        "for period in [ \"1YearAfter\", \"2YearsAfter\", \"5YearsAfter\"]:\n",
        "    # Calculating changes for Polygon data\n",
        "    merged_data[f\"NDVI_Polygon_Change_{period}\"] = (\n",
        "        merged_data[f\"NDVI_Polygon_{period}\"] - merged_data[\"NDVI_Polygon_At_Planting\"]\n",
        "    )\n",
        "\n",
        "    # Calculating changes for Buffer data\n",
        "    merged_data[f\"NDVI_Buffer_Change_{period}\"] = (\n",
        "        merged_data[f\"NDVI_Buffer_{period}\"] - merged_data[\"NDVI_Buffer_At_Planting\"]\n",
        "    )\n"
      ]
    },
    {
      "cell_type": "code",
      "execution_count": null,
      "metadata": {
        "colab": {
          "base_uri": "https://localhost:8080/"
        },
        "id": "iBq-7MeIzFxD",
        "outputId": "9f5295b2-b943-4784-8c55-dab04a813d58"
      },
      "outputs": [],
      "source": [
        "# Selecting the  specific quality assessment columns\n",
        "columns_of_interest = ['site_id_created','site_id_reported','project_id_reported','site_sqkm','trees_planted_reported','Intersecting_with','Nested_in','built_area_2018','total_road_length_km',\"loss_post_3\",\n",
        "                       \"loss_post_5\",\"loss_pre_5\",\"planting_date_reported\",\"other_land_cover_area_2020\",\n",
        "                       'treecover_atplanting',\n",
        "                       \"geometry\",\"NDVI_Polygon_At_Planting\",\"NDVI_Polygon_Change_1YearAfter\", \"NDVI_Buffer_Change_1YearAfter\",\n",
        "                        \"NDVI_Polygon_Change_2YearsAfter\", \"NDVI_Buffer_Change_2YearsAfter\",\n",
        "                        \"NDVI_Polygon_Change_5YearsAfter\", \"NDVI_Buffer_Change_5YearsAfter\",\"Polygon_acircle_oval_95\",\"exact-admin_area\"\n",
        "\n",
        "                       ]\n",
        "filtered_df = merged_data[columns_of_interest]\n",
        "filtered_df.info()"
      ]
    },
    {
      "cell_type": "markdown",
      "metadata": {
        "id": "Pa1XC9Xd3_jN"
      },
      "source": [
        "\n",
        "\n",
        "# Intersecting and nested polygons to identify quality,completeness of the  Data"
      ]
    },
    {
      "cell_type": "code",
      "execution_count": null,
      "metadata": {
        "colab": {
          "base_uri": "https://localhost:8080/"
        },
        "id": "xM2E_kAJHr6K",
        "outputId": "c0c20e65-2784-43d4-d7fa-d384f28d6f63"
      },
      "outputs": [],
      "source": [
        "# Extracting nested values and handle conversions safely\n",
        "nested_values = set()\n",
        "for val in filtered_df['Nested_in'].dropna():\n",
        "    nested_values.update(map(str.strip, str(val).split(',')))\n",
        "\n",
        "\n",
        "converted_nested = set()\n",
        "for value in nested_values:\n",
        "    try:\n",
        "\n",
        "        converted_value = str(int(float(value)))\n",
        "        converted_nested.add(converted_value)\n",
        "    except ValueError:\n",
        "\n",
        "        pass\n",
        "\n",
        "\n",
        "filtered_df['Contains_small_polygon'] = filtered_df['site_id_created'].astype(str).apply(\n",
        "    lambda x: 'Yes' if x in converted_nested else 'No'\n",
        ")\n",
        "\n",
        "print(filtered_df['Contains_small_polygon'].value_counts())"
      ]
    },
    {
      "cell_type": "code",
      "execution_count": null,
      "metadata": {
        "colab": {
          "base_uri": "https://localhost:8080/",
          "height": 370
        },
        "id": "La6jxGDZWimo",
        "outputId": "c6ccede1-a721-4298-b412-755340f5a550"
      },
      "outputs": [],
      "source": [
        "\n",
        "\n",
        "\n",
        "filtered_df['Intersecting Polygon'] = filtered_df['Intersecting_with'].apply(check_intersection)\n",
        "\n",
        "# Not nesting other polygon allocate 1 else 0\n",
        "filtered_df['Nesting Polygon'] = np.where(\n",
        "    filtered_df['Contains_small_polygon'] == 'No',\n",
        "    1,\n",
        "    0\n",
        ")\n",
        "filtered_df['Intersecting Polygon'].value_counts()"
      ]
    },
    {
      "cell_type": "markdown",
      "metadata": {
        "id": "UUMpRitVb5Ga"
      },
      "source": [
        "\n",
        "# Presence of Forest at Planting\n",
        "Presence of vegetation at planting date either missed planting date or missed geometry boundaries"
      ]
    },
    {
      "cell_type": "code",
      "execution_count": null,
      "metadata": {
        "colab": {
          "base_uri": "https://localhost:8080/",
          "height": 271
        },
        "id": "9XMJJYbI6RLS",
        "outputId": "5e5bdc73-fb66-41ff-9772-c4f276df04e2"
      },
      "outputs": [],
      "source": [
        "filtered_df[\"forest_at_planting_glad\"] = np.where(\n",
        "    filtered_df[\"treecover_atplanting\"].isna(),\n",
        "    np.nan,\n",
        "    np.where(\n",
        "        filtered_df[\"treecover_atplanting\"] >= 0.2 * filtered_df[\"site_sqkm\"],\n",
        "        0,\n",
        "        1\n",
        "    )\n",
        ")\n",
        "filtered_df[\"forest_at_planting_glad\"].value_counts()\n"
      ]
    },
    {
      "cell_type": "markdown",
      "metadata": {
        "id": "sHHUvsvoAeQ7"
      },
      "source": [
        "# Change in Neighborhood"
      ]
    },
    {
      "cell_type": "code",
      "execution_count": null,
      "metadata": {
        "colab": {
          "base_uri": "https://localhost:8080/",
          "height": 271
        },
        "id": "2UXTSYGzsuLv",
        "outputId": "de3cabbd-0969-494b-8547-50c87433f6f6"
      },
      "outputs": [],
      "source": [
        "\n",
        "def check_ndvi_change_strict(row):\n",
        "    values = [\n",
        "        row[\"NDVI_Buffer_Change_1YearAfter\"],\n",
        "        row[\"NDVI_Buffer_Change_2YearsAfter\"],\n",
        "        row[\"NDVI_Buffer_Change_5YearsAfter\"]\n",
        "    ]\n",
        "\n",
        "    valid_values = [x for x in values if not np.isnan(x)]\n",
        "\n",
        "    if not valid_values:\n",
        "        return np.nan\n",
        "\n",
        "\n",
        "    return 0 if all(x > 0.2 for x in valid_values) else 1\n",
        "\n",
        "filtered_df[\"Change_in_buffer_ndvi\"] = filtered_df.apply(check_ndvi_change_strict, axis=1)\n",
        "filtered_df[\"Change_in_buffer_ndvi\"].value_counts()\n"
      ]
    },
    {
      "cell_type": "markdown",
      "metadata": {
        "id": "evIhdOWg4mxY"
      },
      "source": [
        "# Presence Other Landcover Score"
      ]
    },
    {
      "cell_type": "code",
      "execution_count": null,
      "metadata": {
        "colab": {
          "base_uri": "https://localhost:8080/",
          "height": 271
        },
        "id": "icEmu1txiLfE",
        "outputId": "89554039-f138-441b-89b0-9d46d8bc9331"
      },
      "outputs": [],
      "source": [
        "\n",
        "filtered_df['other_landcover_score'] = np.select(\n",
        "    [\n",
        "        filtered_df['other_land_cover_area_2020'].isna(),\n",
        "        filtered_df['site_sqkm'].isna(),\n",
        "        filtered_df['other_land_cover_area_2020'] >= 0.2 * filtered_df['site_sqkm']  # If it's at least 10% of site_sqkm, return 0\n",
        "    ],\n",
        "    [\n",
        "        np.nan,\n",
        "        np.nan,\n",
        "        0\n",
        "    ],\n",
        "    default=1  # Else, return 1\n",
        ")\n",
        "filtered_df['other_landcover_score'].value_counts()\n"
      ]
    },
    {
      "cell_type": "markdown",
      "metadata": {
        "id": "UxFAiZnDBPkY"
      },
      "source": [
        "# Infrastructure Presence\n",
        "Roads and built area"
      ]
    },
    {
      "cell_type": "code",
      "execution_count": null,
      "metadata": {
        "colab": {
          "base_uri": "https://localhost:8080/",
          "height": 271
        },
        "id": "C_mE-zmcqvw1",
        "outputId": "28b4728a-b877-4279-8992-77dbba6d4f42"
      },
      "outputs": [],
      "source": [
        "filtered_df[\"Road_presence\"] = filtered_df[\"total_road_length_km\"].apply(\n",
        "    lambda x: 0 if x > 0 else (1 if x == 0 else np.nan)\n",
        ")\n",
        "\n",
        "filtered_df[\"Road_presence\"].value_counts()"
      ]
    },
    {
      "cell_type": "markdown",
      "metadata": {
        "id": "-3Vwws2eUqa8"
      },
      "source": [
        "Built Area Presence"
      ]
    },
    {
      "cell_type": "code",
      "execution_count": null,
      "metadata": {
        "colab": {
          "base_uri": "https://localhost:8080/",
          "height": 271
        },
        "id": "7qH_75JMqLdj",
        "outputId": "55e4a331-91e9-40aa-fdc2-1f113c4cc3c2"
      },
      "outputs": [],
      "source": [
        "filtered_df[\"Built_area_presence\"] = filtered_df[\"built_area_2018\"].apply(\n",
        "    lambda x: 0 if x > 0 else (1 if x == 0 else np.nan)\n",
        ")\n",
        "\n",
        "filtered_df[\"Built_area_presence\"].value_counts()"
      ]
    },
    {
      "cell_type": "markdown",
      "metadata": {
        "id": "43BcqPDY5Bsg"
      },
      "source": [
        "# If Project Geometries Invalid"
      ]
    },
    {
      "cell_type": "code",
      "execution_count": null,
      "metadata": {
        "colab": {
          "base_uri": "https://localhost:8080/",
          "height": 389
        },
        "id": "fDxSY6zsYF-6",
        "outputId": "c79bea45-eb5e-41a3-cf39-7d0dafe6356f"
      },
      "outputs": [],
      "source": [
        "\n",
        "filtered_df['project_geometries_invalid'] = ~filtered_df.geometry.is_valid\n",
        "\n",
        "\n",
        "print(filtered_df['project_geometries_invalid'].value_counts())\n",
        "filtered_df['geometry validity'] = np.where(\n",
        "    filtered_df['project_geometries_invalid'] == False,\n",
        "    1,\n",
        "    0\n",
        ")\n",
        "filtered_df['geometry validity'].value_counts()"
      ]
    },
    {
      "cell_type": "markdown",
      "metadata": {
        "id": "tXi0q8mB2DgB"
      },
      "source": [
        "## Circularity"
      ]
    },
    {
      "cell_type": "code",
      "execution_count": null,
      "metadata": {
        "colab": {
          "base_uri": "https://localhost:8080/",
          "height": 271
        },
        "id": "p_5FV6yv2CLa",
        "outputId": "e9e8542f-be9b-4729-fb54-a9b7592cb44a"
      },
      "outputs": [],
      "source": [
        "\n",
        "filtered_df['perfect_circle_indicator'] = np.where(\n",
        "    filtered_df['Polygon_acircle_oval_95'] == 'No',\n",
        "    1,\n",
        "    0\n",
        ")\n",
        "filtered_df['perfect_circle_indicator'].value_counts()"
      ]
    },
    {
      "cell_type": "markdown",
      "metadata": {
        "id": "tFd0f4rU5xNc"
      },
      "source": [
        "# Exact Admin area"
      ]
    },
    {
      "cell_type": "code",
      "execution_count": null,
      "metadata": {
        "colab": {
          "base_uri": "https://localhost:8080/",
          "height": 271
        },
        "id": "XvhoEJSmvuq4",
        "outputId": "9c41cbbd-b5a3-4bb0-d1f1-0d94f565a383"
      },
      "outputs": [],
      "source": [
        "\n",
        "filtered_df['admin_area_indicator'] = np.where(\n",
        "    filtered_df['exact-admin_area'] == 'No',\n",
        "    1,\n",
        "    0\n",
        ")\n",
        "filtered_df['admin_area_indicator'].value_counts()"
      ]
    },
    {
      "cell_type": "code",
      "execution_count": null,
      "metadata": {
        "id": "1eX270Wf9EV4"
      },
      "outputs": [],
      "source": [
        "\n",
        "score_columns = [\n",
        "     'forest_at_planting_glad',\n",
        "    #  'Change_in_buffer_ndvi',\n",
        "    \"other_landcover_score\",\n",
        "                       'Built_area_presence','Road_presence',\"geometry validity\",'admin_area_indicator','perfect_circle_indicator','Intersecting Polygon','Nesting Polygon'\n",
        "]\n",
        "\n"
      ]
    },
    {
      "cell_type": "code",
      "execution_count": null,
      "metadata": {
        "colab": {
          "base_uri": "https://localhost:8080/"
        },
        "id": "SLiYmJnwBdWo",
        "outputId": "e3b4cd81-a981-460c-89bf-634f3858ed4a"
      },
      "outputs": [],
      "source": [
        "#  Checking if  only Polygon and MultiPolygon geometries\n",
        "filtered_df = filtered_df[filtered_df.geometry.apply(lambda geom: geom.geom_type in [\"Polygon\", \"MultiPolygon\"])]\n",
        "geometry_types = filtered_df.geometry.apply(lambda geom: geom.geom_type)\n",
        "geometry_counts = geometry_types.value_counts()\n",
        "\n",
        "print(geometry_counts)"
      ]
    },
    {
      "cell_type": "code",
      "execution_count": null,
      "metadata": {
        "colab": {
          "base_uri": "https://localhost:8080/",
          "height": 331
        },
        "id": "uPJCnan9CvH7",
        "outputId": "a1ef6d12-eebb-4c1c-abf4-a390b0b7e4a9"
      },
      "outputs": [],
      "source": [
        "\n",
        "\n",
        "\n",
        "filtered_df['quality_score'] = filtered_df[score_columns].sum(axis=1)\n",
        "filtered_df['quality_score'] = filtered_df['quality_score'].round(2)\n",
        "filtered_df.head()\n"
      ]
    },
    {
      "cell_type": "code",
      "execution_count": null,
      "metadata": {
        "colab": {
          "base_uri": "https://localhost:8080/"
        },
        "id": "sXGALO40hXOY",
        "outputId": "f419d8ed-52fe-43ac-c813-cc724f5b51fb"
      },
      "outputs": [],
      "source": [
        "filtered_df.info()"
      ]
    },
    {
      "cell_type": "code",
      "execution_count": null,
      "metadata": {
        "colab": {
          "base_uri": "https://localhost:8080/"
        },
        "id": "5aUGHpU9Efs6",
        "outputId": "301da047-612b-4dd3-c69b-686ab292e8ea"
      },
      "outputs": [],
      "source": [
        "filtered_large_sites = filtered_df[filtered_df[\"site_sqkm\"] >1000]\n",
        "filtered_large_sites.info()"
      ]
    },
    {
      "cell_type": "code",
      "execution_count": null,
      "metadata": {
        "colab": {
          "base_uri": "https://localhost:8080/"
        },
        "id": "t_alqMxc0e-v",
        "outputId": "1d508d7b-e075-471d-be75-a204a844fc2a"
      },
      "outputs": [],
      "source": [
        "print(filtered_df['quality_score'].value_counts())"
      ]
    },
    {
      "cell_type": "code",
      "execution_count": null,
      "metadata": {
        "colab": {
          "base_uri": "https://localhost:8080/",
          "height": 475
        },
        "id": "qNh8qoPJv5GI",
        "outputId": "94f62322-b32c-4966-e953-17cf5b31b1b1"
      },
      "outputs": [],
      "source": [
        "\n",
        "\n",
        "plt.figure(figsize=(8, 5))\n",
        "\n",
        "\n",
        "global_min = 1\n",
        "global_max = 9\n",
        "\n",
        "\n",
        "bins = np.arange(global_min - 0.5, global_max + 1.5, 1)\n",
        "\n",
        "\n",
        "plt.hist(filtered_df['quality_score'], bins=bins, color=\"#08519c\", edgecolor='black', alpha=0.6)\n",
        "\n",
        "# plt.title('Distribution of Quality Scores', fontsize=16)\n",
        "plt.xlabel('LDIS', fontsize=16)\n",
        "plt.ylabel('Frequency', fontsize=16)\n",
        "\n",
        "\n",
        "plt.xlim(global_min - 0.5, global_max + 0.5)\n",
        "plt.xticks(np.arange(global_min, global_max + 1), fontsize=14)\n",
        "\n",
        "plt.yticks(fontsize=14)\n",
        "\n",
        "# plt.grid(axis='y', linestyle='--', alpha=0.7)\n",
        "ax = plt.gca()\n",
        "ax.spines['top'].set_visible(False)\n",
        "ax.spines['right'].set_visible(False)\n",
        "plt.show()\n"
      ]
    },
    {
      "cell_type": "code",
      "execution_count": null,
      "metadata": {
        "id": "fI9B8m4GaUgv"
      },
      "outputs": [],
      "source": [
        "# pip install simplekml"
      ]
    },
    {
      "cell_type": "code",
      "execution_count": null,
      "metadata": {
        "colab": {
          "base_uri": "https://localhost:8080/"
        },
        "id": "qS_uq6MlMFJS",
        "outputId": "12cdc88e-01f1-4554-d53e-e2001686ae00"
      },
      "outputs": [],
      "source": [
        "\n",
        "\n",
        "output_folder = \"/content/drive/MyDrive/Colab Notebooks/kml_files_9verfying_withoutbuffer\"\n",
        "os.makedirs(output_folder, exist_ok=True)\n",
        "\n",
        "for site_name, site_data in filtered_df.groupby(\"site_id_created\"):\n",
        "    kml = simplekml.Kml()\n",
        "\n",
        "    for _, row in site_data.iterrows():\n",
        "        geom = row[\"geometry\"]\n",
        "\n",
        "        if geom.geom_type == \"Polygon\":\n",
        "            pol = kml.newpolygon(\n",
        "                name=str(site_name),\n",
        "                outerboundaryis=[(x, y) for x, y in geom.exterior.coords]\n",
        "            )\n",
        "            pol.style.polystyle.color = simplekml.Color.changealpha(\"00\", simplekml.Color.white)\n",
        "            pol.style.linestyle.color = simplekml.Color.blue\n",
        "            pol.style.linestyle.width = 4  # Adjusting boundary thickness if needed\n",
        "\n",
        "\n",
        "    kml_file_path = os.path.join(output_folder, f\"{site_name}.kml\")\n",
        "    kml.save(kml_file_path)\n",
        "\n",
        "print(f\"KML files saved in '{output_folder}' folder!\")"
      ]
    }
  ],
  "metadata": {
    "accelerator": "TPU",
    "colab": {
      "gpuType": "V28",
      "provenance": []
    },
    "kernelspec": {
      "display_name": "Python 3",
      "name": "python3"
    },
    "language_info": {
      "name": "python"
    }
  },
  "nbformat": 4,
  "nbformat_minor": 0
}
