{
  "cells": [
    {
      "cell_type": "code",
      "execution_count": null,
      "metadata": {
        "id": "U23wlH_kE3xv"
      },
      "outputs": [],
      "source": [
        "import geopandas as gpd\n",
        "import pandas as pd\n",
        "import numpy as np\n",
        "import matplotlib.pyplot as plt\n",
        "import seaborn as sns\n",
        "import os\n",
        "from helper_functions import extract_planting_date,get_nearest_tree_cover,check_intersection\n",
        "file_path = \"../midsave/newest_consolidated_reforestation_projects_with_cicular.parquet\"\n",
        "\n",
        "\n",
        "merged_df= gpd.read_parquet(file_path)\n"
      ]
    },
    {
      "cell_type": "code",
      "execution_count": null,
      "metadata": {
        "id": "7A_5lUtRdNCg"
      },
      "outputs": [],
      "source": [
        "merged_df =merged_df.rename(columns={\n",
        "    \"NDVI_Polygon_atplanting\": \"NDVI_Polygon_At_Planting\",\n",
        "    \"NDVI_Polygon_1yr_before\": \"NDVI_Polygon_1YearBefore\",\n",
        "    \"NDVI_Polygon_1yr_after\": \"NDVI_Polygon_1YearAfter\",\n",
        "    \"NDVI_Polygon_2yr_after\": \"NDVI_Polygon_2YearsAfter\",\n",
        "    \"NDVI_Polygon_5yr_after\": \"NDVI_Polygon_5YearsAfter\",\n",
        "    \"NDVI_Buffer_atplanting\": \"NDVI_Buffer_At_Planting\",\n",
        "    \"NDVI_Buffer_1yr_before\": \"NDVI_Buffer_1YearBefore\",\n",
        "    \"NDVI_Buffer_1yr_after\": \"NDVI_Buffer_1YearAfter\",\n",
        "    \"NDVI_Buffer_2yr_after\": \"NDVI_Buffer_2YearsAfter\",\n",
        "    \"NDVI_Buffer_5yr_after\": \"NDVI_Buffer_5YearsAfter\",\n",
        "      \"NDRE_Polygon_atplanting\": \"NDRE_Polygon_At_Planting\",\n",
        "    \"NDRE_Polygon_1yr_before\": \"NDRE_Polygon_1YearBefore\",\n",
        "    \"NDRE_Polygon_1yr_after\": \"NDRE_Polygon_1YearAfter\",\n",
        "    \"NDRE_Polygon_2yr_after\": \"NDRE_Polygon_2YearsAfter\",\n",
        "    \"NDRE_Polygon_5yr_after\": \"NDRE_Polygon_5YearsAfter\",\n",
        "    \"NDRE_Buffer_atplanting\": \"NDRE_Buffer_At_Planting\",\n",
        "    \"NDRE_Buffer_1yr_before\": \"NDRE_Buffer_1YearBefore\",\n",
        "    \"NDRE_Buffer_1yr_after\": \"NDRE_Buffer_1YearAfter\",\n",
        "    \"NDRE_Buffer_2yr_after\": \"NDRE_Buffer_2YearsAfter\",\n",
        "    \"NDRE_Buffer_5yr_after\": \"NDRE_Buffer_5YearsAfter\",\n",
        "        \"SAVI_Polygon_atplanting\": \"SAVI_Polygon_At_Planting\",\n",
        "    \"SAVI_Polygon_1yr_before\": \"SAVI_Polygon_1YearBefore\",\n",
        "    \"SAVI_Polygon_1yr_after\": \"SAVI_Polygon_1YearAfter\",\n",
        "    \"SAVI_Polygon_2yr_after\": \"SAVI_Polygon_2YearsAfter\",\n",
        "    \"SAVI_Polygon_5yr_after\": \"SAVI_Polygon_5YearsAfter\",\n",
        "    \"SAVI_Buffer_atplanting\": \"SAVI_Buffer_At_Planting\",\n",
        "    \"SAVI_Buffer_1yr_before\": \"SAVI_Buffer_1YearBefore\",\n",
        "    \"SAVI_Buffer_1yr_after\": \"SAVI_Buffer_1YearAfter\",\n",
        "    \"SAVI_Buffer_2yr_after\": \"SAVI_Buffer_2YearsAfter\",\n",
        "    \"SAVI_Buffer_5yr_after\": \"SAVI_Buffer_5YearsAfter\"\n",
        "})"
      ]
    },
    {
      "cell_type": "code",
      "execution_count": null,
      "metadata": {
        "colab": {
          "base_uri": "https://localhost:8080/"
        },
        "id": "bxkGC8f873wA",
        "outputId": "30e6ba2d-d443-4e95-c817-8bc7729da8be"
      },
      "outputs": [],
      "source": [
        "columns_to_check = [\n",
        "    \"NDVI_Polygon_At_Planting\",\n",
        "    \"NDVI_Polygon_1YearAfter\",\n",
        "    \"NDVI_Polygon_2YearsAfter\",\n",
        "    # \"NDVI_Polygon_5YearsAfter\"\n",
        "]\n",
        "\n",
        "filtered_data = merged_df.dropna(subset=columns_to_check)\n",
        "filtered_data.info()"
      ]
    },
    {
      "cell_type": "markdown",
      "metadata": {
        "id": "Cb60Dpopvu1m"
      },
      "source": [
        "### The  columns to consider in the Data quality Framework\n",
        "\n",
        "\n",
        "1. Site_sqkm\n",
        "2. Road presence\n",
        "3. Nested_in\n",
        "4. Intersecting_with\n",
        "5. Built area presence\n",
        "6. Forest at planting\n",
        "7. Presence of other land cover classes\n",
        "8. Administrative area overlap\n",
        "9. Circular shape indicator\n",
        "10. Invalid geometries indicator\n",
        "11. Elevation Indicator\n",
        "11. Buffer change and polygon area change difference\n",
        "\n",
        "\n"
      ]
    },
    {
      "cell_type": "code",
      "execution_count": null,
      "metadata": {
        "colab": {
          "base_uri": "https://localhost:8080/"
        },
        "id": "iCsYbYfrUwey",
        "outputId": "15e1c2b9-3526-45f1-a9a8-6d27d2bcda0d"
      },
      "outputs": [],
      "source": [
        "\n",
        "merged_data=merged_df.copy()\n",
        "\n",
        "\n",
        "\n",
        "merged_data['planting_date_reported'] = merged_data['planting_date_reported'].apply(extract_planting_date)\n",
        "\n",
        "\n",
        "merged_data['planting_date_reported'] = pd.to_datetime(merged_data['planting_date_reported'], errors='coerce', utc=True)\n",
        "\n",
        "\n",
        "merged_data['PlantingYear'] = merged_data['planting_date_reported'].dt.year\n",
        "\n",
        "merged_data.info()\n"
      ]
    },
    {
      "cell_type": "code",
      "execution_count": null,
      "metadata": {
        "colab": {
          "base_uri": "https://localhost:8080/",
          "height": 342
        },
        "id": "XGxgb8szSNWl",
        "outputId": "350a89b2-932a-4962-9e78-529b3ba042a7"
      },
      "outputs": [],
      "source": [
        "years = [2000, 2005, 2010, 2015, 2020]\n",
        "\n",
        "\n",
        "\n",
        "\n",
        "merged_data['treecover_atplanting'] = merged_data.apply(get_nearest_tree_cover, axis=1)\n",
        "\n",
        "merged_data.head()\n"
      ]
    },
    {
      "cell_type": "code",
      "execution_count": null,
      "metadata": {
        "colab": {
          "base_uri": "https://localhost:8080/"
        },
        "id": "iBq-7MeIzFxD",
        "outputId": "2dd9083e-83d5-43e8-8962-9b9f1c3d52f4"
      },
      "outputs": [],
      "source": [
        "# Selecting the  specific quality assessment columns\n",
        "columns_of_interest = ['site_id_created','site_id_reported','project_id_reported','site_sqkm','trees_planted_reported','Intersecting_with','Nested_in','built_area_2018','total_road_length_km',\"loss_post_3\",\n",
        "                       \"loss_post_5\",\"loss_pre_5\",\"planting_date_reported\",\"other_land_cover_area_2020\",\n",
        "                       'treecover_atplanting',\"mean_elevation\",\n",
        "                       \"geometry\",\"Polygon_acircle_oval_95\",\"exact-admin_area\"\n",
        "\n",
        "                       ]\n",
        "filtered_df = merged_data[columns_of_interest]\n",
        "filtered_df.info()"
      ]
    },
    {
      "cell_type": "markdown",
      "metadata": {
        "id": "Pa1XC9Xd3_jN"
      },
      "source": [
        "\n",
        "\n",
        "# Intersecting and nested polygons to identify quality,completeness of the  Data"
      ]
    },
    {
      "cell_type": "code",
      "execution_count": null,
      "metadata": {
        "colab": {
          "base_uri": "https://localhost:8080/"
        },
        "id": "xM2E_kAJHr6K",
        "outputId": "b529575f-ec42-4909-8c67-45aeda20a695"
      },
      "outputs": [],
      "source": [
        "# Extracting nested values and handle conversions safely\n",
        "nested_values = set()\n",
        "for val in filtered_df['Nested_in'].dropna():\n",
        "    nested_values.update(map(str.strip, str(val).split(',')))\n",
        "\n",
        "\n",
        "converted_nested = set()\n",
        "for value in nested_values:\n",
        "    try:\n",
        "\n",
        "        converted_value = str(int(float(value)))\n",
        "        converted_nested.add(converted_value)\n",
        "    except ValueError:\n",
        "\n",
        "        pass\n",
        "\n",
        "\n",
        "filtered_df['Contains_small_polygon'] = filtered_df['site_id_created'].astype(str).apply(\n",
        "    lambda x: 'Yes' if x in converted_nested else 'No'\n",
        ")\n",
        "\n",
        "print(filtered_df['Contains_small_polygon'].value_counts())"
      ]
    },
    {
      "cell_type": "code",
      "execution_count": null,
      "metadata": {
        "colab": {
          "base_uri": "https://localhost:8080/",
          "height": 386
        },
        "id": "La6jxGDZWimo",
        "outputId": "87c06c27-e8db-4bfc-9c3b-620249a1d96d"
      },
      "outputs": [],
      "source": [
        "\n",
        "\n",
        "filtered_df['Intersecting Polygon'] = filtered_df['Intersecting_with'].apply(check_intersection)\n",
        "\n",
        "# Not nesting other polygon allocate 1 else 0\n",
        "filtered_df['Nesting Polygon'] = np.where(\n",
        "    filtered_df['Contains_small_polygon'] == 'No',\n",
        "    1,\n",
        "    0\n",
        ")\n",
        "filtered_df['Intersecting Polygon'].value_counts()"
      ]
    },
    {
      "cell_type": "markdown",
      "metadata": {
        "id": "UUMpRitVb5Ga"
      },
      "source": [
        "\n",
        "# Presence of Forest at Planting\n",
        "Presence of vegetation at planting date either missed planting date or missed geometry boundaries"
      ]
    },
    {
      "cell_type": "code",
      "execution_count": null,
      "metadata": {
        "colab": {
          "base_uri": "https://localhost:8080/",
          "height": 282
        },
        "id": "9XMJJYbI6RLS",
        "outputId": "6df175be-58ea-4b20-cea6-6f6d3a14ccfb"
      },
      "outputs": [],
      "source": [
        "filtered_df[\"forest_at_planting_glad\"] = np.where(\n",
        "    filtered_df[\"treecover_atplanting\"].isna(),\n",
        "    np.nan,\n",
        "    np.where(\n",
        "        filtered_df[\"treecover_atplanting\"] >= 0.2 * filtered_df[\"site_sqkm\"],\n",
        "        0,\n",
        "        1\n",
        "    )\n",
        ")\n",
        "filtered_df[\"forest_at_planting_glad\"].value_counts()\n"
      ]
    },
    {
      "cell_type": "markdown",
      "metadata": {
        "id": "evIhdOWg4mxY"
      },
      "source": [
        "# Presence Other Landcover Score"
      ]
    },
    {
      "cell_type": "code",
      "execution_count": null,
      "metadata": {
        "colab": {
          "base_uri": "https://localhost:8080/",
          "height": 282
        },
        "id": "icEmu1txiLfE",
        "outputId": "03022b6a-0076-4340-9138-2ff392d24887"
      },
      "outputs": [],
      "source": [
        "\n",
        "filtered_df['other_landcover_score'] = np.select(\n",
        "    [\n",
        "        filtered_df['other_land_cover_area_2020'].isna(),\n",
        "\n",
        "        filtered_df['other_land_cover_area_2020'] >= 0.2 * filtered_df['site_sqkm']  # If it's at least 10% of site_sqkm, return 0\n",
        "    ],\n",
        "    [\n",
        "\n",
        "        np.nan,\n",
        "        0\n",
        "    ],\n",
        "    default=1  # Else, return 1\n",
        ")\n",
        "filtered_df['other_landcover_score'].value_counts()\n"
      ]
    },
    {
      "cell_type": "markdown",
      "metadata": {
        "id": "UxFAiZnDBPkY"
      },
      "source": [
        "# Infrastructure Presence\n",
        "Roads and built area"
      ]
    },
    {
      "cell_type": "code",
      "execution_count": null,
      "metadata": {
        "colab": {
          "base_uri": "https://localhost:8080/",
          "height": 282
        },
        "id": "C_mE-zmcqvw1",
        "outputId": "3716c916-97a3-4514-cdb4-ee52ca7056db"
      },
      "outputs": [],
      "source": [
        "filtered_df[\"Road_presence\"] = filtered_df[\"total_road_length_km\"].apply(\n",
        "    lambda x: 0 if x > 0 else (1 if x == 0 else np.nan)\n",
        ")\n",
        "\n",
        "filtered_df[\"Road_presence\"].value_counts()"
      ]
    },
    {
      "cell_type": "markdown",
      "metadata": {
        "id": "-3Vwws2eUqa8"
      },
      "source": [
        "Built Area Presence"
      ]
    },
    {
      "cell_type": "code",
      "execution_count": null,
      "metadata": {
        "colab": {
          "base_uri": "https://localhost:8080/",
          "height": 282
        },
        "id": "BT8DNUn2yIQm",
        "outputId": "b576e43e-52ae-490d-e15a-948b5136092c"
      },
      "outputs": [],
      "source": [
        "\n",
        "ratio = filtered_df[\"built_area_2018\"] / filtered_df[\"site_sqkm\"]\n",
        "\n",
        "filtered_df[\"Built_area_presence\"] = np.where(\n",
        "    filtered_df[\"built_area_2018\"].isna() | filtered_df[\"site_sqkm\"].isna(),  # Checking for NaN\n",
        "    np.nan,  # Assigning NaN if either value is missing\n",
        "    np.where(ratio >= 0.10, 0, 1)  # 0 if ≥10%, 1 otherwise\n",
        ")\n",
        "\n",
        "\n",
        "filtered_df[\"Built_area_presence\"].value_counts()"
      ]
    },
    {
      "cell_type": "markdown",
      "metadata": {
        "id": "43BcqPDY5Bsg"
      },
      "source": [
        "# If Project Geometries Invalid"
      ]
    },
    {
      "cell_type": "code",
      "execution_count": null,
      "metadata": {
        "colab": {
          "base_uri": "https://localhost:8080/",
          "height": 407
        },
        "id": "fDxSY6zsYF-6",
        "outputId": "a56c1ccc-2c82-47cb-f2b1-05dc4e9b32a2"
      },
      "outputs": [],
      "source": [
        "\n",
        "filtered_df['project_geometries_invalid'] = ~filtered_df.geometry.is_valid\n",
        "\n",
        "\n",
        "print(filtered_df['project_geometries_invalid'].value_counts())\n",
        "filtered_df['geometry validity'] = np.where(\n",
        "    filtered_df['project_geometries_invalid'] == False,\n",
        "    1,\n",
        "    0\n",
        ")\n",
        "filtered_df['geometry validity'].value_counts()"
      ]
    },
    {
      "cell_type": "markdown",
      "metadata": {
        "id": "tXi0q8mB2DgB"
      },
      "source": [
        "## Circularity"
      ]
    },
    {
      "cell_type": "code",
      "execution_count": null,
      "metadata": {
        "colab": {
          "base_uri": "https://localhost:8080/",
          "height": 282
        },
        "id": "p_5FV6yv2CLa",
        "outputId": "399483ec-fb4e-4611-e762-c47681625c42"
      },
      "outputs": [],
      "source": [
        "\n",
        "filtered_df['perfect_circle_indicator'] = np.where(\n",
        "    filtered_df['Polygon_acircle_oval_95'] == 'No',\n",
        "    1,\n",
        "    0\n",
        ")\n",
        "filtered_df['perfect_circle_indicator'].value_counts()"
      ]
    },
    {
      "cell_type": "markdown",
      "metadata": {
        "id": "tFd0f4rU5xNc"
      },
      "source": [
        "# Exact Admin area"
      ]
    },
    {
      "cell_type": "code",
      "execution_count": null,
      "metadata": {
        "colab": {
          "base_uri": "https://localhost:8080/",
          "height": 282
        },
        "id": "XvhoEJSmvuq4",
        "outputId": "dbea8864-fe17-483e-cb2a-5705418bf17a"
      },
      "outputs": [],
      "source": [
        "\n",
        "filtered_df['admin_area_indicator'] = np.where(\n",
        "    filtered_df['exact-admin_area'] == 'No',\n",
        "    1,\n",
        "    0\n",
        ")\n",
        "filtered_df['admin_area_indicator'].value_counts()"
      ]
    },
    {
      "cell_type": "markdown",
      "metadata": {
        "id": "6zrVimGmhHSq"
      },
      "source": [
        "## Elevation Indicator"
      ]
    },
    {
      "cell_type": "code",
      "execution_count": null,
      "metadata": {
        "colab": {
          "base_uri": "https://localhost:8080/",
          "height": 282
        },
        "id": "-RQ6FJu2F5YY",
        "outputId": "f98f0b4e-9d0b-40f4-eccd-bae5c4fe70e0"
      },
      "outputs": [],
      "source": [
        "threshold = 1500\n",
        "filtered_df['Elevation_indicator'] = filtered_df[\"mean_elevation\"].apply(lambda x: 1 if x < threshold else 0)\n",
        "filtered_df['Elevation_indicator'].value_counts()"
      ]
    },
    {
      "cell_type": "code",
      "execution_count": null,
      "metadata": {
        "id": "1eX270Wf9EV4"
      },
      "outputs": [],
      "source": [
        "\n",
        "score_columns = [\n",
        "     'forest_at_planting_glad',\n",
        "     # \"Elevation_indicator\",\n",
        "     \"other_landcover_score\",'Built_area_presence','Road_presence',\"geometry validity\",'admin_area_indicator','perfect_circle_indicator','Intersecting Polygon','Nesting Polygon'\n",
        "]\n",
        "\n"
      ]
    },
    {
      "cell_type": "code",
      "execution_count": null,
      "metadata": {
        "colab": {
          "base_uri": "https://localhost:8080/",
          "height": 342
        },
        "id": "uPJCnan9CvH7",
        "outputId": "0a055adb-ab2a-4ced-fa7e-2b7125207dea"
      },
      "outputs": [],
      "source": [
        "\n",
        "\n",
        "\n",
        "filtered_df['quality_score'] = filtered_df[score_columns].sum(axis=1)\n",
        "filtered_df['quality_score'] = filtered_df['quality_score'].round(2)\n",
        "filtered_df.head()\n"
      ]
    },
    {
      "cell_type": "code",
      "execution_count": null,
      "metadata": {
        "colab": {
          "base_uri": "https://localhost:8080/"
        },
        "id": "5aUGHpU9Efs6",
        "outputId": "405599bf-b65a-4eb0-934e-ec8ca38a9eed"
      },
      "outputs": [],
      "source": [
        "filtered_large_sites = filtered_df[filtered_df[\"site_sqkm\"]<=5]\n",
        "filtered_large_sites.info()"
      ]
    },
    {
      "cell_type": "code",
      "execution_count": null,
      "metadata": {
        "colab": {
          "base_uri": "https://localhost:8080/",
          "height": 476
        },
        "id": "qNh8qoPJv5GI",
        "outputId": "20798bc7-67d8-4fe3-c6f6-7a415d371e6f"
      },
      "outputs": [],
      "source": [
        "#visualizing the distribution of quality scores\n",
        "\n",
        "plt.figure(figsize=(8, 5))\n",
        "\n",
        "\n",
        "global_min = 1\n",
        "global_max = 9\n",
        "\n",
        "\n",
        "bins = np.arange(global_min - 0.5, global_max + 1.5, 1)\n",
        "\n",
        "\n",
        "plt.hist(filtered_large_sites['quality_score'], bins=bins, color=\"#08519c\", edgecolor='black', alpha=0.6)\n",
        "\n",
        "# plt.title('Distribution of Quality Scores', fontsize=16)\n",
        "plt.xlabel('LDIS', fontsize=16)\n",
        "plt.ylabel('Frequency', fontsize=16)\n",
        "\n",
        "\n",
        "plt.xlim(global_min - 0.5, global_max + 0.5)\n",
        "plt.xticks(np.arange(global_min, global_max + 1), fontsize=14)\n",
        "\n",
        "plt.yticks(fontsize=14)\n",
        "\n",
        "# plt.grid(axis='y', linestyle='--', alpha=0.7)\n",
        "ax = plt.gca()\n",
        "ax.spines['top'].set_visible(False)\n",
        "ax.spines['right'].set_visible(False)\n",
        "plt.show()\n"
      ]
    }
  ],
  "metadata": {
    "accelerator": "TPU",
    "colab": {
      "gpuType": "V28",
      "provenance": []
    },
    "kernelspec": {
      "display_name": "Python 3",
      "name": "python3"
    },
    "language_info": {
      "name": "python"
    }
  },
  "nbformat": 4,
  "nbformat_minor": 0
}
