{
 "cells": [
  {
   "cell_type": "markdown",
   "metadata": {},
   "source": [
    "### Climate data Extraction\n",
    "1.Download raster  data for precipitation to Pc from https://www.worldclim.org/\n",
    "\n",
    "2.Overlay polygons and extract rainfall from the centoid pixel of each polygon(Site)"
   ]
  },
  {
   "cell_type": "markdown",
   "metadata": {},
   "source": [
    "### Precipitation extraction"
   ]
  },
  {
   "cell_type": "code",
   "execution_count": null,
   "metadata": {},
   "outputs": [],
   "source": [
    "import geopandas as gpd\n",
    "from helper_functions import extract_year,process_climate_variable"
   ]
  },
  {
   "cell_type": "code",
   "execution_count": null,
   "metadata": {},
   "outputs": [],
   "source": [
    "geojson_path = \"../input/Updated_Reforestation_Data.geojson\"\n",
    "combined_output_path = \"../input/Updated_Reforestation_Data.geojson\"\n",
    "gdf = gpd.read_file(geojson_path)\n",
    "\n",
    "process_climate_variable(gdf, \"../climate_tmin/\", \"../input/tmin_output\", combined_output_path, \"tmin\")\n",
    "process_climate_variable(gdf, \"../climate_tmax/\", \"../input/tmax_output\", combined_output_path, \"tmax\")\n",
    "process_climate_variable(gdf, \"../climate_precipitation/\", \"../input/precipitation_output\", combined_output_path, \"precipitation\")\n"
   ]
  },
  {
   "cell_type": "markdown",
   "metadata": {},
   "source": [
    "### Maximum and Minimum Temperatuture \n",
    "1.Download raster  data for tmax(Maximum Temperature) and tmin (Minimum Temperature) 2.5  to Pc from https://www.worldclim.org/\n",
    "2.Overlay polygons and extract rainfall from the centoid pixel of each polygon(Site)"
   ]
  }
 ],
 "metadata": {
  "language_info": {
   "name": "python"
  }
 },
 "nbformat": 4,
 "nbformat_minor": 2
}
