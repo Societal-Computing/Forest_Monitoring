{
 "cells": [
  {
   "cell_type": "markdown",
   "metadata": {},
   "source": [
    "Extracting data from https://www.reforestaction.com/en/projects?category=FOLLOW_UP"
   ]
  },
  {
   "cell_type": "code",
   "execution_count": null,
   "metadata": {},
   "outputs": [],
   "source": [
    "\n",
    "import json\n",
    "import pandas as pd\n",
    "\n",
    "with open('../input/Reforestaction/data.json', 'r') as file:\n",
    "    data = json.load(file)\n",
    "\n",
    "print(type(data))\n",
    "\n",
    "\n",
    "print(data[0])\n",
    "\n",
    "\n",
    "if isinstance(data, list) and isinstance(data[0], dict):\n",
    "    ref_df = pd.DataFrame(data)\n",
    "    ref_df.info()"
   ]
  },
  {
   "cell_type": "code",
   "execution_count": null,
   "metadata": {},
   "outputs": [],
   "source": [
    "ref_df['coordinates'] = ref_df.apply(lambda row: (row['attributes.centroidLongitude'], row['attributes.centroidLatitude']), axis=1)\n",
    "\n",
    "ref_df.head()"
   ]
  },
  {
   "cell_type": "code",
   "execution_count": null,
   "metadata": {},
   "outputs": [],
   "source": [
    "# Renaming the columns to follow our naming format in the paper columns section\n",
    "columns_rename_mapping = {\n",
    "    'id': 'project_id_reported',\n",
    "    'attributes.externalId':'site_id_reported',\n",
    "    'coordinates': 'geometry_reported',\n",
    "   \n",
    "    #'survivalRate': 'survival_rate_reported',\n",
    "}\n",
    "\n",
    "ref_df = ref_df[list(columns_rename_mapping.keys())]\n",
    "\n",
    "\n",
    "ref_df.rename(columns=columns_rename_mapping, inplace=True)"
   ]
  },
  {
   "cell_type": "code",
   "execution_count": null,
   "metadata": {},
   "outputs": [],
   "source": [
    "ref_df = ref_df.assign(description_reported=None,site_sqkm=None,species_count_reported=None, species_planted_reported=None, survival_rate_reported=None,trees_planted_reported=None,planting_date_reported=None,country=None)\n",
    "ref_df.info()"
   ]
  },
  {
   "cell_type": "code",
   "execution_count": null,
   "metadata": {},
   "outputs": [],
   "source": [
    "ref_df.to_csv('../input/Reforestaction/Reforestaction.csv', index=False)"
   ]
  }
 ],
 "metadata": {
  "language_info": {
   "name": "python"
  }
 },
 "nbformat": 4,
 "nbformat_minor": 2
}
