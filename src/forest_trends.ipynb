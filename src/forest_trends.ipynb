{
 "cells": [
  {
   "cell_type": "markdown",
   "metadata": {},
   "source": [
    "# Forest trends\n",
    "https://www.forest-trends.org/project-list/"
   ]
  },
  {
   "cell_type": "code",
   "execution_count": null,
   "metadata": {},
   "outputs": [],
   "source": [
    "import json\n",
    "import requests\n",
    "import pandas as pd\n",
    "import geopandas as gpd\n",
    "from shapely.geometry import Point\n",
    "from bs4 import BeautifulSoup\n",
    "from tqdm import tqdm"
   ]
  },
  {
   "cell_type": "markdown",
   "metadata": {},
   "source": [
    "Helper functions"
   ]
  },
  {
   "cell_type": "code",
   "execution_count": null,
   "metadata": {},
   "outputs": [],
   "source": [
    "def get_text(soup, class_name, default=\"\"):\n",
    "    \"\"\"Extracts text from an element, returns default if not found.\"\"\"\n",
    "    element = soup.find(class_=class_name)\n",
    "    return element.get_text(strip=True).replace(f\"{class_name.replace('p', '').capitalize()}:\", \"\").strip() if element else default\n",
    "\n",
    "def get_subcontact_text(soup, label):\n",
    "    \"\"\"Finds contact details like Name, Organization, etc.\"\"\"\n",
    "    element = soup.find(\"div\", class_=\"subcontact\", string=lambda t: t and label in t)\n",
    "    return element.get_text(strip=True).replace(label, \"\").strip() if element else \"\"\n"
   ]
  },
  {
   "cell_type": "markdown",
   "metadata": {},
   "source": [
    "Get project list"
   ]
  },
  {
   "cell_type": "code",
   "execution_count": null,
   "metadata": {},
   "outputs": [],
   "source": [
    "url = \"https://www.forest-trends.org/wp-content/themes/foresttrends/map_tools/project_fetch.php?ids=\"\n",
    "response = requests.get(url).json()"
   ]
  },
  {
   "cell_type": "code",
   "execution_count": null,
   "metadata": {},
   "outputs": [],
   "source": [
    "projects = pd.json_normalize(response['markers'], sep='_')"
   ]
  },
  {
   "cell_type": "markdown",
   "metadata": {},
   "source": [
    "Get additional descriptions"
   ]
  },
  {
   "cell_type": "code",
   "execution_count": null,
   "metadata": {},
   "outputs": [],
   "source": [
    "sites = pd.DataFrame()\n",
    "for site in tqdm(projects.pid.unique().tolist()):\n",
    "    \n",
    "    url = f'https://www.forest-trends.org/wp-content/themes/foresttrends/map_tools/project_fetch_single.php?pid={site}'\n",
    "    response = requests.get(url)\n",
    "\n",
    "    if response.status_code == 200:\n",
    "        soup = BeautifulSoup(response.json()['html'], 'html.parser')\n",
    "        data = {\n",
    "            \"Size\": get_text(soup, \"psize\"),\n",
    "            \"Status\": get_text(soup, \"pstatus\"),\n",
    "            \"Description\": get_text(soup, \"pdescription\"),\n",
    "            \"Objective\": get_text(soup, \"pobjective\"),\n",
    "            \"Interventions\": \", \".join([li.get_text(strip=True) for li in soup.select('.pinterventions ul li')]) if soup.select('.pinterventions ul li') else \"\",\n",
    "            \"Market Mechanism\": get_text(soup, \"pmarketmechanism\"),\n",
    "            \"Contact Name\": get_subcontact_text(soup, \"Name:\"),\n",
    "            \"Contact Organization\": get_subcontact_text(soup, \"Organization:\"),\n",
    "            \"Contact Email\": soup.find(\"a\", href=lambda h: h and h.startswith(\"mailto:\")).get_text(strip=True) if soup.find(\"a\", href=lambda h: h and h.startswith(\"mailto:\")) else \"\",\n",
    "            \"Contact URL\": soup.find(\"a\", href=lambda h: h and h.startswith(\"http\")).get_text(strip=True) if soup.find(\"a\", href=lambda h: h and h.startswith(\"http\")) else \"\"\n",
    "        }\n",
    "        temp = pd.DataFrame([data])\n",
    "        temp['pid'] = site\n",
    "        sites = pd.concat([sites, temp], ignore_index=True)"
   ]
  },
  {
   "cell_type": "code",
   "execution_count": null,
   "metadata": {},
   "outputs": [],
   "source": [
    "df = projects.merge(sites, on = 'pid', how = 'left')"
   ]
  },
  {
   "cell_type": "code",
   "execution_count": null,
   "metadata": {},
   "outputs": [],
   "source": [
    "df[\"site_sqkm_reported\"] = pd.to_numeric(df[\"Size\"].str.replace(\" ha\", \"\", regex=False), errors=\"coerce\") / 100"
   ]
  },
  {
   "cell_type": "code",
   "execution_count": null,
   "metadata": {},
   "outputs": [],
   "source": [
    "df['country'] = df['location'].astype(str).apply(lambda x: x.split(\",\")[-1].strip() if isinstance(x, str) else x)"
   ]
  },
  {
   "cell_type": "markdown",
   "metadata": {},
   "source": [
    "Limit to af- and reforestation projects"
   ]
  },
  {
   "cell_type": "code",
   "execution_count": null,
   "metadata": {},
   "outputs": [],
   "source": [
    "df = df.query(\"Interventions.str.contains('Afforestation or reforestation')\")"
   ]
  },
  {
   "cell_type": "markdown",
   "metadata": {},
   "source": [
    "### Fix geometries"
   ]
  },
  {
   "cell_type": "code",
   "execution_count": null,
   "metadata": {},
   "outputs": [],
   "source": [
    "df['geometry'] = df.apply(lambda row: Point(row['lng'], row['lat']), axis=1)"
   ]
  },
  {
   "cell_type": "code",
   "execution_count": null,
   "metadata": {},
   "outputs": [],
   "source": [
    "gdf = gpd.GeoDataFrame(df, geometry='geometry', crs = 'EPSG:4326')"
   ]
  },
  {
   "cell_type": "code",
   "execution_count": null,
   "metadata": {},
   "outputs": [],
   "source": [
    "invalid_geom = False\n",
    "\n",
    "if len(gdf[gdf.geometry.is_valid == False]) > 0:\n",
    "    invalid_geom = True"
   ]
  },
  {
   "cell_type": "code",
   "execution_count": null,
   "metadata": {},
   "outputs": [],
   "source": [
    "gdf['geometry'] = gdf['geometry'].make_valid()"
   ]
  },
  {
   "cell_type": "markdown",
   "metadata": {},
   "source": [
    "### Harmonize nomenclature"
   ]
  },
  {
   "cell_type": "code",
   "execution_count": null,
   "metadata": {},
   "outputs": [],
   "source": [
    "# Renaming the columns to follow our naming format in the paper columns section\n",
    "columns_rename_mapping = {\n",
    "    'pid': 'project_id_reported',\n",
    "    'geometry': 'geometry',\n",
    "    'site_sqkm_reported':'site_sqkm_reported',\n",
    "    'Description': 'project_description_reported',\n",
    "    'country': 'country'\n",
    "}\n",
    "gdf = gdf[list(columns_rename_mapping.keys())]\n",
    "gdf.rename(columns=columns_rename_mapping, inplace=True)"
   ]
  },
  {
   "cell_type": "code",
   "execution_count": null,
   "metadata": {},
   "outputs": [],
   "source": [
    "gdf['host_name'] = 'Forest Trends'\n",
    "gdf['url'] = 'https://www.forest-trends.org/wp-content/themes/foresttrends/map_tools/project_fetch_single.php?pid=' + gdf.project_id_reported\n",
    "gdf['project_geometries_invalid'] = invalid_geom"
   ]
  },
  {
   "cell_type": "code",
   "execution_count": null,
   "metadata": {},
   "outputs": [],
   "source": [
    "gdf =gdf.assign(site_sqkm=None,species_count_reported=None, species_planted_reported=None, survival_rate_reported=None,trees_planted_reported=None,site_id_reported=None,planting_date_reported=None)\n",
    "gdf.info()"
   ]
  },
  {
   "cell_type": "markdown",
   "metadata": {},
   "source": [
    "### Save it"
   ]
  },
  {
   "cell_type": "code",
   "execution_count": null,
   "metadata": {},
   "outputs": [],
   "source": [
    "gdf.to_file('../midsave/forest_trends.gpkg')"
   ]
  }
 ],
 "metadata": {
  "kernelspec": {
   "display_name": "Python 3 (ipykernel)",
   "language": "python",
   "name": "python3"
  },
  "language_info": {
   "codemirror_mode": {
    "name": "ipython",
    "version": 3
   },
   "file_extension": ".py",
   "mimetype": "text/x-python",
   "name": "python",
   "nbconvert_exporter": "python",
   "pygments_lexer": "ipython3",
   "version": "3.12.4"
  }
 },
 "nbformat": 4,
 "nbformat_minor": 4
}
