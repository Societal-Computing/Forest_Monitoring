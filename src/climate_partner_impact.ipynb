{
 "cells": [
  {
   "cell_type": "markdown",
   "metadata": {},
   "source": [
    "Extract data from https://www.climateimpact.com"
   ]
  },
  {
   "cell_type": "code",
   "execution_count": 1,
   "metadata": {},
   "outputs": [
    {
     "name": "stdout",
     "output_type": "stream",
     "text": [
      "<class 'list'>\n",
      "{'id': 'omper396lw3gxwq0', 'type': 'Feature', 'geometry_type': 'Point', 'geometry_coordinates': [[25.2555, -32.8334]], 'properties_id': 'omper396lw3gxwq0', 'properties_name': 'Somerset East Spekboom Restoration', 'properties_slug': 'cpi2301', 'properties_type': 'project', 'properties_image': 'YFs3KVkT5wyLQp2XALcDPjv9MuhpUa4sPmlQbUXo.jpg', 'properties_region': 'Eastern Cape', 'properties_countries': [['South Africa']], 'properties_activity_type': [['Restoration']]}\n",
      "<class 'pandas.core.frame.DataFrame'>\n",
      "RangeIndex: 7 entries, 0 to 6\n",
      "Data columns (total 12 columns):\n",
      " #   Column                    Non-Null Count  Dtype \n",
      "---  ------                    --------------  ----- \n",
      " 0   id                        7 non-null      object\n",
      " 1   type                      7 non-null      object\n",
      " 2   geometry_type             7 non-null      object\n",
      " 3   geometry_coordinates      7 non-null      object\n",
      " 4   properties_id             7 non-null      object\n",
      " 5   properties_name           7 non-null      object\n",
      " 6   properties_slug           7 non-null      object\n",
      " 7   properties_type           7 non-null      object\n",
      " 8   properties_image          7 non-null      object\n",
      " 9   properties_region         7 non-null      object\n",
      " 10  properties_countries      7 non-null      object\n",
      " 11  properties_activity_type  7 non-null      object\n",
      "dtypes: object(12)\n",
      "memory usage: 800.0+ bytes\n"
     ]
    }
   ],
   "source": [
    "import json\n",
    "import pandas as pd\n",
    "with open('../input/ClimatePartnerImpact/projects_data.json', 'r') as file:\n",
    "    data = json.load(file)\n",
    "\n",
    "print(type(data))\n",
    "\n",
    "\n",
    "print(data[0])\n",
    "\n",
    "\n",
    "if isinstance(data, list) and isinstance(data[0], dict):\n",
    "    cp_df = pd.DataFrame(data)\n",
    "    cp_df.info()"
   ]
  },
  {
   "cell_type": "code",
   "execution_count": 2,
   "metadata": {},
   "outputs": [
    {
     "data": {
      "text/html": [
       "<div>\n",
       "<style scoped>\n",
       "    .dataframe tbody tr th:only-of-type {\n",
       "        vertical-align: middle;\n",
       "    }\n",
       "\n",
       "    .dataframe tbody tr th {\n",
       "        vertical-align: top;\n",
       "    }\n",
       "\n",
       "    .dataframe thead th {\n",
       "        text-align: right;\n",
       "    }\n",
       "</style>\n",
       "<table border=\"1\" class=\"dataframe\">\n",
       "  <thead>\n",
       "    <tr style=\"text-align: right;\">\n",
       "      <th></th>\n",
       "      <th>id</th>\n",
       "      <th>type</th>\n",
       "      <th>geometry_type</th>\n",
       "      <th>geometry_coordinates</th>\n",
       "      <th>properties_id</th>\n",
       "      <th>properties_name</th>\n",
       "      <th>properties_slug</th>\n",
       "      <th>properties_type</th>\n",
       "      <th>properties_image</th>\n",
       "      <th>properties_region</th>\n",
       "      <th>properties_countries</th>\n",
       "      <th>properties_activity_type</th>\n",
       "    </tr>\n",
       "  </thead>\n",
       "  <tbody>\n",
       "    <tr>\n",
       "      <th>0</th>\n",
       "      <td>omper396lw3gxwq0</td>\n",
       "      <td>Feature</td>\n",
       "      <td>Point</td>\n",
       "      <td>[[25.2555, -32.8334]]</td>\n",
       "      <td>omper396lw3gxwq0</td>\n",
       "      <td>Somerset East Spekboom Restoration</td>\n",
       "      <td>cpi2301</td>\n",
       "      <td>project</td>\n",
       "      <td>YFs3KVkT5wyLQp2XALcDPjv9MuhpUa4sPmlQbUXo.jpg</td>\n",
       "      <td>Eastern Cape</td>\n",
       "      <td>[[South Africa]]</td>\n",
       "      <td>[[Restoration]]</td>\n",
       "    </tr>\n",
       "    <tr>\n",
       "      <th>1</th>\n",
       "      <td>g0drw38lmmjx4z9q</td>\n",
       "      <td>Feature</td>\n",
       "      <td>Point</td>\n",
       "      <td>[[29.6963, -2.1423]]</td>\n",
       "      <td>g0drw38lmmjx4z9q</td>\n",
       "      <td>Rwanda Bamboo River Restoration</td>\n",
       "      <td>cpi2207</td>\n",
       "      <td>project</td>\n",
       "      <td>sCEOaHMQkFtuiXjR7Q2Ke8puX9pPrJCyqLorQmq0.jpg</td>\n",
       "      <td>Muhanga, Ruhango &amp; Karongi</td>\n",
       "      <td>[[Rwanda]]</td>\n",
       "      <td>[[Restoration]]</td>\n",
       "    </tr>\n",
       "    <tr>\n",
       "      <th>2</th>\n",
       "      <td>ln5pa3mml739ogex</td>\n",
       "      <td>Feature</td>\n",
       "      <td>Point</td>\n",
       "      <td>[[26.3263, -33.2508]]</td>\n",
       "      <td>ln5pa3mml739ogex</td>\n",
       "      <td>Mahkanda Spekboom Restoration</td>\n",
       "      <td>cpi2203</td>\n",
       "      <td>project</td>\n",
       "      <td>icVp9uj48DKUSjliX2dPQUmKTUDPVz9JyYRVIYYf.jpg</td>\n",
       "      <td>Eastern Cape</td>\n",
       "      <td>[[South Africa]]</td>\n",
       "      <td>[[Restoration]]</td>\n",
       "    </tr>\n",
       "    <tr>\n",
       "      <th>3</th>\n",
       "      <td>wermv3llmd36koql</td>\n",
       "      <td>Feature</td>\n",
       "      <td>Point</td>\n",
       "      <td>[[85.5019, 23.0209]]</td>\n",
       "      <td>wermv3llmd36koql</td>\n",
       "      <td>East India Tasar Afforestation</td>\n",
       "      <td>cpi2209</td>\n",
       "      <td>project</td>\n",
       "      <td>C3WduX0jsTP3xILKpdH2ZGfGdhYlilIgWV6iEJHg.jpg</td>\n",
       "      <td>Simdega &amp; Purulia</td>\n",
       "      <td>[[India]]</td>\n",
       "      <td>[[Plantation Forestry]]</td>\n",
       "    </tr>\n",
       "    <tr>\n",
       "      <th>4</th>\n",
       "      <td>q4d7myr9gkya6kzx</td>\n",
       "      <td>Feature</td>\n",
       "      <td>Point</td>\n",
       "      <td>[[-0.8182, 6.8247]]</td>\n",
       "      <td>q4d7myr9gkya6kzx</td>\n",
       "      <td>North Bandai Bamboo Reforestation</td>\n",
       "      <td>cpi2103</td>\n",
       "      <td>project</td>\n",
       "      <td>XTk0EmUQhxHvtQOjfUHiXel0W4CtLjchNVfiz4zH.jpg</td>\n",
       "      <td>Ashanti</td>\n",
       "      <td>[[Ghana]]</td>\n",
       "      <td>[[Plantation Forestry]]</td>\n",
       "    </tr>\n",
       "  </tbody>\n",
       "</table>\n",
       "</div>"
      ],
      "text/plain": [
       "                 id     type geometry_type   geometry_coordinates  \\\n",
       "0  omper396lw3gxwq0  Feature         Point  [[25.2555, -32.8334]]   \n",
       "1  g0drw38lmmjx4z9q  Feature         Point   [[29.6963, -2.1423]]   \n",
       "2  ln5pa3mml739ogex  Feature         Point  [[26.3263, -33.2508]]   \n",
       "3  wermv3llmd36koql  Feature         Point   [[85.5019, 23.0209]]   \n",
       "4  q4d7myr9gkya6kzx  Feature         Point    [[-0.8182, 6.8247]]   \n",
       "\n",
       "      properties_id                     properties_name properties_slug  \\\n",
       "0  omper396lw3gxwq0  Somerset East Spekboom Restoration         cpi2301   \n",
       "1  g0drw38lmmjx4z9q     Rwanda Bamboo River Restoration         cpi2207   \n",
       "2  ln5pa3mml739ogex       Mahkanda Spekboom Restoration         cpi2203   \n",
       "3  wermv3llmd36koql      East India Tasar Afforestation         cpi2209   \n",
       "4  q4d7myr9gkya6kzx   North Bandai Bamboo Reforestation         cpi2103   \n",
       "\n",
       "  properties_type                              properties_image  \\\n",
       "0         project  YFs3KVkT5wyLQp2XALcDPjv9MuhpUa4sPmlQbUXo.jpg   \n",
       "1         project  sCEOaHMQkFtuiXjR7Q2Ke8puX9pPrJCyqLorQmq0.jpg   \n",
       "2         project  icVp9uj48DKUSjliX2dPQUmKTUDPVz9JyYRVIYYf.jpg   \n",
       "3         project  C3WduX0jsTP3xILKpdH2ZGfGdhYlilIgWV6iEJHg.jpg   \n",
       "4         project  XTk0EmUQhxHvtQOjfUHiXel0W4CtLjchNVfiz4zH.jpg   \n",
       "\n",
       "            properties_region properties_countries properties_activity_type  \n",
       "0                Eastern Cape     [[South Africa]]          [[Restoration]]  \n",
       "1  Muhanga, Ruhango & Karongi           [[Rwanda]]          [[Restoration]]  \n",
       "2                Eastern Cape     [[South Africa]]          [[Restoration]]  \n",
       "3           Simdega & Purulia            [[India]]  [[Plantation Forestry]]  \n",
       "4                     Ashanti            [[Ghana]]  [[Plantation Forestry]]  "
      ]
     },
     "execution_count": 2,
     "metadata": {},
     "output_type": "execute_result"
    }
   ],
   "source": [
    "cp_df.head()"
   ]
  },
  {
   "cell_type": "code",
   "execution_count": 3,
   "metadata": {},
   "outputs": [
    {
     "name": "stderr",
     "output_type": "stream",
     "text": [
      "/var/folders/_l/gj90rjl90fngb4_8ph5x5jhc0000gn/T/ipykernel_3723/1474449437.py:15: SettingWithCopyWarning: \n",
      "A value is trying to be set on a copy of a slice from a DataFrame\n",
      "\n",
      "See the caveats in the documentation: https://pandas.pydata.org/pandas-docs/stable/user_guide/indexing.html#returning-a-view-versus-a-copy\n",
      "  df.rename(columns=columns_rename_mapping, inplace=True)\n"
     ]
    }
   ],
   "source": [
    "# Renaming the columns to follow our naming format in the paper columns section\n",
    "columns_rename_mapping = {\n",
    "    'id': 'site_id_reported',\n",
    "    'properties_id': 'project_id_reported',\n",
    "    'geometry_coordinates': 'geometry_reported',\n",
    "    # 'data.forests.short_desc': 'description_reported',\n",
    "    # 'country': 'country',\n",
    "    # 'data.forests.main_image': 'url',\n",
    "    #'survivalRate': 'survival_rate_reported',\n",
    "}\n",
    "\n",
    "df = cp_df[list(columns_rename_mapping.keys())]\n",
    "\n",
    "\n",
    "df.rename(columns=columns_rename_mapping, inplace=True)"
   ]
  },
  {
   "cell_type": "code",
   "execution_count": 5,
   "metadata": {},
   "outputs": [
    {
     "name": "stdout",
     "output_type": "stream",
     "text": [
      "<class 'pandas.core.frame.DataFrame'>\n",
      "RangeIndex: 7 entries, 0 to 6\n",
      "Data columns (total 11 columns):\n",
      " #   Column                    Non-Null Count  Dtype \n",
      "---  ------                    --------------  ----- \n",
      " 0   site_id_reported          0 non-null      object\n",
      " 1   project_id_reported       7 non-null      object\n",
      " 2   geometry_reported         7 non-null      object\n",
      " 3   description_reported      0 non-null      object\n",
      " 4   site_sqkm                 0 non-null      object\n",
      " 5   species_count_reported    0 non-null      object\n",
      " 6   species_planted_reported  0 non-null      object\n",
      " 7   survival_rate_reported    0 non-null      object\n",
      " 8   trees_planted_reported    0 non-null      object\n",
      " 9   planting_date_reported    0 non-null      object\n",
      " 10  country                   0 non-null      object\n",
      "dtypes: object(11)\n",
      "memory usage: 744.0+ bytes\n"
     ]
    }
   ],
   "source": [
    "#df['site_id_reported'] = ['tist_asia_{}'.format(i) for i in range(1, len(asia_df) + 1)]\n",
    "df = df.assign(description_reported=None,site_sqkm=None,species_count_reported=None, species_planted_reported=None, survival_rate_reported=None,trees_planted_reported=None,planting_date_reported=None,country=None,site_id_reported=None,)\n",
    "df.info()"
   ]
  },
  {
   "cell_type": "code",
   "execution_count": null,
   "metadata": {},
   "outputs": [],
   "source": [
    "df.to_csv('../input/ClimatePartnerImpact/projects_data.csv', index=False)"
   ]
  }
 ],
 "metadata": {
  "kernelspec": {
   "display_name": "Python 3 (ipykernel)",
   "language": "python",
   "name": "python3"
  },
  "language_info": {
   "codemirror_mode": {
    "name": "ipython",
    "version": 3
   },
   "file_extension": ".py",
   "mimetype": "text/x-python",
   "name": "python",
   "nbconvert_exporter": "python",
   "pygments_lexer": "ipython3",
   "version": "3.12.4"
  }
 },
 "nbformat": 4,
 "nbformat_minor": 4
}
