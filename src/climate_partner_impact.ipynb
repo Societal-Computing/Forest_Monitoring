{
 "cells": [
  {
   "cell_type": "markdown",
   "metadata": {},
   "source": [
    "# Climate Partner Impact\n",
    "https://www.climateimpact.com"
   ]
  },
  {
   "cell_type": "code",
   "execution_count": 12,
   "metadata": {},
   "outputs": [],
   "source": [
    "import json\n",
    "import pandas as pd\n",
    "import geopandas as gpd\n",
    "from shapely.geometry import Point"
   ]
  },
  {
   "cell_type": "markdown",
   "metadata": {},
   "source": [
    "### Load data"
   ]
  },
  {
   "cell_type": "code",
   "execution_count": 13,
   "metadata": {},
   "outputs": [
    {
     "data": {
      "text/plain": [
       "{'id': 'omper396lw3gxwq0',\n",
       " 'type': 'Feature',\n",
       " 'geometry_type': 'Point',\n",
       " 'geometry_coordinates': [[25.2555, -32.8334]],\n",
       " 'properties_id': 'omper396lw3gxwq0',\n",
       " 'properties_name': 'Somerset East Spekboom Restoration',\n",
       " 'properties_slug': 'cpi2301',\n",
       " 'properties_type': 'project',\n",
       " 'properties_image': 'YFs3KVkT5wyLQp2XALcDPjv9MuhpUa4sPmlQbUXo.jpg',\n",
       " 'properties_region': 'Eastern Cape',\n",
       " 'properties_countries': [['South Africa']],\n",
       " 'properties_activity_type': [['Restoration']]}"
      ]
     },
     "execution_count": 13,
     "metadata": {},
     "output_type": "execute_result"
    }
   ],
   "source": [
    "with open('../input/ClimatePartnerImpact/projects_data.json', 'r') as file:\n",
    "    data = json.load(file)\n",
    "data[0]"
   ]
  },
  {
   "cell_type": "code",
   "execution_count": 14,
   "metadata": {},
   "outputs": [
    {
     "name": "stdout",
     "output_type": "stream",
     "text": [
      "<class 'pandas.core.frame.DataFrame'>\n",
      "RangeIndex: 7 entries, 0 to 6\n",
      "Data columns (total 12 columns):\n",
      " #   Column                    Non-Null Count  Dtype \n",
      "---  ------                    --------------  ----- \n",
      " 0   id                        7 non-null      object\n",
      " 1   type                      7 non-null      object\n",
      " 2   geometry_type             7 non-null      object\n",
      " 3   geometry_coordinates      7 non-null      object\n",
      " 4   properties_id             7 non-null      object\n",
      " 5   properties_name           7 non-null      object\n",
      " 6   properties_slug           7 non-null      object\n",
      " 7   properties_type           7 non-null      object\n",
      " 8   properties_image          7 non-null      object\n",
      " 9   properties_region         7 non-null      object\n",
      " 10  properties_countries      7 non-null      object\n",
      " 11  properties_activity_type  7 non-null      object\n",
      "dtypes: object(12)\n",
      "memory usage: 804.0+ bytes\n"
     ]
    }
   ],
   "source": [
    "if isinstance(data, list) and isinstance(data[0], dict):\n",
    "    df = pd.DataFrame(data)\n",
    "    df.info()"
   ]
  },
  {
   "cell_type": "code",
   "execution_count": 15,
   "metadata": {},
   "outputs": [
    {
     "data": {
      "text/html": [
       "<div>\n",
       "<style scoped>\n",
       "    .dataframe tbody tr th:only-of-type {\n",
       "        vertical-align: middle;\n",
       "    }\n",
       "\n",
       "    .dataframe tbody tr th {\n",
       "        vertical-align: top;\n",
       "    }\n",
       "\n",
       "    .dataframe thead th {\n",
       "        text-align: right;\n",
       "    }\n",
       "</style>\n",
       "<table border=\"1\" class=\"dataframe\">\n",
       "  <thead>\n",
       "    <tr style=\"text-align: right;\">\n",
       "      <th></th>\n",
       "      <th>id</th>\n",
       "      <th>type</th>\n",
       "      <th>geometry_type</th>\n",
       "      <th>geometry_coordinates</th>\n",
       "      <th>properties_id</th>\n",
       "      <th>properties_name</th>\n",
       "      <th>properties_slug</th>\n",
       "      <th>properties_type</th>\n",
       "      <th>properties_image</th>\n",
       "      <th>properties_region</th>\n",
       "      <th>properties_countries</th>\n",
       "      <th>properties_activity_type</th>\n",
       "    </tr>\n",
       "  </thead>\n",
       "  <tbody>\n",
       "    <tr>\n",
       "      <th>0</th>\n",
       "      <td>omper396lw3gxwq0</td>\n",
       "      <td>Feature</td>\n",
       "      <td>Point</td>\n",
       "      <td>[[25.2555, -32.8334]]</td>\n",
       "      <td>omper396lw3gxwq0</td>\n",
       "      <td>Somerset East Spekboom Restoration</td>\n",
       "      <td>cpi2301</td>\n",
       "      <td>project</td>\n",
       "      <td>YFs3KVkT5wyLQp2XALcDPjv9MuhpUa4sPmlQbUXo.jpg</td>\n",
       "      <td>Eastern Cape</td>\n",
       "      <td>[[South Africa]]</td>\n",
       "      <td>[[Restoration]]</td>\n",
       "    </tr>\n",
       "  </tbody>\n",
       "</table>\n",
       "</div>"
      ],
      "text/plain": [
       "                 id     type geometry_type   geometry_coordinates  \\\n",
       "0  omper396lw3gxwq0  Feature         Point  [[25.2555, -32.8334]]   \n",
       "\n",
       "      properties_id                     properties_name properties_slug  \\\n",
       "0  omper396lw3gxwq0  Somerset East Spekboom Restoration         cpi2301   \n",
       "\n",
       "  properties_type                              properties_image  \\\n",
       "0         project  YFs3KVkT5wyLQp2XALcDPjv9MuhpUa4sPmlQbUXo.jpg   \n",
       "\n",
       "  properties_region properties_countries properties_activity_type  \n",
       "0      Eastern Cape     [[South Africa]]          [[Restoration]]  "
      ]
     },
     "execution_count": 15,
     "metadata": {},
     "output_type": "execute_result"
    }
   ],
   "source": [
    "df.head(1)"
   ]
  },
  {
   "cell_type": "markdown",
   "metadata": {},
   "source": [
    "### Fix geometries"
   ]
  },
  {
   "cell_type": "code",
   "execution_count": 16,
   "metadata": {},
   "outputs": [],
   "source": [
    "df['geometry'] = df['geometry_coordinates'].apply(lambda x: Point(x[0]))"
   ]
  },
  {
   "cell_type": "code",
   "execution_count": 17,
   "metadata": {},
   "outputs": [],
   "source": [
    "gdf = gpd.GeoDataFrame(df, geometry='geometry', crs = 'EPSG:4326')\n",
    "gdf['geometry'] = gdf['geometry'].make_valid()"
   ]
  },
  {
   "cell_type": "markdown",
   "metadata": {},
   "source": [
    "### Harmonize nomenclature"
   ]
  },
  {
   "cell_type": "code",
   "execution_count": 18,
   "metadata": {},
   "outputs": [],
   "source": [
    "gdf['country'] = gdf['properties_countries'].apply(lambda x: x[0][0])\n",
    "gdf = gdf[['id', 'properties_id', 'country', 'geometry']]"
   ]
  },
  {
   "cell_type": "code",
   "execution_count": 19,
   "metadata": {},
   "outputs": [],
   "source": [
    "gdf['url'] = 'https://www.climateimpact.com'\n",
    "gdf['host_name'] = 'Climate Partner Impact'"
   ]
  },
  {
   "cell_type": "code",
   "execution_count": 20,
   "metadata": {},
   "outputs": [],
   "source": [
    "invalid_geom = False\n",
    "\n",
    "if len(gdf[gdf.geometry.is_valid == False]) > 0:\n",
    "    invalid_geom = True  \n",
    "gdf['project_geometries_invalid'] = invalid_geom"
   ]
  },
  {
   "cell_type": "code",
   "execution_count": 21,
   "metadata": {},
   "outputs": [],
   "source": [
    "columns_rename_mapping = {\n",
    "    'id': 'site_id_reported',\n",
    "    'properties_id': 'project_id_reported'\n",
    "}\n",
    "gdf.rename(columns=columns_rename_mapping, inplace=True)"
   ]
  },
  {
   "cell_type": "code",
   "execution_count": 22,
   "metadata": {},
   "outputs": [
    {
     "name": "stdout",
     "output_type": "stream",
     "text": [
      "<class 'geopandas.geodataframe.GeoDataFrame'>\n",
      "RangeIndex: 7 entries, 0 to 6\n",
      "Data columns (total 14 columns):\n",
      " #   Column                        Non-Null Count  Dtype   \n",
      "---  ------                        --------------  -----   \n",
      " 0   site_id_reported              0 non-null      object  \n",
      " 1   project_id_reported           7 non-null      object  \n",
      " 2   country                       0 non-null      object  \n",
      " 3   geometry                      7 non-null      geometry\n",
      " 4   url                           7 non-null      object  \n",
      " 5   host_name                     7 non-null      object  \n",
      " 6   project_geometries_invalid    7 non-null      bool    \n",
      " 7   project_description_reported  0 non-null      object  \n",
      " 8   site_sqkm                     0 non-null      object  \n",
      " 9   species_count_reported        0 non-null      object  \n",
      " 10  species_planted_reported      0 non-null      object  \n",
      " 11  survival_rate_reported        0 non-null      object  \n",
      " 12  trees_planted_reported        0 non-null      object  \n",
      " 13  planting_date_reported        0 non-null      object  \n",
      "dtypes: bool(1), geometry(1), object(12)\n",
      "memory usage: 867.0+ bytes\n"
     ]
    }
   ],
   "source": [
    "gdf = gdf.assign(project_description_reported=None,site_sqkm=None,species_count_reported=None, species_planted_reported=None, survival_rate_reported=None,trees_planted_reported=None,planting_date_reported=None,country=None,site_id_reported=None,)\n",
    "gdf.info()"
   ]
  },
  {
   "cell_type": "code",
   "execution_count": 23,
   "metadata": {},
   "outputs": [],
   "source": [
    "gdf[\"planting_date_type\"]= \" \"\n"
   ]
  },
  {
   "cell_type": "markdown",
   "metadata": {},
   "source": [
    "### Save it"
   ]
  },
  {
   "cell_type": "code",
   "execution_count": 24,
   "metadata": {},
   "outputs": [],
   "source": [
    "gdf.to_file('../midsave/climate_partner_impact.gpkg')"
   ]
  }
 ],
 "metadata": {
  "kernelspec": {
   "display_name": "Python 3 (ipykernel)",
   "language": "python",
   "name": "python3"
  },
  "language_info": {
   "codemirror_mode": {
    "name": "ipython",
    "version": 3
   },
   "file_extension": ".py",
   "mimetype": "text/x-python",
   "name": "python",
   "nbconvert_exporter": "python",
   "pygments_lexer": "ipython3",
   "version": "3.13.2"
  }
 },
 "nbformat": 4,
 "nbformat_minor": 4
}
