{
 "cells": [
  {
   "cell_type": "markdown",
   "metadata": {},
   "source": [
    "Extract data to json file from the website https://trees.org"
   ]
  },
  {
   "cell_type": "code",
   "execution_count": null,
   "metadata": {},
   "outputs": [],
   "source": [
    "import json\n",
    "import pandas as pd\n",
    "with open('../input/TreesOrg/data.json', 'r') as file:\n",
    "    data = json.load(file)\n",
    "\n",
    "print(type(data))\n",
    "\n",
    "\n",
    "print(data[0])\n",
    "\n",
    "\n",
    "if isinstance(data, list) and isinstance(data[0], dict):\n",
    "    to_df = pd.DataFrame(data)\n",
    "    to_df.info()"
   ]
  },
  {
   "cell_type": "code",
   "execution_count": null,
   "metadata": {},
   "outputs": [],
   "source": [
    "to_df['country'] = to_df['address'].astype(str).apply(lambda x: x.split()[-1] if isinstance(x, str) else '')\n",
    "\n",
    "to_df.head()"
   ]
  },
  {
   "cell_type": "code",
   "execution_count": null,
   "metadata": {},
   "outputs": [],
   "source": [
    "# Renaming the columns to follow our naming format in the paper columns section\n",
    "columns_rename_mapping = {\n",
    "    'ID': 'project_id_reported',\n",
    "    'coordinates': 'geometry_reported',\n",
    "    'info': 'description_reported',\n",
    "    'country': 'country',\n",
    "    'date': 'planting_date_reported',\n",
    "    'link': 'url',\n",
    "    #'survivalRate': 'survival_rate_reported',\n",
    "}\n",
    "\n",
    "to_df = to_df[list(columns_rename_mapping.keys())]\n",
    "\n",
    "\n",
    "to_df.rename(columns=columns_rename_mapping, inplace=True)"
   ]
  },
  {
   "cell_type": "code",
   "execution_count": null,
   "metadata": {},
   "outputs": [],
   "source": [
    "#df['site_id_reported'] = ['tist_asia_{}'.format(i) for i in range(1, len(asia_df) + 1)]\n",
    "to_df =to_df.assign(site_sqkm=None,species_count_reported=None, species_planted_reported=None, survival_rate_reported=None,trees_planted_reported=None,site_id_reported=None)\n",
    "to_df.info()"
   ]
  },
  {
   "cell_type": "code",
   "execution_count": null,
   "metadata": {},
   "outputs": [],
   "source": [
    "to_df.to_csv('../input/TreesOrg/TreesOrg.csv', index=False)"
   ]
  }
 ],
 "metadata": {
  "language_info": {
   "name": "python"
  }
 },
 "nbformat": 4,
 "nbformat_minor": 2
}
