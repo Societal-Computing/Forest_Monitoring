{
 "cells": [
  {
   "cell_type": "markdown",
   "metadata": {},
   "source": [
    "## Extracting the biomass value from the dataset https://catalogue.ceda.ac.uk/uuid/bf535053562141c6bb7ad831f5998d77/\n",
    "1.Download data from to you pc https://catalogue.ceda.ac.uk/uuid/bf535053562141c6bb7ad831f5998d77/ atotal of 300gb space requirement for data for \"2015 to 2016\n",
    "\n",
    "2.Read Our polygon data and overlap which year raster files and extract the biomass values"
   ]
  },
  {
   "cell_type": "code",
   "execution_count": 1,
   "metadata": {},
   "outputs": [],
   "source": [
    "import geopandas as gpd\n",
    "import rasterio\n",
    "import os\n",
    "import pandas as pd\n",
    "import numpy as np\n",
    "from helper_functions import extract_raster_values, process_in_chunks\n",
    "\n",
    "polygons_path = \"../input/Updated_Reforestation_Data.geojson\"\n",
    "polygons_gdf = gpd.read_file(polygons_path)\n",
    "\n",
    "# Directory containing the folders for each period range raster files\n",
    "base_raster_dir = \"/home/idisc02/Forest_Monitoring/dap.ceda.ac.uk/neodc/esacci/biomass/data/agb/maps/v5.01/geotiff\"\n",
    "\n",
    "\n",
    "periods = [\"2015_2016\",\"2016_2017\",\"2017_2018\", \"2018_2019\", \"2019_2020\", \"2020_2021\"]\n",
    "\n",
    "final_gdf = polygons_gdf.copy()\n",
    "for period in periods:\n",
    "    raster_dir = os.path.join(base_raster_dir, period)\n",
    "    \n",
    "    # Determining  the CRS of the raster files before processing chunks\n",
    "    first_raster_file = next((f for f in os.listdir(raster_dir) if f.endswith('.tif')), None)\n",
    "    if first_raster_file:\n",
    "        first_raster_path = os.path.join(raster_dir, first_raster_file)\n",
    "        with rasterio.open(first_raster_path) as src:\n",
    "            raster_crs = src.crs\n",
    "        \n",
    "            period_gdf = process_in_chunks(polygons_gdf, 10000, raster_crs, raster_dir, period)\n",
    "            final_gdf = final_gdf.merge(period_gdf[['geometry', f'Biomass_change_{period}']], on='geometry', how='left')\n",
    "\n",
    "# Saving  the updated GeoDataFrame as a new GeoJSON file\n",
    "output_path = \"../input/Updated_Reforestation_Data.geojson\"\n",
    "final_gdf.to_file(output_path, driver='GeoJSON')"
   ]
  }
 ],
 "metadata": {
  "kernelspec": {
   "display_name": "base",
   "language": "python",
   "name": "python3"
  },
  "language_info": {
   "codemirror_mode": {
    "name": "ipython",
    "version": 3
   },
   "file_extension": ".py",
   "mimetype": "text/x-python",
   "name": "python",
   "nbconvert_exporter": "python",
   "pygments_lexer": "ipython3",
   "version": "3.10.11"
  }
 },
 "nbformat": 4,
 "nbformat_minor": 2
}
