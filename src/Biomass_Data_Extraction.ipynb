{
 "cells": [
  {
   "cell_type": "markdown",
   "metadata": {},
   "source": [
    "## Extracting the biomass value from the dataset\n",
    "1. Download data from https://catalogue.ceda.ac.uk/uuid/bf535053562141c6bb7ad831f5998d77/ (a total of 300gb space requirement for data for the years 2015 to 2016)\n",
    "\n",
    "2. Overlay reforestation polygon with yearly raster files and extract polygon-level biomass values"
   ]
  },
  {
   "cell_type": "code",
   "execution_count": null,
   "metadata": {},
   "outputs": [],
   "source": [
    "import geopandas as gpd\n",
    "import rasterio\n",
    "import os\n",
    "import pandas as pd\n",
    "import numpy as np\n",
    "from helper_functions import extract_raster_values, process_in_chunks"
   ]
  },
  {
   "cell_type": "markdown",
   "metadata": {},
   "source": [
    "Read reforestation polygons"
   ]
  },
  {
   "cell_type": "code",
   "execution_count": null,
   "metadata": {},
   "outputs": [],
   "source": [
    "polygons_path = \"../input/Updated_Reforestation_Data.geojson\"\n",
    "polygons_gdf = gpd.read_file(polygons_path)"
   ]
  },
  {
   "cell_type": "markdown",
   "metadata": {},
   "source": [
    "Locate downloaded biomass data"
   ]
  },
  {
   "cell_type": "code",
   "execution_count": null,
   "metadata": {},
   "outputs": [],
   "source": [
    "base_raster_dir = \"/home/idisc02/Forest_Monitoring/dap.ceda.ac.uk/neodc/esacci/biomass/data/agb/maps/v5.01/geotiff\""
   ]
  },
  {
   "cell_type": "markdown",
   "metadata": {},
   "source": [
    "Define periods of interest"
   ]
  },
  {
   "cell_type": "code",
   "execution_count": null,
   "metadata": {},
   "outputs": [],
   "source": [
    "periods = [\"2015_2016\",\"2016_2017\",\"2017_2018\", \"2018_2019\", \"2019_2020\", \"2020_2021\"]"
   ]
  },
  {
   "cell_type": "code",
   "execution_count": null,
   "metadata": {},
   "outputs": [],
   "source": [
    "final_gdf = polygons_gdf.copy()\n",
    "\n",
    "for period in periods:\n",
    "    \n",
    "    raster_dir = os.path.join(base_raster_dir, period)\n",
    "    \n",
    "    # Determining  the CRS of the raster files before processing chunks\n",
    "    first_raster_file = next((f for f in os.listdir(raster_dir) if f.endswith('.tif')), None)\n",
    "    if first_raster_file:\n",
    "        first_raster_path = os.path.join(raster_dir, first_raster_file)\n",
    "        with rasterio.open(first_raster_path) as src:\n",
    "            raster_crs = src.crs\n",
    "        \n",
    "            period_gdf = process_in_chunks(polygons_gdf, 10000, raster_crs, raster_dir, period)\n",
    "            final_gdf = final_gdf.merge(period_gdf[['geometry', f'Biomass_change_{period}']], on='geometry', how='left')"
   ]
  },
  {
   "cell_type": "markdown",
   "metadata": {},
   "source": [
    "Saving the updated GeoDataFrame as a new GeoJSON file"
   ]
  },
  {
   "cell_type": "code",
   "execution_count": null,
   "metadata": {},
   "outputs": [],
   "source": [
    "output_path = \"../input/Updated_Reforestation_Data.geojson\"\n",
    "final_gdf.to_file(output_path, driver='GeoJSON')"
   ]
  }
 ],
 "metadata": {
  "kernelspec": {
   "display_name": "Python 3 (ipykernel)",
   "language": "python",
   "name": "python3"
  },
  "language_info": {
   "codemirror_mode": {
    "name": "ipython",
    "version": 3
   },
   "file_extension": ".py",
   "mimetype": "text/x-python",
   "name": "python",
   "nbconvert_exporter": "python",
   "pygments_lexer": "ipython3",
   "version": "3.12.4"
  }
 },
 "nbformat": 4,
 "nbformat_minor": 4
}
