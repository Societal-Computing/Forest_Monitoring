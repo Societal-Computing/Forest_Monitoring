{
 "cells": [
  {
   "cell_type": "markdown",
   "metadata": {},
   "source": [
    "Extract and save to json from https://onetreeplanted.org"
   ]
  },
  {
   "cell_type": "code",
   "execution_count": null,
   "metadata": {},
   "outputs": [],
   "source": [
    "import json\n",
    "import pandas as pd\n",
    "with open('../input/OneTreePlaneted/OneTreePlanted.json', 'r') as file:\n",
    "    data = json.load(file)\n",
    "\n",
    "print(type(data))\n",
    "\n",
    "\n",
    "print(data[0])\n",
    "\n",
    "\n",
    "if isinstance(data, list) and isinstance(data[0], dict):\n",
    "    ot_df = pd.DataFrame(data)\n",
    "    ot_df.info()"
   ]
  },
  {
   "cell_type": "code",
   "execution_count": null,
   "metadata": {},
   "outputs": [],
   "source": [
    "ot_df['coordinates'] = ot_df.apply(lambda row: (row['Longitude'], row['Latitude']), axis=1)"
   ]
  },
  {
   "cell_type": "code",
   "execution_count": null,
   "metadata": {},
   "outputs": [],
   "source": [
    "# Renaming the columns to follow our naming format in the paper columns section\n",
    "columns_rename_mapping = {\n",
    "    #'id': 'project_id_reported',\n",
    "    #'attributes.externalId':'site_id_reported',\n",
    "    'Project_Title': 'description_reported',\n",
    "    'coordinates': 'geometry_reported',\n",
    "   \n",
    "    #'survivalRate': 'survival_rate_reported',\n",
    "}\n",
    "\n",
    "ot_df = ot_df[list(columns_rename_mapping.keys())]\n",
    "\n",
    "\n",
    "ot_df.rename(columns=columns_rename_mapping, inplace=True)"
   ]
  },
  {
   "cell_type": "code",
   "execution_count": null,
   "metadata": {},
   "outputs": [],
   "source": [
    "ot_df = ot_df.assign(description_reported=None,site_sqkm=None,species_count_reported=None, species_planted_reported=None, survival_rate_reported=None,trees_planted_reported=None,planting_date_reported=None,country=None)\n",
    "ot_df.info()"
   ]
  },
  {
   "cell_type": "code",
   "execution_count": null,
   "metadata": {},
   "outputs": [],
   "source": [
    "ot_df.to_csv('../input/OneTreePlaneted/OneTreePlanted.csv', index=False)"
   ]
  }
 ],
 "metadata": {
  "language_info": {
   "name": "python"
  }
 },
 "nbformat": 4,
 "nbformat_minor": 2
}
