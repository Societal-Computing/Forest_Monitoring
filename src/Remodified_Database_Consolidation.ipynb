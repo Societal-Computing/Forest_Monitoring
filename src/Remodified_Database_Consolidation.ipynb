{
 "cells": [
  {
   "cell_type": "markdown",
   "metadata": {},
   "source": [
    "In this script, we combine all the sites from the different reforestation projects from different organization to one dataset and do some initial filtering."
   ]
  },
  {
   "cell_type": "code",
   "execution_count": 2,
   "metadata": {},
   "outputs": [],
   "source": [
    "import geopandas as gpd\n",
    "from shapely.geometry import shape\n",
    "import json\n",
    "import pandas as pd\n",
    "import numpy as np\n",
    "from shapely import wkt"
   ]
  },
  {
   "cell_type": "markdown",
   "metadata": {},
   "source": [
    "#### Plant_planet_data"
   ]
  },
  {
   "cell_type": "markdown",
   "metadata": {},
   "source": [
    "\n",
    "We extracted the data from https://www.plant-for-the-planet.org as described in the script 'Plant_Planet_Meta_Data_preprocessing.ipynb'. Further, we already filtered the data in the script 'Plant_Planet_Meta_Data_preprocessing.ipynb',and upload the shape file generated in this script to the asset section of google earth enginee and then added some metadata to the files as more closely described in 'GEE_columns generation.ipynb' and harmonize the column naming as in the data description section of the paper."
   ]
  },
  {
   "cell_type": "code",
   "execution_count": 19,
   "metadata": {},
   "outputs": [
    {
     "name": "stdout",
     "output_type": "stream",
     "text": [
      "<class 'pandas.core.frame.DataFrame'>\n",
      "RangeIndex: 2367 entries, 0 to 2366\n",
      "Data columns (total 13 columns):\n",
      " #   Column                    Non-Null Count  Dtype  \n",
      "---  ------                    --------------  -----  \n",
      " 0   project_id_reported       2367 non-null   object \n",
      " 1   trees_planted_reported    2352 non-null   float64\n",
      " 2   country                   2366 non-null   object \n",
      " 3   description_reported      2367 non-null   object \n",
      " 4   planting_date_reported    1925 non-null   object \n",
      " 5   geometry_reported         2367 non-null   object \n",
      " 6   survival_rate_reported    1665 non-null   float64\n",
      " 7   site_sqkm                 2367 non-null   float64\n",
      " 8   site_id_reported          2367 non-null   object \n",
      " 9   host_name                 2367 non-null   object \n",
      " 10  url                       2367 non-null   object \n",
      " 11  species_count_reported    0 non-null      float64\n",
      " 12  species_planted_reported  0 non-null      float64\n",
      "dtypes: float64(5), object(8)\n",
      "memory usage: 240.5+ KB\n"
     ]
    }
   ],
   "source": [
    "\n",
    "df_plant_2=pd.read_csv(\"../input/Plant_for_planet_shapefiles/plant_planet.csv\",encoding='latin-1')\n",
    "df_plant_2.info()"
   ]
  },
  {
   "cell_type": "code",
   "execution_count": 42,
   "metadata": {},
   "outputs": [
    {
     "data": {
      "text/plain": [
       "0       POLYGON ((-49.958833158016205 -9.3510733412391...\n",
       "1       POLYGON Z ((-43.472501 -22.489448 0, -43.47236...\n",
       "2       POLYGON Z ((-43.462002 -22.477901 0, -43.46583...\n",
       "3       POLYGON Z ((-43.468334 -22.491903 0, -43.46833...\n",
       "4       POLYGON Z ((-2.01902187 8.21742549 0, -2.02027...\n",
       "                              ...                        \n",
       "2362    POLYGON ((-77.4323577054455 0.125150648849918,...\n",
       "2363    POLYGON ((-77.8440719418937 -1.805359825758349...\n",
       "2364    POLYGON ((-77.8446741305385 -1.80719678058946,...\n",
       "2365    POLYGON ((-77.8481324722818 -1.80571220524683,...\n",
       "2366    POLYGON ((7.482829391956334 62.70130868559874,...\n",
       "Name: geometry_reported, Length: 2367, dtype: object"
      ]
     },
     "execution_count": 42,
     "metadata": {},
     "output_type": "execute_result"
    }
   ],
   "source": [
    "df_plant_2[\"geometry_reported\"]"
   ]
  },
  {
   "cell_type": "markdown",
   "metadata": {},
   "source": [
    "#### Tree_Nation"
   ]
  },
  {
   "cell_type": "markdown",
   "metadata": {},
   "source": [
    "We extracted and filtered  the data from https://tree-nation.com/projects as described in the script 'Tree_Nation-meta_data_pre.ipynb'.and upload the shape file of the resulting data to the asset section of google earth enginee and then added some metadata to the files as more closely described in 'GEE_columns generation.ipynb' and harmonize the column naming as in the data description section of the paper."
   ]
  },
  {
   "cell_type": "code",
   "execution_count": 22,
   "metadata": {},
   "outputs": [
    {
     "name": "stdout",
     "output_type": "stream",
     "text": [
      "<class 'pandas.core.frame.DataFrame'>\n",
      "RangeIndex: 594 entries, 0 to 593\n",
      "Data columns (total 13 columns):\n",
      " #   Column                    Non-Null Count  Dtype  \n",
      "---  ------                    --------------  -----  \n",
      " 0   planting_date_reported    594 non-null    object \n",
      " 1   description_reported      591 non-null    object \n",
      " 2   site_id_reported          594 non-null    int64  \n",
      " 3   url                       594 non-null    object \n",
      " 4   project_id_reported       594 non-null    int64  \n",
      " 5   trees_planted_reported    594 non-null    int64  \n",
      " 6   geometry_reported         594 non-null    object \n",
      " 7   site_sqkm                 594 non-null    float64\n",
      " 8   host_name                 594 non-null    object \n",
      " 9   species_count_reported    0 non-null      float64\n",
      " 10  species_planted_reported  0 non-null      float64\n",
      " 11  country                   0 non-null      float64\n",
      " 12  survival_rate_reported    0 non-null      float64\n",
      "dtypes: float64(5), int64(3), object(5)\n",
      "memory usage: 60.5+ KB\n"
     ]
    }
   ],
   "source": [
    "df_nation_2 =pd.read_csv(\"../input/Tree_Nation_Modified_shape_file/Tree_Nation.csv\",encoding='latin-1')\n",
    "df_nation_2.info()"
   ]
  },
  {
   "cell_type": "markdown",
   "metadata": {},
   "source": [
    "\n",
    "#### For all others for additional data columns assimilation run the  script GEE_columns_generation.ipynb  with original metadata and ensure all columns naming are consistent"
   ]
  },
  {
   "cell_type": "markdown",
   "metadata": {},
   "source": [
    "#### Open_Forest_protocol"
   ]
  },
  {
   "cell_type": "markdown",
   "metadata": {},
   "source": [
    "We extracted and filtered  the data from https://atlas.openforestprotocol.org/  as described in the script  \"open_forest_projests_Data_filtering.ipynb\" and upload the shape file of the resulting data to the asset section of google earth enginee and then added some metadata to the files as more closely described in 'GEE_columns generation.ipynb' and harmonize the column naming as in the data description section of the paper."
   ]
  },
  {
   "cell_type": "code",
   "execution_count": 24,
   "metadata": {},
   "outputs": [
    {
     "name": "stdout",
     "output_type": "stream",
     "text": [
      "<class 'pandas.core.frame.DataFrame'>\n",
      "RangeIndex: 112 entries, 0 to 111\n",
      "Data columns (total 13 columns):\n",
      " #   Column                    Non-Null Count  Dtype  \n",
      "---  ------                    --------------  -----  \n",
      " 0   project_id_reported       112 non-null    int64  \n",
      " 1   site_id_reported          112 non-null    int64  \n",
      " 2   description_reported      112 non-null    object \n",
      " 3   geometry_reported         112 non-null    object \n",
      " 4   site_sqkm                 112 non-null    float64\n",
      " 5   country                   111 non-null    object \n",
      " 6   host_name                 112 non-null    object \n",
      " 7   url                       112 non-null    object \n",
      " 8   species_count_reported    0 non-null      float64\n",
      " 9   species_planted_reported  0 non-null      float64\n",
      " 10  planting_date_reported    0 non-null      float64\n",
      " 11  survival_rate_reported    0 non-null      float64\n",
      " 12  trees_planted_reported    0 non-null      float64\n",
      "dtypes: float64(6), int64(2), object(5)\n",
      "memory usage: 11.5+ KB\n"
     ]
    }
   ],
   "source": [
    "df_atla_new=pd.read_csv(\"../input/Atlas/atlas_data.csv\")\n",
    "df_atla_new.info()"
   ]
  },
  {
   "cell_type": "markdown",
   "metadata": {},
   "source": [
    "#### TIST data_with_trees_planted"
   ]
  },
  {
   "cell_type": "markdown",
   "metadata": {},
   "source": [
    "We extracted and filtered  the data from https://registry.verra.org/app/search/VCS as described in the script  \"Verra_Data_filtering.ipynb\" and upload the shape file of the resulting data to the asset section of google earth enginee and then added some metadata to the files as more closely described in 'GEE_columns generation.ipynb' and harmonize the column naming as in the data description section of the paper"
   ]
  },
  {
   "cell_type": "code",
   "execution_count": 13,
   "metadata": {},
   "outputs": [
    {
     "name": "stdout",
     "output_type": "stream",
     "text": [
      "<class 'pandas.core.frame.DataFrame'>\n",
      "RangeIndex: 11301 entries, 0 to 11300\n",
      "Data columns (total 13 columns):\n",
      " #   Column                    Non-Null Count  Dtype  \n",
      "---  ------                    --------------  -----  \n",
      " 0   project_id_reported       0 non-null      float64\n",
      " 1   site_id_reported          11301 non-null  object \n",
      " 2   geometry_reported         11300 non-null  object \n",
      " 3   planting_date_reported    11056 non-null  object \n",
      " 4   trees_planted_reported    11301 non-null  int64  \n",
      " 5   description_reported      0 non-null      float64\n",
      " 6   survival_rate_reported    0 non-null      float64\n",
      " 7   species_count_reported    0 non-null      float64\n",
      " 8   species_planted_reported  0 non-null      float64\n",
      " 9   site_sqkm                 11055 non-null  float64\n",
      " 10  country                   11301 non-null  object \n",
      " 11  host_name                 11301 non-null  object \n",
      " 12  url                       11301 non-null  object \n",
      "dtypes: float64(6), int64(1), object(6)\n",
      "memory usage: 1.1+ MB\n"
     ]
    }
   ],
   "source": [
    "df_tist_2=pd.read_csv(\"../input/TIST/TIST_Meta.csv\",encoding='latin-1')\n",
    "df_tist_2['host_name'] = 'TIST'\n",
    "df_tist_2['url'] = 'https://program.tist.org'\n",
    "df_tist_2.info()"
   ]
  },
  {
   "cell_type": "markdown",
   "metadata": {},
   "source": [
    "#### TIST data_without_trees_planted"
   ]
  },
  {
   "cell_type": "markdown",
   "metadata": {},
   "source": [
    "We extracted and filtered  the data from https://registry.verra.org/app/search/VCS as described in the script  \"Verra_Data_filtering.ipynb\" and upload the shape file of the resulting data to the asset section of google earth enginee and then added some metadata to the files as more closely described in 'GEE_columns generation.ipynb' and harmonize the column naming as in the data description section of the paper"
   ]
  },
  {
   "cell_type": "code",
   "execution_count": 14,
   "metadata": {},
   "outputs": [
    {
     "name": "stdout",
     "output_type": "stream",
     "text": [
      "<class 'pandas.core.frame.DataFrame'>\n",
      "RangeIndex: 13016 entries, 0 to 13015\n",
      "Data columns (total 11 columns):\n",
      " #   Column                    Non-Null Count  Dtype  \n",
      "---  ------                    --------------  -----  \n",
      " 0   project_id_reported       0 non-null      float64\n",
      " 1   site_id_reported          13016 non-null  object \n",
      " 2   geometry_reported         13015 non-null  object \n",
      " 3   country                   13016 non-null  object \n",
      " 4   site_sqkm                 0 non-null      float64\n",
      " 5   description_reported      0 non-null      float64\n",
      " 6   planting_date_reported    0 non-null      float64\n",
      " 7   trees_planted_reported    0 non-null      float64\n",
      " 8   survival_rate_reported    0 non-null      float64\n",
      " 9   species_count_reported    0 non-null      float64\n",
      " 10  species_planted_reported  0 non-null      float64\n",
      "dtypes: float64(8), object(3)\n",
      "memory usage: 1.1+ MB\n"
     ]
    }
   ],
   "source": [
    "df_tist_w_2=pd.read_csv(\"../input/TIST/TIST_Meta_without_trees.csv\",encoding='latin-1')\n",
    "df_tist_w_2.info()"
   ]
  },
  {
   "cell_type": "code",
   "execution_count": 15,
   "metadata": {},
   "outputs": [
    {
     "name": "stdout",
     "output_type": "stream",
     "text": [
      "<class 'pandas.core.frame.DataFrame'>\n",
      "RangeIndex: 13016 entries, 0 to 13015\n",
      "Data columns (total 13 columns):\n",
      " #   Column                    Non-Null Count  Dtype  \n",
      "---  ------                    --------------  -----  \n",
      " 0   project_id_reported       0 non-null      float64\n",
      " 1   site_id_reported          13016 non-null  object \n",
      " 2   geometry_reported         13015 non-null  object \n",
      " 3   country                   13016 non-null  object \n",
      " 4   site_sqkm                 0 non-null      float64\n",
      " 5   description_reported      0 non-null      float64\n",
      " 6   planting_date_reported    0 non-null      float64\n",
      " 7   trees_planted_reported    0 non-null      float64\n",
      " 8   survival_rate_reported    0 non-null      float64\n",
      " 9   species_count_reported    0 non-null      float64\n",
      " 10  species_planted_reported  0 non-null      float64\n",
      " 11  host_name                 13016 non-null  object \n",
      " 12  url                       13016 non-null  object \n",
      "dtypes: float64(8), object(5)\n",
      "memory usage: 1.3+ MB\n"
     ]
    }
   ],
   "source": [
    "df_tist_w_2['host_name'] = 'TIST'\n",
    "df_tist_w_2['url'] = 'https://program.tist.org'\n",
    "df_tist_w_2.info()"
   ]
  },
  {
   "cell_type": "markdown",
   "metadata": {},
   "source": [
    "#### ASIA_VERRA"
   ]
  },
  {
   "cell_type": "markdown",
   "metadata": {},
   "source": [
    "We extracted and filtered  the data from https://registry.verra.org/app/search/VCS as described in the script  \"Verra_Data_filtering.ipynb\" and upload the shape file of the resulting data to the asset section of google earth enginee and then added some metadata to the files as more closely described in 'GEE_columns generation.ipynb' and harmonize the column naming as in the data description section of the paper"
   ]
  },
  {
   "cell_type": "code",
   "execution_count": 9,
   "metadata": {},
   "outputs": [
    {
     "name": "stdout",
     "output_type": "stream",
     "text": [
      "<class 'pandas.core.frame.DataFrame'>\n",
      "RangeIndex: 43628 entries, 0 to 43627\n",
      "Data columns (total 13 columns):\n",
      " #   Column                    Non-Null Count  Dtype  \n",
      "---  ------                    --------------  -----  \n",
      " 0   site_id_reported          0 non-null      float64\n",
      " 1   project_id_reported       0 non-null      float64\n",
      " 2   geometry_reported         43611 non-null  object \n",
      " 3   description_reported      0 non-null      float64\n",
      " 4   planting_date_reported    0 non-null      float64\n",
      " 5   trees_planted_reported    0 non-null      float64\n",
      " 6   survival_rate_reported    0 non-null      float64\n",
      " 7   species_count_reported    0 non-null      float64\n",
      " 8   species_planted_reported  0 non-null      float64\n",
      " 9   country                   43610 non-null  object \n",
      " 10  site_sqkm                 43628 non-null  float64\n",
      " 11  host_name                 43628 non-null  object \n",
      " 12  url                       43628 non-null  object \n",
      "dtypes: float64(9), object(4)\n",
      "memory usage: 4.3+ MB\n"
     ]
    }
   ],
   "source": [
    "df_asia_2=pd.read_csv(\"../input/Verra/Asia.csv\",encoding='latin-1')\n",
    "df_asia_2['host_name'] = 'VCS'\n",
    "df_asia_2['url'] = 'https://registry.verra.org/app/search/VCS'\n",
    "df_asia_2.info()"
   ]
  },
  {
   "cell_type": "markdown",
   "metadata": {},
   "source": [
    "#### VERRA Latin America"
   ]
  },
  {
   "cell_type": "markdown",
   "metadata": {},
   "source": [
    "We extracted and filtered  the data from https://registry.verra.org/app/search/VCS as described in the script  \"Verra_Data_filtering.ipynb\" and upload the shape file of the resulting data to the asset section of google earth enginee and then added some metadata to the files as more closely described in 'GEE_columns generation.ipynb' and harmonize the column naming as in the data description section of the paper"
   ]
  },
  {
   "cell_type": "code",
   "execution_count": 7,
   "metadata": {},
   "outputs": [
    {
     "name": "stdout",
     "output_type": "stream",
     "text": [
      "<class 'pandas.core.frame.DataFrame'>\n",
      "RangeIndex: 407 entries, 0 to 406\n",
      "Data columns (total 13 columns):\n",
      " #   Column                    Non-Null Count  Dtype  \n",
      "---  ------                    --------------  -----  \n",
      " 0   geometry_reported         407 non-null    object \n",
      " 1   site_id_reported          0 non-null      float64\n",
      " 2   project_id_reported       0 non-null      float64\n",
      " 3   description_reported      0 non-null      float64\n",
      " 4   planting_date_reported    0 non-null      float64\n",
      " 5   trees_planted_reported    0 non-null      float64\n",
      " 6   survival_rate_reported    0 non-null      float64\n",
      " 7   species_count_reported    0 non-null      float64\n",
      " 8   species_planted_reported  0 non-null      float64\n",
      " 9   country                   407 non-null    object \n",
      " 10  site_sqkm                 407 non-null    float64\n",
      " 11  host_name                 407 non-null    object \n",
      " 12  url                       407 non-null    object \n",
      "dtypes: float64(9), object(4)\n",
      "memory usage: 41.5+ KB\n"
     ]
    }
   ],
   "source": [
    "df_latin_2=pd.read_csv(\"../input/Verra/latin.csv\",encoding='latin-1')\n",
    "df_latin_2['host_name'] = 'VCS'\n",
    "df_latin_2['url'] = 'https://registry.verra.org/app/search/VCS'\n",
    "df_latin_2.info()"
   ]
  },
  {
   "cell_type": "markdown",
   "metadata": {},
   "source": [
    "#### TIST other areas projects"
   ]
  },
  {
   "cell_type": "markdown",
   "metadata": {},
   "source": [
    "We extracted and filtered  the data from https://registry.verra.org/app/search/VCS as described in the script  \"Verra_Data_filtering.ipynb\" and upload the shape file of the resulting data to the asset section of google earth enginee and then added some metadata to the files as more closely described in 'GEE_columns generation.ipynb' and harmonize the column naming as in the data description section of the paper"
   ]
  },
  {
   "cell_type": "code",
   "execution_count": 4,
   "metadata": {},
   "outputs": [
    {
     "name": "stdout",
     "output_type": "stream",
     "text": [
      "<class 'pandas.core.frame.DataFrame'>\n",
      "RangeIndex: 270 entries, 0 to 269\n",
      "Data columns (total 13 columns):\n",
      " #   Column                    Non-Null Count  Dtype  \n",
      "---  ------                    --------------  -----  \n",
      " 0   geometry_reported         270 non-null    object \n",
      " 1   site_id_reported          270 non-null    int64  \n",
      " 2   species_planted_reported  270 non-null    object \n",
      " 3   planting_date_reported    270 non-null    object \n",
      " 4   project_id_reported       0 non-null      float64\n",
      " 5   description_reported      0 non-null      float64\n",
      " 6   trees_planted_reported    0 non-null      float64\n",
      " 7   survival_rate_reported    0 non-null      float64\n",
      " 8   species_count_reported    0 non-null      float64\n",
      " 9   site_sqkm                 270 non-null    float64\n",
      " 10  country                   270 non-null    object \n",
      " 11  host_name                 270 non-null    object \n",
      " 12  url                       270 non-null    object \n",
      "dtypes: float64(6), int64(1), object(6)\n",
      "memory usage: 27.5+ KB\n"
     ]
    }
   ],
   "source": [
    "df_other_2=pd.read_csv(\"../input/Verra/OTHER_verra_projects.csv\",encoding='latin-1')\n",
    "df_other_2['host_name'] = 'VCS'\n",
    "df_other_2['url'] = 'https://registry.verra.org/app/search/VCS'\n",
    "df_other_2.info()"
   ]
  },
  {
   "cell_type": "markdown",
   "metadata": {},
   "source": [
    "#### Restor eco data"
   ]
  },
  {
   "cell_type": "markdown",
   "metadata": {},
   "source": [
    "We extracted and filtered  the data from  https://restor.eco/?lat=10.743821093825016&lng=4.473759981496621&zoom=4 as described in the script  \"restor.ipynb\" and upload the shape file of the resulting data to the asset section of google earth enginee and then added some metadata to the files as more closely described in 'GEE_columns generation.ipynb' and harmonize the column naming as in the data description section of the paper"
   ]
  },
  {
   "cell_type": "code",
   "execution_count": 27,
   "metadata": {},
   "outputs": [
    {
     "name": "stdout",
     "output_type": "stream",
     "text": [
      "<class 'pandas.core.frame.DataFrame'>\n",
      "RangeIndex: 1540 entries, 0 to 1539\n",
      "Data columns (total 13 columns):\n",
      " #   Column                    Non-Null Count  Dtype  \n",
      "---  ------                    --------------  -----  \n",
      " 0   project_id_reported       1540 non-null   object \n",
      " 1   description_reported      1540 non-null   object \n",
      " 2   planting_date_reported    1540 non-null   object \n",
      " 3   geometry_reported         1540 non-null   object \n",
      " 4   url                       1540 non-null   object \n",
      " 5   site_sqkm                 1540 non-null   object \n",
      " 6   country                   1540 non-null   object \n",
      " 7   site_id_reported          1540 non-null   object \n",
      " 8   species_count_reported    0 non-null      float64\n",
      " 9   species_planted_reported  0 non-null      float64\n",
      " 10  survival_rate_reported    0 non-null      float64\n",
      " 11  trees_planted_reported    0 non-null      float64\n",
      " 12  host_name                 1540 non-null   object \n",
      "dtypes: float64(4), object(9)\n",
      "memory usage: 156.5+ KB\n"
     ]
    }
   ],
   "source": [
    "df_eco_2=pd.read_csv(\"../input/Restor_Eco/restor_eco.csv\",encoding='latin-1')\n",
    "df_eco_2 ['host_name'] = 'Restor Eco'\n",
    "df_eco_2['url'] = 'https://restor.eco/?lat=26&lng=14.23&zoom=3'\n",
    "df_eco_2.info()"
   ]
  },
  {
   "cell_type": "markdown",
   "metadata": {},
   "source": [
    "#### Explorer Data"
   ]
  },
  {
   "cell_type": "markdown",
   "metadata": {},
   "source": [
    "This data is extracted from te we forest projects website https://explorer.land/x/projects,the column names were manually edited"
   ]
  },
  {
   "cell_type": "code",
   "execution_count": 28,
   "metadata": {},
   "outputs": [
    {
     "name": "stdout",
     "output_type": "stream",
     "text": [
      "<class 'pandas.core.frame.DataFrame'>\n",
      "RangeIndex: 21 entries, 0 to 20\n",
      "Data columns (total 13 columns):\n",
      " #   Column                    Non-Null Count  Dtype  \n",
      "---  ------                    --------------  -----  \n",
      " 0   project_id_reported       0 non-null      float64\n",
      " 1   country                   0 non-null      float64\n",
      " 2   planting_date_reported    20 non-null     float64\n",
      " 3   species_count_reported    0 non-null      float64\n",
      " 4   species_planted_reported  0 non-null      float64\n",
      " 5   survival_rate_reported    0 non-null      float64\n",
      " 6   site_sqkm                 11 non-null     float64\n",
      " 7   trees_planted_reported    19 non-null     float64\n",
      " 8   site_id_reported          21 non-null     object \n",
      " 9   geometry_reported         21 non-null     object \n",
      " 10  description_reported      21 non-null     object \n",
      " 11  host_name                 21 non-null     object \n",
      " 12  url                       21 non-null     object \n",
      "dtypes: float64(8), object(5)\n",
      "memory usage: 2.3+ KB\n"
     ]
    }
   ],
   "source": [
    "df_ex=pd.read_csv(\"../input/ExplorerLand/explorer_land.csv\")\n",
    "df_ex['host_name'] = 'Explorer Land'\n",
    "df_ex['url'] = 'https://explorer.land/x/projects'\n",
    "df_ex.info()\n"
   ]
  },
  {
   "cell_type": "code",
   "execution_count": 29,
   "metadata": {},
   "outputs": [
    {
     "data": {
      "text/html": [
       "<div>\n",
       "<style scoped>\n",
       "    .dataframe tbody tr th:only-of-type {\n",
       "        vertical-align: middle;\n",
       "    }\n",
       "\n",
       "    .dataframe tbody tr th {\n",
       "        vertical-align: top;\n",
       "    }\n",
       "\n",
       "    .dataframe thead th {\n",
       "        text-align: right;\n",
       "    }\n",
       "</style>\n",
       "<table border=\"1\" class=\"dataframe\">\n",
       "  <thead>\n",
       "    <tr style=\"text-align: right;\">\n",
       "      <th></th>\n",
       "      <th>project_id_reported</th>\n",
       "      <th>country</th>\n",
       "      <th>planting_date_reported</th>\n",
       "      <th>species_count_reported</th>\n",
       "      <th>species_planted_reported</th>\n",
       "      <th>survival_rate_reported</th>\n",
       "      <th>site_sqkm</th>\n",
       "      <th>trees_planted_reported</th>\n",
       "      <th>site_id_reported</th>\n",
       "      <th>geometry_reported</th>\n",
       "      <th>description_reported</th>\n",
       "      <th>host_name</th>\n",
       "      <th>url</th>\n",
       "    </tr>\n",
       "  </thead>\n",
       "  <tbody>\n",
       "    <tr>\n",
       "      <th>0</th>\n",
       "      <td>NaN</td>\n",
       "      <td>NaN</td>\n",
       "      <td>2020.0</td>\n",
       "      <td>NaN</td>\n",
       "      <td>NaN</td>\n",
       "      <td>NaN</td>\n",
       "      <td>0.0044</td>\n",
       "      <td>9000.0</td>\n",
       "      <td>w54el3pdqr439zna</td>\n",
       "      <td>{'type': 'MultiPolygon', 'coordinates': [[[[19...</td>\n",
       "      <td>In 2020, 9,000 trees were planted on Site J by...</td>\n",
       "      <td>Explorer Land</td>\n",
       "      <td>https://explorer.land/x/projects</td>\n",
       "    </tr>\n",
       "    <tr>\n",
       "      <th>1</th>\n",
       "      <td>NaN</td>\n",
       "      <td>NaN</td>\n",
       "      <td>2019.0</td>\n",
       "      <td>NaN</td>\n",
       "      <td>NaN</td>\n",
       "      <td>NaN</td>\n",
       "      <td>0.0026</td>\n",
       "      <td>12000.0</td>\n",
       "      <td>6b4q7jellm4yn8xd</td>\n",
       "      <td>{'type': 'MultiPolygon', 'coordinates': [[[[19...</td>\n",
       "      <td>In 2019, 9,800 trees were planted on Site I, a...</td>\n",
       "      <td>Explorer Land</td>\n",
       "      <td>https://explorer.land/x/projects</td>\n",
       "    </tr>\n",
       "    <tr>\n",
       "      <th>2</th>\n",
       "      <td>NaN</td>\n",
       "      <td>NaN</td>\n",
       "      <td>2015.0</td>\n",
       "      <td>NaN</td>\n",
       "      <td>NaN</td>\n",
       "      <td>NaN</td>\n",
       "      <td>NaN</td>\n",
       "      <td>8001.0</td>\n",
       "      <td>wzgbdynmmxnjkae0</td>\n",
       "      <td>{'type': 'MultiPolygon', 'coordinates': [[[[19...</td>\n",
       "      <td>In 2015, 8,001 trees were planted on Site E, a...</td>\n",
       "      <td>Explorer Land</td>\n",
       "      <td>https://explorer.land/x/projects</td>\n",
       "    </tr>\n",
       "    <tr>\n",
       "      <th>3</th>\n",
       "      <td>NaN</td>\n",
       "      <td>NaN</td>\n",
       "      <td>2023.0</td>\n",
       "      <td>NaN</td>\n",
       "      <td>NaN</td>\n",
       "      <td>NaN</td>\n",
       "      <td>NaN</td>\n",
       "      <td>2700.0</td>\n",
       "      <td>lmedq3q7ebry97va</td>\n",
       "      <td>{'type': 'MultiPolygon', 'coordinates': [[[[19...</td>\n",
       "      <td>The restoration approach implemented at the Bl...</td>\n",
       "      <td>Explorer Land</td>\n",
       "      <td>https://explorer.land/x/projects</td>\n",
       "    </tr>\n",
       "    <tr>\n",
       "      <th>4</th>\n",
       "      <td>NaN</td>\n",
       "      <td>NaN</td>\n",
       "      <td>NaN</td>\n",
       "      <td>NaN</td>\n",
       "      <td>NaN</td>\n",
       "      <td>NaN</td>\n",
       "      <td>NaN</td>\n",
       "      <td>NaN</td>\n",
       "      <td>q4d7myrlv4lya6kz</td>\n",
       "      <td>{'type': 'MultiPolygon', 'coordinates': [[[[19...</td>\n",
       "      <td>In order to protect the old-growth forest from...</td>\n",
       "      <td>Explorer Land</td>\n",
       "      <td>https://explorer.land/x/projects</td>\n",
       "    </tr>\n",
       "  </tbody>\n",
       "</table>\n",
       "</div>"
      ],
      "text/plain": [
       "   project_id_reported  country  planting_date_reported  \\\n",
       "0                  NaN      NaN                  2020.0   \n",
       "1                  NaN      NaN                  2019.0   \n",
       "2                  NaN      NaN                  2015.0   \n",
       "3                  NaN      NaN                  2023.0   \n",
       "4                  NaN      NaN                     NaN   \n",
       "\n",
       "   species_count_reported  species_planted_reported  survival_rate_reported  \\\n",
       "0                     NaN                       NaN                     NaN   \n",
       "1                     NaN                       NaN                     NaN   \n",
       "2                     NaN                       NaN                     NaN   \n",
       "3                     NaN                       NaN                     NaN   \n",
       "4                     NaN                       NaN                     NaN   \n",
       "\n",
       "   site_sqkm  trees_planted_reported  site_id_reported  \\\n",
       "0     0.0044                  9000.0  w54el3pdqr439zna   \n",
       "1     0.0026                 12000.0  6b4q7jellm4yn8xd   \n",
       "2        NaN                  8001.0  wzgbdynmmxnjkae0   \n",
       "3        NaN                  2700.0  lmedq3q7ebry97va   \n",
       "4        NaN                     NaN  q4d7myrlv4lya6kz   \n",
       "\n",
       "                                   geometry_reported  \\\n",
       "0  {'type': 'MultiPolygon', 'coordinates': [[[[19...   \n",
       "1  {'type': 'MultiPolygon', 'coordinates': [[[[19...   \n",
       "2  {'type': 'MultiPolygon', 'coordinates': [[[[19...   \n",
       "3  {'type': 'MultiPolygon', 'coordinates': [[[[19...   \n",
       "4  {'type': 'MultiPolygon', 'coordinates': [[[[19...   \n",
       "\n",
       "                                description_reported      host_name  \\\n",
       "0  In 2020, 9,000 trees were planted on Site J by...  Explorer Land   \n",
       "1  In 2019, 9,800 trees were planted on Site I, a...  Explorer Land   \n",
       "2  In 2015, 8,001 trees were planted on Site E, a...  Explorer Land   \n",
       "3  The restoration approach implemented at the Bl...  Explorer Land   \n",
       "4  In order to protect the old-growth forest from...  Explorer Land   \n",
       "\n",
       "                                url  \n",
       "0  https://explorer.land/x/projects  \n",
       "1  https://explorer.land/x/projects  \n",
       "2  https://explorer.land/x/projects  \n",
       "3  https://explorer.land/x/projects  \n",
       "4  https://explorer.land/x/projects  "
      ]
     },
     "execution_count": 29,
     "metadata": {},
     "output_type": "execute_result"
    }
   ],
   "source": [
    "df_ex.head(5)"
   ]
  },
  {
   "cell_type": "markdown",
   "metadata": {},
   "source": [
    "We extracted  the data from  https://facethefuture.com/#projects described in the script 'Face_Future_metadata_prepro.ipynb'. Further, we already filtered the data in the script 'Face_Future_metadata_prepro.ipynb',and upload the shape file generated in this script to the asset section of google earth enginee and then added some metadata to the files as more closely described in 'GEE_columns generation.ipynb' and harmonize the column naming as in the data description section of the paper."
   ]
  },
  {
   "cell_type": "code",
   "execution_count": 30,
   "metadata": {},
   "outputs": [
    {
     "name": "stdout",
     "output_type": "stream",
     "text": [
      "<class 'pandas.core.frame.DataFrame'>\n",
      "RangeIndex: 396 entries, 0 to 395\n",
      "Data columns (total 13 columns):\n",
      " #   Column                    Non-Null Count  Dtype  \n",
      "---  ------                    --------------  -----  \n",
      " 0   project_id_reported       74 non-null     object \n",
      " 1   site_id_reported          396 non-null    int64  \n",
      " 2   trees_planted_reported    74 non-null     float64\n",
      " 3   site_sqkm                 74 non-null     float64\n",
      " 4   planting_date_reported    74 non-null     float64\n",
      " 5   description_reported      1 non-null      object \n",
      " 6   host_name                 74 non-null     object \n",
      " 7   geometry_reported         396 non-null    object \n",
      " 8   url                       396 non-null    object \n",
      " 9   species_count_reported    0 non-null      float64\n",
      " 10  country                   0 non-null      float64\n",
      " 11  species_planted_reported  0 non-null      float64\n",
      " 12  survival_rate_reported    0 non-null      float64\n",
      "dtypes: float64(7), int64(1), object(5)\n",
      "memory usage: 40.3+ KB\n"
     ]
    }
   ],
   "source": [
    "df_ftf_2=pd.read_csv(\"../input/FaceTheFuture/face_the_future.csv\",encoding='latin-1')\n",
    "df_ftf_2.info()"
   ]
  },
  {
   "cell_type": "markdown",
   "metadata": {},
   "source": [
    "### Verra_Aggregated"
   ]
  },
  {
   "cell_type": "markdown",
   "metadata": {},
   "source": [
    "We extracted  the data from  https://registry.verra.org/app/search/CCB and upload the shape file of the resulting data to the asset section of google earth enginee and then added some metadata to the files as more closely described in 'GEE_columns generation.ipynb' and harmonize the column naming as in the data description section of the paper"
   ]
  },
  {
   "cell_type": "code",
   "execution_count": 51,
   "metadata": {},
   "outputs": [
    {
     "name": "stdout",
     "output_type": "stream",
     "text": [
      "<class 'pandas.core.frame.DataFrame'>\n",
      "RangeIndex: 783984 entries, 0 to 783983\n",
      "Data columns (total 13 columns):\n",
      " #   Column                    Non-Null Count   Dtype  \n",
      "---  ------                    --------------   -----  \n",
      " 0   site_sqkm                 783984 non-null  float64\n",
      " 1   description_reported      783984 non-null  object \n",
      " 2   project_id_reported       783984 non-null  int64  \n",
      " 3   site_id_reported          783984 non-null  int64  \n",
      " 4   species_count_reported    0 non-null       float64\n",
      " 5   species_planted_reported  0 non-null       float64\n",
      " 6   survival_rate_reported    0 non-null       float64\n",
      " 7   trees_planted_reported    0 non-null       float64\n",
      " 8   geometry_reported         783984 non-null  object \n",
      " 9   country                   779044 non-null  object \n",
      " 10  planting_date_reported    778492 non-null  object \n",
      " 11  url                       783984 non-null  object \n",
      " 12  host_name                 783984 non-null  object \n",
      "dtypes: float64(5), int64(2), object(6)\n",
      "memory usage: 77.8+ MB\n"
     ]
    }
   ],
   "source": [
    "df_verra=pd.read_csv(\"../input/Verra/verra_aggregaated.csv\")\n",
    "df_verra['host_name'] = 'Verra'\n",
    "df_verra.info()"
   ]
  },
  {
   "cell_type": "code",
   "execution_count": 52,
   "metadata": {},
   "outputs": [
    {
     "data": {
      "text/html": [
       "<div>\n",
       "<style scoped>\n",
       "    .dataframe tbody tr th:only-of-type {\n",
       "        vertical-align: middle;\n",
       "    }\n",
       "\n",
       "    .dataframe tbody tr th {\n",
       "        vertical-align: top;\n",
       "    }\n",
       "\n",
       "    .dataframe thead th {\n",
       "        text-align: right;\n",
       "    }\n",
       "</style>\n",
       "<table border=\"1\" class=\"dataframe\">\n",
       "  <thead>\n",
       "    <tr style=\"text-align: right;\">\n",
       "      <th></th>\n",
       "      <th>site_sqkm</th>\n",
       "      <th>project_id_reported</th>\n",
       "      <th>site_id_reported</th>\n",
       "      <th>species_count_reported</th>\n",
       "      <th>species_planted_reported</th>\n",
       "      <th>survival_rate_reported</th>\n",
       "      <th>trees_planted_reported</th>\n",
       "    </tr>\n",
       "  </thead>\n",
       "  <tbody>\n",
       "    <tr>\n",
       "      <th>count</th>\n",
       "      <td>783984.000000</td>\n",
       "      <td>783984.000000</td>\n",
       "      <td>783984.000000</td>\n",
       "      <td>0.0</td>\n",
       "      <td>0.0</td>\n",
       "      <td>0.0</td>\n",
       "      <td>0.0</td>\n",
       "    </tr>\n",
       "    <tr>\n",
       "      <th>mean</th>\n",
       "      <td>0.222344</td>\n",
       "      <td>2848.453958</td>\n",
       "      <td>25598.638387</td>\n",
       "      <td>NaN</td>\n",
       "      <td>NaN</td>\n",
       "      <td>NaN</td>\n",
       "      <td>NaN</td>\n",
       "    </tr>\n",
       "    <tr>\n",
       "      <th>std</th>\n",
       "      <td>8.270252</td>\n",
       "      <td>871.056926</td>\n",
       "      <td>34038.048453</td>\n",
       "      <td>NaN</td>\n",
       "      <td>NaN</td>\n",
       "      <td>NaN</td>\n",
       "      <td>NaN</td>\n",
       "    </tr>\n",
       "    <tr>\n",
       "      <th>min</th>\n",
       "      <td>0.000000</td>\n",
       "      <td>142.000000</td>\n",
       "      <td>0.000000</td>\n",
       "      <td>NaN</td>\n",
       "      <td>NaN</td>\n",
       "      <td>NaN</td>\n",
       "      <td>NaN</td>\n",
       "    </tr>\n",
       "    <tr>\n",
       "      <th>25%</th>\n",
       "      <td>0.001207</td>\n",
       "      <td>2391.000000</td>\n",
       "      <td>2172.000000</td>\n",
       "      <td>NaN</td>\n",
       "      <td>NaN</td>\n",
       "      <td>NaN</td>\n",
       "      <td>NaN</td>\n",
       "    </tr>\n",
       "    <tr>\n",
       "      <th>50%</th>\n",
       "      <td>0.003417</td>\n",
       "      <td>2418.000000</td>\n",
       "      <td>9192.500000</td>\n",
       "      <td>NaN</td>\n",
       "      <td>NaN</td>\n",
       "      <td>NaN</td>\n",
       "      <td>NaN</td>\n",
       "    </tr>\n",
       "    <tr>\n",
       "      <th>75%</th>\n",
       "      <td>0.014464</td>\n",
       "      <td>3336.000000</td>\n",
       "      <td>35172.000000</td>\n",
       "      <td>NaN</td>\n",
       "      <td>NaN</td>\n",
       "      <td>NaN</td>\n",
       "      <td>NaN</td>\n",
       "    </tr>\n",
       "    <tr>\n",
       "      <th>max</th>\n",
       "      <td>994.223626</td>\n",
       "      <td>5142.000000</td>\n",
       "      <td>131612.000000</td>\n",
       "      <td>NaN</td>\n",
       "      <td>NaN</td>\n",
       "      <td>NaN</td>\n",
       "      <td>NaN</td>\n",
       "    </tr>\n",
       "  </tbody>\n",
       "</table>\n",
       "</div>"
      ],
      "text/plain": [
       "           site_sqkm  project_id_reported  site_id_reported  \\\n",
       "count  783984.000000        783984.000000     783984.000000   \n",
       "mean        0.222344          2848.453958      25598.638387   \n",
       "std         8.270252           871.056926      34038.048453   \n",
       "min         0.000000           142.000000          0.000000   \n",
       "25%         0.001207          2391.000000       2172.000000   \n",
       "50%         0.003417          2418.000000       9192.500000   \n",
       "75%         0.014464          3336.000000      35172.000000   \n",
       "max       994.223626          5142.000000     131612.000000   \n",
       "\n",
       "       species_count_reported  species_planted_reported  \\\n",
       "count                     0.0                       0.0   \n",
       "mean                      NaN                       NaN   \n",
       "std                       NaN                       NaN   \n",
       "min                       NaN                       NaN   \n",
       "25%                       NaN                       NaN   \n",
       "50%                       NaN                       NaN   \n",
       "75%                       NaN                       NaN   \n",
       "max                       NaN                       NaN   \n",
       "\n",
       "       survival_rate_reported  trees_planted_reported  \n",
       "count                     0.0                     0.0  \n",
       "mean                      NaN                     NaN  \n",
       "std                       NaN                     NaN  \n",
       "min                       NaN                     NaN  \n",
       "25%                       NaN                     NaN  \n",
       "50%                       NaN                     NaN  \n",
       "75%                       NaN                     NaN  \n",
       "max                       NaN                     NaN  "
      ]
     },
     "execution_count": 52,
     "metadata": {},
     "output_type": "execute_result"
    }
   ],
   "source": [
    "df_verra.describe()"
   ]
  },
  {
   "cell_type": "code",
   "execution_count": 53,
   "metadata": {},
   "outputs": [
    {
     "name": "stdout",
     "output_type": "stream",
     "text": [
      "174314.04190310527\n"
     ]
    }
   ],
   "source": [
    "\n",
    "df_verra['site_sqkm'] = pd.to_numeric(df_verra['site_sqkm'], errors='coerce')\n",
    "\n",
    "\n",
    "df_verra['site_sqkm'] = df_verra['site_sqkm'].fillna(0)\n",
    "\n",
    "\n",
    "total = df_verra['site_sqkm'].sum()\n",
    "print(total)"
   ]
  },
  {
   "cell_type": "markdown",
   "metadata": {},
   "source": [
    "### Combining the datasets"
   ]
  },
  {
   "cell_type": "code",
   "execution_count": 54,
   "metadata": {},
   "outputs": [],
   "source": [
    "dfs = [df_plant_2,df_nation_2,df_tist_2,df_tist_w_2,df_asia_2,df_other_2,df_atla_new,df_eco_2,df_ftf_2,df_verra,df_ex,df_latin_2] "
   ]
  },
  {
   "cell_type": "code",
   "execution_count": 55,
   "metadata": {},
   "outputs": [],
   "source": [
    "\n",
    "reference_order = dfs[0].columns.tolist()\n",
    "reordered_dfs = [df[reference_order] for df in dfs]"
   ]
  },
  {
   "cell_type": "code",
   "execution_count": 56,
   "metadata": {},
   "outputs": [
    {
     "name": "stdout",
     "output_type": "stream",
     "text": [
      "<class 'pandas.core.frame.DataFrame'>\n",
      "RangeIndex: 857636 entries, 0 to 857635\n",
      "Data columns (total 13 columns):\n",
      " #   Column                    Non-Null Count   Dtype  \n",
      "---  ------                    --------------   -----  \n",
      " 0   project_id_reported       788671 non-null  object \n",
      " 1   trees_planted_reported    14340 non-null   float64\n",
      " 2   country                   851665 non-null  object \n",
      " 3   description_reported      788616 non-null  object \n",
      " 4   planting_date_reported    793971 non-null  object \n",
      " 5   geometry_reported         857617 non-null  object \n",
      " 6   survival_rate_reported    1665 non-null    float64\n",
      " 7   site_sqkm                 844042 non-null  object \n",
      " 8   site_id_reported          813601 non-null  object \n",
      " 9   host_name                 857314 non-null  object \n",
      " 10  url                       857636 non-null  object \n",
      " 11  species_count_reported    0 non-null       float64\n",
      " 12  species_planted_reported  270 non-null     object \n",
      "dtypes: float64(3), object(10)\n",
      "memory usage: 85.1+ MB\n"
     ]
    }
   ],
   "source": [
    "df_reforestation= pd.concat(reordered_dfs, ignore_index=True)\n",
    "df_reforestation.info()"
   ]
  },
  {
   "cell_type": "markdown",
   "metadata": {},
   "source": [
    "### Filtering only polygon/Multipolygon rows"
   ]
  },
  {
   "cell_type": "code",
   "execution_count": 57,
   "metadata": {},
   "outputs": [
    {
     "name": "stdout",
     "output_type": "stream",
     "text": [
      "<class 'pandas.core.frame.DataFrame'>\n",
      "Index: 817553 entries, 0 to 857207\n",
      "Data columns (total 13 columns):\n",
      " #   Column                    Non-Null Count   Dtype  \n",
      "---  ------                    --------------   -----  \n",
      " 0   project_id_reported       762372 non-null  object \n",
      " 1   trees_planted_reported    14246 non-null   float64\n",
      " 2   country                   812162 non-null  object \n",
      " 3   description_reported      762369 non-null  object \n",
      " 4   planting_date_reported    767928 non-null  object \n",
      " 5   geometry_reported         817553 non-null  object \n",
      " 6   survival_rate_reported    1665 non-null    float64\n",
      " 7   site_sqkm                 817307 non-null  object \n",
      " 8   site_id_reported          773942 non-null  object \n",
      " 9   host_name                 817553 non-null  object \n",
      " 10  url                       817553 non-null  object \n",
      " 11  species_count_reported    0 non-null       float64\n",
      " 12  species_planted_reported  270 non-null     object \n",
      "dtypes: float64(3), object(10)\n",
      "memory usage: 87.3+ MB\n"
     ]
    }
   ],
   "source": [
    "\n",
    "\n",
    "def is_polygon_or_multipolygon(geometry):\n",
    "    if not isinstance(geometry, str):\n",
    "        return False\n",
    "    \n",
    "    \n",
    "    try:\n",
    "        geometry_dict = json.loads(geometry)\n",
    "        if isinstance(geometry_dict, dict) and 'type' in geometry_dict:\n",
    "            return geometry_dict['type'] in ['Polygon', 'MultiPolygon']\n",
    "    except json.JSONDecodeError:\n",
    "        pass\n",
    "    \n",
    "   \n",
    "    try:\n",
    "        geom = wkt.loads(geometry)\n",
    "        return geom.geom_type in ['Polygon', 'MultiPolygon']\n",
    "    except Exception:\n",
    "        return False\n",
    "\n",
    "df_reforestation = df_reforestation[df_reforestation['geometry_reported'].apply(is_polygon_or_multipolygon)]\n",
    "\n",
    "df_reforestation.info()"
   ]
  },
  {
   "cell_type": "markdown",
   "metadata": {},
   "source": [
    "### Filtering only polygons less than 10000kmsq"
   ]
  },
  {
   "cell_type": "code",
   "execution_count": 58,
   "metadata": {},
   "outputs": [],
   "source": [
    "\n",
    "\n",
    "def parse_geometry(geometry):\n",
    "    if pd.isnull(geometry):\n",
    "        return None\n",
    "    try:\n",
    "        # Try to parse as JSON\n",
    "        return shape(json.loads(geometry))\n",
    "    except json.JSONDecodeError:\n",
    "        # If JSON parsing fails, try to parse as WKT\n",
    "        try:\n",
    "            return wkt.loads(geometry)\n",
    "        except Exception:\n",
    "            return None\n",
    "\n",
    "df_reforestation['geometry'] = df_reforestation['geometry_reported'].apply(parse_geometry)\n",
    "\n",
    "gdf = gpd.GeoDataFrame(df_reforestation, geometry='geometry')\n",
    "\n",
    "gdf.crs = \"EPSG:4326\"\n",
    "\n",
    "gdf = gdf.to_crs(epsg=3395)\n",
    "\n",
    "gdf.loc[gdf['site_sqkm'].isnull(), 'site_sqkm'] = gdf['geometry'].area / 1e6"
   ]
  },
  {
   "cell_type": "code",
   "execution_count": 59,
   "metadata": {},
   "outputs": [
    {
     "name": "stdout",
     "output_type": "stream",
     "text": [
      "<class 'geopandas.geodataframe.GeoDataFrame'>\n",
      "Index: 817548 entries, 0 to 857207\n",
      "Data columns (total 14 columns):\n",
      " #   Column                    Non-Null Count   Dtype   \n",
      "---  ------                    --------------   -----   \n",
      " 0   project_id_reported       762367 non-null  object  \n",
      " 1   trees_planted_reported    14242 non-null   float64 \n",
      " 2   country                   812159 non-null  object  \n",
      " 3   description_reported      762364 non-null  object  \n",
      " 4   planting_date_reported    767925 non-null  object  \n",
      " 5   geometry_reported         817548 non-null  object  \n",
      " 6   survival_rate_reported    1664 non-null    float64 \n",
      " 7   site_sqkm                 817548 non-null  float64 \n",
      " 8   site_id_reported          773937 non-null  object  \n",
      " 9   host_name                 817548 non-null  object  \n",
      " 10  url                       817548 non-null  object  \n",
      " 11  species_count_reported    0 non-null       float64 \n",
      " 12  species_planted_reported  270 non-null     object  \n",
      " 13  geometry                  817548 non-null  geometry\n",
      "dtypes: float64(4), geometry(1), object(9)\n",
      "memory usage: 93.6+ MB\n"
     ]
    }
   ],
   "source": [
    "\n",
    "\n",
    "\n",
    "gdf['site_sqkm'] = pd.to_numeric(gdf['site_sqkm'], errors='coerce')\n",
    "\n",
    "\n",
    "gdf_filtered = gdf[gdf['site_sqkm'] < 10000]\n",
    "gdf_filtered.info()"
   ]
  },
  {
   "cell_type": "markdown",
   "metadata": {},
   "source": [
    "### Dropping duplicates"
   ]
  },
  {
   "cell_type": "code",
   "execution_count": 60,
   "metadata": {},
   "outputs": [
    {
     "name": "stderr",
     "output_type": "stream",
     "text": [
      "C:\\Users\\Angela\\AppData\\Local\\Temp\\ipykernel_17744\\1712958370.py:1: SettingWithCopyWarning: \n",
      "A value is trying to be set on a copy of a slice from a DataFrame\n",
      "\n",
      "See the caveats in the documentation: https://pandas.pydata.org/pandas-docs/stable/user_guide/indexing.html#returning-a-view-versus-a-copy\n",
      "  gdf_filtered.drop_duplicates('geometry_reported', inplace = True)\n"
     ]
    }
   ],
   "source": [
    "gdf_filtered.drop_duplicates('geometry_reported', inplace = True)"
   ]
  },
  {
   "cell_type": "code",
   "execution_count": 61,
   "metadata": {},
   "outputs": [
    {
     "name": "stdout",
     "output_type": "stream",
     "text": [
      "<class 'geopandas.geodataframe.GeoDataFrame'>\n",
      "Index: 801584 entries, 0 to 857207\n",
      "Data columns (total 14 columns):\n",
      " #   Column                    Non-Null Count   Dtype   \n",
      "---  ------                    --------------   -----   \n",
      " 0   project_id_reported       747088 non-null  object  \n",
      " 1   trees_planted_reported    13555 non-null   float64 \n",
      " 2   country                   796196 non-null  object  \n",
      " 3   description_reported      747085 non-null  object  \n",
      " 4   planting_date_reported    752072 non-null  object  \n",
      " 5   geometry_reported         801584 non-null  object  \n",
      " 6   survival_rate_reported    1631 non-null    float64 \n",
      " 7   site_sqkm                 801584 non-null  float64 \n",
      " 8   site_id_reported          758014 non-null  object  \n",
      " 9   host_name                 801584 non-null  object  \n",
      " 10  url                       801584 non-null  object  \n",
      " 11  species_count_reported    0 non-null       float64 \n",
      " 12  species_planted_reported  270 non-null     object  \n",
      " 13  geometry                  801584 non-null  geometry\n",
      "dtypes: float64(4), geometry(1), object(9)\n",
      "memory usage: 91.7+ MB\n"
     ]
    }
   ],
   "source": [
    "gdf_filtered.info()"
   ]
  },
  {
   "cell_type": "markdown",
   "metadata": {},
   "source": [
    "#### Creating unique site and projects Ids"
   ]
  },
  {
   "cell_type": "code",
   "execution_count": 62,
   "metadata": {},
   "outputs": [
    {
     "name": "stderr",
     "output_type": "stream",
     "text": [
      "c:\\Users\\Angela\\AppData\\Local\\Programs\\Python\\Python310\\lib\\site-packages\\geopandas\\geodataframe.py:1819: SettingWithCopyWarning: \n",
      "A value is trying to be set on a copy of a slice from a DataFrame.\n",
      "Try using .loc[row_indexer,col_indexer] = value instead\n",
      "\n",
      "See the caveats in the documentation: https://pandas.pydata.org/pandas-docs/stable/user_guide/indexing.html#returning-a-view-versus-a-copy\n",
      "  super().__setitem__(key, value)\n",
      "c:\\Users\\Angela\\AppData\\Local\\Programs\\Python\\Python310\\lib\\site-packages\\geopandas\\geodataframe.py:1819: SettingWithCopyWarning: \n",
      "A value is trying to be set on a copy of a slice from a DataFrame.\n",
      "Try using .loc[row_indexer,col_indexer] = value instead\n",
      "\n",
      "See the caveats in the documentation: https://pandas.pydata.org/pandas-docs/stable/user_guide/indexing.html#returning-a-view-versus-a-copy\n",
      "  super().__setitem__(key, value)\n"
     ]
    }
   ],
   "source": [
    "\n",
    "gdf_filtered['created_site_ids'] = ['reforest_site_{}'.format(i) for i in range(1, len(gdf_filtered) + 1)]\n",
    "\n",
    "\n",
    "unique_project_ids = gdf_filtered['project_id_reported'].unique()\n",
    "project_id_mapping = {id: 'reforest_proj_{}'.format(i) for i, id in enumerate(unique_project_ids, 1)}\n",
    "\n",
    "\n",
    "gdf_filtered['created_project_ids'] = gdf_filtered['project_id_reported'].map(project_id_mapping)"
   ]
  },
  {
   "cell_type": "code",
   "execution_count": 65,
   "metadata": {},
   "outputs": [
    {
     "data": {
      "text/html": [
       "<div>\n",
       "<style scoped>\n",
       "    .dataframe tbody tr th:only-of-type {\n",
       "        vertical-align: middle;\n",
       "    }\n",
       "\n",
       "    .dataframe tbody tr th {\n",
       "        vertical-align: top;\n",
       "    }\n",
       "\n",
       "    .dataframe thead th {\n",
       "        text-align: right;\n",
       "    }\n",
       "</style>\n",
       "<table border=\"1\" class=\"dataframe\">\n",
       "  <thead>\n",
       "    <tr style=\"text-align: right;\">\n",
       "      <th></th>\n",
       "      <th>trees_planted_reported</th>\n",
       "      <th>survival_rate_reported</th>\n",
       "      <th>site_sqkm</th>\n",
       "      <th>species_count_reported</th>\n",
       "    </tr>\n",
       "  </thead>\n",
       "  <tbody>\n",
       "    <tr>\n",
       "      <th>count</th>\n",
       "      <td>1.355500e+04</td>\n",
       "      <td>1631.000000</td>\n",
       "      <td>801584.000000</td>\n",
       "      <td>0.0</td>\n",
       "    </tr>\n",
       "    <tr>\n",
       "      <th>mean</th>\n",
       "      <td>3.452890e+05</td>\n",
       "      <td>90.914776</td>\n",
       "      <td>0.379916</td>\n",
       "      <td>NaN</td>\n",
       "    </tr>\n",
       "    <tr>\n",
       "      <th>std</th>\n",
       "      <td>2.172923e+06</td>\n",
       "      <td>7.317982</td>\n",
       "      <td>30.337182</td>\n",
       "      <td>NaN</td>\n",
       "    </tr>\n",
       "    <tr>\n",
       "      <th>min</th>\n",
       "      <td>0.000000e+00</td>\n",
       "      <td>50.000000</td>\n",
       "      <td>0.000000</td>\n",
       "      <td>NaN</td>\n",
       "    </tr>\n",
       "    <tr>\n",
       "      <th>25%</th>\n",
       "      <td>4.400000e+01</td>\n",
       "      <td>90.000000</td>\n",
       "      <td>0.001354</td>\n",
       "      <td>NaN</td>\n",
       "    </tr>\n",
       "    <tr>\n",
       "      <th>50%</th>\n",
       "      <td>1.140000e+02</td>\n",
       "      <td>90.000000</td>\n",
       "      <td>0.004025</td>\n",
       "      <td>NaN</td>\n",
       "    </tr>\n",
       "    <tr>\n",
       "      <th>75%</th>\n",
       "      <td>5.965000e+02</td>\n",
       "      <td>98.000000</td>\n",
       "      <td>0.017668</td>\n",
       "      <td>NaN</td>\n",
       "    </tr>\n",
       "    <tr>\n",
       "      <th>max</th>\n",
       "      <td>3.000000e+07</td>\n",
       "      <td>100.000000</td>\n",
       "      <td>9324.947852</td>\n",
       "      <td>NaN</td>\n",
       "    </tr>\n",
       "  </tbody>\n",
       "</table>\n",
       "</div>"
      ],
      "text/plain": [
       "       trees_planted_reported  survival_rate_reported      site_sqkm  \\\n",
       "count            1.355500e+04             1631.000000  801584.000000   \n",
       "mean             3.452890e+05               90.914776       0.379916   \n",
       "std              2.172923e+06                7.317982      30.337182   \n",
       "min              0.000000e+00               50.000000       0.000000   \n",
       "25%              4.400000e+01               90.000000       0.001354   \n",
       "50%              1.140000e+02               90.000000       0.004025   \n",
       "75%              5.965000e+02               98.000000       0.017668   \n",
       "max              3.000000e+07              100.000000    9324.947852   \n",
       "\n",
       "       species_count_reported  \n",
       "count                     0.0  \n",
       "mean                      NaN  \n",
       "std                       NaN  \n",
       "min                       NaN  \n",
       "25%                       NaN  \n",
       "50%                       NaN  \n",
       "75%                       NaN  \n",
       "max                       NaN  "
      ]
     },
     "execution_count": 65,
     "metadata": {},
     "output_type": "execute_result"
    }
   ],
   "source": [
    "gdf_filtered.describe()"
   ]
  },
  {
   "cell_type": "code",
   "execution_count": null,
   "metadata": {},
   "outputs": [],
   "source": [
    "#Saving The  data to csv\n",
    "gdf_filtered.to_csv('\"../input/consolidated_reforestation_projects.csv\"', index=False)"
   ]
  },
  {
   "cell_type": "markdown",
   "metadata": {},
   "source": [
    "## After Generating extra columns with  either Feature_collection_direct__GEE_columns_generation.ipynb or Feature_collection_GEE_columns_generation.ipynb"
   ]
  },
  {
   "cell_type": "code",
   "execution_count": null,
   "metadata": {},
   "outputs": [],
   "source": []
  },
  {
   "cell_type": "code",
   "execution_count": 46,
   "metadata": {},
   "outputs": [],
   "source": [
    "import json\n",
    "\n",
    "\n",
    "gdf_dict = json.loads(gdf_filtered.to_json())\n",
    "\n",
    "\n",
    "for feature, row in zip(gdf_dict['features'], gdf_filtered.itertuples()):\n",
    "    if 'properties' in feature:\n",
    "        feature['properties']['Top_Three_NDVI_Months'] = row.Top_Three_NDVI_Months\n",
    "\n",
    "\n",
    "geojson_str = json.dumps(gdf_dict)\n",
    "\n",
    "\n",
    "with open(\"../input/df_reforestation.geojson\", \"w\") as file:\n",
    "    file.write(geojson_str)"
   ]
  },
  {
   "cell_type": "code",
   "execution_count": 47,
   "metadata": {},
   "outputs": [],
   "source": [
    "gdf_filtered.to_file(\"../input/df_reforestation.gpkg\", driver=\"GPKG\")"
   ]
  },
  {
   "cell_type": "code",
   "execution_count": 107,
   "metadata": {},
   "outputs": [
    {
     "name": "stdout",
     "output_type": "stream",
     "text": [
      "<class 'geopandas.geodataframe.GeoDataFrame'>\n",
      "RangeIndex: 783316 entries, 0 to 783315\n",
      "Data columns (total 33 columns):\n",
      " #   Column                            Non-Null Count   Dtype   \n",
      "---  ------                            --------------   -----   \n",
      " 0   id                                783316 non-null  object  \n",
      " 1   country                           778081 non-null  object  \n",
      " 2   description_reported              2447 non-null    object  \n",
      " 3   host_name                         783316 non-null  object  \n",
      " 4   planting_date_reported            749563 non-null  object  \n",
      " 5   project_id_reported               781982 non-null  object  \n",
      " 6   site_id_reported                  782891 non-null  object  \n",
      " 7   site_sqkm                         783316 non-null  float64 \n",
      " 8   survival_rate_reported            509 non-null     float64 \n",
      " 9   trees_planted_reported            9904 non-null    float64 \n",
      " 10  url                               783316 non-null  object  \n",
      " 11  geometry_reported                 783316 non-null  object  \n",
      " 12  Top_Three_NDVI_Months             783316 non-null  object  \n",
      " 13  species_planted_reported          264 non-null     object  \n",
      " 14  species_count_reported            0 non-null       object  \n",
      " 15  built_area                        783316 non-null  float64 \n",
      " 16  intersecting_roads_count          783316 non-null  int64   \n",
      " 17  total_road_length_km              783316 non-null  float64 \n",
      " 18  loss_pre_5                        748681 non-null  float64 \n",
      " 19  loss_post_3                       732164 non-null  float64 \n",
      " 20  loss_post_5                       732164 non-null  float64 \n",
      " 21  tree_cover_area_2020              783316 non-null  float64 \n",
      " 22  tree_cover_area_2015              783316 non-null  float64 \n",
      " 23  tree_cover_area_2010              783316 non-null  float64 \n",
      " 24  tree_cover_area_2005              783316 non-null  float64 \n",
      " 25  tree_cover_area_2000              783316 non-null  float64 \n",
      " 26  cropland gain from trees          783316 non-null  float64 \n",
      " 27  cropland loss to tree             783316 non-null  float64 \n",
      " 28  permanent water                   783316 non-null  float64 \n",
      " 29  short vegetation after tree loss  783316 non-null  float64 \n",
      " 30  created_site_ids                  783316 non-null  object  \n",
      " 31  created_project_ids               783316 non-null  object  \n",
      " 32  geometry                          783316 non-null  geometry\n",
      "dtypes: float64(17), geometry(1), int64(1), object(14)\n",
      "memory usage: 197.2+ MB\n"
     ]
    }
   ],
   "source": [
    "projects = gpd.read_file('df_reforestation.geojson')\n",
    "projects.info()"
   ]
  },
  {
   "cell_type": "code",
   "execution_count": 47,
   "metadata": {},
   "outputs": [
    {
     "name": "stderr",
     "output_type": "stream",
     "text": [
      "/tmp/ipykernel_3895178/366046878.py:9: FutureWarning:\n",
      "\n",
      "The geopandas.dataset module is deprecated and will be removed in GeoPandas 1.0. You can get the original 'naturalearth_lowres' data from https://www.naturalearthdata.com/downloads/110m-cultural-vectors/.\n",
      "\n"
     ]
    },
    {
     "data": {
      "image/png": "[encoded data removed]",
      "text/plain": [
       "<Figure size 1500x1000 with 2 Axes>"
      ]
     },
     "metadata": {},
     "output_type": "display_data"
    }
   ],
   "source": [
    "import geopandas as gpd\n",
    "import matplotlib.pyplot as plt\n",
    "import pandas as pd\n",
    "\n",
    "df_reforestation=gdf_filtered\n",
    "\n",
    "country_counts = df_reforestation.groupby('country').size().reset_index(name='counts')\n",
    "\n",
    "world = gpd.read_file(gpd.datasets.get_path('naturalearth_lowres'))\n",
    "\n",
    "\n",
    "world_with_counts = world.merge(country_counts, how=\"left\", left_on=\"name\", right_on=\"country\")\n",
    "\n",
    "\n",
    "world_with_counts['counts'] = world_with_counts['counts'].fillna(0)\n",
    "\n",
    "\n",
    "fig, ax = plt.subplots(1, 1, figsize=(15, 10))\n",
    "world_with_counts.plot(column='counts', ax=ax, legend=True,\n",
    "                       legend_kwds={'label': \"Count of Reforestation Sites by Country\",\n",
    "                                    'orientation': \"horizontal\"},\n",
    "                       missing_kwds={\"color\": \"lightgrey\", \"label\": \"No data\"})\n",
    "plt.show()"
   ]
  },
  {
   "cell_type": "code",
   "execution_count": 49,
   "metadata": {},
   "outputs": [
    {
     "name": "stderr",
     "output_type": "stream",
     "text": [
      "/home/idisc02/anaconda3/envs/downgrade/lib/python3.8/site-packages/geopandas/geodataframe.py:1538: SettingWithCopyWarning:\n",
      "\n",
      "\n",
      "A value is trying to be set on a copy of a slice from a DataFrame.\n",
      "Try using .loc[row_indexer,col_indexer] = value instead\n",
      "\n",
      "See the caveats in the documentation: https://pandas.pydata.org/pandas-docs/stable/user_guide/indexing.html#returning-a-view-versus-a-copy\n",
      "\n",
      "/tmp/ipykernel_3895178/1140396345.py:25: FutureWarning:\n",
      "\n",
      "The geopandas.dataset module is deprecated and will be removed in GeoPandas 1.0. You can get the original 'naturalearth_lowres' data from https://www.naturalearthdata.com/downloads/110m-cultural-vectors/.\n",
      "\n",
      "/home/idisc02/anaconda3/envs/downgrade/lib/python3.8/site-packages/IPython/core/interactiveshell.py:3445: FutureWarning:\n",
      "\n",
      "The `op` parameter is deprecated and will be removed in a future release. Please use the `predicate` parameter instead.\n",
      "\n",
      "/tmp/ipykernel_3895178/1140396345.py:28: UserWarning:\n",
      "\n",
      "CRS mismatch between the CRS of left geometries and the CRS of right geometries.\n",
      "Use `to_crs()` to reproject one of the input geometries to match the CRS of the other.\n",
      "\n",
      "Left CRS: EPSG:3395\n",
      "Right CRS: EPSG:4326\n",
      "\n",
      "\n"
     ]
    },
    {
     "data": {
      "application/vnd.plotly.v1+json": {
       "config": {
        "plotlyServerURL": "https://plot.ly"
       },
       "data": [
        {
         "coloraxis": "coloraxis",
         "geo": "geo",
         "hovertemplate": "<b>%{hovertext}</b><br><br>iso_a3=%{location}<br>counts=%{z}<extra></extra>",
         "hovertext": [
          "Fiji",
          "Tanzania",
          "W. Sahara",
          "Canada",
          "United States of America",
          "Kazakhstan",
          "Uzbekistan",
          "Papua New Guinea",
          "Indonesia",
          "Argentina",
          "Chile",
          "Dem. Rep. Congo",
          "Somalia",
          "Kenya",
          "Sudan",
          "Chad",
          "Haiti",
          "Dominican Rep.",
          "Russia",
          "Bahamas",
          "Falkland Is.",
          "Norway",
          "Greenland",
          "Fr. S. Antarctic Lands",
          "Timor-Leste",
          "South Africa",
          "Lesotho",
          "Mexico",
          "Uruguay",
          "Brazil",
          "Bolivia",
          "Peru",
          "Colombia",
          "Panama",
          "Costa Rica",
          "Nicaragua",
          "Honduras",
          "El Salvador",
          "Guatemala",
          "Belize",
          "Venezuela",
          "Guyana",
          "Suriname",
          "France",
          "Ecuador",
          "Puerto Rico",
          "Jamaica",
          "Cuba",
          "Zimbabwe",
          "Botswana",
          "Namibia",
          "Senegal",
          "Mali",
          "Mauritania",
          "Benin",
          "Niger",
          "Nigeria",
          "Cameroon",
          "Togo",
          "Ghana",
          "Côte d'Ivoire",
          "Guinea",
          "Guinea-Bissau",
          "Liberia",
          "Sierra Leone",
          "Burkina Faso",
          "Central African Rep.",
          "Congo",
          "Gabon",
          "Eq. Guinea",
          "Zambia",
          "Malawi",
          "Mozambique",
          "eSwatini",
          "Angola",
          "Burundi",
          "Israel",
          "Lebanon",
          "Madagascar",
          "Palestine",
          "Gambia",
          "Tunisia",
          "Algeria",
          "Jordan",
          "United Arab Emirates",
          "Qatar",
          "Kuwait",
          "Iraq",
          "Oman",
          "Vanuatu",
          "Cambodia",
          "Thailand",
          "Laos",
          "Myanmar",
          "Vietnam",
          "North Korea",
          "South Korea",
          "Mongolia",
          "India",
          "Bangladesh",
          "Bhutan",
          "Nepal",
          "Pakistan",
          "Afghanistan",
          "Tajikistan",
          "Kyrgyzstan",
          "Turkmenistan",
          "Iran",
          "Syria",
          "Armenia",
          "Sweden",
          "Belarus",
          "Ukraine",
          "Poland",
          "Austria",
          "Hungary",
          "Moldova",
          "Romania",
          "Lithuania",
          "Latvia",
          "Estonia",
          "Germany",
          "Bulgaria",
          "Greece",
          "Turkey",
          "Albania",
          "Croatia",
          "Switzerland",
          "Luxembourg",
          "Belgium",
          "Netherlands",
          "Portugal",
          "Spain",
          "Ireland",
          "New Caledonia",
          "Solomon Is.",
          "New Zealand",
          "Australia",
          "Sri Lanka",
          "China",
          "Taiwan",
          "Italy",
          "Denmark",
          "United Kingdom",
          "Iceland",
          "Azerbaijan",
          "Georgia",
          "Philippines",
          "Malaysia",
          "Brunei",
          "Slovenia",
          "Finland",
          "Slovakia",
          "Czechia",
          "Eritrea",
          "Japan",
          "Paraguay",
          "Yemen",
          "Saudi Arabia",
          "Antarctica",
          "N. Cyprus",
          "Cyprus",
          "Morocco",
          "Egypt",
          "Libya",
          "Ethiopia",
          "Djibouti",
          "Somaliland",
          "Uganda",
          "Rwanda",
          "Bosnia and Herz.",
          "North Macedonia",
          "Serbia",
          "Montenegro",
          "Kosovo",
          "Trinidad and Tobago",
          "S. Sudan"
         ],
         "locations": [
          "FJI",
          "TZA",
          "ESH",
          "CAN",
          "USA",
          "KAZ",
          "UZB",
          "PNG",
          "IDN",
          "ARG",
          "CHL",
          "COD",
          "SOM",
          "KEN",
          "SDN",
          "TCD",
          "HTI",
          "DOM",
          "RUS",
          "BHS",
          "FLK",
          "NOR",
          "GRL",
          "ATF",
          "TLS",
          "ZAF",
          "LSO",
          "MEX",
          "URY",
          "BRA",
          "BOL",
          "PER",
          "COL",
          "PAN",
          "CRI",
          "NIC",
          "HND",
          "SLV",
          "GTM",
          "BLZ",
          "VEN",
          "GUY",
          "SUR",
          "FRA",
          "ECU",
          "PRI",
          "JAM",
          "CUB",
          "ZWE",
          "BWA",
          "NAM",
          "SEN",
          "MLI",
          "MRT",
          "BEN",
          "NER",
          "NGA",
          "CMR",
          "TGO",
          "GHA",
          "CIV",
          "GIN",
          "GNB",
          "LBR",
          "SLE",
          "BFA",
          "CAF",
          "COG",
          "GAB",
          "GNQ",
          "ZMB",
          "MWI",
          "MOZ",
          "SWZ",
          "AGO",
          "BDI",
          "ISR",
          "LBN",
          "MDG",
          "PSE",
          "GMB",
          "TUN",
          "DZA",
          "JOR",
          "ARE",
          "QAT",
          "KWT",
          "IRQ",
          "OMN",
          "VUT",
          "KHM",
          "THA",
          "LAO",
          "MMR",
          "VNM",
          "PRK",
          "KOR",
          "MNG",
          "IND",
          "BGD",
          "BTN",
          "NPL",
          "PAK",
          "AFG",
          "TJK",
          "KGZ",
          "TKM",
          "IRN",
          "SYR",
          "ARM",
          "SWE",
          "BLR",
          "UKR",
          "POL",
          "AUT",
          "HUN",
          "MDA",
          "ROU",
          "LTU",
          "LVA",
          "EST",
          "DEU",
          "BGR",
          "GRC",
          "TUR",
          "ALB",
          "HRV",
          "CHE",
          "LUX",
          "BEL",
          "NLD",
          "PRT",
          "ESP",
          "IRL",
          "NCL",
          "SLB",
          "NZL",
          "AUS",
          "LKA",
          "CHN",
          "TWN",
          "ITA",
          "DNK",
          "GBR",
          "ISL",
          "AZE",
          "GEO",
          "PHL",
          "MYS",
          "BRN",
          "SVN",
          "FIN",
          "SVK",
          "CZE",
          "ERI",
          "JPN",
          "PRY",
          "YEM",
          "SAU",
          "ATA",
          "CYN",
          "CYP",
          "MAR",
          "EGY",
          "LBY",
          "ETH",
          "DJI",
          "SOL",
          "UGA",
          "RWA",
          "BIH",
          "MKD",
          "SRB",
          "MNE",
          "-99",
          "TTO",
          "SSD"
         ],
         "name": "",
         "type": "choropleth",
         "z": [
          0,
          2739,
          0,
          9118,
          3554,
          0,
          0,
          0,
          17405,
          687,
          4956,
          0,
          0,
          48048,
          0,
          0,
          0,
          0,
          0,
          0,
          0,
          0,
          0,
          0,
          20,
          173,
          0,
          43297,
          25308,
          11192,
          22,
          220,
          36663,
          50,
          0,
          4794,
          0,
          0,
          81,
          0,
          0,
          0,
          0,
          87,
          148,
          0,
          0,
          0,
          29,
          0,
          0,
          4628,
          0,
          0,
          0,
          240,
          829,
          6,
          4,
          4688,
          0,
          8,
          0,
          0,
          5490,
          12,
          0,
          20,
          0,
          0,
          63,
          58,
          12810,
          0,
          0,
          0,
          0,
          0,
          166,
          0,
          0,
          0,
          0,
          0,
          0,
          0,
          0,
          0,
          0,
          0,
          10651,
          58,
          0,
          2168,
          0,
          0,
          0,
          0,
          107518,
          500,
          0,
          18,
          1276,
          0,
          0,
          0,
          0,
          0,
          0,
          0,
          0,
          0,
          0,
          0,
          0,
          0,
          0,
          500,
          0,
          0,
          184,
          0,
          0,
          0,
          0,
          64,
          0,
          0,
          0,
          0,
          0,
          460,
          557,
          0,
          0,
          0,
          0,
          515,
          4331,
          1056216,
          0,
          24,
          0,
          46,
          0,
          0,
          0,
          1591,
          6,
          0,
          0,
          0,
          0,
          0,
          0,
          0,
          1562,
          0,
          12,
          0,
          0,
          0,
          0,
          0,
          0,
          601,
          0,
          0,
          9717,
          88484,
          0,
          0,
          0,
          0,
          0,
          0,
          0
         ]
        }
       ],
       "layout": {
        "coloraxis": {
         "colorbar": {
          "title": {
           "text": "counts"
          }
         },
         "colorscale": [
          [
           0,
           "#0d0887"
          ],
          [
           0.1111111111111111,
           "#46039f"
          ],
          [
           0.2222222222222222,
           "#7201a8"
          ],
          [
           0.3333333333333333,
           "#9c179e"
          ],
          [
           0.4444444444444444,
           "#bd3786"
          ],
          [
           0.5555555555555556,
           "#d8576b"
          ],
          [
           0.6666666666666666,
           "#ed7953"
          ],
          [
           0.7777777777777778,
           "#fb9f3a"
          ],
          [
           0.8888888888888888,
           "#fdca26"
          ],
          [
           1,
           "#f0f921"
          ]
         ]
        },
        "geo": {
         "center": {},
         "domain": {
          "x": [
           0,
           1
          ],
          "y": [
           0,
           1
          ]
         }
        },
        "legend": {
         "tracegroupgap": 0
        },
        "template": {
         "data": {
          "bar": [
           {
            "error_x": {
             "color": "#2a3f5f"
            },
            "error_y": {
             "color": "#2a3f5f"
            },
            "marker": {
             "line": {
              "color": "#E5ECF6",
              "width": 0.5
             }
            },
            "type": "bar"
           }
          ],
          "barpolar": [
           {
            "marker": {
             "line": {
              "color": "#E5ECF6",
              "width": 0.5
             }
            },
            "type": "barpolar"
           }
          ],
          "carpet": [
           {
            "aaxis": {
             "endlinecolor": "#2a3f5f",
             "gridcolor": "white",
             "linecolor": "white",
             "minorgridcolor": "white",
             "startlinecolor": "#2a3f5f"
            },
            "baxis": {
             "endlinecolor": "#2a3f5f",
             "gridcolor": "white",
             "linecolor": "white",
             "minorgridcolor": "white",
             "startlinecolor": "#2a3f5f"
            },
            "type": "carpet"
           }
          ],
          "choropleth": [
           {
            "colorbar": {
             "outlinewidth": 0,
             "ticks": ""
            },
            "type": "choropleth"
           }
          ],
          "contour": [
           {
            "colorbar": {
             "outlinewidth": 0,
             "ticks": ""
            },
            "colorscale": [
             [
              0,
              "#0d0887"
             ],
             [
              0.1111111111111111,
              "#46039f"
             ],
             [
              0.2222222222222222,
              "#7201a8"
             ],
             [
              0.3333333333333333,
              "#9c179e"
             ],
             [
              0.4444444444444444,
              "#bd3786"
             ],
             [
              0.5555555555555556,
              "#d8576b"
             ],
             [
              0.6666666666666666,
              "#ed7953"
             ],
             [
              0.7777777777777778,
              "#fb9f3a"
             ],
             [
              0.8888888888888888,
              "#fdca26"
             ],
             [
              1,
              "#f0f921"
             ]
            ],
            "type": "contour"
           }
          ],
          "contourcarpet": [
           {
            "colorbar": {
             "outlinewidth": 0,
             "ticks": ""
            },
            "type": "contourcarpet"
           }
          ],
          "heatmap": [
           {
            "colorbar": {
             "outlinewidth": 0,
             "ticks": ""
            },
            "colorscale": [
             [
              0,
              "#0d0887"
             ],
             [
              0.1111111111111111,
              "#46039f"
             ],
             [
              0.2222222222222222,
              "#7201a8"
             ],
             [
              0.3333333333333333,
              "#9c179e"
             ],
             [
              0.4444444444444444,
              "#bd3786"
             ],
             [
              0.5555555555555556,
              "#d8576b"
             ],
             [
              0.6666666666666666,
              "#ed7953"
             ],
             [
              0.7777777777777778,
              "#fb9f3a"
             ],
             [
              0.8888888888888888,
              "#fdca26"
             ],
             [
              1,
              "#f0f921"
             ]
            ],
            "type": "heatmap"
           }
          ],
          "heatmapgl": [
           {
            "colorbar": {
             "outlinewidth": 0,
             "ticks": ""
            },
            "colorscale": [
             [
              0,
              "#0d0887"
             ],
             [
              0.1111111111111111,
              "#46039f"
             ],
             [
              0.2222222222222222,
              "#7201a8"
             ],
             [
              0.3333333333333333,
              "#9c179e"
             ],
             [
              0.4444444444444444,
              "#bd3786"
             ],
             [
              0.5555555555555556,
              "#d8576b"
             ],
             [
              0.6666666666666666,
              "#ed7953"
             ],
             [
              0.7777777777777778,
              "#fb9f3a"
             ],
             [
              0.8888888888888888,
              "#fdca26"
             ],
             [
              1,
              "#f0f921"
             ]
            ],
            "type": "heatmapgl"
           }
          ],
          "histogram": [
           {
            "marker": {
             "colorbar": {
              "outlinewidth": 0,
              "ticks": ""
             }
            },
            "type": "histogram"
           }
          ],
          "histogram2d": [
           {
            "colorbar": {
             "outlinewidth": 0,
             "ticks": ""
            },
            "colorscale": [
             [
              0,
              "#0d0887"
             ],
             [
              0.1111111111111111,
              "#46039f"
             ],
             [
              0.2222222222222222,
              "#7201a8"
             ],
             [
              0.3333333333333333,
              "#9c179e"
             ],
             [
              0.4444444444444444,
              "#bd3786"
             ],
             [
              0.5555555555555556,
              "#d8576b"
             ],
             [
              0.6666666666666666,
              "#ed7953"
             ],
             [
              0.7777777777777778,
              "#fb9f3a"
             ],
             [
              0.8888888888888888,
              "#fdca26"
             ],
             [
              1,
              "#f0f921"
             ]
            ],
            "type": "histogram2d"
           }
          ],
          "histogram2dcontour": [
           {
            "colorbar": {
             "outlinewidth": 0,
             "ticks": ""
            },
            "colorscale": [
             [
              0,
              "#0d0887"
             ],
             [
              0.1111111111111111,
              "#46039f"
             ],
             [
              0.2222222222222222,
              "#7201a8"
             ],
             [
              0.3333333333333333,
              "#9c179e"
             ],
             [
              0.4444444444444444,
              "#bd3786"
             ],
             [
              0.5555555555555556,
              "#d8576b"
             ],
             [
              0.6666666666666666,
              "#ed7953"
             ],
             [
              0.7777777777777778,
              "#fb9f3a"
             ],
             [
              0.8888888888888888,
              "#fdca26"
             ],
             [
              1,
              "#f0f921"
             ]
            ],
            "type": "histogram2dcontour"
           }
          ],
          "mesh3d": [
           {
            "colorbar": {
             "outlinewidth": 0,
             "ticks": ""
            },
            "type": "mesh3d"
           }
          ],
          "parcoords": [
           {
            "line": {
             "colorbar": {
              "outlinewidth": 0,
              "ticks": ""
             }
            },
            "type": "parcoords"
           }
          ],
          "pie": [
           {
            "automargin": true,
            "type": "pie"
           }
          ],
          "scatter": [
           {
            "marker": {
             "colorbar": {
              "outlinewidth": 0,
              "ticks": ""
             }
            },
            "type": "scatter"
           }
          ],
          "scatter3d": [
           {
            "line": {
             "colorbar": {
              "outlinewidth": 0,
              "ticks": ""
             }
            },
            "marker": {
             "colorbar": {
              "outlinewidth": 0,
              "ticks": ""
             }
            },
            "type": "scatter3d"
           }
          ],
          "scattercarpet": [
           {
            "marker": {
             "colorbar": {
              "outlinewidth": 0,
              "ticks": ""
             }
            },
            "type": "scattercarpet"
           }
          ],
          "scattergeo": [
           {
            "marker": {
             "colorbar": {
              "outlinewidth": 0,
              "ticks": ""
             }
            },
            "type": "scattergeo"
           }
          ],
          "scattergl": [
           {
            "marker": {
             "colorbar": {
              "outlinewidth": 0,
              "ticks": ""
             }
            },
            "type": "scattergl"
           }
          ],
          "scattermapbox": [
           {
            "marker": {
             "colorbar": {
              "outlinewidth": 0,
              "ticks": ""
             }
            },
            "type": "scattermapbox"
           }
          ],
          "scatterpolar": [
           {
            "marker": {
             "colorbar": {
              "outlinewidth": 0,
              "ticks": ""
             }
            },
            "type": "scatterpolar"
           }
          ],
          "scatterpolargl": [
           {
            "marker": {
             "colorbar": {
              "outlinewidth": 0,
              "ticks": ""
             }
            },
            "type": "scatterpolargl"
           }
          ],
          "scatterternary": [
           {
            "marker": {
             "colorbar": {
              "outlinewidth": 0,
              "ticks": ""
             }
            },
            "type": "scatterternary"
           }
          ],
          "surface": [
           {
            "colorbar": {
             "outlinewidth": 0,
             "ticks": ""
            },
            "colorscale": [
             [
              0,
              "#0d0887"
             ],
             [
              0.1111111111111111,
              "#46039f"
             ],
             [
              0.2222222222222222,
              "#7201a8"
             ],
             [
              0.3333333333333333,
              "#9c179e"
             ],
             [
              0.4444444444444444,
              "#bd3786"
             ],
             [
              0.5555555555555556,
              "#d8576b"
             ],
             [
              0.6666666666666666,
              "#ed7953"
             ],
             [
              0.7777777777777778,
              "#fb9f3a"
             ],
             [
              0.8888888888888888,
              "#fdca26"
             ],
             [
              1,
              "#f0f921"
             ]
            ],
            "type": "surface"
           }
          ],
          "table": [
           {
            "cells": {
             "fill": {
              "color": "#EBF0F8"
             },
             "line": {
              "color": "white"
             }
            },
            "header": {
             "fill": {
              "color": "#C8D4E3"
             },
             "line": {
              "color": "white"
             }
            },
            "type": "table"
           }
          ]
         },
         "layout": {
          "annotationdefaults": {
           "arrowcolor": "#2a3f5f",
           "arrowhead": 0,
           "arrowwidth": 1
          },
          "autotypenumbers": "strict",
          "coloraxis": {
           "colorbar": {
            "outlinewidth": 0,
            "ticks": ""
           }
          },
          "colorscale": {
           "diverging": [
            [
             0,
             "#8e0152"
            ],
            [
             0.1,
             "#c51b7d"
            ],
            [
             0.2,
             "#de77ae"
            ],
            [
             0.3,
             "#f1b6da"
            ],
            [
             0.4,
             "#fde0ef"
            ],
            [
             0.5,
             "#f7f7f7"
            ],
            [
             0.6,
             "#e6f5d0"
            ],
            [
             0.7,
             "#b8e186"
            ],
            [
             0.8,
             "#7fbc41"
            ],
            [
             0.9,
             "#4d9221"
            ],
            [
             1,
             "#276419"
            ]
           ],
           "sequential": [
            [
             0,
             "#0d0887"
            ],
            [
             0.1111111111111111,
             "#46039f"
            ],
            [
             0.2222222222222222,
             "#7201a8"
            ],
            [
             0.3333333333333333,
             "#9c179e"
            ],
            [
             0.4444444444444444,
             "#bd3786"
            ],
            [
             0.5555555555555556,
             "#d8576b"
            ],
            [
             0.6666666666666666,
             "#ed7953"
            ],
            [
             0.7777777777777778,
             "#fb9f3a"
            ],
            [
             0.8888888888888888,
             "#fdca26"
            ],
            [
             1,
             "#f0f921"
            ]
           ],
           "sequentialminus": [
            [
             0,
             "#0d0887"
            ],
            [
             0.1111111111111111,
             "#46039f"
            ],
            [
             0.2222222222222222,
             "#7201a8"
            ],
            [
             0.3333333333333333,
             "#9c179e"
            ],
            [
             0.4444444444444444,
             "#bd3786"
            ],
            [
             0.5555555555555556,
             "#d8576b"
            ],
            [
             0.6666666666666666,
             "#ed7953"
            ],
            [
             0.7777777777777778,
             "#fb9f3a"
            ],
            [
             0.8888888888888888,
             "#fdca26"
            ],
            [
             1,
             "#f0f921"
            ]
           ]
          },
          "colorway": [
           "#636efa",
           "#EF553B",
           "#00cc96",
           "#ab63fa",
           "#FFA15A",
           "#19d3f3",
           "#FF6692",
           "#B6E880",
           "#FF97FF",
           "#FECB52"
          ],
          "font": {
           "color": "#2a3f5f"
          },
          "geo": {
           "bgcolor": "white",
           "lakecolor": "white",
           "landcolor": "#E5ECF6",
           "showlakes": true,
           "showland": true,
           "subunitcolor": "white"
          },
          "hoverlabel": {
           "align": "left"
          },
          "hovermode": "closest",
          "mapbox": {
           "style": "light"
          },
          "paper_bgcolor": "white",
          "plot_bgcolor": "#E5ECF6",
          "polar": {
           "angularaxis": {
            "gridcolor": "white",
            "linecolor": "white",
            "ticks": ""
           },
           "bgcolor": "#E5ECF6",
           "radialaxis": {
            "gridcolor": "white",
            "linecolor": "white",
            "ticks": ""
           }
          },
          "scene": {
           "xaxis": {
            "backgroundcolor": "#E5ECF6",
            "gridcolor": "white",
            "gridwidth": 2,
            "linecolor": "white",
            "showbackground": true,
            "ticks": "",
            "zerolinecolor": "white"
           },
           "yaxis": {
            "backgroundcolor": "#E5ECF6",
            "gridcolor": "white",
            "gridwidth": 2,
            "linecolor": "white",
            "showbackground": true,
            "ticks": "",
            "zerolinecolor": "white"
           },
           "zaxis": {
            "backgroundcolor": "#E5ECF6",
            "gridcolor": "white",
            "gridwidth": 2,
            "linecolor": "white",
            "showbackground": true,
            "ticks": "",
            "zerolinecolor": "white"
           }
          },
          "shapedefaults": {
           "line": {
            "color": "#2a3f5f"
           }
          },
          "ternary": {
           "aaxis": {
            "gridcolor": "white",
            "linecolor": "white",
            "ticks": ""
           },
           "baxis": {
            "gridcolor": "white",
            "linecolor": "white",
            "ticks": ""
           },
           "bgcolor": "#E5ECF6",
           "caxis": {
            "gridcolor": "white",
            "linecolor": "white",
            "ticks": ""
           }
          },
          "title": {
           "x": 0.05
          },
          "xaxis": {
           "automargin": true,
           "gridcolor": "white",
           "linecolor": "white",
           "ticks": "",
           "title": {
            "standoff": 15
           },
           "zerolinecolor": "white",
           "zerolinewidth": 2
          },
          "yaxis": {
           "automargin": true,
           "gridcolor": "white",
           "linecolor": "white",
           "ticks": "",
           "title": {
            "standoff": 15
           },
           "zerolinecolor": "white",
           "zerolinewidth": 2
          }
         }
        },
        "title": {
         "text": "Global Reforestation Sites Count"
        }
       }
      }
     },
     "metadata": {},
     "output_type": "display_data"
    }
   ],
   "source": [
    "import geopandas as gpd\n",
    "import pandas as pd\n",
    "from shapely.geometry import shape\n",
    "import plotly.express as px\n",
    "import json\n",
    "\n",
    "def convert_to_geometry(geojson_input):\n",
    "    if geojson_input == '{}' or geojson_input is None:\n",
    "        return None\n",
    "    try:\n",
    "        if isinstance(geojson_input, dict): \n",
    "            return shape(geojson_input)\n",
    "        else:\n",
    "            geojson_obj = json.loads(geojson_input) \n",
    "            return shape(geojson_obj)\n",
    "    except (json.JSONDecodeError, TypeError):\n",
    "        return None\n",
    "\n",
    "df_reforestation['geometry'] = df_reforestation['geometry_reported'].apply(convert_to_geometry)\n",
    "gdf_sites = gpd.GeoDataFrame(df_reforestation, geometry='geometry')\n",
    "\n",
    "\n",
    "\n",
    "\n",
    "world = gpd.read_file(gpd.datasets.get_path('naturalearth_lowres'))\n",
    "\n",
    "\n",
    "gdf_sites_with_country = gpd.sjoin(gdf_sites, world, how=\"left\", op='intersects')\n",
    "\n",
    "\n",
    "country_counts_from_sites = gdf_sites_with_country.groupby('name').size().reset_index(name='counts')\n",
    "\n",
    "\n",
    "country_counts = country_counts.merge(country_counts_from_sites, how=\"outer\", left_on=\"country\", right_on=\"name\")\n",
    "country_counts['counts'] = country_counts[['counts_x', 'counts_y']].sum(axis=1)\n",
    "country_counts.drop(['counts_x', 'counts_y', 'name'], axis=1, inplace=True)\n",
    "\n",
    "world_with_counts = world.merge(country_counts, how=\"left\", left_on=\"name\", right_on=\"country\")\n",
    "\n",
    "\n",
    "world_with_counts['counts'] = world_with_counts['counts'].fillna(0)\n",
    "\n",
    "\n",
    "fig = px.choropleth(world_with_counts,\n",
    "                    locations=\"iso_a3\",\n",
    "                    color=\"counts\",\n",
    "                    hover_name=\"name\",\n",
    "                    color_continuous_scale=px.colors.sequential.Plasma,\n",
    "                    title=\"Global Reforestation Sites Count\")\n",
    "\n",
    "fig.show()"
   ]
  },
  {
   "cell_type": "code",
   "execution_count": 96,
   "metadata": {},
   "outputs": [
    {
     "data": {
      "application/vnd.plotly.v1+json": {
       "config": {
        "plotlyServerURL": "https://plot.ly"
       },
       "data": [
        {
         "colorbar": {
          "title": {
           "text": "Site Counts"
          }
         },
         "colorscale": [
          [
           0,
           "#0d0887"
          ],
          [
           0.1111111111111111,
           "#46039f"
          ],
          [
           0.2222222222222222,
           "#7201a8"
          ],
          [
           0.3333333333333333,
           "#9c179e"
          ],
          [
           0.4444444444444444,
           "#bd3786"
          ],
          [
           0.5555555555555556,
           "#d8576b"
          ],
          [
           0.6666666666666666,
           "#ed7953"
          ],
          [
           0.7777777777777778,
           "#fb9f3a"
          ],
          [
           0.8888888888888888,
           "#fdca26"
          ],
          [
           1,
           "#f0f921"
          ]
         ],
         "geo": "geo",
         "hoverinfo": "location+name+z",
         "locations": [
          "FJI",
          "TZA",
          "ESH",
          "CAN",
          "USA",
          "KAZ",
          "UZB",
          "PNG",
          "IDN",
          "ARG",
          "CHL",
          "COD",
          "SOM",
          "KEN",
          "SDN",
          "TCD",
          "HTI",
          "DOM",
          "RUS",
          "BHS",
          "FLK",
          "NOR",
          "GRL",
          "ATF",
          "TLS",
          "ZAF",
          "LSO",
          "MEX",
          "URY",
          "BRA",
          "BOL",
          "PER",
          "COL",
          "PAN",
          "CRI",
          "NIC",
          "HND",
          "SLV",
          "GTM",
          "BLZ",
          "VEN",
          "GUY",
          "SUR",
          "FRA",
          "ECU",
          "PRI",
          "JAM",
          "CUB",
          "ZWE",
          "BWA",
          "NAM",
          "SEN",
          "MLI",
          "MRT",
          "BEN",
          "NER",
          "NGA",
          "CMR",
          "TGO",
          "GHA",
          "CIV",
          "GIN",
          "GNB",
          "LBR",
          "SLE",
          "BFA",
          "CAF",
          "COG",
          "GAB",
          "GNQ",
          "ZMB",
          "MWI",
          "MOZ",
          "SWZ",
          "AGO",
          "BDI",
          "ISR",
          "LBN",
          "MDG",
          "PSE",
          "GMB",
          "TUN",
          "DZA",
          "JOR",
          "ARE",
          "QAT",
          "KWT",
          "IRQ",
          "OMN",
          "VUT",
          "KHM",
          "THA",
          "LAO",
          "MMR",
          "VNM",
          "PRK",
          "KOR",
          "MNG",
          "IND",
          "BGD",
          "BTN",
          "NPL",
          "PAK",
          "AFG",
          "TJK",
          "KGZ",
          "TKM",
          "IRN",
          "SYR",
          "ARM",
          "SWE",
          "BLR",
          "UKR",
          "POL",
          "AUT",
          "HUN",
          "MDA",
          "ROU",
          "LTU",
          "LVA",
          "EST",
          "DEU",
          "BGR",
          "GRC",
          "TUR",
          "ALB",
          "HRV",
          "CHE",
          "LUX",
          "BEL",
          "NLD",
          "PRT",
          "ESP",
          "IRL",
          "NCL",
          "SLB",
          "NZL",
          "AUS",
          "LKA",
          "CHN",
          "TWN",
          "ITA",
          "DNK",
          "GBR",
          "ISL",
          "AZE",
          "GEO",
          "PHL",
          "MYS",
          "BRN",
          "SVN",
          "FIN",
          "SVK",
          "CZE",
          "ERI",
          "JPN",
          "PRY",
          "YEM",
          "SAU",
          "ATA",
          "CYN",
          "CYP",
          "MAR",
          "EGY",
          "LBY",
          "ETH",
          "DJI",
          "SOL",
          "UGA",
          "RWA",
          "BIH",
          "MKD",
          "SRB",
          "MNE",
          "-99",
          "TTO",
          "SSD"
         ],
         "type": "choropleth",
         "z": [
          0,
          2739,
          0,
          9118,
          3554,
          0,
          0,
          0,
          17405,
          687,
          4956,
          0,
          0,
          48048,
          0,
          0,
          0,
          0,
          0,
          0,
          0,
          0,
          0,
          0,
          20,
          173,
          0,
          43297,
          25308,
          11192,
          22,
          220,
          36663,
          50,
          0,
          4794,
          0,
          0,
          81,
          0,
          0,
          0,
          0,
          87,
          148,
          0,
          0,
          0,
          29,
          0,
          0,
          4628,
          0,
          0,
          0,
          240,
          829,
          6,
          4,
          4688,
          0,
          8,
          0,
          0,
          5490,
          12,
          0,
          20,
          0,
          0,
          63,
          58,
          12810,
          0,
          0,
          0,
          0,
          0,
          166,
          0,
          0,
          0,
          0,
          0,
          0,
          0,
          0,
          0,
          0,
          0,
          10651,
          58,
          0,
          2168,
          0,
          0,
          0,
          0,
          107518,
          500,
          0,
          18,
          1276,
          0,
          0,
          0,
          0,
          0,
          0,
          0,
          0,
          0,
          0,
          0,
          0,
          0,
          0,
          500,
          0,
          0,
          184,
          0,
          0,
          0,
          0,
          64,
          0,
          0,
          0,
          0,
          0,
          460,
          557,
          0,
          0,
          0,
          0,
          515,
          4331,
          1056216,
          0,
          24,
          0,
          46,
          0,
          0,
          0,
          1591,
          6,
          0,
          0,
          0,
          0,
          0,
          0,
          0,
          1562,
          0,
          12,
          0,
          0,
          0,
          0,
          0,
          0,
          601,
          0,
          0,
          9717,
          88484,
          0,
          0,
          0,
          0,
          0,
          0,
          0
         ]
        },
        {
         "cells": {
          "align": "left",
          "fill": {
           "color": "lavender"
          },
          "values": [
           [
            "China",
            "India",
            "Rwanda",
            "Kenya",
            "Mexico",
            "Colombia",
            "Uruguay",
            "Indonesia",
            "Mozambique",
            "Brazil",
            "Cambodia",
            "Uganda",
            "Canada",
            "Sierra Leone",
            "Chile",
            "Nicaragua",
            "Ghana",
            "Senegal",
            "Sri Lanka",
            "United States of America",
            "Tanzania",
            "Myanmar",
            "Philippines",
            "Paraguay",
            "Pakistan",
            "Nigeria",
            "Argentina",
            "Ethiopia",
            "Spain",
            "Australia",
            "Bangladesh",
            "Romania",
            "Portugal",
            "Niger",
            "Peru",
            "Estonia",
            "South Africa",
            "Madagascar",
            "Ecuador",
            "France",
            "Guatemala",
            "Albania",
            "Zambia",
            "Thailand",
            "Malawi",
            "Panama",
            "United Kingdom",
            "Zimbabwe",
            "Italy",
            "Bolivia",
            "Congo",
            "Timor-Leste",
            "Nepal",
            "Saudi Arabia",
            "Burkina Faso",
            "Guinea",
            "Malaysia",
            "Cameroon",
            "Togo",
            "Moldova",
            "Austria",
            "Ukraine",
            "Hungary",
            "Poland",
            "Netherlands",
            "Latvia",
            "Lithuania",
            "Belgium",
            "Greece",
            "Germany",
            "Luxembourg",
            "Switzerland",
            "Croatia",
            "Turkey",
            "Ireland",
            "Bulgaria",
            "Fiji",
            "Iceland",
            "New Caledonia",
            "Antarctica",
            "Trinidad and Tobago",
            "Kosovo",
            "Montenegro",
            "Serbia",
            "North Macedonia",
            "Bosnia and Herz.",
            "Somaliland",
            "Djibouti",
            "Libya",
            "Egypt",
            "Morocco",
            "Cyprus",
            "N. Cyprus",
            "Yemen",
            "Solomon Is.",
            "Japan",
            "Eritrea",
            "Czechia",
            "Slovakia",
            "Finland",
            "Slovenia",
            "Brunei",
            "Georgia",
            "Azerbaijan",
            "Sweden",
            "Denmark",
            "Taiwan",
            "New Zealand",
            "Belarus",
            "Oman",
            "Armenia",
            "Fr. S. Antarctic Lands",
            "Mali",
            "Namibia",
            "Botswana",
            "Cuba",
            "Jamaica",
            "Puerto Rico",
            "Suriname",
            "Guyana",
            "Venezuela",
            "Belize",
            "El Salvador",
            "Honduras",
            "Costa Rica",
            "Lesotho",
            "Greenland",
            "Benin",
            "Norway",
            "Falkland Is.",
            "Bahamas",
            "Russia",
            "Dominican Rep.",
            "Haiti",
            "Chad",
            "Sudan",
            "Somalia",
            "Dem. Rep. Congo",
            "Papua New Guinea",
            "Uzbekistan",
            "Kazakhstan",
            "W. Sahara",
            "Mauritania",
            "Côte d'Ivoire",
            "Syria",
            "Qatar",
            "Iran",
            "Turkmenistan",
            "Kyrgyzstan",
            "Tajikistan",
            "Afghanistan",
            "Bhutan",
            "Mongolia",
            "South Korea",
            "North Korea",
            "Vietnam",
            "Laos",
            "Vanuatu",
            "Iraq",
            "Kuwait",
            "United Arab Emirates",
            "Guinea-Bissau",
            "Jordan",
            "Algeria",
            "Tunisia",
            "Gambia",
            "Palestine",
            "Lebanon",
            "Israel",
            "Burundi",
            "Angola",
            "eSwatini",
            "Eq. Guinea",
            "Gabon",
            "Central African Rep.",
            "Liberia",
            "S. Sudan"
           ],
           [
            1056216,
            107518,
            88484,
            48048,
            43297,
            36663,
            25308,
            17405,
            12810,
            11192,
            10651,
            9717,
            9118,
            5490,
            4956,
            4794,
            4688,
            4628,
            4331,
            3554,
            2739,
            2168,
            1591,
            1562,
            1276,
            829,
            687,
            601,
            557,
            515,
            500,
            500,
            460,
            240,
            220,
            184,
            173,
            166,
            148,
            87,
            81,
            64,
            63,
            58,
            58,
            50,
            46,
            29,
            24,
            22,
            20,
            20,
            18,
            12,
            12,
            8,
            6,
            6,
            4,
            0,
            0,
            0,
            0,
            0,
            0,
            0,
            0,
            0,
            0,
            0,
            0,
            0,
            0,
            0,
            0,
            0,
            0,
            0,
            0,
            0,
            0,
            0,
            0,
            0,
            0,
            0,
            0,
            0,
            0,
            0,
            0,
            0,
            0,
            0,
            0,
            0,
            0,
            0,
            0,
            0,
            0,
            0,
            0,
            0,
            0,
            0,
            0,
            0,
            0,
            0,
            0,
            0,
            0,
            0,
            0,
            0,
            0,
            0,
            0,
            0,
            0,
            0,
            0,
            0,
            0,
            0,
            0,
            0,
            0,
            0,
            0,
            0,
            0,
            0,
            0,
            0,
            0,
            0,
            0,
            0,
            0,
            0,
            0,
            0,
            0,
            0,
            0,
            0,
            0,
            0,
            0,
            0,
            0,
            0,
            0,
            0,
            0,
            0,
            0,
            0,
            0,
            0,
            0,
            0,
            0,
            0,
            0,
            0,
            0,
            0,
            0,
            0,
            0,
            0,
            0,
            0,
            0
           ]
          ]
         },
         "domain": {
          "x": [
           0.73,
           1
          ],
          "y": [
           0,
           1
          ]
         },
         "header": {
          "align": "left",
          "fill": {
           "color": "paleturquoise"
          },
          "values": [
           "Country",
           "Counts"
          ]
         },
         "type": "table"
        }
       ],
       "layout": {
        "geo": {
         "domain": {
          "x": [
           0,
           0.63
          ],
          "y": [
           0,
           1
          ]
         }
        },
        "height": 600,
        "template": {
         "data": {
          "bar": [
           {
            "error_x": {
             "color": "#2a3f5f"
            },
            "error_y": {
             "color": "#2a3f5f"
            },
            "marker": {
             "line": {
              "color": "#E5ECF6",
              "width": 0.5
             }
            },
            "type": "bar"
           }
          ],
          "barpolar": [
           {
            "marker": {
             "line": {
              "color": "#E5ECF6",
              "width": 0.5
             }
            },
            "type": "barpolar"
           }
          ],
          "carpet": [
           {
            "aaxis": {
             "endlinecolor": "#2a3f5f",
             "gridcolor": "white",
             "linecolor": "white",
             "minorgridcolor": "white",
             "startlinecolor": "#2a3f5f"
            },
            "baxis": {
             "endlinecolor": "#2a3f5f",
             "gridcolor": "white",
             "linecolor": "white",
             "minorgridcolor": "white",
             "startlinecolor": "#2a3f5f"
            },
            "type": "carpet"
           }
          ],
          "choropleth": [
           {
            "colorbar": {
             "outlinewidth": 0,
             "ticks": ""
            },
            "type": "choropleth"
           }
          ],
          "contour": [
           {
            "colorbar": {
             "outlinewidth": 0,
             "ticks": ""
            },
            "colorscale": [
             [
              0,
              "#0d0887"
             ],
             [
              0.1111111111111111,
              "#46039f"
             ],
             [
              0.2222222222222222,
              "#7201a8"
             ],
             [
              0.3333333333333333,
              "#9c179e"
             ],
             [
              0.4444444444444444,
              "#bd3786"
             ],
             [
              0.5555555555555556,
              "#d8576b"
             ],
             [
              0.6666666666666666,
              "#ed7953"
             ],
             [
              0.7777777777777778,
              "#fb9f3a"
             ],
             [
              0.8888888888888888,
              "#fdca26"
             ],
             [
              1,
              "#f0f921"
             ]
            ],
            "type": "contour"
           }
          ],
          "contourcarpet": [
           {
            "colorbar": {
             "outlinewidth": 0,
             "ticks": ""
            },
            "type": "contourcarpet"
           }
          ],
          "heatmap": [
           {
            "colorbar": {
             "outlinewidth": 0,
             "ticks": ""
            },
            "colorscale": [
             [
              0,
              "#0d0887"
             ],
             [
              0.1111111111111111,
              "#46039f"
             ],
             [
              0.2222222222222222,
              "#7201a8"
             ],
             [
              0.3333333333333333,
              "#9c179e"
             ],
             [
              0.4444444444444444,
              "#bd3786"
             ],
             [
              0.5555555555555556,
              "#d8576b"
             ],
             [
              0.6666666666666666,
              "#ed7953"
             ],
             [
              0.7777777777777778,
              "#fb9f3a"
             ],
             [
              0.8888888888888888,
              "#fdca26"
             ],
             [
              1,
              "#f0f921"
             ]
            ],
            "type": "heatmap"
           }
          ],
          "heatmapgl": [
           {
            "colorbar": {
             "outlinewidth": 0,
             "ticks": ""
            },
            "colorscale": [
             [
              0,
              "#0d0887"
             ],
             [
              0.1111111111111111,
              "#46039f"
             ],
             [
              0.2222222222222222,
              "#7201a8"
             ],
             [
              0.3333333333333333,
              "#9c179e"
             ],
             [
              0.4444444444444444,
              "#bd3786"
             ],
             [
              0.5555555555555556,
              "#d8576b"
             ],
             [
              0.6666666666666666,
              "#ed7953"
             ],
             [
              0.7777777777777778,
              "#fb9f3a"
             ],
             [
              0.8888888888888888,
              "#fdca26"
             ],
             [
              1,
              "#f0f921"
             ]
            ],
            "type": "heatmapgl"
           }
          ],
          "histogram": [
           {
            "marker": {
             "colorbar": {
              "outlinewidth": 0,
              "ticks": ""
             }
            },
            "type": "histogram"
           }
          ],
          "histogram2d": [
           {
            "colorbar": {
             "outlinewidth": 0,
             "ticks": ""
            },
            "colorscale": [
             [
              0,
              "#0d0887"
             ],
             [
              0.1111111111111111,
              "#46039f"
             ],
             [
              0.2222222222222222,
              "#7201a8"
             ],
             [
              0.3333333333333333,
              "#9c179e"
             ],
             [
              0.4444444444444444,
              "#bd3786"
             ],
             [
              0.5555555555555556,
              "#d8576b"
             ],
             [
              0.6666666666666666,
              "#ed7953"
             ],
             [
              0.7777777777777778,
              "#fb9f3a"
             ],
             [
              0.8888888888888888,
              "#fdca26"
             ],
             [
              1,
              "#f0f921"
             ]
            ],
            "type": "histogram2d"
           }
          ],
          "histogram2dcontour": [
           {
            "colorbar": {
             "outlinewidth": 0,
             "ticks": ""
            },
            "colorscale": [
             [
              0,
              "#0d0887"
             ],
             [
              0.1111111111111111,
              "#46039f"
             ],
             [
              0.2222222222222222,
              "#7201a8"
             ],
             [
              0.3333333333333333,
              "#9c179e"
             ],
             [
              0.4444444444444444,
              "#bd3786"
             ],
             [
              0.5555555555555556,
              "#d8576b"
             ],
             [
              0.6666666666666666,
              "#ed7953"
             ],
             [
              0.7777777777777778,
              "#fb9f3a"
             ],
             [
              0.8888888888888888,
              "#fdca26"
             ],
             [
              1,
              "#f0f921"
             ]
            ],
            "type": "histogram2dcontour"
           }
          ],
          "mesh3d": [
           {
            "colorbar": {
             "outlinewidth": 0,
             "ticks": ""
            },
            "type": "mesh3d"
           }
          ],
          "parcoords": [
           {
            "line": {
             "colorbar": {
              "outlinewidth": 0,
              "ticks": ""
             }
            },
            "type": "parcoords"
           }
          ],
          "pie": [
           {
            "automargin": true,
            "type": "pie"
           }
          ],
          "scatter": [
           {
            "marker": {
             "colorbar": {
              "outlinewidth": 0,
              "ticks": ""
             }
            },
            "type": "scatter"
           }
          ],
          "scatter3d": [
           {
            "line": {
             "colorbar": {
              "outlinewidth": 0,
              "ticks": ""
             }
            },
            "marker": {
             "colorbar": {
              "outlinewidth": 0,
              "ticks": ""
             }
            },
            "type": "scatter3d"
           }
          ],
          "scattercarpet": [
           {
            "marker": {
             "colorbar": {
              "outlinewidth": 0,
              "ticks": ""
             }
            },
            "type": "scattercarpet"
           }
          ],
          "scattergeo": [
           {
            "marker": {
             "colorbar": {
              "outlinewidth": 0,
              "ticks": ""
             }
            },
            "type": "scattergeo"
           }
          ],
          "scattergl": [
           {
            "marker": {
             "colorbar": {
              "outlinewidth": 0,
              "ticks": ""
             }
            },
            "type": "scattergl"
           }
          ],
          "scattermapbox": [
           {
            "marker": {
             "colorbar": {
              "outlinewidth": 0,
              "ticks": ""
             }
            },
            "type": "scattermapbox"
           }
          ],
          "scatterpolar": [
           {
            "marker": {
             "colorbar": {
              "outlinewidth": 0,
              "ticks": ""
             }
            },
            "type": "scatterpolar"
           }
          ],
          "scatterpolargl": [
           {
            "marker": {
             "colorbar": {
              "outlinewidth": 0,
              "ticks": ""
             }
            },
            "type": "scatterpolargl"
           }
          ],
          "scatterternary": [
           {
            "marker": {
             "colorbar": {
              "outlinewidth": 0,
              "ticks": ""
             }
            },
            "type": "scatterternary"
           }
          ],
          "surface": [
           {
            "colorbar": {
             "outlinewidth": 0,
             "ticks": ""
            },
            "colorscale": [
             [
              0,
              "#0d0887"
             ],
             [
              0.1111111111111111,
              "#46039f"
             ],
             [
              0.2222222222222222,
              "#7201a8"
             ],
             [
              0.3333333333333333,
              "#9c179e"
             ],
             [
              0.4444444444444444,
              "#bd3786"
             ],
             [
              0.5555555555555556,
              "#d8576b"
             ],
             [
              0.6666666666666666,
              "#ed7953"
             ],
             [
              0.7777777777777778,
              "#fb9f3a"
             ],
             [
              0.8888888888888888,
              "#fdca26"
             ],
             [
              1,
              "#f0f921"
             ]
            ],
            "type": "surface"
           }
          ],
          "table": [
           {
            "cells": {
             "fill": {
              "color": "#EBF0F8"
             },
             "line": {
              "color": "white"
             }
            },
            "header": {
             "fill": {
              "color": "#C8D4E3"
             },
             "line": {
              "color": "white"
             }
            },
            "type": "table"
           }
          ]
         },
         "layout": {
          "annotationdefaults": {
           "arrowcolor": "#2a3f5f",
           "arrowhead": 0,
           "arrowwidth": 1
          },
          "autotypenumbers": "strict",
          "coloraxis": {
           "colorbar": {
            "outlinewidth": 0,
            "ticks": ""
           }
          },
          "colorscale": {
           "diverging": [
            [
             0,
             "#8e0152"
            ],
            [
             0.1,
             "#c51b7d"
            ],
            [
             0.2,
             "#de77ae"
            ],
            [
             0.3,
             "#f1b6da"
            ],
            [
             0.4,
             "#fde0ef"
            ],
            [
             0.5,
             "#f7f7f7"
            ],
            [
             0.6,
             "#e6f5d0"
            ],
            [
             0.7,
             "#b8e186"
            ],
            [
             0.8,
             "#7fbc41"
            ],
            [
             0.9,
             "#4d9221"
            ],
            [
             1,
             "#276419"
            ]
           ],
           "sequential": [
            [
             0,
             "#0d0887"
            ],
            [
             0.1111111111111111,
             "#46039f"
            ],
            [
             0.2222222222222222,
             "#7201a8"
            ],
            [
             0.3333333333333333,
             "#9c179e"
            ],
            [
             0.4444444444444444,
             "#bd3786"
            ],
            [
             0.5555555555555556,
             "#d8576b"
            ],
            [
             0.6666666666666666,
             "#ed7953"
            ],
            [
             0.7777777777777778,
             "#fb9f3a"
            ],
            [
             0.8888888888888888,
             "#fdca26"
            ],
            [
             1,
             "#f0f921"
            ]
           ],
           "sequentialminus": [
            [
             0,
             "#0d0887"
            ],
            [
             0.1111111111111111,
             "#46039f"
            ],
            [
             0.2222222222222222,
             "#7201a8"
            ],
            [
             0.3333333333333333,
             "#9c179e"
            ],
            [
             0.4444444444444444,
             "#bd3786"
            ],
            [
             0.5555555555555556,
             "#d8576b"
            ],
            [
             0.6666666666666666,
             "#ed7953"
            ],
            [
             0.7777777777777778,
             "#fb9f3a"
            ],
            [
             0.8888888888888888,
             "#fdca26"
            ],
            [
             1,
             "#f0f921"
            ]
           ]
          },
          "colorway": [
           "#636efa",
           "#EF553B",
           "#00cc96",
           "#ab63fa",
           "#FFA15A",
           "#19d3f3",
           "#FF6692",
           "#B6E880",
           "#FF97FF",
           "#FECB52"
          ],
          "font": {
           "color": "#2a3f5f"
          },
          "geo": {
           "bgcolor": "white",
           "lakecolor": "white",
           "landcolor": "#E5ECF6",
           "showlakes": true,
           "showland": true,
           "subunitcolor": "white"
          },
          "hoverlabel": {
           "align": "left"
          },
          "hovermode": "closest",
          "mapbox": {
           "style": "light"
          },
          "paper_bgcolor": "white",
          "plot_bgcolor": "#E5ECF6",
          "polar": {
           "angularaxis": {
            "gridcolor": "white",
            "linecolor": "white",
            "ticks": ""
           },
           "bgcolor": "#E5ECF6",
           "radialaxis": {
            "gridcolor": "white",
            "linecolor": "white",
            "ticks": ""
           }
          },
          "scene": {
           "xaxis": {
            "backgroundcolor": "#E5ECF6",
            "gridcolor": "white",
            "gridwidth": 2,
            "linecolor": "white",
            "showbackground": true,
            "ticks": "",
            "zerolinecolor": "white"
           },
           "yaxis": {
            "backgroundcolor": "#E5ECF6",
            "gridcolor": "white",
            "gridwidth": 2,
            "linecolor": "white",
            "showbackground": true,
            "ticks": "",
            "zerolinecolor": "white"
           },
           "zaxis": {
            "backgroundcolor": "#E5ECF6",
            "gridcolor": "white",
            "gridwidth": 2,
            "linecolor": "white",
            "showbackground": true,
            "ticks": "",
            "zerolinecolor": "white"
           }
          },
          "shapedefaults": {
           "line": {
            "color": "#2a3f5f"
           }
          },
          "ternary": {
           "aaxis": {
            "gridcolor": "white",
            "linecolor": "white",
            "ticks": ""
           },
           "baxis": {
            "gridcolor": "white",
            "linecolor": "white",
            "ticks": ""
           },
           "bgcolor": "#E5ECF6",
           "caxis": {
            "gridcolor": "white",
            "linecolor": "white",
            "ticks": ""
           }
          },
          "title": {
           "x": 0.05
          },
          "xaxis": {
           "automargin": true,
           "gridcolor": "white",
           "linecolor": "white",
           "ticks": "",
           "title": {
            "standoff": 15
           },
           "zerolinecolor": "white",
           "zerolinewidth": 2
          },
          "yaxis": {
           "automargin": true,
           "gridcolor": "white",
           "linecolor": "white",
           "ticks": "",
           "title": {
            "standoff": 15
           },
           "zerolinecolor": "white",
           "zerolinewidth": 2
          }
         }
        },
        "title": {
         "text": "Global Reforestation Sites Count with Table"
        },
        "width": 1200
       }
      }
     },
     "metadata": {},
     "output_type": "display_data"
    }
   ],
   "source": [
    "import plotly.graph_objects as go\n",
    "from plotly.subplots import make_subplots\n",
    "\n",
    "\n",
    "fig = make_subplots(\n",
    "    rows=1, cols=2,\n",
    "    column_widths=[0.7, 0.3],\n",
    "    specs=[[{\"type\": \"choropleth\"}, {\"type\": \"table\"}]]\n",
    ")\n",
    "\n",
    "\n",
    "fig.add_trace(\n",
    "    go.Choropleth(\n",
    "        locations=world_with_counts['iso_a3'],\n",
    "        z=world_with_counts['counts'],\n",
    "        hoverinfo=\"location+name+z\",\n",
    "        colorscale=px.colors.sequential.Plasma,\n",
    "        colorbar_title=\"Site Counts\"\n",
    "    ),\n",
    "    row=1, col=1\n",
    ")\n",
    "\n",
    "\n",
    "table_data = world_with_counts[['name', 'counts']].sort_values(by='counts', ascending=False)\n",
    "\n",
    "\n",
    "fig.add_trace(\n",
    "    go.Table(\n",
    "        header=dict(values=[\"Country\", \"Counts\"],\n",
    "                    fill_color='paleturquoise',\n",
    "                    align='left'),\n",
    "        cells=dict(values=[table_data.name, table_data.counts],\n",
    "                   fill_color='lavender',\n",
    "                   align='left')\n",
    "    ),\n",
    "    row=1, col=2\n",
    ")\n",
    "\n",
    "\n",
    "fig.update_layout(\n",
    "    title_text=\"Global Reforestation Sites Count with Table\",\n",
    "    width=1200,\n",
    "    height=600\n",
    ")\n",
    "\n",
    "\n",
    "fig.show()"
   ]
  },
  {
   "cell_type": "code",
   "execution_count": 99,
   "metadata": {},
   "outputs": [
    {
     "data": {
      "application/vnd.plotly.v1+json": {
       "config": {
        "plotlyServerURL": "https://plot.ly"
       },
       "data": [
        {
         "colorbar": {
          "title": {
           "text": "Total Sites"
          }
         },
         "colorscale": [
          [
           0,
           "#0d0887"
          ],
          [
           0.1111111111111111,
           "#46039f"
          ],
          [
           0.2222222222222222,
           "#7201a8"
          ],
          [
           0.3333333333333333,
           "#9c179e"
          ],
          [
           0.4444444444444444,
           "#bd3786"
          ],
          [
           0.5555555555555556,
           "#d8576b"
          ],
          [
           0.6666666666666666,
           "#ed7953"
          ],
          [
           0.7777777777777778,
           "#fb9f3a"
          ],
          [
           0.8888888888888888,
           "#fdca26"
          ],
          [
           1,
           "#f0f921"
          ]
         ],
         "geo": "geo",
         "hoverinfo": "text",
         "locations": [
          "FJI",
          "TZA",
          "ESH",
          "CAN",
          "USA",
          "KAZ",
          "UZB",
          "PNG",
          "IDN",
          "ARG",
          "CHL",
          "COD",
          "SOM",
          "KEN",
          "SDN",
          "TCD",
          "HTI",
          "DOM",
          "RUS",
          "BHS",
          "FLK",
          "NOR",
          "GRL",
          "ATF",
          "TLS",
          "ZAF",
          "LSO",
          "MEX",
          "URY",
          "BRA",
          "BOL",
          "PER",
          "COL",
          "PAN",
          "CRI",
          "NIC",
          "HND",
          "SLV",
          "GTM",
          "BLZ",
          "VEN",
          "GUY",
          "SUR",
          "FRA",
          "ECU",
          "PRI",
          "JAM",
          "CUB",
          "ZWE",
          "BWA",
          "NAM",
          "SEN",
          "MLI",
          "MRT",
          "BEN",
          "NER",
          "NGA",
          "CMR",
          "TGO",
          "GHA",
          "CIV",
          "GIN",
          "GNB",
          "LBR",
          "SLE",
          "BFA",
          "CAF",
          "COG",
          "GAB",
          "GNQ",
          "ZMB",
          "MWI",
          "MOZ",
          "SWZ",
          "AGO",
          "BDI",
          "ISR",
          "LBN",
          "MDG",
          "PSE",
          "GMB",
          "TUN",
          "DZA",
          "JOR",
          "ARE",
          "QAT",
          "KWT",
          "IRQ",
          "OMN",
          "VUT",
          "KHM",
          "THA",
          "LAO",
          "MMR",
          "VNM",
          "PRK",
          "KOR",
          "MNG",
          "IND",
          "BGD",
          "BTN",
          "NPL",
          "PAK",
          "AFG",
          "TJK",
          "KGZ",
          "TKM",
          "IRN",
          "SYR",
          "ARM",
          "SWE",
          "BLR",
          "UKR",
          "POL",
          "AUT",
          "HUN",
          "MDA",
          "ROU",
          "LTU",
          "LVA",
          "EST",
          "DEU",
          "BGR",
          "GRC",
          "TUR",
          "ALB",
          "HRV",
          "CHE",
          "LUX",
          "BEL",
          "NLD",
          "PRT",
          "ESP",
          "IRL",
          "NCL",
          "SLB",
          "NZL",
          "AUS",
          "LKA",
          "CHN",
          "TWN",
          "ITA",
          "DNK",
          "GBR",
          "ISL",
          "AZE",
          "GEO",
          "PHL",
          "MYS",
          "BRN",
          "SVN",
          "FIN",
          "SVK",
          "CZE",
          "ERI",
          "JPN",
          "PRY",
          "YEM",
          "SAU",
          "ATA",
          "CYN",
          "CYP",
          "MAR",
          "EGY",
          "LBY",
          "ETH",
          "DJI",
          "SOL",
          "UGA",
          "RWA",
          "BIH",
          "MKD",
          "SRB",
          "MNE",
          "-99",
          "TTO",
          "SSD"
         ],
         "text": [
          "Fiji<br>Total Sites: 0",
          "Tanzania<br>Total Sites: 2345",
          "W. Sahara<br>Total Sites: 0",
          "Canada<br>Total Sites: 4502",
          "United States of America<br>Total Sites: 3543",
          "Kazakhstan<br>Total Sites: 0",
          "Uzbekistan<br>Total Sites: 0",
          "Papua New Guinea<br>Total Sites: 0",
          "Indonesia<br>Total Sites: 7323",
          "Argentina<br>Total Sites: 346",
          "Chile<br>Total Sites: 2479",
          "Dem. Rep. Congo<br>Total Sites: 57",
          "Somalia<br>Total Sites: 0",
          "Kenya<br>Total Sites: 31197",
          "Sudan<br>Total Sites: 0",
          "Chad<br>Total Sites: 2",
          "Haiti<br>Total Sites: 7",
          "Dominican Rep.<br>Total Sites: 0",
          "Russia<br>Total Sites: 3",
          "Bahamas<br>Total Sites: 0",
          "Falkland Is.<br>Total Sites: 0",
          "Norway<br>Total Sites: 0",
          "Greenland<br>Total Sites: 0",
          "Fr. S. Antarctic Lands<br>Total Sites: 0",
          "Timor-Leste<br>Total Sites: 8",
          "South Africa<br>Total Sites: 105",
          "Lesotho<br>Total Sites: 0",
          "Mexico<br>Total Sites: 21664",
          "Uruguay<br>Total Sites: 12653",
          "Brazil<br>Total Sites: 5571",
          "Bolivia<br>Total Sites: 13",
          "Peru<br>Total Sites: 110",
          "Colombia<br>Total Sites: 18315",
          "Panama<br>Total Sites: 20",
          "Costa Rica<br>Total Sites: 19",
          "Nicaragua<br>Total Sites: 2400",
          "Honduras<br>Total Sites: 1",
          "El Salvador<br>Total Sites: 0",
          "Guatemala<br>Total Sites: 62",
          "Belize<br>Total Sites: 0",
          "Venezuela<br>Total Sites: 47",
          "Guyana<br>Total Sites: 0",
          "Suriname<br>Total Sites: 0",
          "France<br>Total Sites: 46",
          "Ecuador<br>Total Sites: 90",
          "Puerto Rico<br>Total Sites: 0",
          "Jamaica<br>Total Sites: 0",
          "Cuba<br>Total Sites: 0",
          "Zimbabwe<br>Total Sites: 28",
          "Botswana<br>Total Sites: 1",
          "Namibia<br>Total Sites: 2",
          "Senegal<br>Total Sites: 2204",
          "Mali<br>Total Sites: 0",
          "Mauritania<br>Total Sites: 0",
          "Benin<br>Total Sites: 0",
          "Niger<br>Total Sites: 116",
          "Nigeria<br>Total Sites: 422",
          "Cameroon<br>Total Sites: 4",
          "Togo<br>Total Sites: 3",
          "Ghana<br>Total Sites: 2120",
          "Côte d'Ivoire<br>Total Sites: 2",
          "Guinea<br>Total Sites: 4",
          "Guinea-Bissau<br>Total Sites: 102",
          "Liberia<br>Total Sites: 0",
          "Sierra Leone<br>Total Sites: 2745",
          "Burkina Faso<br>Total Sites: 6",
          "Central African Rep.<br>Total Sites: 1",
          "Congo<br>Total Sites: 10",
          "Gabon<br>Total Sites: 2",
          "Eq. Guinea<br>Total Sites: 0",
          "Zambia<br>Total Sites: 58",
          "Malawi<br>Total Sites: 43",
          "Mozambique<br>Total Sites: 4466",
          "eSwatini<br>Total Sites: 0",
          "Angola<br>Total Sites: 2",
          "Burundi<br>Total Sites: 19",
          "Israel<br>Total Sites: 3",
          "Lebanon<br>Total Sites: 0",
          "Madagascar<br>Total Sites: 105",
          "Palestine<br>Total Sites: 3",
          "Gambia<br>Total Sites: 34",
          "Tunisia<br>Total Sites: 0",
          "Algeria<br>Total Sites: 0",
          "Jordan<br>Total Sites: 3",
          "United Arab Emirates<br>Total Sites: 9",
          "Qatar<br>Total Sites: 0",
          "Kuwait<br>Total Sites: 0",
          "Iraq<br>Total Sites: 0",
          "Oman<br>Total Sites: 0",
          "Vanuatu<br>Total Sites: 0",
          "Cambodia<br>Total Sites: 5319",
          "Thailand<br>Total Sites: 37",
          "Laos<br>Total Sites: 1269",
          "Myanmar<br>Total Sites: 922",
          "Vietnam<br>Total Sites: 16",
          "North Korea<br>Total Sites: 0",
          "South Korea<br>Total Sites: 0",
          "Mongolia<br>Total Sites: 1",
          "India<br>Total Sites: 53551",
          "Bangladesh<br>Total Sites: 165",
          "Bhutan<br>Total Sites: 0",
          "Nepal<br>Total Sites: 16",
          "Pakistan<br>Total Sites: 632",
          "Afghanistan<br>Total Sites: 0",
          "Tajikistan<br>Total Sites: 0",
          "Kyrgyzstan<br>Total Sites: 0",
          "Turkmenistan<br>Total Sites: 0",
          "Iran<br>Total Sites: 0",
          "Syria<br>Total Sites: 1",
          "Armenia<br>Total Sites: 0",
          "Sweden<br>Total Sites: 44",
          "Belarus<br>Total Sites: 0",
          "Ukraine<br>Total Sites: 1",
          "Poland<br>Total Sites: 0",
          "Austria<br>Total Sites: 0",
          "Hungary<br>Total Sites: 0",
          "Moldova<br>Total Sites: 0",
          "Romania<br>Total Sites: 250",
          "Lithuania<br>Total Sites: 1",
          "Latvia<br>Total Sites: 14",
          "Estonia<br>Total Sites: 79",
          "Germany<br>Total Sites: 48",
          "Bulgaria<br>Total Sites: 0",
          "Greece<br>Total Sites: 0",
          "Turkey<br>Total Sites: 0",
          "Albania<br>Total Sites: 32",
          "Croatia<br>Total Sites: 0",
          "Switzerland<br>Total Sites: 0",
          "Luxembourg<br>Total Sites: 0",
          "Belgium<br>Total Sites: 3",
          "Netherlands<br>Total Sites: 0",
          "Portugal<br>Total Sites: 230",
          "Spain<br>Total Sites: 289",
          "Ireland<br>Total Sites: 1",
          "New Caledonia<br>Total Sites: 0",
          "Solomon Is.<br>Total Sites: 0",
          "New Zealand<br>Total Sites: 0",
          "Australia<br>Total Sites: 263",
          "Sri Lanka<br>Total Sites: 2162",
          "China<br>Total Sites: 530480",
          "Taiwan<br>Total Sites: 0",
          "Italy<br>Total Sites: 13",
          "Denmark<br>Total Sites: 9",
          "United Kingdom<br>Total Sites: 25",
          "Iceland<br>Total Sites: 0",
          "Azerbaijan<br>Total Sites: 0",
          "Georgia<br>Total Sites: 0",
          "Philippines<br>Total Sites: 733",
          "Malaysia<br>Total Sites: 3",
          "Brunei<br>Total Sites: 0",
          "Slovenia<br>Total Sites: 0",
          "Finland<br>Total Sites: 0",
          "Slovakia<br>Total Sites: 0",
          "Czechia<br>Total Sites: 3",
          "Eritrea<br>Total Sites: 0",
          "Japan<br>Total Sites: 0",
          "Paraguay<br>Total Sites: 781",
          "Yemen<br>Total Sites: 0",
          "Saudi Arabia<br>Total Sites: 0",
          "Antarctica<br>Total Sites: 0",
          "N. Cyprus<br>Total Sites: 0",
          "Cyprus<br>Total Sites: 0",
          "Morocco<br>Total Sites: 0",
          "Egypt<br>Total Sites: 0",
          "Libya<br>Total Sites: 0",
          "Ethiopia<br>Total Sites: 302",
          "Djibouti<br>Total Sites: 0",
          "Somaliland<br>Total Sites: 0",
          "Uganda<br>Total Sites: 6360",
          "Rwanda<br>Total Sites: 44311",
          "Bosnia and Herz.<br>Total Sites: 0",
          "North Macedonia<br>Total Sites: 0",
          "Serbia<br>Total Sites: 0",
          "Montenegro<br>Total Sites: 0",
          "Kosovo<br>Total Sites: 0",
          "Trinidad and Tobago<br>Total Sites: 0",
          "S. Sudan<br>Total Sites: 1"
         ],
         "type": "choropleth",
         "z": [
          0,
          2345,
          0,
          4502,
          3543,
          0,
          0,
          0,
          7323,
          346,
          2479,
          57,
          0,
          31197,
          0,
          2,
          7,
          0,
          3,
          0,
          0,
          0,
          0,
          0,
          8,
          105,
          0,
          21664,
          12653,
          5571,
          13,
          110,
          18315,
          20,
          19,
          2400,
          1,
          0,
          62,
          0,
          47,
          0,
          0,
          46,
          90,
          0,
          0,
          0,
          28,
          1,
          2,
          2204,
          0,
          0,
          0,
          116,
          422,
          4,
          3,
          2120,
          2,
          4,
          102,
          0,
          2745,
          6,
          1,
          10,
          2,
          0,
          58,
          43,
          4466,
          0,
          2,
          19,
          3,
          0,
          105,
          3,
          34,
          0,
          0,
          3,
          9,
          0,
          0,
          0,
          0,
          0,
          5319,
          37,
          1269,
          922,
          16,
          0,
          0,
          1,
          53551,
          165,
          0,
          16,
          632,
          0,
          0,
          0,
          0,
          0,
          1,
          0,
          44,
          0,
          1,
          0,
          0,
          0,
          0,
          250,
          1,
          14,
          79,
          48,
          0,
          0,
          0,
          32,
          0,
          0,
          0,
          3,
          0,
          230,
          289,
          1,
          0,
          0,
          0,
          263,
          2162,
          530480,
          0,
          13,
          9,
          25,
          0,
          0,
          0,
          733,
          3,
          0,
          0,
          0,
          0,
          3,
          0,
          0,
          781,
          0,
          0,
          0,
          0,
          0,
          0,
          0,
          0,
          302,
          0,
          0,
          6360,
          44311,
          0,
          0,
          0,
          0,
          0,
          0,
          1
         ]
        },
        {
         "cells": {
          "align": "left",
          "fill": {
           "color": "rgb(240, 249, 33)"
          },
          "values": [
           [
            "China",
            "India",
            "Rwanda",
            "Kenya",
            "Mexico",
            "Colombia",
            "Uruguay",
            "Indonesia",
            "Uganda",
            "Brazil",
            "Cambodia",
            "Canada",
            "Mozambique",
            "United States of America",
            "Sierra Leone",
            "Chile",
            "Nicaragua",
            "Tanzania",
            "Senegal",
            "Sri Lanka",
            "Ghana",
            "Laos",
            "Myanmar",
            "Paraguay",
            "Philippines",
            "Pakistan",
            "Nigeria",
            "Argentina",
            "Ethiopia",
            "Spain",
            "Australia",
            "Romania",
            "Portugal",
            "Bangladesh",
            "Niger",
            "Peru",
            "South Africa",
            "Madagascar",
            "Guinea-Bissau",
            "Ecuador",
            "Estonia",
            "Guatemala",
            "Zambia",
            "Dem. Rep. Congo",
            "Germany",
            "Venezuela",
            "France",
            "Sweden",
            "Malawi",
            "Thailand",
            "Gambia",
            "Albania",
            "Zimbabwe",
            "United Kingdom",
            "Panama",
            "Burundi",
            "Costa Rica",
            "Nepal",
            "Vietnam",
            "Latvia",
            "Italy",
            "Bolivia",
            "Congo",
            "United Arab Emirates",
            "Denmark",
            "Timor-Leste",
            "Haiti",
            "Burkina Faso",
            "Guinea",
            "Cameroon",
            "Belgium",
            "Israel",
            "Czechia",
            "Malaysia",
            "Jordan",
            "Togo",
            "Russia",
            "Palestine",
            "Namibia",
            "Angola",
            "Gabon",
            "Côte d'Ivoire",
            "Chad",
            "Lithuania",
            "Ukraine",
            "Ireland",
            "Mongolia",
            "Syria",
            "S. Sudan",
            "Botswana",
            "Honduras",
            "Central African Rep.",
            "Iceland",
            "Egypt",
            "Libya",
            "Djibouti",
            "Somaliland",
            "Netherlands",
            "Bosnia and Herz.",
            "North Macedonia",
            "Morocco",
            "Serbia",
            "Montenegro",
            "Kosovo",
            "Trinidad and Tobago",
            "Luxembourg",
            "Switzerland",
            "New Caledonia",
            "Solomon Is.",
            "Azerbaijan",
            "New Zealand",
            "Cyprus",
            "N. Cyprus",
            "Antarctica",
            "Saudi Arabia",
            "Yemen",
            "Taiwan",
            "Japan",
            "Eritrea",
            "Slovakia",
            "Finland",
            "Slovenia",
            "Brunei",
            "Georgia",
            "Croatia",
            "Fiji",
            "Turkey",
            "Fr. S. Antarctic Lands",
            "Mauritania",
            "Mali",
            "Cuba",
            "Jamaica",
            "Puerto Rico",
            "Suriname",
            "Guyana",
            "Belize",
            "El Salvador",
            "Lesotho",
            "Greenland",
            "Liberia",
            "Norway",
            "Falkland Is.",
            "Bahamas",
            "Dominican Rep.",
            "Sudan",
            "Somalia",
            "Papua New Guinea",
            "Uzbekistan",
            "Kazakhstan",
            "W. Sahara",
            "Benin",
            "Eq. Guinea",
            "Greece",
            "Tajikistan",
            "Bulgaria",
            "Moldova",
            "Hungary",
            "Austria",
            "Poland",
            "Belarus",
            "Armenia",
            "Iran",
            "Turkmenistan",
            "Kyrgyzstan",
            "Afghanistan",
            "eSwatini",
            "Bhutan",
            "South Korea",
            "North Korea",
            "Vanuatu",
            "Iraq",
            "Kuwait",
            "Qatar",
            "Algeria",
            "Tunisia",
            "Lebanon",
            "Oman"
           ],
           [
            530480,
            53551,
            44311,
            31197,
            21664,
            18315,
            12653,
            7323,
            6360,
            5571,
            5319,
            4502,
            4466,
            3543,
            2745,
            2479,
            2400,
            2345,
            2204,
            2162,
            2120,
            1269,
            922,
            781,
            733,
            632,
            422,
            346,
            302,
            289,
            263,
            250,
            230,
            165,
            116,
            110,
            105,
            105,
            102,
            90,
            79,
            62,
            58,
            57,
            48,
            47,
            46,
            44,
            43,
            37,
            34,
            32,
            28,
            25,
            20,
            19,
            19,
            16,
            16,
            14,
            13,
            13,
            10,
            9,
            9,
            8,
            7,
            6,
            4,
            4,
            3,
            3,
            3,
            3,
            3,
            3,
            3,
            3,
            2,
            2,
            2,
            2,
            2,
            1,
            1,
            1,
            1,
            1,
            1,
            1,
            1,
            1,
            0,
            0,
            0,
            0,
            0,
            0,
            0,
            0,
            0,
            0,
            0,
            0,
            0,
            0,
            0,
            0,
            0,
            0,
            0,
            0,
            0,
            0,
            0,
            0,
            0,
            0,
            0,
            0,
            0,
            0,
            0,
            0,
            0,
            0,
            0,
            0,
            0,
            0,
            0,
            0,
            0,
            0,
            0,
            0,
            0,
            0,
            0,
            0,
            0,
            0,
            0,
            0,
            0,
            0,
            0,
            0,
            0,
            0,
            0,
            0,
            0,
            0,
            0,
            0,
            0,
            0,
            0,
            0,
            0,
            0,
            0,
            0,
            0,
            0,
            0,
            0,
            0,
            0,
            0,
            0,
            0,
            0,
            0,
            0,
            0
           ]
          ]
         },
         "domain": {
          "x": [
           0.8200000000000001,
           1
          ],
          "y": [
           0,
           1
          ]
         },
         "header": {
          "align": "left",
          "fill": {
           "color": "rgb(12, 7, 134)"
          },
          "font": {
           "color": "white"
          },
          "values": [
           "Country",
           "Total Sites"
          ]
         },
         "type": "table"
        }
       ],
       "layout": {
        "geo": {
         "domain": {
          "x": [
           0,
           0.7200000000000001
          ],
          "y": [
           0,
           1
          ]
         }
        },
        "height": 600,
        "margin": {
         "b": 10,
         "l": 10,
         "r": 10,
         "t": 50
        },
        "paper_bgcolor": "lightgrey",
        "showlegend": false,
        "template": {
         "data": {
          "bar": [
           {
            "error_x": {
             "color": "#2a3f5f"
            },
            "error_y": {
             "color": "#2a3f5f"
            },
            "marker": {
             "line": {
              "color": "#E5ECF6",
              "width": 0.5
             }
            },
            "type": "bar"
           }
          ],
          "barpolar": [
           {
            "marker": {
             "line": {
              "color": "#E5ECF6",
              "width": 0.5
             }
            },
            "type": "barpolar"
           }
          ],
          "carpet": [
           {
            "aaxis": {
             "endlinecolor": "#2a3f5f",
             "gridcolor": "white",
             "linecolor": "white",
             "minorgridcolor": "white",
             "startlinecolor": "#2a3f5f"
            },
            "baxis": {
             "endlinecolor": "#2a3f5f",
             "gridcolor": "white",
             "linecolor": "white",
             "minorgridcolor": "white",
             "startlinecolor": "#2a3f5f"
            },
            "type": "carpet"
           }
          ],
          "choropleth": [
           {
            "colorbar": {
             "outlinewidth": 0,
             "ticks": ""
            },
            "type": "choropleth"
           }
          ],
          "contour": [
           {
            "colorbar": {
             "outlinewidth": 0,
             "ticks": ""
            },
            "colorscale": [
             [
              0,
              "#0d0887"
             ],
             [
              0.1111111111111111,
              "#46039f"
             ],
             [
              0.2222222222222222,
              "#7201a8"
             ],
             [
              0.3333333333333333,
              "#9c179e"
             ],
             [
              0.4444444444444444,
              "#bd3786"
             ],
             [
              0.5555555555555556,
              "#d8576b"
             ],
             [
              0.6666666666666666,
              "#ed7953"
             ],
             [
              0.7777777777777778,
              "#fb9f3a"
             ],
             [
              0.8888888888888888,
              "#fdca26"
             ],
             [
              1,
              "#f0f921"
             ]
            ],
            "type": "contour"
           }
          ],
          "contourcarpet": [
           {
            "colorbar": {
             "outlinewidth": 0,
             "ticks": ""
            },
            "type": "contourcarpet"
           }
          ],
          "heatmap": [
           {
            "colorbar": {
             "outlinewidth": 0,
             "ticks": ""
            },
            "colorscale": [
             [
              0,
              "#0d0887"
             ],
             [
              0.1111111111111111,
              "#46039f"
             ],
             [
              0.2222222222222222,
              "#7201a8"
             ],
             [
              0.3333333333333333,
              "#9c179e"
             ],
             [
              0.4444444444444444,
              "#bd3786"
             ],
             [
              0.5555555555555556,
              "#d8576b"
             ],
             [
              0.6666666666666666,
              "#ed7953"
             ],
             [
              0.7777777777777778,
              "#fb9f3a"
             ],
             [
              0.8888888888888888,
              "#fdca26"
             ],
             [
              1,
              "#f0f921"
             ]
            ],
            "type": "heatmap"
           }
          ],
          "heatmapgl": [
           {
            "colorbar": {
             "outlinewidth": 0,
             "ticks": ""
            },
            "colorscale": [
             [
              0,
              "#0d0887"
             ],
             [
              0.1111111111111111,
              "#46039f"
             ],
             [
              0.2222222222222222,
              "#7201a8"
             ],
             [
              0.3333333333333333,
              "#9c179e"
             ],
             [
              0.4444444444444444,
              "#bd3786"
             ],
             [
              0.5555555555555556,
              "#d8576b"
             ],
             [
              0.6666666666666666,
              "#ed7953"
             ],
             [
              0.7777777777777778,
              "#fb9f3a"
             ],
             [
              0.8888888888888888,
              "#fdca26"
             ],
             [
              1,
              "#f0f921"
             ]
            ],
            "type": "heatmapgl"
           }
          ],
          "histogram": [
           {
            "marker": {
             "colorbar": {
              "outlinewidth": 0,
              "ticks": ""
             }
            },
            "type": "histogram"
           }
          ],
          "histogram2d": [
           {
            "colorbar": {
             "outlinewidth": 0,
             "ticks": ""
            },
            "colorscale": [
             [
              0,
              "#0d0887"
             ],
             [
              0.1111111111111111,
              "#46039f"
             ],
             [
              0.2222222222222222,
              "#7201a8"
             ],
             [
              0.3333333333333333,
              "#9c179e"
             ],
             [
              0.4444444444444444,
              "#bd3786"
             ],
             [
              0.5555555555555556,
              "#d8576b"
             ],
             [
              0.6666666666666666,
              "#ed7953"
             ],
             [
              0.7777777777777778,
              "#fb9f3a"
             ],
             [
              0.8888888888888888,
              "#fdca26"
             ],
             [
              1,
              "#f0f921"
             ]
            ],
            "type": "histogram2d"
           }
          ],
          "histogram2dcontour": [
           {
            "colorbar": {
             "outlinewidth": 0,
             "ticks": ""
            },
            "colorscale": [
             [
              0,
              "#0d0887"
             ],
             [
              0.1111111111111111,
              "#46039f"
             ],
             [
              0.2222222222222222,
              "#7201a8"
             ],
             [
              0.3333333333333333,
              "#9c179e"
             ],
             [
              0.4444444444444444,
              "#bd3786"
             ],
             [
              0.5555555555555556,
              "#d8576b"
             ],
             [
              0.6666666666666666,
              "#ed7953"
             ],
             [
              0.7777777777777778,
              "#fb9f3a"
             ],
             [
              0.8888888888888888,
              "#fdca26"
             ],
             [
              1,
              "#f0f921"
             ]
            ],
            "type": "histogram2dcontour"
           }
          ],
          "mesh3d": [
           {
            "colorbar": {
             "outlinewidth": 0,
             "ticks": ""
            },
            "type": "mesh3d"
           }
          ],
          "parcoords": [
           {
            "line": {
             "colorbar": {
              "outlinewidth": 0,
              "ticks": ""
             }
            },
            "type": "parcoords"
           }
          ],
          "pie": [
           {
            "automargin": true,
            "type": "pie"
           }
          ],
          "scatter": [
           {
            "marker": {
             "colorbar": {
              "outlinewidth": 0,
              "ticks": ""
             }
            },
            "type": "scatter"
           }
          ],
          "scatter3d": [
           {
            "line": {
             "colorbar": {
              "outlinewidth": 0,
              "ticks": ""
             }
            },
            "marker": {
             "colorbar": {
              "outlinewidth": 0,
              "ticks": ""
             }
            },
            "type": "scatter3d"
           }
          ],
          "scattercarpet": [
           {
            "marker": {
             "colorbar": {
              "outlinewidth": 0,
              "ticks": ""
             }
            },
            "type": "scattercarpet"
           }
          ],
          "scattergeo": [
           {
            "marker": {
             "colorbar": {
              "outlinewidth": 0,
              "ticks": ""
             }
            },
            "type": "scattergeo"
           }
          ],
          "scattergl": [
           {
            "marker": {
             "colorbar": {
              "outlinewidth": 0,
              "ticks": ""
             }
            },
            "type": "scattergl"
           }
          ],
          "scattermapbox": [
           {
            "marker": {
             "colorbar": {
              "outlinewidth": 0,
              "ticks": ""
             }
            },
            "type": "scattermapbox"
           }
          ],
          "scatterpolar": [
           {
            "marker": {
             "colorbar": {
              "outlinewidth": 0,
              "ticks": ""
             }
            },
            "type": "scatterpolar"
           }
          ],
          "scatterpolargl": [
           {
            "marker": {
             "colorbar": {
              "outlinewidth": 0,
              "ticks": ""
             }
            },
            "type": "scatterpolargl"
           }
          ],
          "scatterternary": [
           {
            "marker": {
             "colorbar": {
              "outlinewidth": 0,
              "ticks": ""
             }
            },
            "type": "scatterternary"
           }
          ],
          "surface": [
           {
            "colorbar": {
             "outlinewidth": 0,
             "ticks": ""
            },
            "colorscale": [
             [
              0,
              "#0d0887"
             ],
             [
              0.1111111111111111,
              "#46039f"
             ],
             [
              0.2222222222222222,
              "#7201a8"
             ],
             [
              0.3333333333333333,
              "#9c179e"
             ],
             [
              0.4444444444444444,
              "#bd3786"
             ],
             [
              0.5555555555555556,
              "#d8576b"
             ],
             [
              0.6666666666666666,
              "#ed7953"
             ],
             [
              0.7777777777777778,
              "#fb9f3a"
             ],
             [
              0.8888888888888888,
              "#fdca26"
             ],
             [
              1,
              "#f0f921"
             ]
            ],
            "type": "surface"
           }
          ],
          "table": [
           {
            "cells": {
             "fill": {
              "color": "#EBF0F8"
             },
             "line": {
              "color": "white"
             }
            },
            "header": {
             "fill": {
              "color": "#C8D4E3"
             },
             "line": {
              "color": "white"
             }
            },
            "type": "table"
           }
          ]
         },
         "layout": {
          "annotationdefaults": {
           "arrowcolor": "#2a3f5f",
           "arrowhead": 0,
           "arrowwidth": 1
          },
          "autotypenumbers": "strict",
          "coloraxis": {
           "colorbar": {
            "outlinewidth": 0,
            "ticks": ""
           }
          },
          "colorscale": {
           "diverging": [
            [
             0,
             "#8e0152"
            ],
            [
             0.1,
             "#c51b7d"
            ],
            [
             0.2,
             "#de77ae"
            ],
            [
             0.3,
             "#f1b6da"
            ],
            [
             0.4,
             "#fde0ef"
            ],
            [
             0.5,
             "#f7f7f7"
            ],
            [
             0.6,
             "#e6f5d0"
            ],
            [
             0.7,
             "#b8e186"
            ],
            [
             0.8,
             "#7fbc41"
            ],
            [
             0.9,
             "#4d9221"
            ],
            [
             1,
             "#276419"
            ]
           ],
           "sequential": [
            [
             0,
             "#0d0887"
            ],
            [
             0.1111111111111111,
             "#46039f"
            ],
            [
             0.2222222222222222,
             "#7201a8"
            ],
            [
             0.3333333333333333,
             "#9c179e"
            ],
            [
             0.4444444444444444,
             "#bd3786"
            ],
            [
             0.5555555555555556,
             "#d8576b"
            ],
            [
             0.6666666666666666,
             "#ed7953"
            ],
            [
             0.7777777777777778,
             "#fb9f3a"
            ],
            [
             0.8888888888888888,
             "#fdca26"
            ],
            [
             1,
             "#f0f921"
            ]
           ],
           "sequentialminus": [
            [
             0,
             "#0d0887"
            ],
            [
             0.1111111111111111,
             "#46039f"
            ],
            [
             0.2222222222222222,
             "#7201a8"
            ],
            [
             0.3333333333333333,
             "#9c179e"
            ],
            [
             0.4444444444444444,
             "#bd3786"
            ],
            [
             0.5555555555555556,
             "#d8576b"
            ],
            [
             0.6666666666666666,
             "#ed7953"
            ],
            [
             0.7777777777777778,
             "#fb9f3a"
            ],
            [
             0.8888888888888888,
             "#fdca26"
            ],
            [
             1,
             "#f0f921"
            ]
           ]
          },
          "colorway": [
           "#636efa",
           "#EF553B",
           "#00cc96",
           "#ab63fa",
           "#FFA15A",
           "#19d3f3",
           "#FF6692",
           "#B6E880",
           "#FF97FF",
           "#FECB52"
          ],
          "font": {
           "color": "#2a3f5f"
          },
          "geo": {
           "bgcolor": "white",
           "lakecolor": "white",
           "landcolor": "#E5ECF6",
           "showlakes": true,
           "showland": true,
           "subunitcolor": "white"
          },
          "hoverlabel": {
           "align": "left"
          },
          "hovermode": "closest",
          "mapbox": {
           "style": "light"
          },
          "paper_bgcolor": "white",
          "plot_bgcolor": "#E5ECF6",
          "polar": {
           "angularaxis": {
            "gridcolor": "white",
            "linecolor": "white",
            "ticks": ""
           },
           "bgcolor": "#E5ECF6",
           "radialaxis": {
            "gridcolor": "white",
            "linecolor": "white",
            "ticks": ""
           }
          },
          "scene": {
           "xaxis": {
            "backgroundcolor": "#E5ECF6",
            "gridcolor": "white",
            "gridwidth": 2,
            "linecolor": "white",
            "showbackground": true,
            "ticks": "",
            "zerolinecolor": "white"
           },
           "yaxis": {
            "backgroundcolor": "#E5ECF6",
            "gridcolor": "white",
            "gridwidth": 2,
            "linecolor": "white",
            "showbackground": true,
            "ticks": "",
            "zerolinecolor": "white"
           },
           "zaxis": {
            "backgroundcolor": "#E5ECF6",
            "gridcolor": "white",
            "gridwidth": 2,
            "linecolor": "white",
            "showbackground": true,
            "ticks": "",
            "zerolinecolor": "white"
           }
          },
          "shapedefaults": {
           "line": {
            "color": "#2a3f5f"
           }
          },
          "ternary": {
           "aaxis": {
            "gridcolor": "white",
            "linecolor": "white",
            "ticks": ""
           },
           "baxis": {
            "gridcolor": "white",
            "linecolor": "white",
            "ticks": ""
           },
           "bgcolor": "#E5ECF6",
           "caxis": {
            "gridcolor": "white",
            "linecolor": "white",
            "ticks": ""
           }
          },
          "title": {
           "x": 0.05
          },
          "xaxis": {
           "automargin": true,
           "gridcolor": "white",
           "linecolor": "white",
           "ticks": "",
           "title": {
            "standoff": 15
           },
           "zerolinecolor": "white",
           "zerolinewidth": 2
          },
          "yaxis": {
           "automargin": true,
           "gridcolor": "white",
           "linecolor": "white",
           "ticks": "",
           "title": {
            "standoff": 15
           },
           "zerolinecolor": "white",
           "zerolinewidth": 2
          }
         }
        },
        "title": {
         "text": "Global Reforestation Sites Count",
         "x": 0.5
        },
        "width": 1200
       }
      }
     },
     "metadata": {},
     "output_type": "display_data"
    }
   ],
   "source": [
    "\n",
    "gdf_sites_with_country['site_count'] = 1  \n",
    "country_site_count = gdf_sites_with_country.groupby('name')['site_count'].sum().reset_index(name='total_sites')\n",
    "\n",
    "\n",
    "world_with_site_count = world.merge(country_site_count, how=\"left\", left_on=\"name\", right_on=\"name\")\n",
    "world_with_site_count['total_sites'] = world_with_site_count['total_sites'].fillna(0).astype(int)\n",
    "\n",
    "\n",
    "\n",
    "fig = make_subplots(rows=1, cols=2, column_widths=[0.8, 0.2], specs=[[{\"type\": \"choropleth\"}, {\"type\": \"table\"}]])\n",
    "\n",
    "world_with_site_count['hover_text'] = world_with_site_count['name'] + '<br>Total Sites: ' + world_with_site_count['total_sites'].astype(str)\n",
    "\n",
    "\n",
    "fig.add_trace(\n",
    "    go.Choropleth(\n",
    "        locations=world_with_site_count['iso_a3'],\n",
    "        z=world_with_site_count['total_sites'],\n",
    "        hoverinfo='text',  \n",
    "        text=world_with_site_count['hover_text'], \n",
    "        colorscale=px.colors.sequential.Plasma,\n",
    "        colorbar_title=\"Total Sites\",\n",
    "    ),\n",
    "    row=1, col=1\n",
    ")\n",
    "\n",
    "\n",
    "table_data = world_with_site_count[['name', 'total_sites']].sort_values(by='total_sites', ascending=False)\n",
    "\n",
    "header_color = 'rgb(12, 7, 134)'  \n",
    "cell_color = 'rgb(240, 249, 33)' \n",
    "\n",
    "\n",
    "fig.add_trace(\n",
    "    go.Table(\n",
    "        header=dict(values=[\"Country\", \"Total Sites\"],\n",
    "                    fill_color=header_color,  \n",
    "                    font=dict(color='white'),\n",
    "                    align='left'),\n",
    "        cells=dict(values=[table_data.name, table_data.total_sites],\n",
    "                   fill_color=cell_color, \n",
    "                   align='left')),\n",
    "    row=1, col=2\n",
    ")\n",
    "\n",
    "\n",
    "fig.update_layout(\n",
    "    title_text=\"Global Reforestation Sites Count\",\n",
    "    showlegend=False,\n",
    "    paper_bgcolor=\"lightgrey\",\n",
    "    title_x=0.5,\n",
    "    width=1200,\n",
    "    height=600,\n",
    "    margin=dict(l=10, r=10, t=50, b=10)\n",
    ")\n",
    "\n",
    "\n",
    "fig.show()"
   ]
  },
  {
   "cell_type": "code",
   "execution_count": 100,
   "metadata": {},
   "outputs": [
    {
     "data": {
      "application/vnd.plotly.v1+json": {
       "config": {
        "plotlyServerURL": "https://plot.ly"
       },
       "data": [
        {
         "colorbar": {
          "title": {
           "text": "Total Sites"
          }
         },
         "colorscale": [
          [
           0,
           "#0d0887"
          ],
          [
           0.1111111111111111,
           "#46039f"
          ],
          [
           0.2222222222222222,
           "#7201a8"
          ],
          [
           0.3333333333333333,
           "#9c179e"
          ],
          [
           0.4444444444444444,
           "#bd3786"
          ],
          [
           0.5555555555555556,
           "#d8576b"
          ],
          [
           0.6666666666666666,
           "#ed7953"
          ],
          [
           0.7777777777777778,
           "#fb9f3a"
          ],
          [
           0.8888888888888888,
           "#fdca26"
          ],
          [
           1,
           "#f0f921"
          ]
         ],
         "geo": "geo",
         "hoverinfo": "text",
         "locations": [
          "FJI",
          "TZA",
          "ESH",
          "CAN",
          "USA",
          "KAZ",
          "UZB",
          "PNG",
          "IDN",
          "ARG",
          "CHL",
          "COD",
          "SOM",
          "KEN",
          "SDN",
          "TCD",
          "HTI",
          "DOM",
          "RUS",
          "BHS",
          "FLK",
          "NOR",
          "GRL",
          "ATF",
          "TLS",
          "ZAF",
          "LSO",
          "MEX",
          "URY",
          "BRA",
          "BOL",
          "PER",
          "COL",
          "PAN",
          "CRI",
          "NIC",
          "HND",
          "SLV",
          "GTM",
          "BLZ",
          "VEN",
          "GUY",
          "SUR",
          "FRA",
          "ECU",
          "PRI",
          "JAM",
          "CUB",
          "ZWE",
          "BWA",
          "NAM",
          "SEN",
          "MLI",
          "MRT",
          "BEN",
          "NER",
          "NGA",
          "CMR",
          "TGO",
          "GHA",
          "CIV",
          "GIN",
          "GNB",
          "LBR",
          "SLE",
          "BFA",
          "CAF",
          "COG",
          "GAB",
          "GNQ",
          "ZMB",
          "MWI",
          "MOZ",
          "SWZ",
          "AGO",
          "BDI",
          "ISR",
          "LBN",
          "MDG",
          "PSE",
          "GMB",
          "TUN",
          "DZA",
          "JOR",
          "ARE",
          "QAT",
          "KWT",
          "IRQ",
          "OMN",
          "VUT",
          "KHM",
          "THA",
          "LAO",
          "MMR",
          "VNM",
          "PRK",
          "KOR",
          "MNG",
          "IND",
          "BGD",
          "BTN",
          "NPL",
          "PAK",
          "AFG",
          "TJK",
          "KGZ",
          "TKM",
          "IRN",
          "SYR",
          "ARM",
          "SWE",
          "BLR",
          "UKR",
          "POL",
          "AUT",
          "HUN",
          "MDA",
          "ROU",
          "LTU",
          "LVA",
          "EST",
          "DEU",
          "BGR",
          "GRC",
          "TUR",
          "ALB",
          "HRV",
          "CHE",
          "LUX",
          "BEL",
          "NLD",
          "PRT",
          "ESP",
          "IRL",
          "NCL",
          "SLB",
          "NZL",
          "AUS",
          "LKA",
          "CHN",
          "TWN",
          "ITA",
          "DNK",
          "GBR",
          "ISL",
          "AZE",
          "GEO",
          "PHL",
          "MYS",
          "BRN",
          "SVN",
          "FIN",
          "SVK",
          "CZE",
          "ERI",
          "JPN",
          "PRY",
          "YEM",
          "SAU",
          "ATA",
          "CYN",
          "CYP",
          "MAR",
          "EGY",
          "LBY",
          "ETH",
          "DJI",
          "SOL",
          "UGA",
          "RWA",
          "BIH",
          "MKD",
          "SRB",
          "MNE",
          "-99",
          "TTO",
          "SSD"
         ],
         "text": [
          "Fiji<br>Total Sites: 0",
          "Tanzania<br>Total Sites: 2345",
          "W. Sahara<br>Total Sites: 0",
          "Canada<br>Total Sites: 4502",
          "United States of America<br>Total Sites: 3543",
          "Kazakhstan<br>Total Sites: 0",
          "Uzbekistan<br>Total Sites: 0",
          "Papua New Guinea<br>Total Sites: 0",
          "Indonesia<br>Total Sites: 7323",
          "Argentina<br>Total Sites: 346",
          "Chile<br>Total Sites: 2479",
          "Dem. Rep. Congo<br>Total Sites: 57",
          "Somalia<br>Total Sites: 0",
          "Kenya<br>Total Sites: 31197",
          "Sudan<br>Total Sites: 0",
          "Chad<br>Total Sites: 2",
          "Haiti<br>Total Sites: 7",
          "Dominican Rep.<br>Total Sites: 0",
          "Russia<br>Total Sites: 3",
          "Bahamas<br>Total Sites: 0",
          "Falkland Is.<br>Total Sites: 0",
          "Norway<br>Total Sites: 0",
          "Greenland<br>Total Sites: 0",
          "Fr. S. Antarctic Lands<br>Total Sites: 0",
          "Timor-Leste<br>Total Sites: 8",
          "South Africa<br>Total Sites: 105",
          "Lesotho<br>Total Sites: 0",
          "Mexico<br>Total Sites: 21664",
          "Uruguay<br>Total Sites: 12653",
          "Brazil<br>Total Sites: 5571",
          "Bolivia<br>Total Sites: 13",
          "Peru<br>Total Sites: 110",
          "Colombia<br>Total Sites: 18315",
          "Panama<br>Total Sites: 20",
          "Costa Rica<br>Total Sites: 19",
          "Nicaragua<br>Total Sites: 2400",
          "Honduras<br>Total Sites: 1",
          "El Salvador<br>Total Sites: 0",
          "Guatemala<br>Total Sites: 62",
          "Belize<br>Total Sites: 0",
          "Venezuela<br>Total Sites: 47",
          "Guyana<br>Total Sites: 0",
          "Suriname<br>Total Sites: 0",
          "France<br>Total Sites: 46",
          "Ecuador<br>Total Sites: 90",
          "Puerto Rico<br>Total Sites: 0",
          "Jamaica<br>Total Sites: 0",
          "Cuba<br>Total Sites: 0",
          "Zimbabwe<br>Total Sites: 28",
          "Botswana<br>Total Sites: 1",
          "Namibia<br>Total Sites: 2",
          "Senegal<br>Total Sites: 2204",
          "Mali<br>Total Sites: 0",
          "Mauritania<br>Total Sites: 0",
          "Benin<br>Total Sites: 0",
          "Niger<br>Total Sites: 116",
          "Nigeria<br>Total Sites: 422",
          "Cameroon<br>Total Sites: 4",
          "Togo<br>Total Sites: 3",
          "Ghana<br>Total Sites: 2120",
          "Côte d'Ivoire<br>Total Sites: 2",
          "Guinea<br>Total Sites: 4",
          "Guinea-Bissau<br>Total Sites: 102",
          "Liberia<br>Total Sites: 0",
          "Sierra Leone<br>Total Sites: 2745",
          "Burkina Faso<br>Total Sites: 6",
          "Central African Rep.<br>Total Sites: 1",
          "Congo<br>Total Sites: 10",
          "Gabon<br>Total Sites: 2",
          "Eq. Guinea<br>Total Sites: 0",
          "Zambia<br>Total Sites: 58",
          "Malawi<br>Total Sites: 43",
          "Mozambique<br>Total Sites: 4466",
          "eSwatini<br>Total Sites: 0",
          "Angola<br>Total Sites: 2",
          "Burundi<br>Total Sites: 19",
          "Israel<br>Total Sites: 3",
          "Lebanon<br>Total Sites: 0",
          "Madagascar<br>Total Sites: 105",
          "Palestine<br>Total Sites: 3",
          "Gambia<br>Total Sites: 34",
          "Tunisia<br>Total Sites: 0",
          "Algeria<br>Total Sites: 0",
          "Jordan<br>Total Sites: 3",
          "United Arab Emirates<br>Total Sites: 9",
          "Qatar<br>Total Sites: 0",
          "Kuwait<br>Total Sites: 0",
          "Iraq<br>Total Sites: 0",
          "Oman<br>Total Sites: 0",
          "Vanuatu<br>Total Sites: 0",
          "Cambodia<br>Total Sites: 5319",
          "Thailand<br>Total Sites: 37",
          "Laos<br>Total Sites: 1269",
          "Myanmar<br>Total Sites: 922",
          "Vietnam<br>Total Sites: 16",
          "North Korea<br>Total Sites: 0",
          "South Korea<br>Total Sites: 0",
          "Mongolia<br>Total Sites: 1",
          "India<br>Total Sites: 53551",
          "Bangladesh<br>Total Sites: 165",
          "Bhutan<br>Total Sites: 0",
          "Nepal<br>Total Sites: 16",
          "Pakistan<br>Total Sites: 632",
          "Afghanistan<br>Total Sites: 0",
          "Tajikistan<br>Total Sites: 0",
          "Kyrgyzstan<br>Total Sites: 0",
          "Turkmenistan<br>Total Sites: 0",
          "Iran<br>Total Sites: 0",
          "Syria<br>Total Sites: 1",
          "Armenia<br>Total Sites: 0",
          "Sweden<br>Total Sites: 44",
          "Belarus<br>Total Sites: 0",
          "Ukraine<br>Total Sites: 1",
          "Poland<br>Total Sites: 0",
          "Austria<br>Total Sites: 0",
          "Hungary<br>Total Sites: 0",
          "Moldova<br>Total Sites: 0",
          "Romania<br>Total Sites: 250",
          "Lithuania<br>Total Sites: 1",
          "Latvia<br>Total Sites: 14",
          "Estonia<br>Total Sites: 79",
          "Germany<br>Total Sites: 48",
          "Bulgaria<br>Total Sites: 0",
          "Greece<br>Total Sites: 0",
          "Turkey<br>Total Sites: 0",
          "Albania<br>Total Sites: 32",
          "Croatia<br>Total Sites: 0",
          "Switzerland<br>Total Sites: 0",
          "Luxembourg<br>Total Sites: 0",
          "Belgium<br>Total Sites: 3",
          "Netherlands<br>Total Sites: 0",
          "Portugal<br>Total Sites: 230",
          "Spain<br>Total Sites: 289",
          "Ireland<br>Total Sites: 1",
          "New Caledonia<br>Total Sites: 0",
          "Solomon Is.<br>Total Sites: 0",
          "New Zealand<br>Total Sites: 0",
          "Australia<br>Total Sites: 263",
          "Sri Lanka<br>Total Sites: 2162",
          "China<br>Total Sites: 530480",
          "Taiwan<br>Total Sites: 0",
          "Italy<br>Total Sites: 13",
          "Denmark<br>Total Sites: 9",
          "United Kingdom<br>Total Sites: 25",
          "Iceland<br>Total Sites: 0",
          "Azerbaijan<br>Total Sites: 0",
          "Georgia<br>Total Sites: 0",
          "Philippines<br>Total Sites: 733",
          "Malaysia<br>Total Sites: 3",
          "Brunei<br>Total Sites: 0",
          "Slovenia<br>Total Sites: 0",
          "Finland<br>Total Sites: 0",
          "Slovakia<br>Total Sites: 0",
          "Czechia<br>Total Sites: 3",
          "Eritrea<br>Total Sites: 0",
          "Japan<br>Total Sites: 0",
          "Paraguay<br>Total Sites: 781",
          "Yemen<br>Total Sites: 0",
          "Saudi Arabia<br>Total Sites: 0",
          "Antarctica<br>Total Sites: 0",
          "N. Cyprus<br>Total Sites: 0",
          "Cyprus<br>Total Sites: 0",
          "Morocco<br>Total Sites: 0",
          "Egypt<br>Total Sites: 0",
          "Libya<br>Total Sites: 0",
          "Ethiopia<br>Total Sites: 302",
          "Djibouti<br>Total Sites: 0",
          "Somaliland<br>Total Sites: 0",
          "Uganda<br>Total Sites: 6360",
          "Rwanda<br>Total Sites: 44311",
          "Bosnia and Herz.<br>Total Sites: 0",
          "North Macedonia<br>Total Sites: 0",
          "Serbia<br>Total Sites: 0",
          "Montenegro<br>Total Sites: 0",
          "Kosovo<br>Total Sites: 0",
          "Trinidad and Tobago<br>Total Sites: 0",
          "S. Sudan<br>Total Sites: 1"
         ],
         "type": "choropleth",
         "z": [
          0,
          2345,
          0,
          4502,
          3543,
          0,
          0,
          0,
          7323,
          346,
          2479,
          57,
          0,
          31197,
          0,
          2,
          7,
          0,
          3,
          0,
          0,
          0,
          0,
          0,
          8,
          105,
          0,
          21664,
          12653,
          5571,
          13,
          110,
          18315,
          20,
          19,
          2400,
          1,
          0,
          62,
          0,
          47,
          0,
          0,
          46,
          90,
          0,
          0,
          0,
          28,
          1,
          2,
          2204,
          0,
          0,
          0,
          116,
          422,
          4,
          3,
          2120,
          2,
          4,
          102,
          0,
          2745,
          6,
          1,
          10,
          2,
          0,
          58,
          43,
          4466,
          0,
          2,
          19,
          3,
          0,
          105,
          3,
          34,
          0,
          0,
          3,
          9,
          0,
          0,
          0,
          0,
          0,
          5319,
          37,
          1269,
          922,
          16,
          0,
          0,
          1,
          53551,
          165,
          0,
          16,
          632,
          0,
          0,
          0,
          0,
          0,
          1,
          0,
          44,
          0,
          1,
          0,
          0,
          0,
          0,
          250,
          1,
          14,
          79,
          48,
          0,
          0,
          0,
          32,
          0,
          0,
          0,
          3,
          0,
          230,
          289,
          1,
          0,
          0,
          0,
          263,
          2162,
          530480,
          0,
          13,
          9,
          25,
          0,
          0,
          0,
          733,
          3,
          0,
          0,
          0,
          0,
          3,
          0,
          0,
          781,
          0,
          0,
          0,
          0,
          0,
          0,
          0,
          0,
          302,
          0,
          0,
          6360,
          44311,
          0,
          0,
          0,
          0,
          0,
          0,
          1
         ]
        },
        {
         "cells": {
          "align": "left",
          "fill": {
           "color": "rgb(240, 249, 33)"
          },
          "values": [
           [
            "China",
            "India",
            "Rwanda",
            "Kenya",
            "Mexico",
            "Colombia",
            "Uruguay",
            "Indonesia",
            "Uganda",
            "Brazil",
            "Cambodia",
            "Canada",
            "Mozambique",
            "United States of America",
            "Sierra Leone",
            "Chile",
            "Nicaragua",
            "Tanzania",
            "Senegal",
            "Sri Lanka",
            "Ghana",
            "Laos",
            "Myanmar",
            "Paraguay",
            "Philippines",
            "Pakistan",
            "Nigeria",
            "Argentina",
            "Ethiopia",
            "Spain",
            "Australia",
            "Romania",
            "Portugal",
            "Bangladesh",
            "Niger",
            "Peru",
            "South Africa",
            "Madagascar",
            "Guinea-Bissau",
            "Ecuador",
            "Estonia",
            "Guatemala",
            "Zambia",
            "Dem. Rep. Congo",
            "Germany",
            "Venezuela",
            "France",
            "Sweden",
            "Malawi",
            "Thailand",
            "Gambia",
            "Albania",
            "Zimbabwe",
            "United Kingdom",
            "Panama",
            "Burundi",
            "Costa Rica",
            "Nepal",
            "Vietnam",
            "Latvia",
            "Italy",
            "Bolivia",
            "Congo",
            "United Arab Emirates",
            "Denmark",
            "Timor-Leste",
            "Haiti",
            "Burkina Faso",
            "Guinea",
            "Cameroon",
            "Belgium",
            "Israel",
            "Czechia",
            "Malaysia",
            "Jordan",
            "Togo",
            "Russia",
            "Palestine",
            "Namibia",
            "Angola",
            "Gabon",
            "Côte d'Ivoire",
            "Chad",
            "Lithuania",
            "Ukraine",
            "Ireland",
            "Mongolia",
            "Syria",
            "S. Sudan",
            "Botswana",
            "Honduras",
            "Central African Rep.",
            "Iceland",
            "Egypt",
            "Libya",
            "Djibouti",
            "Somaliland",
            "Netherlands",
            "Bosnia and Herz.",
            "North Macedonia",
            "Morocco",
            "Serbia",
            "Montenegro",
            "Kosovo",
            "Trinidad and Tobago",
            "Luxembourg",
            "Switzerland",
            "New Caledonia",
            "Solomon Is.",
            "Azerbaijan",
            "New Zealand",
            "Cyprus",
            "N. Cyprus",
            "Antarctica",
            "Saudi Arabia",
            "Yemen",
            "Taiwan",
            "Japan",
            "Eritrea",
            "Slovakia",
            "Finland",
            "Slovenia",
            "Brunei",
            "Georgia",
            "Croatia",
            "Fiji",
            "Turkey",
            "Fr. S. Antarctic Lands",
            "Mauritania",
            "Mali",
            "Cuba",
            "Jamaica",
            "Puerto Rico",
            "Suriname",
            "Guyana",
            "Belize",
            "El Salvador",
            "Lesotho",
            "Greenland",
            "Liberia",
            "Norway",
            "Falkland Is.",
            "Bahamas",
            "Dominican Rep.",
            "Sudan",
            "Somalia",
            "Papua New Guinea",
            "Uzbekistan",
            "Kazakhstan",
            "W. Sahara",
            "Benin",
            "Eq. Guinea",
            "Greece",
            "Tajikistan",
            "Bulgaria",
            "Moldova",
            "Hungary",
            "Austria",
            "Poland",
            "Belarus",
            "Armenia",
            "Iran",
            "Turkmenistan",
            "Kyrgyzstan",
            "Afghanistan",
            "eSwatini",
            "Bhutan",
            "South Korea",
            "North Korea",
            "Vanuatu",
            "Iraq",
            "Kuwait",
            "Qatar",
            "Algeria",
            "Tunisia",
            "Lebanon",
            "Oman"
           ],
           [
            530480,
            53551,
            44311,
            31197,
            21664,
            18315,
            12653,
            7323,
            6360,
            5571,
            5319,
            4502,
            4466,
            3543,
            2745,
            2479,
            2400,
            2345,
            2204,
            2162,
            2120,
            1269,
            922,
            781,
            733,
            632,
            422,
            346,
            302,
            289,
            263,
            250,
            230,
            165,
            116,
            110,
            105,
            105,
            102,
            90,
            79,
            62,
            58,
            57,
            48,
            47,
            46,
            44,
            43,
            37,
            34,
            32,
            28,
            25,
            20,
            19,
            19,
            16,
            16,
            14,
            13,
            13,
            10,
            9,
            9,
            8,
            7,
            6,
            4,
            4,
            3,
            3,
            3,
            3,
            3,
            3,
            3,
            3,
            2,
            2,
            2,
            2,
            2,
            1,
            1,
            1,
            1,
            1,
            1,
            1,
            1,
            1,
            0,
            0,
            0,
            0,
            0,
            0,
            0,
            0,
            0,
            0,
            0,
            0,
            0,
            0,
            0,
            0,
            0,
            0,
            0,
            0,
            0,
            0,
            0,
            0,
            0,
            0,
            0,
            0,
            0,
            0,
            0,
            0,
            0,
            0,
            0,
            0,
            0,
            0,
            0,
            0,
            0,
            0,
            0,
            0,
            0,
            0,
            0,
            0,
            0,
            0,
            0,
            0,
            0,
            0,
            0,
            0,
            0,
            0,
            0,
            0,
            0,
            0,
            0,
            0,
            0,
            0,
            0,
            0,
            0,
            0,
            0,
            0,
            0,
            0,
            0,
            0,
            0,
            0,
            0,
            0,
            0,
            0,
            0,
            0,
            0
           ]
          ]
         },
         "domain": {
          "x": [
           0.8200000000000001,
           1
          ],
          "y": [
           0,
           1
          ]
         },
         "header": {
          "align": "left",
          "fill": {
           "color": "rgb(12, 7, 134)"
          },
          "font": {
           "color": "white"
          },
          "values": [
           "Country",
           "Total Sites"
          ]
         },
         "type": "table"
        },
        {
         "colorbar": {
          "title": {
           "text": "Total Sites"
          }
         },
         "colorscale": [
          [
           0,
           "#a1d99b"
          ],
          [
           0.5,
           "#238b45"
          ],
          [
           1,
           "#00441b"
          ]
         ],
         "geo": "geo",
         "hoverinfo": "text",
         "locations": [
          "FJI",
          "TZA",
          "ESH",
          "CAN",
          "USA",
          "KAZ",
          "UZB",
          "PNG",
          "IDN",
          "ARG",
          "CHL",
          "COD",
          "SOM",
          "KEN",
          "SDN",
          "TCD",
          "HTI",
          "DOM",
          "RUS",
          "BHS",
          "FLK",
          "NOR",
          "GRL",
          "ATF",
          "TLS",
          "ZAF",
          "LSO",
          "MEX",
          "URY",
          "BRA",
          "BOL",
          "PER",
          "COL",
          "PAN",
          "CRI",
          "NIC",
          "HND",
          "SLV",
          "GTM",
          "BLZ",
          "VEN",
          "GUY",
          "SUR",
          "FRA",
          "ECU",
          "PRI",
          "JAM",
          "CUB",
          "ZWE",
          "BWA",
          "NAM",
          "SEN",
          "MLI",
          "MRT",
          "BEN",
          "NER",
          "NGA",
          "CMR",
          "TGO",
          "GHA",
          "CIV",
          "GIN",
          "GNB",
          "LBR",
          "SLE",
          "BFA",
          "CAF",
          "COG",
          "GAB",
          "GNQ",
          "ZMB",
          "MWI",
          "MOZ",
          "SWZ",
          "AGO",
          "BDI",
          "ISR",
          "LBN",
          "MDG",
          "PSE",
          "GMB",
          "TUN",
          "DZA",
          "JOR",
          "ARE",
          "QAT",
          "KWT",
          "IRQ",
          "OMN",
          "VUT",
          "KHM",
          "THA",
          "LAO",
          "MMR",
          "VNM",
          "PRK",
          "KOR",
          "MNG",
          "IND",
          "BGD",
          "BTN",
          "NPL",
          "PAK",
          "AFG",
          "TJK",
          "KGZ",
          "TKM",
          "IRN",
          "SYR",
          "ARM",
          "SWE",
          "BLR",
          "UKR",
          "POL",
          "AUT",
          "HUN",
          "MDA",
          "ROU",
          "LTU",
          "LVA",
          "EST",
          "DEU",
          "BGR",
          "GRC",
          "TUR",
          "ALB",
          "HRV",
          "CHE",
          "LUX",
          "BEL",
          "NLD",
          "PRT",
          "ESP",
          "IRL",
          "NCL",
          "SLB",
          "NZL",
          "AUS",
          "LKA",
          "CHN",
          "TWN",
          "ITA",
          "DNK",
          "GBR",
          "ISL",
          "AZE",
          "GEO",
          "PHL",
          "MYS",
          "BRN",
          "SVN",
          "FIN",
          "SVK",
          "CZE",
          "ERI",
          "JPN",
          "PRY",
          "YEM",
          "SAU",
          "ATA",
          "CYN",
          "CYP",
          "MAR",
          "EGY",
          "LBY",
          "ETH",
          "DJI",
          "SOL",
          "UGA",
          "RWA",
          "BIH",
          "MKD",
          "SRB",
          "MNE",
          "-99",
          "TTO",
          "SSD"
         ],
         "text": [
          "Fiji<br>Total Sites: 0",
          "Tanzania<br>Total Sites: 2345",
          "W. Sahara<br>Total Sites: 0",
          "Canada<br>Total Sites: 4502",
          "United States of America<br>Total Sites: 3543",
          "Kazakhstan<br>Total Sites: 0",
          "Uzbekistan<br>Total Sites: 0",
          "Papua New Guinea<br>Total Sites: 0",
          "Indonesia<br>Total Sites: 7323",
          "Argentina<br>Total Sites: 346",
          "Chile<br>Total Sites: 2479",
          "Dem. Rep. Congo<br>Total Sites: 57",
          "Somalia<br>Total Sites: 0",
          "Kenya<br>Total Sites: 31197",
          "Sudan<br>Total Sites: 0",
          "Chad<br>Total Sites: 2",
          "Haiti<br>Total Sites: 7",
          "Dominican Rep.<br>Total Sites: 0",
          "Russia<br>Total Sites: 3",
          "Bahamas<br>Total Sites: 0",
          "Falkland Is.<br>Total Sites: 0",
          "Norway<br>Total Sites: 0",
          "Greenland<br>Total Sites: 0",
          "Fr. S. Antarctic Lands<br>Total Sites: 0",
          "Timor-Leste<br>Total Sites: 8",
          "South Africa<br>Total Sites: 105",
          "Lesotho<br>Total Sites: 0",
          "Mexico<br>Total Sites: 21664",
          "Uruguay<br>Total Sites: 12653",
          "Brazil<br>Total Sites: 5571",
          "Bolivia<br>Total Sites: 13",
          "Peru<br>Total Sites: 110",
          "Colombia<br>Total Sites: 18315",
          "Panama<br>Total Sites: 20",
          "Costa Rica<br>Total Sites: 19",
          "Nicaragua<br>Total Sites: 2400",
          "Honduras<br>Total Sites: 1",
          "El Salvador<br>Total Sites: 0",
          "Guatemala<br>Total Sites: 62",
          "Belize<br>Total Sites: 0",
          "Venezuela<br>Total Sites: 47",
          "Guyana<br>Total Sites: 0",
          "Suriname<br>Total Sites: 0",
          "France<br>Total Sites: 46",
          "Ecuador<br>Total Sites: 90",
          "Puerto Rico<br>Total Sites: 0",
          "Jamaica<br>Total Sites: 0",
          "Cuba<br>Total Sites: 0",
          "Zimbabwe<br>Total Sites: 28",
          "Botswana<br>Total Sites: 1",
          "Namibia<br>Total Sites: 2",
          "Senegal<br>Total Sites: 2204",
          "Mali<br>Total Sites: 0",
          "Mauritania<br>Total Sites: 0",
          "Benin<br>Total Sites: 0",
          "Niger<br>Total Sites: 116",
          "Nigeria<br>Total Sites: 422",
          "Cameroon<br>Total Sites: 4",
          "Togo<br>Total Sites: 3",
          "Ghana<br>Total Sites: 2120",
          "Côte d'Ivoire<br>Total Sites: 2",
          "Guinea<br>Total Sites: 4",
          "Guinea-Bissau<br>Total Sites: 102",
          "Liberia<br>Total Sites: 0",
          "Sierra Leone<br>Total Sites: 2745",
          "Burkina Faso<br>Total Sites: 6",
          "Central African Rep.<br>Total Sites: 1",
          "Congo<br>Total Sites: 10",
          "Gabon<br>Total Sites: 2",
          "Eq. Guinea<br>Total Sites: 0",
          "Zambia<br>Total Sites: 58",
          "Malawi<br>Total Sites: 43",
          "Mozambique<br>Total Sites: 4466",
          "eSwatini<br>Total Sites: 0",
          "Angola<br>Total Sites: 2",
          "Burundi<br>Total Sites: 19",
          "Israel<br>Total Sites: 3",
          "Lebanon<br>Total Sites: 0",
          "Madagascar<br>Total Sites: 105",
          "Palestine<br>Total Sites: 3",
          "Gambia<br>Total Sites: 34",
          "Tunisia<br>Total Sites: 0",
          "Algeria<br>Total Sites: 0",
          "Jordan<br>Total Sites: 3",
          "United Arab Emirates<br>Total Sites: 9",
          "Qatar<br>Total Sites: 0",
          "Kuwait<br>Total Sites: 0",
          "Iraq<br>Total Sites: 0",
          "Oman<br>Total Sites: 0",
          "Vanuatu<br>Total Sites: 0",
          "Cambodia<br>Total Sites: 5319",
          "Thailand<br>Total Sites: 37",
          "Laos<br>Total Sites: 1269",
          "Myanmar<br>Total Sites: 922",
          "Vietnam<br>Total Sites: 16",
          "North Korea<br>Total Sites: 0",
          "South Korea<br>Total Sites: 0",
          "Mongolia<br>Total Sites: 1",
          "India<br>Total Sites: 53551",
          "Bangladesh<br>Total Sites: 165",
          "Bhutan<br>Total Sites: 0",
          "Nepal<br>Total Sites: 16",
          "Pakistan<br>Total Sites: 632",
          "Afghanistan<br>Total Sites: 0",
          "Tajikistan<br>Total Sites: 0",
          "Kyrgyzstan<br>Total Sites: 0",
          "Turkmenistan<br>Total Sites: 0",
          "Iran<br>Total Sites: 0",
          "Syria<br>Total Sites: 1",
          "Armenia<br>Total Sites: 0",
          "Sweden<br>Total Sites: 44",
          "Belarus<br>Total Sites: 0",
          "Ukraine<br>Total Sites: 1",
          "Poland<br>Total Sites: 0",
          "Austria<br>Total Sites: 0",
          "Hungary<br>Total Sites: 0",
          "Moldova<br>Total Sites: 0",
          "Romania<br>Total Sites: 250",
          "Lithuania<br>Total Sites: 1",
          "Latvia<br>Total Sites: 14",
          "Estonia<br>Total Sites: 79",
          "Germany<br>Total Sites: 48",
          "Bulgaria<br>Total Sites: 0",
          "Greece<br>Total Sites: 0",
          "Turkey<br>Total Sites: 0",
          "Albania<br>Total Sites: 32",
          "Croatia<br>Total Sites: 0",
          "Switzerland<br>Total Sites: 0",
          "Luxembourg<br>Total Sites: 0",
          "Belgium<br>Total Sites: 3",
          "Netherlands<br>Total Sites: 0",
          "Portugal<br>Total Sites: 230",
          "Spain<br>Total Sites: 289",
          "Ireland<br>Total Sites: 1",
          "New Caledonia<br>Total Sites: 0",
          "Solomon Is.<br>Total Sites: 0",
          "New Zealand<br>Total Sites: 0",
          "Australia<br>Total Sites: 263",
          "Sri Lanka<br>Total Sites: 2162",
          "China<br>Total Sites: 530480",
          "Taiwan<br>Total Sites: 0",
          "Italy<br>Total Sites: 13",
          "Denmark<br>Total Sites: 9",
          "United Kingdom<br>Total Sites: 25",
          "Iceland<br>Total Sites: 0",
          "Azerbaijan<br>Total Sites: 0",
          "Georgia<br>Total Sites: 0",
          "Philippines<br>Total Sites: 733",
          "Malaysia<br>Total Sites: 3",
          "Brunei<br>Total Sites: 0",
          "Slovenia<br>Total Sites: 0",
          "Finland<br>Total Sites: 0",
          "Slovakia<br>Total Sites: 0",
          "Czechia<br>Total Sites: 3",
          "Eritrea<br>Total Sites: 0",
          "Japan<br>Total Sites: 0",
          "Paraguay<br>Total Sites: 781",
          "Yemen<br>Total Sites: 0",
          "Saudi Arabia<br>Total Sites: 0",
          "Antarctica<br>Total Sites: 0",
          "N. Cyprus<br>Total Sites: 0",
          "Cyprus<br>Total Sites: 0",
          "Morocco<br>Total Sites: 0",
          "Egypt<br>Total Sites: 0",
          "Libya<br>Total Sites: 0",
          "Ethiopia<br>Total Sites: 302",
          "Djibouti<br>Total Sites: 0",
          "Somaliland<br>Total Sites: 0",
          "Uganda<br>Total Sites: 6360",
          "Rwanda<br>Total Sites: 44311",
          "Bosnia and Herz.<br>Total Sites: 0",
          "North Macedonia<br>Total Sites: 0",
          "Serbia<br>Total Sites: 0",
          "Montenegro<br>Total Sites: 0",
          "Kosovo<br>Total Sites: 0",
          "Trinidad and Tobago<br>Total Sites: 0",
          "S. Sudan<br>Total Sites: 1"
         ],
         "type": "choropleth",
         "z": [
          0,
          2345,
          0,
          4502,
          3543,
          0,
          0,
          0,
          7323,
          346,
          2479,
          57,
          0,
          31197,
          0,
          2,
          7,
          0,
          3,
          0,
          0,
          0,
          0,
          0,
          8,
          105,
          0,
          21664,
          12653,
          5571,
          13,
          110,
          18315,
          20,
          19,
          2400,
          1,
          0,
          62,
          0,
          47,
          0,
          0,
          46,
          90,
          0,
          0,
          0,
          28,
          1,
          2,
          2204,
          0,
          0,
          0,
          116,
          422,
          4,
          3,
          2120,
          2,
          4,
          102,
          0,
          2745,
          6,
          1,
          10,
          2,
          0,
          58,
          43,
          4466,
          0,
          2,
          19,
          3,
          0,
          105,
          3,
          34,
          0,
          0,
          3,
          9,
          0,
          0,
          0,
          0,
          0,
          5319,
          37,
          1269,
          922,
          16,
          0,
          0,
          1,
          53551,
          165,
          0,
          16,
          632,
          0,
          0,
          0,
          0,
          0,
          1,
          0,
          44,
          0,
          1,
          0,
          0,
          0,
          0,
          250,
          1,
          14,
          79,
          48,
          0,
          0,
          0,
          32,
          0,
          0,
          0,
          3,
          0,
          230,
          289,
          1,
          0,
          0,
          0,
          263,
          2162,
          530480,
          0,
          13,
          9,
          25,
          0,
          0,
          0,
          733,
          3,
          0,
          0,
          0,
          0,
          3,
          0,
          0,
          781,
          0,
          0,
          0,
          0,
          0,
          0,
          0,
          0,
          302,
          0,
          0,
          6360,
          44311,
          0,
          0,
          0,
          0,
          0,
          0,
          1
         ]
        },
        {
         "cells": {
          "align": "left",
          "fill": {
           "color": "#a1d99b"
          },
          "values": [
           [
            "China",
            "India",
            "Rwanda",
            "Kenya",
            "Mexico",
            "Colombia",
            "Uruguay",
            "Indonesia",
            "Uganda",
            "Brazil",
            "Cambodia",
            "Canada",
            "Mozambique",
            "United States of America",
            "Sierra Leone",
            "Chile",
            "Nicaragua",
            "Tanzania",
            "Senegal",
            "Sri Lanka",
            "Ghana",
            "Laos",
            "Myanmar",
            "Paraguay",
            "Philippines",
            "Pakistan",
            "Nigeria",
            "Argentina",
            "Ethiopia",
            "Spain",
            "Australia",
            "Romania",
            "Portugal",
            "Bangladesh",
            "Niger",
            "Peru",
            "South Africa",
            "Madagascar",
            "Guinea-Bissau",
            "Ecuador",
            "Estonia",
            "Guatemala",
            "Zambia",
            "Dem. Rep. Congo",
            "Germany",
            "Venezuela",
            "France",
            "Sweden",
            "Malawi",
            "Thailand",
            "Gambia",
            "Albania",
            "Zimbabwe",
            "United Kingdom",
            "Panama",
            "Burundi",
            "Costa Rica",
            "Nepal",
            "Vietnam",
            "Latvia",
            "Italy",
            "Bolivia",
            "Congo",
            "United Arab Emirates",
            "Denmark",
            "Timor-Leste",
            "Haiti",
            "Burkina Faso",
            "Guinea",
            "Cameroon",
            "Belgium",
            "Israel",
            "Czechia",
            "Malaysia",
            "Jordan",
            "Togo",
            "Russia",
            "Palestine",
            "Namibia",
            "Angola",
            "Gabon",
            "Côte d'Ivoire",
            "Chad",
            "Lithuania",
            "Ukraine",
            "Ireland",
            "Mongolia",
            "Syria",
            "S. Sudan",
            "Botswana",
            "Honduras",
            "Central African Rep.",
            "Iceland",
            "Egypt",
            "Libya",
            "Djibouti",
            "Somaliland",
            "Netherlands",
            "Bosnia and Herz.",
            "North Macedonia",
            "Morocco",
            "Serbia",
            "Montenegro",
            "Kosovo",
            "Trinidad and Tobago",
            "Luxembourg",
            "Switzerland",
            "New Caledonia",
            "Solomon Is.",
            "Azerbaijan",
            "New Zealand",
            "Cyprus",
            "N. Cyprus",
            "Antarctica",
            "Saudi Arabia",
            "Yemen",
            "Taiwan",
            "Japan",
            "Eritrea",
            "Slovakia",
            "Finland",
            "Slovenia",
            "Brunei",
            "Georgia",
            "Croatia",
            "Fiji",
            "Turkey",
            "Fr. S. Antarctic Lands",
            "Mauritania",
            "Mali",
            "Cuba",
            "Jamaica",
            "Puerto Rico",
            "Suriname",
            "Guyana",
            "Belize",
            "El Salvador",
            "Lesotho",
            "Greenland",
            "Liberia",
            "Norway",
            "Falkland Is.",
            "Bahamas",
            "Dominican Rep.",
            "Sudan",
            "Somalia",
            "Papua New Guinea",
            "Uzbekistan",
            "Kazakhstan",
            "W. Sahara",
            "Benin",
            "Eq. Guinea",
            "Greece",
            "Tajikistan",
            "Bulgaria",
            "Moldova",
            "Hungary",
            "Austria",
            "Poland",
            "Belarus",
            "Armenia",
            "Iran",
            "Turkmenistan",
            "Kyrgyzstan",
            "Afghanistan",
            "eSwatini",
            "Bhutan",
            "South Korea",
            "North Korea",
            "Vanuatu",
            "Iraq",
            "Kuwait",
            "Qatar",
            "Algeria",
            "Tunisia",
            "Lebanon",
            "Oman"
           ],
           [
            530480,
            53551,
            44311,
            31197,
            21664,
            18315,
            12653,
            7323,
            6360,
            5571,
            5319,
            4502,
            4466,
            3543,
            2745,
            2479,
            2400,
            2345,
            2204,
            2162,
            2120,
            1269,
            922,
            781,
            733,
            632,
            422,
            346,
            302,
            289,
            263,
            250,
            230,
            165,
            116,
            110,
            105,
            105,
            102,
            90,
            79,
            62,
            58,
            57,
            48,
            47,
            46,
            44,
            43,
            37,
            34,
            32,
            28,
            25,
            20,
            19,
            19,
            16,
            16,
            14,
            13,
            13,
            10,
            9,
            9,
            8,
            7,
            6,
            4,
            4,
            3,
            3,
            3,
            3,
            3,
            3,
            3,
            3,
            2,
            2,
            2,
            2,
            2,
            1,
            1,
            1,
            1,
            1,
            1,
            1,
            1,
            1,
            0,
            0,
            0,
            0,
            0,
            0,
            0,
            0,
            0,
            0,
            0,
            0,
            0,
            0,
            0,
            0,
            0,
            0,
            0,
            0,
            0,
            0,
            0,
            0,
            0,
            0,
            0,
            0,
            0,
            0,
            0,
            0,
            0,
            0,
            0,
            0,
            0,
            0,
            0,
            0,
            0,
            0,
            0,
            0,
            0,
            0,
            0,
            0,
            0,
            0,
            0,
            0,
            0,
            0,
            0,
            0,
            0,
            0,
            0,
            0,
            0,
            0,
            0,
            0,
            0,
            0,
            0,
            0,
            0,
            0,
            0,
            0,
            0,
            0,
            0,
            0,
            0,
            0,
            0,
            0,
            0,
            0,
            0,
            0,
            0
           ]
          ]
         },
         "domain": {
          "x": [
           0.8200000000000001,
           1
          ],
          "y": [
           0,
           1
          ]
         },
         "header": {
          "align": "left",
          "fill": {
           "color": "#238b45"
          },
          "font": {
           "color": "white"
          },
          "values": [
           "Country",
           "Total Sites"
          ]
         },
         "type": "table"
        }
       ],
       "layout": {
        "geo": {
         "domain": {
          "x": [
           0,
           0.7200000000000001
          ],
          "y": [
           0,
           1
          ]
         }
        },
        "height": 600,
        "margin": {
         "b": 10,
         "l": 10,
         "r": 10,
         "t": 50
        },
        "paper_bgcolor": "lightgrey",
        "showlegend": false,
        "template": {
         "data": {
          "bar": [
           {
            "error_x": {
             "color": "#2a3f5f"
            },
            "error_y": {
             "color": "#2a3f5f"
            },
            "marker": {
             "line": {
              "color": "#E5ECF6",
              "width": 0.5
             }
            },
            "type": "bar"
           }
          ],
          "barpolar": [
           {
            "marker": {
             "line": {
              "color": "#E5ECF6",
              "width": 0.5
             }
            },
            "type": "barpolar"
           }
          ],
          "carpet": [
           {
            "aaxis": {
             "endlinecolor": "#2a3f5f",
             "gridcolor": "white",
             "linecolor": "white",
             "minorgridcolor": "white",
             "startlinecolor": "#2a3f5f"
            },
            "baxis": {
             "endlinecolor": "#2a3f5f",
             "gridcolor": "white",
             "linecolor": "white",
             "minorgridcolor": "white",
             "startlinecolor": "#2a3f5f"
            },
            "type": "carpet"
           }
          ],
          "choropleth": [
           {
            "colorbar": {
             "outlinewidth": 0,
             "ticks": ""
            },
            "type": "choropleth"
           }
          ],
          "contour": [
           {
            "colorbar": {
             "outlinewidth": 0,
             "ticks": ""
            },
            "colorscale": [
             [
              0,
              "#0d0887"
             ],
             [
              0.1111111111111111,
              "#46039f"
             ],
             [
              0.2222222222222222,
              "#7201a8"
             ],
             [
              0.3333333333333333,
              "#9c179e"
             ],
             [
              0.4444444444444444,
              "#bd3786"
             ],
             [
              0.5555555555555556,
              "#d8576b"
             ],
             [
              0.6666666666666666,
              "#ed7953"
             ],
             [
              0.7777777777777778,
              "#fb9f3a"
             ],
             [
              0.8888888888888888,
              "#fdca26"
             ],
             [
              1,
              "#f0f921"
             ]
            ],
            "type": "contour"
           }
          ],
          "contourcarpet": [
           {
            "colorbar": {
             "outlinewidth": 0,
             "ticks": ""
            },
            "type": "contourcarpet"
           }
          ],
          "heatmap": [
           {
            "colorbar": {
             "outlinewidth": 0,
             "ticks": ""
            },
            "colorscale": [
             [
              0,
              "#0d0887"
             ],
             [
              0.1111111111111111,
              "#46039f"
             ],
             [
              0.2222222222222222,
              "#7201a8"
             ],
             [
              0.3333333333333333,
              "#9c179e"
             ],
             [
              0.4444444444444444,
              "#bd3786"
             ],
             [
              0.5555555555555556,
              "#d8576b"
             ],
             [
              0.6666666666666666,
              "#ed7953"
             ],
             [
              0.7777777777777778,
              "#fb9f3a"
             ],
             [
              0.8888888888888888,
              "#fdca26"
             ],
             [
              1,
              "#f0f921"
             ]
            ],
            "type": "heatmap"
           }
          ],
          "heatmapgl": [
           {
            "colorbar": {
             "outlinewidth": 0,
             "ticks": ""
            },
            "colorscale": [
             [
              0,
              "#0d0887"
             ],
             [
              0.1111111111111111,
              "#46039f"
             ],
             [
              0.2222222222222222,
              "#7201a8"
             ],
             [
              0.3333333333333333,
              "#9c179e"
             ],
             [
              0.4444444444444444,
              "#bd3786"
             ],
             [
              0.5555555555555556,
              "#d8576b"
             ],
             [
              0.6666666666666666,
              "#ed7953"
             ],
             [
              0.7777777777777778,
              "#fb9f3a"
             ],
             [
              0.8888888888888888,
              "#fdca26"
             ],
             [
              1,
              "#f0f921"
             ]
            ],
            "type": "heatmapgl"
           }
          ],
          "histogram": [
           {
            "marker": {
             "colorbar": {
              "outlinewidth": 0,
              "ticks": ""
             }
            },
            "type": "histogram"
           }
          ],
          "histogram2d": [
           {
            "colorbar": {
             "outlinewidth": 0,
             "ticks": ""
            },
            "colorscale": [
             [
              0,
              "#0d0887"
             ],
             [
              0.1111111111111111,
              "#46039f"
             ],
             [
              0.2222222222222222,
              "#7201a8"
             ],
             [
              0.3333333333333333,
              "#9c179e"
             ],
             [
              0.4444444444444444,
              "#bd3786"
             ],
             [
              0.5555555555555556,
              "#d8576b"
             ],
             [
              0.6666666666666666,
              "#ed7953"
             ],
             [
              0.7777777777777778,
              "#fb9f3a"
             ],
             [
              0.8888888888888888,
              "#fdca26"
             ],
             [
              1,
              "#f0f921"
             ]
            ],
            "type": "histogram2d"
           }
          ],
          "histogram2dcontour": [
           {
            "colorbar": {
             "outlinewidth": 0,
             "ticks": ""
            },
            "colorscale": [
             [
              0,
              "#0d0887"
             ],
             [
              0.1111111111111111,
              "#46039f"
             ],
             [
              0.2222222222222222,
              "#7201a8"
             ],
             [
              0.3333333333333333,
              "#9c179e"
             ],
             [
              0.4444444444444444,
              "#bd3786"
             ],
             [
              0.5555555555555556,
              "#d8576b"
             ],
             [
              0.6666666666666666,
              "#ed7953"
             ],
             [
              0.7777777777777778,
              "#fb9f3a"
             ],
             [
              0.8888888888888888,
              "#fdca26"
             ],
             [
              1,
              "#f0f921"
             ]
            ],
            "type": "histogram2dcontour"
           }
          ],
          "mesh3d": [
           {
            "colorbar": {
             "outlinewidth": 0,
             "ticks": ""
            },
            "type": "mesh3d"
           }
          ],
          "parcoords": [
           {
            "line": {
             "colorbar": {
              "outlinewidth": 0,
              "ticks": ""
             }
            },
            "type": "parcoords"
           }
          ],
          "pie": [
           {
            "automargin": true,
            "type": "pie"
           }
          ],
          "scatter": [
           {
            "marker": {
             "colorbar": {
              "outlinewidth": 0,
              "ticks": ""
             }
            },
            "type": "scatter"
           }
          ],
          "scatter3d": [
           {
            "line": {
             "colorbar": {
              "outlinewidth": 0,
              "ticks": ""
             }
            },
            "marker": {
             "colorbar": {
              "outlinewidth": 0,
              "ticks": ""
             }
            },
            "type": "scatter3d"
           }
          ],
          "scattercarpet": [
           {
            "marker": {
             "colorbar": {
              "outlinewidth": 0,
              "ticks": ""
             }
            },
            "type": "scattercarpet"
           }
          ],
          "scattergeo": [
           {
            "marker": {
             "colorbar": {
              "outlinewidth": 0,
              "ticks": ""
             }
            },
            "type": "scattergeo"
           }
          ],
          "scattergl": [
           {
            "marker": {
             "colorbar": {
              "outlinewidth": 0,
              "ticks": ""
             }
            },
            "type": "scattergl"
           }
          ],
          "scattermapbox": [
           {
            "marker": {
             "colorbar": {
              "outlinewidth": 0,
              "ticks": ""
             }
            },
            "type": "scattermapbox"
           }
          ],
          "scatterpolar": [
           {
            "marker": {
             "colorbar": {
              "outlinewidth": 0,
              "ticks": ""
             }
            },
            "type": "scatterpolar"
           }
          ],
          "scatterpolargl": [
           {
            "marker": {
             "colorbar": {
              "outlinewidth": 0,
              "ticks": ""
             }
            },
            "type": "scatterpolargl"
           }
          ],
          "scatterternary": [
           {
            "marker": {
             "colorbar": {
              "outlinewidth": 0,
              "ticks": ""
             }
            },
            "type": "scatterternary"
           }
          ],
          "surface": [
           {
            "colorbar": {
             "outlinewidth": 0,
             "ticks": ""
            },
            "colorscale": [
             [
              0,
              "#0d0887"
             ],
             [
              0.1111111111111111,
              "#46039f"
             ],
             [
              0.2222222222222222,
              "#7201a8"
             ],
             [
              0.3333333333333333,
              "#9c179e"
             ],
             [
              0.4444444444444444,
              "#bd3786"
             ],
             [
              0.5555555555555556,
              "#d8576b"
             ],
             [
              0.6666666666666666,
              "#ed7953"
             ],
             [
              0.7777777777777778,
              "#fb9f3a"
             ],
             [
              0.8888888888888888,
              "#fdca26"
             ],
             [
              1,
              "#f0f921"
             ]
            ],
            "type": "surface"
           }
          ],
          "table": [
           {
            "cells": {
             "fill": {
              "color": "#EBF0F8"
             },
             "line": {
              "color": "white"
             }
            },
            "header": {
             "fill": {
              "color": "#C8D4E3"
             },
             "line": {
              "color": "white"
             }
            },
            "type": "table"
           }
          ]
         },
         "layout": {
          "annotationdefaults": {
           "arrowcolor": "#2a3f5f",
           "arrowhead": 0,
           "arrowwidth": 1
          },
          "autotypenumbers": "strict",
          "coloraxis": {
           "colorbar": {
            "outlinewidth": 0,
            "ticks": ""
           }
          },
          "colorscale": {
           "diverging": [
            [
             0,
             "#8e0152"
            ],
            [
             0.1,
             "#c51b7d"
            ],
            [
             0.2,
             "#de77ae"
            ],
            [
             0.3,
             "#f1b6da"
            ],
            [
             0.4,
             "#fde0ef"
            ],
            [
             0.5,
             "#f7f7f7"
            ],
            [
             0.6,
             "#e6f5d0"
            ],
            [
             0.7,
             "#b8e186"
            ],
            [
             0.8,
             "#7fbc41"
            ],
            [
             0.9,
             "#4d9221"
            ],
            [
             1,
             "#276419"
            ]
           ],
           "sequential": [
            [
             0,
             "#0d0887"
            ],
            [
             0.1111111111111111,
             "#46039f"
            ],
            [
             0.2222222222222222,
             "#7201a8"
            ],
            [
             0.3333333333333333,
             "#9c179e"
            ],
            [
             0.4444444444444444,
             "#bd3786"
            ],
            [
             0.5555555555555556,
             "#d8576b"
            ],
            [
             0.6666666666666666,
             "#ed7953"
            ],
            [
             0.7777777777777778,
             "#fb9f3a"
            ],
            [
             0.8888888888888888,
             "#fdca26"
            ],
            [
             1,
             "#f0f921"
            ]
           ],
           "sequentialminus": [
            [
             0,
             "#0d0887"
            ],
            [
             0.1111111111111111,
             "#46039f"
            ],
            [
             0.2222222222222222,
             "#7201a8"
            ],
            [
             0.3333333333333333,
             "#9c179e"
            ],
            [
             0.4444444444444444,
             "#bd3786"
            ],
            [
             0.5555555555555556,
             "#d8576b"
            ],
            [
             0.6666666666666666,
             "#ed7953"
            ],
            [
             0.7777777777777778,
             "#fb9f3a"
            ],
            [
             0.8888888888888888,
             "#fdca26"
            ],
            [
             1,
             "#f0f921"
            ]
           ]
          },
          "colorway": [
           "#636efa",
           "#EF553B",
           "#00cc96",
           "#ab63fa",
           "#FFA15A",
           "#19d3f3",
           "#FF6692",
           "#B6E880",
           "#FF97FF",
           "#FECB52"
          ],
          "font": {
           "color": "#2a3f5f"
          },
          "geo": {
           "bgcolor": "white",
           "lakecolor": "white",
           "landcolor": "#E5ECF6",
           "showlakes": true,
           "showland": true,
           "subunitcolor": "white"
          },
          "hoverlabel": {
           "align": "left"
          },
          "hovermode": "closest",
          "mapbox": {
           "style": "light"
          },
          "paper_bgcolor": "white",
          "plot_bgcolor": "#E5ECF6",
          "polar": {
           "angularaxis": {
            "gridcolor": "white",
            "linecolor": "white",
            "ticks": ""
           },
           "bgcolor": "#E5ECF6",
           "radialaxis": {
            "gridcolor": "white",
            "linecolor": "white",
            "ticks": ""
           }
          },
          "scene": {
           "xaxis": {
            "backgroundcolor": "#E5ECF6",
            "gridcolor": "white",
            "gridwidth": 2,
            "linecolor": "white",
            "showbackground": true,
            "ticks": "",
            "zerolinecolor": "white"
           },
           "yaxis": {
            "backgroundcolor": "#E5ECF6",
            "gridcolor": "white",
            "gridwidth": 2,
            "linecolor": "white",
            "showbackground": true,
            "ticks": "",
            "zerolinecolor": "white"
           },
           "zaxis": {
            "backgroundcolor": "#E5ECF6",
            "gridcolor": "white",
            "gridwidth": 2,
            "linecolor": "white",
            "showbackground": true,
            "ticks": "",
            "zerolinecolor": "white"
           }
          },
          "shapedefaults": {
           "line": {
            "color": "#2a3f5f"
           }
          },
          "ternary": {
           "aaxis": {
            "gridcolor": "white",
            "linecolor": "white",
            "ticks": ""
           },
           "baxis": {
            "gridcolor": "white",
            "linecolor": "white",
            "ticks": ""
           },
           "bgcolor": "#E5ECF6",
           "caxis": {
            "gridcolor": "white",
            "linecolor": "white",
            "ticks": ""
           }
          },
          "title": {
           "x": 0.05
          },
          "xaxis": {
           "automargin": true,
           "gridcolor": "white",
           "linecolor": "white",
           "ticks": "",
           "title": {
            "standoff": 15
           },
           "zerolinecolor": "white",
           "zerolinewidth": 2
          },
          "yaxis": {
           "automargin": true,
           "gridcolor": "white",
           "linecolor": "white",
           "ticks": "",
           "title": {
            "standoff": 15
           },
           "zerolinecolor": "white",
           "zerolinewidth": 2
          }
         }
        },
        "title": {
         "text": "Global Reforestation Sites Count",
         "x": 0.5
        },
        "width": 1200
       }
      }
     },
     "metadata": {},
     "output_type": "display_data"
    }
   ],
   "source": [
    "\n",
    "dark_green_scale = [\n",
    "    [0, '#a1d99b'],  \n",
    "    [0.5, '#238b45'],  \n",
    "    [1, '#00441b']  \n",
    "]\n",
    "\n",
    "fig.add_trace(\n",
    "    go.Choropleth(\n",
    "        locations=world_with_site_count['iso_a3'],\n",
    "        z=world_with_site_count['total_sites'],\n",
    "        hoverinfo='text',  \n",
    "        text=world_with_site_count['hover_text'], \n",
    "        colorscale=dark_green_scale,  \n",
    "        colorbar_title=\"Total Sites\",\n",
    "    ),\n",
    "    row=1, col=1\n",
    ")\n",
    "\n",
    "\n",
    "header_color = '#238b45'  \n",
    "cell_color = '#a1d99b'  \n",
    "\n",
    "fig.add_trace(\n",
    "    go.Table(\n",
    "        header=dict(values=[\"Country\", \"Total Sites\"],\n",
    "                    fill_color=header_color, \n",
    "                    font=dict(color='white'),\n",
    "                    align='left'),\n",
    "        cells=dict(values=[table_data.name, table_data.total_sites],\n",
    "                   fill_color=cell_color,  \n",
    "                   align='left')),\n",
    "    row=1, col=2\n",
    ")\n",
    "\n",
    "\n",
    "fig.update_layout(\n",
    "    title_text=\"Global Reforestation Sites Count\",\n",
    "    showlegend=False,\n",
    "    paper_bgcolor=\"lightgrey\",\n",
    "    title_x=0.5,\n",
    "    width=1200,\n",
    "    height=600,\n",
    "    margin=dict(l=10, r=10, t=50, b=10)\n",
    ")\n",
    "\n",
    "fig.show()"
   ]
  },
  {
   "cell_type": "code",
   "execution_count": null,
   "metadata": {},
   "outputs": [],
   "source": []
  },
  {
   "cell_type": "code",
   "execution_count": 73,
   "metadata": {},
   "outputs": [
    {
     "name": "stderr",
     "output_type": "stream",
     "text": [
      "/home/idisc02/anaconda3/envs/downgrade/lib/python3.8/site-packages/geopandas/geodataframe.py:1538: SettingWithCopyWarning:\n",
      "\n",
      "\n",
      "A value is trying to be set on a copy of a slice from a DataFrame.\n",
      "Try using .loc[row_indexer,col_indexer] = value instead\n",
      "\n",
      "See the caveats in the documentation: https://pandas.pydata.org/pandas-docs/stable/user_guide/indexing.html#returning-a-view-versus-a-copy\n",
      "\n",
      "/tmp/ipykernel_3895178/1581334087.py:26: FutureWarning:\n",
      "\n",
      "The geopandas.dataset module is deprecated and will be removed in GeoPandas 1.0. You can get the original 'naturalearth_lowres' data from https://www.naturalearthdata.com/downloads/110m-cultural-vectors/.\n",
      "\n"
     ]
    },
    {
     "data": {
      "application/vnd.plotly.v1+json": {
       "config": {
        "plotlyServerURL": "https://plot.ly"
       },
       "data": [
        {
         "coloraxis": "coloraxis",
         "geo": "geo",
         "hovertemplate": "<b>%{hovertext}</b><br><br>iso_a3=%{location}<br>total_area_km2=%{z}<extra></extra>",
         "hovertext": [
          "Fiji",
          "Tanzania",
          "W. Sahara",
          "Canada",
          "United States of America",
          "Kazakhstan",
          "Uzbekistan",
          "Papua New Guinea",
          "Indonesia",
          "Argentina",
          "Chile",
          "Dem. Rep. Congo",
          "Somalia",
          "Kenya",
          "Sudan",
          "Chad",
          "Haiti",
          "Dominican Rep.",
          "Russia",
          "Bahamas",
          "Falkland Is.",
          "Norway",
          "Greenland",
          "Fr. S. Antarctic Lands",
          "Timor-Leste",
          "South Africa",
          "Lesotho",
          "Mexico",
          "Uruguay",
          "Brazil",
          "Bolivia",
          "Peru",
          "Colombia",
          "Panama",
          "Costa Rica",
          "Nicaragua",
          "Honduras",
          "El Salvador",
          "Guatemala",
          "Belize",
          "Venezuela",
          "Guyana",
          "Suriname",
          "France",
          "Ecuador",
          "Puerto Rico",
          "Jamaica",
          "Cuba",
          "Zimbabwe",
          "Botswana",
          "Namibia",
          "Senegal",
          "Mali",
          "Mauritania",
          "Benin",
          "Niger",
          "Nigeria",
          "Cameroon",
          "Togo",
          "Ghana",
          "Côte d'Ivoire",
          "Guinea",
          "Guinea-Bissau",
          "Liberia",
          "Sierra Leone",
          "Burkina Faso",
          "Central African Rep.",
          "Congo",
          "Gabon",
          "Eq. Guinea",
          "Zambia",
          "Malawi",
          "Mozambique",
          "eSwatini",
          "Angola",
          "Burundi",
          "Israel",
          "Lebanon",
          "Madagascar",
          "Palestine",
          "Gambia",
          "Tunisia",
          "Algeria",
          "Jordan",
          "United Arab Emirates",
          "Qatar",
          "Kuwait",
          "Iraq",
          "Oman",
          "Vanuatu",
          "Cambodia",
          "Thailand",
          "Laos",
          "Myanmar",
          "Vietnam",
          "North Korea",
          "South Korea",
          "Mongolia",
          "India",
          "Bangladesh",
          "Bhutan",
          "Nepal",
          "Pakistan",
          "Afghanistan",
          "Tajikistan",
          "Kyrgyzstan",
          "Turkmenistan",
          "Iran",
          "Syria",
          "Armenia",
          "Sweden",
          "Belarus",
          "Ukraine",
          "Poland",
          "Austria",
          "Hungary",
          "Moldova",
          "Romania",
          "Lithuania",
          "Latvia",
          "Estonia",
          "Germany",
          "Bulgaria",
          "Greece",
          "Turkey",
          "Albania",
          "Croatia",
          "Switzerland",
          "Luxembourg",
          "Belgium",
          "Netherlands",
          "Portugal",
          "Spain",
          "Ireland",
          "New Caledonia",
          "Solomon Is.",
          "New Zealand",
          "Australia",
          "Sri Lanka",
          "China",
          "Taiwan",
          "Italy",
          "Denmark",
          "United Kingdom",
          "Iceland",
          "Azerbaijan",
          "Georgia",
          "Philippines",
          "Malaysia",
          "Brunei",
          "Slovenia",
          "Finland",
          "Slovakia",
          "Czechia",
          "Eritrea",
          "Japan",
          "Paraguay",
          "Yemen",
          "Saudi Arabia",
          "Antarctica",
          "N. Cyprus",
          "Cyprus",
          "Morocco",
          "Egypt",
          "Libya",
          "Ethiopia",
          "Djibouti",
          "Somaliland",
          "Uganda",
          "Rwanda",
          "Bosnia and Herz.",
          "North Macedonia",
          "Serbia",
          "Montenegro",
          "Kosovo",
          "Trinidad and Tobago",
          "S. Sudan"
         ],
         "locations": [
          "FJI",
          "TZA",
          "ESH",
          "CAN",
          "USA",
          "KAZ",
          "UZB",
          "PNG",
          "IDN",
          "ARG",
          "CHL",
          "COD",
          "SOM",
          "KEN",
          "SDN",
          "TCD",
          "HTI",
          "DOM",
          "RUS",
          "BHS",
          "FLK",
          "NOR",
          "GRL",
          "ATF",
          "TLS",
          "ZAF",
          "LSO",
          "MEX",
          "URY",
          "BRA",
          "BOL",
          "PER",
          "COL",
          "PAN",
          "CRI",
          "NIC",
          "HND",
          "SLV",
          "GTM",
          "BLZ",
          "VEN",
          "GUY",
          "SUR",
          "FRA",
          "ECU",
          "PRI",
          "JAM",
          "CUB",
          "ZWE",
          "BWA",
          "NAM",
          "SEN",
          "MLI",
          "MRT",
          "BEN",
          "NER",
          "NGA",
          "CMR",
          "TGO",
          "GHA",
          "CIV",
          "GIN",
          "GNB",
          "LBR",
          "SLE",
          "BFA",
          "CAF",
          "COG",
          "GAB",
          "GNQ",
          "ZMB",
          "MWI",
          "MOZ",
          "SWZ",
          "AGO",
          "BDI",
          "ISR",
          "LBN",
          "MDG",
          "PSE",
          "GMB",
          "TUN",
          "DZA",
          "JOR",
          "ARE",
          "QAT",
          "KWT",
          "IRQ",
          "OMN",
          "VUT",
          "KHM",
          "THA",
          "LAO",
          "MMR",
          "VNM",
          "PRK",
          "KOR",
          "MNG",
          "IND",
          "BGD",
          "BTN",
          "NPL",
          "PAK",
          "AFG",
          "TJK",
          "KGZ",
          "TKM",
          "IRN",
          "SYR",
          "ARM",
          "SWE",
          "BLR",
          "UKR",
          "POL",
          "AUT",
          "HUN",
          "MDA",
          "ROU",
          "LTU",
          "LVA",
          "EST",
          "DEU",
          "BGR",
          "GRC",
          "TUR",
          "ALB",
          "HRV",
          "CHE",
          "LUX",
          "BEL",
          "NLD",
          "PRT",
          "ESP",
          "IRL",
          "NCL",
          "SLB",
          "NZL",
          "AUS",
          "LKA",
          "CHN",
          "TWN",
          "ITA",
          "DNK",
          "GBR",
          "ISL",
          "AZE",
          "GEO",
          "PHL",
          "MYS",
          "BRN",
          "SVN",
          "FIN",
          "SVK",
          "CZE",
          "ERI",
          "JPN",
          "PRY",
          "YEM",
          "SAU",
          "ATA",
          "CYN",
          "CYP",
          "MAR",
          "EGY",
          "LBY",
          "ETH",
          "DJI",
          "SOL",
          "UGA",
          "RWA",
          "BIH",
          "MKD",
          "SRB",
          "MNE",
          "-99",
          "TTO",
          "SSD"
         ],
         "name": "",
         "type": "choropleth",
         "z": [
          0,
          95564.0389185989,
          0,
          2221.3819208197606,
          13132.011780754996,
          0,
          0,
          0,
          6970.612309511494,
          286.5282006184065,
          71.84709690703328,
          17272.52641278412,
          0,
          83455.29911481429,
          0,
          0.012980567049990899,
          25.188385423297795,
          0,
          0.1250475163822221,
          0,
          0,
          0,
          0,
          0,
          3.3562611646972718,
          68.0819304388643,
          0,
          4574.426893560819,
          2401.439948038197,
          17190.188932703728,
          707.4884466993541,
          629.549207819648,
          1219.0664386041135,
          18.886648179870154,
          1.216564732295156,
          91.9764532510827,
          168.39593619640857,
          0,
          120.2230383450369,
          0,
          8.77927314397803,
          0,
          0,
          16.940409018497213,
          1152.8417857370391,
          0,
          0,
          0,
          6565.550332059515,
          5711.102449655749,
          66.15558387499442,
          2774.9786720624656,
          0,
          0,
          0,
          52.9735718358211,
          13.04149960221609,
          1101.68080800681,
          713.4056080489636,
          1070.4729037437082,
          565.6778926057867,
          2414.23654238435,
          2.701657828864241,
          0,
          2338.7491033740407,
          186.8587605131708,
          20.101343669496273,
          584.0074025301222,
          494.29061637436746,
          0,
          14880.502775484092,
          18316.917288660334,
          18638.055918179256,
          0,
          528.9449323882693,
          2405.846482805575,
          5647.505898115953,
          0,
          750.5012748467894,
          5570.185612471139,
          2675.4056461956966,
          0,
          0,
          5484.294985608469,
          0.7626551846213842,
          0,
          0,
          0,
          0,
          0,
          2313.581027810544,
          0.9213796770441427,
          51.327539751102115,
          279.3677521258988,
          28.779131737467974,
          0,
          0,
          0.05202712131521828,
          16868.957145142314,
          4406.692869369081,
          0,
          28.826082905126558,
          1137.6305421409504,
          0,
          0,
          0,
          0,
          0,
          250.9036928718791,
          0,
          14.152067349644838,
          0,
          0.022720772454758932,
          0,
          0,
          0,
          0,
          30.26040526665553,
          0.11969754162923489,
          0.8930347519036909,
          5.322841409767124,
          31.598291563992674,
          0,
          0,
          0,
          0.05801495435141253,
          0,
          0,
          0,
          0.3608818560057296,
          0,
          142.6670028748386,
          107.04858967534253,
          0.06554624216919591,
          0,
          0,
          0,
          26.535754437682918,
          12.941670041117511,
          38969.619403765966,
          0,
          39.40563016360872,
          0.9710728723850995,
          13.230966040849495,
          0,
          0,
          0,
          2967.8513847373188,
          35.15423588702882,
          0,
          0,
          0,
          0,
          0.3410386006429952,
          0,
          0,
          596.8522672096847,
          0,
          0,
          0,
          0,
          0,
          0,
          0,
          0,
          260.7081017618386,
          0,
          0,
          9518.83830910377,
          4600.744691414569,
          0,
          0,
          0,
          0,
          0,
          0,
          54.07773222309122
         ]
        }
       ],
       "layout": {
        "coloraxis": {
         "colorbar": {
          "title": {
           "text": "total_area_km2"
          }
         },
         "colorscale": [
          [
           0,
           "#a1d99b"
          ],
          [
           0.5,
           "#238b45"
          ],
          [
           1,
           "#00441b"
          ]
         ]
        },
        "geo": {
         "center": {},
         "domain": {
          "x": [
           0,
           1
          ],
          "y": [
           0,
           1
          ]
         }
        },
        "legend": {
         "tracegroupgap": 0
        },
        "template": {
         "data": {
          "bar": [
           {
            "error_x": {
             "color": "#2a3f5f"
            },
            "error_y": {
             "color": "#2a3f5f"
            },
            "marker": {
             "line": {
              "color": "#E5ECF6",
              "width": 0.5
             }
            },
            "type": "bar"
           }
          ],
          "barpolar": [
           {
            "marker": {
             "line": {
              "color": "#E5ECF6",
              "width": 0.5
             }
            },
            "type": "barpolar"
           }
          ],
          "carpet": [
           {
            "aaxis": {
             "endlinecolor": "#2a3f5f",
             "gridcolor": "white",
             "linecolor": "white",
             "minorgridcolor": "white",
             "startlinecolor": "#2a3f5f"
            },
            "baxis": {
             "endlinecolor": "#2a3f5f",
             "gridcolor": "white",
             "linecolor": "white",
             "minorgridcolor": "white",
             "startlinecolor": "#2a3f5f"
            },
            "type": "carpet"
           }
          ],
          "choropleth": [
           {
            "colorbar": {
             "outlinewidth": 0,
             "ticks": ""
            },
            "type": "choropleth"
           }
          ],
          "contour": [
           {
            "colorbar": {
             "outlinewidth": 0,
             "ticks": ""
            },
            "colorscale": [
             [
              0,
              "#0d0887"
             ],
             [
              0.1111111111111111,
              "#46039f"
             ],
             [
              0.2222222222222222,
              "#7201a8"
             ],
             [
              0.3333333333333333,
              "#9c179e"
             ],
             [
              0.4444444444444444,
              "#bd3786"
             ],
             [
              0.5555555555555556,
              "#d8576b"
             ],
             [
              0.6666666666666666,
              "#ed7953"
             ],
             [
              0.7777777777777778,
              "#fb9f3a"
             ],
             [
              0.8888888888888888,
              "#fdca26"
             ],
             [
              1,
              "#f0f921"
             ]
            ],
            "type": "contour"
           }
          ],
          "contourcarpet": [
           {
            "colorbar": {
             "outlinewidth": 0,
             "ticks": ""
            },
            "type": "contourcarpet"
           }
          ],
          "heatmap": [
           {
            "colorbar": {
             "outlinewidth": 0,
             "ticks": ""
            },
            "colorscale": [
             [
              0,
              "#0d0887"
             ],
             [
              0.1111111111111111,
              "#46039f"
             ],
             [
              0.2222222222222222,
              "#7201a8"
             ],
             [
              0.3333333333333333,
              "#9c179e"
             ],
             [
              0.4444444444444444,
              "#bd3786"
             ],
             [
              0.5555555555555556,
              "#d8576b"
             ],
             [
              0.6666666666666666,
              "#ed7953"
             ],
             [
              0.7777777777777778,
              "#fb9f3a"
             ],
             [
              0.8888888888888888,
              "#fdca26"
             ],
             [
              1,
              "#f0f921"
             ]
            ],
            "type": "heatmap"
           }
          ],
          "heatmapgl": [
           {
            "colorbar": {
             "outlinewidth": 0,
             "ticks": ""
            },
            "colorscale": [
             [
              0,
              "#0d0887"
             ],
             [
              0.1111111111111111,
              "#46039f"
             ],
             [
              0.2222222222222222,
              "#7201a8"
             ],
             [
              0.3333333333333333,
              "#9c179e"
             ],
             [
              0.4444444444444444,
              "#bd3786"
             ],
             [
              0.5555555555555556,
              "#d8576b"
             ],
             [
              0.6666666666666666,
              "#ed7953"
             ],
             [
              0.7777777777777778,
              "#fb9f3a"
             ],
             [
              0.8888888888888888,
              "#fdca26"
             ],
             [
              1,
              "#f0f921"
             ]
            ],
            "type": "heatmapgl"
           }
          ],
          "histogram": [
           {
            "marker": {
             "colorbar": {
              "outlinewidth": 0,
              "ticks": ""
             }
            },
            "type": "histogram"
           }
          ],
          "histogram2d": [
           {
            "colorbar": {
             "outlinewidth": 0,
             "ticks": ""
            },
            "colorscale": [
             [
              0,
              "#0d0887"
             ],
             [
              0.1111111111111111,
              "#46039f"
             ],
             [
              0.2222222222222222,
              "#7201a8"
             ],
             [
              0.3333333333333333,
              "#9c179e"
             ],
             [
              0.4444444444444444,
              "#bd3786"
             ],
             [
              0.5555555555555556,
              "#d8576b"
             ],
             [
              0.6666666666666666,
              "#ed7953"
             ],
             [
              0.7777777777777778,
              "#fb9f3a"
             ],
             [
              0.8888888888888888,
              "#fdca26"
             ],
             [
              1,
              "#f0f921"
             ]
            ],
            "type": "histogram2d"
           }
          ],
          "histogram2dcontour": [
           {
            "colorbar": {
             "outlinewidth": 0,
             "ticks": ""
            },
            "colorscale": [
             [
              0,
              "#0d0887"
             ],
             [
              0.1111111111111111,
              "#46039f"
             ],
             [
              0.2222222222222222,
              "#7201a8"
             ],
             [
              0.3333333333333333,
              "#9c179e"
             ],
             [
              0.4444444444444444,
              "#bd3786"
             ],
             [
              0.5555555555555556,
              "#d8576b"
             ],
             [
              0.6666666666666666,
              "#ed7953"
             ],
             [
              0.7777777777777778,
              "#fb9f3a"
             ],
             [
              0.8888888888888888,
              "#fdca26"
             ],
             [
              1,
              "#f0f921"
             ]
            ],
            "type": "histogram2dcontour"
           }
          ],
          "mesh3d": [
           {
            "colorbar": {
             "outlinewidth": 0,
             "ticks": ""
            },
            "type": "mesh3d"
           }
          ],
          "parcoords": [
           {
            "line": {
             "colorbar": {
              "outlinewidth": 0,
              "ticks": ""
             }
            },
            "type": "parcoords"
           }
          ],
          "pie": [
           {
            "automargin": true,
            "type": "pie"
           }
          ],
          "scatter": [
           {
            "marker": {
             "colorbar": {
              "outlinewidth": 0,
              "ticks": ""
             }
            },
            "type": "scatter"
           }
          ],
          "scatter3d": [
           {
            "line": {
             "colorbar": {
              "outlinewidth": 0,
              "ticks": ""
             }
            },
            "marker": {
             "colorbar": {
              "outlinewidth": 0,
              "ticks": ""
             }
            },
            "type": "scatter3d"
           }
          ],
          "scattercarpet": [
           {
            "marker": {
             "colorbar": {
              "outlinewidth": 0,
              "ticks": ""
             }
            },
            "type": "scattercarpet"
           }
          ],
          "scattergeo": [
           {
            "marker": {
             "colorbar": {
              "outlinewidth": 0,
              "ticks": ""
             }
            },
            "type": "scattergeo"
           }
          ],
          "scattergl": [
           {
            "marker": {
             "colorbar": {
              "outlinewidth": 0,
              "ticks": ""
             }
            },
            "type": "scattergl"
           }
          ],
          "scattermapbox": [
           {
            "marker": {
             "colorbar": {
              "outlinewidth": 0,
              "ticks": ""
             }
            },
            "type": "scattermapbox"
           }
          ],
          "scatterpolar": [
           {
            "marker": {
             "colorbar": {
              "outlinewidth": 0,
              "ticks": ""
             }
            },
            "type": "scatterpolar"
           }
          ],
          "scatterpolargl": [
           {
            "marker": {
             "colorbar": {
              "outlinewidth": 0,
              "ticks": ""
             }
            },
            "type": "scatterpolargl"
           }
          ],
          "scatterternary": [
           {
            "marker": {
             "colorbar": {
              "outlinewidth": 0,
              "ticks": ""
             }
            },
            "type": "scatterternary"
           }
          ],
          "surface": [
           {
            "colorbar": {
             "outlinewidth": 0,
             "ticks": ""
            },
            "colorscale": [
             [
              0,
              "#0d0887"
             ],
             [
              0.1111111111111111,
              "#46039f"
             ],
             [
              0.2222222222222222,
              "#7201a8"
             ],
             [
              0.3333333333333333,
              "#9c179e"
             ],
             [
              0.4444444444444444,
              "#bd3786"
             ],
             [
              0.5555555555555556,
              "#d8576b"
             ],
             [
              0.6666666666666666,
              "#ed7953"
             ],
             [
              0.7777777777777778,
              "#fb9f3a"
             ],
             [
              0.8888888888888888,
              "#fdca26"
             ],
             [
              1,
              "#f0f921"
             ]
            ],
            "type": "surface"
           }
          ],
          "table": [
           {
            "cells": {
             "fill": {
              "color": "#EBF0F8"
             },
             "line": {
              "color": "white"
             }
            },
            "header": {
             "fill": {
              "color": "#C8D4E3"
             },
             "line": {
              "color": "white"
             }
            },
            "type": "table"
           }
          ]
         },
         "layout": {
          "annotationdefaults": {
           "arrowcolor": "#2a3f5f",
           "arrowhead": 0,
           "arrowwidth": 1
          },
          "autotypenumbers": "strict",
          "coloraxis": {
           "colorbar": {
            "outlinewidth": 0,
            "ticks": ""
           }
          },
          "colorscale": {
           "diverging": [
            [
             0,
             "#8e0152"
            ],
            [
             0.1,
             "#c51b7d"
            ],
            [
             0.2,
             "#de77ae"
            ],
            [
             0.3,
             "#f1b6da"
            ],
            [
             0.4,
             "#fde0ef"
            ],
            [
             0.5,
             "#f7f7f7"
            ],
            [
             0.6,
             "#e6f5d0"
            ],
            [
             0.7,
             "#b8e186"
            ],
            [
             0.8,
             "#7fbc41"
            ],
            [
             0.9,
             "#4d9221"
            ],
            [
             1,
             "#276419"
            ]
           ],
           "sequential": [
            [
             0,
             "#0d0887"
            ],
            [
             0.1111111111111111,
             "#46039f"
            ],
            [
             0.2222222222222222,
             "#7201a8"
            ],
            [
             0.3333333333333333,
             "#9c179e"
            ],
            [
             0.4444444444444444,
             "#bd3786"
            ],
            [
             0.5555555555555556,
             "#d8576b"
            ],
            [
             0.6666666666666666,
             "#ed7953"
            ],
            [
             0.7777777777777778,
             "#fb9f3a"
            ],
            [
             0.8888888888888888,
             "#fdca26"
            ],
            [
             1,
             "#f0f921"
            ]
           ],
           "sequentialminus": [
            [
             0,
             "#0d0887"
            ],
            [
             0.1111111111111111,
             "#46039f"
            ],
            [
             0.2222222222222222,
             "#7201a8"
            ],
            [
             0.3333333333333333,
             "#9c179e"
            ],
            [
             0.4444444444444444,
             "#bd3786"
            ],
            [
             0.5555555555555556,
             "#d8576b"
            ],
            [
             0.6666666666666666,
             "#ed7953"
            ],
            [
             0.7777777777777778,
             "#fb9f3a"
            ],
            [
             0.8888888888888888,
             "#fdca26"
            ],
            [
             1,
             "#f0f921"
            ]
           ]
          },
          "colorway": [
           "#636efa",
           "#EF553B",
           "#00cc96",
           "#ab63fa",
           "#FFA15A",
           "#19d3f3",
           "#FF6692",
           "#B6E880",
           "#FF97FF",
           "#FECB52"
          ],
          "font": {
           "color": "#2a3f5f"
          },
          "geo": {
           "bgcolor": "white",
           "lakecolor": "white",
           "landcolor": "#E5ECF6",
           "showlakes": true,
           "showland": true,
           "subunitcolor": "white"
          },
          "hoverlabel": {
           "align": "left"
          },
          "hovermode": "closest",
          "mapbox": {
           "style": "light"
          },
          "paper_bgcolor": "white",
          "plot_bgcolor": "#E5ECF6",
          "polar": {
           "angularaxis": {
            "gridcolor": "white",
            "linecolor": "white",
            "ticks": ""
           },
           "bgcolor": "#E5ECF6",
           "radialaxis": {
            "gridcolor": "white",
            "linecolor": "white",
            "ticks": ""
           }
          },
          "scene": {
           "xaxis": {
            "backgroundcolor": "#E5ECF6",
            "gridcolor": "white",
            "gridwidth": 2,
            "linecolor": "white",
            "showbackground": true,
            "ticks": "",
            "zerolinecolor": "white"
           },
           "yaxis": {
            "backgroundcolor": "#E5ECF6",
            "gridcolor": "white",
            "gridwidth": 2,
            "linecolor": "white",
            "showbackground": true,
            "ticks": "",
            "zerolinecolor": "white"
           },
           "zaxis": {
            "backgroundcolor": "#E5ECF6",
            "gridcolor": "white",
            "gridwidth": 2,
            "linecolor": "white",
            "showbackground": true,
            "ticks": "",
            "zerolinecolor": "white"
           }
          },
          "shapedefaults": {
           "line": {
            "color": "#2a3f5f"
           }
          },
          "ternary": {
           "aaxis": {
            "gridcolor": "white",
            "linecolor": "white",
            "ticks": ""
           },
           "baxis": {
            "gridcolor": "white",
            "linecolor": "white",
            "ticks": ""
           },
           "bgcolor": "#E5ECF6",
           "caxis": {
            "gridcolor": "white",
            "linecolor": "white",
            "ticks": ""
           }
          },
          "title": {
           "x": 0.05
          },
          "xaxis": {
           "automargin": true,
           "gridcolor": "white",
           "linecolor": "white",
           "ticks": "",
           "title": {
            "standoff": 15
           },
           "zerolinecolor": "white",
           "zerolinewidth": 2
          },
          "yaxis": {
           "automargin": true,
           "gridcolor": "white",
           "linecolor": "white",
           "ticks": "",
           "title": {
            "standoff": 15
           },
           "zerolinecolor": "white",
           "zerolinewidth": 2
          }
         }
        },
        "title": {
         "text": "Global Reforestation Area Covered (km²)"
        }
       }
      }
     },
     "metadata": {},
     "output_type": "display_data"
    }
   ],
   "source": [
    "import geopandas as gpd\n",
    "import pandas as pd\n",
    "from shapely.geometry import shape\n",
    "import plotly.express as px\n",
    "import json\n",
    "\n",
    "def convert_to_geometry(geojson_input):\n",
    "    if geojson_input == '{}' or geojson_input is None:\n",
    "        return None\n",
    "    try:\n",
    "        if isinstance(geojson_input, dict):  \n",
    "            return shape(geojson_input)\n",
    "        else:\n",
    "            geojson_obj = json.loads(geojson_input)  \n",
    "            return shape(geojson_obj)\n",
    "    except (json.JSONDecodeError, TypeError):\n",
    "        return None\n",
    "\n",
    "\n",
    "df_reforestation['geometry'] = df_reforestation['geometry_reported'].apply(convert_to_geometry)\n",
    "gdf_sites = gpd.GeoDataFrame(df_reforestation, geometry='geometry')\n",
    "\n",
    "\n",
    "gdf_sites.crs = \"EPSG:4326\"\n",
    "\n",
    "world = gpd.read_file(gpd.datasets.get_path('naturalearth_lowres'))\n",
    "\n",
    "\n",
    "gdf_sites_with_country = gpd.sjoin(gdf_sites, world, how=\"left\", predicate='intersects')\n",
    "\n",
    "\n",
    "gdf_sites_with_country['area_km2'] = gdf_sites_with_country.to_crs(epsg=3395).area / 10**6\n",
    "\n",
    "\n",
    "country_area_covered = gdf_sites_with_country.groupby('name')['area_km2'].sum().reset_index(name='total_area_km2')\n",
    "\n",
    "world_with_area_covered = world.merge(country_area_covered, how=\"left\", left_on=\"name\", right_on=\"name\")\n",
    "\n",
    "\n",
    "world_with_area_covered['total_area_km2'] = world_with_area_covered['total_area_km2'].fillna(0)\n",
    "\n",
    "\n",
    "dark_green_scale = [\n",
    "    [0, '#a1d99b'],  \n",
    "    [0.5, '#238b45'],  \n",
    "    [1, '#00441b']  \n",
    "]\n",
    "\n",
    "fig = px.choropleth(world_with_area_covered,\n",
    "                    locations=\"iso_a3\",\n",
    "                    color=\"total_area_km2\",\n",
    "                    hover_name=\"name\",\n",
    "                    color_continuous_scale=dark_green_scale,  # Use the custom dark green scale\n",
    "                    title=\"Global Reforestation Area Covered (km²)\")\n",
    "\n",
    "fig.show()"
   ]
  },
  {
   "cell_type": "code",
   "execution_count": null,
   "metadata": {},
   "outputs": [],
   "source": []
  },
  {
   "cell_type": "code",
   "execution_count": 91,
   "metadata": {},
   "outputs": [
    {
     "data": {
      "application/vnd.plotly.v1+json": {
       "config": {
        "plotlyServerURL": "https://plot.ly"
       },
       "data": [
        {
         "colorbar": {
          "title": {
           "text": "Total Area<br>km²"
          }
         },
         "colorscale": [
          [
           0,
           "#a1d99b"
          ],
          [
           0.5,
           "#238b45"
          ],
          [
           1,
           "#00441b"
          ]
         ],
         "geo": "geo",
         "hoverinfo": "text",
         "locations": [
          "FJI",
          "TZA",
          "ESH",
          "CAN",
          "USA",
          "KAZ",
          "UZB",
          "PNG",
          "IDN",
          "ARG",
          "CHL",
          "COD",
          "SOM",
          "KEN",
          "SDN",
          "TCD",
          "HTI",
          "DOM",
          "RUS",
          "BHS",
          "FLK",
          "NOR",
          "GRL",
          "ATF",
          "TLS",
          "ZAF",
          "LSO",
          "MEX",
          "URY",
          "BRA",
          "BOL",
          "PER",
          "COL",
          "PAN",
          "CRI",
          "NIC",
          "HND",
          "SLV",
          "GTM",
          "BLZ",
          "VEN",
          "GUY",
          "SUR",
          "FRA",
          "ECU",
          "PRI",
          "JAM",
          "CUB",
          "ZWE",
          "BWA",
          "NAM",
          "SEN",
          "MLI",
          "MRT",
          "BEN",
          "NER",
          "NGA",
          "CMR",
          "TGO",
          "GHA",
          "CIV",
          "GIN",
          "GNB",
          "LBR",
          "SLE",
          "BFA",
          "CAF",
          "COG",
          "GAB",
          "GNQ",
          "ZMB",
          "MWI",
          "MOZ",
          "SWZ",
          "AGO",
          "BDI",
          "ISR",
          "LBN",
          "MDG",
          "PSE",
          "GMB",
          "TUN",
          "DZA",
          "JOR",
          "ARE",
          "QAT",
          "KWT",
          "IRQ",
          "OMN",
          "VUT",
          "KHM",
          "THA",
          "LAO",
          "MMR",
          "VNM",
          "PRK",
          "KOR",
          "MNG",
          "IND",
          "BGD",
          "BTN",
          "NPL",
          "PAK",
          "AFG",
          "TJK",
          "KGZ",
          "TKM",
          "IRN",
          "SYR",
          "ARM",
          "SWE",
          "BLR",
          "UKR",
          "POL",
          "AUT",
          "HUN",
          "MDA",
          "ROU",
          "LTU",
          "LVA",
          "EST",
          "DEU",
          "BGR",
          "GRC",
          "TUR",
          "ALB",
          "HRV",
          "CHE",
          "LUX",
          "BEL",
          "NLD",
          "PRT",
          "ESP",
          "IRL",
          "NCL",
          "SLB",
          "NZL",
          "AUS",
          "LKA",
          "CHN",
          "TWN",
          "ITA",
          "DNK",
          "GBR",
          "ISL",
          "AZE",
          "GEO",
          "PHL",
          "MYS",
          "BRN",
          "SVN",
          "FIN",
          "SVK",
          "CZE",
          "ERI",
          "JPN",
          "PRY",
          "YEM",
          "SAU",
          "ATA",
          "CYN",
          "CYP",
          "MAR",
          "EGY",
          "LBY",
          "ETH",
          "DJI",
          "SOL",
          "UGA",
          "RWA",
          "BIH",
          "MKD",
          "SRB",
          "MNE",
          "-99",
          "TTO",
          "SSD"
         ],
         "text": [
          "Fiji<br>Total Area: 0.0 km²",
          "Tanzania<br>Total Area: 95564.039 km²",
          "W. Sahara<br>Total Area: 0.0 km²",
          "Canada<br>Total Area: 2221.382 km²",
          "United States of America<br>Total Area: 13132.012 km²",
          "Kazakhstan<br>Total Area: 0.0 km²",
          "Uzbekistan<br>Total Area: 0.0 km²",
          "Papua New Guinea<br>Total Area: 0.0 km²",
          "Indonesia<br>Total Area: 6970.612 km²",
          "Argentina<br>Total Area: 286.528 km²",
          "Chile<br>Total Area: 71.847 km²",
          "Dem. Rep. Congo<br>Total Area: 17272.526 km²",
          "Somalia<br>Total Area: 0.0 km²",
          "Kenya<br>Total Area: 83455.299 km²",
          "Sudan<br>Total Area: 0.0 km²",
          "Chad<br>Total Area: 0.013 km²",
          "Haiti<br>Total Area: 25.188 km²",
          "Dominican Rep.<br>Total Area: 0.0 km²",
          "Russia<br>Total Area: 0.125 km²",
          "Bahamas<br>Total Area: 0.0 km²",
          "Falkland Is.<br>Total Area: 0.0 km²",
          "Norway<br>Total Area: 0.0 km²",
          "Greenland<br>Total Area: 0.0 km²",
          "Fr. S. Antarctic Lands<br>Total Area: 0.0 km²",
          "Timor-Leste<br>Total Area: 3.356 km²",
          "South Africa<br>Total Area: 68.082 km²",
          "Lesotho<br>Total Area: 0.0 km²",
          "Mexico<br>Total Area: 4574.427 km²",
          "Uruguay<br>Total Area: 2401.44 km²",
          "Brazil<br>Total Area: 17190.189 km²",
          "Bolivia<br>Total Area: 707.488 km²",
          "Peru<br>Total Area: 629.549 km²",
          "Colombia<br>Total Area: 1219.066 km²",
          "Panama<br>Total Area: 18.887 km²",
          "Costa Rica<br>Total Area: 1.217 km²",
          "Nicaragua<br>Total Area: 91.976 km²",
          "Honduras<br>Total Area: 168.396 km²",
          "El Salvador<br>Total Area: 0.0 km²",
          "Guatemala<br>Total Area: 120.223 km²",
          "Belize<br>Total Area: 0.0 km²",
          "Venezuela<br>Total Area: 8.779 km²",
          "Guyana<br>Total Area: 0.0 km²",
          "Suriname<br>Total Area: 0.0 km²",
          "France<br>Total Area: 16.94 km²",
          "Ecuador<br>Total Area: 1152.842 km²",
          "Puerto Rico<br>Total Area: 0.0 km²",
          "Jamaica<br>Total Area: 0.0 km²",
          "Cuba<br>Total Area: 0.0 km²",
          "Zimbabwe<br>Total Area: 6565.55 km²",
          "Botswana<br>Total Area: 5711.102 km²",
          "Namibia<br>Total Area: 66.156 km²",
          "Senegal<br>Total Area: 2774.979 km²",
          "Mali<br>Total Area: 0.0 km²",
          "Mauritania<br>Total Area: 0.0 km²",
          "Benin<br>Total Area: 0.0 km²",
          "Niger<br>Total Area: 52.974 km²",
          "Nigeria<br>Total Area: 13.041 km²",
          "Cameroon<br>Total Area: 1101.681 km²",
          "Togo<br>Total Area: 713.406 km²",
          "Ghana<br>Total Area: 1070.473 km²",
          "Côte d'Ivoire<br>Total Area: 565.678 km²",
          "Guinea<br>Total Area: 2414.237 km²",
          "Guinea-Bissau<br>Total Area: 2.702 km²",
          "Liberia<br>Total Area: 0.0 km²",
          "Sierra Leone<br>Total Area: 2338.749 km²",
          "Burkina Faso<br>Total Area: 186.859 km²",
          "Central African Rep.<br>Total Area: 20.101 km²",
          "Congo<br>Total Area: 584.007 km²",
          "Gabon<br>Total Area: 494.291 km²",
          "Eq. Guinea<br>Total Area: 0.0 km²",
          "Zambia<br>Total Area: 14880.503 km²",
          "Malawi<br>Total Area: 18316.917 km²",
          "Mozambique<br>Total Area: 18638.056 km²",
          "eSwatini<br>Total Area: 0.0 km²",
          "Angola<br>Total Area: 528.945 km²",
          "Burundi<br>Total Area: 2405.846 km²",
          "Israel<br>Total Area: 5647.506 km²",
          "Lebanon<br>Total Area: 0.0 km²",
          "Madagascar<br>Total Area: 750.501 km²",
          "Palestine<br>Total Area: 5570.186 km²",
          "Gambia<br>Total Area: 2675.406 km²",
          "Tunisia<br>Total Area: 0.0 km²",
          "Algeria<br>Total Area: 0.0 km²",
          "Jordan<br>Total Area: 5484.295 km²",
          "United Arab Emirates<br>Total Area: 0.763 km²",
          "Qatar<br>Total Area: 0.0 km²",
          "Kuwait<br>Total Area: 0.0 km²",
          "Iraq<br>Total Area: 0.0 km²",
          "Oman<br>Total Area: 0.0 km²",
          "Vanuatu<br>Total Area: 0.0 km²",
          "Cambodia<br>Total Area: 2313.581 km²",
          "Thailand<br>Total Area: 0.921 km²",
          "Laos<br>Total Area: 51.328 km²",
          "Myanmar<br>Total Area: 279.368 km²",
          "Vietnam<br>Total Area: 28.779 km²",
          "North Korea<br>Total Area: 0.0 km²",
          "South Korea<br>Total Area: 0.0 km²",
          "Mongolia<br>Total Area: 0.052 km²",
          "India<br>Total Area: 16868.957 km²",
          "Bangladesh<br>Total Area: 4406.693 km²",
          "Bhutan<br>Total Area: 0.0 km²",
          "Nepal<br>Total Area: 28.826 km²",
          "Pakistan<br>Total Area: 1137.631 km²",
          "Afghanistan<br>Total Area: 0.0 km²",
          "Tajikistan<br>Total Area: 0.0 km²",
          "Kyrgyzstan<br>Total Area: 0.0 km²",
          "Turkmenistan<br>Total Area: 0.0 km²",
          "Iran<br>Total Area: 0.0 km²",
          "Syria<br>Total Area: 250.904 km²",
          "Armenia<br>Total Area: 0.0 km²",
          "Sweden<br>Total Area: 14.152 km²",
          "Belarus<br>Total Area: 0.0 km²",
          "Ukraine<br>Total Area: 0.023 km²",
          "Poland<br>Total Area: 0.0 km²",
          "Austria<br>Total Area: 0.0 km²",
          "Hungary<br>Total Area: 0.0 km²",
          "Moldova<br>Total Area: 0.0 km²",
          "Romania<br>Total Area: 30.26 km²",
          "Lithuania<br>Total Area: 0.12 km²",
          "Latvia<br>Total Area: 0.893 km²",
          "Estonia<br>Total Area: 5.323 km²",
          "Germany<br>Total Area: 31.598 km²",
          "Bulgaria<br>Total Area: 0.0 km²",
          "Greece<br>Total Area: 0.0 km²",
          "Turkey<br>Total Area: 0.0 km²",
          "Albania<br>Total Area: 0.058 km²",
          "Croatia<br>Total Area: 0.0 km²",
          "Switzerland<br>Total Area: 0.0 km²",
          "Luxembourg<br>Total Area: 0.0 km²",
          "Belgium<br>Total Area: 0.361 km²",
          "Netherlands<br>Total Area: 0.0 km²",
          "Portugal<br>Total Area: 142.667 km²",
          "Spain<br>Total Area: 107.049 km²",
          "Ireland<br>Total Area: 0.066 km²",
          "New Caledonia<br>Total Area: 0.0 km²",
          "Solomon Is.<br>Total Area: 0.0 km²",
          "New Zealand<br>Total Area: 0.0 km²",
          "Australia<br>Total Area: 26.536 km²",
          "Sri Lanka<br>Total Area: 12.942 km²",
          "China<br>Total Area: 38969.619 km²",
          "Taiwan<br>Total Area: 0.0 km²",
          "Italy<br>Total Area: 39.406 km²",
          "Denmark<br>Total Area: 0.971 km²",
          "United Kingdom<br>Total Area: 13.231 km²",
          "Iceland<br>Total Area: 0.0 km²",
          "Azerbaijan<br>Total Area: 0.0 km²",
          "Georgia<br>Total Area: 0.0 km²",
          "Philippines<br>Total Area: 2967.851 km²",
          "Malaysia<br>Total Area: 35.154 km²",
          "Brunei<br>Total Area: 0.0 km²",
          "Slovenia<br>Total Area: 0.0 km²",
          "Finland<br>Total Area: 0.0 km²",
          "Slovakia<br>Total Area: 0.0 km²",
          "Czechia<br>Total Area: 0.341 km²",
          "Eritrea<br>Total Area: 0.0 km²",
          "Japan<br>Total Area: 0.0 km²",
          "Paraguay<br>Total Area: 596.852 km²",
          "Yemen<br>Total Area: 0.0 km²",
          "Saudi Arabia<br>Total Area: 0.0 km²",
          "Antarctica<br>Total Area: 0.0 km²",
          "N. Cyprus<br>Total Area: 0.0 km²",
          "Cyprus<br>Total Area: 0.0 km²",
          "Morocco<br>Total Area: 0.0 km²",
          "Egypt<br>Total Area: 0.0 km²",
          "Libya<br>Total Area: 0.0 km²",
          "Ethiopia<br>Total Area: 260.708 km²",
          "Djibouti<br>Total Area: 0.0 km²",
          "Somaliland<br>Total Area: 0.0 km²",
          "Uganda<br>Total Area: 9518.838 km²",
          "Rwanda<br>Total Area: 4600.745 km²",
          "Bosnia and Herz.<br>Total Area: 0.0 km²",
          "North Macedonia<br>Total Area: 0.0 km²",
          "Serbia<br>Total Area: 0.0 km²",
          "Montenegro<br>Total Area: 0.0 km²",
          "Kosovo<br>Total Area: 0.0 km²",
          "Trinidad and Tobago<br>Total Area: 0.0 km²",
          "S. Sudan<br>Total Area: 54.078 km²"
         ],
         "type": "choropleth",
         "z": [
          0,
          95564.039,
          0,
          2221.382,
          13132.012,
          0,
          0,
          0,
          6970.612,
          286.528,
          71.847,
          17272.526,
          0,
          83455.299,
          0,
          0.013,
          25.188,
          0,
          0.125,
          0,
          0,
          0,
          0,
          0,
          3.356,
          68.082,
          0,
          4574.427,
          2401.44,
          17190.189,
          707.488,
          629.549,
          1219.066,
          18.887,
          1.217,
          91.976,
          168.396,
          0,
          120.223,
          0,
          8.779,
          0,
          0,
          16.94,
          1152.842,
          0,
          0,
          0,
          6565.55,
          5711.102,
          66.156,
          2774.979,
          0,
          0,
          0,
          52.974,
          13.041,
          1101.681,
          713.406,
          1070.473,
          565.678,
          2414.237,
          2.702,
          0,
          2338.749,
          186.859,
          20.101,
          584.007,
          494.291,
          0,
          14880.503,
          18316.917,
          18638.056,
          0,
          528.945,
          2405.846,
          5647.506,
          0,
          750.501,
          5570.186,
          2675.406,
          0,
          0,
          5484.295,
          0.763,
          0,
          0,
          0,
          0,
          0,
          2313.581,
          0.921,
          51.328,
          279.368,
          28.779,
          0,
          0,
          0.052,
          16868.957,
          4406.693,
          0,
          28.826,
          1137.631,
          0,
          0,
          0,
          0,
          0,
          250.904,
          0,
          14.152,
          0,
          0.023,
          0,
          0,
          0,
          0,
          30.26,
          0.12,
          0.893,
          5.323,
          31.598,
          0,
          0,
          0,
          0.058,
          0,
          0,
          0,
          0.361,
          0,
          142.667,
          107.049,
          0.066,
          0,
          0,
          0,
          26.536,
          12.942,
          38969.619,
          0,
          39.406,
          0.971,
          13.231,
          0,
          0,
          0,
          2967.851,
          35.154,
          0,
          0,
          0,
          0,
          0.341,
          0,
          0,
          596.852,
          0,
          0,
          0,
          0,
          0,
          0,
          0,
          0,
          260.708,
          0,
          0,
          9518.838,
          4600.745,
          0,
          0,
          0,
          0,
          0,
          0,
          54.078
         ]
        },
        {
         "cells": {
          "align": "left",
          "fill": {
           "color": "palegreen"
          },
          "values": [
           [
            "Tanzania",
            "Kenya",
            "China",
            "Mozambique",
            "Malawi",
            "Dem. Rep. Congo",
            "Brazil",
            "India",
            "Zambia",
            "United States of America",
            "Uganda",
            "Indonesia",
            "Zimbabwe",
            "Botswana",
            "Israel",
            "Palestine",
            "Jordan",
            "Rwanda",
            "Mexico",
            "Bangladesh",
            "Philippines",
            "Senegal",
            "Gambia",
            "Guinea",
            "Burundi",
            "Uruguay",
            "Sierra Leone",
            "Cambodia",
            "Canada",
            "Colombia",
            "Ecuador",
            "Pakistan",
            "Cameroon",
            "Ghana",
            "Madagascar",
            "Togo",
            "Bolivia",
            "Peru",
            "Paraguay",
            "Congo",
            "Côte d'Ivoire",
            "Angola",
            "Gabon",
            "Argentina",
            "Myanmar",
            "Ethiopia",
            "Syria",
            "Burkina Faso",
            "Honduras",
            "Portugal",
            "Guatemala",
            "Spain",
            "Nicaragua",
            "Chile",
            "South Africa",
            "Namibia",
            "S. Sudan",
            "Niger",
            "Laos",
            "Italy",
            "Malaysia",
            "Germany",
            "Romania",
            "Nepal",
            "Vietnam",
            "Australia",
            "Haiti",
            "Central African Rep.",
            "Panama",
            "France",
            "Sweden",
            "United Kingdom",
            "Nigeria",
            "Sri Lanka",
            "Venezuela",
            "Estonia",
            "Timor-Leste",
            "Guinea-Bissau",
            "Costa Rica",
            "Denmark",
            "Thailand",
            "Latvia",
            "United Arab Emirates",
            "Belgium",
            "Czechia",
            "Russia",
            "Lithuania",
            "Ireland",
            "Albania",
            "Mongolia",
            "Ukraine",
            "Chad",
            "New Caledonia",
            "Solomon Is.",
            "Bosnia and Herz.",
            "Brunei",
            "North Macedonia",
            "Serbia",
            "Netherlands",
            "Montenegro",
            "Kosovo",
            "Trinidad and Tobago",
            "Luxembourg",
            "Switzerland",
            "New Zealand",
            "Egypt",
            "Somaliland",
            "Yemen",
            "Finland",
            "Slovakia",
            "Georgia",
            "Azerbaijan",
            "Iceland",
            "Eritrea",
            "Japan",
            "Saudi Arabia",
            "Djibouti",
            "Antarctica",
            "N. Cyprus",
            "Cyprus",
            "Morocco",
            "Taiwan",
            "Slovenia",
            "Libya",
            "Croatia",
            "Fiji",
            "Turkey",
            "Fr. S. Antarctic Lands",
            "Mauritania",
            "Mali",
            "Cuba",
            "Jamaica",
            "Puerto Rico",
            "Suriname",
            "Guyana",
            "Belize",
            "El Salvador",
            "Lesotho",
            "Greenland",
            "Liberia",
            "Norway",
            "Falkland Is.",
            "Bahamas",
            "Dominican Rep.",
            "Sudan",
            "Somalia",
            "Papua New Guinea",
            "Uzbekistan",
            "Kazakhstan",
            "W. Sahara",
            "Benin",
            "Eq. Guinea",
            "Greece",
            "Tajikistan",
            "Bulgaria",
            "Moldova",
            "Hungary",
            "Austria",
            "Poland",
            "Belarus",
            "Armenia",
            "Iran",
            "Turkmenistan",
            "Kyrgyzstan",
            "Afghanistan",
            "eSwatini",
            "Bhutan",
            "South Korea",
            "North Korea",
            "Vanuatu",
            "Iraq",
            "Kuwait",
            "Qatar",
            "Algeria",
            "Tunisia",
            "Lebanon",
            "Oman"
           ],
           [
            95564.039,
            83455.299,
            38969.619,
            18638.056,
            18316.917,
            17272.526,
            17190.189,
            16868.957,
            14880.503,
            13132.012,
            9518.838,
            6970.612,
            6565.55,
            5711.102,
            5647.506,
            5570.186,
            5484.295,
            4600.745,
            4574.427,
            4406.693,
            2967.851,
            2774.979,
            2675.406,
            2414.237,
            2405.846,
            2401.44,
            2338.749,
            2313.581,
            2221.382,
            1219.066,
            1152.842,
            1137.631,
            1101.681,
            1070.473,
            750.501,
            713.406,
            707.488,
            629.549,
            596.852,
            584.007,
            565.678,
            528.945,
            494.291,
            286.528,
            279.368,
            260.708,
            250.904,
            186.859,
            168.396,
            142.667,
            120.223,
            107.049,
            91.976,
            71.847,
            68.082,
            66.156,
            54.078,
            52.974,
            51.328,
            39.406,
            35.154,
            31.598,
            30.26,
            28.826,
            28.779,
            26.536,
            25.188,
            20.101,
            18.887,
            16.94,
            14.152,
            13.231,
            13.041,
            12.942,
            8.779,
            5.323,
            3.356,
            2.702,
            1.217,
            0.971,
            0.921,
            0.893,
            0.763,
            0.361,
            0.341,
            0.125,
            0.12,
            0.066,
            0.058,
            0.052,
            0.023,
            0.013,
            0,
            0,
            0,
            0,
            0,
            0,
            0,
            0,
            0,
            0,
            0,
            0,
            0,
            0,
            0,
            0,
            0,
            0,
            0,
            0,
            0,
            0,
            0,
            0,
            0,
            0,
            0,
            0,
            0,
            0,
            0,
            0,
            0,
            0,
            0,
            0,
            0,
            0,
            0,
            0,
            0,
            0,
            0,
            0,
            0,
            0,
            0,
            0,
            0,
            0,
            0,
            0,
            0,
            0,
            0,
            0,
            0,
            0,
            0,
            0,
            0,
            0,
            0,
            0,
            0,
            0,
            0,
            0,
            0,
            0,
            0,
            0,
            0,
            0,
            0,
            0,
            0,
            0,
            0,
            0,
            0,
            0,
            0,
            0,
            0
           ]
          ]
         },
         "domain": {
          "x": [
           0.8200000000000001,
           1
          ],
          "y": [
           0,
           1
          ]
         },
         "header": {
          "align": "left",
          "fill": {
           "color": "darkgreen"
          },
          "font": {
           "color": "white"
          },
          "values": [
           "Country",
           "Total Area Covered (km²)"
          ]
         },
         "type": "table"
        }
       ],
       "layout": {
        "geo": {
         "domain": {
          "x": [
           0,
           0.7200000000000001
          ],
          "y": [
           0,
           1
          ]
         }
        },
        "height": 600,
        "margin": {
         "b": 10,
         "l": 10,
         "r": 10,
         "t": 50
        },
        "paper_bgcolor": "lightgrey",
        "showlegend": false,
        "template": {
         "data": {
          "bar": [
           {
            "error_x": {
             "color": "#2a3f5f"
            },
            "error_y": {
             "color": "#2a3f5f"
            },
            "marker": {
             "line": {
              "color": "#E5ECF6",
              "width": 0.5
             }
            },
            "type": "bar"
           }
          ],
          "barpolar": [
           {
            "marker": {
             "line": {
              "color": "#E5ECF6",
              "width": 0.5
             }
            },
            "type": "barpolar"
           }
          ],
          "carpet": [
           {
            "aaxis": {
             "endlinecolor": "#2a3f5f",
             "gridcolor": "white",
             "linecolor": "white",
             "minorgridcolor": "white",
             "startlinecolor": "#2a3f5f"
            },
            "baxis": {
             "endlinecolor": "#2a3f5f",
             "gridcolor": "white",
             "linecolor": "white",
             "minorgridcolor": "white",
             "startlinecolor": "#2a3f5f"
            },
            "type": "carpet"
           }
          ],
          "choropleth": [
           {
            "colorbar": {
             "outlinewidth": 0,
             "ticks": ""
            },
            "type": "choropleth"
           }
          ],
          "contour": [
           {
            "colorbar": {
             "outlinewidth": 0,
             "ticks": ""
            },
            "colorscale": [
             [
              0,
              "#0d0887"
             ],
             [
              0.1111111111111111,
              "#46039f"
             ],
             [
              0.2222222222222222,
              "#7201a8"
             ],
             [
              0.3333333333333333,
              "#9c179e"
             ],
             [
              0.4444444444444444,
              "#bd3786"
             ],
             [
              0.5555555555555556,
              "#d8576b"
             ],
             [
              0.6666666666666666,
              "#ed7953"
             ],
             [
              0.7777777777777778,
              "#fb9f3a"
             ],
             [
              0.8888888888888888,
              "#fdca26"
             ],
             [
              1,
              "#f0f921"
             ]
            ],
            "type": "contour"
           }
          ],
          "contourcarpet": [
           {
            "colorbar": {
             "outlinewidth": 0,
             "ticks": ""
            },
            "type": "contourcarpet"
           }
          ],
          "heatmap": [
           {
            "colorbar": {
             "outlinewidth": 0,
             "ticks": ""
            },
            "colorscale": [
             [
              0,
              "#0d0887"
             ],
             [
              0.1111111111111111,
              "#46039f"
             ],
             [
              0.2222222222222222,
              "#7201a8"
             ],
             [
              0.3333333333333333,
              "#9c179e"
             ],
             [
              0.4444444444444444,
              "#bd3786"
             ],
             [
              0.5555555555555556,
              "#d8576b"
             ],
             [
              0.6666666666666666,
              "#ed7953"
             ],
             [
              0.7777777777777778,
              "#fb9f3a"
             ],
             [
              0.8888888888888888,
              "#fdca26"
             ],
             [
              1,
              "#f0f921"
             ]
            ],
            "type": "heatmap"
           }
          ],
          "heatmapgl": [
           {
            "colorbar": {
             "outlinewidth": 0,
             "ticks": ""
            },
            "colorscale": [
             [
              0,
              "#0d0887"
             ],
             [
              0.1111111111111111,
              "#46039f"
             ],
             [
              0.2222222222222222,
              "#7201a8"
             ],
             [
              0.3333333333333333,
              "#9c179e"
             ],
             [
              0.4444444444444444,
              "#bd3786"
             ],
             [
              0.5555555555555556,
              "#d8576b"
             ],
             [
              0.6666666666666666,
              "#ed7953"
             ],
             [
              0.7777777777777778,
              "#fb9f3a"
             ],
             [
              0.8888888888888888,
              "#fdca26"
             ],
             [
              1,
              "#f0f921"
             ]
            ],
            "type": "heatmapgl"
           }
          ],
          "histogram": [
           {
            "marker": {
             "colorbar": {
              "outlinewidth": 0,
              "ticks": ""
             }
            },
            "type": "histogram"
           }
          ],
          "histogram2d": [
           {
            "colorbar": {
             "outlinewidth": 0,
             "ticks": ""
            },
            "colorscale": [
             [
              0,
              "#0d0887"
             ],
             [
              0.1111111111111111,
              "#46039f"
             ],
             [
              0.2222222222222222,
              "#7201a8"
             ],
             [
              0.3333333333333333,
              "#9c179e"
             ],
             [
              0.4444444444444444,
              "#bd3786"
             ],
             [
              0.5555555555555556,
              "#d8576b"
             ],
             [
              0.6666666666666666,
              "#ed7953"
             ],
             [
              0.7777777777777778,
              "#fb9f3a"
             ],
             [
              0.8888888888888888,
              "#fdca26"
             ],
             [
              1,
              "#f0f921"
             ]
            ],
            "type": "histogram2d"
           }
          ],
          "histogram2dcontour": [
           {
            "colorbar": {
             "outlinewidth": 0,
             "ticks": ""
            },
            "colorscale": [
             [
              0,
              "#0d0887"
             ],
             [
              0.1111111111111111,
              "#46039f"
             ],
             [
              0.2222222222222222,
              "#7201a8"
             ],
             [
              0.3333333333333333,
              "#9c179e"
             ],
             [
              0.4444444444444444,
              "#bd3786"
             ],
             [
              0.5555555555555556,
              "#d8576b"
             ],
             [
              0.6666666666666666,
              "#ed7953"
             ],
             [
              0.7777777777777778,
              "#fb9f3a"
             ],
             [
              0.8888888888888888,
              "#fdca26"
             ],
             [
              1,
              "#f0f921"
             ]
            ],
            "type": "histogram2dcontour"
           }
          ],
          "mesh3d": [
           {
            "colorbar": {
             "outlinewidth": 0,
             "ticks": ""
            },
            "type": "mesh3d"
           }
          ],
          "parcoords": [
           {
            "line": {
             "colorbar": {
              "outlinewidth": 0,
              "ticks": ""
             }
            },
            "type": "parcoords"
           }
          ],
          "pie": [
           {
            "automargin": true,
            "type": "pie"
           }
          ],
          "scatter": [
           {
            "marker": {
             "colorbar": {
              "outlinewidth": 0,
              "ticks": ""
             }
            },
            "type": "scatter"
           }
          ],
          "scatter3d": [
           {
            "line": {
             "colorbar": {
              "outlinewidth": 0,
              "ticks": ""
             }
            },
            "marker": {
             "colorbar": {
              "outlinewidth": 0,
              "ticks": ""
             }
            },
            "type": "scatter3d"
           }
          ],
          "scattercarpet": [
           {
            "marker": {
             "colorbar": {
              "outlinewidth": 0,
              "ticks": ""
             }
            },
            "type": "scattercarpet"
           }
          ],
          "scattergeo": [
           {
            "marker": {
             "colorbar": {
              "outlinewidth": 0,
              "ticks": ""
             }
            },
            "type": "scattergeo"
           }
          ],
          "scattergl": [
           {
            "marker": {
             "colorbar": {
              "outlinewidth": 0,
              "ticks": ""
             }
            },
            "type": "scattergl"
           }
          ],
          "scattermapbox": [
           {
            "marker": {
             "colorbar": {
              "outlinewidth": 0,
              "ticks": ""
             }
            },
            "type": "scattermapbox"
           }
          ],
          "scatterpolar": [
           {
            "marker": {
             "colorbar": {
              "outlinewidth": 0,
              "ticks": ""
             }
            },
            "type": "scatterpolar"
           }
          ],
          "scatterpolargl": [
           {
            "marker": {
             "colorbar": {
              "outlinewidth": 0,
              "ticks": ""
             }
            },
            "type": "scatterpolargl"
           }
          ],
          "scatterternary": [
           {
            "marker": {
             "colorbar": {
              "outlinewidth": 0,
              "ticks": ""
             }
            },
            "type": "scatterternary"
           }
          ],
          "surface": [
           {
            "colorbar": {
             "outlinewidth": 0,
             "ticks": ""
            },
            "colorscale": [
             [
              0,
              "#0d0887"
             ],
             [
              0.1111111111111111,
              "#46039f"
             ],
             [
              0.2222222222222222,
              "#7201a8"
             ],
             [
              0.3333333333333333,
              "#9c179e"
             ],
             [
              0.4444444444444444,
              "#bd3786"
             ],
             [
              0.5555555555555556,
              "#d8576b"
             ],
             [
              0.6666666666666666,
              "#ed7953"
             ],
             [
              0.7777777777777778,
              "#fb9f3a"
             ],
             [
              0.8888888888888888,
              "#fdca26"
             ],
             [
              1,
              "#f0f921"
             ]
            ],
            "type": "surface"
           }
          ],
          "table": [
           {
            "cells": {
             "fill": {
              "color": "#EBF0F8"
             },
             "line": {
              "color": "white"
             }
            },
            "header": {
             "fill": {
              "color": "#C8D4E3"
             },
             "line": {
              "color": "white"
             }
            },
            "type": "table"
           }
          ]
         },
         "layout": {
          "annotationdefaults": {
           "arrowcolor": "#2a3f5f",
           "arrowhead": 0,
           "arrowwidth": 1
          },
          "autotypenumbers": "strict",
          "coloraxis": {
           "colorbar": {
            "outlinewidth": 0,
            "ticks": ""
           }
          },
          "colorscale": {
           "diverging": [
            [
             0,
             "#8e0152"
            ],
            [
             0.1,
             "#c51b7d"
            ],
            [
             0.2,
             "#de77ae"
            ],
            [
             0.3,
             "#f1b6da"
            ],
            [
             0.4,
             "#fde0ef"
            ],
            [
             0.5,
             "#f7f7f7"
            ],
            [
             0.6,
             "#e6f5d0"
            ],
            [
             0.7,
             "#b8e186"
            ],
            [
             0.8,
             "#7fbc41"
            ],
            [
             0.9,
             "#4d9221"
            ],
            [
             1,
             "#276419"
            ]
           ],
           "sequential": [
            [
             0,
             "#0d0887"
            ],
            [
             0.1111111111111111,
             "#46039f"
            ],
            [
             0.2222222222222222,
             "#7201a8"
            ],
            [
             0.3333333333333333,
             "#9c179e"
            ],
            [
             0.4444444444444444,
             "#bd3786"
            ],
            [
             0.5555555555555556,
             "#d8576b"
            ],
            [
             0.6666666666666666,
             "#ed7953"
            ],
            [
             0.7777777777777778,
             "#fb9f3a"
            ],
            [
             0.8888888888888888,
             "#fdca26"
            ],
            [
             1,
             "#f0f921"
            ]
           ],
           "sequentialminus": [
            [
             0,
             "#0d0887"
            ],
            [
             0.1111111111111111,
             "#46039f"
            ],
            [
             0.2222222222222222,
             "#7201a8"
            ],
            [
             0.3333333333333333,
             "#9c179e"
            ],
            [
             0.4444444444444444,
             "#bd3786"
            ],
            [
             0.5555555555555556,
             "#d8576b"
            ],
            [
             0.6666666666666666,
             "#ed7953"
            ],
            [
             0.7777777777777778,
             "#fb9f3a"
            ],
            [
             0.8888888888888888,
             "#fdca26"
            ],
            [
             1,
             "#f0f921"
            ]
           ]
          },
          "colorway": [
           "#636efa",
           "#EF553B",
           "#00cc96",
           "#ab63fa",
           "#FFA15A",
           "#19d3f3",
           "#FF6692",
           "#B6E880",
           "#FF97FF",
           "#FECB52"
          ],
          "font": {
           "color": "#2a3f5f"
          },
          "geo": {
           "bgcolor": "white",
           "lakecolor": "white",
           "landcolor": "#E5ECF6",
           "showlakes": true,
           "showland": true,
           "subunitcolor": "white"
          },
          "hoverlabel": {
           "align": "left"
          },
          "hovermode": "closest",
          "mapbox": {
           "style": "light"
          },
          "paper_bgcolor": "white",
          "plot_bgcolor": "#E5ECF6",
          "polar": {
           "angularaxis": {
            "gridcolor": "white",
            "linecolor": "white",
            "ticks": ""
           },
           "bgcolor": "#E5ECF6",
           "radialaxis": {
            "gridcolor": "white",
            "linecolor": "white",
            "ticks": ""
           }
          },
          "scene": {
           "xaxis": {
            "backgroundcolor": "#E5ECF6",
            "gridcolor": "white",
            "gridwidth": 2,
            "linecolor": "white",
            "showbackground": true,
            "ticks": "",
            "zerolinecolor": "white"
           },
           "yaxis": {
            "backgroundcolor": "#E5ECF6",
            "gridcolor": "white",
            "gridwidth": 2,
            "linecolor": "white",
            "showbackground": true,
            "ticks": "",
            "zerolinecolor": "white"
           },
           "zaxis": {
            "backgroundcolor": "#E5ECF6",
            "gridcolor": "white",
            "gridwidth": 2,
            "linecolor": "white",
            "showbackground": true,
            "ticks": "",
            "zerolinecolor": "white"
           }
          },
          "shapedefaults": {
           "line": {
            "color": "#2a3f5f"
           }
          },
          "ternary": {
           "aaxis": {
            "gridcolor": "white",
            "linecolor": "white",
            "ticks": ""
           },
           "baxis": {
            "gridcolor": "white",
            "linecolor": "white",
            "ticks": ""
           },
           "bgcolor": "#E5ECF6",
           "caxis": {
            "gridcolor": "white",
            "linecolor": "white",
            "ticks": ""
           }
          },
          "title": {
           "x": 0.05
          },
          "xaxis": {
           "automargin": true,
           "gridcolor": "white",
           "linecolor": "white",
           "ticks": "",
           "title": {
            "standoff": 15
           },
           "zerolinecolor": "white",
           "zerolinewidth": 2
          },
          "yaxis": {
           "automargin": true,
           "gridcolor": "white",
           "linecolor": "white",
           "ticks": "",
           "title": {
            "standoff": 15
           },
           "zerolinecolor": "white",
           "zerolinewidth": 2
          }
         }
        },
        "title": {
         "text": "Global Reforestation Area Covered (km²) with Data Table",
         "x": 0.5
        },
        "width": 1200
       }
      }
     },
     "metadata": {},
     "output_type": "display_data"
    }
   ],
   "source": [
    "\n",
    "world_with_area_covered['total_area_km2'] = world_with_area_covered['total_area_km2'].round(3)\n",
    "\n",
    "\n",
    "fig = make_subplots(rows=1, cols=2, column_widths=[0.8, 0.2], specs=[[{\"type\": \"choropleth\"}, {\"type\": \"table\"}]])\n",
    "\n",
    "\n",
    "world_with_area_covered['hover_text'] = world_with_area_covered['name'] + '<br>Total Area: ' + world_with_area_covered['total_area_km2'].astype(str) + ' km²'\n",
    "\n",
    "fig.add_trace(\n",
    "    go.Choropleth(\n",
    "        locations=world_with_area_covered['iso_a3'],\n",
    "        z=world_with_area_covered['total_area_km2'],\n",
    "        hoverinfo='text',  \n",
    "        text=world_with_area_covered['hover_text'], \n",
    "        colorscale=dark_green_scale,\n",
    "        colorbar_title=\"Total Area<br>km²\",\n",
    "    ),\n",
    "    row=1, col=1\n",
    ")\n",
    "\n",
    "table_data = world_with_area_covered[['name', 'total_area_km2']].sort_values(by='total_area_km2', ascending=False)\n",
    "fig.add_trace(\n",
    "    go.Table(\n",
    "        header=dict(values=[\"Country\", \"Total Area Covered (km²)\"],\n",
    "                    fill_color='darkgreen',  \n",
    "                    font=dict(color='white'),\n",
    "                    align='left'),\n",
    "        cells=dict(values=[table_data.name, table_data.total_area_km2],\n",
    "                   fill_color='palegreen',  \n",
    "                   align='left')),\n",
    "    row=1, col=2\n",
    ")\n",
    "\n",
    "\n",
    "fig.update_layout(\n",
    "    title_text=\"Global Reforestation Area Covered (km²) with Data Table\",\n",
    "    showlegend=False,\n",
    "    paper_bgcolor=\"lightgrey\",\n",
    "    title_x=0.5,\n",
    "    width=1200,\n",
    "    height=600,\n",
    "    margin=dict(l=10, r=10, t=50, b=10)\n",
    ")\n",
    "\n",
    "fig.show()"
   ]
  },
  {
   "cell_type": "code",
   "execution_count": 89,
   "metadata": {},
   "outputs": [
    {
     "data": {
      "application/vnd.plotly.v1+json": {
       "config": {
        "plotlyServerURL": "https://plot.ly"
       },
       "data": [
        {
         "colorbar": {
          "title": {
           "text": "Total Area<br>km²"
          }
         },
         "colorscale": [
          [
           0,
           "#440154"
          ],
          [
           0.1111111111111111,
           "#482878"
          ],
          [
           0.2222222222222222,
           "#3e4989"
          ],
          [
           0.3333333333333333,
           "#31688e"
          ],
          [
           0.4444444444444444,
           "#26828e"
          ],
          [
           0.5555555555555556,
           "#1f9e89"
          ],
          [
           0.6666666666666666,
           "#35b779"
          ],
          [
           0.7777777777777778,
           "#6ece58"
          ],
          [
           0.8888888888888888,
           "#b5de2b"
          ],
          [
           1,
           "#fde725"
          ]
         ],
         "geo": "geo",
         "hoverinfo": "text",
         "locations": [
          "FJI",
          "TZA",
          "ESH",
          "CAN",
          "USA",
          "KAZ",
          "UZB",
          "PNG",
          "IDN",
          "ARG",
          "CHL",
          "COD",
          "SOM",
          "KEN",
          "SDN",
          "TCD",
          "HTI",
          "DOM",
          "RUS",
          "BHS",
          "FLK",
          "NOR",
          "GRL",
          "ATF",
          "TLS",
          "ZAF",
          "LSO",
          "MEX",
          "URY",
          "BRA",
          "BOL",
          "PER",
          "COL",
          "PAN",
          "CRI",
          "NIC",
          "HND",
          "SLV",
          "GTM",
          "BLZ",
          "VEN",
          "GUY",
          "SUR",
          "FRA",
          "ECU",
          "PRI",
          "JAM",
          "CUB",
          "ZWE",
          "BWA",
          "NAM",
          "SEN",
          "MLI",
          "MRT",
          "BEN",
          "NER",
          "NGA",
          "CMR",
          "TGO",
          "GHA",
          "CIV",
          "GIN",
          "GNB",
          "LBR",
          "SLE",
          "BFA",
          "CAF",
          "COG",
          "GAB",
          "GNQ",
          "ZMB",
          "MWI",
          "MOZ",
          "SWZ",
          "AGO",
          "BDI",
          "ISR",
          "LBN",
          "MDG",
          "PSE",
          "GMB",
          "TUN",
          "DZA",
          "JOR",
          "ARE",
          "QAT",
          "KWT",
          "IRQ",
          "OMN",
          "VUT",
          "KHM",
          "THA",
          "LAO",
          "MMR",
          "VNM",
          "PRK",
          "KOR",
          "MNG",
          "IND",
          "BGD",
          "BTN",
          "NPL",
          "PAK",
          "AFG",
          "TJK",
          "KGZ",
          "TKM",
          "IRN",
          "SYR",
          "ARM",
          "SWE",
          "BLR",
          "UKR",
          "POL",
          "AUT",
          "HUN",
          "MDA",
          "ROU",
          "LTU",
          "LVA",
          "EST",
          "DEU",
          "BGR",
          "GRC",
          "TUR",
          "ALB",
          "HRV",
          "CHE",
          "LUX",
          "BEL",
          "NLD",
          "PRT",
          "ESP",
          "IRL",
          "NCL",
          "SLB",
          "NZL",
          "AUS",
          "LKA",
          "CHN",
          "TWN",
          "ITA",
          "DNK",
          "GBR",
          "ISL",
          "AZE",
          "GEO",
          "PHL",
          "MYS",
          "BRN",
          "SVN",
          "FIN",
          "SVK",
          "CZE",
          "ERI",
          "JPN",
          "PRY",
          "YEM",
          "SAU",
          "ATA",
          "CYN",
          "CYP",
          "MAR",
          "EGY",
          "LBY",
          "ETH",
          "DJI",
          "SOL",
          "UGA",
          "RWA",
          "BIH",
          "MKD",
          "SRB",
          "MNE",
          "-99",
          "TTO",
          "SSD"
         ],
         "text": [
          "Fiji<br>Total Area: 0.0 km²",
          "Tanzania<br>Total Area: 95564.039 km²",
          "W. Sahara<br>Total Area: 0.0 km²",
          "Canada<br>Total Area: 2221.382 km²",
          "United States of America<br>Total Area: 13132.012 km²",
          "Kazakhstan<br>Total Area: 0.0 km²",
          "Uzbekistan<br>Total Area: 0.0 km²",
          "Papua New Guinea<br>Total Area: 0.0 km²",
          "Indonesia<br>Total Area: 6970.612 km²",
          "Argentina<br>Total Area: 286.528 km²",
          "Chile<br>Total Area: 71.847 km²",
          "Dem. Rep. Congo<br>Total Area: 17272.526 km²",
          "Somalia<br>Total Area: 0.0 km²",
          "Kenya<br>Total Area: 83455.299 km²",
          "Sudan<br>Total Area: 0.0 km²",
          "Chad<br>Total Area: 0.013 km²",
          "Haiti<br>Total Area: 25.188 km²",
          "Dominican Rep.<br>Total Area: 0.0 km²",
          "Russia<br>Total Area: 0.125 km²",
          "Bahamas<br>Total Area: 0.0 km²",
          "Falkland Is.<br>Total Area: 0.0 km²",
          "Norway<br>Total Area: 0.0 km²",
          "Greenland<br>Total Area: 0.0 km²",
          "Fr. S. Antarctic Lands<br>Total Area: 0.0 km²",
          "Timor-Leste<br>Total Area: 3.356 km²",
          "South Africa<br>Total Area: 68.082 km²",
          "Lesotho<br>Total Area: 0.0 km²",
          "Mexico<br>Total Area: 4574.427 km²",
          "Uruguay<br>Total Area: 2401.44 km²",
          "Brazil<br>Total Area: 17190.189 km²",
          "Bolivia<br>Total Area: 707.488 km²",
          "Peru<br>Total Area: 629.549 km²",
          "Colombia<br>Total Area: 1219.066 km²",
          "Panama<br>Total Area: 18.887 km²",
          "Costa Rica<br>Total Area: 1.217 km²",
          "Nicaragua<br>Total Area: 91.976 km²",
          "Honduras<br>Total Area: 168.396 km²",
          "El Salvador<br>Total Area: 0.0 km²",
          "Guatemala<br>Total Area: 120.223 km²",
          "Belize<br>Total Area: 0.0 km²",
          "Venezuela<br>Total Area: 8.779 km²",
          "Guyana<br>Total Area: 0.0 km²",
          "Suriname<br>Total Area: 0.0 km²",
          "France<br>Total Area: 16.94 km²",
          "Ecuador<br>Total Area: 1152.842 km²",
          "Puerto Rico<br>Total Area: 0.0 km²",
          "Jamaica<br>Total Area: 0.0 km²",
          "Cuba<br>Total Area: 0.0 km²",
          "Zimbabwe<br>Total Area: 6565.55 km²",
          "Botswana<br>Total Area: 5711.102 km²",
          "Namibia<br>Total Area: 66.156 km²",
          "Senegal<br>Total Area: 2774.979 km²",
          "Mali<br>Total Area: 0.0 km²",
          "Mauritania<br>Total Area: 0.0 km²",
          "Benin<br>Total Area: 0.0 km²",
          "Niger<br>Total Area: 52.974 km²",
          "Nigeria<br>Total Area: 13.041 km²",
          "Cameroon<br>Total Area: 1101.681 km²",
          "Togo<br>Total Area: 713.406 km²",
          "Ghana<br>Total Area: 1070.473 km²",
          "Côte d'Ivoire<br>Total Area: 565.678 km²",
          "Guinea<br>Total Area: 2414.237 km²",
          "Guinea-Bissau<br>Total Area: 2.702 km²",
          "Liberia<br>Total Area: 0.0 km²",
          "Sierra Leone<br>Total Area: 2338.749 km²",
          "Burkina Faso<br>Total Area: 186.859 km²",
          "Central African Rep.<br>Total Area: 20.101 km²",
          "Congo<br>Total Area: 584.007 km²",
          "Gabon<br>Total Area: 494.291 km²",
          "Eq. Guinea<br>Total Area: 0.0 km²",
          "Zambia<br>Total Area: 14880.503 km²",
          "Malawi<br>Total Area: 18316.917 km²",
          "Mozambique<br>Total Area: 18638.056 km²",
          "eSwatini<br>Total Area: 0.0 km²",
          "Angola<br>Total Area: 528.945 km²",
          "Burundi<br>Total Area: 2405.846 km²",
          "Israel<br>Total Area: 5647.506 km²",
          "Lebanon<br>Total Area: 0.0 km²",
          "Madagascar<br>Total Area: 750.501 km²",
          "Palestine<br>Total Area: 5570.186 km²",
          "Gambia<br>Total Area: 2675.406 km²",
          "Tunisia<br>Total Area: 0.0 km²",
          "Algeria<br>Total Area: 0.0 km²",
          "Jordan<br>Total Area: 5484.295 km²",
          "United Arab Emirates<br>Total Area: 0.763 km²",
          "Qatar<br>Total Area: 0.0 km²",
          "Kuwait<br>Total Area: 0.0 km²",
          "Iraq<br>Total Area: 0.0 km²",
          "Oman<br>Total Area: 0.0 km²",
          "Vanuatu<br>Total Area: 0.0 km²",
          "Cambodia<br>Total Area: 2313.581 km²",
          "Thailand<br>Total Area: 0.921 km²",
          "Laos<br>Total Area: 51.328 km²",
          "Myanmar<br>Total Area: 279.368 km²",
          "Vietnam<br>Total Area: 28.779 km²",
          "North Korea<br>Total Area: 0.0 km²",
          "South Korea<br>Total Area: 0.0 km²",
          "Mongolia<br>Total Area: 0.052 km²",
          "India<br>Total Area: 16868.957 km²",
          "Bangladesh<br>Total Area: 4406.693 km²",
          "Bhutan<br>Total Area: 0.0 km²",
          "Nepal<br>Total Area: 28.826 km²",
          "Pakistan<br>Total Area: 1137.631 km²",
          "Afghanistan<br>Total Area: 0.0 km²",
          "Tajikistan<br>Total Area: 0.0 km²",
          "Kyrgyzstan<br>Total Area: 0.0 km²",
          "Turkmenistan<br>Total Area: 0.0 km²",
          "Iran<br>Total Area: 0.0 km²",
          "Syria<br>Total Area: 250.904 km²",
          "Armenia<br>Total Area: 0.0 km²",
          "Sweden<br>Total Area: 14.152 km²",
          "Belarus<br>Total Area: 0.0 km²",
          "Ukraine<br>Total Area: 0.023 km²",
          "Poland<br>Total Area: 0.0 km²",
          "Austria<br>Total Area: 0.0 km²",
          "Hungary<br>Total Area: 0.0 km²",
          "Moldova<br>Total Area: 0.0 km²",
          "Romania<br>Total Area: 30.26 km²",
          "Lithuania<br>Total Area: 0.12 km²",
          "Latvia<br>Total Area: 0.893 km²",
          "Estonia<br>Total Area: 5.323 km²",
          "Germany<br>Total Area: 31.598 km²",
          "Bulgaria<br>Total Area: 0.0 km²",
          "Greece<br>Total Area: 0.0 km²",
          "Turkey<br>Total Area: 0.0 km²",
          "Albania<br>Total Area: 0.058 km²",
          "Croatia<br>Total Area: 0.0 km²",
          "Switzerland<br>Total Area: 0.0 km²",
          "Luxembourg<br>Total Area: 0.0 km²",
          "Belgium<br>Total Area: 0.361 km²",
          "Netherlands<br>Total Area: 0.0 km²",
          "Portugal<br>Total Area: 142.667 km²",
          "Spain<br>Total Area: 107.049 km²",
          "Ireland<br>Total Area: 0.066 km²",
          "New Caledonia<br>Total Area: 0.0 km²",
          "Solomon Is.<br>Total Area: 0.0 km²",
          "New Zealand<br>Total Area: 0.0 km²",
          "Australia<br>Total Area: 26.536 km²",
          "Sri Lanka<br>Total Area: 12.942 km²",
          "China<br>Total Area: 38969.619 km²",
          "Taiwan<br>Total Area: 0.0 km²",
          "Italy<br>Total Area: 39.406 km²",
          "Denmark<br>Total Area: 0.971 km²",
          "United Kingdom<br>Total Area: 13.231 km²",
          "Iceland<br>Total Area: 0.0 km²",
          "Azerbaijan<br>Total Area: 0.0 km²",
          "Georgia<br>Total Area: 0.0 km²",
          "Philippines<br>Total Area: 2967.851 km²",
          "Malaysia<br>Total Area: 35.154 km²",
          "Brunei<br>Total Area: 0.0 km²",
          "Slovenia<br>Total Area: 0.0 km²",
          "Finland<br>Total Area: 0.0 km²",
          "Slovakia<br>Total Area: 0.0 km²",
          "Czechia<br>Total Area: 0.341 km²",
          "Eritrea<br>Total Area: 0.0 km²",
          "Japan<br>Total Area: 0.0 km²",
          "Paraguay<br>Total Area: 596.852 km²",
          "Yemen<br>Total Area: 0.0 km²",
          "Saudi Arabia<br>Total Area: 0.0 km²",
          "Antarctica<br>Total Area: 0.0 km²",
          "N. Cyprus<br>Total Area: 0.0 km²",
          "Cyprus<br>Total Area: 0.0 km²",
          "Morocco<br>Total Area: 0.0 km²",
          "Egypt<br>Total Area: 0.0 km²",
          "Libya<br>Total Area: 0.0 km²",
          "Ethiopia<br>Total Area: 260.708 km²",
          "Djibouti<br>Total Area: 0.0 km²",
          "Somaliland<br>Total Area: 0.0 km²",
          "Uganda<br>Total Area: 9518.838 km²",
          "Rwanda<br>Total Area: 4600.745 km²",
          "Bosnia and Herz.<br>Total Area: 0.0 km²",
          "North Macedonia<br>Total Area: 0.0 km²",
          "Serbia<br>Total Area: 0.0 km²",
          "Montenegro<br>Total Area: 0.0 km²",
          "Kosovo<br>Total Area: 0.0 km²",
          "Trinidad and Tobago<br>Total Area: 0.0 km²",
          "S. Sudan<br>Total Area: 54.078 km²"
         ],
         "type": "choropleth",
         "z": [
          0,
          95564.039,
          0,
          2221.382,
          13132.012,
          0,
          0,
          0,
          6970.612,
          286.528,
          71.847,
          17272.526,
          0,
          83455.299,
          0,
          0.013,
          25.188,
          0,
          0.125,
          0,
          0,
          0,
          0,
          0,
          3.356,
          68.082,
          0,
          4574.427,
          2401.44,
          17190.189,
          707.488,
          629.549,
          1219.066,
          18.887,
          1.217,
          91.976,
          168.396,
          0,
          120.223,
          0,
          8.779,
          0,
          0,
          16.94,
          1152.842,
          0,
          0,
          0,
          6565.55,
          5711.102,
          66.156,
          2774.979,
          0,
          0,
          0,
          52.974,
          13.041,
          1101.681,
          713.406,
          1070.473,
          565.678,
          2414.237,
          2.702,
          0,
          2338.749,
          186.859,
          20.101,
          584.007,
          494.291,
          0,
          14880.503,
          18316.917,
          18638.056,
          0,
          528.945,
          2405.846,
          5647.506,
          0,
          750.501,
          5570.186,
          2675.406,
          0,
          0,
          5484.295,
          0.763,
          0,
          0,
          0,
          0,
          0,
          2313.581,
          0.921,
          51.328,
          279.368,
          28.779,
          0,
          0,
          0.052,
          16868.957,
          4406.693,
          0,
          28.826,
          1137.631,
          0,
          0,
          0,
          0,
          0,
          250.904,
          0,
          14.152,
          0,
          0.023,
          0,
          0,
          0,
          0,
          30.26,
          0.12,
          0.893,
          5.323,
          31.598,
          0,
          0,
          0,
          0.058,
          0,
          0,
          0,
          0.361,
          0,
          142.667,
          107.049,
          0.066,
          0,
          0,
          0,
          26.536,
          12.942,
          38969.619,
          0,
          39.406,
          0.971,
          13.231,
          0,
          0,
          0,
          2967.851,
          35.154,
          0,
          0,
          0,
          0,
          0.341,
          0,
          0,
          596.852,
          0,
          0,
          0,
          0,
          0,
          0,
          0,
          0,
          260.708,
          0,
          0,
          9518.838,
          4600.745,
          0,
          0,
          0,
          0,
          0,
          0,
          54.078
         ]
        },
        {
         "cells": {
          "align": "left",
          "fill": {
           "color": "#b8de29"
          },
          "values": [
           [
            "Tanzania",
            "Kenya",
            "China",
            "Mozambique",
            "Malawi",
            "Dem. Rep. Congo",
            "Brazil",
            "India",
            "Zambia",
            "United States of America",
            "Uganda",
            "Indonesia",
            "Zimbabwe",
            "Botswana",
            "Israel",
            "Palestine",
            "Jordan",
            "Rwanda",
            "Mexico",
            "Bangladesh",
            "Philippines",
            "Senegal",
            "Gambia",
            "Guinea",
            "Burundi",
            "Uruguay",
            "Sierra Leone",
            "Cambodia",
            "Canada",
            "Colombia",
            "Ecuador",
            "Pakistan",
            "Cameroon",
            "Ghana",
            "Madagascar",
            "Togo",
            "Bolivia",
            "Peru",
            "Paraguay",
            "Congo",
            "Côte d'Ivoire",
            "Angola",
            "Gabon",
            "Argentina",
            "Myanmar",
            "Ethiopia",
            "Syria",
            "Burkina Faso",
            "Honduras",
            "Portugal",
            "Guatemala",
            "Spain",
            "Nicaragua",
            "Chile",
            "South Africa",
            "Namibia",
            "S. Sudan",
            "Niger",
            "Laos",
            "Italy",
            "Malaysia",
            "Germany",
            "Romania",
            "Nepal",
            "Vietnam",
            "Australia",
            "Haiti",
            "Central African Rep.",
            "Panama",
            "France",
            "Sweden",
            "United Kingdom",
            "Nigeria",
            "Sri Lanka",
            "Venezuela",
            "Estonia",
            "Timor-Leste",
            "Guinea-Bissau",
            "Costa Rica",
            "Denmark",
            "Thailand",
            "Latvia",
            "United Arab Emirates",
            "Belgium",
            "Czechia",
            "Russia",
            "Lithuania",
            "Ireland",
            "Albania",
            "Mongolia",
            "Ukraine",
            "Chad",
            "New Caledonia",
            "Solomon Is.",
            "Bosnia and Herz.",
            "Brunei",
            "North Macedonia",
            "Serbia",
            "Netherlands",
            "Montenegro",
            "Kosovo",
            "Trinidad and Tobago",
            "Luxembourg",
            "Switzerland",
            "New Zealand",
            "Egypt",
            "Somaliland",
            "Yemen",
            "Finland",
            "Slovakia",
            "Georgia",
            "Azerbaijan",
            "Iceland",
            "Eritrea",
            "Japan",
            "Saudi Arabia",
            "Djibouti",
            "Antarctica",
            "N. Cyprus",
            "Cyprus",
            "Morocco",
            "Taiwan",
            "Slovenia",
            "Libya",
            "Croatia",
            "Fiji",
            "Turkey",
            "Fr. S. Antarctic Lands",
            "Mauritania",
            "Mali",
            "Cuba",
            "Jamaica",
            "Puerto Rico",
            "Suriname",
            "Guyana",
            "Belize",
            "El Salvador",
            "Lesotho",
            "Greenland",
            "Liberia",
            "Norway",
            "Falkland Is.",
            "Bahamas",
            "Dominican Rep.",
            "Sudan",
            "Somalia",
            "Papua New Guinea",
            "Uzbekistan",
            "Kazakhstan",
            "W. Sahara",
            "Benin",
            "Eq. Guinea",
            "Greece",
            "Tajikistan",
            "Bulgaria",
            "Moldova",
            "Hungary",
            "Austria",
            "Poland",
            "Belarus",
            "Armenia",
            "Iran",
            "Turkmenistan",
            "Kyrgyzstan",
            "Afghanistan",
            "eSwatini",
            "Bhutan",
            "South Korea",
            "North Korea",
            "Vanuatu",
            "Iraq",
            "Kuwait",
            "Qatar",
            "Algeria",
            "Tunisia",
            "Lebanon",
            "Oman"
           ],
           [
            95564.039,
            83455.299,
            38969.619,
            18638.056,
            18316.917,
            17272.526,
            17190.189,
            16868.957,
            14880.503,
            13132.012,
            9518.838,
            6970.612,
            6565.55,
            5711.102,
            5647.506,
            5570.186,
            5484.295,
            4600.745,
            4574.427,
            4406.693,
            2967.851,
            2774.979,
            2675.406,
            2414.237,
            2405.846,
            2401.44,
            2338.749,
            2313.581,
            2221.382,
            1219.066,
            1152.842,
            1137.631,
            1101.681,
            1070.473,
            750.501,
            713.406,
            707.488,
            629.549,
            596.852,
            584.007,
            565.678,
            528.945,
            494.291,
            286.528,
            279.368,
            260.708,
            250.904,
            186.859,
            168.396,
            142.667,
            120.223,
            107.049,
            91.976,
            71.847,
            68.082,
            66.156,
            54.078,
            52.974,
            51.328,
            39.406,
            35.154,
            31.598,
            30.26,
            28.826,
            28.779,
            26.536,
            25.188,
            20.101,
            18.887,
            16.94,
            14.152,
            13.231,
            13.041,
            12.942,
            8.779,
            5.323,
            3.356,
            2.702,
            1.217,
            0.971,
            0.921,
            0.893,
            0.763,
            0.361,
            0.341,
            0.125,
            0.12,
            0.066,
            0.058,
            0.052,
            0.023,
            0.013,
            0,
            0,
            0,
            0,
            0,
            0,
            0,
            0,
            0,
            0,
            0,
            0,
            0,
            0,
            0,
            0,
            0,
            0,
            0,
            0,
            0,
            0,
            0,
            0,
            0,
            0,
            0,
            0,
            0,
            0,
            0,
            0,
            0,
            0,
            0,
            0,
            0,
            0,
            0,
            0,
            0,
            0,
            0,
            0,
            0,
            0,
            0,
            0,
            0,
            0,
            0,
            0,
            0,
            0,
            0,
            0,
            0,
            0,
            0,
            0,
            0,
            0,
            0,
            0,
            0,
            0,
            0,
            0,
            0,
            0,
            0,
            0,
            0,
            0,
            0,
            0,
            0,
            0,
            0,
            0,
            0,
            0,
            0,
            0,
            0
           ]
          ]
         },
         "domain": {
          "x": [
           0.8200000000000001,
           1
          ],
          "y": [
           0,
           1
          ]
         },
         "header": {
          "align": "left",
          "fill": {
           "color": "#440154"
          },
          "font": {
           "color": "white"
          },
          "values": [
           "Country",
           "Total Area Covered (km²)"
          ]
         },
         "type": "table"
        }
       ],
       "layout": {
        "geo": {
         "domain": {
          "x": [
           0,
           0.7200000000000001
          ],
          "y": [
           0,
           1
          ]
         }
        },
        "height": 600,
        "margin": {
         "b": 10,
         "l": 10,
         "r": 10,
         "t": 50
        },
        "paper_bgcolor": "lightgrey",
        "showlegend": false,
        "template": {
         "data": {
          "bar": [
           {
            "error_x": {
             "color": "#2a3f5f"
            },
            "error_y": {
             "color": "#2a3f5f"
            },
            "marker": {
             "line": {
              "color": "#E5ECF6",
              "width": 0.5
             }
            },
            "type": "bar"
           }
          ],
          "barpolar": [
           {
            "marker": {
             "line": {
              "color": "#E5ECF6",
              "width": 0.5
             }
            },
            "type": "barpolar"
           }
          ],
          "carpet": [
           {
            "aaxis": {
             "endlinecolor": "#2a3f5f",
             "gridcolor": "white",
             "linecolor": "white",
             "minorgridcolor": "white",
             "startlinecolor": "#2a3f5f"
            },
            "baxis": {
             "endlinecolor": "#2a3f5f",
             "gridcolor": "white",
             "linecolor": "white",
             "minorgridcolor": "white",
             "startlinecolor": "#2a3f5f"
            },
            "type": "carpet"
           }
          ],
          "choropleth": [
           {
            "colorbar": {
             "outlinewidth": 0,
             "ticks": ""
            },
            "type": "choropleth"
           }
          ],
          "contour": [
           {
            "colorbar": {
             "outlinewidth": 0,
             "ticks": ""
            },
            "colorscale": [
             [
              0,
              "#0d0887"
             ],
             [
              0.1111111111111111,
              "#46039f"
             ],
             [
              0.2222222222222222,
              "#7201a8"
             ],
             [
              0.3333333333333333,
              "#9c179e"
             ],
             [
              0.4444444444444444,
              "#bd3786"
             ],
             [
              0.5555555555555556,
              "#d8576b"
             ],
             [
              0.6666666666666666,
              "#ed7953"
             ],
             [
              0.7777777777777778,
              "#fb9f3a"
             ],
             [
              0.8888888888888888,
              "#fdca26"
             ],
             [
              1,
              "#f0f921"
             ]
            ],
            "type": "contour"
           }
          ],
          "contourcarpet": [
           {
            "colorbar": {
             "outlinewidth": 0,
             "ticks": ""
            },
            "type": "contourcarpet"
           }
          ],
          "heatmap": [
           {
            "colorbar": {
             "outlinewidth": 0,
             "ticks": ""
            },
            "colorscale": [
             [
              0,
              "#0d0887"
             ],
             [
              0.1111111111111111,
              "#46039f"
             ],
             [
              0.2222222222222222,
              "#7201a8"
             ],
             [
              0.3333333333333333,
              "#9c179e"
             ],
             [
              0.4444444444444444,
              "#bd3786"
             ],
             [
              0.5555555555555556,
              "#d8576b"
             ],
             [
              0.6666666666666666,
              "#ed7953"
             ],
             [
              0.7777777777777778,
              "#fb9f3a"
             ],
             [
              0.8888888888888888,
              "#fdca26"
             ],
             [
              1,
              "#f0f921"
             ]
            ],
            "type": "heatmap"
           }
          ],
          "heatmapgl": [
           {
            "colorbar": {
             "outlinewidth": 0,
             "ticks": ""
            },
            "colorscale": [
             [
              0,
              "#0d0887"
             ],
             [
              0.1111111111111111,
              "#46039f"
             ],
             [
              0.2222222222222222,
              "#7201a8"
             ],
             [
              0.3333333333333333,
              "#9c179e"
             ],
             [
              0.4444444444444444,
              "#bd3786"
             ],
             [
              0.5555555555555556,
              "#d8576b"
             ],
             [
              0.6666666666666666,
              "#ed7953"
             ],
             [
              0.7777777777777778,
              "#fb9f3a"
             ],
             [
              0.8888888888888888,
              "#fdca26"
             ],
             [
              1,
              "#f0f921"
             ]
            ],
            "type": "heatmapgl"
           }
          ],
          "histogram": [
           {
            "marker": {
             "colorbar": {
              "outlinewidth": 0,
              "ticks": ""
             }
            },
            "type": "histogram"
           }
          ],
          "histogram2d": [
           {
            "colorbar": {
             "outlinewidth": 0,
             "ticks": ""
            },
            "colorscale": [
             [
              0,
              "#0d0887"
             ],
             [
              0.1111111111111111,
              "#46039f"
             ],
             [
              0.2222222222222222,
              "#7201a8"
             ],
             [
              0.3333333333333333,
              "#9c179e"
             ],
             [
              0.4444444444444444,
              "#bd3786"
             ],
             [
              0.5555555555555556,
              "#d8576b"
             ],
             [
              0.6666666666666666,
              "#ed7953"
             ],
             [
              0.7777777777777778,
              "#fb9f3a"
             ],
             [
              0.8888888888888888,
              "#fdca26"
             ],
             [
              1,
              "#f0f921"
             ]
            ],
            "type": "histogram2d"
           }
          ],
          "histogram2dcontour": [
           {
            "colorbar": {
             "outlinewidth": 0,
             "ticks": ""
            },
            "colorscale": [
             [
              0,
              "#0d0887"
             ],
             [
              0.1111111111111111,
              "#46039f"
             ],
             [
              0.2222222222222222,
              "#7201a8"
             ],
             [
              0.3333333333333333,
              "#9c179e"
             ],
             [
              0.4444444444444444,
              "#bd3786"
             ],
             [
              0.5555555555555556,
              "#d8576b"
             ],
             [
              0.6666666666666666,
              "#ed7953"
             ],
             [
              0.7777777777777778,
              "#fb9f3a"
             ],
             [
              0.8888888888888888,
              "#fdca26"
             ],
             [
              1,
              "#f0f921"
             ]
            ],
            "type": "histogram2dcontour"
           }
          ],
          "mesh3d": [
           {
            "colorbar": {
             "outlinewidth": 0,
             "ticks": ""
            },
            "type": "mesh3d"
           }
          ],
          "parcoords": [
           {
            "line": {
             "colorbar": {
              "outlinewidth": 0,
              "ticks": ""
             }
            },
            "type": "parcoords"
           }
          ],
          "pie": [
           {
            "automargin": true,
            "type": "pie"
           }
          ],
          "scatter": [
           {
            "marker": {
             "colorbar": {
              "outlinewidth": 0,
              "ticks": ""
             }
            },
            "type": "scatter"
           }
          ],
          "scatter3d": [
           {
            "line": {
             "colorbar": {
              "outlinewidth": 0,
              "ticks": ""
             }
            },
            "marker": {
             "colorbar": {
              "outlinewidth": 0,
              "ticks": ""
             }
            },
            "type": "scatter3d"
           }
          ],
          "scattercarpet": [
           {
            "marker": {
             "colorbar": {
              "outlinewidth": 0,
              "ticks": ""
             }
            },
            "type": "scattercarpet"
           }
          ],
          "scattergeo": [
           {
            "marker": {
             "colorbar": {
              "outlinewidth": 0,
              "ticks": ""
             }
            },
            "type": "scattergeo"
           }
          ],
          "scattergl": [
           {
            "marker": {
             "colorbar": {
              "outlinewidth": 0,
              "ticks": ""
             }
            },
            "type": "scattergl"
           }
          ],
          "scattermapbox": [
           {
            "marker": {
             "colorbar": {
              "outlinewidth": 0,
              "ticks": ""
             }
            },
            "type": "scattermapbox"
           }
          ],
          "scatterpolar": [
           {
            "marker": {
             "colorbar": {
              "outlinewidth": 0,
              "ticks": ""
             }
            },
            "type": "scatterpolar"
           }
          ],
          "scatterpolargl": [
           {
            "marker": {
             "colorbar": {
              "outlinewidth": 0,
              "ticks": ""
             }
            },
            "type": "scatterpolargl"
           }
          ],
          "scatterternary": [
           {
            "marker": {
             "colorbar": {
              "outlinewidth": 0,
              "ticks": ""
             }
            },
            "type": "scatterternary"
           }
          ],
          "surface": [
           {
            "colorbar": {
             "outlinewidth": 0,
             "ticks": ""
            },
            "colorscale": [
             [
              0,
              "#0d0887"
             ],
             [
              0.1111111111111111,
              "#46039f"
             ],
             [
              0.2222222222222222,
              "#7201a8"
             ],
             [
              0.3333333333333333,
              "#9c179e"
             ],
             [
              0.4444444444444444,
              "#bd3786"
             ],
             [
              0.5555555555555556,
              "#d8576b"
             ],
             [
              0.6666666666666666,
              "#ed7953"
             ],
             [
              0.7777777777777778,
              "#fb9f3a"
             ],
             [
              0.8888888888888888,
              "#fdca26"
             ],
             [
              1,
              "#f0f921"
             ]
            ],
            "type": "surface"
           }
          ],
          "table": [
           {
            "cells": {
             "fill": {
              "color": "#EBF0F8"
             },
             "line": {
              "color": "white"
             }
            },
            "header": {
             "fill": {
              "color": "#C8D4E3"
             },
             "line": {
              "color": "white"
             }
            },
            "type": "table"
           }
          ]
         },
         "layout": {
          "annotationdefaults": {
           "arrowcolor": "#2a3f5f",
           "arrowhead": 0,
           "arrowwidth": 1
          },
          "autotypenumbers": "strict",
          "coloraxis": {
           "colorbar": {
            "outlinewidth": 0,
            "ticks": ""
           }
          },
          "colorscale": {
           "diverging": [
            [
             0,
             "#8e0152"
            ],
            [
             0.1,
             "#c51b7d"
            ],
            [
             0.2,
             "#de77ae"
            ],
            [
             0.3,
             "#f1b6da"
            ],
            [
             0.4,
             "#fde0ef"
            ],
            [
             0.5,
             "#f7f7f7"
            ],
            [
             0.6,
             "#e6f5d0"
            ],
            [
             0.7,
             "#b8e186"
            ],
            [
             0.8,
             "#7fbc41"
            ],
            [
             0.9,
             "#4d9221"
            ],
            [
             1,
             "#276419"
            ]
           ],
           "sequential": [
            [
             0,
             "#0d0887"
            ],
            [
             0.1111111111111111,
             "#46039f"
            ],
            [
             0.2222222222222222,
             "#7201a8"
            ],
            [
             0.3333333333333333,
             "#9c179e"
            ],
            [
             0.4444444444444444,
             "#bd3786"
            ],
            [
             0.5555555555555556,
             "#d8576b"
            ],
            [
             0.6666666666666666,
             "#ed7953"
            ],
            [
             0.7777777777777778,
             "#fb9f3a"
            ],
            [
             0.8888888888888888,
             "#fdca26"
            ],
            [
             1,
             "#f0f921"
            ]
           ],
           "sequentialminus": [
            [
             0,
             "#0d0887"
            ],
            [
             0.1111111111111111,
             "#46039f"
            ],
            [
             0.2222222222222222,
             "#7201a8"
            ],
            [
             0.3333333333333333,
             "#9c179e"
            ],
            [
             0.4444444444444444,
             "#bd3786"
            ],
            [
             0.5555555555555556,
             "#d8576b"
            ],
            [
             0.6666666666666666,
             "#ed7953"
            ],
            [
             0.7777777777777778,
             "#fb9f3a"
            ],
            [
             0.8888888888888888,
             "#fdca26"
            ],
            [
             1,
             "#f0f921"
            ]
           ]
          },
          "colorway": [
           "#636efa",
           "#EF553B",
           "#00cc96",
           "#ab63fa",
           "#FFA15A",
           "#19d3f3",
           "#FF6692",
           "#B6E880",
           "#FF97FF",
           "#FECB52"
          ],
          "font": {
           "color": "#2a3f5f"
          },
          "geo": {
           "bgcolor": "white",
           "lakecolor": "white",
           "landcolor": "#E5ECF6",
           "showlakes": true,
           "showland": true,
           "subunitcolor": "white"
          },
          "hoverlabel": {
           "align": "left"
          },
          "hovermode": "closest",
          "mapbox": {
           "style": "light"
          },
          "paper_bgcolor": "white",
          "plot_bgcolor": "#E5ECF6",
          "polar": {
           "angularaxis": {
            "gridcolor": "white",
            "linecolor": "white",
            "ticks": ""
           },
           "bgcolor": "#E5ECF6",
           "radialaxis": {
            "gridcolor": "white",
            "linecolor": "white",
            "ticks": ""
           }
          },
          "scene": {
           "xaxis": {
            "backgroundcolor": "#E5ECF6",
            "gridcolor": "white",
            "gridwidth": 2,
            "linecolor": "white",
            "showbackground": true,
            "ticks": "",
            "zerolinecolor": "white"
           },
           "yaxis": {
            "backgroundcolor": "#E5ECF6",
            "gridcolor": "white",
            "gridwidth": 2,
            "linecolor": "white",
            "showbackground": true,
            "ticks": "",
            "zerolinecolor": "white"
           },
           "zaxis": {
            "backgroundcolor": "#E5ECF6",
            "gridcolor": "white",
            "gridwidth": 2,
            "linecolor": "white",
            "showbackground": true,
            "ticks": "",
            "zerolinecolor": "white"
           }
          },
          "shapedefaults": {
           "line": {
            "color": "#2a3f5f"
           }
          },
          "ternary": {
           "aaxis": {
            "gridcolor": "white",
            "linecolor": "white",
            "ticks": ""
           },
           "baxis": {
            "gridcolor": "white",
            "linecolor": "white",
            "ticks": ""
           },
           "bgcolor": "#E5ECF6",
           "caxis": {
            "gridcolor": "white",
            "linecolor": "white",
            "ticks": ""
           }
          },
          "title": {
           "x": 0.05
          },
          "xaxis": {
           "automargin": true,
           "gridcolor": "white",
           "linecolor": "white",
           "ticks": "",
           "title": {
            "standoff": 15
           },
           "zerolinecolor": "white",
           "zerolinewidth": 2
          },
          "yaxis": {
           "automargin": true,
           "gridcolor": "white",
           "linecolor": "white",
           "ticks": "",
           "title": {
            "standoff": 15
           },
           "zerolinecolor": "white",
           "zerolinewidth": 2
          }
         }
        },
        "title": {
         "text": "Global Reforestation Area Covered (km²) with Data Table",
         "x": 0.5
        },
        "width": 1200
       }
      }
     },
     "metadata": {},
     "output_type": "display_data"
    }
   ],
   "source": [
    "\n",
    "world_with_area_covered['total_area_km2'] = world_with_area_covered['total_area_km2'].round(3)\n",
    "\n",
    "\n",
    "fig = make_subplots(rows=1, cols=2, column_widths=[0.8, 0.2], specs=[[{\"type\": \"choropleth\"}, {\"type\": \"table\"}]])\n",
    "\n",
    "\n",
    "world_with_area_covered['hover_text'] = world_with_area_covered['name'] + '<br>Total Area: ' + world_with_area_covered['total_area_km2'].astype(str) + ' km²'\n",
    "\n",
    "fig.add_trace(\n",
    "    go.Choropleth(\n",
    "        locations=world_with_area_covered['iso_a3'],\n",
    "        z=world_with_area_covered['total_area_km2'],\n",
    "        hoverinfo='text',\n",
    "        text=world_with_area_covered['hover_text'], \n",
    "        colorscale=px.colors.sequential.Viridis,\n",
    "        colorbar_title=\"Total Area<br>km²\",\n",
    "    ),\n",
    "    row=1, col=1\n",
    ")\n",
    "\n",
    "\n",
    "table_data = world_with_area_covered[['name', 'total_area_km2']].sort_values(by='total_area_km2', ascending=False)\n",
    "fig.add_trace(\n",
    "    go.Table(\n",
    "        header=dict(values=[\"Country\", \"Total Area Covered (km²)\"],\n",
    "                    fill_color='#440154', \n",
    "                    font=dict(color='white'),\n",
    "                    align='left'),\n",
    "        cells=dict(values=[table_data.name, table_data.total_area_km2],\n",
    "                   fill_color='#b8de29',  \n",
    "                   align='left')),\n",
    "    row=1, col=2\n",
    ")\n",
    "\n",
    "fig.update_layout(\n",
    "    title_text=\"Global Reforestation Area Covered (km²) with Data Table\",\n",
    "    showlegend=False,\n",
    "    paper_bgcolor=\"lightgrey\",\n",
    "    title_x=0.5,\n",
    "    width=1200,\n",
    "    height=600,\n",
    "    margin=dict(l=10, r=10, t=50, b=10)\n",
    ")\n",
    "\n",
    "fig.show()"
   ]
  },
  {
   "cell_type": "code",
   "execution_count": 93,
   "metadata": {},
   "outputs": [
    {
     "data": {
      "application/vnd.plotly.v1+json": {
       "config": {
        "plotlyServerURL": "https://plot.ly"
       },
       "data": [
        {
         "colorbar": {
          "title": {
           "text": "Total Area<br>km²"
          }
         },
         "colorscale": [
          [
           0,
           "rgb(75, 41, 145)"
          ],
          [
           0.16666666666666666,
           "rgb(135, 44, 162)"
          ],
          [
           0.3333333333333333,
           "rgb(192, 54, 157)"
          ],
          [
           0.5,
           "rgb(234, 79, 136)"
          ],
          [
           0.6666666666666666,
           "rgb(250, 120, 118)"
          ],
          [
           0.8333333333333334,
           "rgb(246, 169, 122)"
          ],
          [
           1,
           "rgb(237, 217, 163)"
          ]
         ],
         "geo": "geo",
         "hoverinfo": "text",
         "locations": [
          "FJI",
          "TZA",
          "ESH",
          "CAN",
          "USA",
          "KAZ",
          "UZB",
          "PNG",
          "IDN",
          "ARG",
          "CHL",
          "COD",
          "SOM",
          "KEN",
          "SDN",
          "TCD",
          "HTI",
          "DOM",
          "RUS",
          "BHS",
          "FLK",
          "NOR",
          "GRL",
          "ATF",
          "TLS",
          "ZAF",
          "LSO",
          "MEX",
          "URY",
          "BRA",
          "BOL",
          "PER",
          "COL",
          "PAN",
          "CRI",
          "NIC",
          "HND",
          "SLV",
          "GTM",
          "BLZ",
          "VEN",
          "GUY",
          "SUR",
          "FRA",
          "ECU",
          "PRI",
          "JAM",
          "CUB",
          "ZWE",
          "BWA",
          "NAM",
          "SEN",
          "MLI",
          "MRT",
          "BEN",
          "NER",
          "NGA",
          "CMR",
          "TGO",
          "GHA",
          "CIV",
          "GIN",
          "GNB",
          "LBR",
          "SLE",
          "BFA",
          "CAF",
          "COG",
          "GAB",
          "GNQ",
          "ZMB",
          "MWI",
          "MOZ",
          "SWZ",
          "AGO",
          "BDI",
          "ISR",
          "LBN",
          "MDG",
          "PSE",
          "GMB",
          "TUN",
          "DZA",
          "JOR",
          "ARE",
          "QAT",
          "KWT",
          "IRQ",
          "OMN",
          "VUT",
          "KHM",
          "THA",
          "LAO",
          "MMR",
          "VNM",
          "PRK",
          "KOR",
          "MNG",
          "IND",
          "BGD",
          "BTN",
          "NPL",
          "PAK",
          "AFG",
          "TJK",
          "KGZ",
          "TKM",
          "IRN",
          "SYR",
          "ARM",
          "SWE",
          "BLR",
          "UKR",
          "POL",
          "AUT",
          "HUN",
          "MDA",
          "ROU",
          "LTU",
          "LVA",
          "EST",
          "DEU",
          "BGR",
          "GRC",
          "TUR",
          "ALB",
          "HRV",
          "CHE",
          "LUX",
          "BEL",
          "NLD",
          "PRT",
          "ESP",
          "IRL",
          "NCL",
          "SLB",
          "NZL",
          "AUS",
          "LKA",
          "CHN",
          "TWN",
          "ITA",
          "DNK",
          "GBR",
          "ISL",
          "AZE",
          "GEO",
          "PHL",
          "MYS",
          "BRN",
          "SVN",
          "FIN",
          "SVK",
          "CZE",
          "ERI",
          "JPN",
          "PRY",
          "YEM",
          "SAU",
          "ATA",
          "CYN",
          "CYP",
          "MAR",
          "EGY",
          "LBY",
          "ETH",
          "DJI",
          "SOL",
          "UGA",
          "RWA",
          "BIH",
          "MKD",
          "SRB",
          "MNE",
          "-99",
          "TTO",
          "SSD"
         ],
         "text": [
          "Fiji<br>Total Area: 0.0 km²",
          "Tanzania<br>Total Area: 95564.039 km²",
          "W. Sahara<br>Total Area: 0.0 km²",
          "Canada<br>Total Area: 2221.382 km²",
          "United States of America<br>Total Area: 13132.012 km²",
          "Kazakhstan<br>Total Area: 0.0 km²",
          "Uzbekistan<br>Total Area: 0.0 km²",
          "Papua New Guinea<br>Total Area: 0.0 km²",
          "Indonesia<br>Total Area: 6970.612 km²",
          "Argentina<br>Total Area: 286.528 km²",
          "Chile<br>Total Area: 71.847 km²",
          "Dem. Rep. Congo<br>Total Area: 17272.526 km²",
          "Somalia<br>Total Area: 0.0 km²",
          "Kenya<br>Total Area: 83455.299 km²",
          "Sudan<br>Total Area: 0.0 km²",
          "Chad<br>Total Area: 0.013 km²",
          "Haiti<br>Total Area: 25.188 km²",
          "Dominican Rep.<br>Total Area: 0.0 km²",
          "Russia<br>Total Area: 0.125 km²",
          "Bahamas<br>Total Area: 0.0 km²",
          "Falkland Is.<br>Total Area: 0.0 km²",
          "Norway<br>Total Area: 0.0 km²",
          "Greenland<br>Total Area: 0.0 km²",
          "Fr. S. Antarctic Lands<br>Total Area: 0.0 km²",
          "Timor-Leste<br>Total Area: 3.356 km²",
          "South Africa<br>Total Area: 68.082 km²",
          "Lesotho<br>Total Area: 0.0 km²",
          "Mexico<br>Total Area: 4574.427 km²",
          "Uruguay<br>Total Area: 2401.44 km²",
          "Brazil<br>Total Area: 17190.189 km²",
          "Bolivia<br>Total Area: 707.488 km²",
          "Peru<br>Total Area: 629.549 km²",
          "Colombia<br>Total Area: 1219.066 km²",
          "Panama<br>Total Area: 18.887 km²",
          "Costa Rica<br>Total Area: 1.217 km²",
          "Nicaragua<br>Total Area: 91.976 km²",
          "Honduras<br>Total Area: 168.396 km²",
          "El Salvador<br>Total Area: 0.0 km²",
          "Guatemala<br>Total Area: 120.223 km²",
          "Belize<br>Total Area: 0.0 km²",
          "Venezuela<br>Total Area: 8.779 km²",
          "Guyana<br>Total Area: 0.0 km²",
          "Suriname<br>Total Area: 0.0 km²",
          "France<br>Total Area: 16.94 km²",
          "Ecuador<br>Total Area: 1152.842 km²",
          "Puerto Rico<br>Total Area: 0.0 km²",
          "Jamaica<br>Total Area: 0.0 km²",
          "Cuba<br>Total Area: 0.0 km²",
          "Zimbabwe<br>Total Area: 6565.55 km²",
          "Botswana<br>Total Area: 5711.102 km²",
          "Namibia<br>Total Area: 66.156 km²",
          "Senegal<br>Total Area: 2774.979 km²",
          "Mali<br>Total Area: 0.0 km²",
          "Mauritania<br>Total Area: 0.0 km²",
          "Benin<br>Total Area: 0.0 km²",
          "Niger<br>Total Area: 52.974 km²",
          "Nigeria<br>Total Area: 13.041 km²",
          "Cameroon<br>Total Area: 1101.681 km²",
          "Togo<br>Total Area: 713.406 km²",
          "Ghana<br>Total Area: 1070.473 km²",
          "Côte d'Ivoire<br>Total Area: 565.678 km²",
          "Guinea<br>Total Area: 2414.237 km²",
          "Guinea-Bissau<br>Total Area: 2.702 km²",
          "Liberia<br>Total Area: 0.0 km²",
          "Sierra Leone<br>Total Area: 2338.749 km²",
          "Burkina Faso<br>Total Area: 186.859 km²",
          "Central African Rep.<br>Total Area: 20.101 km²",
          "Congo<br>Total Area: 584.007 km²",
          "Gabon<br>Total Area: 494.291 km²",
          "Eq. Guinea<br>Total Area: 0.0 km²",
          "Zambia<br>Total Area: 14880.503 km²",
          "Malawi<br>Total Area: 18316.917 km²",
          "Mozambique<br>Total Area: 18638.056 km²",
          "eSwatini<br>Total Area: 0.0 km²",
          "Angola<br>Total Area: 528.945 km²",
          "Burundi<br>Total Area: 2405.846 km²",
          "Israel<br>Total Area: 5647.506 km²",
          "Lebanon<br>Total Area: 0.0 km²",
          "Madagascar<br>Total Area: 750.501 km²",
          "Palestine<br>Total Area: 5570.186 km²",
          "Gambia<br>Total Area: 2675.406 km²",
          "Tunisia<br>Total Area: 0.0 km²",
          "Algeria<br>Total Area: 0.0 km²",
          "Jordan<br>Total Area: 5484.295 km²",
          "United Arab Emirates<br>Total Area: 0.763 km²",
          "Qatar<br>Total Area: 0.0 km²",
          "Kuwait<br>Total Area: 0.0 km²",
          "Iraq<br>Total Area: 0.0 km²",
          "Oman<br>Total Area: 0.0 km²",
          "Vanuatu<br>Total Area: 0.0 km²",
          "Cambodia<br>Total Area: 2313.581 km²",
          "Thailand<br>Total Area: 0.921 km²",
          "Laos<br>Total Area: 51.328 km²",
          "Myanmar<br>Total Area: 279.368 km²",
          "Vietnam<br>Total Area: 28.779 km²",
          "North Korea<br>Total Area: 0.0 km²",
          "South Korea<br>Total Area: 0.0 km²",
          "Mongolia<br>Total Area: 0.052 km²",
          "India<br>Total Area: 16868.957 km²",
          "Bangladesh<br>Total Area: 4406.693 km²",
          "Bhutan<br>Total Area: 0.0 km²",
          "Nepal<br>Total Area: 28.826 km²",
          "Pakistan<br>Total Area: 1137.631 km²",
          "Afghanistan<br>Total Area: 0.0 km²",
          "Tajikistan<br>Total Area: 0.0 km²",
          "Kyrgyzstan<br>Total Area: 0.0 km²",
          "Turkmenistan<br>Total Area: 0.0 km²",
          "Iran<br>Total Area: 0.0 km²",
          "Syria<br>Total Area: 250.904 km²",
          "Armenia<br>Total Area: 0.0 km²",
          "Sweden<br>Total Area: 14.152 km²",
          "Belarus<br>Total Area: 0.0 km²",
          "Ukraine<br>Total Area: 0.023 km²",
          "Poland<br>Total Area: 0.0 km²",
          "Austria<br>Total Area: 0.0 km²",
          "Hungary<br>Total Area: 0.0 km²",
          "Moldova<br>Total Area: 0.0 km²",
          "Romania<br>Total Area: 30.26 km²",
          "Lithuania<br>Total Area: 0.12 km²",
          "Latvia<br>Total Area: 0.893 km²",
          "Estonia<br>Total Area: 5.323 km²",
          "Germany<br>Total Area: 31.598 km²",
          "Bulgaria<br>Total Area: 0.0 km²",
          "Greece<br>Total Area: 0.0 km²",
          "Turkey<br>Total Area: 0.0 km²",
          "Albania<br>Total Area: 0.058 km²",
          "Croatia<br>Total Area: 0.0 km²",
          "Switzerland<br>Total Area: 0.0 km²",
          "Luxembourg<br>Total Area: 0.0 km²",
          "Belgium<br>Total Area: 0.361 km²",
          "Netherlands<br>Total Area: 0.0 km²",
          "Portugal<br>Total Area: 142.667 km²",
          "Spain<br>Total Area: 107.049 km²",
          "Ireland<br>Total Area: 0.066 km²",
          "New Caledonia<br>Total Area: 0.0 km²",
          "Solomon Is.<br>Total Area: 0.0 km²",
          "New Zealand<br>Total Area: 0.0 km²",
          "Australia<br>Total Area: 26.536 km²",
          "Sri Lanka<br>Total Area: 12.942 km²",
          "China<br>Total Area: 38969.619 km²",
          "Taiwan<br>Total Area: 0.0 km²",
          "Italy<br>Total Area: 39.406 km²",
          "Denmark<br>Total Area: 0.971 km²",
          "United Kingdom<br>Total Area: 13.231 km²",
          "Iceland<br>Total Area: 0.0 km²",
          "Azerbaijan<br>Total Area: 0.0 km²",
          "Georgia<br>Total Area: 0.0 km²",
          "Philippines<br>Total Area: 2967.851 km²",
          "Malaysia<br>Total Area: 35.154 km²",
          "Brunei<br>Total Area: 0.0 km²",
          "Slovenia<br>Total Area: 0.0 km²",
          "Finland<br>Total Area: 0.0 km²",
          "Slovakia<br>Total Area: 0.0 km²",
          "Czechia<br>Total Area: 0.341 km²",
          "Eritrea<br>Total Area: 0.0 km²",
          "Japan<br>Total Area: 0.0 km²",
          "Paraguay<br>Total Area: 596.852 km²",
          "Yemen<br>Total Area: 0.0 km²",
          "Saudi Arabia<br>Total Area: 0.0 km²",
          "Antarctica<br>Total Area: 0.0 km²",
          "N. Cyprus<br>Total Area: 0.0 km²",
          "Cyprus<br>Total Area: 0.0 km²",
          "Morocco<br>Total Area: 0.0 km²",
          "Egypt<br>Total Area: 0.0 km²",
          "Libya<br>Total Area: 0.0 km²",
          "Ethiopia<br>Total Area: 260.708 km²",
          "Djibouti<br>Total Area: 0.0 km²",
          "Somaliland<br>Total Area: 0.0 km²",
          "Uganda<br>Total Area: 9518.838 km²",
          "Rwanda<br>Total Area: 4600.745 km²",
          "Bosnia and Herz.<br>Total Area: 0.0 km²",
          "North Macedonia<br>Total Area: 0.0 km²",
          "Serbia<br>Total Area: 0.0 km²",
          "Montenegro<br>Total Area: 0.0 km²",
          "Kosovo<br>Total Area: 0.0 km²",
          "Trinidad and Tobago<br>Total Area: 0.0 km²",
          "S. Sudan<br>Total Area: 54.078 km²"
         ],
         "type": "choropleth",
         "z": [
          0,
          95564.039,
          0,
          2221.382,
          13132.012,
          0,
          0,
          0,
          6970.612,
          286.528,
          71.847,
          17272.526,
          0,
          83455.299,
          0,
          0.013,
          25.188,
          0,
          0.125,
          0,
          0,
          0,
          0,
          0,
          3.356,
          68.082,
          0,
          4574.427,
          2401.44,
          17190.189,
          707.488,
          629.549,
          1219.066,
          18.887,
          1.217,
          91.976,
          168.396,
          0,
          120.223,
          0,
          8.779,
          0,
          0,
          16.94,
          1152.842,
          0,
          0,
          0,
          6565.55,
          5711.102,
          66.156,
          2774.979,
          0,
          0,
          0,
          52.974,
          13.041,
          1101.681,
          713.406,
          1070.473,
          565.678,
          2414.237,
          2.702,
          0,
          2338.749,
          186.859,
          20.101,
          584.007,
          494.291,
          0,
          14880.503,
          18316.917,
          18638.056,
          0,
          528.945,
          2405.846,
          5647.506,
          0,
          750.501,
          5570.186,
          2675.406,
          0,
          0,
          5484.295,
          0.763,
          0,
          0,
          0,
          0,
          0,
          2313.581,
          0.921,
          51.328,
          279.368,
          28.779,
          0,
          0,
          0.052,
          16868.957,
          4406.693,
          0,
          28.826,
          1137.631,
          0,
          0,
          0,
          0,
          0,
          250.904,
          0,
          14.152,
          0,
          0.023,
          0,
          0,
          0,
          0,
          30.26,
          0.12,
          0.893,
          5.323,
          31.598,
          0,
          0,
          0,
          0.058,
          0,
          0,
          0,
          0.361,
          0,
          142.667,
          107.049,
          0.066,
          0,
          0,
          0,
          26.536,
          12.942,
          38969.619,
          0,
          39.406,
          0.971,
          13.231,
          0,
          0,
          0,
          2967.851,
          35.154,
          0,
          0,
          0,
          0,
          0.341,
          0,
          0,
          596.852,
          0,
          0,
          0,
          0,
          0,
          0,
          0,
          0,
          260.708,
          0,
          0,
          9518.838,
          4600.745,
          0,
          0,
          0,
          0,
          0,
          0,
          54.078
         ]
        },
        {
         "cells": {
          "align": "left",
          "fill": {
           "color": [
            "rgb(237, 217, 163)",
            "rgb(246, 169, 122)",
            "rgb(192, 54, 157)",
            "rgb(135, 44, 162)",
            "rgb(135, 44, 162)",
            "rgb(135, 44, 162)",
            "rgb(135, 44, 162)",
            "rgb(135, 44, 162)",
            "rgb(75, 41, 145)",
            "rgb(75, 41, 145)",
            "rgb(75, 41, 145)",
            "rgb(75, 41, 145)",
            "rgb(75, 41, 145)",
            "rgb(75, 41, 145)",
            "rgb(75, 41, 145)",
            "rgb(75, 41, 145)",
            "rgb(75, 41, 145)",
            "rgb(75, 41, 145)",
            "rgb(75, 41, 145)",
            "rgb(75, 41, 145)",
            "rgb(75, 41, 145)",
            "rgb(75, 41, 145)",
            "rgb(75, 41, 145)",
            "rgb(75, 41, 145)",
            "rgb(75, 41, 145)",
            "rgb(75, 41, 145)",
            "rgb(75, 41, 145)",
            "rgb(75, 41, 145)",
            "rgb(75, 41, 145)",
            "rgb(75, 41, 145)",
            "rgb(75, 41, 145)",
            "rgb(75, 41, 145)",
            "rgb(75, 41, 145)",
            "rgb(75, 41, 145)",
            "rgb(75, 41, 145)",
            "rgb(75, 41, 145)",
            "rgb(75, 41, 145)",
            "rgb(75, 41, 145)",
            "rgb(75, 41, 145)",
            "rgb(75, 41, 145)",
            "rgb(75, 41, 145)",
            "rgb(75, 41, 145)",
            "rgb(75, 41, 145)",
            "rgb(75, 41, 145)",
            "rgb(75, 41, 145)",
            "rgb(75, 41, 145)",
            "rgb(75, 41, 145)",
            "rgb(75, 41, 145)",
            "rgb(75, 41, 145)",
            "rgb(75, 41, 145)",
            "rgb(75, 41, 145)",
            "rgb(75, 41, 145)",
            "rgb(75, 41, 145)",
            "rgb(75, 41, 145)",
            "rgb(75, 41, 145)",
            "rgb(75, 41, 145)",
            "rgb(75, 41, 145)",
            "rgb(75, 41, 145)",
            "rgb(75, 41, 145)",
            "rgb(75, 41, 145)",
            "rgb(75, 41, 145)",
            "rgb(75, 41, 145)",
            "rgb(75, 41, 145)",
            "rgb(75, 41, 145)",
            "rgb(75, 41, 145)",
            "rgb(75, 41, 145)",
            "rgb(75, 41, 145)",
            "rgb(75, 41, 145)",
            "rgb(75, 41, 145)",
            "rgb(75, 41, 145)",
            "rgb(75, 41, 145)",
            "rgb(75, 41, 145)",
            "rgb(75, 41, 145)",
            "rgb(75, 41, 145)",
            "rgb(75, 41, 145)",
            "rgb(75, 41, 145)",
            "rgb(75, 41, 145)",
            "rgb(75, 41, 145)",
            "rgb(75, 41, 145)",
            "rgb(75, 41, 145)",
            "rgb(75, 41, 145)",
            "rgb(75, 41, 145)",
            "rgb(75, 41, 145)",
            "rgb(75, 41, 145)",
            "rgb(75, 41, 145)",
            "rgb(75, 41, 145)",
            "rgb(75, 41, 145)",
            "rgb(75, 41, 145)",
            "rgb(75, 41, 145)",
            "rgb(75, 41, 145)",
            "rgb(75, 41, 145)",
            "rgb(75, 41, 145)",
            "rgb(75, 41, 145)",
            "rgb(75, 41, 145)",
            "rgb(75, 41, 145)",
            "rgb(75, 41, 145)",
            "rgb(75, 41, 145)",
            "rgb(75, 41, 145)",
            "rgb(75, 41, 145)",
            "rgb(75, 41, 145)",
            "rgb(75, 41, 145)",
            "rgb(75, 41, 145)",
            "rgb(75, 41, 145)",
            "rgb(75, 41, 145)",
            "rgb(75, 41, 145)",
            "rgb(75, 41, 145)",
            "rgb(75, 41, 145)",
            "rgb(75, 41, 145)",
            "rgb(75, 41, 145)",
            "rgb(75, 41, 145)",
            "rgb(75, 41, 145)",
            "rgb(75, 41, 145)",
            "rgb(75, 41, 145)",
            "rgb(75, 41, 145)",
            "rgb(75, 41, 145)",
            "rgb(75, 41, 145)",
            "rgb(75, 41, 145)",
            "rgb(75, 41, 145)",
            "rgb(75, 41, 145)",
            "rgb(75, 41, 145)",
            "rgb(75, 41, 145)",
            "rgb(75, 41, 145)",
            "rgb(75, 41, 145)",
            "rgb(75, 41, 145)",
            "rgb(75, 41, 145)",
            "rgb(75, 41, 145)",
            "rgb(75, 41, 145)",
            "rgb(75, 41, 145)",
            "rgb(75, 41, 145)",
            "rgb(75, 41, 145)",
            "rgb(75, 41, 145)",
            "rgb(75, 41, 145)",
            "rgb(75, 41, 145)",
            "rgb(75, 41, 145)",
            "rgb(75, 41, 145)",
            "rgb(75, 41, 145)",
            "rgb(75, 41, 145)",
            "rgb(75, 41, 145)",
            "rgb(75, 41, 145)",
            "rgb(75, 41, 145)",
            "rgb(75, 41, 145)",
            "rgb(75, 41, 145)",
            "rgb(75, 41, 145)",
            "rgb(75, 41, 145)",
            "rgb(75, 41, 145)",
            "rgb(75, 41, 145)",
            "rgb(75, 41, 145)",
            "rgb(75, 41, 145)",
            "rgb(75, 41, 145)",
            "rgb(75, 41, 145)",
            "rgb(75, 41, 145)",
            "rgb(75, 41, 145)",
            "rgb(75, 41, 145)",
            "rgb(75, 41, 145)",
            "rgb(75, 41, 145)",
            "rgb(75, 41, 145)",
            "rgb(75, 41, 145)",
            "rgb(75, 41, 145)",
            "rgb(75, 41, 145)",
            "rgb(75, 41, 145)",
            "rgb(75, 41, 145)",
            "rgb(75, 41, 145)",
            "rgb(75, 41, 145)",
            "rgb(75, 41, 145)",
            "rgb(75, 41, 145)",
            "rgb(75, 41, 145)",
            "rgb(75, 41, 145)",
            "rgb(75, 41, 145)",
            "rgb(75, 41, 145)",
            "rgb(75, 41, 145)",
            "rgb(75, 41, 145)",
            "rgb(75, 41, 145)",
            "rgb(75, 41, 145)",
            "rgb(75, 41, 145)",
            "rgb(75, 41, 145)",
            "rgb(75, 41, 145)",
            "rgb(75, 41, 145)"
           ]
          },
          "values": [
           [
            "Tanzania",
            "Kenya",
            "China",
            "Mozambique",
            "Malawi",
            "Dem. Rep. Congo",
            "Brazil",
            "India",
            "Zambia",
            "United States of America",
            "Uganda",
            "Indonesia",
            "Zimbabwe",
            "Botswana",
            "Israel",
            "Palestine",
            "Jordan",
            "Rwanda",
            "Mexico",
            "Bangladesh",
            "Philippines",
            "Senegal",
            "Gambia",
            "Guinea",
            "Burundi",
            "Uruguay",
            "Sierra Leone",
            "Cambodia",
            "Canada",
            "Colombia",
            "Ecuador",
            "Pakistan",
            "Cameroon",
            "Ghana",
            "Madagascar",
            "Togo",
            "Bolivia",
            "Peru",
            "Paraguay",
            "Congo",
            "Côte d'Ivoire",
            "Angola",
            "Gabon",
            "Argentina",
            "Myanmar",
            "Ethiopia",
            "Syria",
            "Burkina Faso",
            "Honduras",
            "Portugal",
            "Guatemala",
            "Spain",
            "Nicaragua",
            "Chile",
            "South Africa",
            "Namibia",
            "S. Sudan",
            "Niger",
            "Laos",
            "Italy",
            "Malaysia",
            "Germany",
            "Romania",
            "Nepal",
            "Vietnam",
            "Australia",
            "Haiti",
            "Central African Rep.",
            "Panama",
            "France",
            "Sweden",
            "United Kingdom",
            "Nigeria",
            "Sri Lanka",
            "Venezuela",
            "Estonia",
            "Timor-Leste",
            "Guinea-Bissau",
            "Costa Rica",
            "Denmark",
            "Thailand",
            "Latvia",
            "United Arab Emirates",
            "Belgium",
            "Czechia",
            "Russia",
            "Lithuania",
            "Ireland",
            "Albania",
            "Mongolia",
            "Ukraine",
            "Chad",
            "New Caledonia",
            "Solomon Is.",
            "Bosnia and Herz.",
            "Brunei",
            "North Macedonia",
            "Serbia",
            "Netherlands",
            "Montenegro",
            "Kosovo",
            "Trinidad and Tobago",
            "Luxembourg",
            "Switzerland",
            "New Zealand",
            "Egypt",
            "Somaliland",
            "Yemen",
            "Finland",
            "Slovakia",
            "Georgia",
            "Azerbaijan",
            "Iceland",
            "Eritrea",
            "Japan",
            "Saudi Arabia",
            "Djibouti",
            "Antarctica",
            "N. Cyprus",
            "Cyprus",
            "Morocco",
            "Taiwan",
            "Slovenia",
            "Libya",
            "Croatia",
            "Fiji",
            "Turkey",
            "Fr. S. Antarctic Lands",
            "Mauritania",
            "Mali",
            "Cuba",
            "Jamaica",
            "Puerto Rico",
            "Suriname",
            "Guyana",
            "Belize",
            "El Salvador",
            "Lesotho",
            "Greenland",
            "Liberia",
            "Norway",
            "Falkland Is.",
            "Bahamas",
            "Dominican Rep.",
            "Sudan",
            "Somalia",
            "Papua New Guinea",
            "Uzbekistan",
            "Kazakhstan",
            "W. Sahara",
            "Benin",
            "Eq. Guinea",
            "Greece",
            "Tajikistan",
            "Bulgaria",
            "Moldova",
            "Hungary",
            "Austria",
            "Poland",
            "Belarus",
            "Armenia",
            "Iran",
            "Turkmenistan",
            "Kyrgyzstan",
            "Afghanistan",
            "eSwatini",
            "Bhutan",
            "South Korea",
            "North Korea",
            "Vanuatu",
            "Iraq",
            "Kuwait",
            "Qatar",
            "Algeria",
            "Tunisia",
            "Lebanon",
            "Oman"
           ],
           [
            95564.039,
            83455.299,
            38969.619,
            18638.056,
            18316.917,
            17272.526,
            17190.189,
            16868.957,
            14880.503,
            13132.012,
            9518.838,
            6970.612,
            6565.55,
            5711.102,
            5647.506,
            5570.186,
            5484.295,
            4600.745,
            4574.427,
            4406.693,
            2967.851,
            2774.979,
            2675.406,
            2414.237,
            2405.846,
            2401.44,
            2338.749,
            2313.581,
            2221.382,
            1219.066,
            1152.842,
            1137.631,
            1101.681,
            1070.473,
            750.501,
            713.406,
            707.488,
            629.549,
            596.852,
            584.007,
            565.678,
            528.945,
            494.291,
            286.528,
            279.368,
            260.708,
            250.904,
            186.859,
            168.396,
            142.667,
            120.223,
            107.049,
            91.976,
            71.847,
            68.082,
            66.156,
            54.078,
            52.974,
            51.328,
            39.406,
            35.154,
            31.598,
            30.26,
            28.826,
            28.779,
            26.536,
            25.188,
            20.101,
            18.887,
            16.94,
            14.152,
            13.231,
            13.041,
            12.942,
            8.779,
            5.323,
            3.356,
            2.702,
            1.217,
            0.971,
            0.921,
            0.893,
            0.763,
            0.361,
            0.341,
            0.125,
            0.12,
            0.066,
            0.058,
            0.052,
            0.023,
            0.013,
            0,
            0,
            0,
            0,
            0,
            0,
            0,
            0,
            0,
            0,
            0,
            0,
            0,
            0,
            0,
            0,
            0,
            0,
            0,
            0,
            0,
            0,
            0,
            0,
            0,
            0,
            0,
            0,
            0,
            0,
            0,
            0,
            0,
            0,
            0,
            0,
            0,
            0,
            0,
            0,
            0,
            0,
            0,
            0,
            0,
            0,
            0,
            0,
            0,
            0,
            0,
            0,
            0,
            0,
            0,
            0,
            0,
            0,
            0,
            0,
            0,
            0,
            0,
            0,
            0,
            0,
            0,
            0,
            0,
            0,
            0,
            0,
            0,
            0,
            0,
            0,
            0,
            0,
            0,
            0,
            0,
            0,
            0,
            0,
            0
           ]
          ]
         },
         "domain": {
          "x": [
           0.8200000000000001,
           1
          ],
          "y": [
           0,
           1
          ]
         },
         "header": {
          "align": "left",
          "fill": {
           "color": "#440154"
          },
          "font": {
           "color": "white"
          },
          "values": [
           "Country",
           "Total Area Covered (km²)"
          ]
         },
         "type": "table"
        }
       ],
       "layout": {
        "geo": {
         "domain": {
          "x": [
           0,
           0.7200000000000001
          ],
          "y": [
           0,
           1
          ]
         }
        },
        "height": 600,
        "margin": {
         "b": 10,
         "l": 10,
         "r": 10,
         "t": 50
        },
        "paper_bgcolor": "lightgrey",
        "showlegend": false,
        "template": {
         "data": {
          "bar": [
           {
            "error_x": {
             "color": "#2a3f5f"
            },
            "error_y": {
             "color": "#2a3f5f"
            },
            "marker": {
             "line": {
              "color": "#E5ECF6",
              "width": 0.5
             }
            },
            "type": "bar"
           }
          ],
          "barpolar": [
           {
            "marker": {
             "line": {
              "color": "#E5ECF6",
              "width": 0.5
             }
            },
            "type": "barpolar"
           }
          ],
          "carpet": [
           {
            "aaxis": {
             "endlinecolor": "#2a3f5f",
             "gridcolor": "white",
             "linecolor": "white",
             "minorgridcolor": "white",
             "startlinecolor": "#2a3f5f"
            },
            "baxis": {
             "endlinecolor": "#2a3f5f",
             "gridcolor": "white",
             "linecolor": "white",
             "minorgridcolor": "white",
             "startlinecolor": "#2a3f5f"
            },
            "type": "carpet"
           }
          ],
          "choropleth": [
           {
            "colorbar": {
             "outlinewidth": 0,
             "ticks": ""
            },
            "type": "choropleth"
           }
          ],
          "contour": [
           {
            "colorbar": {
             "outlinewidth": 0,
             "ticks": ""
            },
            "colorscale": [
             [
              0,
              "#0d0887"
             ],
             [
              0.1111111111111111,
              "#46039f"
             ],
             [
              0.2222222222222222,
              "#7201a8"
             ],
             [
              0.3333333333333333,
              "#9c179e"
             ],
             [
              0.4444444444444444,
              "#bd3786"
             ],
             [
              0.5555555555555556,
              "#d8576b"
             ],
             [
              0.6666666666666666,
              "#ed7953"
             ],
             [
              0.7777777777777778,
              "#fb9f3a"
             ],
             [
              0.8888888888888888,
              "#fdca26"
             ],
             [
              1,
              "#f0f921"
             ]
            ],
            "type": "contour"
           }
          ],
          "contourcarpet": [
           {
            "colorbar": {
             "outlinewidth": 0,
             "ticks": ""
            },
            "type": "contourcarpet"
           }
          ],
          "heatmap": [
           {
            "colorbar": {
             "outlinewidth": 0,
             "ticks": ""
            },
            "colorscale": [
             [
              0,
              "#0d0887"
             ],
             [
              0.1111111111111111,
              "#46039f"
             ],
             [
              0.2222222222222222,
              "#7201a8"
             ],
             [
              0.3333333333333333,
              "#9c179e"
             ],
             [
              0.4444444444444444,
              "#bd3786"
             ],
             [
              0.5555555555555556,
              "#d8576b"
             ],
             [
              0.6666666666666666,
              "#ed7953"
             ],
             [
              0.7777777777777778,
              "#fb9f3a"
             ],
             [
              0.8888888888888888,
              "#fdca26"
             ],
             [
              1,
              "#f0f921"
             ]
            ],
            "type": "heatmap"
           }
          ],
          "heatmapgl": [
           {
            "colorbar": {
             "outlinewidth": 0,
             "ticks": ""
            },
            "colorscale": [
             [
              0,
              "#0d0887"
             ],
             [
              0.1111111111111111,
              "#46039f"
             ],
             [
              0.2222222222222222,
              "#7201a8"
             ],
             [
              0.3333333333333333,
              "#9c179e"
             ],
             [
              0.4444444444444444,
              "#bd3786"
             ],
             [
              0.5555555555555556,
              "#d8576b"
             ],
             [
              0.6666666666666666,
              "#ed7953"
             ],
             [
              0.7777777777777778,
              "#fb9f3a"
             ],
             [
              0.8888888888888888,
              "#fdca26"
             ],
             [
              1,
              "#f0f921"
             ]
            ],
            "type": "heatmapgl"
           }
          ],
          "histogram": [
           {
            "marker": {
             "colorbar": {
              "outlinewidth": 0,
              "ticks": ""
             }
            },
            "type": "histogram"
           }
          ],
          "histogram2d": [
           {
            "colorbar": {
             "outlinewidth": 0,
             "ticks": ""
            },
            "colorscale": [
             [
              0,
              "#0d0887"
             ],
             [
              0.1111111111111111,
              "#46039f"
             ],
             [
              0.2222222222222222,
              "#7201a8"
             ],
             [
              0.3333333333333333,
              "#9c179e"
             ],
             [
              0.4444444444444444,
              "#bd3786"
             ],
             [
              0.5555555555555556,
              "#d8576b"
             ],
             [
              0.6666666666666666,
              "#ed7953"
             ],
             [
              0.7777777777777778,
              "#fb9f3a"
             ],
             [
              0.8888888888888888,
              "#fdca26"
             ],
             [
              1,
              "#f0f921"
             ]
            ],
            "type": "histogram2d"
           }
          ],
          "histogram2dcontour": [
           {
            "colorbar": {
             "outlinewidth": 0,
             "ticks": ""
            },
            "colorscale": [
             [
              0,
              "#0d0887"
             ],
             [
              0.1111111111111111,
              "#46039f"
             ],
             [
              0.2222222222222222,
              "#7201a8"
             ],
             [
              0.3333333333333333,
              "#9c179e"
             ],
             [
              0.4444444444444444,
              "#bd3786"
             ],
             [
              0.5555555555555556,
              "#d8576b"
             ],
             [
              0.6666666666666666,
              "#ed7953"
             ],
             [
              0.7777777777777778,
              "#fb9f3a"
             ],
             [
              0.8888888888888888,
              "#fdca26"
             ],
             [
              1,
              "#f0f921"
             ]
            ],
            "type": "histogram2dcontour"
           }
          ],
          "mesh3d": [
           {
            "colorbar": {
             "outlinewidth": 0,
             "ticks": ""
            },
            "type": "mesh3d"
           }
          ],
          "parcoords": [
           {
            "line": {
             "colorbar": {
              "outlinewidth": 0,
              "ticks": ""
             }
            },
            "type": "parcoords"
           }
          ],
          "pie": [
           {
            "automargin": true,
            "type": "pie"
           }
          ],
          "scatter": [
           {
            "marker": {
             "colorbar": {
              "outlinewidth": 0,
              "ticks": ""
             }
            },
            "type": "scatter"
           }
          ],
          "scatter3d": [
           {
            "line": {
             "colorbar": {
              "outlinewidth": 0,
              "ticks": ""
             }
            },
            "marker": {
             "colorbar": {
              "outlinewidth": 0,
              "ticks": ""
             }
            },
            "type": "scatter3d"
           }
          ],
          "scattercarpet": [
           {
            "marker": {
             "colorbar": {
              "outlinewidth": 0,
              "ticks": ""
             }
            },
            "type": "scattercarpet"
           }
          ],
          "scattergeo": [
           {
            "marker": {
             "colorbar": {
              "outlinewidth": 0,
              "ticks": ""
             }
            },
            "type": "scattergeo"
           }
          ],
          "scattergl": [
           {
            "marker": {
             "colorbar": {
              "outlinewidth": 0,
              "ticks": ""
             }
            },
            "type": "scattergl"
           }
          ],
          "scattermapbox": [
           {
            "marker": {
             "colorbar": {
              "outlinewidth": 0,
              "ticks": ""
             }
            },
            "type": "scattermapbox"
           }
          ],
          "scatterpolar": [
           {
            "marker": {
             "colorbar": {
              "outlinewidth": 0,
              "ticks": ""
             }
            },
            "type": "scatterpolar"
           }
          ],
          "scatterpolargl": [
           {
            "marker": {
             "colorbar": {
              "outlinewidth": 0,
              "ticks": ""
             }
            },
            "type": "scatterpolargl"
           }
          ],
          "scatterternary": [
           {
            "marker": {
             "colorbar": {
              "outlinewidth": 0,
              "ticks": ""
             }
            },
            "type": "scatterternary"
           }
          ],
          "surface": [
           {
            "colorbar": {
             "outlinewidth": 0,
             "ticks": ""
            },
            "colorscale": [
             [
              0,
              "#0d0887"
             ],
             [
              0.1111111111111111,
              "#46039f"
             ],
             [
              0.2222222222222222,
              "#7201a8"
             ],
             [
              0.3333333333333333,
              "#9c179e"
             ],
             [
              0.4444444444444444,
              "#bd3786"
             ],
             [
              0.5555555555555556,
              "#d8576b"
             ],
             [
              0.6666666666666666,
              "#ed7953"
             ],
             [
              0.7777777777777778,
              "#fb9f3a"
             ],
             [
              0.8888888888888888,
              "#fdca26"
             ],
             [
              1,
              "#f0f921"
             ]
            ],
            "type": "surface"
           }
          ],
          "table": [
           {
            "cells": {
             "fill": {
              "color": "#EBF0F8"
             },
             "line": {
              "color": "white"
             }
            },
            "header": {
             "fill": {
              "color": "#C8D4E3"
             },
             "line": {
              "color": "white"
             }
            },
            "type": "table"
           }
          ]
         },
         "layout": {
          "annotationdefaults": {
           "arrowcolor": "#2a3f5f",
           "arrowhead": 0,
           "arrowwidth": 1
          },
          "autotypenumbers": "strict",
          "coloraxis": {
           "colorbar": {
            "outlinewidth": 0,
            "ticks": ""
           }
          },
          "colorscale": {
           "diverging": [
            [
             0,
             "#8e0152"
            ],
            [
             0.1,
             "#c51b7d"
            ],
            [
             0.2,
             "#de77ae"
            ],
            [
             0.3,
             "#f1b6da"
            ],
            [
             0.4,
             "#fde0ef"
            ],
            [
             0.5,
             "#f7f7f7"
            ],
            [
             0.6,
             "#e6f5d0"
            ],
            [
             0.7,
             "#b8e186"
            ],
            [
             0.8,
             "#7fbc41"
            ],
            [
             0.9,
             "#4d9221"
            ],
            [
             1,
             "#276419"
            ]
           ],
           "sequential": [
            [
             0,
             "#0d0887"
            ],
            [
             0.1111111111111111,
             "#46039f"
            ],
            [
             0.2222222222222222,
             "#7201a8"
            ],
            [
             0.3333333333333333,
             "#9c179e"
            ],
            [
             0.4444444444444444,
             "#bd3786"
            ],
            [
             0.5555555555555556,
             "#d8576b"
            ],
            [
             0.6666666666666666,
             "#ed7953"
            ],
            [
             0.7777777777777778,
             "#fb9f3a"
            ],
            [
             0.8888888888888888,
             "#fdca26"
            ],
            [
             1,
             "#f0f921"
            ]
           ],
           "sequentialminus": [
            [
             0,
             "#0d0887"
            ],
            [
             0.1111111111111111,
             "#46039f"
            ],
            [
             0.2222222222222222,
             "#7201a8"
            ],
            [
             0.3333333333333333,
             "#9c179e"
            ],
            [
             0.4444444444444444,
             "#bd3786"
            ],
            [
             0.5555555555555556,
             "#d8576b"
            ],
            [
             0.6666666666666666,
             "#ed7953"
            ],
            [
             0.7777777777777778,
             "#fb9f3a"
            ],
            [
             0.8888888888888888,
             "#fdca26"
            ],
            [
             1,
             "#f0f921"
            ]
           ]
          },
          "colorway": [
           "#636efa",
           "#EF553B",
           "#00cc96",
           "#ab63fa",
           "#FFA15A",
           "#19d3f3",
           "#FF6692",
           "#B6E880",
           "#FF97FF",
           "#FECB52"
          ],
          "font": {
           "color": "#2a3f5f"
          },
          "geo": {
           "bgcolor": "white",
           "lakecolor": "white",
           "landcolor": "#E5ECF6",
           "showlakes": true,
           "showland": true,
           "subunitcolor": "white"
          },
          "hoverlabel": {
           "align": "left"
          },
          "hovermode": "closest",
          "mapbox": {
           "style": "light"
          },
          "paper_bgcolor": "white",
          "plot_bgcolor": "#E5ECF6",
          "polar": {
           "angularaxis": {
            "gridcolor": "white",
            "linecolor": "white",
            "ticks": ""
           },
           "bgcolor": "#E5ECF6",
           "radialaxis": {
            "gridcolor": "white",
            "linecolor": "white",
            "ticks": ""
           }
          },
          "scene": {
           "xaxis": {
            "backgroundcolor": "#E5ECF6",
            "gridcolor": "white",
            "gridwidth": 2,
            "linecolor": "white",
            "showbackground": true,
            "ticks": "",
            "zerolinecolor": "white"
           },
           "yaxis": {
            "backgroundcolor": "#E5ECF6",
            "gridcolor": "white",
            "gridwidth": 2,
            "linecolor": "white",
            "showbackground": true,
            "ticks": "",
            "zerolinecolor": "white"
           },
           "zaxis": {
            "backgroundcolor": "#E5ECF6",
            "gridcolor": "white",
            "gridwidth": 2,
            "linecolor": "white",
            "showbackground": true,
            "ticks": "",
            "zerolinecolor": "white"
           }
          },
          "shapedefaults": {
           "line": {
            "color": "#2a3f5f"
           }
          },
          "ternary": {
           "aaxis": {
            "gridcolor": "white",
            "linecolor": "white",
            "ticks": ""
           },
           "baxis": {
            "gridcolor": "white",
            "linecolor": "white",
            "ticks": ""
           },
           "bgcolor": "#E5ECF6",
           "caxis": {
            "gridcolor": "white",
            "linecolor": "white",
            "ticks": ""
           }
          },
          "title": {
           "x": 0.05
          },
          "xaxis": {
           "automargin": true,
           "gridcolor": "white",
           "linecolor": "white",
           "ticks": "",
           "title": {
            "standoff": 15
           },
           "zerolinecolor": "white",
           "zerolinewidth": 2
          },
          "yaxis": {
           "automargin": true,
           "gridcolor": "white",
           "linecolor": "white",
           "ticks": "",
           "title": {
            "standoff": 15
           },
           "zerolinecolor": "white",
           "zerolinewidth": 2
          }
         }
        },
        "title": {
         "text": "Global Reforestation Area Covered (km²) with Data Table",
         "x": 0.5
        },
        "width": 1200
       }
      }
     },
     "metadata": {},
     "output_type": "display_data"
    }
   ],
   "source": [
    "\n",
    "world_with_area_covered['total_area_km2'] = world_with_area_covered['total_area_km2'].round(3)\n",
    "\n",
    "fig = make_subplots(rows=1, cols=2, column_widths=[0.8, 0.2], specs=[[{\"type\": \"choropleth\"}, {\"type\": \"table\"}]])\n",
    "\n",
    "\n",
    "world_with_area_covered['hover_text'] = world_with_area_covered['name'] + '<br>Total Area: ' + world_with_area_covered['total_area_km2'].astype(str) + ' km²'\n",
    "\n",
    "fig.add_trace(\n",
    "    go.Choropleth(\n",
    "        locations=world_with_area_covered['iso_a3'],\n",
    "        z=world_with_area_covered['total_area_km2'],\n",
    "        hoverinfo='text',\n",
    "        text=world_with_area_covered['hover_text'], \n",
    "        colorscale=px.colors.sequential.Agsunset,\n",
    "        colorbar_title=\"Total Area<br>km²\",\n",
    "    ),\n",
    "    row=1, col=1\n",
    ")\n",
    "\n",
    "\n",
    "table_data = world_with_area_covered[['name', 'total_area_km2']].sort_values(by='total_area_km2', ascending=False)\n",
    "\n",
    "\n",
    "def map_value_to_color(value, min_value, max_value, colorscale):\n",
    "    normalized = (value - min_value) / (max_value - min_value)\n",
    "    index = min(int(normalized * (len(colorscale) - 1)), len(colorscale) - 1)\n",
    "    return colorscale[index]\n",
    "\n",
    "\n",
    "min_area = table_data['total_area_km2'].min()\n",
    "max_area = table_data['total_area_km2'].max()\n",
    "\n",
    "\n",
    "colorscale = px.colors.sequential.Agsunset\n",
    "\n",
    "\n",
    "row_colors = [map_value_to_color(value, min_area, max_area, colorscale) for value in table_data['total_area_km2']]\n",
    "\n",
    "fig.add_trace(\n",
    "    go.Table(\n",
    "        header=dict(values=[\"Country\", \"Total Area Covered (km²)\"],\n",
    "                    fill_color='#440154', \n",
    "                    font=dict(color='white'),\n",
    "                    align='left'),\n",
    "        cells=dict(values=[table_data.name, table_data.total_area_km2],\n",
    "                   fill_color=row_colors,  \n",
    "                   align='left')),\n",
    "    row=1, col=2\n",
    ")\n",
    "\n",
    "\n",
    "fig.update_layout(\n",
    "    title_text=\"Global Reforestation Area Covered (km²) with Data Table\",\n",
    "    showlegend=False,\n",
    "    paper_bgcolor=\"lightgrey\",\n",
    "    title_x=0.5,\n",
    "    width=1200,\n",
    "    height=600,\n",
    "    margin=dict(l=10, r=10, t=50, b=10)\n",
    ")\n",
    "\n",
    "\n",
    "fig.show()"
   ]
  },
  {
   "cell_type": "code",
   "execution_count": 64,
   "metadata": {},
   "outputs": [
    {
     "data": {
      "application/vnd.plotly.v1+json": {
       "config": {
        "plotlyServerURL": "https://plot.ly"
       },
       "data": [
        {
         "coloraxis": "coloraxis",
         "geo": "geo",
         "hovertemplate": "<b>%{hovertext}</b><br><br>iso_a3=%{location}<br>total_area_km2=%{z}<extra></extra>",
         "hovertext": [
          "Fiji",
          "Tanzania",
          "W. Sahara",
          "Canada",
          "United States of America",
          "Kazakhstan",
          "Uzbekistan",
          "Papua New Guinea",
          "Indonesia",
          "Argentina",
          "Chile",
          "Dem. Rep. Congo",
          "Somalia",
          "Kenya",
          "Sudan",
          "Chad",
          "Haiti",
          "Dominican Rep.",
          "Russia",
          "Bahamas",
          "Falkland Is.",
          "Norway",
          "Greenland",
          "Fr. S. Antarctic Lands",
          "Timor-Leste",
          "South Africa",
          "Lesotho",
          "Mexico",
          "Uruguay",
          "Brazil",
          "Bolivia",
          "Peru",
          "Colombia",
          "Panama",
          "Costa Rica",
          "Nicaragua",
          "Honduras",
          "El Salvador",
          "Guatemala",
          "Belize",
          "Venezuela",
          "Guyana",
          "Suriname",
          "France",
          "Ecuador",
          "Puerto Rico",
          "Jamaica",
          "Cuba",
          "Zimbabwe",
          "Botswana",
          "Namibia",
          "Senegal",
          "Mali",
          "Mauritania",
          "Benin",
          "Niger",
          "Nigeria",
          "Cameroon",
          "Togo",
          "Ghana",
          "Côte d'Ivoire",
          "Guinea",
          "Guinea-Bissau",
          "Liberia",
          "Sierra Leone",
          "Burkina Faso",
          "Central African Rep.",
          "Congo",
          "Gabon",
          "Eq. Guinea",
          "Zambia",
          "Malawi",
          "Mozambique",
          "eSwatini",
          "Angola",
          "Burundi",
          "Israel",
          "Lebanon",
          "Madagascar",
          "Palestine",
          "Gambia",
          "Tunisia",
          "Algeria",
          "Jordan",
          "United Arab Emirates",
          "Qatar",
          "Kuwait",
          "Iraq",
          "Oman",
          "Vanuatu",
          "Cambodia",
          "Thailand",
          "Laos",
          "Myanmar",
          "Vietnam",
          "North Korea",
          "South Korea",
          "Mongolia",
          "India",
          "Bangladesh",
          "Bhutan",
          "Nepal",
          "Pakistan",
          "Afghanistan",
          "Tajikistan",
          "Kyrgyzstan",
          "Turkmenistan",
          "Iran",
          "Syria",
          "Armenia",
          "Sweden",
          "Belarus",
          "Ukraine",
          "Poland",
          "Austria",
          "Hungary",
          "Moldova",
          "Romania",
          "Lithuania",
          "Latvia",
          "Estonia",
          "Germany",
          "Bulgaria",
          "Greece",
          "Turkey",
          "Albania",
          "Croatia",
          "Switzerland",
          "Luxembourg",
          "Belgium",
          "Netherlands",
          "Portugal",
          "Spain",
          "Ireland",
          "New Caledonia",
          "Solomon Is.",
          "New Zealand",
          "Australia",
          "Sri Lanka",
          "China",
          "Taiwan",
          "Italy",
          "Denmark",
          "United Kingdom",
          "Iceland",
          "Azerbaijan",
          "Georgia",
          "Philippines",
          "Malaysia",
          "Brunei",
          "Slovenia",
          "Finland",
          "Slovakia",
          "Czechia",
          "Eritrea",
          "Japan",
          "Paraguay",
          "Yemen",
          "Saudi Arabia",
          "Antarctica",
          "N. Cyprus",
          "Cyprus",
          "Morocco",
          "Egypt",
          "Libya",
          "Ethiopia",
          "Djibouti",
          "Somaliland",
          "Uganda",
          "Rwanda",
          "Bosnia and Herz.",
          "North Macedonia",
          "Serbia",
          "Montenegro",
          "Kosovo",
          "Trinidad and Tobago",
          "S. Sudan"
         ],
         "locations": [
          "FJI",
          "TZA",
          "ESH",
          "CAN",
          "USA",
          "KAZ",
          "UZB",
          "PNG",
          "IDN",
          "ARG",
          "CHL",
          "COD",
          "SOM",
          "KEN",
          "SDN",
          "TCD",
          "HTI",
          "DOM",
          "RUS",
          "BHS",
          "FLK",
          "NOR",
          "GRL",
          "ATF",
          "TLS",
          "ZAF",
          "LSO",
          "MEX",
          "URY",
          "BRA",
          "BOL",
          "PER",
          "COL",
          "PAN",
          "CRI",
          "NIC",
          "HND",
          "SLV",
          "GTM",
          "BLZ",
          "VEN",
          "GUY",
          "SUR",
          "FRA",
          "ECU",
          "PRI",
          "JAM",
          "CUB",
          "ZWE",
          "BWA",
          "NAM",
          "SEN",
          "MLI",
          "MRT",
          "BEN",
          "NER",
          "NGA",
          "CMR",
          "TGO",
          "GHA",
          "CIV",
          "GIN",
          "GNB",
          "LBR",
          "SLE",
          "BFA",
          "CAF",
          "COG",
          "GAB",
          "GNQ",
          "ZMB",
          "MWI",
          "MOZ",
          "SWZ",
          "AGO",
          "BDI",
          "ISR",
          "LBN",
          "MDG",
          "PSE",
          "GMB",
          "TUN",
          "DZA",
          "JOR",
          "ARE",
          "QAT",
          "KWT",
          "IRQ",
          "OMN",
          "VUT",
          "KHM",
          "THA",
          "LAO",
          "MMR",
          "VNM",
          "PRK",
          "KOR",
          "MNG",
          "IND",
          "BGD",
          "BTN",
          "NPL",
          "PAK",
          "AFG",
          "TJK",
          "KGZ",
          "TKM",
          "IRN",
          "SYR",
          "ARM",
          "SWE",
          "BLR",
          "UKR",
          "POL",
          "AUT",
          "HUN",
          "MDA",
          "ROU",
          "LTU",
          "LVA",
          "EST",
          "DEU",
          "BGR",
          "GRC",
          "TUR",
          "ALB",
          "HRV",
          "CHE",
          "LUX",
          "BEL",
          "NLD",
          "PRT",
          "ESP",
          "IRL",
          "NCL",
          "SLB",
          "NZL",
          "AUS",
          "LKA",
          "CHN",
          "TWN",
          "ITA",
          "DNK",
          "GBR",
          "ISL",
          "AZE",
          "GEO",
          "PHL",
          "MYS",
          "BRN",
          "SVN",
          "FIN",
          "SVK",
          "CZE",
          "ERI",
          "JPN",
          "PRY",
          "YEM",
          "SAU",
          "ATA",
          "CYN",
          "CYP",
          "MAR",
          "EGY",
          "LBY",
          "ETH",
          "DJI",
          "SOL",
          "UGA",
          "RWA",
          "BIH",
          "MKD",
          "SRB",
          "MNE",
          "-99",
          "TTO",
          "SSD"
         ],
         "name": "",
         "type": "choropleth",
         "z": [
          0,
          95564.0389185989,
          0,
          2221.3819208197606,
          13132.011780754996,
          0,
          0,
          0,
          6970.612309511494,
          286.5282006184065,
          71.84709690703328,
          17272.52641278412,
          0,
          83455.29911481429,
          0,
          0.012980567049990899,
          25.188385423297795,
          0,
          0.1250475163822221,
          0,
          0,
          0,
          0,
          0,
          3.3562611646972718,
          68.0819304388643,
          0,
          4574.426893560819,
          2401.439948038197,
          17190.188932703728,
          707.4884466993541,
          629.549207819648,
          1219.0664386041135,
          18.886648179870154,
          1.216564732295156,
          91.9764532510827,
          168.39593619640857,
          0,
          120.2230383450369,
          0,
          8.77927314397803,
          0,
          0,
          16.940409018497213,
          1152.8417857370391,
          0,
          0,
          0,
          6565.550332059515,
          5711.102449655749,
          66.15558387499442,
          2774.9786720624656,
          0,
          0,
          0,
          52.9735718358211,
          13.04149960221609,
          1101.68080800681,
          713.4056080489636,
          1070.4729037437082,
          565.6778926057867,
          2414.23654238435,
          2.701657828864241,
          0,
          2338.7491033740407,
          186.8587605131708,
          20.101343669496273,
          584.0074025301222,
          494.29061637436746,
          0,
          14880.502775484092,
          18316.917288660334,
          18638.055918179256,
          0,
          528.9449323882693,
          2405.846482805575,
          5647.505898115953,
          0,
          750.5012748467894,
          5570.185612471139,
          2675.4056461956966,
          0,
          0,
          5484.294985608469,
          0.7626551846213842,
          0,
          0,
          0,
          0,
          0,
          2313.581027810544,
          0.9213796770441427,
          51.327539751102115,
          279.3677521258988,
          28.779131737467974,
          0,
          0,
          0.05202712131521828,
          16868.957145142314,
          4406.692869369081,
          0,
          28.826082905126558,
          1137.6305421409504,
          0,
          0,
          0,
          0,
          0,
          250.9036928718791,
          0,
          14.152067349644838,
          0,
          0.022720772454758932,
          0,
          0,
          0,
          0,
          30.26040526665553,
          0.11969754162923489,
          0.8930347519036909,
          5.322841409767124,
          31.598291563992674,
          0,
          0,
          0,
          0.05801495435141253,
          0,
          0,
          0,
          0.3608818560057296,
          0,
          142.6670028748386,
          107.04858967534253,
          0.06554624216919591,
          0,
          0,
          0,
          26.535754437682918,
          12.941670041117511,
          38969.619403765966,
          0,
          39.40563016360872,
          0.9710728723850995,
          13.230966040849495,
          0,
          0,
          0,
          2967.8513847373188,
          35.15423588702882,
          0,
          0,
          0,
          0,
          0.3410386006429952,
          0,
          0,
          596.8522672096847,
          0,
          0,
          0,
          0,
          0,
          0,
          0,
          0,
          260.7081017618386,
          0,
          0,
          9518.83830910377,
          4600.744691414569,
          0,
          0,
          0,
          0,
          0,
          0,
          54.07773222309122
         ]
        },
        {
         "cells": {
          "align": "left",
          "fill": {
           "color": "lightcyan"
          },
          "values": [
           [
            "Tanzania",
            "Kenya",
            "China",
            "Mozambique",
            "Malawi",
            "Dem. Rep. Congo",
            "Brazil",
            "India",
            "Zambia",
            "United States of America",
            "Uganda",
            "Indonesia",
            "Zimbabwe",
            "Botswana",
            "Israel",
            "Palestine",
            "Jordan",
            "Rwanda",
            "Mexico",
            "Bangladesh",
            "Philippines",
            "Senegal",
            "Gambia",
            "Guinea",
            "Burundi",
            "Uruguay",
            "Sierra Leone",
            "Cambodia",
            "Canada",
            "Colombia",
            "Ecuador",
            "Pakistan",
            "Cameroon",
            "Ghana",
            "Madagascar",
            "Togo",
            "Bolivia",
            "Peru",
            "Paraguay",
            "Congo",
            "Côte d'Ivoire",
            "Angola",
            "Gabon",
            "Argentina",
            "Myanmar",
            "Ethiopia",
            "Syria",
            "Burkina Faso",
            "Honduras",
            "Portugal",
            "Guatemala",
            "Spain",
            "Nicaragua",
            "Chile",
            "South Africa",
            "Namibia",
            "S. Sudan",
            "Niger",
            "Laos",
            "Italy",
            "Malaysia",
            "Germany",
            "Romania",
            "Nepal",
            "Vietnam",
            "Australia",
            "Haiti",
            "Central African Rep.",
            "Panama",
            "France",
            "Sweden",
            "United Kingdom",
            "Nigeria",
            "Sri Lanka",
            "Venezuela",
            "Estonia",
            "Timor-Leste",
            "Guinea-Bissau",
            "Costa Rica",
            "Denmark",
            "Thailand",
            "Latvia",
            "United Arab Emirates",
            "Belgium",
            "Czechia",
            "Russia",
            "Lithuania",
            "Ireland",
            "Albania",
            "Mongolia",
            "Ukraine",
            "Chad",
            "New Caledonia",
            "Solomon Is.",
            "Bosnia and Herz.",
            "Brunei",
            "North Macedonia",
            "Serbia",
            "Netherlands",
            "Montenegro",
            "Kosovo",
            "Trinidad and Tobago",
            "Luxembourg",
            "Switzerland",
            "New Zealand",
            "Egypt",
            "Somaliland",
            "Yemen",
            "Finland",
            "Slovakia",
            "Georgia",
            "Azerbaijan",
            "Iceland",
            "Eritrea",
            "Japan",
            "Saudi Arabia",
            "Djibouti",
            "Antarctica",
            "N. Cyprus",
            "Cyprus",
            "Morocco",
            "Taiwan",
            "Slovenia",
            "Libya",
            "Croatia",
            "Fiji",
            "Turkey",
            "Fr. S. Antarctic Lands",
            "Mauritania",
            "Mali",
            "Cuba",
            "Jamaica",
            "Puerto Rico",
            "Suriname",
            "Guyana",
            "Belize",
            "El Salvador",
            "Lesotho",
            "Greenland",
            "Liberia",
            "Norway",
            "Falkland Is.",
            "Bahamas",
            "Dominican Rep.",
            "Sudan",
            "Somalia",
            "Papua New Guinea",
            "Uzbekistan",
            "Kazakhstan",
            "W. Sahara",
            "Benin",
            "Eq. Guinea",
            "Greece",
            "Tajikistan",
            "Bulgaria",
            "Moldova",
            "Hungary",
            "Austria",
            "Poland",
            "Belarus",
            "Armenia",
            "Iran",
            "Turkmenistan",
            "Kyrgyzstan",
            "Afghanistan",
            "eSwatini",
            "Bhutan",
            "South Korea",
            "North Korea",
            "Vanuatu",
            "Iraq",
            "Kuwait",
            "Qatar",
            "Algeria",
            "Tunisia",
            "Lebanon",
            "Oman"
           ],
           [
            95564.0389185989,
            83455.29911481429,
            38969.619403765966,
            18638.055918179256,
            18316.917288660334,
            17272.52641278412,
            17190.188932703728,
            16868.957145142314,
            14880.502775484092,
            13132.011780754996,
            9518.83830910377,
            6970.612309511494,
            6565.550332059515,
            5711.102449655749,
            5647.505898115953,
            5570.185612471139,
            5484.294985608469,
            4600.744691414569,
            4574.426893560819,
            4406.692869369081,
            2967.8513847373188,
            2774.9786720624656,
            2675.4056461956966,
            2414.23654238435,
            2405.846482805575,
            2401.439948038197,
            2338.7491033740407,
            2313.581027810544,
            2221.3819208197606,
            1219.0664386041135,
            1152.8417857370391,
            1137.6305421409504,
            1101.68080800681,
            1070.4729037437082,
            750.5012748467894,
            713.4056080489636,
            707.4884466993541,
            629.549207819648,
            596.8522672096847,
            584.0074025301222,
            565.6778926057867,
            528.9449323882693,
            494.29061637436746,
            286.5282006184065,
            279.3677521258988,
            260.7081017618386,
            250.9036928718791,
            186.8587605131708,
            168.39593619640857,
            142.6670028748386,
            120.2230383450369,
            107.04858967534253,
            91.9764532510827,
            71.84709690703328,
            68.0819304388643,
            66.15558387499442,
            54.07773222309122,
            52.9735718358211,
            51.327539751102115,
            39.40563016360872,
            35.15423588702882,
            31.598291563992674,
            30.26040526665553,
            28.826082905126558,
            28.779131737467974,
            26.535754437682918,
            25.188385423297795,
            20.101343669496273,
            18.886648179870154,
            16.940409018497213,
            14.152067349644838,
            13.230966040849495,
            13.04149960221609,
            12.941670041117511,
            8.77927314397803,
            5.322841409767124,
            3.3562611646972718,
            2.701657828864241,
            1.216564732295156,
            0.9710728723850995,
            0.9213796770441427,
            0.8930347519036909,
            0.7626551846213842,
            0.3608818560057296,
            0.3410386006429952,
            0.1250475163822221,
            0.11969754162923489,
            0.06554624216919591,
            0.05801495435141253,
            0.05202712131521828,
            0.022720772454758932,
            0.012980567049990899,
            0,
            0,
            0,
            0,
            0,
            0,
            0,
            0,
            0,
            0,
            0,
            0,
            0,
            0,
            0,
            0,
            0,
            0,
            0,
            0,
            0,
            0,
            0,
            0,
            0,
            0,
            0,
            0,
            0,
            0,
            0,
            0,
            0,
            0,
            0,
            0,
            0,
            0,
            0,
            0,
            0,
            0,
            0,
            0,
            0,
            0,
            0,
            0,
            0,
            0,
            0,
            0,
            0,
            0,
            0,
            0,
            0,
            0,
            0,
            0,
            0,
            0,
            0,
            0,
            0,
            0,
            0,
            0,
            0,
            0,
            0,
            0,
            0,
            0,
            0,
            0,
            0,
            0,
            0,
            0,
            0,
            0,
            0,
            0,
            0
           ]
          ]
         },
         "domain": {
          "x": [
           0.8200000000000001,
           1
          ],
          "y": [
           0,
           1
          ]
         },
         "header": {
          "align": "left",
          "fill": {
           "color": "darkblue"
          },
          "font": {
           "color": "white"
          },
          "values": [
           "Country",
           "Total Area Covered (km²)"
          ]
         },
         "type": "table"
        }
       ],
       "layout": {
        "geo": {
         "domain": {
          "x": [
           0,
           0.7200000000000001
          ],
          "y": [
           0,
           1
          ]
         }
        },
        "paper_bgcolor": "lightgrey",
        "showlegend": false,
        "template": {
         "data": {
          "bar": [
           {
            "error_x": {
             "color": "#2a3f5f"
            },
            "error_y": {
             "color": "#2a3f5f"
            },
            "marker": {
             "line": {
              "color": "#E5ECF6",
              "width": 0.5
             }
            },
            "type": "bar"
           }
          ],
          "barpolar": [
           {
            "marker": {
             "line": {
              "color": "#E5ECF6",
              "width": 0.5
             }
            },
            "type": "barpolar"
           }
          ],
          "carpet": [
           {
            "aaxis": {
             "endlinecolor": "#2a3f5f",
             "gridcolor": "white",
             "linecolor": "white",
             "minorgridcolor": "white",
             "startlinecolor": "#2a3f5f"
            },
            "baxis": {
             "endlinecolor": "#2a3f5f",
             "gridcolor": "white",
             "linecolor": "white",
             "minorgridcolor": "white",
             "startlinecolor": "#2a3f5f"
            },
            "type": "carpet"
           }
          ],
          "choropleth": [
           {
            "colorbar": {
             "outlinewidth": 0,
             "ticks": ""
            },
            "type": "choropleth"
           }
          ],
          "contour": [
           {
            "colorbar": {
             "outlinewidth": 0,
             "ticks": ""
            },
            "colorscale": [
             [
              0,
              "#0d0887"
             ],
             [
              0.1111111111111111,
              "#46039f"
             ],
             [
              0.2222222222222222,
              "#7201a8"
             ],
             [
              0.3333333333333333,
              "#9c179e"
             ],
             [
              0.4444444444444444,
              "#bd3786"
             ],
             [
              0.5555555555555556,
              "#d8576b"
             ],
             [
              0.6666666666666666,
              "#ed7953"
             ],
             [
              0.7777777777777778,
              "#fb9f3a"
             ],
             [
              0.8888888888888888,
              "#fdca26"
             ],
             [
              1,
              "#f0f921"
             ]
            ],
            "type": "contour"
           }
          ],
          "contourcarpet": [
           {
            "colorbar": {
             "outlinewidth": 0,
             "ticks": ""
            },
            "type": "contourcarpet"
           }
          ],
          "heatmap": [
           {
            "colorbar": {
             "outlinewidth": 0,
             "ticks": ""
            },
            "colorscale": [
             [
              0,
              "#0d0887"
             ],
             [
              0.1111111111111111,
              "#46039f"
             ],
             [
              0.2222222222222222,
              "#7201a8"
             ],
             [
              0.3333333333333333,
              "#9c179e"
             ],
             [
              0.4444444444444444,
              "#bd3786"
             ],
             [
              0.5555555555555556,
              "#d8576b"
             ],
             [
              0.6666666666666666,
              "#ed7953"
             ],
             [
              0.7777777777777778,
              "#fb9f3a"
             ],
             [
              0.8888888888888888,
              "#fdca26"
             ],
             [
              1,
              "#f0f921"
             ]
            ],
            "type": "heatmap"
           }
          ],
          "heatmapgl": [
           {
            "colorbar": {
             "outlinewidth": 0,
             "ticks": ""
            },
            "colorscale": [
             [
              0,
              "#0d0887"
             ],
             [
              0.1111111111111111,
              "#46039f"
             ],
             [
              0.2222222222222222,
              "#7201a8"
             ],
             [
              0.3333333333333333,
              "#9c179e"
             ],
             [
              0.4444444444444444,
              "#bd3786"
             ],
             [
              0.5555555555555556,
              "#d8576b"
             ],
             [
              0.6666666666666666,
              "#ed7953"
             ],
             [
              0.7777777777777778,
              "#fb9f3a"
             ],
             [
              0.8888888888888888,
              "#fdca26"
             ],
             [
              1,
              "#f0f921"
             ]
            ],
            "type": "heatmapgl"
           }
          ],
          "histogram": [
           {
            "marker": {
             "colorbar": {
              "outlinewidth": 0,
              "ticks": ""
             }
            },
            "type": "histogram"
           }
          ],
          "histogram2d": [
           {
            "colorbar": {
             "outlinewidth": 0,
             "ticks": ""
            },
            "colorscale": [
             [
              0,
              "#0d0887"
             ],
             [
              0.1111111111111111,
              "#46039f"
             ],
             [
              0.2222222222222222,
              "#7201a8"
             ],
             [
              0.3333333333333333,
              "#9c179e"
             ],
             [
              0.4444444444444444,
              "#bd3786"
             ],
             [
              0.5555555555555556,
              "#d8576b"
             ],
             [
              0.6666666666666666,
              "#ed7953"
             ],
             [
              0.7777777777777778,
              "#fb9f3a"
             ],
             [
              0.8888888888888888,
              "#fdca26"
             ],
             [
              1,
              "#f0f921"
             ]
            ],
            "type": "histogram2d"
           }
          ],
          "histogram2dcontour": [
           {
            "colorbar": {
             "outlinewidth": 0,
             "ticks": ""
            },
            "colorscale": [
             [
              0,
              "#0d0887"
             ],
             [
              0.1111111111111111,
              "#46039f"
             ],
             [
              0.2222222222222222,
              "#7201a8"
             ],
             [
              0.3333333333333333,
              "#9c179e"
             ],
             [
              0.4444444444444444,
              "#bd3786"
             ],
             [
              0.5555555555555556,
              "#d8576b"
             ],
             [
              0.6666666666666666,
              "#ed7953"
             ],
             [
              0.7777777777777778,
              "#fb9f3a"
             ],
             [
              0.8888888888888888,
              "#fdca26"
             ],
             [
              1,
              "#f0f921"
             ]
            ],
            "type": "histogram2dcontour"
           }
          ],
          "mesh3d": [
           {
            "colorbar": {
             "outlinewidth": 0,
             "ticks": ""
            },
            "type": "mesh3d"
           }
          ],
          "parcoords": [
           {
            "line": {
             "colorbar": {
              "outlinewidth": 0,
              "ticks": ""
             }
            },
            "type": "parcoords"
           }
          ],
          "pie": [
           {
            "automargin": true,
            "type": "pie"
           }
          ],
          "scatter": [
           {
            "marker": {
             "colorbar": {
              "outlinewidth": 0,
              "ticks": ""
             }
            },
            "type": "scatter"
           }
          ],
          "scatter3d": [
           {
            "line": {
             "colorbar": {
              "outlinewidth": 0,
              "ticks": ""
             }
            },
            "marker": {
             "colorbar": {
              "outlinewidth": 0,
              "ticks": ""
             }
            },
            "type": "scatter3d"
           }
          ],
          "scattercarpet": [
           {
            "marker": {
             "colorbar": {
              "outlinewidth": 0,
              "ticks": ""
             }
            },
            "type": "scattercarpet"
           }
          ],
          "scattergeo": [
           {
            "marker": {
             "colorbar": {
              "outlinewidth": 0,
              "ticks": ""
             }
            },
            "type": "scattergeo"
           }
          ],
          "scattergl": [
           {
            "marker": {
             "colorbar": {
              "outlinewidth": 0,
              "ticks": ""
             }
            },
            "type": "scattergl"
           }
          ],
          "scattermapbox": [
           {
            "marker": {
             "colorbar": {
              "outlinewidth": 0,
              "ticks": ""
             }
            },
            "type": "scattermapbox"
           }
          ],
          "scatterpolar": [
           {
            "marker": {
             "colorbar": {
              "outlinewidth": 0,
              "ticks": ""
             }
            },
            "type": "scatterpolar"
           }
          ],
          "scatterpolargl": [
           {
            "marker": {
             "colorbar": {
              "outlinewidth": 0,
              "ticks": ""
             }
            },
            "type": "scatterpolargl"
           }
          ],
          "scatterternary": [
           {
            "marker": {
             "colorbar": {
              "outlinewidth": 0,
              "ticks": ""
             }
            },
            "type": "scatterternary"
           }
          ],
          "surface": [
           {
            "colorbar": {
             "outlinewidth": 0,
             "ticks": ""
            },
            "colorscale": [
             [
              0,
              "#0d0887"
             ],
             [
              0.1111111111111111,
              "#46039f"
             ],
             [
              0.2222222222222222,
              "#7201a8"
             ],
             [
              0.3333333333333333,
              "#9c179e"
             ],
             [
              0.4444444444444444,
              "#bd3786"
             ],
             [
              0.5555555555555556,
              "#d8576b"
             ],
             [
              0.6666666666666666,
              "#ed7953"
             ],
             [
              0.7777777777777778,
              "#fb9f3a"
             ],
             [
              0.8888888888888888,
              "#fdca26"
             ],
             [
              1,
              "#f0f921"
             ]
            ],
            "type": "surface"
           }
          ],
          "table": [
           {
            "cells": {
             "fill": {
              "color": "#EBF0F8"
             },
             "line": {
              "color": "white"
             }
            },
            "header": {
             "fill": {
              "color": "#C8D4E3"
             },
             "line": {
              "color": "white"
             }
            },
            "type": "table"
           }
          ]
         },
         "layout": {
          "annotationdefaults": {
           "arrowcolor": "#2a3f5f",
           "arrowhead": 0,
           "arrowwidth": 1
          },
          "autotypenumbers": "strict",
          "coloraxis": {
           "colorbar": {
            "outlinewidth": 0,
            "ticks": ""
           }
          },
          "colorscale": {
           "diverging": [
            [
             0,
             "#8e0152"
            ],
            [
             0.1,
             "#c51b7d"
            ],
            [
             0.2,
             "#de77ae"
            ],
            [
             0.3,
             "#f1b6da"
            ],
            [
             0.4,
             "#fde0ef"
            ],
            [
             0.5,
             "#f7f7f7"
            ],
            [
             0.6,
             "#e6f5d0"
            ],
            [
             0.7,
             "#b8e186"
            ],
            [
             0.8,
             "#7fbc41"
            ],
            [
             0.9,
             "#4d9221"
            ],
            [
             1,
             "#276419"
            ]
           ],
           "sequential": [
            [
             0,
             "#0d0887"
            ],
            [
             0.1111111111111111,
             "#46039f"
            ],
            [
             0.2222222222222222,
             "#7201a8"
            ],
            [
             0.3333333333333333,
             "#9c179e"
            ],
            [
             0.4444444444444444,
             "#bd3786"
            ],
            [
             0.5555555555555556,
             "#d8576b"
            ],
            [
             0.6666666666666666,
             "#ed7953"
            ],
            [
             0.7777777777777778,
             "#fb9f3a"
            ],
            [
             0.8888888888888888,
             "#fdca26"
            ],
            [
             1,
             "#f0f921"
            ]
           ],
           "sequentialminus": [
            [
             0,
             "#0d0887"
            ],
            [
             0.1111111111111111,
             "#46039f"
            ],
            [
             0.2222222222222222,
             "#7201a8"
            ],
            [
             0.3333333333333333,
             "#9c179e"
            ],
            [
             0.4444444444444444,
             "#bd3786"
            ],
            [
             0.5555555555555556,
             "#d8576b"
            ],
            [
             0.6666666666666666,
             "#ed7953"
            ],
            [
             0.7777777777777778,
             "#fb9f3a"
            ],
            [
             0.8888888888888888,
             "#fdca26"
            ],
            [
             1,
             "#f0f921"
            ]
           ]
          },
          "colorway": [
           "#636efa",
           "#EF553B",
           "#00cc96",
           "#ab63fa",
           "#FFA15A",
           "#19d3f3",
           "#FF6692",
           "#B6E880",
           "#FF97FF",
           "#FECB52"
          ],
          "font": {
           "color": "#2a3f5f"
          },
          "geo": {
           "bgcolor": "white",
           "lakecolor": "white",
           "landcolor": "#E5ECF6",
           "showlakes": true,
           "showland": true,
           "subunitcolor": "white"
          },
          "hoverlabel": {
           "align": "left"
          },
          "hovermode": "closest",
          "mapbox": {
           "style": "light"
          },
          "paper_bgcolor": "white",
          "plot_bgcolor": "#E5ECF6",
          "polar": {
           "angularaxis": {
            "gridcolor": "white",
            "linecolor": "white",
            "ticks": ""
           },
           "bgcolor": "#E5ECF6",
           "radialaxis": {
            "gridcolor": "white",
            "linecolor": "white",
            "ticks": ""
           }
          },
          "scene": {
           "xaxis": {
            "backgroundcolor": "#E5ECF6",
            "gridcolor": "white",
            "gridwidth": 2,
            "linecolor": "white",
            "showbackground": true,
            "ticks": "",
            "zerolinecolor": "white"
           },
           "yaxis": {
            "backgroundcolor": "#E5ECF6",
            "gridcolor": "white",
            "gridwidth": 2,
            "linecolor": "white",
            "showbackground": true,
            "ticks": "",
            "zerolinecolor": "white"
           },
           "zaxis": {
            "backgroundcolor": "#E5ECF6",
            "gridcolor": "white",
            "gridwidth": 2,
            "linecolor": "white",
            "showbackground": true,
            "ticks": "",
            "zerolinecolor": "white"
           }
          },
          "shapedefaults": {
           "line": {
            "color": "#2a3f5f"
           }
          },
          "ternary": {
           "aaxis": {
            "gridcolor": "white",
            "linecolor": "white",
            "ticks": ""
           },
           "baxis": {
            "gridcolor": "white",
            "linecolor": "white",
            "ticks": ""
           },
           "bgcolor": "#E5ECF6",
           "caxis": {
            "gridcolor": "white",
            "linecolor": "white",
            "ticks": ""
           }
          },
          "title": {
           "x": 0.05
          },
          "xaxis": {
           "automargin": true,
           "gridcolor": "white",
           "linecolor": "white",
           "ticks": "",
           "title": {
            "standoff": 15
           },
           "zerolinecolor": "white",
           "zerolinewidth": 2
          },
          "yaxis": {
           "automargin": true,
           "gridcolor": "white",
           "linecolor": "white",
           "ticks": "",
           "title": {
            "standoff": 15
           },
           "zerolinecolor": "white",
           "zerolinewidth": 2
          }
         }
        },
        "title": {
         "text": "Global Reforestation Area Covered (km²) with Data Table"
        }
       }
      }
     },
     "metadata": {},
     "output_type": "display_data"
    }
   ],
   "source": [
    "fig = make_subplots(rows=1, cols=2, column_widths=[0.8, 0.2], \n",
    "                    specs=[[{\"type\": \"choropleth\"}, {\"type\": \"table\"}]])\n",
    "\n",
    "fig.add_trace(\n",
    "    px.choropleth(world_with_area_covered,\n",
    "                  locations=\"iso_a3\",\n",
    "                  color=\"total_area_km2\",\n",
    "                  hover_name=\"name\",\n",
    "                  color_continuous_scale=px.colors.sequential.Agsunset).data[0],  \n",
    "    row=1, col=1\n",
    ")\n",
    "\n",
    "table_data = world_with_area_covered[['name', 'total_area_km2']].sort_values(by='total_area_km2', ascending=False)\n",
    "\n",
    "fig.add_trace(\n",
    "    go.Table(\n",
    "        header=dict(values=[\"Country\", \"Total Area Covered (km²)\"],\n",
    "                    fill_color='darkblue',  \n",
    "                    font=dict(color='white'), \n",
    "                    align='left'),\n",
    "        cells=dict(values=[table_data.name, table_data.total_area_km2],\n",
    "                   fill_color='lightcyan',  \n",
    "                   align='left')),\n",
    "    row=1, col=2\n",
    ")\n",
    "\n",
    "fig.update_layout(\n",
    "    title_text=\"Global Reforestation Area Covered (km²) with Data Table\",\n",
    "    showlegend=False,\n",
    "    paper_bgcolor=\"lightgrey\",  \n",
    ")\n",
    "\n",
    "fig.show()"
   ]
  },
  {
   "cell_type": "code",
   "execution_count": 120,
   "metadata": {},
   "outputs": [
    {
     "name": "stdout",
     "output_type": "stream",
     "text": [
      "<class 'geopandas.geodataframe.GeoDataFrame'>\n",
      "RangeIndex: 783316 entries, 0 to 783315\n",
      "Data columns (total 35 columns):\n",
      " #   Column                            Non-Null Count   Dtype         \n",
      "---  ------                            --------------   -----         \n",
      " 0   id                                783316 non-null  object        \n",
      " 1   country                           778081 non-null  object        \n",
      " 2   description_reported              2447 non-null    object        \n",
      " 3   host_name                         783316 non-null  object        \n",
      " 4   planting_date_reported            749563 non-null  object        \n",
      " 5   project_id_reported               781982 non-null  object        \n",
      " 6   site_id_reported                  782891 non-null  object        \n",
      " 7   site_sqkm                         783316 non-null  float64       \n",
      " 8   survival_rate_reported            509 non-null     float64       \n",
      " 9   trees_planted_reported            9904 non-null    float64       \n",
      " 10  url                               783316 non-null  object        \n",
      " 11  geometry_reported                 783316 non-null  object        \n",
      " 12  Top_Three_NDVI_Months             783316 non-null  object        \n",
      " 13  species_planted_reported          264 non-null     object        \n",
      " 14  species_count_reported            0 non-null       object        \n",
      " 15  built_area                        783316 non-null  float64       \n",
      " 16  intersecting_roads_count          783316 non-null  int64         \n",
      " 17  total_road_length_km              783316 non-null  float64       \n",
      " 18  loss_pre_5                        748681 non-null  float64       \n",
      " 19  loss_post_3                       732164 non-null  float64       \n",
      " 20  loss_post_5                       732164 non-null  float64       \n",
      " 21  tree_cover_area_2020              783316 non-null  float64       \n",
      " 22  tree_cover_area_2015              783316 non-null  float64       \n",
      " 23  tree_cover_area_2010              783316 non-null  float64       \n",
      " 24  tree_cover_area_2005              783316 non-null  float64       \n",
      " 25  tree_cover_area_2000              783316 non-null  float64       \n",
      " 26  cropland gain from trees          783316 non-null  float64       \n",
      " 27  cropland loss to tree             783316 non-null  float64       \n",
      " 28  permanent water                   783316 non-null  float64       \n",
      " 29  short vegetation after tree loss  783316 non-null  float64       \n",
      " 30  created_site_ids                  783316 non-null  object        \n",
      " 31  created_project_ids               783316 non-null  object        \n",
      " 32  geometry                          783316 non-null  geometry      \n",
      " 33  planting_date_converted           19225 non-null   datetime64[ns]\n",
      " 34  year                              19225 non-null   float64       \n",
      "dtypes: datetime64[ns](1), float64(18), geometry(1), int64(1), object(14)\n",
      "memory usage: 209.2+ MB\n"
     ]
    }
   ],
   "source": [
    "projects.info()"
   ]
  },
  {
   "cell_type": "code",
   "execution_count": 108,
   "metadata": {},
   "outputs": [],
   "source": [
    "gdf_filtered=projects"
   ]
  },
  {
   "cell_type": "code",
   "execution_count": 121,
   "metadata": {},
   "outputs": [
    {
     "data": {
      "text/plain": [
       "0         2021-07-01 00:00:00\n",
       "1         2021-07-01 00:00:00\n",
       "2         2017-01-07 12:00:00\n",
       "3         2017-01-07 12:00:00\n",
       "4         2012-01-01 00:00:00\n",
       "                 ...         \n",
       "783311             2019-05-30\n",
       "783312             2019-12-21\n",
       "783313             2019-12-21\n",
       "783314             2019-12-21\n",
       "783315                   None\n",
       "Name: planting_date_reported, Length: 783316, dtype: object"
      ]
     },
     "execution_count": 121,
     "metadata": {},
     "output_type": "execute_result"
    }
   ],
   "source": [
    "gdf_filtered[\"planting_date_reported\"]"
   ]
  },
  {
   "cell_type": "code",
   "execution_count": 124,
   "metadata": {},
   "outputs": [
    {
     "name": "stdout",
     "output_type": "stream",
     "text": [
      "year\n",
      "2016.0    325450\n",
      "2020.0    123062\n",
      "2017.0     83191\n",
      "2015.0     52828\n",
      "2018.0     50219\n",
      "2021.0     25012\n",
      "2014.0     13436\n",
      "2001.0     12444\n",
      "2006.0     12431\n",
      "2023.0      9056\n",
      "2010.0      7703\n",
      "2024.0      7479\n",
      "2009.0      5832\n",
      "2011.0      5734\n",
      "2003.0      3257\n",
      "2022.0      3004\n",
      "2007.0      2705\n",
      "2013.0      1754\n",
      "2019.0      1323\n",
      "2002.0      1142\n",
      "2008.0       660\n",
      "2004.0       648\n",
      "2012.0       228\n",
      "2005.0       133\n",
      "1899.0        34\n",
      "1997.0        11\n",
      "1995.0         9\n",
      "1996.0         8\n",
      "2000.0         7\n",
      "1998.0         3\n",
      "1999.0         2\n",
      "1990.0         1\n",
      "1900.0         1\n",
      "Name: count, dtype: int64\n"
     ]
    }
   ],
   "source": [
    "import pandas as pd\n",
    "import numpy as np\n",
    "\n",
    "\n",
    "gdf_filtered['planting_date_reported'] = gdf_filtered['planting_date_reported'].astype(str)\n",
    "\n",
    "gdf_filtered['year'] = gdf_filtered['planting_date_reported'].str.extract(r'(\\d{4})')\n",
    "\n",
    "\n",
    "gdf_filtered['year'] = pd.to_numeric(gdf_filtered['year'], errors='coerce')\n",
    "\n",
    "\n",
    "year_counts = gdf_filtered['year'].value_counts()\n",
    "\n",
    "print(year_counts)"
   ]
  },
  {
   "cell_type": "code",
   "execution_count": 128,
   "metadata": {},
   "outputs": [
    {
     "name": "stdout",
     "output_type": "stream",
     "text": [
      "33\n"
     ]
    }
   ],
   "source": [
    "unique_years_count = gdf_filtered['year'].nunique()\n",
    "print(unique_years_count)"
   ]
  },
  {
   "cell_type": "code",
   "execution_count": 133,
   "metadata": {},
   "outputs": [
    {
     "data": {
      "image/png": "[encoded data removed]",
      "text/plain": [
       "<Figure size 1000x600 with 1 Axes>"
      ]
     },
     "metadata": {},
     "output_type": "display_data"
    }
   ],
   "source": [
    "import matplotlib.pyplot as plt\n",
    "\n",
    "\n",
    "\n",
    "year_counts.sort_index(inplace=True)  \n",
    "\n",
    "plt.figure(figsize=(10, 6)) \n",
    "plt.bar(year_counts.index.astype(str), year_counts.values)  \n",
    "plt.xlabel('Year')  \n",
    "plt.ylabel('Count') \n",
    "plt.title('Yearly Planting Date Reported Counts')  \n",
    "plt.xticks(rotation=45)  \n",
    "plt.show() "
   ]
  },
  {
   "cell_type": "code",
   "execution_count": 134,
   "metadata": {},
   "outputs": [
    {
     "data": {
      "image/png": "[encoded data removed]",
      "text/plain": [
       "<Figure size 1000x600 with 1 Axes>"
      ]
     },
     "metadata": {},
     "output_type": "display_data"
    }
   ],
   "source": [
    "import matplotlib.pyplot as plt\n",
    "import numpy as np\n",
    "\n",
    "year_counts.sort_index(inplace=True)  \n",
    "\n",
    "\n",
    "colors = plt.cm.viridis(np.linspace(0, 1, len(year_counts)))\n",
    "\n",
    "plt.figure(figsize=(10, 6)) \n",
    "plt.bar(year_counts.index.astype(str), year_counts.values, color=colors)  \n",
    "plt.xlabel('Year')  \n",
    "plt.ylabel('Count')  \n",
    "plt.title('Yearly Planting Date Reported Counts')  \n",
    "plt.xticks(rotation=45) \n",
    "plt.show()  "
   ]
  }
 ],
 "metadata": {
  "kernelspec": {
   "display_name": "Python 3 (ipykernel)",
   "language": "python",
   "name": "python3"
  },
  "language_info": {
   "codemirror_mode": {
    "name": "ipython",
    "version": 3
   },
   "file_extension": ".py",
   "mimetype": "text/x-python",
   "name": "python",
   "nbconvert_exporter": "python",
   "pygments_lexer": "ipython3",
   "version": "3.10.0"
  },
  "varInspector": {
   "cols": {
    "lenName": 16,
    "lenType": 16,
    "lenVar": 40
   },
   "kernels_config": {
    "python": {
     "delete_cmd_postfix": "",
     "delete_cmd_prefix": "del ",
     "library": "var_list.py",
     "varRefreshCmd": "print(var_dic_list())"
    },
    "r": {
     "delete_cmd_postfix": ") ",
     "delete_cmd_prefix": "rm(",
     "library": "var_list.r",
     "varRefreshCmd": "cat(var_dic_list()) "
    }
   },
   "types_to_exclude": [
    "module",
    "function",
    "builtin_function_or_method",
    "instance",
    "_Feature"
   ],
   "window_display": false
  }
 },
 "nbformat": 4,
 "nbformat_minor": 2
}
