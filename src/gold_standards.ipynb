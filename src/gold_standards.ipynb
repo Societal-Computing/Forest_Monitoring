{
 "cells": [
  {
   "cell_type": "markdown",
   "metadata": {},
   "source": [
    "# Gold Standards registry\n",
    "https://registry.goldstandard.org/projects?q=&page=3&project_types=22"
   ]
  },
  {
   "cell_type": "code",
   "execution_count": 57,
   "metadata": {},
   "outputs": [],
   "source": [
    "import json\n",
    "import pandas as pd\n",
    "import geopandas as gpd\n",
    "from shapely.geometry import Point"
   ]
  },
  {
   "cell_type": "markdown",
   "metadata": {},
   "source": [
    "### Load data"
   ]
  },
  {
   "cell_type": "code",
   "execution_count": 58,
   "metadata": {},
   "outputs": [
    {
     "data": {
      "text/html": [
       "<div>\n",
       "<style scoped>\n",
       "    .dataframe tbody tr th:only-of-type {\n",
       "        vertical-align: middle;\n",
       "    }\n",
       "\n",
       "    .dataframe tbody tr th {\n",
       "        vertical-align: top;\n",
       "    }\n",
       "\n",
       "    .dataframe thead th {\n",
       "        text-align: right;\n",
       "    }\n",
       "</style>\n",
       "<table border=\"1\" class=\"dataframe\">\n",
       "  <thead>\n",
       "    <tr style=\"text-align: right;\">\n",
       "      <th></th>\n",
       "      <th>GSID</th>\n",
       "      <th>Project Name</th>\n",
       "      <th>Project Developer Name</th>\n",
       "      <th>Status</th>\n",
       "      <th>Sustainable Development Goals</th>\n",
       "      <th>Project Type</th>\n",
       "      <th>Country</th>\n",
       "      <th>Description</th>\n",
       "      <th>Estimated Annual Credits</th>\n",
       "      <th>Methodology</th>\n",
       "      <th>Size</th>\n",
       "      <th>Programme of Activities</th>\n",
       "      <th>POA GSID</th>\n",
       "    </tr>\n",
       "  </thead>\n",
       "  <tbody>\n",
       "    <tr>\n",
       "      <th>0</th>\n",
       "      <td>12587</td>\n",
       "      <td>Parry Agro Industries C Cubed Tea and Rubber A...</td>\n",
       "      <td>Murali Balan Padikkal</td>\n",
       "      <td>Listed</td>\n",
       "      <td>11,3,15,12,13,8,7,5,4</td>\n",
       "      <td>A/R</td>\n",
       "      <td>India</td>\n",
       "      <td>The C Cubed project combines tea and rubber ag...</td>\n",
       "      <td>21000</td>\n",
       "      <td>Afforestation/Reforestation GHG Emissions Redu...</td>\n",
       "      <td>Large Scale</td>\n",
       "      <td>Standalone</td>\n",
       "      <td>NaN</td>\n",
       "    </tr>\n",
       "  </tbody>\n",
       "</table>\n",
       "</div>"
      ],
      "text/plain": [
       "    GSID                                       Project Name  \\\n",
       "0  12587  Parry Agro Industries C Cubed Tea and Rubber A...   \n",
       "\n",
       "  Project Developer Name  Status Sustainable Development Goals Project Type  \\\n",
       "0  Murali Balan Padikkal  Listed         11,3,15,12,13,8,7,5,4          A/R   \n",
       "\n",
       "  Country                                        Description  \\\n",
       "0   India  The C Cubed project combines tea and rubber ag...   \n",
       "\n",
       "   Estimated Annual Credits  \\\n",
       "0                     21000   \n",
       "\n",
       "                                         Methodology         Size  \\\n",
       "0  Afforestation/Reforestation GHG Emissions Redu...  Large Scale   \n",
       "\n",
       "  Programme of Activities  POA GSID  \n",
       "0              Standalone       NaN  "
      ]
     },
     "execution_count": 58,
     "metadata": {},
     "output_type": "execute_result"
    }
   ],
   "source": [
    "df = pd.read_csv(\"../input/Gold_Standards/GSF Registry Projects Export 2025-02-13.csv\")\n",
    "df.head(1)"
   ]
  },
  {
   "cell_type": "code",
   "execution_count": 59,
   "metadata": {},
   "outputs": [
    {
     "name": "stdout",
     "output_type": "stream",
     "text": [
      "<class 'pandas.core.frame.DataFrame'>\n",
      "RangeIndex: 71 entries, 0 to 70\n",
      "Data columns (total 13 columns):\n",
      " #   Column                         Non-Null Count  Dtype  \n",
      "---  ------                         --------------  -----  \n",
      " 0   GSID                           71 non-null     int64  \n",
      " 1   Project Name                   71 non-null     object \n",
      " 2   Project Developer Name         71 non-null     object \n",
      " 3   Status                         71 non-null     object \n",
      " 4   Sustainable Development Goals  71 non-null     object \n",
      " 5   Project Type                   71 non-null     object \n",
      " 6   Country                        71 non-null     object \n",
      " 7   Description                    71 non-null     object \n",
      " 8   Estimated Annual Credits       71 non-null     int64  \n",
      " 9   Methodology                    71 non-null     object \n",
      " 10  Size                           71 non-null     object \n",
      " 11  Programme of Activities        71 non-null     object \n",
      " 12  POA GSID                       8 non-null      float64\n",
      "dtypes: float64(1), int64(2), object(10)\n",
      "memory usage: 7.3+ KB\n"
     ]
    }
   ],
   "source": [
    "df.info()"
   ]
  },
  {
   "cell_type": "markdown",
   "metadata": {},
   "source": [
    "### Harmonize nomenclature"
   ]
  },
  {
   "cell_type": "code",
   "execution_count": 60,
   "metadata": {},
   "outputs": [],
   "source": [
    "filtered_columns = [\"GSID\", \"Country\", \"Description\"]\n",
    "gdf = df[filtered_columns].copy()"
   ]
  },
  {
   "cell_type": "code",
   "execution_count": null,
   "metadata": {},
   "outputs": [],
   "source": []
  },
  {
   "cell_type": "code",
   "execution_count": 61,
   "metadata": {},
   "outputs": [],
   "source": [
    "gdf['url'] = 'https://registry.goldstandard.org/projects?q=&page=3&project_types=22'\n",
    "gdf['host_name'] = 'Gold Standards registry'"
   ]
  },
  {
   "cell_type": "code",
   "execution_count": 62,
   "metadata": {},
   "outputs": [],
   "source": [
    "columns_rename_mapping = {\n",
    "\n",
    "    'GSID': 'project_id_reported',\n",
    "    'Description':'project_description_reported',\n",
    "    'Country':'country',\n",
    "}\n",
    "gdf.rename(columns=columns_rename_mapping, inplace=True)"
   ]
  },
  {
   "cell_type": "code",
   "execution_count": 63,
   "metadata": {},
   "outputs": [
    {
     "name": "stdout",
     "output_type": "stream",
     "text": [
      "<class 'pandas.core.frame.DataFrame'>\n",
      "RangeIndex: 71 entries, 0 to 70\n",
      "Data columns (total 13 columns):\n",
      " #   Column                        Non-Null Count  Dtype \n",
      "---  ------                        --------------  ----- \n",
      " 0   project_id_reported           71 non-null     int64 \n",
      " 1   country                       71 non-null     object\n",
      " 2   project_description_reported  0 non-null      object\n",
      " 3   url                           71 non-null     object\n",
      " 4   host_name                     71 non-null     object\n",
      " 5   site_sqkm                     0 non-null      object\n",
      " 6   species_count_reported        0 non-null      object\n",
      " 7   species_planted_reported      0 non-null      object\n",
      " 8   survival_rate_reported        0 non-null      object\n",
      " 9   trees_planted_reported        0 non-null      object\n",
      " 10  planting_date_reported        0 non-null      object\n",
      " 11  geometry                      0 non-null      object\n",
      " 12  site_id_reported              0 non-null      object\n",
      "dtypes: int64(1), object(12)\n",
      "memory usage: 7.3+ KB\n"
     ]
    }
   ],
   "source": [
    "gdf = gdf.assign(project_description_reported=None,site_sqkm=None,species_count_reported=None, species_planted_reported=None, survival_rate_reported=None,trees_planted_reported=None,planting_date_reported=None,geometry=None,site_id_reported=None,)\n",
    "gdf.info()"
   ]
  },
  {
   "cell_type": "markdown",
   "metadata": {},
   "source": [
    "### Save it"
   ]
  },
  {
   "cell_type": "code",
   "execution_count": 64,
   "metadata": {},
   "outputs": [
    {
     "name": "stderr",
     "output_type": "stream",
     "text": [
      "/Users/angela/Library/Python/3.9/lib/python/site-packages/pyogrio/geopandas.py:662: UserWarning: 'crs' was not provided.  The output dataset will not have projection information defined and may not be usable in other systems.\n",
      "  write(\n"
     ]
    }
   ],
   "source": [
    "gdf = gpd.GeoDataFrame(gdf)\n",
    "\n",
    "\n",
    "gdf.to_file('../midsave/gold_standards.gpkg', driver='GPKG')"
   ]
  }
 ],
 "metadata": {
  "kernelspec": {
   "display_name": "Python 3 (ipykernel)",
   "language": "python",
   "name": "python3"
  },
  "language_info": {
   "codemirror_mode": {
    "name": "ipython",
    "version": 3
   },
   "file_extension": ".py",
   "mimetype": "text/x-python",
   "name": "python",
   "nbconvert_exporter": "python",
   "pygments_lexer": "ipython3",
   "version": "3.9.6"
  }
 },
 "nbformat": 4,
 "nbformat_minor": 4
}
