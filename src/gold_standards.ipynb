{
 "cells": [
  {
   "cell_type": "markdown",
   "metadata": {},
   "source": [
    "# Gold Standards registry\n",
    "https://registry.goldstandard.org/projects?q=&page=3&project_types=22"
   ]
  },
  {
   "cell_type": "code",
   "execution_count": 11,
   "metadata": {},
   "outputs": [],
   "source": [
    "import json\n",
    "import requests\n",
    "import pandas as pd\n",
    "import geopandas as gpd\n",
    "from shapely.geometry import Point\n",
    "from tqdm import tqdm\n",
    "import time\n",
    "import os\n",
    "from random import uniform"
   ]
  },
  {
   "cell_type": "markdown",
   "metadata": {},
   "source": [
    "### Load data"
   ]
  },
  {
   "cell_type": "code",
   "execution_count": 12,
   "metadata": {},
   "outputs": [
    {
     "data": {
      "text/html": [
       "<div>\n",
       "<style scoped>\n",
       "    .dataframe tbody tr th:only-of-type {\n",
       "        vertical-align: middle;\n",
       "    }\n",
       "\n",
       "    .dataframe tbody tr th {\n",
       "        vertical-align: top;\n",
       "    }\n",
       "\n",
       "    .dataframe thead th {\n",
       "        text-align: right;\n",
       "    }\n",
       "</style>\n",
       "<table border=\"1\" class=\"dataframe\">\n",
       "  <thead>\n",
       "    <tr style=\"text-align: right;\">\n",
       "      <th></th>\n",
       "      <th>GSID</th>\n",
       "      <th>Project Name</th>\n",
       "      <th>Project Developer Name</th>\n",
       "      <th>Status</th>\n",
       "      <th>Sustainable Development Goals</th>\n",
       "      <th>Project Type</th>\n",
       "      <th>Country</th>\n",
       "      <th>Description</th>\n",
       "      <th>Estimated Annual Credits</th>\n",
       "      <th>Methodology</th>\n",
       "      <th>Size</th>\n",
       "      <th>Programme of Activities</th>\n",
       "      <th>POA GSID</th>\n",
       "    </tr>\n",
       "  </thead>\n",
       "  <tbody>\n",
       "    <tr>\n",
       "      <th>0</th>\n",
       "      <td>12587</td>\n",
       "      <td>Parry Agro Industries C Cubed Tea and Rubber A...</td>\n",
       "      <td>Murali Balan Padikkal</td>\n",
       "      <td>Listed</td>\n",
       "      <td>11,3,15,12,13,8,7,5,4</td>\n",
       "      <td>A/R</td>\n",
       "      <td>India</td>\n",
       "      <td>The C Cubed project combines tea and rubber ag...</td>\n",
       "      <td>21000</td>\n",
       "      <td>Afforestation/Reforestation GHG Emissions Redu...</td>\n",
       "      <td>Large Scale</td>\n",
       "      <td>Standalone</td>\n",
       "      <td>NaN</td>\n",
       "    </tr>\n",
       "  </tbody>\n",
       "</table>\n",
       "</div>"
      ],
      "text/plain": [
       "    GSID                                       Project Name  \\\n",
       "0  12587  Parry Agro Industries C Cubed Tea and Rubber A...   \n",
       "\n",
       "  Project Developer Name  Status Sustainable Development Goals Project Type  \\\n",
       "0  Murali Balan Padikkal  Listed         11,3,15,12,13,8,7,5,4          A/R   \n",
       "\n",
       "  Country                                        Description  \\\n",
       "0   India  The C Cubed project combines tea and rubber ag...   \n",
       "\n",
       "   Estimated Annual Credits  \\\n",
       "0                     21000   \n",
       "\n",
       "                                         Methodology         Size  \\\n",
       "0  Afforestation/Reforestation GHG Emissions Redu...  Large Scale   \n",
       "\n",
       "  Programme of Activities  POA GSID  \n",
       "0              Standalone       NaN  "
      ]
     },
     "execution_count": 12,
     "metadata": {},
     "output_type": "execute_result"
    }
   ],
   "source": [
    "df = pd.read_csv(\"../input/Gold_Standards/GSF Registry Projects Export 2025-02-13.csv\")\n",
    "df.head(1)"
   ]
  },
  {
   "cell_type": "code",
   "execution_count": 13,
   "metadata": {},
   "outputs": [],
   "source": [
    "df['project_pdf_available'] = False"
   ]
  },
  {
   "cell_type": "code",
   "execution_count": 14,
   "metadata": {},
   "outputs": [
    {
     "name": "stderr",
     "output_type": "stream",
     "text": [
      "100%|██████████| 71/71 [02:46<00:00,  2.34s/it]\n"
     ]
    }
   ],
   "source": [
    "for project_id in tqdm(df.GSID.unique().tolist()):\n",
    "\n",
    "    url = f'https://assurance-platform.goldstandard.org/api/public/project-documents/GS{project_id}'\n",
    "    headers = {\n",
    "        \"User-Agent\": \"Mozilla/5.0 (Windows NT 10.0; Win64; x64)\",\n",
    "        \"Accept\": \"application/json\",\n",
    "    }\n",
    "    try:\n",
    "        response = requests.get(url, headers=headers)\n",
    "\n",
    "    except Exception as e:\n",
    "        print(f\"Error with project {project_id}: {e}\")\n",
    "        continue\n",
    "\n",
    "    if response.status_code == 200:\n",
    "        data = response.json()\n",
    "\n",
    "        pdf_path = f\"../midsave/project_descriptions/pd_goldstandard_{project_id}.pdf\"\n",
    "        \n",
    "        pd_uris = []\n",
    "        for group in data.get('requests', []):\n",
    "            for document in group.get('documents', []):\n",
    "                if document['documentType'] == 'Gold Standard Project Design Document': # or 'pd' in document['documentName'].lower()\n",
    "                    pd_uris.append(document['id'])\n",
    "        \n",
    "        pd_available = False\n",
    "        for uri in pd_uris:\n",
    "            response = requests.get(f'https://assurance-platform.goldstandard.org/api/public/documents/{uri}/download', headers=headers)\n",
    "            if response.status_code == 200:\n",
    "                if response.content:\n",
    "                    open(os.path.join(pdf_path), \"wb\").write(response.content)\n",
    "                    pd_available = True\n",
    "\n",
    "        df.loc[df.GSID == project_id, 'project_pdf_available'] = pd_available\n",
    "\n",
    "    time.sleep(uniform(0, 5.0))"
   ]
  },
  {
   "cell_type": "markdown",
   "metadata": {},
   "source": [
    "### Harmonize nomenclature"
   ]
  },
  {
   "cell_type": "code",
   "execution_count": 15,
   "metadata": {},
   "outputs": [],
   "source": [
    "filtered_columns = [\"GSID\", \"Country\", \"Description\", \"project_pdf_available\"]\n",
    "gdf = df[filtered_columns].copy()"
   ]
  },
  {
   "cell_type": "code",
   "execution_count": 16,
   "metadata": {},
   "outputs": [],
   "source": [
    "gdf['url'] = 'https://assurance-platform.goldstandard.org/project-documents/GS' + gdf['GSID'].astype(str)\n",
    "gdf['host_name'] = 'Gold Standard'"
   ]
  },
  {
   "cell_type": "code",
   "execution_count": 17,
   "metadata": {},
   "outputs": [
    {
     "data": {
      "text/html": [
       "<div>\n",
       "<style scoped>\n",
       "    .dataframe tbody tr th:only-of-type {\n",
       "        vertical-align: middle;\n",
       "    }\n",
       "\n",
       "    .dataframe tbody tr th {\n",
       "        vertical-align: top;\n",
       "    }\n",
       "\n",
       "    .dataframe thead th {\n",
       "        text-align: right;\n",
       "    }\n",
       "</style>\n",
       "<table border=\"1\" class=\"dataframe\">\n",
       "  <thead>\n",
       "    <tr style=\"text-align: right;\">\n",
       "      <th></th>\n",
       "      <th>GSID</th>\n",
       "      <th>Country</th>\n",
       "      <th>Description</th>\n",
       "      <th>project_pdf_available</th>\n",
       "      <th>url</th>\n",
       "      <th>host_name</th>\n",
       "    </tr>\n",
       "  </thead>\n",
       "  <tbody>\n",
       "    <tr>\n",
       "      <th>0</th>\n",
       "      <td>12587</td>\n",
       "      <td>India</td>\n",
       "      <td>The C Cubed project combines tea and rubber ag...</td>\n",
       "      <td>False</td>\n",
       "      <td>https://assurance-platform.goldstandard.org/pr...</td>\n",
       "      <td>Gold Standard</td>\n",
       "    </tr>\n",
       "    <tr>\n",
       "      <th>1</th>\n",
       "      <td>13054</td>\n",
       "      <td>Brazil</td>\n",
       "      <td>The Syntropic Agroforestry Coffee Project in S...</td>\n",
       "      <td>False</td>\n",
       "      <td>https://assurance-platform.goldstandard.org/pr...</td>\n",
       "      <td>Gold Standard</td>\n",
       "    </tr>\n",
       "    <tr>\n",
       "      <th>2</th>\n",
       "      <td>13053</td>\n",
       "      <td>Brazil</td>\n",
       "      <td>The objective of the PoA “Global Syntropic Agr...</td>\n",
       "      <td>False</td>\n",
       "      <td>https://assurance-platform.goldstandard.org/pr...</td>\n",
       "      <td>Gold Standard</td>\n",
       "    </tr>\n",
       "    <tr>\n",
       "      <th>3</th>\n",
       "      <td>13106</td>\n",
       "      <td>Latvia</td>\n",
       "      <td>PATA Afforestation Project VPA 1 will implemen...</td>\n",
       "      <td>False</td>\n",
       "      <td>https://assurance-platform.goldstandard.org/pr...</td>\n",
       "      <td>Gold Standard</td>\n",
       "    </tr>\n",
       "    <tr>\n",
       "      <th>4</th>\n",
       "      <td>12466</td>\n",
       "      <td>Latvia</td>\n",
       "      <td>PATA Afforestation Project will implement affo...</td>\n",
       "      <td>False</td>\n",
       "      <td>https://assurance-platform.goldstandard.org/pr...</td>\n",
       "      <td>Gold Standard</td>\n",
       "    </tr>\n",
       "    <tr>\n",
       "      <th>...</th>\n",
       "      <td>...</td>\n",
       "      <td>...</td>\n",
       "      <td>...</td>\n",
       "      <td>...</td>\n",
       "      <td>...</td>\n",
       "      <td>...</td>\n",
       "    </tr>\n",
       "    <tr>\n",
       "      <th>66</th>\n",
       "      <td>3565</td>\n",
       "      <td>Colombia</td>\n",
       "      <td>The project areas are located in the municipal...</td>\n",
       "      <td>False</td>\n",
       "      <td>https://assurance-platform.goldstandard.org/pr...</td>\n",
       "      <td>Gold Standard</td>\n",
       "    </tr>\n",
       "    <tr>\n",
       "      <th>67</th>\n",
       "      <td>3264</td>\n",
       "      <td>Costa Rica</td>\n",
       "      <td>The VisionsWald - VisionForest is located in a...</td>\n",
       "      <td>False</td>\n",
       "      <td>https://assurance-platform.goldstandard.org/pr...</td>\n",
       "      <td>Gold Standard</td>\n",
       "    </tr>\n",
       "    <tr>\n",
       "      <th>68</th>\n",
       "      <td>3039</td>\n",
       "      <td>Australia</td>\n",
       "      <td>The Yarra Yarra Biodiversity Corridor is a nat...</td>\n",
       "      <td>False</td>\n",
       "      <td>https://assurance-platform.goldstandard.org/pr...</td>\n",
       "      <td>Gold Standard</td>\n",
       "    </tr>\n",
       "    <tr>\n",
       "      <th>69</th>\n",
       "      <td>3025</td>\n",
       "      <td>Colombia</td>\n",
       "      <td>The Project establishes a reforestation of nat...</td>\n",
       "      <td>False</td>\n",
       "      <td>https://assurance-platform.goldstandard.org/pr...</td>\n",
       "      <td>Gold Standard</td>\n",
       "    </tr>\n",
       "    <tr>\n",
       "      <th>70</th>\n",
       "      <td>3007</td>\n",
       "      <td>Ethiopia</td>\n",
       "      <td>Originated by World Vision Australia, this pro...</td>\n",
       "      <td>False</td>\n",
       "      <td>https://assurance-platform.goldstandard.org/pr...</td>\n",
       "      <td>Gold Standard</td>\n",
       "    </tr>\n",
       "  </tbody>\n",
       "</table>\n",
       "<p>71 rows × 6 columns</p>\n",
       "</div>"
      ],
      "text/plain": [
       "     GSID     Country                                        Description  \\\n",
       "0   12587       India  The C Cubed project combines tea and rubber ag...   \n",
       "1   13054      Brazil  The Syntropic Agroforestry Coffee Project in S...   \n",
       "2   13053      Brazil  The objective of the PoA “Global Syntropic Agr...   \n",
       "3   13106      Latvia  PATA Afforestation Project VPA 1 will implemen...   \n",
       "4   12466      Latvia  PATA Afforestation Project will implement affo...   \n",
       "..    ...         ...                                                ...   \n",
       "66   3565    Colombia  The project areas are located in the municipal...   \n",
       "67   3264  Costa Rica  The VisionsWald - VisionForest is located in a...   \n",
       "68   3039   Australia  The Yarra Yarra Biodiversity Corridor is a nat...   \n",
       "69   3025    Colombia  The Project establishes a reforestation of nat...   \n",
       "70   3007    Ethiopia  Originated by World Vision Australia, this pro...   \n",
       "\n",
       "    project_pdf_available                                                url  \\\n",
       "0                   False  https://assurance-platform.goldstandard.org/pr...   \n",
       "1                   False  https://assurance-platform.goldstandard.org/pr...   \n",
       "2                   False  https://assurance-platform.goldstandard.org/pr...   \n",
       "3                   False  https://assurance-platform.goldstandard.org/pr...   \n",
       "4                   False  https://assurance-platform.goldstandard.org/pr...   \n",
       "..                    ...                                                ...   \n",
       "66                  False  https://assurance-platform.goldstandard.org/pr...   \n",
       "67                  False  https://assurance-platform.goldstandard.org/pr...   \n",
       "68                  False  https://assurance-platform.goldstandard.org/pr...   \n",
       "69                  False  https://assurance-platform.goldstandard.org/pr...   \n",
       "70                  False  https://assurance-platform.goldstandard.org/pr...   \n",
       "\n",
       "        host_name  \n",
       "0   Gold Standard  \n",
       "1   Gold Standard  \n",
       "2   Gold Standard  \n",
       "3   Gold Standard  \n",
       "4   Gold Standard  \n",
       "..            ...  \n",
       "66  Gold Standard  \n",
       "67  Gold Standard  \n",
       "68  Gold Standard  \n",
       "69  Gold Standard  \n",
       "70  Gold Standard  \n",
       "\n",
       "[71 rows x 6 columns]"
      ]
     },
     "execution_count": 17,
     "metadata": {},
     "output_type": "execute_result"
    }
   ],
   "source": [
    "gdf"
   ]
  },
  {
   "cell_type": "code",
   "execution_count": 18,
   "metadata": {},
   "outputs": [],
   "source": [
    "columns_rename_mapping = {\n",
    "\n",
    "    'GSID': 'project_id_reported',\n",
    "    'Description':'project_description_reported',\n",
    "    'Country':'country',\n",
    "}\n",
    "gdf.rename(columns=columns_rename_mapping, inplace=True)"
   ]
  },
  {
   "cell_type": "code",
   "execution_count": 19,
   "metadata": {},
   "outputs": [
    {
     "name": "stdout",
     "output_type": "stream",
     "text": [
      "<class 'pandas.core.frame.DataFrame'>\n",
      "RangeIndex: 71 entries, 0 to 70\n",
      "Data columns (total 14 columns):\n",
      " #   Column                        Non-Null Count  Dtype \n",
      "---  ------                        --------------  ----- \n",
      " 0   project_id_reported           71 non-null     int64 \n",
      " 1   country                       71 non-null     object\n",
      " 2   project_description_reported  71 non-null     object\n",
      " 3   project_pdf_available         71 non-null     bool  \n",
      " 4   url                           71 non-null     object\n",
      " 5   host_name                     71 non-null     object\n",
      " 6   site_sqkm                     0 non-null      object\n",
      " 7   species_count_reported        0 non-null      object\n",
      " 8   species_planted_reported      0 non-null      object\n",
      " 9   survival_rate_reported        0 non-null      object\n",
      " 10  trees_planted_reported        0 non-null      object\n",
      " 11  planting_date_reported        0 non-null      object\n",
      " 12  geometry                      0 non-null      object\n",
      " 13  site_id_reported              0 non-null      object\n",
      "dtypes: bool(1), int64(1), object(12)\n",
      "memory usage: 7.4+ KB\n"
     ]
    }
   ],
   "source": [
    "gdf = gdf.assign(site_sqkm=None,species_count_reported=None, species_planted_reported=None, survival_rate_reported=None,trees_planted_reported=None,planting_date_reported=None,geometry=None,site_id_reported=None)\n",
    "gdf.info()"
   ]
  },
  {
   "cell_type": "code",
   "execution_count": 20,
   "metadata": {},
   "outputs": [],
   "source": [
    "\n",
    "gdf[\"planting_date_type\"]= \" \"\n",
    "gdf['project_geometries_invalid']= \" \"\n"
   ]
  },
  {
   "cell_type": "markdown",
   "metadata": {},
   "source": [
    "### Save it"
   ]
  },
  {
   "cell_type": "code",
   "execution_count": 21,
   "metadata": {},
   "outputs": [],
   "source": [
    "gdf = gpd.GeoDataFrame(gdf).set_crs('EPSG:4326', allow_override=True)\n",
    "gdf.to_file('../midsave/gold_standards.gpkg', driver='GPKG')"
   ]
  }
 ],
 "metadata": {
  "kernelspec": {
   "display_name": "Python 3 (ipykernel)",
   "language": "python",
   "name": "python3"
  },
  "language_info": {
   "codemirror_mode": {
    "name": "ipython",
    "version": 3
   },
   "file_extension": ".py",
   "mimetype": "text/x-python",
   "name": "python",
   "nbconvert_exporter": "python",
   "pygments_lexer": "ipython3",
   "version": "3.11.8"
  }
 },
 "nbformat": 4,
 "nbformat_minor": 4
}
