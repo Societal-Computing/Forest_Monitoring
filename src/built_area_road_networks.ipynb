{
  "cells": [
    {
      "cell_type": "code",
      "execution_count": null,
      "metadata": {
        "id": "8PeGSg0nJ8wT",
        "outputId": "b6a8f6f2-4ea0-4e79-bd2e-b13222179366"
      },
      "outputs": [
        {
          "name": "stdout",
          "output_type": "stream",
          "text": [
            "<class 'pandas.core.frame.DataFrame'>\n",
            "RangeIndex: 300 entries, 0 to 299\n",
            "Data columns (total 3 columns):\n",
            " #   Column         Non-Null Count  Dtype \n",
            "---  ------         --------------  ----- \n",
            " 0   Site           300 non-null    object\n",
            " 1   Road Networks  300 non-null    object\n",
            " 2   Built Areas    300 non-null    object\n",
            "dtypes: object(3)\n",
            "memory usage: 7.2+ KB\n"
          ]
        }
      ],
      "source": [
        "import geopandas as gpd\n",
        "from shapely.geometry import shape\n",
        "import pandas as pd\n",
        "import numpy as np\n",
        "data= pd.read_csv('/home/idisc02/Downloads/chatgpt_novalue_built.csv')\n",
        "data.info()"
      ]
    },
    {
      "cell_type": "code",
      "execution_count": null,
      "metadata": {
        "id": "eYr6qhf_J8wV",
        "outputId": "8f0c544d-8e38-4bf6-af32-7b559d1dfcea"
      },
      "outputs": [
        {
          "data": {
            "text/html": [
              "<div>\n",
              "<style scoped>\n",
              "    .dataframe tbody tr th:only-of-type {\n",
              "        vertical-align: middle;\n",
              "    }\n",
              "\n",
              "    .dataframe tbody tr th {\n",
              "        vertical-align: top;\n",
              "    }\n",
              "\n",
              "    .dataframe thead th {\n",
              "        text-align: right;\n",
              "    }\n",
              "</style>\n",
              "<table border=\"1\" class=\"dataframe\">\n",
              "  <thead>\n",
              "    <tr style=\"text-align: right;\">\n",
              "      <th></th>\n",
              "      <th>country</th>\n",
              "      <th>description_reported</th>\n",
              "      <th>host_name</th>\n",
              "      <th>planting_date_reported</th>\n",
              "      <th>project_id_reported</th>\n",
              "      <th>site_id_reported</th>\n",
              "      <th>site_sqkm</th>\n",
              "      <th>survival_rate_reported</th>\n",
              "      <th>trees_planted_reported</th>\n",
              "      <th>url</th>\n",
              "      <th>...</th>\n",
              "      <th>created_site_ids</th>\n",
              "      <th>created_project_ids</th>\n",
              "      <th>Nested_in</th>\n",
              "      <th>Intersecting_with</th>\n",
              "      <th>planting_year</th>\n",
              "      <th>avg_precip_planting_year</th>\n",
              "      <th>avg_precip_1_year_after</th>\n",
              "      <th>avg_precip_2_years_after</th>\n",
              "      <th>avg_precip_5_years_after</th>\n",
              "      <th>geometry</th>\n",
              "    </tr>\n",
              "  </thead>\n",
              "  <tbody>\n",
              "    <tr>\n",
              "      <th>0</th>\n",
              "      <td>Rwanda</td>\n",
              "      <td>Gansu Longnan Afforestation Project (hereinaft...</td>\n",
              "      <td>Verra_Aggregated</td>\n",
              "      <td>2020-06-22</td>\n",
              "      <td>4488</td>\n",
              "      <td>3219</td>\n",
              "      <td>0.000355</td>\n",
              "      <td>NaN</td>\n",
              "      <td>NaN</td>\n",
              "      <td>https://registry.verra.org/mymodule/ProjectDoc...</td>\n",
              "      <td>...</td>\n",
              "      <td>reforest_site_138746</td>\n",
              "      <td>reforest_proj_569</td>\n",
              "      <td>NaN</td>\n",
              "      <td>NaN</td>\n",
              "      <td>2020</td>\n",
              "      <td>112.091666</td>\n",
              "      <td>100.666666</td>\n",
              "      <td>NaN</td>\n",
              "      <td>NaN</td>\n",
              "      <td>POLYGON ((29.927252276298145 -1.67832094098189...</td>\n",
              "    </tr>\n",
              "    <tr>\n",
              "      <th>1</th>\n",
              "      <td>Rwanda</td>\n",
              "      <td>Gansu Longnan Afforestation Project (hereinaft...</td>\n",
              "      <td>Verra_Aggregated</td>\n",
              "      <td>2020-06-22</td>\n",
              "      <td>4488</td>\n",
              "      <td>3222</td>\n",
              "      <td>0.000545</td>\n",
              "      <td>NaN</td>\n",
              "      <td>NaN</td>\n",
              "      <td>https://registry.verra.org/mymodule/ProjectDoc...</td>\n",
              "      <td>...</td>\n",
              "      <td>reforest_site_138749</td>\n",
              "      <td>reforest_proj_569</td>\n",
              "      <td>NaN</td>\n",
              "      <td>NaN</td>\n",
              "      <td>2020</td>\n",
              "      <td>112.091666</td>\n",
              "      <td>100.666666</td>\n",
              "      <td>NaN</td>\n",
              "      <td>NaN</td>\n",
              "      <td>POLYGON ((29.928924455558622 -1.68555805697985...</td>\n",
              "    </tr>\n",
              "    <tr>\n",
              "      <th>2</th>\n",
              "      <td>Rwanda</td>\n",
              "      <td>Gansu Longnan Afforestation Project (hereinaft...</td>\n",
              "      <td>Verra_Aggregated</td>\n",
              "      <td>2020-06-22</td>\n",
              "      <td>4488</td>\n",
              "      <td>3243</td>\n",
              "      <td>0.001256</td>\n",
              "      <td>NaN</td>\n",
              "      <td>NaN</td>\n",
              "      <td>https://registry.verra.org/mymodule/ProjectDoc...</td>\n",
              "      <td>...</td>\n",
              "      <td>reforest_site_138758</td>\n",
              "      <td>reforest_proj_569</td>\n",
              "      <td>NaN</td>\n",
              "      <td>NaN</td>\n",
              "      <td>2020</td>\n",
              "      <td>108.875000</td>\n",
              "      <td>98.449998</td>\n",
              "      <td>NaN</td>\n",
              "      <td>NaN</td>\n",
              "      <td>POLYGON ((29.99128945015462 -1.723050182261426...</td>\n",
              "    </tr>\n",
              "    <tr>\n",
              "      <th>3</th>\n",
              "      <td>Rwanda</td>\n",
              "      <td>Gansu Longnan Afforestation Project (hereinaft...</td>\n",
              "      <td>Verra_Aggregated</td>\n",
              "      <td>2020-06-22</td>\n",
              "      <td>4488</td>\n",
              "      <td>3244</td>\n",
              "      <td>0.000674</td>\n",
              "      <td>NaN</td>\n",
              "      <td>NaN</td>\n",
              "      <td>https://registry.verra.org/mymodule/ProjectDoc...</td>\n",
              "      <td>...</td>\n",
              "      <td>reforest_site_138759</td>\n",
              "      <td>reforest_proj_569</td>\n",
              "      <td>NaN</td>\n",
              "      <td>NaN</td>\n",
              "      <td>2020</td>\n",
              "      <td>112.275002</td>\n",
              "      <td>100.591665</td>\n",
              "      <td>NaN</td>\n",
              "      <td>NaN</td>\n",
              "      <td>POLYGON ((29.941846907617848 -1.66483660669508...</td>\n",
              "    </tr>\n",
              "    <tr>\n",
              "      <th>4</th>\n",
              "      <td>Rwanda</td>\n",
              "      <td>Gansu Longnan Afforestation Project (hereinaft...</td>\n",
              "      <td>Verra_Aggregated</td>\n",
              "      <td>2020-06-22</td>\n",
              "      <td>4488</td>\n",
              "      <td>3247</td>\n",
              "      <td>0.002447</td>\n",
              "      <td>NaN</td>\n",
              "      <td>NaN</td>\n",
              "      <td>https://registry.verra.org/mymodule/ProjectDoc...</td>\n",
              "      <td>...</td>\n",
              "      <td>reforest_site_138762</td>\n",
              "      <td>reforest_proj_569</td>\n",
              "      <td>NaN</td>\n",
              "      <td>reforest_site_141233, reforest_site_145249, re...</td>\n",
              "      <td>2020</td>\n",
              "      <td>110.591668</td>\n",
              "      <td>99.399999</td>\n",
              "      <td>NaN</td>\n",
              "      <td>NaN</td>\n",
              "      <td>POLYGON ((29.954033627606947 -1.77614466876067...</td>\n",
              "    </tr>\n",
              "  </tbody>\n",
              "</table>\n",
              "<p>5 rows × 40 columns</p>\n",
              "</div>"
            ],
            "text/plain": [
              "  country                               description_reported  \\\n",
              "0  Rwanda  Gansu Longnan Afforestation Project (hereinaft...   \n",
              "1  Rwanda  Gansu Longnan Afforestation Project (hereinaft...   \n",
              "2  Rwanda  Gansu Longnan Afforestation Project (hereinaft...   \n",
              "3  Rwanda  Gansu Longnan Afforestation Project (hereinaft...   \n",
              "4  Rwanda  Gansu Longnan Afforestation Project (hereinaft...   \n",
              "\n",
              "          host_name planting_date_reported  project_id_reported  \\\n",
              "0  Verra_Aggregated             2020-06-22                 4488   \n",
              "1  Verra_Aggregated             2020-06-22                 4488   \n",
              "2  Verra_Aggregated             2020-06-22                 4488   \n",
              "3  Verra_Aggregated             2020-06-22                 4488   \n",
              "4  Verra_Aggregated             2020-06-22                 4488   \n",
              "\n",
              "   site_id_reported  site_sqkm  survival_rate_reported  \\\n",
              "0              3219   0.000355                     NaN   \n",
              "1              3222   0.000545                     NaN   \n",
              "2              3243   0.001256                     NaN   \n",
              "3              3244   0.000674                     NaN   \n",
              "4              3247   0.002447                     NaN   \n",
              "\n",
              "   trees_planted_reported                                                url  \\\n",
              "0                     NaN  https://registry.verra.org/mymodule/ProjectDoc...   \n",
              "1                     NaN  https://registry.verra.org/mymodule/ProjectDoc...   \n",
              "2                     NaN  https://registry.verra.org/mymodule/ProjectDoc...   \n",
              "3                     NaN  https://registry.verra.org/mymodule/ProjectDoc...   \n",
              "4                     NaN  https://registry.verra.org/mymodule/ProjectDoc...   \n",
              "\n",
              "   ...      created_site_ids  created_project_ids  Nested_in  \\\n",
              "0  ...  reforest_site_138746    reforest_proj_569        NaN   \n",
              "1  ...  reforest_site_138749    reforest_proj_569        NaN   \n",
              "2  ...  reforest_site_138758    reforest_proj_569        NaN   \n",
              "3  ...  reforest_site_138759    reforest_proj_569        NaN   \n",
              "4  ...  reforest_site_138762    reforest_proj_569        NaN   \n",
              "\n",
              "                                   Intersecting_with planting_year  \\\n",
              "0                                                NaN          2020   \n",
              "1                                                NaN          2020   \n",
              "2                                                NaN          2020   \n",
              "3                                                NaN          2020   \n",
              "4  reforest_site_141233, reforest_site_145249, re...          2020   \n",
              "\n",
              "   avg_precip_planting_year  avg_precip_1_year_after avg_precip_2_years_after  \\\n",
              "0                112.091666               100.666666                      NaN   \n",
              "1                112.091666               100.666666                      NaN   \n",
              "2                108.875000                98.449998                      NaN   \n",
              "3                112.275002               100.591665                      NaN   \n",
              "4                110.591668                99.399999                      NaN   \n",
              "\n",
              "   avg_precip_5_years_after                                           geometry  \n",
              "0                       NaN  POLYGON ((29.927252276298145 -1.67832094098189...  \n",
              "1                       NaN  POLYGON ((29.928924455558622 -1.68555805697985...  \n",
              "2                       NaN  POLYGON ((29.99128945015462 -1.723050182261426...  \n",
              "3                       NaN  POLYGON ((29.941846907617848 -1.66483660669508...  \n",
              "4                       NaN  POLYGON ((29.954033627606947 -1.77614466876067...  \n",
              "\n",
              "[5 rows x 40 columns]"
            ]
          },
          "execution_count": 20,
          "metadata": {},
          "output_type": "execute_result"
        }
      ],
      "source": [
        "\n",
        "file_path = '/home/idisc02/Downloads/Built_area_without_value.xlsx'\n",
        "\n",
        "\n",
        "df = pd.read_excel(file_path)\n",
        "\n",
        "\n",
        "df.head()"
      ]
    },
    {
      "cell_type": "code",
      "execution_count": null,
      "metadata": {
        "id": "We_p6BA_J8wV",
        "outputId": "3edb8f10-0e9d-48a9-f384-41d4471e468e"
      },
      "outputs": [
        {
          "name": "stdout",
          "output_type": "stream",
          "text": [
            "<class 'pandas.core.frame.DataFrame'>\n",
            "RangeIndex: 300 entries, 0 to 299\n",
            "Data columns (total 43 columns):\n",
            " #   Column                            Non-Null Count  Dtype         \n",
            "---  ------                            --------------  -----         \n",
            " 0   Site                              300 non-null    object        \n",
            " 1   Road Networks                     300 non-null    object        \n",
            " 2   Built Areas                       300 non-null    object        \n",
            " 3   country                           300 non-null    object        \n",
            " 4   description_reported              300 non-null    object        \n",
            " 5   host_name                         300 non-null    object        \n",
            " 6   planting_date_reported            300 non-null    datetime64[ns]\n",
            " 7   project_id_reported               300 non-null    int64         \n",
            " 8   site_id_reported                  300 non-null    int64         \n",
            " 9   site_sqkm                         300 non-null    float64       \n",
            " 10  survival_rate_reported            0 non-null      float64       \n",
            " 11  trees_planted_reported            0 non-null      float64       \n",
            " 12  url                               300 non-null    object        \n",
            " 13  geometry_reported                 300 non-null    object        \n",
            " 14  species_planted_reported          0 non-null      float64       \n",
            " 15  species_count_reported            0 non-null      float64       \n",
            " 16  built_area                        300 non-null    int64         \n",
            " 17  Built_Area_visual                 300 non-null    object        \n",
            " 18  intersecting_roads_count          300 non-null    int64         \n",
            " 19  total_road_length_km              300 non-null    float64       \n",
            " 20  Road_network_visual               300 non-null    object        \n",
            " 21  loss_pre_5                        300 non-null    float64       \n",
            " 22  loss_post_3                       300 non-null    float64       \n",
            " 23  loss_post_5                       300 non-null    float64       \n",
            " 24  tree_cover_area_2020              300 non-null    float64       \n",
            " 25  tree_cover_area_2015              300 non-null    float64       \n",
            " 26  tree_cover_area_2010              300 non-null    float64       \n",
            " 27  tree_cover_area_2005              300 non-null    float64       \n",
            " 28  tree_cover_area_2000              300 non-null    float64       \n",
            " 29  cropland gain from trees          300 non-null    float64       \n",
            " 30  cropland loss to tree             300 non-null    float64       \n",
            " 31  permanent water                   300 non-null    int64         \n",
            " 32  short vegetation after tree loss  300 non-null    float64       \n",
            " 33  created_site_ids                  300 non-null    object        \n",
            " 34  created_project_ids               300 non-null    object        \n",
            " 35  Nested_in                         0 non-null      float64       \n",
            " 36  Intersecting_with                 214 non-null    object        \n",
            " 37  planting_year                     300 non-null    int64         \n",
            " 38  avg_precip_planting_year          300 non-null    float64       \n",
            " 39  avg_precip_1_year_after           300 non-null    float64       \n",
            " 40  avg_precip_2_years_after          0 non-null      float64       \n",
            " 41  avg_precip_5_years_after          0 non-null      float64       \n",
            " 42  geometry                          300 non-null    object        \n",
            "dtypes: datetime64[ns](1), float64(22), int64(6), object(14)\n",
            "memory usage: 100.9+ KB\n"
          ]
        }
      ],
      "source": [
        "\n",
        "\n",
        "merged_df = pd.merge(data, df, left_on='Site', right_on='created_site_ids')\n",
        "\n",
        "merged_df.info()"
      ]
    },
    {
      "cell_type": "code",
      "execution_count": null,
      "metadata": {
        "id": "Ok4HuiwfJ8wW",
        "outputId": "ebb74a61-3211-42bf-d386-b8cd1e160b2f"
      },
      "outputs": [
        {
          "data": {
            "text/plain": [
              "0      No\n",
              "1      No\n",
              "2      No\n",
              "3      No\n",
              "4      No\n",
              "       ..\n",
              "295    No\n",
              "296    No\n",
              "297    No\n",
              "298    No\n",
              "299    No\n",
              "Name: Built_Area_visual, Length: 300, dtype: object"
            ]
          },
          "execution_count": 22,
          "metadata": {},
          "output_type": "execute_result"
        }
      ],
      "source": [
        "merged_df[\"Built_Area_visual\"]"
      ]
    },
    {
      "cell_type": "code",
      "execution_count": null,
      "metadata": {
        "id": "-SM4L4FQJ8wW",
        "outputId": "34692b77-774b-4da9-fb83-45386b541856"
      },
      "outputs": [
        {
          "data": {
            "image/png": "[encoded data removed]",
            "text/plain": [
              "<Figure size 600x600 with 1 Axes>"
            ]
          },
          "metadata": {},
          "output_type": "display_data"
        }
      ],
      "source": [
        "import matplotlib.pyplot as plt\n",
        "\n",
        "# Checking the Roadnetworks from physical and chatgpt\n",
        "yes_count_Road_Networks = (merged_df['Road Networks'] == 'Yes').sum()\n",
        "no_count_Road_Networks = (merged_df['Road Networks'] == 'No').sum()\n",
        "\n",
        "\n",
        "plt.figure(figsize=(6, 6))\n",
        "values_Road_Networks = [yes_count_Road_Networks, no_count_Road_Networks]\n",
        "labels_Road_Networks = ['Yes - Road Networks', 'No - Road Networks']\n",
        "plt.pie(values_Road_Networks, labels=labels_Road_Networks, autopct='%1.1f%%', startangle=140)\n",
        "plt.title('Road Networks Yes/No Distribution')\n",
        "plt.axis('equal')\n",
        "plt.show()"
      ]
    },
    {
      "cell_type": "code",
      "execution_count": null,
      "metadata": {
        "id": "sMNyvXWWJ8wW",
        "outputId": "357e9569-ca50-47bc-c2ee-055f7712a620"
      },
      "outputs": [
        {
          "data": {
            "image/png": "[encoded data removed]",
            "text/plain": [
              "<Figure size 600x600 with 1 Axes>"
            ]
          },
          "metadata": {},
          "output_type": "display_data"
        }
      ],
      "source": [
        "import matplotlib.pyplot as plt\n",
        "\n",
        "# Counts for \"Road_network_visual\"\n",
        "yes_count_Road_network_visual = (merged_df['Road_network_visual'] == 'Yes').sum()\n",
        "no_count_Road_network_visual = (merged_df['Road_network_visual'] == 'No').sum()\n",
        "\n",
        "# Plotting the pie chart for \"Road_network_visual\"\n",
        "plt.figure(figsize=(6, 6))\n",
        "values_Road_network_visual = [yes_count_Road_network_visual, no_count_Road_network_visual]\n",
        "labels_Road_network_visual = ['Yes - Road_network_visual', 'No - Road_network_visual']\n",
        "plt.pie(values_Road_network_visual, labels=labels_Road_network_visual, autopct='%1.1f%%', startangle=140)\n",
        "plt.title('Road_network_visual Yes/No Distribution')\n",
        "plt.axis('equal')\n",
        "plt.show()"
      ]
    },
    {
      "cell_type": "code",
      "execution_count": null,
      "metadata": {
        "id": "OXDy--oJJ8wW",
        "outputId": "2bd4a77e-404a-4da6-cab0-73d87c5276ae"
      },
      "outputs": [
        {
          "name": "stdout",
          "output_type": "stream",
          "text": [
            "Number of cases where both are \"Yes\": 11\n",
            "Number of cases where both are \"No\": 193\n"
          ]
        }
      ],
      "source": [
        "# Filtering and counting where both are \"Yes\"\n",
        "same_yes = merged_df[(merged_df['Road Networks'] == 'Yes') & (merged_df['want count of rows when the 2 column values are true '] == 'Yes')].shape[0]\n",
        "\n",
        "# Filtering and counting where both are \"No\"\n",
        "same_no = merged_df[(merged_df['Road Networks'] == 'No') & (merged_df['Road_network_visual'] == 'No')].shape[0]\n",
        "\n",
        "print(f'Number of cases where both are \"Yes\": {same_yes}')\n",
        "print(f'Number of cases where both are \"No\": {same_no}')"
      ]
    },
    {
      "cell_type": "code",
      "execution_count": null,
      "metadata": {
        "id": "O6l43VrwJ8wW",
        "outputId": "44209a85-d271-4e38-def2-423c58f3f16c"
      },
      "outputs": [
        {
          "name": "stdout",
          "output_type": "stream",
          "text": [
            "Percentage of cases where both are \"Yes\": 3.67%\n",
            "Percentage of cases where both are \"No\": 64.33%\n"
          ]
        }
      ],
      "source": [
        "total_rows = merged_df.shape[0]\n",
        "\n",
        "# Calculating the percentages\n",
        "same_yes_percentage = (same_yes / total_rows) * 100\n",
        "same_no_percentage = (same_no / total_rows) * 100\n",
        "\n",
        "\n",
        "print(f'Percentage of cases where both are \"Yes\": {same_yes_percentage:.2f}%')\n",
        "print(f'Percentage of cases where both are \"No\": {same_no_percentage:.2f}%')"
      ]
    },
    {
      "cell_type": "code",
      "execution_count": null,
      "metadata": {
        "id": "DIu4Uu48J8wX",
        "outputId": "ad5ba2ba-0942-4f55-a2e0-8f56861273ca"
      },
      "outputs": [
        {
          "name": "stdout",
          "output_type": "stream",
          "text": [
            "Number of cases where both are \"Yes\": 5\n",
            "Number of cases where both are \"No\": 198\n"
          ]
        }
      ],
      "source": [
        "# Filtering and counting where both are \"Yes\"\n",
        "built_yes = merged_df[(merged_df['Built Areas'] == 'Yes') & (merged_df['Built_Area_visual'] == 'Yes')].shape[0]\n",
        "\n",
        "# Filtering and counting where both are \"No\"\n",
        "built_no = merged_df[(merged_df['Built Areas'] == 'No') & (merged_df['Built_Area_visual'] == 'No')].shape[0]\n",
        "\n",
        "print(f'Number of cases where both are \"Yes\": {built_yes}')\n",
        "print(f'Number of cases where both are \"No\": {built_no}')"
      ]
    },
    {
      "cell_type": "code",
      "execution_count": null,
      "metadata": {
        "id": "UE_RB6n_J8wX",
        "outputId": "09e06fa9-c146-45b1-fc78-1e0e5433e7ca"
      },
      "outputs": [
        {
          "name": "stdout",
          "output_type": "stream",
          "text": [
            "Percentage of cases where both are \"Yes\": 1.67%\n",
            "Percentage of cases where both are \"No\": 66.00%\n"
          ]
        }
      ],
      "source": [
        "total_rows = merged_df.shape[0]\n",
        "\n",
        "# Calculate percentages\n",
        "same_yes_percentage = (built_yes/ total_rows) * 100\n",
        "same_no_percentage = (built_no / total_rows) * 100\n",
        "\n",
        "# Print results as percentages\n",
        "print(f'Percentage of cases where both are \"Yes\": {same_yes_percentage:.2f}%')\n",
        "print(f'Percentage of cases where both are \"No\": {same_no_percentage:.2f}%')"
      ]
    },
    {
      "cell_type": "code",
      "execution_count": null,
      "metadata": {
        "id": "mjJWiWCAJ8wX",
        "outputId": "a94980e9-2c06-4892-eb77-042b86994385"
      },
      "outputs": [
        {
          "data": {
            "image/png": "[encoded data removed]",
            "text/plain": [
              "<Figure size 640x480 with 1 Axes>"
            ]
          },
          "metadata": {},
          "output_type": "display_data"
        }
      ],
      "source": [
        "\n",
        "\n",
        "# Checking cases where the visual road network match the chat gpt results\n",
        "same_yes = merged_df[(merged_df['Road Networks'] == 'Yes') & (merged_df['Road_network_visual'] == 'Yes')].shape[0]\n",
        "same_no = merged_df[(merged_df['Road Networks'] == 'No') & (merged_df['Road_network_visual'] == 'No')].shape[0]\n",
        "\n",
        "\n",
        "same_values_count = same_yes + same_no\n",
        "\n",
        "\n",
        "total_rows = merged_df.shape[0]\n",
        "different_values_count = total_rows - same_values_count\n",
        "\n",
        "\n",
        "counts = [same_values_count, different_values_count]\n",
        "labels = ['Same Values', 'Different Values']\n",
        "plt.pie(counts, labels=labels, autopct='%1.1f%%')\n",
        "plt.title('Comparison of Same vs Different Values in Visual and chat gpt results')\n",
        "plt.show()"
      ]
    },
    {
      "cell_type": "code",
      "execution_count": null,
      "metadata": {
        "id": "7_AzFADGJ8wX",
        "outputId": "014126ad-b615-47d0-d397-659833d4c974"
      },
      "outputs": [
        {
          "data": {
            "image/png": "[encoded data removed]",
            "text/plain": [
              "<Figure size 640x480 with 1 Axes>"
            ]
          },
          "metadata": {},
          "output_type": "display_data"
        }
      ],
      "source": [
        "#checking cases where built are in chat gpt is equivalent to that from visual inspection\n",
        "same_yes = merged_df[(merged_df['Built Areas'] == 'Yes') & (merged_df['Built_Area_visual'] == 'Yes')].shape[0]\n",
        "same_no = merged_df[(merged_df['Built Areas'] == 'No') & (merged_df['Built_Area_visual'] == 'No')].shape[0]\n",
        "\n",
        "same_values_count = same_yes + same_no\n",
        "\n",
        "\n",
        "total_rows = merged_df.shape[0]\n",
        "different_values_count = total_rows - same_values_count\n",
        "\n",
        "\n",
        "counts = [same_values_count, different_values_count]\n",
        "labels = ['Same Values', 'Different Values']\n",
        "plt.pie(counts, labels=labels, autopct='%1.1f%%')\n",
        "plt.title('Comparison of Same vs Different Values in Columns')\n",
        "plt.show()"
      ]
    },
    {
      "cell_type": "markdown",
      "metadata": {
        "id": "iq9ph4PWJ8wX"
      },
      "source": [
        "#ChatGPT and data from Nasa and Global settlement\n",
        "Checking if chatgpt results match results from global settlement and nasa global roads"
      ]
    },
    {
      "cell_type": "code",
      "execution_count": null,
      "metadata": {
        "id": "Kso-eVWmJ8wY",
        "outputId": "d66d3509-c2cb-495c-d72d-085d3b740366"
      },
      "outputs": [
        {
          "name": "stdout",
          "output_type": "stream",
          "text": [
            "<class 'geopandas.geodataframe.GeoDataFrame'>\n",
            "RangeIndex: 300 entries, 0 to 299\n",
            "Data columns (total 38 columns):\n",
            " #   Column                            Non-Null Count  Dtype   \n",
            "---  ------                            --------------  -----   \n",
            " 0   country                           300 non-null    object  \n",
            " 1   description_reported              300 non-null    object  \n",
            " 2   host_name                         300 non-null    object  \n",
            " 3   planting_date_reported            300 non-null    object  \n",
            " 4   project_id_reported               300 non-null    object  \n",
            " 5   site_id_reported                  300 non-null    object  \n",
            " 6   site_sqkm                         300 non-null    float64 \n",
            " 7   survival_rate_reported            0 non-null      object  \n",
            " 8   trees_planted_reported            0 non-null      object  \n",
            " 9   url                               300 non-null    object  \n",
            " 10  geometry_reported                 300 non-null    object  \n",
            " 11  species_planted_reported          0 non-null      object  \n",
            " 12  species_count_reported            0 non-null      object  \n",
            " 13  built_area                        300 non-null    float64 \n",
            " 14  intersecting_roads_count          300 non-null    int64   \n",
            " 15  total_road_length_km              300 non-null    float64 \n",
            " 16  loss_pre_5                        300 non-null    float64 \n",
            " 17  loss_post_3                       300 non-null    float64 \n",
            " 18  loss_post_5                       300 non-null    float64 \n",
            " 19  tree_cover_area_2020              300 non-null    float64 \n",
            " 20  tree_cover_area_2015              300 non-null    float64 \n",
            " 21  tree_cover_area_2010              300 non-null    float64 \n",
            " 22  tree_cover_area_2005              300 non-null    float64 \n",
            " 23  tree_cover_area_2000              300 non-null    float64 \n",
            " 24  cropland gain from trees          300 non-null    float64 \n",
            " 25  cropland loss to tree             300 non-null    float64 \n",
            " 26  permanent water                   300 non-null    float64 \n",
            " 27  short vegetation after tree loss  300 non-null    float64 \n",
            " 28  created_site_ids                  300 non-null    object  \n",
            " 29  created_project_ids               300 non-null    object  \n",
            " 30  Nested_in                         0 non-null      object  \n",
            " 31  Intersecting_with                 263 non-null    object  \n",
            " 32  planting_year                     300 non-null    float64 \n",
            " 33  avg_precip_planting_year          300 non-null    float64 \n",
            " 34  avg_precip_1_year_after           300 non-null    float64 \n",
            " 35  avg_precip_2_years_after          0 non-null      object  \n",
            " 36  avg_precip_5_years_after          0 non-null      object  \n",
            " 37  geometry                          300 non-null    geometry\n",
            "dtypes: float64(18), geometry(1), int64(1), object(18)\n",
            "memory usage: 89.2+ KB\n"
          ]
        }
      ],
      "source": [
        "geojson_path = \"/home/idisc02/Forest_Monitoring/input/New_built_area_filtered_sample.geojson\"\n",
        "\n",
        "\n",
        "gdf = gpd.read_file(geojson_path)\n",
        "gdf.info()"
      ]
    },
    {
      "cell_type": "code",
      "execution_count": null,
      "metadata": {
        "id": "3aV0tFoEJ8wY"
      },
      "outputs": [],
      "source": [
        "gdf[\"created_site_ids\"]"
      ]
    },
    {
      "cell_type": "code",
      "execution_count": null,
      "metadata": {
        "id": "ejtNl-vLJ8wY",
        "outputId": "7164dde5-0754-4f89-9e17-fe7d4fb9e0e0"
      },
      "outputs": [
        {
          "name": "stdout",
          "output_type": "stream",
          "text": [
            "<class 'pandas.core.frame.DataFrame'>\n",
            "RangeIndex: 57 entries, 0 to 56\n",
            "Data columns (total 3 columns):\n",
            " #   Column         Non-Null Count  Dtype \n",
            "---  ------         --------------  ----- \n",
            " 0   Site           57 non-null     object\n",
            " 1   Road Networks  57 non-null     object\n",
            " 2   Built Areas    57 non-null     object\n",
            "dtypes: object(3)\n",
            "memory usage: 1.5+ KB\n"
          ]
        }
      ],
      "source": [
        "df_gpt= pd.read_csv('/home/idisc02/Downloads/chatgpt_built.csv')\n",
        "df_gpt.info()"
      ]
    },
    {
      "cell_type": "code",
      "execution_count": null,
      "metadata": {
        "id": "52vRdZcUJ8wY",
        "outputId": "8e8d6e61-1a45-4b85-cbab-3977b6d7bc2e"
      },
      "outputs": [
        {
          "name": "stdout",
          "output_type": "stream",
          "text": [
            "<class 'pandas.core.frame.DataFrame'>\n",
            "RangeIndex: 57 entries, 0 to 56\n",
            "Data columns (total 41 columns):\n",
            " #   Column                            Non-Null Count  Dtype   \n",
            "---  ------                            --------------  -----   \n",
            " 0   Site                              57 non-null     object  \n",
            " 1   Road Networks                     57 non-null     object  \n",
            " 2   Built Areas                       57 non-null     object  \n",
            " 3   country                           57 non-null     object  \n",
            " 4   description_reported              57 non-null     object  \n",
            " 5   host_name                         57 non-null     object  \n",
            " 6   planting_date_reported            57 non-null     object  \n",
            " 7   project_id_reported               57 non-null     object  \n",
            " 8   site_id_reported                  57 non-null     object  \n",
            " 9   site_sqkm                         57 non-null     float64 \n",
            " 10  survival_rate_reported            0 non-null      object  \n",
            " 11  trees_planted_reported            0 non-null      object  \n",
            " 12  url                               57 non-null     object  \n",
            " 13  geometry_reported                 57 non-null     object  \n",
            " 14  species_planted_reported          0 non-null      object  \n",
            " 15  species_count_reported            0 non-null      object  \n",
            " 16  built_area                        57 non-null     float64 \n",
            " 17  intersecting_roads_count          57 non-null     int64   \n",
            " 18  total_road_length_km              57 non-null     float64 \n",
            " 19  loss_pre_5                        57 non-null     float64 \n",
            " 20  loss_post_3                       57 non-null     float64 \n",
            " 21  loss_post_5                       57 non-null     float64 \n",
            " 22  tree_cover_area_2020              57 non-null     float64 \n",
            " 23  tree_cover_area_2015              57 non-null     float64 \n",
            " 24  tree_cover_area_2010              57 non-null     float64 \n",
            " 25  tree_cover_area_2005              57 non-null     float64 \n",
            " 26  tree_cover_area_2000              57 non-null     float64 \n",
            " 27  cropland gain from trees          57 non-null     float64 \n",
            " 28  cropland loss to tree             57 non-null     float64 \n",
            " 29  permanent water                   57 non-null     float64 \n",
            " 30  short vegetation after tree loss  57 non-null     float64 \n",
            " 31  created_site_ids                  57 non-null     object  \n",
            " 32  created_project_ids               57 non-null     object  \n",
            " 33  Nested_in                         0 non-null      object  \n",
            " 34  Intersecting_with                 50 non-null     object  \n",
            " 35  planting_year                     57 non-null     float64 \n",
            " 36  avg_precip_planting_year          57 non-null     float64 \n",
            " 37  avg_precip_1_year_after           57 non-null     float64 \n",
            " 38  avg_precip_2_years_after          0 non-null      object  \n",
            " 39  avg_precip_5_years_after          0 non-null      object  \n",
            " 40  geometry                          57 non-null     geometry\n",
            "dtypes: float64(18), geometry(1), int64(1), object(21)\n",
            "memory usage: 18.4+ KB\n"
          ]
        }
      ],
      "source": [
        "\n",
        "merged_df_gpt = pd.merge(df_gpt,gdf ,left_on='Site', right_on='created_site_ids')\n",
        "\n",
        "merged_df_gpt.info()"
      ]
    },
    {
      "cell_type": "code",
      "execution_count": null,
      "metadata": {
        "id": "rxhW_2oIJ8wZ",
        "outputId": "9e400e9b-5d01-4fc3-8b9b-05c2ea5a0622"
      },
      "outputs": [
        {
          "data": {
            "text/plain": [
              "0      No\n",
              "1      No\n",
              "2      No\n",
              "3     Yes\n",
              "4      No\n",
              "5      No\n",
              "6     Yes\n",
              "7      No\n",
              "8      No\n",
              "9      No\n",
              "10    Yes\n",
              "11    Yes\n",
              "12     No\n",
              "13     No\n",
              "14     No\n",
              "15     No\n",
              "16     No\n",
              "17     No\n",
              "18     No\n",
              "19    Yes\n",
              "20    Yes\n",
              "21     No\n",
              "22    Yes\n",
              "23     No\n",
              "24     No\n",
              "25     No\n",
              "26     No\n",
              "27    Yes\n",
              "28     No\n",
              "29     No\n",
              "30     No\n",
              "31    Yes\n",
              "32     No\n",
              "33     No\n",
              "34     No\n",
              "35     No\n",
              "36     No\n",
              "37     No\n",
              "38     No\n",
              "39     No\n",
              "40     No\n",
              "41     No\n",
              "42     No\n",
              "43    Yes\n",
              "44    Yes\n",
              "45     No\n",
              "46     No\n",
              "47     No\n",
              "48     No\n",
              "49    Yes\n",
              "50     No\n",
              "51    Yes\n",
              "52     No\n",
              "53     No\n",
              "54     No\n",
              "55     No\n",
              "56    Yes\n",
              "Name: Built Areas, dtype: object"
            ]
          },
          "execution_count": 46,
          "metadata": {},
          "output_type": "execute_result"
        }
      ],
      "source": [
        "merged_df_gpt[\"Built Areas\"]"
      ]
    },
    {
      "cell_type": "code",
      "execution_count": null,
      "metadata": {
        "id": "J8qf2EBBJ8wZ",
        "outputId": "67370830-d252-4f28-f8f4-e75e36384bc1"
      },
      "outputs": [
        {
          "data": {
            "image/png": "[encoded data removed]",
            "text/plain": [
              "<Figure size 800x600 with 1 Axes>"
            ]
          },
          "metadata": {},
          "output_type": "display_data"
        }
      ],
      "source": [
        "\n",
        "counts = merged_df_gpt[\"Built Areas\"].value_counts()\n",
        "\n",
        "plt.figure(figsize=(8, 6))\n",
        "plt.pie(counts, labels=counts.index, autopct='%1.1f%%', startangle=140)\n",
        "plt.title('Distribution of Built Areas')\n",
        "plt.show()"
      ]
    },
    {
      "cell_type": "code",
      "execution_count": null,
      "metadata": {
        "id": "odnVghkBJ8wZ"
      },
      "outputs": [],
      "source": []
    }
  ],
  "metadata": {
    "kernelspec": {
      "display_name": "base",
      "language": "python",
      "name": "base"
    },
    "language_info": {
      "codemirror_mode": {
        "name": "ipython",
        "version": 3
      },
      "file_extension": ".py",
      "mimetype": "text/x-python",
      "name": "python",
      "nbconvert_exporter": "python",
      "pygments_lexer": "ipython3",
      "version": "3.10.11"
    },
    "colab": {
      "provenance": []
    }
  },
  "nbformat": 4,
  "nbformat_minor": 0
}