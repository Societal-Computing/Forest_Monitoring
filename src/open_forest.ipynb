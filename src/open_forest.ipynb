{
 "cells": [
  {
   "cell_type": "code",
   "execution_count": 1,
   "metadata": {},
   "outputs": [],
   "source": [
    "import pandas as pd\n",
    "import geopandas as gpd\n",
    "import requests\n",
    "\n",
    "from shapely.geometry import Polygon\n",
    "\n",
    "from helper_functions import remove_trailing_zeros"
   ]
  },
  {
   "cell_type": "code",
   "execution_count": 2,
   "metadata": {},
   "outputs": [
    {
     "data": {
      "text/html": [
       "\n",
       "            <style>\n",
       "                .geemap-dark {\n",
       "                    --jp-widgets-color: white;\n",
       "                    --jp-widgets-label-color: white;\n",
       "                    --jp-ui-font-color1: white;\n",
       "                    --jp-layout-color2: #454545;\n",
       "                    background-color: #383838;\n",
       "                }\n",
       "\n",
       "                .geemap-dark .jupyter-button {\n",
       "                    --jp-layout-color3: #383838;\n",
       "                }\n",
       "\n",
       "                .geemap-colab {\n",
       "                    background-color: var(--colab-primary-surface-color, white);\n",
       "                }\n",
       "\n",
       "                .geemap-colab .jupyter-button {\n",
       "                    --jp-layout-color3: var(--colab-primary-surface-color, white);\n",
       "                }\n",
       "            </style>\n",
       "            "
      ],
      "text/plain": [
       "<IPython.core.display.HTML object>"
      ]
     },
     "metadata": {},
     "output_type": "display_data"
    }
   ],
   "source": [
    "\n",
    "\n",
    "url = \"https://atlas.openforestprotocol.org/_next/data/QYgQ6w94CfP8KqSblp6WH/index.json\"\n",
    "\n",
    "response = requests.get(url)\n",
    "\n",
    "\n",
    "if response.status_code == 200:\n",
    "    data = response.json()\n",
    "\n",
    "\n",
    "    hits = data.get(\"pageProps\", {}).get(\"projects\", {}).get(\"hits\", {}).get(\"hits\", [])\n",
    "\n",
    " \n",
    "    df = pd.json_normalize(hits, sep='_')\n",
    "\n",
    "    # Cleaning up column names\n",
    "    df.columns = df.columns.str.replace(r'^_', '', regex=True)  # Remove leading underscores\n",
    "    df.columns = df.columns.str.replace(r'source_', '', regex=True)  # Remove '_source_' prefi\n"
   ]
  },
  {
   "cell_type": "code",
   "execution_count": 3,
   "metadata": {},
   "outputs": [
    {
     "data": {
      "text/html": [
       "\n",
       "            <style>\n",
       "                .geemap-dark {\n",
       "                    --jp-widgets-color: white;\n",
       "                    --jp-widgets-label-color: white;\n",
       "                    --jp-ui-font-color1: white;\n",
       "                    --jp-layout-color2: #454545;\n",
       "                    background-color: #383838;\n",
       "                }\n",
       "\n",
       "                .geemap-dark .jupyter-button {\n",
       "                    --jp-layout-color3: #383838;\n",
       "                }\n",
       "\n",
       "                .geemap-colab {\n",
       "                    background-color: var(--colab-primary-surface-color, white);\n",
       "                }\n",
       "\n",
       "                .geemap-colab .jupyter-button {\n",
       "                    --jp-layout-color3: var(--colab-primary-surface-color, white);\n",
       "                }\n",
       "            </style>\n",
       "            "
      ],
      "text/plain": [
       "<IPython.core.display.HTML object>"
      ]
     },
     "metadata": {},
     "output_type": "display_data"
    },
    {
     "name": "stdout",
     "output_type": "stream",
     "text": [
      "<class 'pandas.core.frame.DataFrame'>\n",
      "RangeIndex: 285 entries, 0 to 284\n",
      "Data columns (total 27 columns):\n",
      " #   Column                        Non-Null Count  Dtype  \n",
      "---  ------                        --------------  -----  \n",
      " 0   index                         285 non-null    object \n",
      " 1   id                            285 non-null    object \n",
      " 2   seq_no                        0 non-null      object \n",
      " 3   primary_term                  0 non-null      object \n",
      " 4   sort                          285 non-null    object \n",
      " 5   project_id                    285 non-null    object \n",
      " 6   type                          285 non-null    object \n",
      " 7   regionShortCode               284 non-null    object \n",
      " 8   developer                     285 non-null    object \n",
      " 9   name                          285 non-null    object \n",
      " 10  region                        285 non-null    object \n",
      " 11  polygonCoordinate             285 non-null    object \n",
      " 12  square                        285 non-null    object \n",
      " 13  cidScreenShot                 285 non-null    object \n",
      " 14  iconCidDir                    285 non-null    object \n",
      " 15  aboutProject                  285 non-null    object \n",
      " 16  goals                         285 non-null    object \n",
      " 17  attribute_carbon              20 non-null     object \n",
      " 18  leakage_leakage               20 non-null     object \n",
      " 19  leakage_forestType_type       20 non-null     float64\n",
      " 20  leakage_forestType_tree       20 non-null     float64\n",
      " 21  leakage_rainfall              20 non-null     object \n",
      " 22  leakage_baselineDefaultValue  23 non-null     object \n",
      " 23  leakage_zones                 16 non-null     object \n",
      " 24  leakage_carbonApprove         23 non-null     object \n",
      " 25  leakage_comment               3 non-null      object \n",
      " 26  leakage_dateDenied            3 non-null      object \n",
      "dtypes: float64(2), object(25)\n",
      "memory usage: 60.2+ KB\n"
     ]
    }
   ],
   "source": [
    "df.info()"
   ]
  },
  {
   "cell_type": "code",
   "execution_count": 4,
   "metadata": {},
   "outputs": [
    {
     "data": {
      "text/html": [
       "\n",
       "            <style>\n",
       "                .geemap-dark {\n",
       "                    --jp-widgets-color: white;\n",
       "                    --jp-widgets-label-color: white;\n",
       "                    --jp-ui-font-color1: white;\n",
       "                    --jp-layout-color2: #454545;\n",
       "                    background-color: #383838;\n",
       "                }\n",
       "\n",
       "                .geemap-dark .jupyter-button {\n",
       "                    --jp-layout-color3: #383838;\n",
       "                }\n",
       "\n",
       "                .geemap-colab {\n",
       "                    background-color: var(--colab-primary-surface-color, white);\n",
       "                }\n",
       "\n",
       "                .geemap-colab .jupyter-button {\n",
       "                    --jp-layout-color3: var(--colab-primary-surface-color, white);\n",
       "                }\n",
       "            </style>\n",
       "            "
      ],
      "text/plain": [
       "<IPython.core.display.HTML object>"
      ]
     },
     "metadata": {},
     "output_type": "display_data"
    }
   ],
   "source": [
    "# df = pd.read_json('../input/Atlas/Atlas_data_frame.json')\n",
    "# df.info()"
   ]
  },
  {
   "cell_type": "markdown",
   "metadata": {},
   "source": [
    "### Clean up geometry column"
   ]
  },
  {
   "cell_type": "markdown",
   "metadata": {},
   "source": [
    "Remove excessive zeros"
   ]
  },
  {
   "cell_type": "code",
   "execution_count": 5,
   "metadata": {},
   "outputs": [
    {
     "data": {
      "text/html": [
       "\n",
       "            <style>\n",
       "                .geemap-dark {\n",
       "                    --jp-widgets-color: white;\n",
       "                    --jp-widgets-label-color: white;\n",
       "                    --jp-ui-font-color1: white;\n",
       "                    --jp-layout-color2: #454545;\n",
       "                    background-color: #383838;\n",
       "                }\n",
       "\n",
       "                .geemap-dark .jupyter-button {\n",
       "                    --jp-layout-color3: #383838;\n",
       "                }\n",
       "\n",
       "                .geemap-colab {\n",
       "                    background-color: var(--colab-primary-surface-color, white);\n",
       "                }\n",
       "\n",
       "                .geemap-colab .jupyter-button {\n",
       "                    --jp-layout-color3: var(--colab-primary-surface-color, white);\n",
       "                }\n",
       "            </style>\n",
       "            "
      ],
      "text/plain": [
       "<IPython.core.display.HTML object>"
      ]
     },
     "metadata": {},
     "output_type": "display_data"
    },
    {
     "data": {
      "text/plain": [
       "0      [[[-97.9555704, 30.136472, 0], [-97.9555678, 3...\n",
       "1      [[[79.4147657, 12.90351, 0], [79.4147415, 12.9...\n",
       "2      [[[34.50747555742856, 0.2299028441952135, 1370...\n",
       "3      [[[-89.53625081492414, 16.365542322241154], [-...\n",
       "4      [[[-89.528162, 16.922236, 0], [-89.5273918, 16...\n",
       "                             ...                        \n",
       "280    [[[-76.4483506369876, -6.384513412496722, 0], ...\n",
       "281    [[[-76.12956027421468, -6.602165490968678], [-...\n",
       "282    [[[-76.1045134, -6.5638766, 0], [-76.1045175, ...\n",
       "283    [[[-76.1580794, -6.6076822, 0], [-76.1580911, ...\n",
       "284    [[[-76.0242417, -6.57401, 0], [-76.0242005, -6...\n",
       "Name: polygonCoordinate, Length: 285, dtype: object"
      ]
     },
     "execution_count": 5,
     "metadata": {},
     "output_type": "execute_result"
    }
   ],
   "source": [
    "df['polygonCoordinate']"
   ]
  },
  {
   "cell_type": "code",
   "execution_count": 6,
   "metadata": {},
   "outputs": [
    {
     "data": {
      "text/html": [
       "\n",
       "            <style>\n",
       "                .geemap-dark {\n",
       "                    --jp-widgets-color: white;\n",
       "                    --jp-widgets-label-color: white;\n",
       "                    --jp-ui-font-color1: white;\n",
       "                    --jp-layout-color2: #454545;\n",
       "                    background-color: #383838;\n",
       "                }\n",
       "\n",
       "                .geemap-dark .jupyter-button {\n",
       "                    --jp-layout-color3: #383838;\n",
       "                }\n",
       "\n",
       "                .geemap-colab {\n",
       "                    background-color: var(--colab-primary-surface-color, white);\n",
       "                }\n",
       "\n",
       "                .geemap-colab .jupyter-button {\n",
       "                    --jp-layout-color3: var(--colab-primary-surface-color, white);\n",
       "                }\n",
       "            </style>\n",
       "            "
      ],
      "text/plain": [
       "<IPython.core.display.HTML object>"
      ]
     },
     "metadata": {},
     "output_type": "display_data"
    }
   ],
   "source": [
    "def remove_third_value(coord):\n",
    "\n",
    "    return coord[:2] if len(coord) > 2 else coord\n",
    "\n",
    "def remove_third_value_from_list(coord_list):\n",
    "    return [[remove_third_value(coord) for coord in sublist] for sublist in coord_list]\n",
    "\n",
    "df['geometry'] = df['polygonCoordinate'].apply(remove_third_value_from_list)"
   ]
  },
  {
   "cell_type": "markdown",
   "metadata": {},
   "source": [
    "Adjust format of coordinates"
   ]
  },
  {
   "cell_type": "code",
   "execution_count": 7,
   "metadata": {},
   "outputs": [
    {
     "data": {
      "text/html": [
       "\n",
       "            <style>\n",
       "                .geemap-dark {\n",
       "                    --jp-widgets-color: white;\n",
       "                    --jp-widgets-label-color: white;\n",
       "                    --jp-ui-font-color1: white;\n",
       "                    --jp-layout-color2: #454545;\n",
       "                    background-color: #383838;\n",
       "                }\n",
       "\n",
       "                .geemap-dark .jupyter-button {\n",
       "                    --jp-layout-color3: #383838;\n",
       "                }\n",
       "\n",
       "                .geemap-colab {\n",
       "                    background-color: var(--colab-primary-surface-color, white);\n",
       "                }\n",
       "\n",
       "                .geemap-colab .jupyter-button {\n",
       "                    --jp-layout-color3: var(--colab-primary-surface-color, white);\n",
       "                }\n",
       "            </style>\n",
       "            "
      ],
      "text/plain": [
       "<IPython.core.display.HTML object>"
      ]
     },
     "metadata": {},
     "output_type": "display_data"
    },
    {
     "name": "stdout",
     "output_type": "stream",
     "text": [
      "        index             id seq_no primary_term                   sort  \\\n",
      "0    projects  1658928733175   None         None  [1659029210203715858]   \n",
      "1    projects  1661949769192   None         None  [1661949830372869074]   \n",
      "2    projects  1662054172732   None         None  [1662483722835113383]   \n",
      "3    projects  1662665088823   None         None  [1662665620078210122]   \n",
      "4    projects  1659544487696   None         None  [1665176192519129488]   \n",
      "..        ...            ...    ...          ...                    ...   \n",
      "280  projects  1744146266171   None         None  [1744147021315507477]   \n",
      "281  projects  1744192265189   None         None  [1744192471787709343]   \n",
      "282  projects  1744135855654   None         None  [1744193102468158291]   \n",
      "283  projects  1744193016071   None         None  [1744193295644616355]   \n",
      "284  projects  1744299155214   None         None  [1744299278470368105]   \n",
      "\n",
      "        project_id           type regionShortCode  \\\n",
      "0    1658928733175   conservation              us   \n",
      "1    1661949769192  reforestation              in   \n",
      "2    1662054172732  reforestation              ke   \n",
      "3    1662665088823  reforestation              gt   \n",
      "4    1659544487696  reforestation              gt   \n",
      "..             ...            ...             ...   \n",
      "280  1744146266171  reforestation              pe   \n",
      "281  1744192265189  reforestation              pe   \n",
      "282  1744135855654  reforestation              pe   \n",
      "283  1744193016071  reforestation              pe   \n",
      "284  1744299155214  reforestation              pe   \n",
      "\n",
      "                                             developer  \\\n",
      "0                Texas Ecosystem Restoration Alliance    \n",
      "1                                Biotasoil Foundation    \n",
      "2                         Vision Farmers' Organization   \n",
      "3                                   Forests To Fortune   \n",
      "4                                  Green Balam Forests   \n",
      "..                                                 ...   \n",
      "280  Centro de Innovación y Gestión para el Desarro...   \n",
      "281                                       Allima Cacao   \n",
      "282                                       Allima Cacao   \n",
      "283                                       Allima Cacao   \n",
      "284                                       Allima Cacao   \n",
      "\n",
      "                                                  name  ... leakage_leakage  \\\n",
      "0                                      Juniper Forest   ...             NaN   \n",
      "1                                         Wheels India  ...             NaN   \n",
      "2                                  Butere Tree Project  ...             NaN   \n",
      "3                      Las Azucenas Tropical Hardwoods  ...             NaN   \n",
      "4                       Xibalba Reforestation Project   ...             NaN   \n",
      "..                                                 ...  ...             ...   \n",
      "280  PROGRAMA DE DESARROLLO FORESTAL NO MADERABLE D...  ...             NaN   \n",
      "281      Agroforestry Project (Miliciades S., A., 005)  ...             NaN   \n",
      "282    Agroforestry Project (Julio Antonio S. I., 029)  ...             NaN   \n",
      "283         Agroforestry Project (Ivonnee P., V., 023)  ...             NaN   \n",
      "284     Agroforestry Project (Eladio S., P., D., 027)   ...             NaN   \n",
      "\n",
      "    leakage_forestType_type leakage_forestType_tree leakage_rainfall  \\\n",
      "0                       NaN                     NaN              NaN   \n",
      "1                       NaN                     NaN              NaN   \n",
      "2                       NaN                     NaN              NaN   \n",
      "3                       NaN                     NaN              NaN   \n",
      "4                       NaN                     NaN              NaN   \n",
      "..                      ...                     ...              ...   \n",
      "280                     NaN                     NaN              NaN   \n",
      "281                     NaN                     NaN              NaN   \n",
      "282                     NaN                     NaN              NaN   \n",
      "283                     NaN                     NaN              NaN   \n",
      "284                     NaN                     NaN              NaN   \n",
      "\n",
      "    leakage_baselineDefaultValue leakage_zones leakage_carbonApprove  \\\n",
      "0                            NaN           NaN                   NaN   \n",
      "1                            NaN           NaN                   NaN   \n",
      "2                            NaN           NaN                   NaN   \n",
      "3                            NaN           NaN                   NaN   \n",
      "4                            NaN           NaN                   NaN   \n",
      "..                           ...           ...                   ...   \n",
      "280                          NaN           NaN                   NaN   \n",
      "281                          NaN           NaN                   NaN   \n",
      "282                          NaN           NaN                   NaN   \n",
      "283                          NaN           NaN                   NaN   \n",
      "284                          NaN           NaN                   NaN   \n",
      "\n",
      "    leakage_comment leakage_dateDenied  \\\n",
      "0               NaN                NaN   \n",
      "1               NaN                NaN   \n",
      "2               NaN                NaN   \n",
      "3               NaN                NaN   \n",
      "4               NaN                NaN   \n",
      "..              ...                ...   \n",
      "280             NaN                NaN   \n",
      "281             NaN                NaN   \n",
      "282             NaN                NaN   \n",
      "283             NaN                NaN   \n",
      "284             NaN                NaN   \n",
      "\n",
      "                                              geometry  \n",
      "0    POLYGON ((-97.95557 30.13647, -97.95557 30.136...  \n",
      "1    POLYGON ((79.41477 12.90351, 79.41474 12.90284...  \n",
      "2    POLYGON ((34.50748 0.22990, 34.50679 0.22942, ...  \n",
      "3    POLYGON ((-89.53625 16.36554, -89.53501 16.360...  \n",
      "4    POLYGON ((-89.52816 16.92224, -89.52739 16.930...  \n",
      "..                                                 ...  \n",
      "280  POLYGON ((-76.44835 -6.38451, -76.44891 -6.384...  \n",
      "281  POLYGON ((-76.12956 -6.60217, -76.12934 -6.602...  \n",
      "282  POLYGON ((-76.10451 -6.56388, -76.10452 -6.563...  \n",
      "283  POLYGON ((-76.15808 -6.60768, -76.15809 -6.607...  \n",
      "284  POLYGON ((-76.02424 -6.57401, -76.02420 -6.574...  \n",
      "\n",
      "[285 rows x 28 columns]\n"
     ]
    }
   ],
   "source": [
    "\n",
    "df['geometry'] = df['geometry'].apply(lambda x: Polygon(x[0]))\n",
    "\n",
    "# Create GeoDataFrame\n",
    "gdf = gpd.GeoDataFrame(df, geometry='geometry', crs='EPSG:4326')\n",
    "\n",
    "print(gdf)\n"
   ]
  },
  {
   "cell_type": "code",
   "execution_count": 8,
   "metadata": {},
   "outputs": [
    {
     "data": {
      "text/html": [
       "\n",
       "            <style>\n",
       "                .geemap-dark {\n",
       "                    --jp-widgets-color: white;\n",
       "                    --jp-widgets-label-color: white;\n",
       "                    --jp-ui-font-color1: white;\n",
       "                    --jp-layout-color2: #454545;\n",
       "                    background-color: #383838;\n",
       "                }\n",
       "\n",
       "                .geemap-dark .jupyter-button {\n",
       "                    --jp-layout-color3: #383838;\n",
       "                }\n",
       "\n",
       "                .geemap-colab {\n",
       "                    background-color: var(--colab-primary-surface-color, white);\n",
       "                }\n",
       "\n",
       "                .geemap-colab .jupyter-button {\n",
       "                    --jp-layout-color3: var(--colab-primary-surface-color, white);\n",
       "                }\n",
       "            </style>\n",
       "            "
      ],
      "text/plain": [
       "<IPython.core.display.HTML object>"
      ]
     },
     "metadata": {},
     "output_type": "display_data"
    }
   ],
   "source": [
    "gdf = gpd.GeoDataFrame(df, geometry = 'geometry', crs = 'EPSG:4326')\n"
   ]
  },
  {
   "cell_type": "code",
   "execution_count": 9,
   "metadata": {},
   "outputs": [
    {
     "data": {
      "text/html": [
       "\n",
       "            <style>\n",
       "                .geemap-dark {\n",
       "                    --jp-widgets-color: white;\n",
       "                    --jp-widgets-label-color: white;\n",
       "                    --jp-ui-font-color1: white;\n",
       "                    --jp-layout-color2: #454545;\n",
       "                    background-color: #383838;\n",
       "                }\n",
       "\n",
       "                .geemap-dark .jupyter-button {\n",
       "                    --jp-layout-color3: #383838;\n",
       "                }\n",
       "\n",
       "                .geemap-colab {\n",
       "                    background-color: var(--colab-primary-surface-color, white);\n",
       "                }\n",
       "\n",
       "                .geemap-colab .jupyter-button {\n",
       "                    --jp-layout-color3: var(--colab-primary-surface-color, white);\n",
       "                }\n",
       "            </style>\n",
       "            "
      ],
      "text/plain": [
       "<IPython.core.display.HTML object>"
      ]
     },
     "metadata": {},
     "output_type": "display_data"
    }
   ],
   "source": [
    "gdf = gdf.explode(index_parts=False)"
   ]
  },
  {
   "cell_type": "markdown",
   "metadata": {},
   "source": [
    "Dismiss polygons with faulty coordinates"
   ]
  },
  {
   "cell_type": "code",
   "execution_count": 10,
   "metadata": {},
   "outputs": [
    {
     "data": {
      "text/html": [
       "\n",
       "            <style>\n",
       "                .geemap-dark {\n",
       "                    --jp-widgets-color: white;\n",
       "                    --jp-widgets-label-color: white;\n",
       "                    --jp-ui-font-color1: white;\n",
       "                    --jp-layout-color2: #454545;\n",
       "                    background-color: #383838;\n",
       "                }\n",
       "\n",
       "                .geemap-dark .jupyter-button {\n",
       "                    --jp-layout-color3: #383838;\n",
       "                }\n",
       "\n",
       "                .geemap-colab {\n",
       "                    background-color: var(--colab-primary-surface-color, white);\n",
       "                }\n",
       "\n",
       "                .geemap-colab .jupyter-button {\n",
       "                    --jp-layout-color3: var(--colab-primary-surface-color, white);\n",
       "                }\n",
       "            </style>\n",
       "            "
      ],
      "text/plain": [
       "<IPython.core.display.HTML object>"
      ]
     },
     "metadata": {},
     "output_type": "display_data"
    },
    {
     "name": "stderr",
     "output_type": "stream",
     "text": [
      "/Library/Frameworks/Python.framework/Versions/3.11/lib/python3.11/site-packages/geopandas/geoseries.py:645: FutureWarning: the convert_dtype parameter is deprecated and will be removed in a future version.  Do ``ser.astype(object).apply()`` instead if you want ``convert_dtype=False``.\n",
      "  result = super().apply(func, convert_dtype=convert_dtype, args=args, **kwargs)\n"
     ]
    }
   ],
   "source": [
    "gdf['geometry'] = gdf['geometry'].apply(\n",
    "    lambda geom: Polygon() if not geom.is_empty and any(abs(coord) > 180 for x, y in geom.exterior.coords for coord in (x, y)) else geom\n",
    ")"
   ]
  },
  {
   "cell_type": "code",
   "execution_count": 11,
   "metadata": {},
   "outputs": [
    {
     "data": {
      "text/html": [
       "\n",
       "            <style>\n",
       "                .geemap-dark {\n",
       "                    --jp-widgets-color: white;\n",
       "                    --jp-widgets-label-color: white;\n",
       "                    --jp-ui-font-color1: white;\n",
       "                    --jp-layout-color2: #454545;\n",
       "                    background-color: #383838;\n",
       "                }\n",
       "\n",
       "                .geemap-dark .jupyter-button {\n",
       "                    --jp-layout-color3: #383838;\n",
       "                }\n",
       "\n",
       "                .geemap-colab {\n",
       "                    background-color: var(--colab-primary-surface-color, white);\n",
       "                }\n",
       "\n",
       "                .geemap-colab .jupyter-button {\n",
       "                    --jp-layout-color3: var(--colab-primary-surface-color, white);\n",
       "                }\n",
       "            </style>\n",
       "            "
      ],
      "text/plain": [
       "<IPython.core.display.HTML object>"
      ]
     },
     "metadata": {},
     "output_type": "display_data"
    }
   ],
   "source": [
    "gdf['geometry'] = gdf.make_valid()"
   ]
  },
  {
   "cell_type": "markdown",
   "metadata": {},
   "source": [
    "### Harmonize nomenclature"
   ]
  },
  {
   "cell_type": "code",
   "execution_count": 12,
   "metadata": {},
   "outputs": [
    {
     "data": {
      "text/html": [
       "\n",
       "            <style>\n",
       "                .geemap-dark {\n",
       "                    --jp-widgets-color: white;\n",
       "                    --jp-widgets-label-color: white;\n",
       "                    --jp-ui-font-color1: white;\n",
       "                    --jp-layout-color2: #454545;\n",
       "                    background-color: #383838;\n",
       "                }\n",
       "\n",
       "                .geemap-dark .jupyter-button {\n",
       "                    --jp-layout-color3: #383838;\n",
       "                }\n",
       "\n",
       "                .geemap-colab {\n",
       "                    background-color: var(--colab-primary-surface-color, white);\n",
       "                }\n",
       "\n",
       "                .geemap-colab .jupyter-button {\n",
       "                    --jp-layout-color3: var(--colab-primary-surface-color, white);\n",
       "                }\n",
       "            </style>\n",
       "            "
      ],
      "text/plain": [
       "<IPython.core.display.HTML object>"
      ]
     },
     "metadata": {},
     "output_type": "display_data"
    }
   ],
   "source": [
    "gdf['site_sqkm'] = gdf['geometry'].to_crs(3857).area / 1e6"
   ]
  },
  {
   "cell_type": "code",
   "execution_count": 13,
   "metadata": {},
   "outputs": [
    {
     "data": {
      "text/html": [
       "\n",
       "            <style>\n",
       "                .geemap-dark {\n",
       "                    --jp-widgets-color: white;\n",
       "                    --jp-widgets-label-color: white;\n",
       "                    --jp-ui-font-color1: white;\n",
       "                    --jp-layout-color2: #454545;\n",
       "                    background-color: #383838;\n",
       "                }\n",
       "\n",
       "                .geemap-dark .jupyter-button {\n",
       "                    --jp-layout-color3: #383838;\n",
       "                }\n",
       "\n",
       "                .geemap-colab {\n",
       "                    background-color: var(--colab-primary-surface-color, white);\n",
       "                }\n",
       "\n",
       "                .geemap-colab .jupyter-button {\n",
       "                    --jp-layout-color3: var(--colab-primary-surface-color, white);\n",
       "                }\n",
       "            </style>\n",
       "            "
      ],
      "text/plain": [
       "<IPython.core.display.HTML object>"
      ]
     },
     "metadata": {},
     "output_type": "display_data"
    }
   ],
   "source": [
    "columns_rename_mapping = {\n",
    "    'project_id': 'project_id_reported',\n",
    "    'id': 'site_id_reported',\n",
    "    'regionShortCode': 'country',\n",
    "    'aboutProject': 'project_description_reported'\n",
    "}\n",
    "gdf.rename(columns=columns_rename_mapping, inplace=True)"
   ]
  },
  {
   "cell_type": "code",
   "execution_count": 14,
   "metadata": {},
   "outputs": [
    {
     "data": {
      "text/html": [
       "\n",
       "            <style>\n",
       "                .geemap-dark {\n",
       "                    --jp-widgets-color: white;\n",
       "                    --jp-widgets-label-color: white;\n",
       "                    --jp-ui-font-color1: white;\n",
       "                    --jp-layout-color2: #454545;\n",
       "                    background-color: #383838;\n",
       "                }\n",
       "\n",
       "                .geemap-dark .jupyter-button {\n",
       "                    --jp-layout-color3: #383838;\n",
       "                }\n",
       "\n",
       "                .geemap-colab {\n",
       "                    background-color: var(--colab-primary-surface-color, white);\n",
       "                }\n",
       "\n",
       "                .geemap-colab .jupyter-button {\n",
       "                    --jp-layout-color3: var(--colab-primary-surface-color, white);\n",
       "                }\n",
       "            </style>\n",
       "            "
      ],
      "text/plain": [
       "<IPython.core.display.HTML object>"
      ]
     },
     "metadata": {},
     "output_type": "display_data"
    }
   ],
   "source": [
    "columns_to_keep = ['project_id_reported','site_id_reported','project_description_reported','geometry','site_sqkm','country']\n",
    "\n",
    "gdf = gdf[columns_to_keep]"
   ]
  },
  {
   "cell_type": "code",
   "execution_count": 15,
   "metadata": {},
   "outputs": [
    {
     "data": {
      "text/html": [
       "\n",
       "            <style>\n",
       "                .geemap-dark {\n",
       "                    --jp-widgets-color: white;\n",
       "                    --jp-widgets-label-color: white;\n",
       "                    --jp-ui-font-color1: white;\n",
       "                    --jp-layout-color2: #454545;\n",
       "                    background-color: #383838;\n",
       "                }\n",
       "\n",
       "                .geemap-dark .jupyter-button {\n",
       "                    --jp-layout-color3: #383838;\n",
       "                }\n",
       "\n",
       "                .geemap-colab {\n",
       "                    background-color: var(--colab-primary-surface-color, white);\n",
       "                }\n",
       "\n",
       "                .geemap-colab .jupyter-button {\n",
       "                    --jp-layout-color3: var(--colab-primary-surface-color, white);\n",
       "                }\n",
       "            </style>\n",
       "            "
      ],
      "text/plain": [
       "<IPython.core.display.HTML object>"
      ]
     },
     "metadata": {},
     "output_type": "display_data"
    },
    {
     "name": "stdout",
     "output_type": "stream",
     "text": [
      "<class 'geopandas.geodataframe.GeoDataFrame'>\n",
      "Index: 285 entries, 0 to 284\n",
      "Data columns (total 13 columns):\n",
      " #   Column                        Non-Null Count  Dtype   \n",
      "---  ------                        --------------  -----   \n",
      " 0   project_id_reported           285 non-null    object  \n",
      " 1   site_id_reported              285 non-null    object  \n",
      " 2   project_description_reported  285 non-null    object  \n",
      " 3   geometry                      285 non-null    geometry\n",
      " 4   site_sqkm                     285 non-null    float64 \n",
      " 5   country                       284 non-null    object  \n",
      " 6   host_name                     285 non-null    object  \n",
      " 7   url                           285 non-null    object  \n",
      " 8   species_count_reported        0 non-null      object  \n",
      " 9   species_planted_reported      0 non-null      object  \n",
      " 10  planting_date_reported        0 non-null      object  \n",
      " 11  survival_rate_reported        0 non-null      object  \n",
      " 12  trees_planted_reported        0 non-null      object  \n",
      "dtypes: float64(1), geometry(1), object(11)\n",
      "memory usage: 31.2+ KB\n"
     ]
    }
   ],
   "source": [
    "gdf['host_name'] = 'Open Forest Protocol'\n",
    "gdf['url'] = 'https://atlas.openforestprotocol.org/'\n",
    "gdf = gdf.assign(species_count_reported=None, species_planted_reported=None,planting_date_reported=None,survival_rate_reported=None,trees_planted_reported=None)\n",
    "\n",
    "gdf.info()"
   ]
  },
  {
   "cell_type": "code",
   "execution_count": 16,
   "metadata": {},
   "outputs": [
    {
     "data": {
      "text/html": [
       "\n",
       "            <style>\n",
       "                .geemap-dark {\n",
       "                    --jp-widgets-color: white;\n",
       "                    --jp-widgets-label-color: white;\n",
       "                    --jp-ui-font-color1: white;\n",
       "                    --jp-layout-color2: #454545;\n",
       "                    background-color: #383838;\n",
       "                }\n",
       "\n",
       "                .geemap-dark .jupyter-button {\n",
       "                    --jp-layout-color3: #383838;\n",
       "                }\n",
       "\n",
       "                .geemap-colab {\n",
       "                    background-color: var(--colab-primary-surface-color, white);\n",
       "                }\n",
       "\n",
       "                .geemap-colab .jupyter-button {\n",
       "                    --jp-layout-color3: var(--colab-primary-surface-color, white);\n",
       "                }\n",
       "            </style>\n",
       "            "
      ],
      "text/plain": [
       "<IPython.core.display.HTML object>"
      ]
     },
     "metadata": {},
     "output_type": "display_data"
    }
   ],
   "source": [
    "invalid_geom = False\n",
    "\n",
    "if len(gdf[gdf.geometry.is_valid == False]) > 0:\n",
    "    invalid_geom = True\n",
    "gdf['project_geometries_invalid'] = invalid_geom"
   ]
  },
  {
   "cell_type": "code",
   "execution_count": 17,
   "metadata": {},
   "outputs": [
    {
     "data": {
      "text/html": [
       "\n",
       "            <style>\n",
       "                .geemap-dark {\n",
       "                    --jp-widgets-color: white;\n",
       "                    --jp-widgets-label-color: white;\n",
       "                    --jp-ui-font-color1: white;\n",
       "                    --jp-layout-color2: #454545;\n",
       "                    background-color: #383838;\n",
       "                }\n",
       "\n",
       "                .geemap-dark .jupyter-button {\n",
       "                    --jp-layout-color3: #383838;\n",
       "                }\n",
       "\n",
       "                .geemap-colab {\n",
       "                    background-color: var(--colab-primary-surface-color, white);\n",
       "                }\n",
       "\n",
       "                .geemap-colab .jupyter-button {\n",
       "                    --jp-layout-color3: var(--colab-primary-surface-color, white);\n",
       "                }\n",
       "            </style>\n",
       "            "
      ],
      "text/plain": [
       "<IPython.core.display.HTML object>"
      ]
     },
     "metadata": {},
     "output_type": "display_data"
    },
    {
     "data": {
      "text/html": [
       "<div>\n",
       "<style scoped>\n",
       "    .dataframe tbody tr th:only-of-type {\n",
       "        vertical-align: middle;\n",
       "    }\n",
       "\n",
       "    .dataframe tbody tr th {\n",
       "        vertical-align: top;\n",
       "    }\n",
       "\n",
       "    .dataframe thead th {\n",
       "        text-align: right;\n",
       "    }\n",
       "</style>\n",
       "<table border=\"1\" class=\"dataframe\">\n",
       "  <thead>\n",
       "    <tr style=\"text-align: right;\">\n",
       "      <th></th>\n",
       "      <th>project_id_reported</th>\n",
       "      <th>site_id_reported</th>\n",
       "      <th>project_description_reported</th>\n",
       "      <th>geometry</th>\n",
       "      <th>site_sqkm</th>\n",
       "      <th>country</th>\n",
       "      <th>host_name</th>\n",
       "      <th>url</th>\n",
       "      <th>species_count_reported</th>\n",
       "      <th>species_planted_reported</th>\n",
       "      <th>planting_date_reported</th>\n",
       "      <th>survival_rate_reported</th>\n",
       "      <th>trees_planted_reported</th>\n",
       "      <th>project_geometries_invalid</th>\n",
       "    </tr>\n",
       "  </thead>\n",
       "  <tbody>\n",
       "    <tr>\n",
       "      <th>0</th>\n",
       "      <td>1658928733175</td>\n",
       "      <td>1658928733175</td>\n",
       "      <td>Juniper Forest is a mixed forest consisting pr...</td>\n",
       "      <td>POLYGON ((-97.95557 30.13647, -97.95557 30.136...</td>\n",
       "      <td>0.005620</td>\n",
       "      <td>us</td>\n",
       "      <td>Open Forest Protocol</td>\n",
       "      <td>https://atlas.openforestprotocol.org/</td>\n",
       "      <td>None</td>\n",
       "      <td>None</td>\n",
       "      <td>None</td>\n",
       "      <td>None</td>\n",
       "      <td>None</td>\n",
       "      <td>False</td>\n",
       "    </tr>\n",
       "    <tr>\n",
       "      <th>1</th>\n",
       "      <td>1661949769192</td>\n",
       "      <td>1661949769192</td>\n",
       "      <td>Hybrid Miyawaki forest</td>\n",
       "      <td>POLYGON ((79.41477 12.90351, 79.41474 12.90284...</td>\n",
       "      <td>0.002786</td>\n",
       "      <td>in</td>\n",
       "      <td>Open Forest Protocol</td>\n",
       "      <td>https://atlas.openforestprotocol.org/</td>\n",
       "      <td>None</td>\n",
       "      <td>None</td>\n",
       "      <td>None</td>\n",
       "      <td>None</td>\n",
       "      <td>None</td>\n",
       "      <td>False</td>\n",
       "    </tr>\n",
       "    <tr>\n",
       "      <th>2</th>\n",
       "      <td>1662054172732</td>\n",
       "      <td>1662054172732</td>\n",
       "      <td>This is an area where trees have been cut and ...</td>\n",
       "      <td>POLYGON ((34.50748 0.22990, 34.50679 0.22942, ...</td>\n",
       "      <td>0.015105</td>\n",
       "      <td>ke</td>\n",
       "      <td>Open Forest Protocol</td>\n",
       "      <td>https://atlas.openforestprotocol.org/</td>\n",
       "      <td>None</td>\n",
       "      <td>None</td>\n",
       "      <td>None</td>\n",
       "      <td>None</td>\n",
       "      <td>None</td>\n",
       "      <td>False</td>\n",
       "    </tr>\n",
       "    <tr>\n",
       "      <th>3</th>\n",
       "      <td>1662665088823</td>\n",
       "      <td>1662665088823</td>\n",
       "      <td>We have developed and implemented a decentrali...</td>\n",
       "      <td>POLYGON ((-89.53625 16.36554, -89.53501 16.360...</td>\n",
       "      <td>0.333961</td>\n",
       "      <td>gt</td>\n",
       "      <td>Open Forest Protocol</td>\n",
       "      <td>https://atlas.openforestprotocol.org/</td>\n",
       "      <td>None</td>\n",
       "      <td>None</td>\n",
       "      <td>None</td>\n",
       "      <td>None</td>\n",
       "      <td>None</td>\n",
       "      <td>False</td>\n",
       "    </tr>\n",
       "    <tr>\n",
       "      <th>4</th>\n",
       "      <td>1659544487696</td>\n",
       "      <td>1659544487696</td>\n",
       "      <td>Once a tropical forest landscape, this zone ha...</td>\n",
       "      <td>POLYGON ((-89.52816 16.92224, -89.52739 16.930...</td>\n",
       "      <td>0.321885</td>\n",
       "      <td>gt</td>\n",
       "      <td>Open Forest Protocol</td>\n",
       "      <td>https://atlas.openforestprotocol.org/</td>\n",
       "      <td>None</td>\n",
       "      <td>None</td>\n",
       "      <td>None</td>\n",
       "      <td>None</td>\n",
       "      <td>None</td>\n",
       "      <td>False</td>\n",
       "    </tr>\n",
       "  </tbody>\n",
       "</table>\n",
       "</div>"
      ],
      "text/plain": [
       "  project_id_reported site_id_reported  \\\n",
       "0       1658928733175    1658928733175   \n",
       "1       1661949769192    1661949769192   \n",
       "2       1662054172732    1662054172732   \n",
       "3       1662665088823    1662665088823   \n",
       "4       1659544487696    1659544487696   \n",
       "\n",
       "                        project_description_reported  \\\n",
       "0  Juniper Forest is a mixed forest consisting pr...   \n",
       "1                             Hybrid Miyawaki forest   \n",
       "2  This is an area where trees have been cut and ...   \n",
       "3  We have developed and implemented a decentrali...   \n",
       "4  Once a tropical forest landscape, this zone ha...   \n",
       "\n",
       "                                            geometry  site_sqkm country  \\\n",
       "0  POLYGON ((-97.95557 30.13647, -97.95557 30.136...   0.005620      us   \n",
       "1  POLYGON ((79.41477 12.90351, 79.41474 12.90284...   0.002786      in   \n",
       "2  POLYGON ((34.50748 0.22990, 34.50679 0.22942, ...   0.015105      ke   \n",
       "3  POLYGON ((-89.53625 16.36554, -89.53501 16.360...   0.333961      gt   \n",
       "4  POLYGON ((-89.52816 16.92224, -89.52739 16.930...   0.321885      gt   \n",
       "\n",
       "              host_name                                    url  \\\n",
       "0  Open Forest Protocol  https://atlas.openforestprotocol.org/   \n",
       "1  Open Forest Protocol  https://atlas.openforestprotocol.org/   \n",
       "2  Open Forest Protocol  https://atlas.openforestprotocol.org/   \n",
       "3  Open Forest Protocol  https://atlas.openforestprotocol.org/   \n",
       "4  Open Forest Protocol  https://atlas.openforestprotocol.org/   \n",
       "\n",
       "  species_count_reported species_planted_reported planting_date_reported  \\\n",
       "0                   None                     None                   None   \n",
       "1                   None                     None                   None   \n",
       "2                   None                     None                   None   \n",
       "3                   None                     None                   None   \n",
       "4                   None                     None                   None   \n",
       "\n",
       "  survival_rate_reported trees_planted_reported  project_geometries_invalid  \n",
       "0                   None                   None                       False  \n",
       "1                   None                   None                       False  \n",
       "2                   None                   None                       False  \n",
       "3                   None                   None                       False  \n",
       "4                   None                   None                       False  "
      ]
     },
     "execution_count": 17,
     "metadata": {},
     "output_type": "execute_result"
    }
   ],
   "source": [
    "gdf.head()"
   ]
  },
  {
   "cell_type": "code",
   "execution_count": 18,
   "metadata": {},
   "outputs": [
    {
     "data": {
      "text/html": [
       "\n",
       "            <style>\n",
       "                .geemap-dark {\n",
       "                    --jp-widgets-color: white;\n",
       "                    --jp-widgets-label-color: white;\n",
       "                    --jp-ui-font-color1: white;\n",
       "                    --jp-layout-color2: #454545;\n",
       "                    background-color: #383838;\n",
       "                }\n",
       "\n",
       "                .geemap-dark .jupyter-button {\n",
       "                    --jp-layout-color3: #383838;\n",
       "                }\n",
       "\n",
       "                .geemap-colab {\n",
       "                    background-color: var(--colab-primary-surface-color, white);\n",
       "                }\n",
       "\n",
       "                .geemap-colab .jupyter-button {\n",
       "                    --jp-layout-color3: var(--colab-primary-surface-color, white);\n",
       "                }\n",
       "            </style>\n",
       "            "
      ],
      "text/plain": [
       "<IPython.core.display.HTML object>"
      ]
     },
     "metadata": {},
     "output_type": "display_data"
    }
   ],
   "source": [
    "gdf.to_file('../midsave/atlas.gpkg')"
   ]
  }
 ],
 "metadata": {
  "kernelspec": {
   "display_name": "Python 3 (ipykernel)",
   "language": "python",
   "name": "python3"
  },
  "language_info": {
   "codemirror_mode": {
    "name": "ipython",
    "version": 3
   },
   "file_extension": ".py",
   "mimetype": "text/x-python",
   "name": "python",
   "nbconvert_exporter": "python",
   "pygments_lexer": "ipython3",
   "version": "3.11.8"
  }
 },
 "nbformat": 4,
 "nbformat_minor": 4
}
