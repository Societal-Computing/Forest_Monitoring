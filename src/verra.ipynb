{
 "cells": [
  {
   "cell_type": "code",
   "execution_count": 2,
   "id": "bde007a7",
   "metadata": {},
   "outputs": [
    {
     "name": "stderr",
     "output_type": "stream",
     "text": [
      "/Users/angela/Library/Python/3.9/lib/python/site-packages/urllib3/__init__.py:35: NotOpenSSLWarning: urllib3 v2 only supports OpenSSL 1.1.1+, currently the 'ssl' module is compiled with 'LibreSSL 2.8.3'. See: https://github.com/urllib3/urllib3/issues/3020\n",
      "  warnings.warn(\n"
     ]
    }
   ],
   "source": [
    "import requests\n",
    "import pandas as pd\n",
    "import geopandas as gpd\n",
    "from bs4 import BeautifulSoup\n",
    "from shapely.ops import transform\n",
    "from shapely.geometry import MultiPolygon, MultiLineString, MultiPoint, Polygon, LineString, Point\n",
    "from io import BytesIO\n",
    "from tqdm import tqdm\n",
    "import time\n",
    "from random import uniform\n",
    "import zipfile\n",
    "import os\n",
    "\n",
    "from helper_functions import kmz_to_kml, fetch_kml, parse_kml, process_kml_uris, convert_3d_to_2d"
   ]
  },
  {
   "cell_type": "markdown",
   "id": "acd1a4d7",
   "metadata": {},
   "source": [
    "### Read project list\n",
    "\n",
    "Project lists were acquired from the Verra registry at July 8th and 9th, 2024 by using the export to csv functionality for bulk download:\n",
    "\n",
    "- Verified Carbon Standard (VCS): https://registry.verra.org/app/search/VCS/All%20Projects\n",
    "- Climate, Community & Biodiversity Standards (CCB): https://registry.verra.org/app/search/CCB/All%20Projects\n",
    "- Sustainable Development Verified Impact Standard (VISta): https://registry.verra.org/app/search/SDVISTA/All%20Projects"
   ]
  },
  {
   "cell_type": "code",
   "execution_count": null,
   "id": "970b9cdd",
   "metadata": {},
   "outputs": [],
   "source": [
    "projects_vcs = pd.read_csv('../input/Verra/allprojects_vcs.csv')\n",
    "projects_ccb = pd.read_csv('../input/Verra/allprojects_ccb.csv')\n",
    "projects_vista = pd.read_csv('../input/Verra/allprojects_vista.csv')"
   ]
  },
  {
   "cell_type": "code",
   "execution_count": null,
   "id": "141084bf-e5e0-41cd-a17c-eff313189372",
   "metadata": {},
   "outputs": [],
   "source": [
    "projects_vcs['registry_name'] = 'VCS'\n",
    "projects_ccb['registry_name'] = 'CCB'\n",
    "projects_vista['registry_name'] = 'VISTA'"
   ]
  },
  {
   "cell_type": "code",
   "execution_count": null,
   "id": "411525ec-00f0-4299-b2f8-01954388e9eb",
   "metadata": {},
   "outputs": [],
   "source": [
    "print(projects_vcs.shape, projects_ccb.shape, projects_vista.shape)"
   ]
  },
  {
   "cell_type": "code",
   "execution_count": null,
   "id": "393cd55d",
   "metadata": {
    "scrolled": true
   },
   "outputs": [],
   "source": [
    "projects_vcs.dropna(subset = 'AFOLU Activities', inplace = True)\n",
    "projects_ccb.dropna(subset = 'CCB Project Type', inplace = True)\n",
    "projects_vista.dropna(subset = 'Project Type', inplace = True)"
   ]
  },
  {
   "cell_type": "code",
   "execution_count": null,
   "id": "e770ea5a-d09c-46fe-8f8f-302f8b1623a7",
   "metadata": {},
   "outputs": [],
   "source": [
    "print(projects_vcs.shape, projects_ccb.shape, projects_vista.shape)"
   ]
  },
  {
   "cell_type": "code",
   "execution_count": null,
   "id": "7f5f904f",
   "metadata": {},
   "outputs": [],
   "source": [
    "project_list_vcs = projects_vcs[projects_vcs['AFOLU Activities'].str.contains(\"ARR\")].ID.tolist()\n",
    "project_list_ccb = projects_ccb[projects_ccb['CCB Project Type'].str.contains(\"Afforestation, Reforestation and Revegetation\")].ID.tolist()\n",
    "project_list_vista = projects_vista[projects_vista['Project Type'].str.contains(\"Agriculture Forestry and Other Land Use\")].ID.tolist()"
   ]
  },
  {
   "cell_type": "markdown",
   "id": "63ebaf70-26a3-48c2-b23c-dc27b0d7a83f",
   "metadata": {},
   "source": [
    "List of unique project IDs"
   ]
  },
  {
   "cell_type": "code",
   "execution_count": null,
   "id": "b8b86f6b",
   "metadata": {},
   "outputs": [],
   "source": [
    "project_list = list(set(project_list_vcs + project_list_ccb + project_list_vista))"
   ]
  },
  {
   "cell_type": "code",
   "execution_count": null,
   "id": "186f8926-aa27-475e-8031-38a6e5879f1a",
   "metadata": {},
   "outputs": [],
   "source": [
    "print(len(project_list), len(project_list_vcs), len(project_list_ccb), len(project_list_vista))"
   ]
  },
  {
   "cell_type": "markdown",
   "id": "810be2e8",
   "metadata": {},
   "source": [
    "### Extract geometries per project"
   ]
  },
  {
   "cell_type": "code",
   "execution_count": null,
   "id": "a3291881-b996-4891-9056-317ef5fe4b1f",
   "metadata": {},
   "outputs": [],
   "source": [
    "gdf = pd.DataFrame()\n",
    "no_geom_list = []"
   ]
  },
  {
   "cell_type": "code",
   "execution_count": null,
   "id": "baf32755",
   "metadata": {},
   "outputs": [],
   "source": [
    "for project_id in tqdm(project_list):\n",
    "\n",
    "    try:\n",
    "        response = requests.get(f'https://registry.verra.org/uiapi/resource/resourceSummary/{project_id}')\n",
    "\n",
    "    except Exception as e:\n",
    "        print(f\"Error with project {project_id}: {e}\")\n",
    "        continue\n",
    "\n",
    "    if response.status_code == 200:\n",
    "        data = response.json()\n",
    "        \n",
    "        # Extract KML URIs\n",
    "        kml_uris = []\n",
    "        for group in data.get('documentGroups', []):\n",
    "            for document in group.get('documents', []):\n",
    "                if document['documentType'].lower() == 'kml file' or document['documentName'].endswith('.kml'):\n",
    "                    kml_uris.append(document['uri'])\n",
    "        if kml_uris:\n",
    "            kml_uris = list(set(kml_uris))\n",
    "            try:\n",
    "                # Process the KML URIs to get geometries\n",
    "                geometries = process_kml_uris(kml_uris)\n",
    "    \n",
    "            except Exception as e:\n",
    "                print(f\"Error querying the geometry of project {project_id}: {e}\")\n",
    "                continue\n",
    "        else:\n",
    "            no_geom_list.append(project_id)\n",
    "            print(f'No geometries available for project: {project_id}')\n",
    "\n",
    "        # Convert geometries to GeoPandas DataFrame\n",
    "        temp = gpd.GeoDataFrame(geometry=geometries)\n",
    "        \n",
    "        # Assign CRS\n",
    "        if abs(temp.geometry.centroid.y).max() > 180:\n",
    "            temp = temp.set_crs(3857).to_crs(4326)\n",
    "        else:\n",
    "            temp = temp.set_crs(4326)\n",
    "\n",
    "        # Check if original project geometry is valid\n",
    "        invalid_geom = False\n",
    "        if len(temp[temp.geometry.is_valid == False]) > 0:\n",
    "            invalid_geom = True   \n",
    "        \n",
    "        # 3D to 2D geometries\n",
    "        temp['geometry'] = temp['geometry'].apply(lambda geometry: transform(lambda x, y, z=None: (x, y), geometry))\n",
    "        \n",
    "        # Explode deeply nested geometries and keep only polygons\n",
    "        while 'MultiPolygon' in temp.geometry.geom_type.unique().tolist():\n",
    "            temp = temp.explode(index_parts=False)\n",
    "            temp['geometry'] = temp['geometry'].make_valid()\n",
    "            temp['geometry'] = temp['geometry'].apply(\n",
    "    lambda geom: Polygon(list(geom.coords) + [geom.coords[0]]) if isinstance(geom, LineString) and not geom.is_closed and len(geom.coords) > 0 else\n",
    "                 Polygon(geom.coords) if isinstance(geom, LineString) and geom.is_closed else\n",
    "                 geom)\n",
    "\n",
    "        temp['geometry'] = temp['geometry'].make_valid()\n",
    "        temp = temp.loc[temp.geometry.geom_type.isin(['Polygon', 'Point'])].copy()\n",
    "\n",
    "        # Extract Project Description URIs\n",
    "\n",
    "        pdf_path = f\"/Users/tillkoebe/Documents/GitHub/Forest_Monitoring/midsave/project_descriptions/pd_verra_{project_id}.pdf\"\n",
    "        if os.path.exists(pdf_path):\n",
    "            continue\n",
    "        \n",
    "        pd_uris = []\n",
    "        for group in data.get('documentGroups', []):\n",
    "            for document in group.get('documents', []):\n",
    "                if document['documentType'].lower() == 'project description': # or 'pd' in document['documentName'].lower()\n",
    "                    pd_uris.append(document['uri'])\n",
    "        \n",
    "        pd_available = False\n",
    "        for uri in pd_uris:\n",
    "            uri_content = fetch_kml(uri)\n",
    "            if uri_content:\n",
    "                open(os.path.join(pdf_path), \"wb\").write(uri_content)\n",
    "                pd_available = True\n",
    "        \n",
    "        # Assign identifiers\n",
    "        temp['project_id_reported'] = project_id\n",
    "        temp['project_geometries_invalid'] = invalid_geom\n",
    "        temp['project_pdf_available'] = pd_available\n",
    "        \n",
    "        if data['description']:\n",
    "            temp['project_description_reported'] = data['description']\n",
    "        else:\n",
    "            temp['project_description_reported'] = None\n",
    "        temp = temp.reset_index(drop = True).reset_index().rename(columns={'index': 'site_id_reported'})\n",
    "        \n",
    "        # Add project to output\n",
    "        gdf = pd.concat([gdf, temp], ignore_index=True)\n",
    "        \n",
    "        # Delay to avoid excess request responses\n",
    "        time.sleep(uniform(0, 5.0))\n",
    "        \n",
    "    else:\n",
    "        print(f\"Request failed with status code: {response.status_code}\")\n"
   ]
  },
  {
   "cell_type": "markdown",
   "id": "4d0acbcb-7304-4bb0-a4eb-db0719b35744",
   "metadata": {},
   "source": [
    "Check which project ids are not included"
   ]
  },
  {
   "cell_type": "code",
   "execution_count": null,
   "id": "85b160cf-ae0f-425e-9e0d-877368341335",
   "metadata": {},
   "outputs": [],
   "source": [
    "set(project_list) - set(gdf['project_id_reported']) - set(no_geom_list)"
   ]
  },
  {
   "cell_type": "code",
   "execution_count": null,
   "id": "8924737d-f8ce-4b8a-b798-bca345f27d6e",
   "metadata": {},
   "outputs": [],
   "source": [
    "project_list = set(project_list) - set(gdf['project_id_reported']) - set(no_geom_list)"
   ]
  },
  {
   "cell_type": "markdown",
   "id": "ae962882-12a2-4997-a521-6a2c55275d4d",
   "metadata": {},
   "source": [
    "!! Important: Re-run function above to ensure all projects have been queried !!"
   ]
  },
  {
   "cell_type": "code",
   "execution_count": null,
   "id": "1ff0b0e1",
   "metadata": {},
   "outputs": [],
   "source": [
    "gdf.project_id_reported.nunique()"
   ]
  },
  {
   "cell_type": "code",
   "execution_count": null,
   "id": "63574c9b-a2b8-4944-a2c1-e761f4b28e6a",
   "metadata": {},
   "outputs": [],
   "source": [
    "gdf.info()"
   ]
  },
  {
   "cell_type": "markdown",
   "id": "8e3fa863-7f55-44ca-a16d-8dd1e599ae4c",
   "metadata": {},
   "source": [
    "### Fix geometries"
   ]
  },
  {
   "cell_type": "code",
   "execution_count": null,
   "id": "36bf10d7-e64c-4756-b0c6-ef54731251d1",
   "metadata": {},
   "outputs": [],
   "source": [
    "gdf['site_sqkm'] = gdf.to_crs(3857).area/1e6"
   ]
  },
  {
   "cell_type": "code",
   "execution_count": null,
   "id": "f157c57c-ee44-4a7f-a031-e8e95251b9f4",
   "metadata": {},
   "outputs": [],
   "source": [
    "gdf.site_sqkm.describe()"
   ]
  },
  {
   "cell_type": "markdown",
   "id": "4c6c9aa3-504b-405a-876c-9714d4718134",
   "metadata": {},
   "source": [
    "### Add project-level metadata"
   ]
  },
  {
   "cell_type": "code",
   "execution_count": null,
   "id": "31c1f742-2376-480b-8e12-95737a1fdf4d",
   "metadata": {},
   "outputs": [],
   "source": [
    "projects_df = (pd.concat([projects_vcs[['ID', 'Status', 'Country/Area', 'Crediting Period Start Date', 'registry_name']], \n",
    "                         projects_ccb[['ID', 'Status', 'Country/Area', 'registry_name']], \n",
    "                         projects_vista[['ID', 'Status', 'Country/Area', 'registry_name']]])\n",
    "               .drop_duplicates(subset = 'ID')\n",
    "               .rename(columns = {'ID':'project_id_reported', 'Status':'status_reported', 'Country/Area':'country',\n",
    "                                 'Crediting Period Start Date':'planting_date_reported'}))"
   ]
  },
  {
   "cell_type": "code",
   "execution_count": null,
   "id": "ae312644-c04b-4805-ada6-e8e0aa63cbec",
   "metadata": {},
   "outputs": [],
   "source": [
    "projects_df['planting_date_reported'] = pd.to_datetime(projects_df['planting_date_reported']).dt.year"
   ]
  },
  {
   "cell_type": "code",
   "execution_count": null,
   "id": "712f0c77-c78b-455a-a12d-597d8e63807d",
   "metadata": {},
   "outputs": [],
   "source": [
    "gdf = gdf.merge(projects_df, on = 'project_id_reported', how = 'left')"
   ]
  },
  {
   "cell_type": "code",
   "execution_count": null,
   "id": "49565c6e-a80b-45ff-9706-4506129a7610",
   "metadata": {},
   "outputs": [],
   "source": [
    "gdf.info()"
   ]
  },
  {
   "cell_type": "markdown",
   "id": "282c4d0b-3d7d-4525-9562-41333b700ff1",
   "metadata": {},
   "source": [
    "### Harmonize nomenclature"
   ]
  },
  {
   "cell_type": "code",
   "execution_count": 14,
   "id": "49108b35",
   "metadata": {},
   "outputs": [
    {
     "data": {
      "text/html": [
       "\n",
       "            <style>\n",
       "                .geemap-dark {\n",
       "                    --jp-widgets-color: white;\n",
       "                    --jp-widgets-label-color: white;\n",
       "                    --jp-ui-font-color1: white;\n",
       "                    --jp-layout-color2: #454545;\n",
       "                    background-color: #383838;\n",
       "                }\n",
       "\n",
       "                .geemap-dark .jupyter-button {\n",
       "                    --jp-layout-color3: #383838;\n",
       "                }\n",
       "\n",
       "                .geemap-colab {\n",
       "                    background-color: var(--colab-primary-surface-color, white);\n",
       "                }\n",
       "\n",
       "                .geemap-colab .jupyter-button {\n",
       "                    --jp-layout-color3: var(--colab-primary-surface-color, white);\n",
       "                }\n",
       "            </style>\n",
       "            "
      ],
      "text/plain": [
       "<IPython.core.display.HTML object>"
      ]
     },
     "metadata": {},
     "output_type": "display_data"
    },
    {
     "name": "stdout",
     "output_type": "stream",
     "text": [
      "<class 'geopandas.geodataframe.GeoDataFrame'>\n",
      "RangeIndex: 1225162 entries, 0 to 1225161\n",
      "Data columns (total 14 columns):\n",
      " #   Column                        Non-Null Count    Dtype   \n",
      "---  ------                        --------------    -----   \n",
      " 0   site_id_reported              1225162 non-null  int64   \n",
      " 1   project_id_reported           1225162 non-null  int64   \n",
      " 2   project_description_reported  1225162 non-null  object  \n",
      " 3   site_sqkm                     1225162 non-null  float64 \n",
      " 4   status_reported               1225162 non-null  object  \n",
      " 5   country                       0 non-null        object  \n",
      " 6   url                           1225162 non-null  object  \n",
      " 7   host_name                     1225162 non-null  object  \n",
      " 8   species_count_reported        0 non-null        object  \n",
      " 9   species_planted_reported      0 non-null        object  \n",
      " 10  survival_rate_reported        0 non-null        object  \n",
      " 11  geometry                      1225159 non-null  geometry\n",
      " 12  planting_date_reported        1191464 non-null  float64 \n",
      " 13  project_geometries_invalid    1225162 non-null  bool    \n",
      "dtypes: bool(1), float64(2), geometry(1), int64(2), object(8)\n",
      "memory usage: 122.7+ MB\n"
     ]
    }
   ],
   "source": [
    "# gdf= gpd.read_parquet(\"/Users/angela/Documents/Forest_Monitoring/midsave/verra.parquet\")\n",
    "# gdf.info()"
   ]
  },
  {
   "cell_type": "code",
   "execution_count": 15,
   "id": "97710db6",
   "metadata": {},
   "outputs": [
    {
     "data": {
      "text/html": [
       "\n",
       "            <style>\n",
       "                .geemap-dark {\n",
       "                    --jp-widgets-color: white;\n",
       "                    --jp-widgets-label-color: white;\n",
       "                    --jp-ui-font-color1: white;\n",
       "                    --jp-layout-color2: #454545;\n",
       "                    background-color: #383838;\n",
       "                }\n",
       "\n",
       "                .geemap-dark .jupyter-button {\n",
       "                    --jp-layout-color3: #383838;\n",
       "                }\n",
       "\n",
       "                .geemap-colab {\n",
       "                    background-color: var(--colab-primary-surface-color, white);\n",
       "                }\n",
       "\n",
       "                .geemap-colab .jupyter-button {\n",
       "                    --jp-layout-color3: var(--colab-primary-surface-color, white);\n",
       "                }\n",
       "            </style>\n",
       "            "
      ],
      "text/plain": [
       "<IPython.core.display.HTML object>"
      ]
     },
     "metadata": {},
     "output_type": "display_data"
    },
    {
     "name": "stdout",
     "output_type": "stream",
     "text": [
      "{\"$schema\": \"https://proj.org/schemas/v0.7/projjson.schema.json\", \"type\": \"GeographicCRS\", \"name\": \"WGS 84\", \"datum_ensemble\": {\"name\": \"World Geodetic System 1984 ensemble\", \"members\": [{\"name\": \"World Geodetic System 1984 (Transit)\"}, {\"name\": \"World Geodetic System 1984 (G730)\"}, {\"name\": \"World Geodetic System 1984 (G873)\"}, {\"name\": \"World Geodetic System 1984 (G1150)\"}, {\"name\": \"World Geodetic System 1984 (G1674)\"}, {\"name\": \"World Geodetic System 1984 (G1762)\"}, {\"name\": \"World Geodetic System 1984 (G2139)\"}], \"ellipsoid\": {\"name\": \"WGS 84\", \"semi_major_axis\": 6378137, \"inverse_flattening\": 298.257223563}, \"accuracy\": \"2.0\", \"id\": {\"authority\": \"EPSG\", \"code\": 6326}}, \"coordinate_system\": {\"subtype\": \"ellipsoidal\", \"axis\": [{\"name\": \"Geodetic latitude\", \"abbreviation\": \"Lat\", \"direction\": \"north\", \"unit\": \"degree\"}, {\"name\": \"Geodetic longitude\", \"abbreviation\": \"Lon\", \"direction\": \"east\", \"unit\": \"degree\"}]}, \"scope\": \"Horizontal component of 3D system.\", \"area\": \"World.\", \"bbox\": {\"south_latitude\": -90, \"west_longitude\": -180, \"north_latitude\": 90, \"east_longitude\": 180}, \"id\": {\"authority\": \"EPSG\", \"code\": 4326}}\n"
     ]
    }
   ],
   "source": [
    "print(gdf.crs)"
   ]
  },
  {
   "cell_type": "code",
   "execution_count": 16,
   "id": "8755488c",
   "metadata": {},
   "outputs": [
    {
     "data": {
      "text/html": [
       "\n",
       "            <style>\n",
       "                .geemap-dark {\n",
       "                    --jp-widgets-color: white;\n",
       "                    --jp-widgets-label-color: white;\n",
       "                    --jp-ui-font-color1: white;\n",
       "                    --jp-layout-color2: #454545;\n",
       "                    background-color: #383838;\n",
       "                }\n",
       "\n",
       "                .geemap-dark .jupyter-button {\n",
       "                    --jp-layout-color3: #383838;\n",
       "                }\n",
       "\n",
       "                .geemap-colab {\n",
       "                    background-color: var(--colab-primary-surface-color, white);\n",
       "                }\n",
       "\n",
       "                .geemap-colab .jupyter-button {\n",
       "                    --jp-layout-color3: var(--colab-primary-surface-color, white);\n",
       "                }\n",
       "            </style>\n",
       "            "
      ],
      "text/plain": [
       "<IPython.core.display.HTML object>"
      ]
     },
     "metadata": {},
     "output_type": "display_data"
    },
    {
     "data": {
      "text/plain": [
       "0          POLYGON ((105.42801 33.28925, 105.42802 33.289...\n",
       "1          POLYGON ((105.42302 33.28654, 105.42323 33.286...\n",
       "2          POLYGON ((105.46761 33.27973, 105.46762 33.279...\n",
       "3          POLYGON ((105.46989 33.28532, 105.4699 33.2853...\n",
       "4          POLYGON ((105.46846 33.28361, 105.4687 33.2839...\n",
       "                                 ...                        \n",
       "1225157    POLYGON ((-41.3239 -16.65141, -41.3239 -16.651...\n",
       "1225158    POLYGON ((-41.33726 -16.65268, -41.3372 -16.65...\n",
       "1225159    POLYGON ((-41.33997 -16.64192, -41.3407 -16.64...\n",
       "1225160    POLYGON ((-41.3364 -16.63705, -41.33559 -16.63...\n",
       "1225161    POLYGON ((-41.33486 -16.62492, -41.33446 -16.6...\n",
       "Name: geometry, Length: 1225162, dtype: geometry"
      ]
     },
     "execution_count": 16,
     "metadata": {},
     "output_type": "execute_result"
    }
   ],
   "source": [
    "gdf[\"geometry\"]"
   ]
  },
  {
   "cell_type": "code",
   "execution_count": 17,
   "id": "4b108390",
   "metadata": {},
   "outputs": [
    {
     "data": {
      "text/html": [
       "\n",
       "            <style>\n",
       "                .geemap-dark {\n",
       "                    --jp-widgets-color: white;\n",
       "                    --jp-widgets-label-color: white;\n",
       "                    --jp-ui-font-color1: white;\n",
       "                    --jp-layout-color2: #454545;\n",
       "                    background-color: #383838;\n",
       "                }\n",
       "\n",
       "                .geemap-dark .jupyter-button {\n",
       "                    --jp-layout-color3: #383838;\n",
       "                }\n",
       "\n",
       "                .geemap-colab {\n",
       "                    background-color: var(--colab-primary-surface-color, white);\n",
       "                }\n",
       "\n",
       "                .geemap-colab .jupyter-button {\n",
       "                    --jp-layout-color3: var(--colab-primary-surface-color, white);\n",
       "                }\n",
       "            </style>\n",
       "            "
      ],
      "text/plain": [
       "<IPython.core.display.HTML object>"
      ]
     },
     "metadata": {},
     "output_type": "display_data"
    }
   ],
   "source": [
    "invalid_geom = gdf.geometry.is_valid == False\n",
    "gdf['project_geometries_invalid'] = invalid_geom\n"
   ]
  },
  {
   "cell_type": "code",
   "execution_count": 18,
   "id": "81bf4086",
   "metadata": {},
   "outputs": [
    {
     "data": {
      "text/html": [
       "\n",
       "            <style>\n",
       "                .geemap-dark {\n",
       "                    --jp-widgets-color: white;\n",
       "                    --jp-widgets-label-color: white;\n",
       "                    --jp-ui-font-color1: white;\n",
       "                    --jp-layout-color2: #454545;\n",
       "                    background-color: #383838;\n",
       "                }\n",
       "\n",
       "                .geemap-dark .jupyter-button {\n",
       "                    --jp-layout-color3: #383838;\n",
       "                }\n",
       "\n",
       "                .geemap-colab {\n",
       "                    background-color: var(--colab-primary-surface-color, white);\n",
       "                }\n",
       "\n",
       "                .geemap-colab .jupyter-button {\n",
       "                    --jp-layout-color3: var(--colab-primary-surface-color, white);\n",
       "                }\n",
       "            </style>\n",
       "            "
      ],
      "text/plain": [
       "<IPython.core.display.HTML object>"
      ]
     },
     "metadata": {},
     "output_type": "display_data"
    },
    {
     "data": {
      "text/plain": [
       "0          False\n",
       "1          False\n",
       "2          False\n",
       "3          False\n",
       "4          False\n",
       "           ...  \n",
       "1225157    False\n",
       "1225158    False\n",
       "1225159    False\n",
       "1225160    False\n",
       "1225161    False\n",
       "Name: project_geometries_invalid, Length: 1225162, dtype: bool"
      ]
     },
     "execution_count": 18,
     "metadata": {},
     "output_type": "execute_result"
    }
   ],
   "source": [
    "gdf['project_geometries_invalid']"
   ]
  },
  {
   "cell_type": "code",
   "execution_count": 19,
   "id": "de52eb71-5476-4aa7-a189-349f5528d41f",
   "metadata": {},
   "outputs": [
    {
     "data": {
      "text/html": [
       "\n",
       "            <style>\n",
       "                .geemap-dark {\n",
       "                    --jp-widgets-color: white;\n",
       "                    --jp-widgets-label-color: white;\n",
       "                    --jp-ui-font-color1: white;\n",
       "                    --jp-layout-color2: #454545;\n",
       "                    background-color: #383838;\n",
       "                }\n",
       "\n",
       "                .geemap-dark .jupyter-button {\n",
       "                    --jp-layout-color3: #383838;\n",
       "                }\n",
       "\n",
       "                .geemap-colab {\n",
       "                    background-color: var(--colab-primary-surface-color, white);\n",
       "                }\n",
       "\n",
       "                .geemap-colab .jupyter-button {\n",
       "                    --jp-layout-color3: var(--colab-primary-surface-color, white);\n",
       "                }\n",
       "            </style>\n",
       "            "
      ],
      "text/plain": [
       "<IPython.core.display.HTML object>"
      ]
     },
     "metadata": {},
     "output_type": "display_data"
    }
   ],
   "source": [
    "gdf['url'] = 'https://registry.verra.org/app/projectDetail/' + gdf.registry_name + '/' + gdf.project_id_reported\n",
    "gdf['host_name'] = 'Verra'\n",
    "gdf[\"planting_date_type\"]=\"Crediting Period Start Date\"\n",
    "gdf = (gdf\n",
    "       .assign(species_count_reported=None, species_planted_reported=None, survival_rate_reported=None)\n",
    "       .drop(columns = ['registry_name']))"
   ]
  },
  {
   "cell_type": "code",
   "execution_count": 20,
   "id": "3c52bddf",
   "metadata": {},
   "outputs": [
    {
     "data": {
      "text/html": [
       "\n",
       "            <style>\n",
       "                .geemap-dark {\n",
       "                    --jp-widgets-color: white;\n",
       "                    --jp-widgets-label-color: white;\n",
       "                    --jp-ui-font-color1: white;\n",
       "                    --jp-layout-color2: #454545;\n",
       "                    background-color: #383838;\n",
       "                }\n",
       "\n",
       "                .geemap-dark .jupyter-button {\n",
       "                    --jp-layout-color3: #383838;\n",
       "                }\n",
       "\n",
       "                .geemap-colab {\n",
       "                    background-color: var(--colab-primary-surface-color, white);\n",
       "                }\n",
       "\n",
       "                .geemap-colab .jupyter-button {\n",
       "                    --jp-layout-color3: var(--colab-primary-surface-color, white);\n",
       "                }\n",
       "            </style>\n",
       "            "
      ],
      "text/plain": [
       "<IPython.core.display.HTML object>"
      ]
     },
     "metadata": {},
     "output_type": "display_data"
    },
    {
     "name": "stdout",
     "output_type": "stream",
     "text": [
      "<class 'geopandas.geodataframe.GeoDataFrame'>\n",
      "RangeIndex: 1225162 entries, 0 to 1225161\n",
      "Data columns (total 15 columns):\n",
      " #   Column                        Non-Null Count    Dtype   \n",
      "---  ------                        --------------    -----   \n",
      " 0   site_id_reported              1225162 non-null  int64   \n",
      " 1   project_id_reported           1225162 non-null  int64   \n",
      " 2   project_description_reported  1225162 non-null  object  \n",
      " 3   site_sqkm                     1225162 non-null  float64 \n",
      " 4   status_reported               1225162 non-null  object  \n",
      " 5   country                       0 non-null        object  \n",
      " 6   url                           1225162 non-null  object  \n",
      " 7   host_name                     1225162 non-null  object  \n",
      " 8   species_count_reported        0 non-null        object  \n",
      " 9   species_planted_reported      0 non-null        object  \n",
      " 10  survival_rate_reported        0 non-null        object  \n",
      " 11  geometry                      1225159 non-null  geometry\n",
      " 12  planting_date_reported        1191464 non-null  float64 \n",
      " 13  project_geometries_invalid    1225162 non-null  bool    \n",
      " 14  planting_date_type            1225162 non-null  object  \n",
      "dtypes: bool(1), float64(2), geometry(1), int64(2), object(9)\n",
      "memory usage: 132.0+ MB\n"
     ]
    }
   ],
   "source": [
    "gdf.info()"
   ]
  },
  {
   "cell_type": "markdown",
   "id": "bbf62ff6-b41d-4dec-9355-9ff8efed106f",
   "metadata": {},
   "source": [
    "### Save it"
   ]
  },
  {
   "cell_type": "code",
   "execution_count": 22,
   "id": "caefd3c6-465e-4a70-9258-cbe182135a85",
   "metadata": {},
   "outputs": [
    {
     "data": {
      "text/html": [
       "\n",
       "            <style>\n",
       "                .geemap-dark {\n",
       "                    --jp-widgets-color: white;\n",
       "                    --jp-widgets-label-color: white;\n",
       "                    --jp-ui-font-color1: white;\n",
       "                    --jp-layout-color2: #454545;\n",
       "                    background-color: #383838;\n",
       "                }\n",
       "\n",
       "                .geemap-dark .jupyter-button {\n",
       "                    --jp-layout-color3: #383838;\n",
       "                }\n",
       "\n",
       "                .geemap-colab {\n",
       "                    background-color: var(--colab-primary-surface-color, white);\n",
       "                }\n",
       "\n",
       "                .geemap-colab .jupyter-button {\n",
       "                    --jp-layout-color3: var(--colab-primary-surface-color, white);\n",
       "                }\n",
       "            </style>\n",
       "            "
      ],
      "text/plain": [
       "<IPython.core.display.HTML object>"
      ]
     },
     "metadata": {},
     "output_type": "display_data"
    }
   ],
   "source": [
    "gdf.to_parquet(\"../midsave/verra.parquet\")"
   ]
  }
 ],
 "metadata": {
  "kernelspec": {
   "display_name": "Python 3 (ipykernel)",
   "language": "python",
   "name": "python3"
  },
  "language_info": {
   "codemirror_mode": {
    "name": "ipython",
    "version": 3
   },
   "file_extension": ".py",
   "mimetype": "text/x-python",
   "name": "python",
   "nbconvert_exporter": "python",
   "pygments_lexer": "ipython3",
   "version": "3.9.6"
  },
  "varInspector": {
   "cols": {
    "lenName": 16,
    "lenType": 16,
    "lenVar": 40
   },
   "kernels_config": {
    "python": {
     "delete_cmd_postfix": "",
     "delete_cmd_prefix": "del ",
     "library": "var_list.py",
     "varRefreshCmd": "print(var_dic_list())"
    },
    "r": {
     "delete_cmd_postfix": ") ",
     "delete_cmd_prefix": "rm(",
     "library": "var_list.r",
     "varRefreshCmd": "cat(var_dic_list()) "
    }
   },
   "types_to_exclude": [
    "module",
    "function",
    "builtin_function_or_method",
    "instance",
    "_Feature"
   ],
   "window_display": false
  }
 },
 "nbformat": 4,
 "nbformat_minor": 5
}
