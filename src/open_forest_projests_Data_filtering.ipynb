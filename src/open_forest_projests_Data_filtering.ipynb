{
 "cells": [
  {
   "cell_type": "code",
   "execution_count": 15,
   "metadata": {},
   "outputs": [
    {
     "name": "stdout",
     "output_type": "stream",
     "text": [
      "<class 'pandas.core.frame.DataFrame'>\n",
      "RangeIndex: 112 entries, 0 to 111\n",
      "Data columns (total 24 columns):\n",
      " #   Column                             Non-Null Count  Dtype  \n",
      "---  ------                             --------------  -----  \n",
      " 0   index                              112 non-null    object \n",
      " 1   id                                 112 non-null    int64  \n",
      " 2   pageProps.projects.hits.hits.sort  112 non-null    int64  \n",
      " 3   project_id                         112 non-null    int64  \n",
      " 4   type                               112 non-null    object \n",
      " 5   regionShortCode                    111 non-null    object \n",
      " 6   developer                          112 non-null    object \n",
      " 7   name                               112 non-null    object \n",
      " 8   region                             112 non-null    object \n",
      " 9   polygonCoordinate                  112 non-null    object \n",
      " 10  square                             112 non-null    float64\n",
      " 11  cidScreenShot                      112 non-null    object \n",
      " 12  iconCidDir                         112 non-null    object \n",
      " 13  aboutProject                       112 non-null    object \n",
      " 14  goals                              112 non-null    object \n",
      " 15  leakage.zones                      112 non-null    object \n",
      " 16  X__N_SSG                           112 non-null    bool   \n",
      " 17  attribute_carbon                   7 non-null      object \n",
      " 18  leakage.leakage                    7 non-null      float64\n",
      " 19  leakage.rainfall                   7 non-null      float64\n",
      " 20  leakage.baselineDefaultValue       7 non-null      float64\n",
      " 21  leakage.carbonApprove              7 non-null      float64\n",
      " 22  leakage.forestType.type            7 non-null      float64\n",
      " 23  leakage.forestType.tree            7 non-null      float64\n",
      "dtypes: bool(1), float64(7), int64(3), object(13)\n",
      "memory usage: 20.4+ KB\n"
     ]
    }
   ],
   "source": [
    "import pandas as pd\n",
    "import geopandas as gpd\n",
    "from shapely.geometry import Polygon\n",
    "# Reading meta daat downloaded from the website \n",
    "\n",
    "df = pd.read_json('Forest_Monitoring/input/Atlas/Atlas_data_frame.json')\n",
    "\n",
    "\n",
    "df.info()"
   ]
  },
  {
   "cell_type": "code",
   "execution_count": 16,
   "metadata": {},
   "outputs": [],
   "source": [
    "#Geometry editing\n",
    "def remove_trailing_zeros(s):\n",
    "  \n",
    "    if s.startswith('list(c(') and s.endswith(')'):\n",
    "       \n",
    "        s = s[7:-1]\n",
    "  \n",
    "    list_of_strings = s.split(',')\n",
    "   \n",
    "    list_of_strings = [s.strip().lstrip('c(').rstrip(')') for s in list_of_strings]\n",
    "    \n",
    "    list_of_floats = list(map(float, list_of_strings))\n",
    "   \n",
    "    while list_of_floats and list_of_floats[-1] == 0.0:\n",
    "        list_of_floats.pop()\n",
    "   \n",
    "    return ', '.join(map(str, list_of_floats))\n",
    "\n",
    "\n",
    "df['polygonCoordinate'] = df['polygonCoordinate'].apply(remove_trailing_zeros)"
   ]
  },
  {
   "cell_type": "code",
   "execution_count": 17,
   "metadata": {},
   "outputs": [],
   "source": [
    "import pandas as pd\n",
    "import simplekml\n",
    "import os\n",
    "\n",
    "\n",
    "if not os.path.exists('kml'):\n",
    "    os.makedirs('kml')\n",
    "\n",
    "#\n",
    "updated_polygon_coords = []\n",
    "\n",
    "for index, row in df.iterrows():\n",
    "   \n",
    "    coords = list(map(float, row['polygonCoordinate'].split(',')))\n",
    "    \n",
    "\n",
    "    half = len(coords) // 2\n",
    "    lats = coords[:half]\n",
    "    longs = coords[half:]\n",
    "    \n",
    " \n",
    "    polygon_coords = list(zip(lats, longs))\n",
    "   \n",
    "    updated_polygon_coords.append(polygon_coords)\n",
    "    \n",
    "   \n",
    "    kml = simplekml.Kml()\n",
    "    pol = kml.newpolygon(name=\"Polygon{}\".format(index), outerboundaryis=polygon_coords)\n",
    "    pol.style.polystyle.color = simplekml.Color.changealphaint(0, simplekml.Color.white)\n",
    "    pol.style.linestyle.color = simplekml.Color.red\n",
    "    kml.save(os.path.join(\"kml\", \"Polygon{}.kml\".format(index)))\n",
    "\n",
    "df['polygonCoordinates'] = updated_polygon_coords"
   ]
  },
  {
   "cell_type": "code",
   "execution_count": 18,
   "metadata": {},
   "outputs": [],
   "source": [
    "df.to_csv('/home/idisc02/Forest_Monitoring/input/Atlas/OPF.csv', index=False)"
   ]
  },
  {
   "cell_type": "code",
   "execution_count": 20,
   "metadata": {},
   "outputs": [],
   "source": [
    "#Shape file generation\n",
    "\n",
    "\n",
    "polygons = [Polygon(polygon_coords) for polygon_coords in updated_polygon_coords]\n",
    "\n",
    "\n",
    "gdf = gpd.GeoDataFrame(geometry=polygons)\n",
    "\n",
    "\n",
    "gdf.crs = \"EPSG:4326\"\n",
    "\n",
    "\n",
    "gdf.to_file(\"opf_shapefile.shp\")"
   ]
  }
 ],
 "metadata": {
  "kernelspec": {
   "display_name": "downgrade",
   "language": "python",
   "name": "python3"
  },
  "language_info": {
   "codemirror_mode": {
    "name": "ipython",
    "version": 3
   },
   "file_extension": ".py",
   "mimetype": "text/x-python",
   "name": "python",
   "nbconvert_exporter": "python",
   "pygments_lexer": "ipython3",
   "version": "3.8.18"
  }
 },
 "nbformat": 4,
 "nbformat_minor": 2
}
