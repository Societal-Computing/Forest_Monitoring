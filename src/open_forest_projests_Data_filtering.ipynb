{
 "cells": [
  {
   "cell_type": "code",
   "execution_count": null,
   "metadata": {},
   "outputs": [],
   "source": [
    "import pandas as pd\n",
    "import geopandas as gpd\n",
    "from shapely.geometry import Polygon\n",
    "\n",
    "from helper_functions import remove_trailing_zeros"
   ]
  },
  {
   "cell_type": "code",
   "execution_count": null,
   "metadata": {},
   "outputs": [],
   "source": [
    "df = pd.read_json('../input/Atlas/Atlas_data_frame.json')\n",
    "df.info()"
   ]
  },
  {
   "cell_type": "markdown",
   "metadata": {},
   "source": [
    "### Clean up geometry column"
   ]
  },
  {
   "cell_type": "markdown",
   "metadata": {},
   "source": [
    "Remove excessive zeros"
   ]
  },
  {
   "cell_type": "code",
   "execution_count": null,
   "metadata": {},
   "outputs": [],
   "source": [
    "df['polygonCoordinate'] = df['polygonCoordinate'].apply(remove_trailing_zeros)"
   ]
  },
  {
   "cell_type": "markdown",
   "metadata": {},
   "source": [
    "Adjust format of coordinates"
   ]
  },
  {
   "cell_type": "code",
   "execution_count": null,
   "metadata": {},
   "outputs": [],
   "source": [
    "updated_polygon_coords = []\n",
    "\n",
    "for index, row in df.iterrows():\n",
    "   \n",
    "    coords = list(map(float, row['polygonCoordinate'].split(',')))\n",
    "    \n",
    "    half = len(coords) // 2\n",
    "    lats = coords[:half]\n",
    "    longs = coords[half:]\n",
    "    \n",
    "    polygon_coords = list(zip(lats, longs))\n",
    "   \n",
    "    updated_polygon_coords.append(polygon_coords)\n",
    "\n",
    "df['geometry'] = updated_polygon_coords\n",
    "df['geometry'] = df['geometry'].apply(lambda coords: Polygon(coords))"
   ]
  },
  {
   "cell_type": "code",
   "execution_count": null,
   "metadata": {},
   "outputs": [],
   "source": [
    "gdf = gpd.GeoDataFrame(df, geometry = 'geometry', crs = 'EPSG:4326')\n"
   ]
  },
  {
   "cell_type": "code",
   "execution_count": null,
   "metadata": {},
   "outputs": [],
   "source": [
    "gdf = gdf.explode(index_parts=False)"
   ]
  },
  {
   "cell_type": "markdown",
   "metadata": {},
   "source": [
    "Dismiss polygons with faulty coordinates"
   ]
  },
  {
   "cell_type": "code",
   "execution_count": null,
   "metadata": {},
   "outputs": [],
   "source": [
    "gdf['geometry'] = gdf['geometry'].apply(\n",
    "    lambda geom: Polygon() if not geom.is_empty and any(abs(coord) > 180 for x, y in geom.exterior.coords for coord in (x, y)) else geom\n",
    ")"
   ]
  },
  {
   "cell_type": "code",
   "execution_count": null,
   "metadata": {},
   "outputs": [],
   "source": [
    "gdf['geometry'] = gdf.make_valid()"
   ]
  },
  {
   "cell_type": "markdown",
   "metadata": {},
   "source": [
    "### Harmonize nomenclature"
   ]
  },
  {
   "cell_type": "code",
   "execution_count": null,
   "metadata": {},
   "outputs": [],
   "source": [
    "gdf['site_sqkm'] = gdf['geometry'].to_crs(3857).area / 1e6"
   ]
  },
  {
   "cell_type": "code",
   "execution_count": null,
   "metadata": {},
   "outputs": [],
   "source": [
    "columns_rename_mapping = {\n",
    "    'project_id': 'project_id_reported',\n",
    "    'id': 'site_id_reported',\n",
    "    'regionShortCode': 'country',\n",
    "    'aboutProject': 'description_reported'\n",
    "}\n",
    "gdf.rename(columns=columns_rename_mapping, inplace=True)"
   ]
  },
  {
   "cell_type": "code",
   "execution_count": null,
   "metadata": {},
   "outputs": [],
   "source": [
    "columns_to_keep = ['project_id_reported','site_id_reported','description_reported','geometry','site_sqkm','country']\n",
    "\n",
    "gdf = gdf[columns_to_keep]"
   ]
  },
  {
   "cell_type": "code",
   "execution_count": null,
   "metadata": {},
   "outputs": [],
   "source": [
    "gdf['host_name'] = 'Open Forest Protocol'\n",
    "gdf['url'] = 'https://atlas.openforestprotocol.org/'\n",
    "gdf = gdf.assign(species_count_reported=None, species_planted_reported=None,planting_date_reported=None,survival_rate_reported=None,trees_planted_reported=None)\n",
    "\n",
    "gdf.info()"
   ]
  },
  {
   "cell_type": "code",
   "execution_count": null,
   "metadata": {},
   "outputs": [],
   "source": [
    "gdf.to_file('../input/Atlas/atlas_data.gpkg')"
   ]
  }
 ],
 "metadata": {
  "kernelspec": {
   "display_name": "Python 3 (ipykernel)",
   "language": "python",
   "name": "python3"
  },
  "language_info": {
   "codemirror_mode": {
    "name": "ipython",
    "version": 3
   },
   "file_extension": ".py",
   "mimetype": "text/x-python",
   "name": "python",
   "nbconvert_exporter": "python",
   "pygments_lexer": "ipython3",
   "version": "3.12.4"
  }
 },
 "nbformat": 4,
 "nbformat_minor": 4
}
