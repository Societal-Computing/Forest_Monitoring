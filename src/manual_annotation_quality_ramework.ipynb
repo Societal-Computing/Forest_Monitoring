{
  "cells": [
    {
      "cell_type": "code",
      "execution_count": null,
      "metadata": {
        "colab": {
          "base_uri": "https://localhost:8080/"
        },
        "id": "KiowLgTsifGE",
        "outputId": "0f4f4189-a9a6-4b4e-ecdc-86cffef9f99a"
      },
      "outputs": [],
      "source": [
        "\n",
        "import geopandas as gpd\n",
        "import pandas as pd\n",
        "import numpy as np\n",
        "import matplotlib.pyplot as plt\n",
        "import seaborn as sns\n",
        "import os\n",
        "import seaborn as sns\n",
        "import matplotlib.pyplot as plt\n",
        "from sklearn.metrics import confusion_matrix, f1_score, accuracy_score\n",
        "from matplotlib.colors import LinearSegmentedColormap\n",
        "filtered_df = pd.read_csv(\"../midsave/Africa_annotation_data_new.csv\"\n",
        "\n",
        "\n",
        ")\n",
        "\n",
        "\n",
        "filtered_df.info()\n",
        "\n",
        "\n"
      ]
    },
    {
      "cell_type": "code",
      "execution_count": null,
      "metadata": {
        "colab": {
          "base_uri": "https://localhost:8080/",
          "height": 364
        },
        "id": "TgunTrEGUVm0",
        "outputId": "b959031f-1cca-4541-9089-261c44d1ffe9"
      },
      "outputs": [],
      "source": [
        "def quality_score(value, high_quality_value):\n",
        "    if value == high_quality_value:\n",
        "        return 2\n",
        "    elif value == 'N/A':\n",
        "        return None\n",
        "    else:\n",
        "        return 0\n",
        "\n",
        "# Applying the quality scoring\n",
        "qa_df = filtered_df\n",
        "qa_df['Road_Score'] = qa_df['Road'].apply(lambda x: quality_score(x, 'No'))\n",
        "qa_df['Building_Score'] = qa_df['Buidling'].apply(lambda x: quality_score(x, 'No'))\n",
        "qa_df['Tree_Growth_Score'] = qa_df['Tree Growth Visible Over Time'].apply(lambda x: quality_score(x, 'Yes'))\n",
        "qa_df['Geometry_Score'] = qa_df['Geometry Capturing Planting Area'].apply(lambda x: quality_score(x, 'Yes'))\n",
        "qa_df['Forest_Score'] = qa_df['Forest at Planting'].apply(lambda x: quality_score(x, 'No'))\n",
        "qa_df['location_Score'] = qa_df['Change in buffer region'].apply(lambda x: quality_score(x, 'No'))\n",
        "\n",
        "# Calculating the Quality Index\n",
        "qa_df['Quality_Index'] = qa_df[\n",
        "    ['Road_Score', 'Building_Score', 'Tree_Growth_Score',\n",
        "     'Geometry_Score', 'Forest_Score','location_Score']\n",
        "].mean(axis=1)\n",
        "\n",
        "#\n",
        "\n",
        "qa_df.head()"
      ]
    },
    {
      "cell_type": "code",
      "execution_count": null,
      "metadata": {
        "colab": {
          "base_uri": "https://localhost:8080/"
        },
        "id": "n5uEHI4GRhC7",
        "outputId": "d20c5979-2e4f-4735-8bde-dcb8798f39ce"
      },
      "outputs": [],
      "source": [
        "qa_df.info()"
      ]
    },
    {
      "cell_type": "code",
      "execution_count": null,
      "metadata": {
        "colab": {
          "base_uri": "https://localhost:8080/"
        },
        "id": "bVifbAdB5hcR",
        "outputId": "74013f4c-7bd7-4786-8e06-18b97f59eaf4"
      },
      "outputs": [],
      "source": [
        "qa_df.info()"
      ]
    },
    {
      "cell_type": "code",
      "execution_count": null,
      "metadata": {
        "colab": {
          "base_uri": "https://localhost:8080/"
        },
        "id": "uHuyGYgB0uRw",
        "outputId": "0bc803ad-1a3a-4837-b00f-b0ceb5a2db57"
      },
      "outputs": [],
      "source": [
        "#Reforestation Dataset\n",
        "file_path = \"../midsave/submission_consolidated_reforestation_projects.parquet\"\n",
        "\n",
        "\n",
        "automatic_qframework = gpd.read_parquet(file_path)\n",
        "\n",
        "automatic_qframework.info()"
      ]
    },
    {
      "cell_type": "code",
      "execution_count": null,
      "metadata": {
        "colab": {
          "base_uri": "https://localhost:8080/",
          "height": 444
        },
        "id": "CxGTWkbbztdI",
        "outputId": "f886f389-af28-4f0d-e429-ed181d4164e6"
      },
      "outputs": [],
      "source": [
        "automatic_qframework['site_id_created']"
      ]
    },
    {
      "cell_type": "code",
      "execution_count": null,
      "metadata": {
        "colab": {
          "base_uri": "https://localhost:8080/"
        },
        "id": "qUfwb4Zj1WlB",
        "outputId": "ca315158-5a8b-4029-80fa-2bea06dbc7e2"
      },
      "outputs": [],
      "source": [
        "merged_df = pd.merge(qa_df, automatic_qframework, on=\"site_id_created\", how=\"inner\", suffixes=('', '_duplicate'))\n",
        "\n",
        "\n",
        "duplicates = [col for col in merged_df.columns if col.endswith('_duplicate') or col.endswith('_duplicate2') or col.endswith('_duplicate3')]\n",
        "merged_df.drop(columns=duplicates, inplace=True)\n",
        "merged_df = merged_df.head(250)\n",
        "merged_df['Road_presence'] = merged_df['Road_presence'].astype(str).replace({'nan': 'No'})\n",
        "merged_df.info()"
      ]
    },
    {
      "cell_type": "code",
      "execution_count": null,
      "metadata": {
        "colab": {
          "base_uri": "https://localhost:8080/",
          "height": 364
        },
        "id": "NxwC0ZtlS2O3",
        "outputId": "8c274939-395e-4d7c-e33c-422cb7f6a6b5"
      },
      "outputs": [],
      "source": [
        "merged_df.head()"
      ]
    },
    {
      "cell_type": "code",
      "execution_count": null,
      "metadata": {
        "colab": {
          "base_uri": "https://localhost:8080/"
        },
        "id": "WMp5-4SPhrbP",
        "outputId": "df1b66d1-f002-4b21-9e39-70e913ce4525"
      },
      "outputs": [],
      "source": [
        "print(merged_df['Road'].unique())\n",
        "print(merged_df['Road_presence'].unique())"
      ]
    },
    {
      "cell_type": "code",
      "execution_count": null,
      "metadata": {
        "id": "5n_rD-xHTmTT"
      },
      "outputs": [],
      "source": [
        "\n",
        "merged_df['Road_presence'] = merged_df['Road_presence'].replace({'1.0': 'No', '0.0': 'Yes'})\n"
      ]
    },
    {
      "cell_type": "code",
      "execution_count": null,
      "metadata": {
        "colab": {
          "base_uri": "https://localhost:8080/",
          "height": 594
        },
        "id": "uZy67ELGi1Ms",
        "outputId": "4aa92b93-ea66-45cf-ba97-142589f7eefa"
      },
      "outputs": [],
      "source": [
        "\n",
        "cm = confusion_matrix(merged_df['Road'], merged_df['Road_presence'], labels=['Yes', 'No'])\n",
        "f1 = f1_score(merged_df['Road'], merged_df['Road_presence'], labels=['Yes', 'No'], average='weighted')\n",
        "print(\" Forest at Planting presence F1 Score:\", f1)\n",
        "accuracy = accuracy_score(merged_df['Road'], merged_df['Road_presence'])\n",
        "print(\"Forest at Planting:\", accuracy)\n",
        "# Compute confusion matrix\n",
        "cm = confusion_matrix(merged_df['Road'], merged_df['Road_presence'], labels=['Yes', 'No'])\n",
        "\n",
        "colors = [\"#deebf7\", \"#9ecae1\", \"#6baed6\", \"#3182bd\", \"#08519c\"]\n",
        "cmap = LinearSegmentedColormap.from_list(\"blue_shades\", colors, N=256)\n",
        "\n",
        "# Plot\n",
        "plt.figure(figsize=(8, 6))\n",
        "heatmap = sns.heatmap(cm, annot=True, fmt='d', cmap=cmap, linewidths=0.5,\n",
        "                      xticklabels=['Yes', 'No'], yticklabels=['Yes', 'No'],\n",
        "                      annot_kws={\"size\": 18})\n",
        "\n",
        "# Get colorbar and set font size\n",
        "cbar = heatmap.collections[0].colorbar\n",
        "cbar.ax.tick_params(labelsize=18)\n",
        "\n",
        "# Labels\n",
        "plt.xlabel('Predicted (Automated)', fontsize=20)\n",
        "plt.ylabel('Actual (Manual)', fontsize=20)\n",
        "plt.xticks(fontsize=16)\n",
        "plt.yticks(fontsize=16)\n",
        "\n",
        "plt.show()"
      ]
    },
    {
      "cell_type": "code",
      "execution_count": null,
      "metadata": {
        "id": "OqVJzwszUMX6"
      },
      "outputs": [],
      "source": [
        "\n",
        "merged_df['Built_area_presence'] = merged_df['Built_area_presence'].replace({1.: 'No', 0.: 'Yes'})"
      ]
    },
    {
      "cell_type": "code",
      "execution_count": null,
      "metadata": {
        "colab": {
          "base_uri": "https://localhost:8080/"
        },
        "id": "hez_zdHUUj_a",
        "outputId": "fef4f015-00ba-46a9-e0e0-2fda8fd7180f"
      },
      "outputs": [],
      "source": [
        "print(merged_df['Buidling'].unique())\n",
        "print(merged_df['Built_area_presence'].unique())"
      ]
    },
    {
      "cell_type": "code",
      "execution_count": null,
      "metadata": {
        "colab": {
          "base_uri": "https://localhost:8080/",
          "height": 594
        },
        "id": "3lzw3HChhtPs",
        "outputId": "5a8f1959-8fb4-4a54-dd42-a6ae3c169eea"
      },
      "outputs": [],
      "source": [
        "\n",
        "merged_df = merged_df.dropna(subset=['Buidling', 'Built_area_presence'])\n",
        "\n",
        "\n",
        "cm = confusion_matrix(merged_df['Buidling'], merged_df['Built_area_presence'], labels=['Yes', 'No'])\n",
        "f1 = f1_score(merged_df['Buidling'], merged_df['Built_area_presence'], labels=['Yes', 'No'], average='weighted')\n",
        "print(\" Buidling presence F1 Score:\", f1)\n",
        "accuracy = accuracy_score(merged_df['Buidling'], merged_df['Built_area_presence'])\n",
        "print(\" Buidling presence Accuracy:\", accuracy)\n",
        "colors = [\"#deebf7\", \"#9ecae1\", \"#6baed6\", \"#3182bd\", \"#08519c\"]\n",
        "cmap = LinearSegmentedColormap.from_list(\"blue_shades\", colors, N=256)\n",
        "\n",
        "\n",
        "# Plot\n",
        "plt.figure(figsize=(8, 6))\n",
        "heatmap=sns.heatmap(cm, annot=True, fmt='d', cmap=cmap, linewidths=0.5,\n",
        "            xticklabels=['Yes', 'No'], yticklabels=['Yes', 'No'], annot_kws={\"size\": 18})\n",
        "# Get colorbar and set font size\n",
        "cbar = heatmap.collections[0].colorbar\n",
        "cbar.ax.tick_params(labelsize=18)\n",
        "# Labels\n",
        "plt.xlabel('Predicted (Automated)', fontsize=20)\n",
        "plt.ylabel('Actual (Manual)', fontsize=20)\n",
        "plt.xticks(fontsize=16)\n",
        "plt.yticks(fontsize=16)\n",
        "\n",
        "plt.show()"
      ]
    }
  ],
  "metadata": {
    "accelerator": "TPU",
    "colab": {
      "gpuType": "V28",
      "provenance": []
    },
    "kernelspec": {
      "display_name": "Python 3",
      "name": "python3"
    },
    "language_info": {
      "name": "python"
    }
  },
  "nbformat": 4,
  "nbformat_minor": 0
}
