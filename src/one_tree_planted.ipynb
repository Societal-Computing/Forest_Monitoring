{
 "cells": [
  {
   "cell_type": "markdown",
   "metadata": {},
   "source": [
    "# One Tree Planted\n",
    "https://onetreeplanted.org"
   ]
  },
  {
   "cell_type": "code",
   "execution_count": 13,
   "metadata": {},
   "outputs": [],
   "source": [
    "#climate impact data is explorer instead\n",
    "import json\n",
    "import pandas as pd\n",
    "import geopandas as gpd\n",
    "from shapely.geometry import Point\n",
    "import requests"
   ]
  },
  {
   "cell_type": "code",
   "execution_count": 14,
   "metadata": {},
   "outputs": [],
   "source": [
    "# with open('../input/OneTreePlaneted/OneTreePlanted.json', 'r') as file:\n",
    "#     data = json.load(file)\n",
    "# type(data)\n",
    "base_url = 'https://services8.arcgis.com/pKd0yHtOd6niWQzj/ArcGIS/rest/services/ActiveProjects11June24_XY/FeatureServer/436/query'\n",
    "\n",
    "#Defining Parameters\n",
    "params = {\n",
    "    'f': 'json',\n",
    "    'returnIdsOnly': 'false',\n",
    "    'returnCountOnly': 'false',\n",
    "    'orderByFields': '',\n",
    "    'outSR': '102100',\n",
    "    'returnGeometry': 'true',\n",
    "    'spatialRel': 'esriSpatialRelIntersects',\n",
    "    'where': \"Project_Status IN ('Complete','Planted/Reporting','OTP Reporting','Monitoring & Maintenance')\"\n",
    "}\n",
    "\n",
    "response = requests.get(base_url, params=params)\n",
    "\n",
    "\n",
    "if response.status_code == 200:\n",
    "    data = response.json()\n",
    "    \n",
    "    # Extracting the  features\n",
    "    features = data.get('features', [])\n",
    "    \n",
    "    extracted_data = []\n",
    "    \n",
    "    for feature in features:\n",
    "        attributes = feature.get('attributes', {})\n",
    "        geometry = feature.get('geometry', {})\n",
    "        \n",
    "        # Handling null values and missing fields\n",
    "        row = {\n",
    "            'Project_Title': attributes.get('Project_Title', None),\n",
    "            'Longitude': geometry.get('x', None),\n",
    "            'Latitude': geometry.get('y', None)\n",
    "        }\n",
    "        extracted_data.append(row)\n",
    "    \n",
    "\n",
    "    df = pd.DataFrame(extracted_data)\n",
    "    \n",
    "  \n",
    "    "
   ]
  },
  {
   "cell_type": "code",
   "execution_count": 15,
   "metadata": {},
   "outputs": [
    {
     "name": "stdout",
     "output_type": "stream",
     "text": [
      "<class 'pandas.core.frame.DataFrame'>\n",
      "RangeIndex: 819 entries, 0 to 818\n",
      "Data columns (total 3 columns):\n",
      " #   Column         Non-Null Count  Dtype  \n",
      "---  ------         --------------  -----  \n",
      " 0   Project_Title  819 non-null    object \n",
      " 1   Longitude      812 non-null    float64\n",
      " 2   Latitude       812 non-null    float64\n",
      "dtypes: float64(2), object(1)\n",
      "memory usage: 19.3+ KB\n"
     ]
    }
   ],
   "source": [
    "if isinstance(data, list) and isinstance(data[0], dict):\n",
    "    df = pd.DataFrame(data)\n",
    "df.info()"
   ]
  },
  {
   "cell_type": "markdown",
   "metadata": {},
   "source": [
    "### Fix geometries"
   ]
  },
  {
   "cell_type": "code",
   "execution_count": 16,
   "metadata": {},
   "outputs": [],
   "source": [
    "df['geometry'] = df.apply(lambda row: Point(row['Longitude'], row['Latitude']), axis=1)"
   ]
  },
  {
   "cell_type": "code",
   "execution_count": 17,
   "metadata": {},
   "outputs": [],
   "source": [
    "gdf = gpd.GeoDataFrame(df, geometry='geometry', crs = 'EPSG:3857')\n",
    "gdf['geometry'] = gdf['geometry'].make_valid()"
   ]
  },
  {
   "cell_type": "code",
   "execution_count": 18,
   "metadata": {},
   "outputs": [
    {
     "data": {
      "text/html": [
       "<div>\n",
       "<style scoped>\n",
       "    .dataframe tbody tr th:only-of-type {\n",
       "        vertical-align: middle;\n",
       "    }\n",
       "\n",
       "    .dataframe tbody tr th {\n",
       "        vertical-align: top;\n",
       "    }\n",
       "\n",
       "    .dataframe thead th {\n",
       "        text-align: right;\n",
       "    }\n",
       "</style>\n",
       "<table border=\"1\" class=\"dataframe\">\n",
       "  <thead>\n",
       "    <tr style=\"text-align: right;\">\n",
       "      <th></th>\n",
       "      <th>Project_Title</th>\n",
       "      <th>Longitude</th>\n",
       "      <th>Latitude</th>\n",
       "      <th>geometry</th>\n",
       "    </tr>\n",
       "  </thead>\n",
       "  <tbody>\n",
       "    <tr>\n",
       "      <th>0</th>\n",
       "      <td>Ireland 2022 - Nationwide Community Planting</td>\n",
       "      <td>-840006.413494</td>\n",
       "      <td>6.999668e+06</td>\n",
       "      <td>POINT (-840006.413 6999667.501)</td>\n",
       "    </tr>\n",
       "  </tbody>\n",
       "</table>\n",
       "</div>"
      ],
      "text/plain": [
       "                                   Project_Title      Longitude      Latitude  \\\n",
       "0   Ireland 2022 - Nationwide Community Planting -840006.413494  6.999668e+06   \n",
       "\n",
       "                          geometry  \n",
       "0  POINT (-840006.413 6999667.501)  "
      ]
     },
     "execution_count": 18,
     "metadata": {},
     "output_type": "execute_result"
    }
   ],
   "source": [
    "gdf.head(1)"
   ]
  },
  {
   "cell_type": "markdown",
   "metadata": {},
   "source": [
    "### Harmonize nomenclature"
   ]
  },
  {
   "cell_type": "code",
   "execution_count": 19,
   "metadata": {},
   "outputs": [],
   "source": [
    "gdf = gdf[['Project_Title', 'geometry']]\n",
    "\n",
    "columns_rename_mapping = {\n",
    "    'Project_Title': 'project_description_reported'\n",
    "}\n",
    "gdf.rename(columns=columns_rename_mapping, inplace=True)"
   ]
  },
  {
   "cell_type": "code",
   "execution_count": 20,
   "metadata": {},
   "outputs": [],
   "source": [
    "invalid_geom = False\n",
    "\n",
    "if len(gdf[gdf.geometry.is_valid == False]) > 0:\n",
    "    invalid_geom = True"
   ]
  },
  {
   "cell_type": "code",
   "execution_count": 21,
   "metadata": {},
   "outputs": [
    {
     "name": "stdout",
     "output_type": "stream",
     "text": [
      "<class 'geopandas.geodataframe.GeoDataFrame'>\n",
      "RangeIndex: 819 entries, 0 to 818\n",
      "Data columns (total 14 columns):\n",
      " #   Column                        Non-Null Count  Dtype   \n",
      "---  ------                        --------------  -----   \n",
      " 0   project_id_reported           819 non-null    int64   \n",
      " 1   project_description_reported  0 non-null      object  \n",
      " 2   geometry                      819 non-null    geometry\n",
      " 3   url                           819 non-null    object  \n",
      " 4   host_name                     819 non-null    object  \n",
      " 5   project_geometries_invalid    819 non-null    bool    \n",
      " 6   site_sqkm                     0 non-null      object  \n",
      " 7   species_count_reported        0 non-null      object  \n",
      " 8   species_planted_reported      0 non-null      object  \n",
      " 9   survival_rate_reported        0 non-null      object  \n",
      " 10  trees_planted_reported        0 non-null      object  \n",
      " 11  planting_date_reported        0 non-null      object  \n",
      " 12  country                       0 non-null      object  \n",
      " 13  site_id_reported              0 non-null      object  \n",
      "dtypes: bool(1), geometry(1), int64(1), object(11)\n",
      "memory usage: 84.1+ KB\n"
     ]
    }
   ],
   "source": [
    "gdf['url'] = 'https://onetreeplanted.org'\n",
    "gdf['host_name'] = 'One Tree Planted'\n",
    "gdf['project_geometries_invalid'] = invalid_geom\n",
    "gdf.reset_index(inplace = True, names = 'project_id_reported')\n",
    "gdf = gdf.assign(project_description_reported=None,site_sqkm=None,species_count_reported=None, species_planted_reported=None, survival_rate_reported=None,trees_planted_reported=None,planting_date_reported=None,country=None,site_id_reported=None)\n",
    "gdf.info()"
   ]
  },
  {
   "cell_type": "code",
   "execution_count": 22,
   "metadata": {},
   "outputs": [],
   "source": [
    "gdf[\"planting_date_type\"]= \" \""
   ]
  },
  {
   "cell_type": "code",
   "execution_count": 23,
   "metadata": {},
   "outputs": [],
   "source": [
    "gdf.to_crs('EPSG:4326').to_file('../midsave/one_tree_planted.gpkg')"
   ]
  }
 ],
 "metadata": {
  "kernelspec": {
   "display_name": "Python 3 (ipykernel)",
   "language": "python",
   "name": "python3"
  },
  "language_info": {
   "codemirror_mode": {
    "name": "ipython",
    "version": 3
   },
   "file_extension": ".py",
   "mimetype": "text/x-python",
   "name": "python",
   "nbconvert_exporter": "python",
   "pygments_lexer": "ipython3",
   "version": "3.13.2"
  }
 },
 "nbformat": 4,
 "nbformat_minor": 4
}
