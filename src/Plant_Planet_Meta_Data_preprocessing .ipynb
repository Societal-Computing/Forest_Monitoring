{
 "cells": [
  {
   "cell_type": "markdown",
   "metadata": {
    "id": "qbiGuHH55em6"
   },
   "source": [
    "### Projects Meta Data"
   ]
  },
  {
   "cell_type": "code",
   "execution_count": null,
   "metadata": {
    "id": "iqTEjJc74gc0"
   },
   "outputs": [],
   "source": [
    "# the file downloaded from planet websites https://app.plant-for-the-planet.org/app/projects?_scope=map&currency=EUR&tenant=ten_NxJq55pm&filter[purpose]=trees,conservation&locale=en\n",
    "import pandas as pd\n",
    "import json\n",
    "import requests\n",
    "import ast\n",
    "from shapely.geometry import shape, Polygon, MultiPolygon,mapping\n",
    "from shapely.ops import transform\n",
    "import pyproj\n",
    "import numpy as np\n",
    "from scipy import stats\n",
    "from shapely import wkt\n",
    "import geopandas as gpd\n",
    "\n",
    "from helper_functions import remove_not_geom, count_all_polygons, split_multipolygon, convert_3d_to_2d"
   ]
  },
  {
   "cell_type": "markdown",
   "metadata": {},
   "source": [
    "# Retrieve website information"
   ]
  },
  {
   "cell_type": "code",
   "execution_count": null,
   "metadata": {},
   "outputs": [],
   "source": [
    "df=pd.read_csv(\"../input/Plant_for_planet_shapefiles/plantforplanet_projects.csv\")"
   ]
  },
  {
   "cell_type": "code",
   "execution_count": null,
   "metadata": {
    "colab": {
     "base_uri": "https://localhost:8080/"
    },
    "id": "4bMRnaOv5Y9h",
    "outputId": "398a08cb-b9c2-4258-ad55-d9373f106e44"
   },
   "outputs": [],
   "source": [
    "projects_dict = df.groupby('properties.id').apply(lambda x: x.drop('properties.id', axis=1).to_dict(orient='records')).to_dict()\n",
    "projects_dict"
   ]
  },
  {
   "cell_type": "code",
   "execution_count": null,
   "metadata": {
    "colab": {
     "base_uri": "https://localhost:8080/"
    },
    "id": "DwJ83VgH6NIG",
    "outputId": "d82b4a09-a38b-46e8-b6ed-3e510ebcf545"
   },
   "outputs": [],
   "source": [
    "all_projects = df['properties.id'].unique()\n",
    "\n",
    "project_info = {}\n",
    "for slug in all_projects:\n",
    "    url = f\"https://app.plant-for-the-planet.org/app/projects/{slug}?_scope=extended&currency=EUR&locale=en\"\n",
    "    response = requests.get(url)\n",
    "    if response.status_code == 200:\n",
    "        project_info[slug] = response.json()\n",
    "    else:\n",
    "        project_info[slug] = f\"Failed to retrieve information for {slug}\"\n",
    "\n",
    "with open('../input/Plant_for_planet_shapefiles/project_info.json', 'w') as json_file:\n",
    "    json.dump(project_info, json_file)\n",
    "\n",
    "print(\"Project information saved to '../input/Plant_for_planet_shapefiles/project_info.json'\")"
   ]
  },
  {
   "cell_type": "markdown",
   "metadata": {},
   "source": [
    "# Preprocessing"
   ]
  },
  {
   "cell_type": "code",
   "execution_count": null,
   "metadata": {
    "colab": {
     "base_uri": "https://localhost:8080/",
     "height": 322
    },
    "id": "ExnfBB7Z5oh_",
    "outputId": "a0d1d62b-284c-4bb3-dcc4-d20405d9c1c2"
   },
   "outputs": [],
   "source": [
    "# Reading the all the data in the json file and we transpose to have the right format table\n",
    "json_file_path ='../input/Plant_for_planet_shapefiles/project_info.json'\n",
    "raw_df = pd.read_json(json_file_path).T\n",
    "raw_df.head(5)"
   ]
  },
  {
   "cell_type": "code",
   "execution_count": null,
   "metadata": {},
   "outputs": [],
   "source": [
    "raw_df.rename(columns= {\"id\":\"project_id_reported\", \n",
    "                        \"description\":\"project_description_reported\",\n",
    "                        \"countPlanted\":\"trees_planted_reported\", \n",
    "                        \"firstTreePlanted\": \"planting_date_reported\",\n",
    "                        \"survivalRate\": \"survival_rate_reported\"}, inplace = True)"
   ]
  },
  {
   "cell_type": "code",
   "execution_count": null,
   "metadata": {},
   "outputs": [],
   "source": [
    "raw_df.info()"
   ]
  },
  {
   "cell_type": "markdown",
   "metadata": {},
   "source": [
    "### Convert nested polygons to one polygon per row"
   ]
  },
  {
   "cell_type": "code",
   "execution_count": null,
   "metadata": {},
   "outputs": [],
   "source": [
    "expanded_rows = []\n",
    "for _, row in raw_df.iterrows():\n",
    "    for site in row['sites']:\n",
    "        \n",
    "        site_data = {\n",
    "            'project_id_reported': row['project_id_reported'],\n",
    "            'geometry': site['geometry'],\n",
    "            'site_id': site['properties']['id'],\n",
    "            'site_description': site['properties']['description'],\n",
    "            'site_status': site['properties']['status']\n",
    "        }\n",
    "        expanded_rows.append(site_data)\n",
    "\n",
    "df = pd.DataFrame(expanded_rows)"
   ]
  },
  {
   "cell_type": "code",
   "execution_count": null,
   "metadata": {},
   "outputs": [],
   "source": [
    "df['geometry'] = df['geometry'].apply(lambda x: shape(x) if x is not None else Polygon())"
   ]
  },
  {
   "cell_type": "code",
   "execution_count": null,
   "metadata": {},
   "outputs": [],
   "source": [
    "df[df.geometry.isna()]"
   ]
  },
  {
   "cell_type": "code",
   "execution_count": null,
   "metadata": {},
   "outputs": [],
   "source": [
    "raw_gdf = gpd.GeoDataFrame(df, geometry='geometry', crs = 'EPSG:4326')"
   ]
  },
  {
   "cell_type": "code",
   "execution_count": null,
   "metadata": {},
   "outputs": [],
   "source": [
    "raw_gdf.head(5)"
   ]
  },
  {
   "cell_type": "markdown",
   "metadata": {},
   "source": [
    "Explode multipolygons to multiple simple polygons"
   ]
  },
  {
   "cell_type": "code",
   "execution_count": null,
   "metadata": {},
   "outputs": [],
   "source": [
    "gdf = raw_gdf.explode()"
   ]
  },
  {
   "cell_type": "code",
   "execution_count": null,
   "metadata": {},
   "outputs": [],
   "source": [
    "gdf.head(5)"
   ]
  },
  {
   "cell_type": "markdown",
   "metadata": {},
   "source": [
    "Simplify 3D to 2D"
   ]
  },
  {
   "cell_type": "code",
   "execution_count": null,
   "metadata": {},
   "outputs": [],
   "source": [
    "gdf['geometry'] = gdf['geometry'].apply(convert_3d_to_2d)"
   ]
  },
  {
   "cell_type": "code",
   "execution_count": null,
   "metadata": {},
   "outputs": [],
   "source": [
    "gdf['geometry'] = gdf['geometry'].make_valid()"
   ]
  },
  {
   "cell_type": "code",
   "execution_count": null,
   "metadata": {
    "colab": {
     "base_uri": "https://localhost:8080/"
    },
    "id": "MMQh0Li86YDe",
    "outputId": "39797ae7-315f-425e-98ad-b0efec49800d"
   },
   "outputs": [],
   "source": [
    "# Resetting the index without keeping the old index as a column\n",
    "gdf.reset_index(drop=True, inplace=True)\n",
    "gdf.info()"
   ]
  },
  {
   "cell_type": "markdown",
   "metadata": {},
   "source": [
    "Add area sizes"
   ]
  },
  {
   "cell_type": "code",
   "execution_count": null,
   "metadata": {},
   "outputs": [],
   "source": [
    "gdf['polygon_areas_km'] = gdf['geometry'].to_crs(3857).area / 1e6"
   ]
  },
  {
   "cell_type": "code",
   "execution_count": null,
   "metadata": {},
   "outputs": [],
   "source": [
    "gdf['polygon_areas_km'].describe()"
   ]
  },
  {
   "cell_type": "markdown",
   "metadata": {},
   "source": [
    "### Add project-level information"
   ]
  },
  {
   "cell_type": "code",
   "execution_count": null,
   "metadata": {},
   "outputs": [],
   "source": [
    "gdf = gdf.merge(raw_df[['project_id_reported', 'trees_planted_reported', 'country',\"project_description_reported\",\"planting_date_reported\",\"survival_rate_reported\"]],\n",
    "                on = 'project_id_reported', how = 'left')"
   ]
  },
  {
   "cell_type": "code",
   "execution_count": null,
   "metadata": {},
   "outputs": [],
   "source": [
    "gdf['host_name'] = 'Planet for the Planet'\n",
    "gdf['url'] = 'https://www.plant-for-the-planet.org/'\n",
    "gdf['species_count_reported'] = None\n",
    "gdf['species_planted_reported'] = None"
   ]
  },
  {
   "cell_type": "code",
   "execution_count": null,
   "metadata": {
    "scrolled": true
   },
   "outputs": [],
   "source": [
    "gdf.info()"
   ]
  },
  {
   "cell_type": "code",
   "execution_count": null,
   "metadata": {},
   "outputs": [],
   "source": [
    "gdf.to_file('../input/Plant_for_planet_shapefiles/plant_planet.gpkg')"
   ]
  }
 ],
 "metadata": {
  "colab": {
   "provenance": []
  },
  "kernelspec": {
   "display_name": "Python 3 (ipykernel)",
   "language": "python",
   "name": "python3"
  },
  "language_info": {
   "codemirror_mode": {
    "name": "ipython",
    "version": 3
   },
   "file_extension": ".py",
   "mimetype": "text/x-python",
   "name": "python",
   "nbconvert_exporter": "python",
   "pygments_lexer": "ipython3",
   "version": "3.12.4"
  }
 },
 "nbformat": 4,
 "nbformat_minor": 4
}
