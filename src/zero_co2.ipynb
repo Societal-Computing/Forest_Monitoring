{
 "cells": [
  {
   "cell_type": "markdown",
   "metadata": {},
   "source": [
    "# Zero CO2"
   ]
  },
  {
   "cell_type": "markdown",
   "metadata": {},
   "source": [
    "https://zeroco2.eco/en/projects/"
   ]
  },
  {
   "cell_type": "code",
   "execution_count": 1,
   "metadata": {},
   "outputs": [],
   "source": [
    "import json\n",
    "import pandas as pd\n",
    "import geopandas as gpd\n",
    "from shapely.geometry import Point"
   ]
  },
  {
   "cell_type": "code",
   "execution_count": 2,
   "metadata": {},
   "outputs": [
    {
     "name": "stdout",
     "output_type": "stream",
     "text": [
      "{'countryId': 46, 'countryName': 'Guatemala', 'user_created': '8e9fdc64-63e2-442e-b1e8-fef6d1bcfe06', 'date_created': '2023-09-05T16:18:05.252Z', 'user_updated': '8e9fdc64-63e2-442e-b1e8-fef6d1bcfe06', 'date_updated': '2024-01-31T22:59:15.552Z', 'project_id': 'PJ01', 'country': 46, 'sort': 1, 'id': 'ae3f0a01-ecd4-43bb-a814-1ba12ac2c8f5', 'status': 'published', 'project_name': 'Riforestare per resistere', 'description': 'Creiamo foreste in Guatemala per supportare comunità contadine a resistere agli effetti della crisi climatica e alle oppressioni dei più forti.', 'description_translations': [{'language': 'EN', 'project_description': 'We create forests in Guatemala to sustain peasant communities as they resist the effects of the climate crisis and the oppression of the powerful.'}], 'project_name_translations': [{'language': 'IT', 'project_name': 'Riforestare per resistere'}, {'language': 'EN', 'project_name': 'Resistance through reforestation'}], 'is_posidonia': False, 'gps_position.coordinates': [-89.7276, 16.6798], 'gps_position.type': 'Point'}\n"
     ]
    }
   ],
   "source": [
    "with open('../input/ZeroCo2/ZeroCo2.json', 'r') as file:\n",
    "    data = json.load(file)\n",
    "print(data[0])"
   ]
  },
  {
   "cell_type": "code",
   "execution_count": 3,
   "metadata": {},
   "outputs": [
    {
     "name": "stdout",
     "output_type": "stream",
     "text": [
      "<class 'pandas.core.frame.DataFrame'>\n",
      "RangeIndex: 7 entries, 0 to 6\n",
      "Data columns (total 19 columns):\n",
      " #   Column                     Non-Null Count  Dtype \n",
      "---  ------                     --------------  ----- \n",
      " 0   countryId                  7 non-null      int64 \n",
      " 1   countryName                7 non-null      object\n",
      " 2   user_created               7 non-null      object\n",
      " 3   date_created               7 non-null      object\n",
      " 4   user_updated               7 non-null      object\n",
      " 5   date_updated               7 non-null      object\n",
      " 6   project_id                 7 non-null      object\n",
      " 7   country                    7 non-null      int64 \n",
      " 8   sort                       7 non-null      int64 \n",
      " 9   id                         7 non-null      object\n",
      " 10  status                     7 non-null      object\n",
      " 11  project_name               7 non-null      object\n",
      " 12  description                7 non-null      object\n",
      " 13  description_translations   7 non-null      object\n",
      " 14  project_name_translations  7 non-null      object\n",
      " 15  is_posidonia               7 non-null      bool  \n",
      " 16  gps_position.coordinates   7 non-null      object\n",
      " 17  gps_position.type          7 non-null      object\n",
      " 18  local_authority            3 non-null      object\n",
      "dtypes: bool(1), int64(3), object(15)\n",
      "memory usage: 1.1+ KB\n"
     ]
    }
   ],
   "source": [
    "if isinstance(data, list) and isinstance(data[0], dict):\n",
    "    df = pd.DataFrame(data)\n",
    "    df.info()"
   ]
  },
  {
   "cell_type": "code",
   "execution_count": 4,
   "metadata": {},
   "outputs": [
    {
     "data": {
      "text/html": [
       "<div>\n",
       "<style scoped>\n",
       "    .dataframe tbody tr th:only-of-type {\n",
       "        vertical-align: middle;\n",
       "    }\n",
       "\n",
       "    .dataframe tbody tr th {\n",
       "        vertical-align: top;\n",
       "    }\n",
       "\n",
       "    .dataframe thead th {\n",
       "        text-align: right;\n",
       "    }\n",
       "</style>\n",
       "<table border=\"1\" class=\"dataframe\">\n",
       "  <thead>\n",
       "    <tr style=\"text-align: right;\">\n",
       "      <th></th>\n",
       "      <th>countryId</th>\n",
       "      <th>countryName</th>\n",
       "      <th>user_created</th>\n",
       "      <th>date_created</th>\n",
       "      <th>user_updated</th>\n",
       "      <th>date_updated</th>\n",
       "      <th>project_id</th>\n",
       "      <th>country</th>\n",
       "      <th>sort</th>\n",
       "      <th>id</th>\n",
       "      <th>status</th>\n",
       "      <th>project_name</th>\n",
       "      <th>description</th>\n",
       "      <th>description_translations</th>\n",
       "      <th>project_name_translations</th>\n",
       "      <th>is_posidonia</th>\n",
       "      <th>gps_position.coordinates</th>\n",
       "      <th>gps_position.type</th>\n",
       "      <th>local_authority</th>\n",
       "    </tr>\n",
       "  </thead>\n",
       "  <tbody>\n",
       "    <tr>\n",
       "      <th>0</th>\n",
       "      <td>46</td>\n",
       "      <td>Guatemala</td>\n",
       "      <td>8e9fdc64-63e2-442e-b1e8-fef6d1bcfe06</td>\n",
       "      <td>2023-09-05T16:18:05.252Z</td>\n",
       "      <td>8e9fdc64-63e2-442e-b1e8-fef6d1bcfe06</td>\n",
       "      <td>2024-01-31T22:59:15.552Z</td>\n",
       "      <td>PJ01</td>\n",
       "      <td>46</td>\n",
       "      <td>1</td>\n",
       "      <td>ae3f0a01-ecd4-43bb-a814-1ba12ac2c8f5</td>\n",
       "      <td>published</td>\n",
       "      <td>Riforestare per resistere</td>\n",
       "      <td>Creiamo foreste in Guatemala per supportare co...</td>\n",
       "      <td>[{'language': 'EN', 'project_description': 'We...</td>\n",
       "      <td>[{'language': 'IT', 'project_name': 'Riforesta...</td>\n",
       "      <td>False</td>\n",
       "      <td>[-89.7276, 16.6798]</td>\n",
       "      <td>Point</td>\n",
       "      <td>NaN</td>\n",
       "    </tr>\n",
       "  </tbody>\n",
       "</table>\n",
       "</div>"
      ],
      "text/plain": [
       "   countryId countryName                          user_created  \\\n",
       "0         46   Guatemala  8e9fdc64-63e2-442e-b1e8-fef6d1bcfe06   \n",
       "\n",
       "               date_created                          user_updated  \\\n",
       "0  2023-09-05T16:18:05.252Z  8e9fdc64-63e2-442e-b1e8-fef6d1bcfe06   \n",
       "\n",
       "               date_updated project_id  country  sort  \\\n",
       "0  2024-01-31T22:59:15.552Z       PJ01       46     1   \n",
       "\n",
       "                                     id     status               project_name  \\\n",
       "0  ae3f0a01-ecd4-43bb-a814-1ba12ac2c8f5  published  Riforestare per resistere   \n",
       "\n",
       "                                         description  \\\n",
       "0  Creiamo foreste in Guatemala per supportare co...   \n",
       "\n",
       "                            description_translations  \\\n",
       "0  [{'language': 'EN', 'project_description': 'We...   \n",
       "\n",
       "                           project_name_translations  is_posidonia  \\\n",
       "0  [{'language': 'IT', 'project_name': 'Riforesta...         False   \n",
       "\n",
       "  gps_position.coordinates gps_position.type local_authority  \n",
       "0      [-89.7276, 16.6798]             Point             NaN  "
      ]
     },
     "execution_count": 4,
     "metadata": {},
     "output_type": "execute_result"
    }
   ],
   "source": [
    "df.head(1)"
   ]
  },
  {
   "cell_type": "markdown",
   "metadata": {},
   "source": [
    "### Fix geometries"
   ]
  },
  {
   "cell_type": "code",
   "execution_count": 5,
   "metadata": {},
   "outputs": [],
   "source": [
    "df['geometry'] = df['gps_position.coordinates'].apply(lambda x: Point(x))"
   ]
  },
  {
   "cell_type": "code",
   "execution_count": 6,
   "metadata": {},
   "outputs": [],
   "source": [
    "gdf = gpd.GeoDataFrame(df, geometry='geometry', crs = 'EPSG:4326')\n",
    "gdf['geometry'] = gdf['geometry'].make_valid()"
   ]
  },
  {
   "cell_type": "markdown",
   "metadata": {},
   "source": [
    "### Harmonize nomenclature"
   ]
  },
  {
   "cell_type": "code",
   "execution_count": 7,
   "metadata": {},
   "outputs": [],
   "source": [
    "gdf = gdf[['project_id', 'id', 'description', 'countryName', 'date_created', 'geometry']]"
   ]
  },
  {
   "cell_type": "code",
   "execution_count": 8,
   "metadata": {},
   "outputs": [],
   "source": [
    "gdf['url'] = 'https://zeroco2.eco/en/projects/'\n",
    "gdf['host_name'] = 'Zero CO2'"
   ]
  },
  {
   "cell_type": "code",
   "execution_count": 9,
   "metadata": {},
   "outputs": [],
   "source": [
    "# Renaming the columns to follow our naming format in the paper columns section\n",
    "columns_rename_mapping = {\n",
    "    'project_id': 'project_id_reported',\n",
    "     'id': 'site_id_reported',\n",
    "    'description': 'project_description_reported',\n",
    "    'countryName': 'country',\n",
    "    'date_created' : 'planting_date_reported'\n",
    "}\n",
    "gdf.rename(columns=columns_rename_mapping, inplace=True)"
   ]
  },
  {
   "cell_type": "code",
   "execution_count": 10,
   "metadata": {},
   "outputs": [],
   "source": [
    "gdf['planting_date_reported'] = pd.to_datetime(gdf['planting_date_reported']).dt.year"
   ]
  },
  {
   "cell_type": "code",
   "execution_count": 11,
   "metadata": {},
   "outputs": [
    {
     "name": "stdout",
     "output_type": "stream",
     "text": [
      "<class 'geopandas.geodataframe.GeoDataFrame'>\n",
      "RangeIndex: 7 entries, 0 to 6\n",
      "Data columns (total 13 columns):\n",
      " #   Column                        Non-Null Count  Dtype   \n",
      "---  ------                        --------------  -----   \n",
      " 0   project_id_reported           7 non-null      object  \n",
      " 1   site_id_reported              7 non-null      object  \n",
      " 2   project_description_reported  7 non-null      object  \n",
      " 3   country                       0 non-null      object  \n",
      " 4   planting_date_reported        7 non-null      int32   \n",
      " 5   geometry                      7 non-null      geometry\n",
      " 6   url                           7 non-null      object  \n",
      " 7   host_name                     7 non-null      object  \n",
      " 8   site_sqkm                     0 non-null      object  \n",
      " 9   species_count_reported        0 non-null      object  \n",
      " 10  species_planted_reported      0 non-null      object  \n",
      " 11  survival_rate_reported        0 non-null      object  \n",
      " 12  trees_planted_reported        0 non-null      object  \n",
      "dtypes: geometry(1), int32(1), object(11)\n",
      "memory usage: 828.0+ bytes\n"
     ]
    }
   ],
   "source": [
    "gdf = gdf.assign(site_sqkm=None,species_count_reported=None, species_planted_reported=None, survival_rate_reported=None,trees_planted_reported=None,country=None)\n",
    "gdf.info()"
   ]
  },
  {
   "cell_type": "markdown",
   "metadata": {},
   "source": [
    "### Save it"
   ]
  },
  {
   "cell_type": "code",
   "execution_count": 12,
   "metadata": {},
   "outputs": [],
   "source": [
    "gdf.to_file('../midsave/zero_co2.gpkg')"
   ]
  }
 ],
 "metadata": {
  "kernelspec": {
   "display_name": "Python 3 (ipykernel)",
   "language": "python",
   "name": "python3"
  },
  "language_info": {
   "codemirror_mode": {
    "name": "ipython",
    "version": 3
   },
   "file_extension": ".py",
   "mimetype": "text/x-python",
   "name": "python",
   "nbconvert_exporter": "python",
   "pygments_lexer": "ipython3",
   "version": "3.9.6"
  }
 },
 "nbformat": 4,
 "nbformat_minor": 4
}
