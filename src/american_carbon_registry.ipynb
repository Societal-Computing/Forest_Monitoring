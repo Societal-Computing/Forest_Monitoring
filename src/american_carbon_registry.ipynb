{
 "cells": [
  {
   "cell_type": "markdown",
   "metadata": {},
   "source": [
    "# Climate Partner Impact\n",
    "https://www.climateimpact.com"
   ]
  },
  {
   "cell_type": "code",
   "execution_count": null,
   "metadata": {},
   "outputs": [],
   "source": [
    "import json\n",
    "import requests\n",
    "import pandas as pd\n",
    "import geopandas as gpd\n",
    "from shapely.geometry import Point\n",
    "from bs4 import BeautifulSoup\n",
    "from tqdm import tqdm\n",
    "import time\n",
    "import os\n",
    "from random import uniform"
   ]
  },
  {
   "cell_type": "markdown",
   "metadata": {},
   "source": [
    "### Load data"
   ]
  },
  {
   "cell_type": "code",
   "execution_count": null,
   "metadata": {},
   "outputs": [],
   "source": [
    "df = pd.read_csv(\"../input/ACR/acr_export_02_27_2025.csv\", encoding=\"ISO-8859-1\")\n",
    "df"
   ]
  },
  {
   "cell_type": "code",
   "execution_count": null,
   "metadata": {},
   "outputs": [],
   "source": [
    "df['project_id'] = df['Project ID'].str.extract(r'ACR(\\d+)')"
   ]
  },
  {
   "cell_type": "code",
   "execution_count": null,
   "metadata": {},
   "outputs": [],
   "source": [
    "df = df.loc[df['Project Type'] == 'Forest Carbon'].copy()"
   ]
  },
  {
   "cell_type": "code",
   "execution_count": null,
   "metadata": {},
   "outputs": [],
   "source": [
    "df = (df.loc[(df['Project Methodology/Protocol'] == 'Afforestation and Reforestation of Degraded Lands') |\n",
    "              (df['Project Methodology/Protocol'] == 'AR-ACM0001 Afforestation and Reforestation of Degraded Land')].copy())"
   ]
  },
  {
   "cell_type": "code",
   "execution_count": null,
   "metadata": {},
   "outputs": [],
   "source": [
    "df['project_pdf_available'] = False"
   ]
  },
  {
   "cell_type": "code",
   "execution_count": null,
   "metadata": {},
   "outputs": [],
   "source": [
    "for project_id in tqdm(df['project_id'].unique().tolist()):\n",
    "\n",
    "    url = f'https://acr2.apx.com/mymodule/reg/TabDocuments.asp?r=111&ad=Prpt&act=update&type=PRO&aProj=pub&tablename=doc&id1={project_id}'\n",
    "    headers = {\n",
    "        \"User-Agent\": \"Mozilla/5.0 (Windows NT 10.0; Win64; x64)\",\n",
    "        \"Accept\": \"application/json\",\n",
    "        }\n",
    "    try:\n",
    "        response = requests.get(url, headers=headers)\n",
    "    \n",
    "    except Exception as e:\n",
    "        print(f\"Error\")\n",
    "    \n",
    "    if response.status_code == 200:\n",
    "        soup = BeautifulSoup(response.text, \"html.parser\")\n",
    "\n",
    "        sections = soup.find_all(string=lambda text: text and \"Validation Report\" in text)\n",
    "        \n",
    "        pd_uris = []\n",
    "        \n",
    "        for section in sections:\n",
    "            parent_row = section.find_parent(\"tr\")\n",
    "            if parent_row:\n",
    "                links = parent_row.find_all(\"a\", href=True)\n",
    "                pd_uris.extend([link[\"href\"] for link in links])\n",
    "\n",
    "        pdf_path = f\"/Users/tillkoebe/Documents/GitHub/Forest_Monitoring/midsave/project_descriptions/pd_acr_{project_id}.pdf\"\n",
    "        \n",
    "        pd_available = False\n",
    "        for uri in pd_uris:\n",
    "            response = requests.get(f'https://acr2.apx.com/{uri}', headers=headers)\n",
    "            if response.status_code == 200:\n",
    "                if response.content:\n",
    "                    open(os.path.join(pdf_path), \"wb\").write(response.content)\n",
    "                    pd_available = True\n",
    "        \n",
    "        df.loc[df.project_id == project_id, 'project_pdf_available'] = pd_available\n",
    "\n",
    "    time.sleep(uniform(0, 5.0))"
   ]
  },
  {
   "cell_type": "code",
   "execution_count": null,
   "metadata": {},
   "outputs": [],
   "source": [
    "df['planting_date_reported'] = pd.to_datetime(df['Initial Crediting Period Start Date']).dt.year"
   ]
  },
  {
   "cell_type": "code",
   "execution_count": null,
   "metadata": {},
   "outputs": [],
   "source": [
    "gdf = (df[['Project ID', 'Project Site Country', 'planting_date_reported', 'project_pdf_available']]\n",
    "       .rename(columns = {'Project ID':'project_id_reported', \n",
    "                          'Project Site Country':'country'})\n",
    "      .reset_index(drop = True)\n",
    "      .reset_index(names = ['project_id_created'])\n",
    "      .assign(site_id_created=lambda x: x.project_id_created,\n",
    "              site_sqkm=None,\n",
    "              species_count_reported=None,\n",
    "              species_planted_reported=None,\n",
    "              survival_rate_reported=None,\n",
    "              trees_planted_reported=None,\n",
    "              planting_date_reported=None,\n",
    "              geometry=None))"
   ]
  },
  {
   "cell_type": "code",
   "execution_count": null,
   "metadata": {},
   "outputs": [],
   "source": [
    "gdf.info()"
   ]
  },
  {
   "cell_type": "markdown",
   "metadata": {},
   "source": [
    "### Save it"
   ]
  },
  {
   "cell_type": "code",
   "execution_count": null,
   "metadata": {},
   "outputs": [],
   "source": [
    "gdf = gpd.GeoDataFrame(gdf).set_crs('EPSG:4326', allow_override=True)"
   ]
  },
  {
   "cell_type": "code",
   "execution_count": null,
   "metadata": {},
   "outputs": [],
   "source": [
    "gdf.to_file('../midsave/american_carbon_registry.gpkg', driver='GPKG')"
   ]
  }
 ],
 "metadata": {
  "kernelspec": {
   "display_name": "Python 3 (ipykernel)",
   "language": "python",
   "name": "python3"
  },
  "language_info": {
   "codemirror_mode": {
    "name": "ipython",
    "version": 3
   },
   "file_extension": ".py",
   "mimetype": "text/x-python",
   "name": "python",
   "nbconvert_exporter": "python",
   "pygments_lexer": "ipython3",
   "version": "3.12.4"
  }
 },
 "nbformat": 4,
 "nbformat_minor": 4
}
