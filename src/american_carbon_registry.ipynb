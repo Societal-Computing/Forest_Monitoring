{
 "cells": [
  {
   "cell_type": "markdown",
   "metadata": {},
   "source": [
    "# Climate Partner Impact\n",
    "https://www.climateimpact.com"
   ]
  },
  {
   "cell_type": "code",
   "execution_count": 5,
   "metadata": {},
   "outputs": [],
   "source": [
    "import json\n",
    "import pandas as pd\n",
    "import geopandas as gpd\n",
    "from shapely.geometry import Point"
   ]
  },
  {
   "cell_type": "markdown",
   "metadata": {},
   "source": [
    "### Load data"
   ]
  },
  {
   "cell_type": "code",
   "execution_count": 6,
   "metadata": {},
   "outputs": [
    {
     "data": {
      "text/html": [
       "<div>\n",
       "<style scoped>\n",
       "    .dataframe tbody tr th:only-of-type {\n",
       "        vertical-align: middle;\n",
       "    }\n",
       "\n",
       "    .dataframe tbody tr th {\n",
       "        vertical-align: top;\n",
       "    }\n",
       "\n",
       "    .dataframe thead th {\n",
       "        text-align: right;\n",
       "    }\n",
       "</style>\n",
       "<table border=\"1\" class=\"dataframe\">\n",
       "  <thead>\n",
       "    <tr style=\"text-align: right;\">\n",
       "      <th></th>\n",
       "      <th>site_id_created</th>\n",
       "      <th>project_id_reported</th>\n",
       "      <th>site_id_reported</th>\n",
       "      <th>site_description_reported</th>\n",
       "      <th>site_sqkm</th>\n",
       "      <th>trees_planted_reported</th>\n",
       "      <th>country</th>\n",
       "      <th>project_description_reported</th>\n",
       "      <th>planting_date_reported</th>\n",
       "      <th>survival_rate_reported</th>\n",
       "      <th>host_name</th>\n",
       "      <th>url</th>\n",
       "      <th>species_count_reported</th>\n",
       "      <th>species_planted_reported</th>\n",
       "      <th>geometry</th>\n",
       "      <th>Creator</th>\n",
       "      <th>project_id_created</th>\n",
       "    </tr>\n",
       "  </thead>\n",
       "  <tbody>\n",
       "    <tr>\n",
       "      <th>0</th>\n",
       "      <td>NaN</td>\n",
       "      <td>ACR586</td>\n",
       "      <td>NaN</td>\n",
       "      <td>NaN</td>\n",
       "      <td>NaN</td>\n",
       "      <td>NaN</td>\n",
       "      <td>US</td>\n",
       "      <td>The 18 Reserves Forest Carbon Project is locat...</td>\n",
       "      <td>1/15/2020</td>\n",
       "      <td>NaN</td>\n",
       "      <td>NaN</td>\n",
       "      <td>NaN</td>\n",
       "      <td>NaN</td>\n",
       "      <td>NaN</td>\n",
       "      <td>NaN</td>\n",
       "      <td>NaN</td>\n",
       "      <td>NaN</td>\n",
       "    </tr>\n",
       "  </tbody>\n",
       "</table>\n",
       "</div>"
      ],
      "text/plain": [
       "   site_id_created project_id_reported  site_id_reported  \\\n",
       "0              NaN              ACR586               NaN   \n",
       "\n",
       "   site_description_reported  site_sqkm  trees_planted_reported country  \\\n",
       "0                        NaN        NaN                     NaN      US   \n",
       "\n",
       "                        project_description_reported planting_date_reported  \\\n",
       "0  The 18 Reserves Forest Carbon Project is locat...              1/15/2020   \n",
       "\n",
       "   survival_rate_reported  host_name  url  species_count_reported  \\\n",
       "0                     NaN        NaN  NaN                     NaN   \n",
       "\n",
       "   species_planted_reported  geometry  Creator  project_id_created  \n",
       "0                       NaN       NaN      NaN                 NaN  "
      ]
     },
     "execution_count": 6,
     "metadata": {},
     "output_type": "execute_result"
    }
   ],
   "source": [
    "df = pd.read_csv(\"../input/American_Carbon_registry/homogenised_dataset_ACR.csv\")\n",
    "df.head(1)"
   ]
  },
  {
   "cell_type": "code",
   "execution_count": 7,
   "metadata": {},
   "outputs": [
    {
     "name": "stdout",
     "output_type": "stream",
     "text": [
      "<class 'pandas.core.frame.DataFrame'>\n",
      "RangeIndex: 282 entries, 0 to 281\n",
      "Data columns (total 17 columns):\n",
      " #   Column                        Non-Null Count  Dtype  \n",
      "---  ------                        --------------  -----  \n",
      " 0   site_id_created               0 non-null      float64\n",
      " 1   project_id_reported           282 non-null    object \n",
      " 2   site_id_reported              0 non-null      float64\n",
      " 3   site_description_reported     0 non-null      float64\n",
      " 4   site_sqkm                     0 non-null      float64\n",
      " 5   trees_planted_reported        0 non-null      float64\n",
      " 6   country                       282 non-null    object \n",
      " 7   project_description_reported  282 non-null    object \n",
      " 8   planting_date_reported        282 non-null    object \n",
      " 9   survival_rate_reported        0 non-null      float64\n",
      " 10  host_name                     0 non-null      float64\n",
      " 11  url                           52 non-null     object \n",
      " 12  species_count_reported        0 non-null      float64\n",
      " 13  species_planted_reported      0 non-null      float64\n",
      " 14  geometry                      0 non-null      float64\n",
      " 15  Creator                       0 non-null      float64\n",
      " 16  project_id_created            0 non-null      float64\n",
      "dtypes: float64(12), object(5)\n",
      "memory usage: 37.6+ KB\n"
     ]
    }
   ],
   "source": [
    "df.info()"
   ]
  },
  {
   "cell_type": "markdown",
   "metadata": {},
   "source": [
    "### Save it"
   ]
  },
  {
   "cell_type": "code",
   "execution_count": 8,
   "metadata": {},
   "outputs": [],
   "source": [
    "\n",
    "gdf = gpd.GeoDataFrame(df)  \n",
    "gdf.to_file('../midsave/american_carbon_registry.gpkg', driver='GPKG')"
   ]
  }
 ],
 "metadata": {
  "kernelspec": {
   "display_name": "Python 3 (ipykernel)",
   "language": "python",
   "name": "python3"
  },
  "language_info": {
   "codemirror_mode": {
    "name": "ipython",
    "version": 3
   },
   "file_extension": ".py",
   "mimetype": "text/x-python",
   "name": "python",
   "nbconvert_exporter": "python",
   "pygments_lexer": "ipython3",
   "version": "3.11.8"
  }
 },
 "nbformat": 4,
 "nbformat_minor": 4
}
