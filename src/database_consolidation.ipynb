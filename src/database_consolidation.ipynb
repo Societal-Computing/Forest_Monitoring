{
 "cells": [
  {
   "cell_type": "markdown",
   "metadata": {},
   "source": [
    "# Consolidating and preprocessing source data"
   ]
  },
  {
   "cell_type": "markdown",
   "metadata": {},
   "source": [
    "In this script, we combine all the sites from the different reforestation projects from different organization to one dataset and do some initial filtering."
   ]
  },
  {
   "cell_type": "code",
   "execution_count": 319,
   "metadata": {},
   "outputs": [],
   "source": [
    "import geopandas as gpd\n",
    "import pandas as pd\n",
    "import pycountry"
   ]
  },
  {
   "cell_type": "markdown",
   "metadata": {},
   "source": [
    "### Importing provider data"
   ]
  },
  {
   "cell_type": "markdown",
   "metadata": {},
   "source": [
    "#### Plant_planet_data"
   ]
  },
  {
   "cell_type": "markdown",
   "metadata": {},
   "source": [
    "\n",
    "We extracted the data from https://www.plant-for-the-planet.org as described in the script 'Plant_Planet_Meta_Data_preprocessing.ipynb'."
   ]
  },
  {
   "cell_type": "code",
   "execution_count": 323,
   "metadata": {},
   "outputs": [
    {
     "name": "stdout",
     "output_type": "stream",
     "text": [
      "<class 'geopandas.geodataframe.GeoDataFrame'>\n",
      "RangeIndex: 3003 entries, 0 to 3002\n",
      "Data columns (total 15 columns):\n",
      " #   Column                        Non-Null Count  Dtype   \n",
      "---  ------                        --------------  -----   \n",
      " 0   project_id_reported           3003 non-null   object  \n",
      " 1   site_id_reported              3003 non-null   object  \n",
      " 2   site_description_reported     1724 non-null   object  \n",
      " 3   site_status_reported          3001 non-null   object  \n",
      " 4   site_sqkm                     3003 non-null   float64 \n",
      " 5   trees_planted_reported        2988 non-null   object  \n",
      " 6   country                       3003 non-null   object  \n",
      " 7   project_description_reported  3003 non-null   object  \n",
      " 8   planting_date_reported        2533 non-null   float64 \n",
      " 9   survival_rate_reported        2300 non-null   object  \n",
      " 10  host_name                     3003 non-null   object  \n",
      " 11  url                           3003 non-null   object  \n",
      " 12  species_count_reported        0 non-null      object  \n",
      " 13  species_planted_reported      0 non-null      object  \n",
      " 14  geometry                      2998 non-null   geometry\n",
      "dtypes: float64(2), geometry(1), object(12)\n",
      "memory usage: 352.0+ KB\n"
     ]
    }
   ],
   "source": [
    "df_plant = gpd.read_file(\"../midsave/plant_for_planet.gpkg\")\n",
    "df_plant.info()"
   ]
  },
  {
   "cell_type": "markdown",
   "metadata": {},
   "source": [
    "#### Tree_Nation"
   ]
  },
  {
   "cell_type": "markdown",
   "metadata": {},
   "source": [
    "We extracted and filtered  the data from https://tree-nation.com/projects as described in the script 'Tree_Nation-meta_data_pre.ipynb'."
   ]
  },
  {
   "cell_type": "code",
   "execution_count": 326,
   "metadata": {},
   "outputs": [
    {
     "name": "stdout",
     "output_type": "stream",
     "text": [
      "<class 'geopandas.geodataframe.GeoDataFrame'>\n",
      "RangeIndex: 1238 entries, 0 to 1237\n",
      "Data columns (total 13 columns):\n",
      " #   Column                        Non-Null Count  Dtype   \n",
      "---  ------                        --------------  -----   \n",
      " 0   planting_date_reported        1238 non-null   int64   \n",
      " 1   project_description_reported  1238 non-null   object  \n",
      " 2   site_id_reported              1238 non-null   int64   \n",
      " 3   url                           1238 non-null   object  \n",
      " 4   project_id_reported           1238 non-null   int64   \n",
      " 5   trees_planted_reported        1238 non-null   int64   \n",
      " 6   site_sqkm                     1238 non-null   float64 \n",
      " 7   host_name                     1238 non-null   object  \n",
      " 8   species_count_reported        0 non-null      object  \n",
      " 9   species_planted_reported      0 non-null      object  \n",
      " 10  country                       0 non-null      object  \n",
      " 11  survival_rate_reported        0 non-null      object  \n",
      " 12  geometry                      1178 non-null   geometry\n",
      "dtypes: float64(1), geometry(1), int64(4), object(7)\n",
      "memory usage: 125.9+ KB\n"
     ]
    }
   ],
   "source": [
    "df_tn = gpd.read_file(\"../midsave/tree_nation.gpkg\")\n",
    "df_tn.info()"
   ]
  },
  {
   "cell_type": "markdown",
   "metadata": {},
   "source": [
    "#### Open_Forest_protocol"
   ]
  },
  {
   "cell_type": "markdown",
   "metadata": {},
   "source": [
    "We extracted and filtered  the data from https://atlas.openforestprotocol.org/  as described in the script  \"open_forest_projests_Data_filtering.ipynb\"."
   ]
  },
  {
   "cell_type": "code",
   "execution_count": 329,
   "metadata": {},
   "outputs": [
    {
     "name": "stdout",
     "output_type": "stream",
     "text": [
      "<class 'geopandas.geodataframe.GeoDataFrame'>\n",
      "RangeIndex: 112 entries, 0 to 111\n",
      "Data columns (total 13 columns):\n",
      " #   Column                        Non-Null Count  Dtype   \n",
      "---  ------                        --------------  -----   \n",
      " 0   project_id_reported           112 non-null    int64   \n",
      " 1   site_id_reported              112 non-null    int64   \n",
      " 2   project_description_reported  112 non-null    object  \n",
      " 3   site_sqkm                     112 non-null    float64 \n",
      " 4   country                       111 non-null    object  \n",
      " 5   host_name                     112 non-null    object  \n",
      " 6   url                           112 non-null    object  \n",
      " 7   species_count_reported        0 non-null      object  \n",
      " 8   species_planted_reported      0 non-null      object  \n",
      " 9   planting_date_reported        0 non-null      object  \n",
      " 10  survival_rate_reported        0 non-null      object  \n",
      " 11  trees_planted_reported        0 non-null      object  \n",
      " 12  geometry                      103 non-null    geometry\n",
      "dtypes: float64(1), geometry(1), int64(2), object(9)\n",
      "memory usage: 11.5+ KB\n"
     ]
    }
   ],
   "source": [
    "df_atlas = gpd.read_file(\"../midsave/atlas.gpkg\")\n",
    "df_atlas.info()"
   ]
  },
  {
   "cell_type": "markdown",
   "metadata": {},
   "source": [
    "#### Verra"
   ]
  },
  {
   "cell_type": "markdown",
   "metadata": {},
   "source": [
    "We extracted and filtered  the data from https://registry.verra.org  as described in the script  \"extracting_verra_sites.ipynb\"."
   ]
  },
  {
   "cell_type": "code",
   "execution_count": 332,
   "metadata": {},
   "outputs": [
    {
     "name": "stdout",
     "output_type": "stream",
     "text": [
      "<class 'geopandas.geodataframe.GeoDataFrame'>\n",
      "RangeIndex: 1225162 entries, 0 to 1225161\n",
      "Data columns (total 13 columns):\n",
      " #   Column                        Non-Null Count    Dtype   \n",
      "---  ------                        --------------    -----   \n",
      " 0   site_id_reported              1225162 non-null  int64   \n",
      " 1   project_id_reported           1225162 non-null  int64   \n",
      " 2   project_description_reported  1225162 non-null  object  \n",
      " 3   site_sqkm                     1225162 non-null  float64 \n",
      " 4   status_reported               1225162 non-null  object  \n",
      " 5   country                       0 non-null        object  \n",
      " 6   url                           1225162 non-null  object  \n",
      " 7   host_name                     1225162 non-null  object  \n",
      " 8   species_count_reported        0 non-null        object  \n",
      " 9   species_planted_reported      0 non-null        object  \n",
      " 10  survival_rate_reported        0 non-null        object  \n",
      " 11  planting_date_reported        0 non-null        object  \n",
      " 12  geometry                      1225159 non-null  geometry\n",
      "dtypes: float64(1), geometry(1), int64(2), object(9)\n",
      "memory usage: 121.5+ MB\n"
     ]
    }
   ],
   "source": [
    "df_verra = gpd.read_file(\"../midsave/verra.gpkg\")\n",
    "df_verra.info()"
   ]
  },
  {
   "cell_type": "markdown",
   "metadata": {},
   "source": [
    "#### Restor.eco"
   ]
  },
  {
   "cell_type": "markdown",
   "metadata": {},
   "source": [
    "We extracted and filtered  the data from  https://restor.eco/?lat=10.743821093825016&lng=4.473759981496621&zoom=4 as described in the script  \"restor.ipynb\"."
   ]
  },
  {
   "cell_type": "code",
   "execution_count": 335,
   "metadata": {},
   "outputs": [
    {
     "name": "stdout",
     "output_type": "stream",
     "text": [
      "<class 'geopandas.geodataframe.GeoDataFrame'>\n",
      "RangeIndex: 1741 entries, 0 to 1740\n",
      "Data columns (total 13 columns):\n",
      " #   Column                        Non-Null Count  Dtype   \n",
      "---  ------                        --------------  -----   \n",
      " 0   project_id_reported           1741 non-null   object  \n",
      " 1   project_description_reported  1741 non-null   object  \n",
      " 2   planting_date_reported        960 non-null    float64 \n",
      " 3   url                           1741 non-null   object  \n",
      " 4   site_sqkm                     1741 non-null   float64 \n",
      " 5   country                       1741 non-null   object  \n",
      " 6   site_id_reported              1741 non-null   object  \n",
      " 7   host_name                     1741 non-null   object  \n",
      " 8   species_count_reported        0 non-null      object  \n",
      " 9   species_planted_reported      0 non-null      object  \n",
      " 10  survival_rate_reported        0 non-null      object  \n",
      " 11  trees_planted_reported        0 non-null      object  \n",
      " 12  geometry                      1741 non-null   geometry\n",
      "dtypes: float64(2), geometry(1), object(10)\n",
      "memory usage: 176.9+ KB\n"
     ]
    }
   ],
   "source": [
    "df_restor = gpd.read_file(\"../midsave/restor_eco.gpkg\")\n",
    "df_restor.info()"
   ]
  },
  {
   "cell_type": "markdown",
   "metadata": {},
   "source": [
    "#### Explorer Data"
   ]
  },
  {
   "cell_type": "markdown",
   "metadata": {},
   "source": [
    "This data is extracted from the projects website https://explorer.land/x/projects as described in the script 'explorer_land.ipynb'. The column names were manually edited."
   ]
  },
  {
   "cell_type": "code",
   "execution_count": 338,
   "metadata": {},
   "outputs": [
    {
     "name": "stdout",
     "output_type": "stream",
     "text": [
      "<class 'geopandas.geodataframe.GeoDataFrame'>\n",
      "RangeIndex: 36 entries, 0 to 35\n",
      "Data columns (total 13 columns):\n",
      " #   Column                        Non-Null Count  Dtype   \n",
      "---  ------                        --------------  -----   \n",
      " 0   project_id_reported           0 non-null      object  \n",
      " 1   country                       0 non-null      object  \n",
      " 2   planting_date_reported        35 non-null     float64 \n",
      " 3   species_count_reported        0 non-null      object  \n",
      " 4   species_planted_reported      0 non-null      object  \n",
      " 5   survival_rate_reported        0 non-null      object  \n",
      " 6   site_sqkm                     36 non-null     float64 \n",
      " 7   trees_planted_reported        34 non-null     float64 \n",
      " 8   site_id_reported              36 non-null     object  \n",
      " 9   project_description_reported  36 non-null     object  \n",
      " 10  host_name                     36 non-null     object  \n",
      " 11  url                           36 non-null     object  \n",
      " 12  geometry                      36 non-null     geometry\n",
      "dtypes: float64(3), geometry(1), object(9)\n",
      "memory usage: 3.8+ KB\n"
     ]
    }
   ],
   "source": [
    "df_ex = gpd.read_file(\"../midsave/explorer_land.gpkg\")\n",
    "df_ex.info()"
   ]
  },
  {
   "cell_type": "markdown",
   "metadata": {},
   "source": [
    "#### Face the Future"
   ]
  },
  {
   "cell_type": "markdown",
   "metadata": {},
   "source": [
    "We extracted  the data from  https://facethefuture.com/#projects described in the script 'Face_Future_metadata_prepro.ipynb'."
   ]
  },
  {
   "cell_type": "code",
   "execution_count": 341,
   "metadata": {},
   "outputs": [
    {
     "name": "stdout",
     "output_type": "stream",
     "text": [
      "<class 'geopandas.geodataframe.GeoDataFrame'>\n",
      "RangeIndex: 566 entries, 0 to 565\n",
      "Data columns (total 14 columns):\n",
      " #   Column                        Non-Null Count  Dtype   \n",
      "---  ------                        --------------  -----   \n",
      " 0   project_id_reported           94 non-null     object  \n",
      " 1   site_id_reported              566 non-null    int64   \n",
      " 2   trees_planted_reported        94 non-null     float64 \n",
      " 3   site_sqkm                     566 non-null    float64 \n",
      " 4   planting_date_reported        94 non-null     float64 \n",
      " 5   project_description_reported  2 non-null      object  \n",
      " 6   Creator                       94 non-null     object  \n",
      " 7   host_name                     566 non-null    object  \n",
      " 8   url                           566 non-null    object  \n",
      " 9   species_count_reported        0 non-null      object  \n",
      " 10  country                       0 non-null      object  \n",
      " 11  species_planted_reported      0 non-null      object  \n",
      " 12  survival_rate_reported        0 non-null      object  \n",
      " 13  geometry                      566 non-null    geometry\n",
      "dtypes: float64(3), geometry(1), int64(1), object(9)\n",
      "memory usage: 62.0+ KB\n"
     ]
    }
   ],
   "source": [
    "df_ftf = gpd.read_file(\"../midsave/face_the_future.gpkg\")\n",
    "df_ftf.info()"
   ]
  },
  {
   "cell_type": "markdown",
   "metadata": {},
   "source": [
    "#### Climate Partner Impact\n",
    "We extracted the data as described in the script 'climate_partner_impact.ipynb'."
   ]
  },
  {
   "cell_type": "code",
   "execution_count": 343,
   "metadata": {},
   "outputs": [
    {
     "name": "stdout",
     "output_type": "stream",
     "text": [
      "<class 'geopandas.geodataframe.GeoDataFrame'>\n",
      "RangeIndex: 7 entries, 0 to 6\n",
      "Data columns (total 13 columns):\n",
      " #   Column                        Non-Null Count  Dtype   \n",
      "---  ------                        --------------  -----   \n",
      " 0   site_id_reported              0 non-null      object  \n",
      " 1   project_id_reported           7 non-null      object  \n",
      " 2   country                       0 non-null      object  \n",
      " 3   url                           7 non-null      object  \n",
      " 4   host_name                     7 non-null      object  \n",
      " 5   project_description_reported  0 non-null      object  \n",
      " 6   site_sqkm                     0 non-null      object  \n",
      " 7   species_count_reported        0 non-null      object  \n",
      " 8   species_planted_reported      0 non-null      object  \n",
      " 9   survival_rate_reported        0 non-null      object  \n",
      " 10  trees_planted_reported        0 non-null      object  \n",
      " 11  planting_date_reported        0 non-null      object  \n",
      " 12  geometry                      7 non-null      geometry\n",
      "dtypes: geometry(1), object(12)\n",
      "memory usage: 860.0+ bytes\n"
     ]
    }
   ],
   "source": [
    "df_cpi = gpd.read_file(\"../midsave/climate_partner_impact.gpkg\")\n",
    "df_cpi.info()"
   ]
  },
  {
   "cell_type": "markdown",
   "metadata": {},
   "source": [
    "#### Forest Trends\n",
    "We extracted the data as described in the script 'forest_trends.ipynb'."
   ]
  },
  {
   "cell_type": "code",
   "execution_count": 345,
   "metadata": {},
   "outputs": [
    {
     "name": "stdout",
     "output_type": "stream",
     "text": [
      "<class 'geopandas.geodataframe.GeoDataFrame'>\n",
      "RangeIndex: 4587 entries, 0 to 4586\n",
      "Data columns (total 13 columns):\n",
      " #   Column                        Non-Null Count  Dtype   \n",
      "---  ------                        --------------  -----   \n",
      " 0   project_id_reported           4587 non-null   object  \n",
      " 1   project_description_reported  4587 non-null   object  \n",
      " 2   country                       4587 non-null   object  \n",
      " 3   host_name                     4587 non-null   object  \n",
      " 4   url                           4587 non-null   object  \n",
      " 5   site_sqkm                     0 non-null      object  \n",
      " 6   species_count_reported        0 non-null      object  \n",
      " 7   species_planted_reported      0 non-null      object  \n",
      " 8   survival_rate_reported        0 non-null      object  \n",
      " 9   trees_planted_reported        0 non-null      object  \n",
      " 10  site_id_reported              0 non-null      object  \n",
      " 11  planting_date_reported        0 non-null      object  \n",
      " 12  geometry                      4587 non-null   geometry\n",
      "dtypes: geometry(1), object(12)\n",
      "memory usage: 466.0+ KB\n"
     ]
    }
   ],
   "source": [
    "df_ft = gpd.read_file(\"../midsave/forest_trends.gpkg\")\n",
    "df_ft.info()"
   ]
  },
  {
   "cell_type": "markdown",
   "metadata": {},
   "source": [
    "#### One Tree Planted\n",
    "We extracted the data as described in the script 'one_tree_planted.ipynb'."
   ]
  },
  {
   "cell_type": "code",
   "execution_count": 347,
   "metadata": {},
   "outputs": [
    {
     "name": "stdout",
     "output_type": "stream",
     "text": [
      "<class 'geopandas.geodataframe.GeoDataFrame'>\n",
      "RangeIndex: 695 entries, 0 to 694\n",
      "Data columns (total 13 columns):\n",
      " #   Column                        Non-Null Count  Dtype   \n",
      "---  ------                        --------------  -----   \n",
      " 0   project_id_reported           695 non-null    int64   \n",
      " 1   project_description_reported  0 non-null      object  \n",
      " 2   url                           695 non-null    object  \n",
      " 3   host_name                     695 non-null    object  \n",
      " 4   site_sqkm                     0 non-null      object  \n",
      " 5   species_count_reported        0 non-null      object  \n",
      " 6   species_planted_reported      0 non-null      object  \n",
      " 7   survival_rate_reported        0 non-null      object  \n",
      " 8   trees_planted_reported        0 non-null      object  \n",
      " 9   planting_date_reported        0 non-null      object  \n",
      " 10  country                       0 non-null      object  \n",
      " 11  site_id_reported              0 non-null      object  \n",
      " 12  geometry                      693 non-null    geometry\n",
      "dtypes: geometry(1), int64(1), object(11)\n",
      "memory usage: 70.7+ KB\n"
     ]
    }
   ],
   "source": [
    "df_otp = gpd.read_file(\"../midsave/one_tree_planted.gpkg\")\n",
    "df_otp.info()"
   ]
  },
  {
   "cell_type": "markdown",
   "metadata": {},
   "source": [
    "#### Reforestaction\n",
    "We extracted the data as described in the script 'reforestaction.ipynb'."
   ]
  },
  {
   "cell_type": "code",
   "execution_count": 349,
   "metadata": {},
   "outputs": [
    {
     "name": "stdout",
     "output_type": "stream",
     "text": [
      "<class 'geopandas.geodataframe.GeoDataFrame'>\n",
      "RangeIndex: 1100 entries, 0 to 1099\n",
      "Data columns (total 13 columns):\n",
      " #   Column                        Non-Null Count  Dtype   \n",
      "---  ------                        --------------  -----   \n",
      " 0   project_id_reported           1100 non-null   int64   \n",
      " 1   site_id_reported              1100 non-null   int64   \n",
      " 2   host_name                     1100 non-null   object  \n",
      " 3   url                           1100 non-null   object  \n",
      " 4   project_description_reported  0 non-null      object  \n",
      " 5   site_sqkm                     0 non-null      object  \n",
      " 6   species_count_reported        0 non-null      object  \n",
      " 7   species_planted_reported      0 non-null      object  \n",
      " 8   survival_rate_reported        0 non-null      object  \n",
      " 9   trees_planted_reported        0 non-null      object  \n",
      " 10  planting_date_reported        0 non-null      object  \n",
      " 11  country                       0 non-null      object  \n",
      " 12  geometry                      1100 non-null   geometry\n",
      "dtypes: geometry(1), int64(2), object(10)\n",
      "memory usage: 111.8+ KB\n"
     ]
    }
   ],
   "source": [
    "df_reforestaction = gpd.read_file(\"../midsave/reforestaction.gpkg\")\n",
    "df_reforestaction.info()"
   ]
  },
  {
   "cell_type": "markdown",
   "metadata": {},
   "source": [
    "#### Reforestum\n",
    "We extracted the data as described in the script 'reforestum.ipynb'."
   ]
  },
  {
   "cell_type": "code",
   "execution_count": 351,
   "metadata": {},
   "outputs": [
    {
     "name": "stdout",
     "output_type": "stream",
     "text": [
      "<class 'geopandas.geodataframe.GeoDataFrame'>\n",
      "RangeIndex: 3691 entries, 0 to 3690\n",
      "Data columns (total 13 columns):\n",
      " #   Column                        Non-Null Count  Dtype   \n",
      "---  ------                        --------------  -----   \n",
      " 0   project_id_reported           3691 non-null   object  \n",
      " 1   project_description_reported  2082 non-null   object  \n",
      " 2   country                       0 non-null      object  \n",
      " 3   site_sqkm                     0 non-null      object  \n",
      " 4   url                           3691 non-null   object  \n",
      " 5   host_name                     3691 non-null   object  \n",
      " 6   species_count_reported        0 non-null      object  \n",
      " 7   species_planted_reported      0 non-null      object  \n",
      " 8   survival_rate_reported        0 non-null      object  \n",
      " 9   trees_planted_reported        0 non-null      object  \n",
      " 10  planting_date_reported        0 non-null      object  \n",
      " 11  site_id_reported              0 non-null      object  \n",
      " 12  geometry                      3691 non-null   geometry\n",
      "dtypes: geometry(1), object(12)\n",
      "memory usage: 375.0+ KB\n"
     ]
    }
   ],
   "source": [
    "df_reforestum = gpd.read_file(\"../midsave/reforestum.gpkg\")\n",
    "df_reforestum.info()"
   ]
  },
  {
   "cell_type": "markdown",
   "metadata": {},
   "source": [
    "#### Trees.org\n",
    "We extracted the data as described in the script 'trees_org.ipynb'."
   ]
  },
  {
   "cell_type": "code",
   "execution_count": 353,
   "metadata": {},
   "outputs": [
    {
     "name": "stdout",
     "output_type": "stream",
     "text": [
      "<class 'geopandas.geodataframe.GeoDataFrame'>\n",
      "RangeIndex: 86 entries, 0 to 85\n",
      "Data columns (total 13 columns):\n",
      " #   Column                        Non-Null Count  Dtype   \n",
      "---  ------                        --------------  -----   \n",
      " 0   project_id_reported           86 non-null     int64   \n",
      " 1   project_description_reported  86 non-null     object  \n",
      " 2   country                       86 non-null     object  \n",
      " 3   planting_date_reported        86 non-null     int64   \n",
      " 4   url                           86 non-null     object  \n",
      " 5   host_name                     86 non-null     object  \n",
      " 6   site_sqkm                     0 non-null      object  \n",
      " 7   species_count_reported        0 non-null      object  \n",
      " 8   species_planted_reported      0 non-null      object  \n",
      " 9   survival_rate_reported        0 non-null      object  \n",
      " 10  trees_planted_reported        0 non-null      object  \n",
      " 11  site_id_reported              0 non-null      object  \n",
      " 12  geometry                      86 non-null     geometry\n",
      "dtypes: geometry(1), int64(2), object(10)\n",
      "memory usage: 8.9+ KB\n"
     ]
    }
   ],
   "source": [
    "df_to = gpd.read_file(\"../midsave/trees_org.gpkg\")\n",
    "df_to.info()"
   ]
  },
  {
   "cell_type": "markdown",
   "metadata": {},
   "source": [
    "#### Veritree\n",
    "We extracted the data as described in the script 'verritree.ipynb'."
   ]
  },
  {
   "cell_type": "code",
   "execution_count": 355,
   "metadata": {},
   "outputs": [
    {
     "name": "stdout",
     "output_type": "stream",
     "text": [
      "<class 'geopandas.geodataframe.GeoDataFrame'>\n",
      "RangeIndex: 122 entries, 0 to 121\n",
      "Data columns (total 13 columns):\n",
      " #   Column                        Non-Null Count  Dtype   \n",
      "---  ------                        --------------  -----   \n",
      " 0   site_id_reported              122 non-null    int64   \n",
      " 1   project_id_reported           122 non-null    int64   \n",
      " 2   project_description_reported  122 non-null    object  \n",
      " 3   country                       122 non-null    object  \n",
      " 4   survival_rate_reported        122 non-null    int64   \n",
      " 5   species_planted_reported      122 non-null    object  \n",
      " 6   host_name                     122 non-null    object  \n",
      " 7   url                           122 non-null    object  \n",
      " 8   site_sqkm                     122 non-null    float64 \n",
      " 9   species_count_reported        0 non-null      object  \n",
      " 10  trees_planted_reported        0 non-null      object  \n",
      " 11  planting_date_reported        0 non-null      object  \n",
      " 12  geometry                      122 non-null    geometry\n",
      "dtypes: float64(1), geometry(1), int64(3), object(8)\n",
      "memory usage: 12.5+ KB\n"
     ]
    }
   ],
   "source": [
    "df_vt = gpd.read_file(\"../midsave/veritree.gpkg\")\n",
    "df_vt.info()"
   ]
  },
  {
   "cell_type": "markdown",
   "metadata": {},
   "source": [
    "#### Zero CO2\n",
    "We extracted the data as described in the script 'zero_co2.ipynb'."
   ]
  },
  {
   "cell_type": "code",
   "execution_count": 357,
   "metadata": {},
   "outputs": [
    {
     "name": "stdout",
     "output_type": "stream",
     "text": [
      "<class 'geopandas.geodataframe.GeoDataFrame'>\n",
      "RangeIndex: 7 entries, 0 to 6\n",
      "Data columns (total 13 columns):\n",
      " #   Column                        Non-Null Count  Dtype   \n",
      "---  ------                        --------------  -----   \n",
      " 0   project_id_reported           7 non-null      object  \n",
      " 1   site_id_reported              7 non-null      object  \n",
      " 2   project_description_reported  7 non-null      object  \n",
      " 3   country                       0 non-null      object  \n",
      " 4   planting_date_reported        7 non-null      int64   \n",
      " 5   url                           7 non-null      object  \n",
      " 6   host_name                     7 non-null      object  \n",
      " 7   site_sqkm                     0 non-null      object  \n",
      " 8   species_count_reported        0 non-null      object  \n",
      " 9   species_planted_reported      0 non-null      object  \n",
      " 10  survival_rate_reported        0 non-null      object  \n",
      " 11  trees_planted_reported        0 non-null      object  \n",
      " 12  geometry                      7 non-null      geometry\n",
      "dtypes: geometry(1), int64(1), object(11)\n",
      "memory usage: 860.0+ bytes\n"
     ]
    }
   ],
   "source": [
    "df_zc = gpd.read_file(\"../midsave/zero_co2.gpkg\")\n",
    "df_zc.info()"
   ]
  },
  {
   "cell_type": "markdown",
   "metadata": {},
   "source": [
    "### Combining the datasets"
   ]
  },
  {
   "cell_type": "code",
   "execution_count": 359,
   "metadata": {
    "scrolled": true
   },
   "outputs": [
    {
     "name": "stderr",
     "output_type": "stream",
     "text": [
      "/var/folders/v1/8m0dj6yd3zj5r8h7x71z_c280000gn/T/ipykernel_30190/3790998410.py:1: FutureWarning: The behavior of DataFrame concatenation with empty or all-NA entries is deprecated. In a future version, this will no longer exclude empty or all-NA columns when determining the result dtypes. To retain the old behavior, exclude the relevant entries before the concat operation.\n",
      "  gdf = pd.concat([df_plant,df_tn,df_verra,df_atlas,df_restor,df_ftf,df_ex, df_cpi, df_ft, df_otp, df_reforestaction, df_reforestum, df_to, df_vt, df_zc]\n"
     ]
    },
    {
     "name": "stdout",
     "output_type": "stream",
     "text": [
      "<class 'geopandas.geodataframe.GeoDataFrame'>\n",
      "RangeIndex: 1242153 entries, 0 to 1242152\n",
      "Data columns (total 15 columns):\n",
      " #   Column                        Non-Null Count    Dtype   \n",
      "---  ------                        --------------    -----   \n",
      " 0   project_id_reported           1241645 non-null  object  \n",
      " 1   site_id_reported              1233087 non-null  object  \n",
      " 2   site_description_reported     1724 non-null     object  \n",
      " 3   site_sqkm                     1231980 non-null  float64 \n",
      " 4   trees_planted_reported        4354 non-null     object  \n",
      " 5   country                       9650 non-null     object  \n",
      " 6   project_description_reported  1238178 non-null  object  \n",
      " 7   planting_date_reported        4953 non-null     float64 \n",
      " 8   survival_rate_reported        2422 non-null     object  \n",
      " 9   host_name                     1242153 non-null  object  \n",
      " 10  url                           1242153 non-null  object  \n",
      " 11  species_count_reported        0 non-null        object  \n",
      " 12  species_planted_reported      122 non-null      object  \n",
      " 13  geometry                      1242074 non-null  geometry\n",
      " 14  Creator                       94 non-null       object  \n",
      "dtypes: float64(2), geometry(1), object(12)\n",
      "memory usage: 142.2+ MB\n"
     ]
    }
   ],
   "source": [
    "gdf = pd.concat([df_plant,df_tn,df_verra,df_atlas,df_restor,df_ftf,df_ex, df_cpi, df_ft, df_otp, df_reforestaction, df_reforestum, df_to, df_vt, df_zc]\n",
    "                , ignore_index = True).drop(columns = ['site_status_reported', 'status_reported'])\n",
    "gdf.info()"
   ]
  },
  {
   "cell_type": "markdown",
   "metadata": {},
   "source": [
    "### Data cleanup"
   ]
  },
  {
   "cell_type": "markdown",
   "metadata": {},
   "source": [
    "Filter polygons with 0 < site_sqkm < 10000"
   ]
  },
  {
   "cell_type": "code",
   "execution_count": 362,
   "metadata": {},
   "outputs": [
    {
     "name": "stdout",
     "output_type": "stream",
     "text": [
      "<class 'geopandas.geodataframe.GeoDataFrame'>\n",
      "RangeIndex: 1231704 entries, 0 to 1231703\n",
      "Data columns (total 15 columns):\n",
      " #   Column                        Non-Null Count    Dtype   \n",
      "---  ------                        --------------    -----   \n",
      " 0   project_id_reported           1231196 non-null  object  \n",
      " 1   site_id_reported              1231704 non-null  object  \n",
      " 2   site_description_reported     1723 non-null     object  \n",
      " 3   site_sqkm                     1231704 non-null  float64 \n",
      " 4   trees_planted_reported        4350 non-null     object  \n",
      " 5   country                       4942 non-null     object  \n",
      " 6   project_description_reported  1231140 non-null  object  \n",
      " 7   planting_date_reported        4834 non-null     float64 \n",
      " 8   survival_rate_reported        2417 non-null     object  \n",
      " 9   host_name                     1231704 non-null  object  \n",
      " 10  url                           1231704 non-null  object  \n",
      " 11  species_count_reported        0 non-null        object  \n",
      " 12  species_planted_reported      118 non-null      object  \n",
      " 13  geometry                      1231627 non-null  geometry\n",
      " 14  Creator                       94 non-null       object  \n",
      "dtypes: float64(2), geometry(1), object(12)\n",
      "memory usage: 141.0+ MB\n"
     ]
    }
   ],
   "source": [
    "gdf_filtered = gdf[gdf['site_sqkm'] < 10000].copy().reset_index(drop = True)\n",
    "gdf_filtered.info()"
   ]
  },
  {
   "cell_type": "markdown",
   "metadata": {},
   "source": [
    "Drop duplicate geographies"
   ]
  },
  {
   "cell_type": "code",
   "execution_count": 364,
   "metadata": {},
   "outputs": [
    {
     "name": "stdout",
     "output_type": "stream",
     "text": [
      "<class 'geopandas.geodataframe.GeoDataFrame'>\n",
      "Index: 1072466 entries, 0 to 1231702\n",
      "Data columns (total 15 columns):\n",
      " #   Column                        Non-Null Count    Dtype   \n",
      "---  ------                        --------------    -----   \n",
      " 0   project_id_reported           1071960 non-null  object  \n",
      " 1   site_id_reported              1072466 non-null  object  \n",
      " 2   site_description_reported     1682 non-null     object  \n",
      " 3   site_sqkm                     1072466 non-null  float64 \n",
      " 4   trees_planted_reported        4239 non-null     object  \n",
      " 5   country                       4880 non-null     object  \n",
      " 6   project_description_reported  1071904 non-null  object  \n",
      " 7   planting_date_reported        4733 non-null     float64 \n",
      " 8   survival_rate_reported        2374 non-null     object  \n",
      " 9   host_name                     1072466 non-null  object  \n",
      " 10  url                           1072466 non-null  object  \n",
      " 11  species_count_reported        0 non-null        object  \n",
      " 12  species_planted_reported      116 non-null      object  \n",
      " 13  geometry                      1072465 non-null  geometry\n",
      " 14  Creator                       94 non-null       object  \n",
      "dtypes: float64(2), geometry(1), object(12)\n",
      "memory usage: 130.9+ MB\n"
     ]
    }
   ],
   "source": [
    "gdf_filtered.drop_duplicates('geometry', inplace = True)\n",
    "gdf_filtered.info()"
   ]
  },
  {
   "cell_type": "markdown",
   "metadata": {},
   "source": [
    "Clean up country names"
   ]
  },
  {
   "cell_type": "code",
   "execution_count": 366,
   "metadata": {},
   "outputs": [
    {
     "data": {
      "text/plain": [
       "array(['BR', 'GH', 'VN', 'CO', 'UG', 'MZ', 'US', 'MW', 'ES', 'AE', 'KE',\n",
       "       'MG', 'GB', 'MX', 'NP', 'ET', 'PH', 'BO', 'NA', 'IN', 'AR', 'HN',\n",
       "       'EG', 'CA', 'TZ', 'IR', 'ID', 'UA', 'TH', 'AU', 'AM', 'IE', 'BD',\n",
       "       'CL', 'NG', 'CI', 'JO', 'CD', 'CM', 'EC', 'CR', 'DE', 'GT', 'TW',\n",
       "       'BE', 'ZA', 'HT', 'CZ', 'NI', 'PA', 'FR', 'BI', 'IT', 'SL', 'PE',\n",
       "       'DK', 'ZM', 'TG', 'MN', 'ZW', 'NO', None, 'us', 'in', 'gt', 'ch',\n",
       "       'gb', 'tz', 'pt', 'lt', 'co', 'cr', 'ke', 'cg', 'mx', 'au', 'th',\n",
       "       'it', 'de', 'pe', 'ni', 'KM', 'RW', 'Madagascar', 'Mozambique',\n",
       "       'Nepal', 'Kenya', 'Canada', 'Indonesia', 'Senegal',\n",
       "       'United States', 'Rwanda', 'Tanzania', 'Peru', 'Ethiopia', 'Haiti',\n",
       "       'Mexico', 'Brazil', 'India', 'Uganda', 'Malawi', 'Cambodia',\n",
       "       'China', 'Japan', 'Philippines', 'Honduras'], dtype=object)"
      ]
     },
     "execution_count": 366,
     "metadata": {},
     "output_type": "execute_result"
    }
   ],
   "source": [
    "gdf_filtered.country.unique()"
   ]
  },
  {
   "cell_type": "code",
   "execution_count": 367,
   "metadata": {},
   "outputs": [],
   "source": [
    "country_to_iso2 = {}\n",
    "\n",
    "for country in pycountry.countries:\n",
    "    country_to_iso2[country.alpha_2.lower()] = country.alpha_2.lower()\n",
    "    country_to_iso2[country.name.lower()] = country.alpha_2.lower()\n",
    "\n",
    "gdf_filtered['country'] = gdf_filtered['country'].apply(lambda country: country_to_iso2.get(country.lower(), None) if pd.notna(country) else None)"
   ]
  },
  {
   "cell_type": "markdown",
   "metadata": {},
   "source": [
    "Create unique site and project ids"
   ]
  },
  {
   "cell_type": "code",
   "execution_count": 369,
   "metadata": {},
   "outputs": [],
   "source": [
    "gdf_filtered['project_id_created'] = pd.factorize(gdf_filtered['project_id_reported'].astype(str) + '-' + gdf_filtered['host_name'].astype(str))[0]"
   ]
  },
  {
   "cell_type": "code",
   "execution_count": 370,
   "metadata": {},
   "outputs": [],
   "source": [
    "gdf_filtered.reset_index(names = 'site_id_created', inplace = True)"
   ]
  },
  {
   "cell_type": "code",
   "execution_count": 371,
   "metadata": {},
   "outputs": [
    {
     "data": {
      "text/html": [
       "<div>\n",
       "<style scoped>\n",
       "    .dataframe tbody tr th:only-of-type {\n",
       "        vertical-align: middle;\n",
       "    }\n",
       "\n",
       "    .dataframe tbody tr th {\n",
       "        vertical-align: top;\n",
       "    }\n",
       "\n",
       "    .dataframe thead th {\n",
       "        text-align: right;\n",
       "    }\n",
       "</style>\n",
       "<table border=\"1\" class=\"dataframe\">\n",
       "  <thead>\n",
       "    <tr style=\"text-align: right;\">\n",
       "      <th></th>\n",
       "      <th>site_id_created</th>\n",
       "      <th>project_id_reported</th>\n",
       "      <th>site_id_reported</th>\n",
       "      <th>site_description_reported</th>\n",
       "      <th>site_sqkm</th>\n",
       "      <th>trees_planted_reported</th>\n",
       "      <th>country</th>\n",
       "      <th>project_description_reported</th>\n",
       "      <th>planting_date_reported</th>\n",
       "      <th>survival_rate_reported</th>\n",
       "      <th>host_name</th>\n",
       "      <th>url</th>\n",
       "      <th>species_count_reported</th>\n",
       "      <th>species_planted_reported</th>\n",
       "      <th>geometry</th>\n",
       "      <th>Creator</th>\n",
       "      <th>project_id_created</th>\n",
       "    </tr>\n",
       "  </thead>\n",
       "  <tbody>\n",
       "    <tr>\n",
       "      <th>0</th>\n",
       "      <td>0</td>\n",
       "      <td>proj_ezpAp1POh20dBnYpx0BjhU35</td>\n",
       "      <td>site_W97pqKxXURFOA1E</td>\n",
       "      <td>Farm for the Future demonstration plot</td>\n",
       "      <td>0.013591</td>\n",
       "      <td>313</td>\n",
       "      <td>br</td>\n",
       "      <td>This project will be implemented at Farm of th...</td>\n",
       "      <td>NaN</td>\n",
       "      <td>80</td>\n",
       "      <td>Planet for the Planet</td>\n",
       "      <td>https://www.plant-for-the-planet.org/</td>\n",
       "      <td>None</td>\n",
       "      <td>None</td>\n",
       "      <td>POLYGON ((-49.95883 -9.35107, -49.95976 -9.351...</td>\n",
       "      <td>NaN</td>\n",
       "      <td>0</td>\n",
       "    </tr>\n",
       "    <tr>\n",
       "      <th>1</th>\n",
       "      <td>1</td>\n",
       "      <td>proj_ZCspL8JYmUu0OXcx6O73I1j0</td>\n",
       "      <td>site_NekKEGqkIO4rZ5C</td>\n",
       "      <td>The area to be reforested is around the Tinguá...</td>\n",
       "      <td>0.631388</td>\n",
       "      <td>3418</td>\n",
       "      <td>br</td>\n",
       "      <td>ITPA was born in 1998, from the initiative of ...</td>\n",
       "      <td>2012.0</td>\n",
       "      <td>90</td>\n",
       "      <td>Planet for the Planet</td>\n",
       "      <td>https://www.plant-for-the-planet.org/</td>\n",
       "      <td>None</td>\n",
       "      <td>None</td>\n",
       "      <td>POLYGON ((-43.47250 -22.48945, -43.47237 -22.4...</td>\n",
       "      <td>NaN</td>\n",
       "      <td>1</td>\n",
       "    </tr>\n",
       "    <tr>\n",
       "      <th>2</th>\n",
       "      <td>2</td>\n",
       "      <td>proj_ZCspL8JYmUu0OXcx6O73I1j0</td>\n",
       "      <td>site_Wl3hF91IBkei1Xy</td>\n",
       "      <td>The area to be reforested is around the Tinguá...</td>\n",
       "      <td>3.076566</td>\n",
       "      <td>3418</td>\n",
       "      <td>br</td>\n",
       "      <td>ITPA was born in 1998, from the initiative of ...</td>\n",
       "      <td>2012.0</td>\n",
       "      <td>90</td>\n",
       "      <td>Planet for the Planet</td>\n",
       "      <td>https://www.plant-for-the-planet.org/</td>\n",
       "      <td>None</td>\n",
       "      <td>None</td>\n",
       "      <td>POLYGON ((-43.46200 -22.47790, -43.46583 -22.4...</td>\n",
       "      <td>NaN</td>\n",
       "      <td>1</td>\n",
       "    </tr>\n",
       "  </tbody>\n",
       "</table>\n",
       "</div>"
      ],
      "text/plain": [
       "   site_id_created            project_id_reported      site_id_reported  \\\n",
       "0                0  proj_ezpAp1POh20dBnYpx0BjhU35  site_W97pqKxXURFOA1E   \n",
       "1                1  proj_ZCspL8JYmUu0OXcx6O73I1j0  site_NekKEGqkIO4rZ5C   \n",
       "2                2  proj_ZCspL8JYmUu0OXcx6O73I1j0  site_Wl3hF91IBkei1Xy   \n",
       "\n",
       "                           site_description_reported  site_sqkm  \\\n",
       "0             Farm for the Future demonstration plot   0.013591   \n",
       "1  The area to be reforested is around the Tinguá...   0.631388   \n",
       "2  The area to be reforested is around the Tinguá...   3.076566   \n",
       "\n",
       "  trees_planted_reported country  \\\n",
       "0                    313      br   \n",
       "1                   3418      br   \n",
       "2                   3418      br   \n",
       "\n",
       "                        project_description_reported  planting_date_reported  \\\n",
       "0  This project will be implemented at Farm of th...                     NaN   \n",
       "1  ITPA was born in 1998, from the initiative of ...                  2012.0   \n",
       "2  ITPA was born in 1998, from the initiative of ...                  2012.0   \n",
       "\n",
       "  survival_rate_reported              host_name  \\\n",
       "0                     80  Planet for the Planet   \n",
       "1                     90  Planet for the Planet   \n",
       "2                     90  Planet for the Planet   \n",
       "\n",
       "                                     url species_count_reported  \\\n",
       "0  https://www.plant-for-the-planet.org/                   None   \n",
       "1  https://www.plant-for-the-planet.org/                   None   \n",
       "2  https://www.plant-for-the-planet.org/                   None   \n",
       "\n",
       "  species_planted_reported                                           geometry  \\\n",
       "0                     None  POLYGON ((-49.95883 -9.35107, -49.95976 -9.351...   \n",
       "1                     None  POLYGON ((-43.47250 -22.48945, -43.47237 -22.4...   \n",
       "2                     None  POLYGON ((-43.46200 -22.47790, -43.46583 -22.4...   \n",
       "\n",
       "  Creator  project_id_created  \n",
       "0     NaN                   0  \n",
       "1     NaN                   1  \n",
       "2     NaN                   1  "
      ]
     },
     "execution_count": 371,
     "metadata": {},
     "output_type": "execute_result"
    }
   ],
   "source": [
    "gdf_filtered.head(3)"
   ]
  },
  {
   "cell_type": "code",
   "execution_count": null,
   "metadata": {},
   "outputs": [],
   "source": [
    "gdf_filtered.to_file(\"../midsave/consolidated_reforestation_projects.geojson\", driver=\"GeoJSON\")"
   ]
  }
 ],
 "metadata": {
  "kernelspec": {
   "display_name": "Python 3 (ipykernel)",
   "language": "python",
   "name": "python3"
  },
  "language_info": {
   "codemirror_mode": {
    "name": "ipython",
    "version": 3
   },
   "file_extension": ".py",
   "mimetype": "text/x-python",
   "name": "python",
   "nbconvert_exporter": "python",
   "pygments_lexer": "ipython3",
   "version": "3.12.4"
  },
  "varInspector": {
   "cols": {
    "lenName": 16,
    "lenType": 16,
    "lenVar": 40
   },
   "kernels_config": {
    "python": {
     "delete_cmd_postfix": "",
     "delete_cmd_prefix": "del ",
     "library": "var_list.py",
     "varRefreshCmd": "print(var_dic_list())"
    },
    "r": {
     "delete_cmd_postfix": ") ",
     "delete_cmd_prefix": "rm(",
     "library": "var_list.r",
     "varRefreshCmd": "cat(var_dic_list()) "
    }
   },
   "types_to_exclude": [
    "module",
    "function",
    "builtin_function_or_method",
    "instance",
    "_Feature"
   ],
   "window_display": false
  }
 },
 "nbformat": 4,
 "nbformat_minor": 4
}
