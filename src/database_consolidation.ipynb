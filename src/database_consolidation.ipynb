{
 "cells": [
  {
   "cell_type": "markdown",
   "metadata": {},
   "source": [
    "# Consolidating and preprocessing source data"
   ]
  },
  {
   "cell_type": "markdown",
   "metadata": {},
   "source": [
    "In this script, we combine all the sites from the different reforestation projects from different organization to one dataset and do some initial filtering."
   ]
  },
  {
   "cell_type": "code",
   "execution_count": 1,
   "metadata": {},
   "outputs": [],
   "source": [
    "import geopandas as gpd\n",
    "import pandas as pd\n",
    "import numpy as np\n",
    "import pycountry\n",
    "from shapely import wkt\n",
    "from shapely.geometry import MultiPolygon, Polygon\n",
    "import geopandas as gpd"
   ]
  },
  {
   "cell_type": "markdown",
   "metadata": {},
   "source": [
    "### Importing provider data"
   ]
  },
  {
   "cell_type": "markdown",
   "metadata": {},
   "source": [
    "#### Plant_planet_data"
   ]
  },
  {
   "cell_type": "markdown",
   "metadata": {},
   "source": [
    "\n",
    "We extracted the data from https://www.plant-for-the-planet.org as described in the script 'Plant_Planet_Meta_Data_preprocessing.ipynb'."
   ]
  },
  {
   "cell_type": "code",
   "execution_count": 2,
   "metadata": {},
   "outputs": [
    {
     "name": "stdout",
     "output_type": "stream",
     "text": [
      "<class 'geopandas.geodataframe.GeoDataFrame'>\n",
      "RangeIndex: 3382 entries, 0 to 3381\n",
      "Data columns (total 17 columns):\n",
      " #   Column                        Non-Null Count  Dtype   \n",
      "---  ------                        --------------  -----   \n",
      " 0   project_id_reported           3382 non-null   object  \n",
      " 1   site_id_reported              3382 non-null   object  \n",
      " 2   site_description_reported     1972 non-null   object  \n",
      " 3   site_status_reported          3380 non-null   object  \n",
      " 4   site_sqkm                     3382 non-null   float64 \n",
      " 5   trees_planted_reported        3367 non-null   object  \n",
      " 6   country                       3382 non-null   object  \n",
      " 7   project_description_reported  3382 non-null   object  \n",
      " 8   planting_date_reported        2889 non-null   float64 \n",
      " 9   survival_rate_reported        2445 non-null   object  \n",
      " 10  host_name                     3382 non-null   object  \n",
      " 11  url                           3382 non-null   object  \n",
      " 12  species_count_reported        0 non-null      object  \n",
      " 13  species_planted_reported      0 non-null      object  \n",
      " 14  planting_date_type            3382 non-null   object  \n",
      " 15  project_geometries_invalid    3382 non-null   bool    \n",
      " 16  geometry                      3378 non-null   geometry\n",
      "dtypes: bool(1), float64(2), geometry(1), object(13)\n",
      "memory usage: 426.2+ KB\n"
     ]
    }
   ],
   "source": [
    "df_plant = gpd.read_file(\"../midsave/plant_for_planet.gpkg\")\n",
    "df_plant.info()"
   ]
  },
  {
   "cell_type": "markdown",
   "metadata": {},
   "source": [
    "#### Tree_Nation"
   ]
  },
  {
   "cell_type": "markdown",
   "metadata": {},
   "source": [
    "We extracted and filtered  the data from https://tree-nation.com/projects as described in the script 'Tree_Nation-meta_data_pre.ipynb'."
   ]
  },
  {
   "cell_type": "code",
   "execution_count": 3,
   "metadata": {},
   "outputs": [
    {
     "name": "stdout",
     "output_type": "stream",
     "text": [
      "<class 'geopandas.geodataframe.GeoDataFrame'>\n",
      "RangeIndex: 1273 entries, 0 to 1272\n",
      "Data columns (total 14 columns):\n",
      " #   Column                        Non-Null Count  Dtype   \n",
      "---  ------                        --------------  -----   \n",
      " 0   planting_date_reported        1273 non-null   int64   \n",
      " 1   project_description_reported  1273 non-null   object  \n",
      " 2   site_id_reported              1273 non-null   int64   \n",
      " 3   url                           1273 non-null   object  \n",
      " 4   project_id_reported           1273 non-null   int64   \n",
      " 5   site_sqkm                     1273 non-null   float64 \n",
      " 6   planting_date_type            1273 non-null   object  \n",
      " 7   host_name                     1273 non-null   object  \n",
      " 8   species_count_reported        0 non-null      object  \n",
      " 9   species_planted_reported      0 non-null      object  \n",
      " 10  country                       0 non-null      object  \n",
      " 11  survival_rate_reported        0 non-null      object  \n",
      " 12  project_geometries_invalid    1273 non-null   bool    \n",
      " 13  geometry                      1218 non-null   geometry\n",
      "dtypes: bool(1), float64(1), geometry(1), int64(3), object(8)\n",
      "memory usage: 130.7+ KB\n"
     ]
    }
   ],
   "source": [
    "df_tn = gpd.read_file(\"../midsave/tree_nation.gpkg\")\n",
    "df_tn.info()"
   ]
  },
  {
   "cell_type": "markdown",
   "metadata": {},
   "source": [
    "#### Open_Forest_protocol"
   ]
  },
  {
   "cell_type": "markdown",
   "metadata": {},
   "source": [
    "We extracted and filtered  the data from https://atlas.openforestprotocol.org/  as described in the script  \"open_forest_projests_Data_filtering.ipynb\"."
   ]
  },
  {
   "cell_type": "code",
   "execution_count": 4,
   "metadata": {},
   "outputs": [
    {
     "name": "stdout",
     "output_type": "stream",
     "text": [
      "<class 'geopandas.geodataframe.GeoDataFrame'>\n",
      "RangeIndex: 268 entries, 0 to 267\n",
      "Data columns (total 14 columns):\n",
      " #   Column                        Non-Null Count  Dtype   \n",
      "---  ------                        --------------  -----   \n",
      " 0   project_id_reported           268 non-null    object  \n",
      " 1   site_id_reported              268 non-null    object  \n",
      " 2   project_description_reported  268 non-null    object  \n",
      " 3   site_sqkm                     268 non-null    float64 \n",
      " 4   country                       267 non-null    object  \n",
      " 5   host_name                     268 non-null    object  \n",
      " 6   url                           268 non-null    object  \n",
      " 7   species_count_reported        0 non-null      object  \n",
      " 8   species_planted_reported      0 non-null      object  \n",
      " 9   planting_date_reported        0 non-null      object  \n",
      " 10  survival_rate_reported        0 non-null      object  \n",
      " 11  trees_planted_reported        0 non-null      object  \n",
      " 12  project_geometries_invalid    268 non-null    bool    \n",
      " 13  geometry                      268 non-null    geometry\n",
      "dtypes: bool(1), float64(1), geometry(1), object(11)\n",
      "memory usage: 27.6+ KB\n"
     ]
    }
   ],
   "source": [
    "df_atlas = gpd.read_file(\"../midsave/atlas.gpkg\")\n",
    "df_atlas.info()"
   ]
  },
  {
   "cell_type": "markdown",
   "metadata": {},
   "source": [
    "#### Verra"
   ]
  },
  {
   "cell_type": "markdown",
   "metadata": {},
   "source": [
    "We extracted and filtered  the data from https://registry.verra.org  as described in the script  \"extracting_verra_sites.ipynb\"."
   ]
  },
  {
   "cell_type": "code",
   "execution_count": 5,
   "metadata": {},
   "outputs": [
    {
     "name": "stdout",
     "output_type": "stream",
     "text": [
      "<class 'geopandas.geodataframe.GeoDataFrame'>\n",
      "RangeIndex: 1225162 entries, 0 to 1225161\n",
      "Data columns (total 15 columns):\n",
      " #   Column                        Non-Null Count    Dtype   \n",
      "---  ------                        --------------    -----   \n",
      " 0   site_id_reported              1225162 non-null  int64   \n",
      " 1   project_id_reported           1225162 non-null  int64   \n",
      " 2   project_description_reported  1225162 non-null  object  \n",
      " 3   site_sqkm                     1225162 non-null  float64 \n",
      " 4   status_reported               1225162 non-null  object  \n",
      " 5   country                       0 non-null        object  \n",
      " 6   url                           1225162 non-null  object  \n",
      " 7   host_name                     1225162 non-null  object  \n",
      " 8   species_count_reported        0 non-null        object  \n",
      " 9   species_planted_reported      0 non-null        object  \n",
      " 10  survival_rate_reported        0 non-null        object  \n",
      " 11  geometry                      1225159 non-null  geometry\n",
      " 12  planting_date_reported        1191464 non-null  float64 \n",
      " 13  project_geometries_invalid    1225162 non-null  bool    \n",
      " 14  planting_date_type            1225162 non-null  object  \n",
      "dtypes: bool(1), float64(2), geometry(1), int64(2), object(9)\n",
      "memory usage: 132.0+ MB\n"
     ]
    }
   ],
   "source": [
    "df_verra = gpd.read_parquet(\"../midsave/verra.parquet\")\n",
    "df_verra.info()"
   ]
  },
  {
   "cell_type": "code",
   "execution_count": 6,
   "metadata": {},
   "outputs": [
    {
     "name": "stdout",
     "output_type": "stream",
     "text": [
      "<class 'geopandas.geodataframe.GeoDataFrame'>\n",
      "RangeIndex: 1225162 entries, 0 to 1225161\n",
      "Data columns (total 15 columns):\n",
      " #   Column                        Non-Null Count    Dtype   \n",
      "---  ------                        --------------    -----   \n",
      " 0   site_id_reported              1225162 non-null  int64   \n",
      " 1   project_id_reported           1225162 non-null  int64   \n",
      " 2   project_description_reported  1225162 non-null  object  \n",
      " 3   site_sqkm                     1225162 non-null  float64 \n",
      " 4   status_reported               1225162 non-null  object  \n",
      " 5   country                       0 non-null        object  \n",
      " 6   url                           1225162 non-null  object  \n",
      " 7   host_name                     1225162 non-null  object  \n",
      " 8   species_count_reported        0 non-null        object  \n",
      " 9   species_planted_reported      0 non-null        object  \n",
      " 10  survival_rate_reported        0 non-null        object  \n",
      " 11  geometry                      1225159 non-null  geometry\n",
      " 12  planting_date_reported        1191464 non-null  float64 \n",
      " 13  project_geometries_invalid    1225162 non-null  bool    \n",
      " 14  planting_date_type            1225162 non-null  object  \n",
      "dtypes: bool(1), float64(2), geometry(1), int64(2), object(9)\n",
      "memory usage: 132.0+ MB\n"
     ]
    }
   ],
   "source": [
    "df_verra.info()"
   ]
  },
  {
   "cell_type": "code",
   "execution_count": 7,
   "metadata": {},
   "outputs": [
    {
     "data": {
      "text/plain": [
       "project_geometries_invalid\n",
       "False    1225159\n",
       "True           3\n",
       "Name: count, dtype: int64"
      ]
     },
     "execution_count": 7,
     "metadata": {},
     "output_type": "execute_result"
    }
   ],
   "source": [
    "df_verra[\"project_geometries_invalid\"].value_counts()"
   ]
  },
  {
   "cell_type": "code",
   "execution_count": 8,
   "metadata": {},
   "outputs": [],
   "source": [
    "folder_path=\"../midsave/Date_evaluation\""
   ]
  },
  {
   "cell_type": "markdown",
   "metadata": {},
   "source": [
    "#### Restor.eco"
   ]
  },
  {
   "cell_type": "markdown",
   "metadata": {},
   "source": [
    "We extracted and filtered  the data from  https://restor.eco/?lat=10.743821093825016&lng=4.473759981496621&zoom=4 as described in the script  \"restor.ipynb\"."
   ]
  },
  {
   "cell_type": "code",
   "execution_count": 9,
   "metadata": {},
   "outputs": [
    {
     "name": "stdout",
     "output_type": "stream",
     "text": [
      "<class 'geopandas.geodataframe.GeoDataFrame'>\n",
      "RangeIndex: 54880 entries, 0 to 54879\n",
      "Data columns (total 14 columns):\n",
      " #   Column                        Non-Null Count  Dtype   \n",
      "---  ------                        --------------  -----   \n",
      " 0   project_id_reported           54880 non-null  object  \n",
      " 1   project_description_reported  34283 non-null  object  \n",
      " 2   planting_date_reported        53032 non-null  object  \n",
      " 3   url                           54880 non-null  object  \n",
      " 4   site_sqkm                     54880 non-null  float64 \n",
      " 5   country                       54880 non-null  object  \n",
      " 6   project_geometries_invalid    54880 non-null  bool    \n",
      " 7   site_id_reported              54880 non-null  object  \n",
      " 8   host_name                     54880 non-null  object  \n",
      " 9   species_count_reported        0 non-null      object  \n",
      " 10  species_planted_reported      0 non-null      object  \n",
      " 11  survival_rate_reported        0 non-null      object  \n",
      " 12  trees_planted_reported        0 non-null      object  \n",
      " 13  geometry                      54880 non-null  geometry\n",
      "dtypes: bool(1), float64(1), geometry(1), object(11)\n",
      "memory usage: 5.5+ MB\n"
     ]
    }
   ],
   "source": [
    "df_restor = gpd.read_file(\"../midsave/restor_eco.gpkg\")\n",
    "df_restor.info()"
   ]
  },
  {
   "cell_type": "markdown",
   "metadata": {},
   "source": [
    "#### Explorer Data"
   ]
  },
  {
   "cell_type": "markdown",
   "metadata": {},
   "source": [
    "This data is extracted from the projects website https://explorer.land/x/projects as described in the script 'explorer_land.ipynb'. The column names were manually edited."
   ]
  },
  {
   "cell_type": "code",
   "execution_count": 10,
   "metadata": {},
   "outputs": [
    {
     "name": "stdout",
     "output_type": "stream",
     "text": [
      "<class 'geopandas.geodataframe.GeoDataFrame'>\n",
      "RangeIndex: 3243 entries, 0 to 3242\n",
      "Data columns (total 10 columns):\n",
      " #   Column                        Non-Null Count  Dtype   \n",
      "---  ------                        --------------  -----   \n",
      " 0   site_id_created               3243 non-null   int64   \n",
      " 1   site_id_reported              3243 non-null   object  \n",
      " 2   project_id_reported           3243 non-null   object  \n",
      " 3   site_description_reported     1801 non-null   object  \n",
      " 4   project_description_reported  3241 non-null   object  \n",
      " 5   host_name                     3243 non-null   object  \n",
      " 6   url                           3243 non-null   object  \n",
      " 7   site_sqkm                     3243 non-null   float64 \n",
      " 8   project_geometries_invalid    3243 non-null   bool    \n",
      " 9   geometry                      3243 non-null   geometry\n",
      "dtypes: bool(1), float64(1), geometry(1), int64(1), object(6)\n",
      "memory usage: 231.3+ KB\n"
     ]
    }
   ],
   "source": [
    "df_ex = gpd.read_file(\"../midsave/explorer_land.gpkg\")\n",
    "df_ex.info()"
   ]
  },
  {
   "cell_type": "code",
   "execution_count": 11,
   "metadata": {},
   "outputs": [
    {
     "data": {
      "text/plain": [
       "project_geometries_invalid\n",
       "False    3243\n",
       "Name: count, dtype: int64"
      ]
     },
     "execution_count": 11,
     "metadata": {},
     "output_type": "execute_result"
    }
   ],
   "source": [
    "df_ex[\"project_geometries_invalid\"].value_counts()"
   ]
  },
  {
   "cell_type": "markdown",
   "metadata": {},
   "source": [
    "#### Face the Future"
   ]
  },
  {
   "cell_type": "markdown",
   "metadata": {},
   "source": [
    "We extracted  the data from  https://facethefuture.com/#projects described in the script 'Face_Future_metadata_prepro.ipynb'."
   ]
  },
  {
   "cell_type": "code",
   "execution_count": 12,
   "metadata": {},
   "outputs": [
    {
     "name": "stdout",
     "output_type": "stream",
     "text": [
      "<class 'geopandas.geodataframe.GeoDataFrame'>\n",
      "RangeIndex: 568 entries, 0 to 567\n",
      "Data columns (total 17 columns):\n",
      " #   Column                        Non-Null Count  Dtype   \n",
      "---  ------                        --------------  -----   \n",
      " 0   project_id_reported           94 non-null     object  \n",
      " 1   site_id_reported              568 non-null    int64   \n",
      " 2   trees_planted_reported        94 non-null     float64 \n",
      " 3   site_sqkm_reported            94 non-null     float64 \n",
      " 4   planting_date_reported        94 non-null     float64 \n",
      " 5   project_description_reported  2 non-null      object  \n",
      " 6   Creator                       94 non-null     object  \n",
      " 7   site_sqkm                     568 non-null    float64 \n",
      " 8   host_name                     568 non-null    object  \n",
      " 9   url                           568 non-null    object  \n",
      " 10  project_geometries_invalid    568 non-null    bool    \n",
      " 11  planting_date_type            568 non-null    object  \n",
      " 12  species_count_reported        0 non-null      object  \n",
      " 13  country                       0 non-null      object  \n",
      " 14  species_planted_reported      0 non-null      object  \n",
      " 15  survival_rate_reported        0 non-null      object  \n",
      " 16  geometry                      568 non-null    geometry\n",
      "dtypes: bool(1), float64(4), geometry(1), int64(1), object(10)\n",
      "memory usage: 71.7+ KB\n"
     ]
    }
   ],
   "source": [
    "df_ftf = gpd.read_file(\"../midsave/face_the_future.gpkg\")\n",
    "df_ftf.info()"
   ]
  },
  {
   "cell_type": "markdown",
   "metadata": {},
   "source": [
    "#### Climate Partner Impact\n",
    "We extracted the data as described in the script 'climate_partner_impact.ipynb'."
   ]
  },
  {
   "cell_type": "code",
   "execution_count": 13,
   "metadata": {},
   "outputs": [
    {
     "name": "stdout",
     "output_type": "stream",
     "text": [
      "<class 'geopandas.geodataframe.GeoDataFrame'>\n",
      "RangeIndex: 7 entries, 0 to 6\n",
      "Data columns (total 13 columns):\n",
      " #   Column                        Non-Null Count  Dtype   \n",
      "---  ------                        --------------  -----   \n",
      " 0   site_id_reported              0 non-null      object  \n",
      " 1   project_id_reported           7 non-null      object  \n",
      " 2   country                       0 non-null      object  \n",
      " 3   url                           7 non-null      object  \n",
      " 4   host_name                     7 non-null      object  \n",
      " 5   project_description_reported  0 non-null      object  \n",
      " 6   site_sqkm                     0 non-null      object  \n",
      " 7   species_count_reported        0 non-null      object  \n",
      " 8   species_planted_reported      0 non-null      object  \n",
      " 9   survival_rate_reported        0 non-null      object  \n",
      " 10  trees_planted_reported        0 non-null      object  \n",
      " 11  planting_date_reported        0 non-null      object  \n",
      " 12  geometry                      7 non-null      geometry\n",
      "dtypes: geometry(1), object(12)\n",
      "memory usage: 856.0+ bytes\n"
     ]
    }
   ],
   "source": [
    "df_cpi = gpd.read_file(\"../midsave/climate_partner_impact.gpkg\")\n",
    "df_cpi.info()"
   ]
  },
  {
   "cell_type": "markdown",
   "metadata": {},
   "source": [
    "#### Forest Trends\n",
    "We extracted the data as described in the script 'forest_trends.ipynb'."
   ]
  },
  {
   "cell_type": "code",
   "execution_count": 14,
   "metadata": {},
   "outputs": [
    {
     "name": "stdout",
     "output_type": "stream",
     "text": [
      "<class 'geopandas.geodataframe.GeoDataFrame'>\n",
      "RangeIndex: 277 entries, 0 to 276\n",
      "Data columns (total 15 columns):\n",
      " #   Column                        Non-Null Count  Dtype   \n",
      "---  ------                        --------------  -----   \n",
      " 0   project_id_reported           277 non-null    object  \n",
      " 1   site_sqkm_reported            246 non-null    float64 \n",
      " 2   project_description_reported  277 non-null    object  \n",
      " 3   country                       277 non-null    object  \n",
      " 4   host_name                     277 non-null    object  \n",
      " 5   url                           277 non-null    object  \n",
      " 6   project_geometries_invalid    277 non-null    bool    \n",
      " 7   site_sqkm                     0 non-null      object  \n",
      " 8   species_count_reported        0 non-null      object  \n",
      " 9   species_planted_reported      0 non-null      object  \n",
      " 10  survival_rate_reported        0 non-null      object  \n",
      " 11  trees_planted_reported        0 non-null      object  \n",
      " 12  site_id_reported              0 non-null      object  \n",
      " 13  planting_date_reported        0 non-null      object  \n",
      " 14  geometry                      277 non-null    geometry\n",
      "dtypes: bool(1), float64(1), geometry(1), object(12)\n",
      "memory usage: 30.7+ KB\n"
     ]
    }
   ],
   "source": [
    "df_ft = gpd.read_file(\"../midsave/forest_trends.gpkg\")\n",
    "df_ft.info()"
   ]
  },
  {
   "cell_type": "markdown",
   "metadata": {},
   "source": [
    "#### One Tree Planted\n",
    "We extracted the data as described in the script 'one_tree_planted.ipynb'."
   ]
  },
  {
   "cell_type": "code",
   "execution_count": 15,
   "metadata": {},
   "outputs": [
    {
     "name": "stdout",
     "output_type": "stream",
     "text": [
      "<class 'geopandas.geodataframe.GeoDataFrame'>\n",
      "RangeIndex: 819 entries, 0 to 818\n",
      "Data columns (total 14 columns):\n",
      " #   Column                        Non-Null Count  Dtype   \n",
      "---  ------                        --------------  -----   \n",
      " 0   project_id_reported           819 non-null    int64   \n",
      " 1   project_description_reported  0 non-null      object  \n",
      " 2   url                           819 non-null    object  \n",
      " 3   host_name                     819 non-null    object  \n",
      " 4   project_geometries_invalid    819 non-null    bool    \n",
      " 5   site_sqkm                     0 non-null      object  \n",
      " 6   species_count_reported        0 non-null      object  \n",
      " 7   species_planted_reported      0 non-null      object  \n",
      " 8   survival_rate_reported        0 non-null      object  \n",
      " 9   trees_planted_reported        0 non-null      object  \n",
      " 10  planting_date_reported        0 non-null      object  \n",
      " 11  country                       0 non-null      object  \n",
      " 12  site_id_reported              0 non-null      object  \n",
      " 13  geometry                      819 non-null    geometry\n",
      "dtypes: bool(1), geometry(1), int64(1), object(11)\n",
      "memory usage: 84.1+ KB\n"
     ]
    }
   ],
   "source": [
    "df_otp = gpd.read_file(\"../midsave/one_tree_planted.gpkg\")\n",
    "df_otp.info()"
   ]
  },
  {
   "cell_type": "markdown",
   "metadata": {},
   "source": [
    "#### Reforestaction\n",
    "We extracted the data as described in the script 'reforestaction.ipynb'."
   ]
  },
  {
   "cell_type": "code",
   "execution_count": 16,
   "metadata": {},
   "outputs": [
    {
     "name": "stdout",
     "output_type": "stream",
     "text": [
      "<class 'geopandas.geodataframe.GeoDataFrame'>\n",
      "RangeIndex: 1100 entries, 0 to 1099\n",
      "Data columns (total 14 columns):\n",
      " #   Column                        Non-Null Count  Dtype   \n",
      "---  ------                        --------------  -----   \n",
      " 0   project_id_reported           1100 non-null   int64   \n",
      " 1   site_id_reported              1100 non-null   int64   \n",
      " 2   host_name                     1100 non-null   object  \n",
      " 3   url                           1100 non-null   object  \n",
      " 4   project_geometries_invalid    1100 non-null   bool    \n",
      " 5   project_description_reported  0 non-null      object  \n",
      " 6   site_sqkm                     0 non-null      object  \n",
      " 7   species_count_reported        0 non-null      object  \n",
      " 8   species_planted_reported      0 non-null      object  \n",
      " 9   survival_rate_reported        0 non-null      object  \n",
      " 10  trees_planted_reported        0 non-null      object  \n",
      " 11  planting_date_reported        0 non-null      object  \n",
      " 12  country                       0 non-null      object  \n",
      " 13  geometry                      1100 non-null   geometry\n",
      "dtypes: bool(1), geometry(1), int64(2), object(10)\n",
      "memory usage: 112.9+ KB\n"
     ]
    }
   ],
   "source": [
    "df_reforestaction = gpd.read_file(\"../midsave/reforestaction.gpkg\")\n",
    "df_reforestaction.info()"
   ]
  },
  {
   "cell_type": "markdown",
   "metadata": {},
   "source": [
    "#### Reforestum\n",
    "We extracted the data as described in the script 'reforestum.ipynb'."
   ]
  },
  {
   "cell_type": "code",
   "execution_count": 17,
   "metadata": {},
   "outputs": [
    {
     "name": "stdout",
     "output_type": "stream",
     "text": [
      "<class 'geopandas.geodataframe.GeoDataFrame'>\n",
      "RangeIndex: 3691 entries, 0 to 3690\n",
      "Data columns (total 14 columns):\n",
      " #   Column                        Non-Null Count  Dtype   \n",
      "---  ------                        --------------  -----   \n",
      " 0   project_id_reported           3691 non-null   object  \n",
      " 1   project_description_reported  2082 non-null   object  \n",
      " 2   country                       0 non-null      object  \n",
      " 3   site_sqkm                     0 non-null      object  \n",
      " 4   url                           3691 non-null   object  \n",
      " 5   host_name                     3691 non-null   object  \n",
      " 6   project_geometries_invalid    3691 non-null   bool    \n",
      " 7   species_count_reported        0 non-null      object  \n",
      " 8   species_planted_reported      0 non-null      object  \n",
      " 9   survival_rate_reported        0 non-null      object  \n",
      " 10  trees_planted_reported        0 non-null      object  \n",
      " 11  planting_date_reported        0 non-null      object  \n",
      " 12  site_id_reported              0 non-null      object  \n",
      " 13  geometry                      3691 non-null   geometry\n",
      "dtypes: bool(1), geometry(1), object(12)\n",
      "memory usage: 378.6+ KB\n"
     ]
    }
   ],
   "source": [
    "df_reforestum = gpd.read_file(\"../midsave/reforestum.gpkg\")\n",
    "df_reforestum.info()"
   ]
  },
  {
   "cell_type": "markdown",
   "metadata": {},
   "source": [
    "#### Trees.org\n",
    "We extracted the data as described in the script 'trees_org.ipynb'."
   ]
  },
  {
   "cell_type": "code",
   "execution_count": 18,
   "metadata": {},
   "outputs": [
    {
     "name": "stdout",
     "output_type": "stream",
     "text": [
      "<class 'geopandas.geodataframe.GeoDataFrame'>\n",
      "RangeIndex: 86 entries, 0 to 85\n",
      "Data columns (total 15 columns):\n",
      " #   Column                        Non-Null Count  Dtype   \n",
      "---  ------                        --------------  -----   \n",
      " 0   project_id_reported           86 non-null     int64   \n",
      " 1   project_description_reported  86 non-null     object  \n",
      " 2   country                       86 non-null     object  \n",
      " 3   planting_date_reported        86 non-null     int32   \n",
      " 4   url                           86 non-null     object  \n",
      " 5   planting_date_type            86 non-null     object  \n",
      " 6   host_name                     86 non-null     object  \n",
      " 7   project_geometries_invalid    86 non-null     bool    \n",
      " 8   site_sqkm                     0 non-null      object  \n",
      " 9   species_count_reported        0 non-null      object  \n",
      " 10  species_planted_reported      0 non-null      object  \n",
      " 11  survival_rate_reported        0 non-null      object  \n",
      " 12  trees_planted_reported        0 non-null      object  \n",
      " 13  site_id_reported              0 non-null      object  \n",
      " 14  geometry                      86 non-null     geometry\n",
      "dtypes: bool(1), geometry(1), int32(1), int64(1), object(11)\n",
      "memory usage: 9.3+ KB\n"
     ]
    }
   ],
   "source": [
    "df_to = gpd.read_file(\"../midsave/trees_org.gpkg\")\n",
    "df_to.info()"
   ]
  },
  {
   "cell_type": "markdown",
   "metadata": {},
   "source": [
    "#### Veritree\n",
    "We extracted the data as described in the script 'verritree.ipynb'."
   ]
  },
  {
   "cell_type": "code",
   "execution_count": 19,
   "metadata": {},
   "outputs": [
    {
     "name": "stdout",
     "output_type": "stream",
     "text": [
      "<class 'geopandas.geodataframe.GeoDataFrame'>\n",
      "RangeIndex: 122 entries, 0 to 121\n",
      "Data columns (total 14 columns):\n",
      " #   Column                        Non-Null Count  Dtype   \n",
      "---  ------                        --------------  -----   \n",
      " 0   site_id_reported              122 non-null    int64   \n",
      " 1   project_id_reported           122 non-null    int64   \n",
      " 2   project_description_reported  122 non-null    object  \n",
      " 3   country                       122 non-null    object  \n",
      " 4   survival_rate_reported        122 non-null    int64   \n",
      " 5   species_planted_reported      122 non-null    object  \n",
      " 6   host_name                     122 non-null    object  \n",
      " 7   project_geometries_invalid    122 non-null    bool    \n",
      " 8   url                           122 non-null    object  \n",
      " 9   site_sqkm                     122 non-null    float64 \n",
      " 10  species_count_reported        0 non-null      object  \n",
      " 11  trees_planted_reported        0 non-null      object  \n",
      " 12  planting_date_reported        0 non-null      object  \n",
      " 13  geometry                      122 non-null    geometry\n",
      "dtypes: bool(1), float64(1), geometry(1), int64(3), object(8)\n",
      "memory usage: 12.6+ KB\n"
     ]
    }
   ],
   "source": [
    "df_vt = gpd.read_file(\"../midsave/veritree.gpkg\")\n",
    "df_vt.info()"
   ]
  },
  {
   "cell_type": "code",
   "execution_count": 20,
   "metadata": {},
   "outputs": [
    {
     "data": {
      "text/plain": [
       "1436972.5645987687"
      ]
     },
     "execution_count": 20,
     "metadata": {},
     "output_type": "execute_result"
    }
   ],
   "source": [
    "df_vt[\"site_sqkm\"].sum()"
   ]
  },
  {
   "cell_type": "code",
   "execution_count": null,
   "metadata": {},
   "outputs": [],
   "source": []
  },
  {
   "cell_type": "markdown",
   "metadata": {},
   "source": [
    "#### Zero CO2\n",
    "We extracted the data as described in the script 'zero_co2.ipynb'."
   ]
  },
  {
   "cell_type": "code",
   "execution_count": 21,
   "metadata": {},
   "outputs": [
    {
     "name": "stdout",
     "output_type": "stream",
     "text": [
      "<class 'geopandas.geodataframe.GeoDataFrame'>\n",
      "RangeIndex: 7 entries, 0 to 6\n",
      "Data columns (total 15 columns):\n",
      " #   Column                        Non-Null Count  Dtype   \n",
      "---  ------                        --------------  -----   \n",
      " 0   project_id_reported           7 non-null      object  \n",
      " 1   site_id_reported              7 non-null      object  \n",
      " 2   project_description_reported  7 non-null      object  \n",
      " 3   country                       0 non-null      object  \n",
      " 4   planting_date_reported        7 non-null      int32   \n",
      " 5   url                           7 non-null      object  \n",
      " 6   host_name                     7 non-null      object  \n",
      " 7   project_geometries_invalid    7 non-null      bool    \n",
      " 8   site_sqkm                     0 non-null      object  \n",
      " 9   species_count_reported        0 non-null      object  \n",
      " 10  species_planted_reported      0 non-null      object  \n",
      " 11  survival_rate_reported        0 non-null      object  \n",
      " 12  trees_planted_reported        0 non-null      object  \n",
      " 13  planting_date_type            7 non-null      object  \n",
      " 14  geometry                      7 non-null      geometry\n",
      "dtypes: bool(1), geometry(1), int32(1), object(12)\n",
      "memory usage: 891.0+ bytes\n"
     ]
    }
   ],
   "source": [
    "df_zc = gpd.read_file(\"../midsave/zero_co2.gpkg\")\n",
    "df_zc.info()"
   ]
  },
  {
   "cell_type": "code",
   "execution_count": 22,
   "metadata": {},
   "outputs": [
    {
     "data": {
      "text/plain": [
       "0     POINT (-89.7276 16.6798)\n",
       "1       POINT (-91.603 14.097)\n",
       "2      POINT (36.5974 -3.3363)\n",
       "3      POINT (12.5324 41.9028)\n",
       "4       POINT (9.6131 40.9965)\n",
       "5    POINT (-69.1935 -12.5892)\n",
       "6    POINT (-71.3322 -42.9407)\n",
       "Name: geometry, dtype: geometry"
      ]
     },
     "execution_count": 22,
     "metadata": {},
     "output_type": "execute_result"
    }
   ],
   "source": [
    "df_zc[\"geometry\"]"
   ]
  },
  {
   "cell_type": "markdown",
   "metadata": {},
   "source": [
    " #### Gold Standards\n",
    "We extracted the data as described in the script 'gold_standards.ipynb'."
   ]
  },
  {
   "cell_type": "code",
   "execution_count": 23,
   "metadata": {},
   "outputs": [
    {
     "name": "stdout",
     "output_type": "stream",
     "text": [
      "<class 'geopandas.geodataframe.GeoDataFrame'>\n",
      "RangeIndex: 71 entries, 0 to 70\n",
      "Data columns (total 14 columns):\n",
      " #   Column                        Non-Null Count  Dtype   \n",
      "---  ------                        --------------  -----   \n",
      " 0   project_id_reported           71 non-null     int64   \n",
      " 1   country                       71 non-null     object  \n",
      " 2   project_description_reported  71 non-null     object  \n",
      " 3   project_pdf_available         71 non-null     bool    \n",
      " 4   url                           71 non-null     object  \n",
      " 5   host_name                     71 non-null     object  \n",
      " 6   site_sqkm                     0 non-null      object  \n",
      " 7   species_count_reported        0 non-null      object  \n",
      " 8   species_planted_reported      0 non-null      object  \n",
      " 9   survival_rate_reported        0 non-null      object  \n",
      " 10  trees_planted_reported        0 non-null      object  \n",
      " 11  planting_date_reported        0 non-null      object  \n",
      " 12  site_id_reported              0 non-null      object  \n",
      " 13  geometry                      0 non-null      geometry\n",
      "dtypes: bool(1), geometry(1), int64(1), object(11)\n",
      "memory usage: 7.4+ KB\n"
     ]
    }
   ],
   "source": [
    "df_gs = gpd.read_file('../midsave/gold_standards.gpkg')\n",
    "df_gs.info()"
   ]
  },
  {
   "cell_type": "markdown",
   "metadata": {},
   "source": [
    " #### American Carbon Registry\n",
    "We extracted the data as described in the script 'american_carbon_registry.ipynb'."
   ]
  },
  {
   "cell_type": "code",
   "execution_count": 24,
   "metadata": {},
   "outputs": [
    {
     "name": "stdout",
     "output_type": "stream",
     "text": [
      "<class 'geopandas.geodataframe.GeoDataFrame'>\n",
      "RangeIndex: 7 entries, 0 to 6\n",
      "Data columns (total 13 columns):\n",
      " #   Column                    Non-Null Count  Dtype   \n",
      "---  ------                    --------------  -----   \n",
      " 0   project_id_created        7 non-null      int64   \n",
      " 1   project_id_reported       7 non-null      object  \n",
      " 2   country                   7 non-null      object  \n",
      " 3   planting_date_reported    0 non-null      object  \n",
      " 4   project_pdf_available     7 non-null      bool    \n",
      " 5   planting_date_type        7 non-null      object  \n",
      " 6   site_id_created           7 non-null      int64   \n",
      " 7   site_sqkm                 0 non-null      object  \n",
      " 8   species_count_reported    0 non-null      object  \n",
      " 9   species_planted_reported  0 non-null      object  \n",
      " 10  survival_rate_reported    0 non-null      object  \n",
      " 11  trees_planted_reported    0 non-null      object  \n",
      " 12  geometry                  0 non-null      geometry\n",
      "dtypes: bool(1), geometry(1), int64(2), object(9)\n",
      "memory usage: 807.0+ bytes\n"
     ]
    }
   ],
   "source": [
    "df_acr= gpd.read_file('../midsave/american_carbon_registry.gpkg')\n",
    "df_acr.info()"
   ]
  },
  {
   "cell_type": "markdown",
   "metadata": {},
   "source": [
    " #### Climate Action Reserve\n",
    "We extracted the data as described in the script 'climate_reserve.ipynb'."
   ]
  },
  {
   "cell_type": "code",
   "execution_count": 54,
   "metadata": {},
   "outputs": [
    {
     "name": "stdout",
     "output_type": "stream",
     "text": [
      "<class 'geopandas.geodataframe.GeoDataFrame'>\n",
      "RangeIndex: 513 entries, 0 to 512\n",
      "Data columns (total 12 columns):\n",
      " #   Column                      Non-Null Count  Dtype   \n",
      "---  ------                      --------------  -----   \n",
      " 0   site_id_created             513 non-null    int64   \n",
      " 1   project_id_reported         513 non-null    object  \n",
      " 2   planting_date_reported      513 non-null    object  \n",
      " 3   site_sqkm                   504 non-null    float64 \n",
      " 4   project_geometries_invalid  504 non-null    object  \n",
      " 5   url                         513 non-null    object  \n",
      " 6   project_pdf_available       513 non-null    bool    \n",
      " 7   species_count_reported      0 non-null      object  \n",
      " 8   species_planted_reported    0 non-null      object  \n",
      " 9   survival_rate_reported      0 non-null      object  \n",
      " 10  trees_planted_reported      0 non-null      object  \n",
      " 11  geometry                    504 non-null    geometry\n",
      "dtypes: bool(1), float64(1), geometry(1), int64(1), object(8)\n",
      "memory usage: 44.7+ KB\n",
      "There are missing geometries in the dataframe.\n"
     ]
    }
   ],
   "source": [
    "df_car= gpd.read_file('../midsave/climate_action_reserve.gpkg')\n",
    "df_car.info()\n",
    "# Ensure the geometry column is not None\n",
    "if df_car.geometry.isna().any():\n",
    "    print(\"There are missing geometries in the dataframe.\")\n",
    "else:\n",
    "    # Apply the lambda function to get geometry types\n",
    "    geometry_types = df_car.geometry.apply(lambda geom: geom.geom_type)\n",
    "    geometry_counts = geometry_types.value_counts()\n",
    "\n",
    "    print(geometry_counts)"
   ]
  },
  {
   "cell_type": "code",
   "execution_count": 56,
   "metadata": {},
   "outputs": [
    {
     "data": {
      "text/plain": [
       "1683.1142200452955"
      ]
     },
     "execution_count": 56,
     "metadata": {},
     "output_type": "execute_result"
    }
   ],
   "source": [
    "df_car[\"site_sqkm\"].sum()"
   ]
  },
  {
   "cell_type": "markdown",
   "metadata": {},
   "source": [
    "### Combining the datasets"
   ]
  },
  {
   "cell_type": "code",
   "execution_count": 26,
   "metadata": {
    "scrolled": true
   },
   "outputs": [
    {
     "name": "stderr",
     "output_type": "stream",
     "text": [
      "/var/folders/_l/gj90rjl90fngb4_8ph5x5jhc0000gn/T/ipykernel_44544/3592405086.py:11: FutureWarning: The behavior of DataFrame concatenation with empty or all-NA entries is deprecated. In a future version, this will no longer exclude empty or all-NA columns when determining the result dtypes. To retain the old behavior, exclude the relevant entries before the concat operation.\n",
      "  gdf = pd.concat(geo_dfs, ignore_index=True).drop(columns=['site_status_reported', 'status_reported'])\n"
     ]
    },
    {
     "name": "stdout",
     "output_type": "stream",
     "text": [
      "<class 'geopandas.geodataframe.GeoDataFrame'>\n",
      "RangeIndex: 1295476 entries, 0 to 1295475\n",
      "Data columns (total 21 columns):\n",
      " #   Column                        Non-Null Count    Dtype   \n",
      "---  ------                        --------------    -----   \n",
      " 0   project_id_reported           1295002 non-null  object  \n",
      " 1   site_id_reported              1290005 non-null  object  \n",
      " 2   site_description_reported     3773 non-null     object  \n",
      " 3   site_sqkm                     1289402 non-null  float64 \n",
      " 4   trees_planted_reported        3461 non-null     object  \n",
      " 5   country                       59092 non-null    object  \n",
      " 6   project_description_reported  1270256 non-null  object  \n",
      " 7   planting_date_reported        1249358 non-null  object  \n",
      " 8   survival_rate_reported        2567 non-null     object  \n",
      " 9   host_name                     1294956 non-null  object  \n",
      " 10  url                           1295469 non-null  object  \n",
      " 11  species_count_reported        0 non-null        object  \n",
      " 12  species_planted_reported      122 non-null      object  \n",
      " 13  planting_date_type            1230485 non-null  object  \n",
      " 14  project_geometries_invalid    1295382 non-null  object  \n",
      " 15  geometry                      1295327 non-null  geometry\n",
      " 16  site_sqkm_reported            340 non-null      float64 \n",
      " 17  Creator                       94 non-null       object  \n",
      " 18  site_id_created               3763 non-null     float64 \n",
      " 19  project_pdf_available         591 non-null      object  \n",
      " 20  project_id_created            7 non-null        float64 \n",
      "dtypes: float64(4), geometry(1), object(16)\n",
      "memory usage: 207.6+ MB\n"
     ]
    }
   ],
   "source": [
    "\n",
    "geo_dfs = [df_plant, df_tn, df_verra, df_atlas, df_restor, df_ftf, df_ex, df_cpi, df_ft, df_otp, df_reforestaction, df_reforestum, df_to, df_vt, df_zc, df_gs, df_acr, df_car]\n",
    "\n",
    "\n",
    "target_crs = 'EPSG:4326'\n",
    "\n",
    "for i, gdf in enumerate(geo_dfs):\n",
    "    if gdf.crs != target_crs:\n",
    "        geo_dfs[i] = gdf.to_crs(target_crs)\n",
    "\n",
    "\n",
    "gdf = pd.concat(geo_dfs, ignore_index=True).drop(columns=['site_status_reported', 'status_reported'])\n",
    "\n",
    "gdf.info()"
   ]
  },
  {
   "cell_type": "code",
   "execution_count": 27,
   "metadata": {},
   "outputs": [
    {
     "name": "stdout",
     "output_type": "stream",
     "text": [
      "<class 'geopandas.geodataframe.GeoDataFrame'>\n",
      "Index: 149 entries, 617 to 1295475\n",
      "Data columns (total 21 columns):\n",
      " #   Column                        Non-Null Count  Dtype   \n",
      "---  ------                        --------------  -----   \n",
      " 0   project_id_reported           149 non-null    object  \n",
      " 1   site_id_reported              62 non-null     object  \n",
      " 2   site_description_reported     4 non-null      object  \n",
      " 3   site_sqkm                     62 non-null     float64 \n",
      " 4   trees_planted_reported        4 non-null      object  \n",
      " 5   country                       82 non-null     object  \n",
      " 6   project_description_reported  133 non-null    object  \n",
      " 7   planting_date_reported        67 non-null     object  \n",
      " 8   survival_rate_reported        4 non-null      object  \n",
      " 9   host_name                     133 non-null    object  \n",
      " 10  url                           142 non-null    object  \n",
      " 11  species_count_reported        0 non-null      object  \n",
      " 12  species_planted_reported      0 non-null      object  \n",
      " 13  planting_date_type            69 non-null     object  \n",
      " 14  project_geometries_invalid    62 non-null     object  \n",
      " 15  geometry                      0 non-null      geometry\n",
      " 16  site_sqkm_reported            0 non-null      float64 \n",
      " 17  Creator                       0 non-null      object  \n",
      " 18  site_id_created               16 non-null     float64 \n",
      " 19  project_pdf_available         87 non-null     object  \n",
      " 20  project_id_created            7 non-null      float64 \n",
      "dtypes: float64(4), geometry(1), object(16)\n",
      "memory usage: 25.6+ KB\n"
     ]
    }
   ],
   "source": [
    "# Filter rows with null values in the 'geometry' column\n",
    "null_geometry_rows = gdf[gdf['geometry'].isnull()]\n",
    "\n",
    "null_geometry_rows.info()"
   ]
  },
  {
   "cell_type": "markdown",
   "metadata": {},
   "source": [
    "### Data cleanup"
   ]
  },
  {
   "cell_type": "code",
   "execution_count": 28,
   "metadata": {},
   "outputs": [
    {
     "name": "stdout",
     "output_type": "stream",
     "text": [
      "<class 'geopandas.geodataframe.GeoDataFrame'>\n",
      "RangeIndex: 1295476 entries, 0 to 1295475\n",
      "Data columns (total 21 columns):\n",
      " #   Column                        Non-Null Count    Dtype   \n",
      "---  ------                        --------------    -----   \n",
      " 0   project_id_reported           1295002 non-null  object  \n",
      " 1   site_id_reported              1290005 non-null  object  \n",
      " 2   site_description_reported     3773 non-null     object  \n",
      " 3   site_sqkm                     1289402 non-null  float64 \n",
      " 4   trees_planted_reported        3461 non-null     object  \n",
      " 5   country                       59092 non-null    object  \n",
      " 6   project_description_reported  1270256 non-null  object  \n",
      " 7   planting_date_reported        1249358 non-null  object  \n",
      " 8   survival_rate_reported        2567 non-null     object  \n",
      " 9   host_name                     1294956 non-null  object  \n",
      " 10  url                           1295469 non-null  object  \n",
      " 11  species_count_reported        0 non-null        object  \n",
      " 12  species_planted_reported      122 non-null      object  \n",
      " 13  planting_date_type            1230485 non-null  object  \n",
      " 14  project_geometries_invalid    1295382 non-null  object  \n",
      " 15  geometry                      1295327 non-null  geometry\n",
      " 16  site_sqkm_reported            340 non-null      float64 \n",
      " 17  Creator                       94 non-null       object  \n",
      " 18  site_id_created               3763 non-null     float64 \n",
      " 19  project_pdf_available         591 non-null      object  \n",
      " 20  project_id_created            7 non-null        float64 \n",
      "dtypes: float64(4), geometry(1), object(16)\n",
      "memory usage: 207.6+ MB\n"
     ]
    }
   ],
   "source": [
    "gdf_filtered = gdf.copy().reset_index(drop = True)\n",
    "gdf_filtered.info()"
   ]
  },
  {
   "cell_type": "markdown",
   "metadata": {},
   "source": [
    "Drop duplicate geographies"
   ]
  },
  {
   "cell_type": "code",
   "execution_count": 29,
   "metadata": {},
   "outputs": [
    {
     "name": "stdout",
     "output_type": "stream",
     "text": [
      "<class 'geopandas.geodataframe.GeoDataFrame'>\n",
      "Index: 1133170 entries, 0 to 1295470\n",
      "Data columns (total 21 columns):\n",
      " #   Column                        Non-Null Count    Dtype   \n",
      "---  ------                        --------------    -----   \n",
      " 0   project_id_reported           1132698 non-null  object  \n",
      " 1   site_id_reported              1128303 non-null  object  \n",
      " 2   site_description_reported     3695 non-null     object  \n",
      " 3   site_sqkm                     1127724 non-null  float64 \n",
      " 4   trees_planted_reported        3409 non-null     object  \n",
      " 5   country                       56586 non-null    object  \n",
      " 6   project_description_reported  1110631 non-null  object  \n",
      " 7   planting_date_reported        1110475 non-null  object  \n",
      " 8   survival_rate_reported        2522 non-null     object  \n",
      " 9   host_name                     1132666 non-null  object  \n",
      " 10  url                           1133170 non-null  object  \n",
      " 11  species_count_reported        0 non-null        object  \n",
      " 12  species_planted_reported      120 non-null      object  \n",
      " 13  planting_date_type            1071202 non-null  object  \n",
      " 14  project_geometries_invalid    1133163 non-null  object  \n",
      " 15  geometry                      1133169 non-null  geometry\n",
      " 16  site_sqkm_reported            337 non-null      float64 \n",
      " 17  Creator                       94 non-null       object  \n",
      " 18  site_id_created               3712 non-null     float64 \n",
      " 19  project_pdf_available         504 non-null      object  \n",
      " 20  project_id_created            0 non-null        float64 \n",
      "dtypes: float64(4), geometry(1), object(16)\n",
      "memory usage: 190.2+ MB\n"
     ]
    }
   ],
   "source": [
    "gdf_filtered.drop_duplicates('geometry', inplace = True)\n",
    "gdf_filtered.info()"
   ]
  },
  {
   "cell_type": "markdown",
   "metadata": {},
   "source": [
    "Clean up country names"
   ]
  },
  {
   "cell_type": "code",
   "execution_count": 30,
   "metadata": {},
   "outputs": [
    {
     "data": {
      "text/plain": [
       "array(['BR', 'GH', 'VN', 'CO', 'UG', 'MZ', 'US', 'MW', 'ES', 'AE', 'KE',\n",
       "       'MG', 'GB', 'MX', 'NP', 'ET', 'PH', 'BO', 'NA', 'IN', 'AR', 'HN',\n",
       "       'EG', 'CA', 'TZ', 'IR', 'ID', 'UA', 'TH', 'AU', 'AM', 'IE', 'BD',\n",
       "       'CL', 'NG', 'CI', 'JO', 'CD', 'CM', 'EC', 'CR', 'DE', 'GT', 'TW',\n",
       "       'BE', 'ZA', 'HT', 'CZ', 'NI', 'PA', 'FR', 'BI', 'IT', 'SL', 'PE',\n",
       "       'DK', 'ZM', 'TG', 'MN', 'ZW', 'NO', None, 'us', 'in', 'ke', 'gt',\n",
       "       'ch', 'gb', 'tz', 'pt', 'lt', 'co', 'cr', 'cg', 'mx', 'au', 'th',\n",
       "       'it', 'de', 'pe', 'ni', 'rs', 'ug', 'za', 'mg', 'bi', 'vn', 'br',\n",
       "       'mw', 'gh', 'KI', 'GL', 'DO', 'BZ', 'VE', 'PR', 'JM', 'BQ', 'BS',\n",
       "       'BB', 'SV', 'CU', 'AN', 'AW', 'PY', 'UY', 'PT', 'IS', 'FO', 'GN',\n",
       "       'LR', 'GM', 'MR', 'SN', 'BF', 'ML', 'MA', 'SE', 'RO', 'RU', 'AT',\n",
       "       'GE', 'TR', 'PL', 'SI', 'BA', 'HU', 'SK', 'HR', 'RS', 'BG', 'CH',\n",
       "       'EE', 'NL', 'NE', 'TD', 'LB', 'GR', 'DZ', 'SS', 'BJ', 'SA', 'IL',\n",
       "       'IQ', 'MT', 'SD', 'TN', 'YE', 'ER', 'CF', 'CY', '', 'SY', 'ST',\n",
       "       'RW', 'AO', 'BW', 'KM', 'CG', 'LS', 'KZ', 'KG', 'UZ', 'AF', 'PK',\n",
       "       'LK', 'MV', 'BH', 'TM', 'BT', 'SO', 'AZ', 'MU', 'SC', 'CN', 'KH',\n",
       "       'MY', 'KR', 'HK', 'LA', 'MM', 'TL', 'JP', 'GU', 'NZ', 'FJ', 'PG',\n",
       "       'SB', nan, 'Peru', 'Myanmar', 'Colombia', 'Mexico', 'Uganda',\n",
       "       'Tanzania', 'Sri Lanka', 'Poland', 'Guatemala', 'United States',\n",
       "       'Cameroon', 'Canada', 'China', 'Paraguay', 'Trinidad and Tobago',\n",
       "       'East Timor', 'Senegal', 'Uruguay', 'Panama', 'Kenya',\n",
       "       'Democratic Republic of Congo', 'Mozambique', 'Brazil', 'India',\n",
       "       'France', 'Indonesia', 'Australia', 'Costa Rica', 'Liberia',\n",
       "       'Argentina', 'Cambodia', 'Burkina Faso', 'Laos', 'Malawi',\n",
       "       'Vanuatu', 'South Africa', 'Nicaragua', 'Mauritius', 'Chile',\n",
       "       'Georgia', 'Romania', 'Albania', 'Ghana', 'United Kingdom',\n",
       "       'Spain', 'Togo', 'Bolivia', 'Madagascar', 'Vietnam', 'Philippines',\n",
       "       'Ethiopia', 'Germany', 'Nepal', 'Ecuador', 'Sierra Leone',\n",
       "       'Moldova', 'Latvia', 'Italy', 'Thailand', 'New Zealand', 'Russia',\n",
       "       'Honduras', 'Hungary', 'Sweden', 'Belgium', 'Mali', 'Rwanda',\n",
       "       'Haiti', 'Japan'], dtype=object)"
      ]
     },
     "execution_count": 30,
     "metadata": {},
     "output_type": "execute_result"
    }
   ],
   "source": [
    "gdf_filtered.country.unique()"
   ]
  },
  {
   "cell_type": "code",
   "execution_count": 31,
   "metadata": {},
   "outputs": [],
   "source": [
    "country_to_iso2 = {}\n",
    "\n",
    "for country in pycountry.countries:\n",
    "    country_to_iso2[country.alpha_2.lower()] = country.alpha_2.lower()\n",
    "    country_to_iso2[country.name.lower()] = country.alpha_2.lower()\n",
    "\n",
    "gdf_filtered['country'] = gdf_filtered['country'].apply(lambda country: country_to_iso2.get(country.lower(), None) if pd.notna(country) else None)"
   ]
  },
  {
   "cell_type": "markdown",
   "metadata": {},
   "source": [
    "Fix datatypes"
   ]
  },
  {
   "cell_type": "code",
   "execution_count": 32,
   "metadata": {},
   "outputs": [],
   "source": [
    "gdf_filtered['site_id_reported'] = gdf_filtered['site_id_reported'].astype(str)\n",
    "gdf_filtered['project_id_reported'] = gdf_filtered['project_id_reported'].astype(str)\n",
    "gdf_filtered['trees_planted_reported'] = gdf_filtered['trees_planted_reported'].astype(float)\n",
    "gdf_filtered['survival_rate_reported'] = gdf_filtered['survival_rate_reported'].astype(float)\n"
   ]
  },
  {
   "cell_type": "code",
   "execution_count": 33,
   "metadata": {},
   "outputs": [
    {
     "data": {
      "text/plain": [
       "0      POLYGON ((-49.95883 -9.35107, -49.95976 -9.351...\n",
       "1      POLYGON ((-43.4725 -22.48945, -43.47236 -22.48...\n",
       "2      POLYGON ((-43.462 -22.4779, -43.46583 -22.4875...\n",
       "3      POLYGON ((-43.46833 -22.4919, -43.46834 -22.49...\n",
       "4      POLYGON ((-1.99088 8.22041, -1.99354 8.23531, ...\n",
       "                             ...                        \n",
       "399    POLYGON ((-99.79492 20.06158, -99.79477 20.061...\n",
       "400    POLYGON ((-99.52344 19.92507, -99.52355 19.925...\n",
       "401    POLYGON ((-100.12657 19.33874, -100.12582 19.3...\n",
       "402    POLYGON ((-99.93197 19.20798, -99.93201 19.208...\n",
       "403    POLYGON ((-100.1359 19.44393, -100.13585 19.44...\n",
       "Name: geometry, Length: 400, dtype: geometry"
      ]
     },
     "execution_count": 33,
     "metadata": {},
     "output_type": "execute_result"
    }
   ],
   "source": [
    "gdf_filtered[\"geometry\"][:400]"
   ]
  },
  {
   "cell_type": "code",
   "execution_count": 34,
   "metadata": {},
   "outputs": [
    {
     "data": {
      "text/html": [
       "<div>\n",
       "<style scoped>\n",
       "    .dataframe tbody tr th:only-of-type {\n",
       "        vertical-align: middle;\n",
       "    }\n",
       "\n",
       "    .dataframe tbody tr th {\n",
       "        vertical-align: top;\n",
       "    }\n",
       "\n",
       "    .dataframe thead th {\n",
       "        text-align: right;\n",
       "    }\n",
       "</style>\n",
       "<table border=\"1\" class=\"dataframe\">\n",
       "  <thead>\n",
       "    <tr style=\"text-align: right;\">\n",
       "      <th></th>\n",
       "      <th>project_id_reported</th>\n",
       "      <th>site_id_reported</th>\n",
       "      <th>site_description_reported</th>\n",
       "      <th>site_sqkm</th>\n",
       "      <th>trees_planted_reported</th>\n",
       "      <th>country</th>\n",
       "      <th>project_description_reported</th>\n",
       "      <th>planting_date_reported</th>\n",
       "      <th>survival_rate_reported</th>\n",
       "      <th>host_name</th>\n",
       "      <th>...</th>\n",
       "      <th>species_count_reported</th>\n",
       "      <th>species_planted_reported</th>\n",
       "      <th>planting_date_type</th>\n",
       "      <th>project_geometries_invalid</th>\n",
       "      <th>geometry</th>\n",
       "      <th>site_sqkm_reported</th>\n",
       "      <th>Creator</th>\n",
       "      <th>site_id_created</th>\n",
       "      <th>project_pdf_available</th>\n",
       "      <th>project_id_created</th>\n",
       "    </tr>\n",
       "  </thead>\n",
       "  <tbody>\n",
       "    <tr>\n",
       "      <th>0</th>\n",
       "      <td>proj_ezpAp1POh20dBnYpx0BjhU35</td>\n",
       "      <td>site_W97pqKxXURFOA1E</td>\n",
       "      <td>Farm for the Future demonstration plot</td>\n",
       "      <td>0.013591</td>\n",
       "      <td>313.0</td>\n",
       "      <td>br</td>\n",
       "      <td>This project will be implemented at Farm of th...</td>\n",
       "      <td>NaN</td>\n",
       "      <td>80.0</td>\n",
       "      <td>Planet for the Planet</td>\n",
       "      <td>...</td>\n",
       "      <td>NaN</td>\n",
       "      <td>None</td>\n",
       "      <td>planting_date</td>\n",
       "      <td>False</td>\n",
       "      <td>POLYGON ((-49.958833158016205 -9.3510733412391...</td>\n",
       "      <td>NaN</td>\n",
       "      <td>NaN</td>\n",
       "      <td>NaN</td>\n",
       "      <td>NaN</td>\n",
       "      <td>NaN</td>\n",
       "    </tr>\n",
       "    <tr>\n",
       "      <th>1</th>\n",
       "      <td>proj_ZCspL8JYmUu0OXcx6O73I1j0</td>\n",
       "      <td>site_NekKEGqkIO4rZ5C</td>\n",
       "      <td>The area to be reforested is around the Tinguá...</td>\n",
       "      <td>0.631388</td>\n",
       "      <td>3573.0</td>\n",
       "      <td>br</td>\n",
       "      <td>ITPA was born in 1998, from the initiative of ...</td>\n",
       "      <td>2012.0</td>\n",
       "      <td>90.0</td>\n",
       "      <td>Planet for the Planet</td>\n",
       "      <td>...</td>\n",
       "      <td>NaN</td>\n",
       "      <td>None</td>\n",
       "      <td>planting_date</td>\n",
       "      <td>False</td>\n",
       "      <td>POLYGON ((-43.472501 -22.489448, -43.472365 -2...</td>\n",
       "      <td>NaN</td>\n",
       "      <td>NaN</td>\n",
       "      <td>NaN</td>\n",
       "      <td>NaN</td>\n",
       "      <td>NaN</td>\n",
       "    </tr>\n",
       "    <tr>\n",
       "      <th>2</th>\n",
       "      <td>proj_ZCspL8JYmUu0OXcx6O73I1j0</td>\n",
       "      <td>site_Wl3hF91IBkei1Xy</td>\n",
       "      <td>The area to be reforested is around the Tinguá...</td>\n",
       "      <td>3.076566</td>\n",
       "      <td>3573.0</td>\n",
       "      <td>br</td>\n",
       "      <td>ITPA was born in 1998, from the initiative of ...</td>\n",
       "      <td>2012.0</td>\n",
       "      <td>90.0</td>\n",
       "      <td>Planet for the Planet</td>\n",
       "      <td>...</td>\n",
       "      <td>NaN</td>\n",
       "      <td>None</td>\n",
       "      <td>planting_date</td>\n",
       "      <td>False</td>\n",
       "      <td>POLYGON ((-43.462002 -22.477901, -43.46583 -22...</td>\n",
       "      <td>NaN</td>\n",
       "      <td>NaN</td>\n",
       "      <td>NaN</td>\n",
       "      <td>NaN</td>\n",
       "      <td>NaN</td>\n",
       "    </tr>\n",
       "    <tr>\n",
       "      <th>3</th>\n",
       "      <td>proj_ZCspL8JYmUu0OXcx6O73I1j0</td>\n",
       "      <td>site_qHUXswEmePqou5T</td>\n",
       "      <td>The area to be reforested is around the Tinguá...</td>\n",
       "      <td>0.304860</td>\n",
       "      <td>3573.0</td>\n",
       "      <td>br</td>\n",
       "      <td>ITPA was born in 1998, from the initiative of ...</td>\n",
       "      <td>2012.0</td>\n",
       "      <td>90.0</td>\n",
       "      <td>Planet for the Planet</td>\n",
       "      <td>...</td>\n",
       "      <td>NaN</td>\n",
       "      <td>None</td>\n",
       "      <td>planting_date</td>\n",
       "      <td>False</td>\n",
       "      <td>POLYGON ((-43.468334 -22.491903, -43.468336 -2...</td>\n",
       "      <td>NaN</td>\n",
       "      <td>NaN</td>\n",
       "      <td>NaN</td>\n",
       "      <td>NaN</td>\n",
       "      <td>NaN</td>\n",
       "    </tr>\n",
       "    <tr>\n",
       "      <th>4</th>\n",
       "      <td>proj_nXBzA2sbX2tm1D75p7bfJ81Z</td>\n",
       "      <td>site_2ITLGnOa3jbDUFa</td>\n",
       "      <td>Plant-for-Ghana is a pioneer reforestation pro...</td>\n",
       "      <td>2.720114</td>\n",
       "      <td>49319.0</td>\n",
       "      <td>gh</td>\n",
       "      <td>Plant-for-Ghana is a hybrid restoration agrofo...</td>\n",
       "      <td>2021.0</td>\n",
       "      <td>93.0</td>\n",
       "      <td>Planet for the Planet</td>\n",
       "      <td>...</td>\n",
       "      <td>NaN</td>\n",
       "      <td>None</td>\n",
       "      <td>planting_date</td>\n",
       "      <td>False</td>\n",
       "      <td>POLYGON ((-1.9908797494838661 8.22041325747265...</td>\n",
       "      <td>NaN</td>\n",
       "      <td>NaN</td>\n",
       "      <td>NaN</td>\n",
       "      <td>NaN</td>\n",
       "      <td>NaN</td>\n",
       "    </tr>\n",
       "  </tbody>\n",
       "</table>\n",
       "<p>5 rows × 21 columns</p>\n",
       "</div>"
      ],
      "text/plain": [
       "             project_id_reported      site_id_reported  \\\n",
       "0  proj_ezpAp1POh20dBnYpx0BjhU35  site_W97pqKxXURFOA1E   \n",
       "1  proj_ZCspL8JYmUu0OXcx6O73I1j0  site_NekKEGqkIO4rZ5C   \n",
       "2  proj_ZCspL8JYmUu0OXcx6O73I1j0  site_Wl3hF91IBkei1Xy   \n",
       "3  proj_ZCspL8JYmUu0OXcx6O73I1j0  site_qHUXswEmePqou5T   \n",
       "4  proj_nXBzA2sbX2tm1D75p7bfJ81Z  site_2ITLGnOa3jbDUFa   \n",
       "\n",
       "                           site_description_reported  site_sqkm  \\\n",
       "0             Farm for the Future demonstration plot   0.013591   \n",
       "1  The area to be reforested is around the Tinguá...   0.631388   \n",
       "2  The area to be reforested is around the Tinguá...   3.076566   \n",
       "3  The area to be reforested is around the Tinguá...   0.304860   \n",
       "4  Plant-for-Ghana is a pioneer reforestation pro...   2.720114   \n",
       "\n",
       "   trees_planted_reported country  \\\n",
       "0                   313.0      br   \n",
       "1                  3573.0      br   \n",
       "2                  3573.0      br   \n",
       "3                  3573.0      br   \n",
       "4                 49319.0      gh   \n",
       "\n",
       "                        project_description_reported planting_date_reported  \\\n",
       "0  This project will be implemented at Farm of th...                    NaN   \n",
       "1  ITPA was born in 1998, from the initiative of ...                 2012.0   \n",
       "2  ITPA was born in 1998, from the initiative of ...                 2012.0   \n",
       "3  ITPA was born in 1998, from the initiative of ...                 2012.0   \n",
       "4  Plant-for-Ghana is a hybrid restoration agrofo...                 2021.0   \n",
       "\n",
       "   survival_rate_reported              host_name  ... species_count_reported  \\\n",
       "0                    80.0  Planet for the Planet  ...                    NaN   \n",
       "1                    90.0  Planet for the Planet  ...                    NaN   \n",
       "2                    90.0  Planet for the Planet  ...                    NaN   \n",
       "3                    90.0  Planet for the Planet  ...                    NaN   \n",
       "4                    93.0  Planet for the Planet  ...                    NaN   \n",
       "\n",
       "   species_planted_reported planting_date_type project_geometries_invalid  \\\n",
       "0                      None      planting_date                      False   \n",
       "1                      None      planting_date                      False   \n",
       "2                      None      planting_date                      False   \n",
       "3                      None      planting_date                      False   \n",
       "4                      None      planting_date                      False   \n",
       "\n",
       "                                            geometry site_sqkm_reported  \\\n",
       "0  POLYGON ((-49.958833158016205 -9.3510733412391...                NaN   \n",
       "1  POLYGON ((-43.472501 -22.489448, -43.472365 -2...                NaN   \n",
       "2  POLYGON ((-43.462002 -22.477901, -43.46583 -22...                NaN   \n",
       "3  POLYGON ((-43.468334 -22.491903, -43.468336 -2...                NaN   \n",
       "4  POLYGON ((-1.9908797494838661 8.22041325747265...                NaN   \n",
       "\n",
       "   Creator site_id_created  project_pdf_available project_id_created  \n",
       "0      NaN             NaN                    NaN                NaN  \n",
       "1      NaN             NaN                    NaN                NaN  \n",
       "2      NaN             NaN                    NaN                NaN  \n",
       "3      NaN             NaN                    NaN                NaN  \n",
       "4      NaN             NaN                    NaN                NaN  \n",
       "\n",
       "[5 rows x 21 columns]"
      ]
     },
     "execution_count": 34,
     "metadata": {},
     "output_type": "execute_result"
    }
   ],
   "source": [
    "\n",
    "\n",
    "def split_multipolygon(row):\n",
    "    geom = row['geometry']\n",
    "    if geom is None:\n",
    "        return [{**row.to_dict(), 'geometry': None}]\n",
    "    if isinstance(geom, str):\n",
    "        geom = wkt.loads(geom)\n",
    "    if isinstance(geom, MultiPolygon):\n",
    "        return [{**row.to_dict(), 'geometry': poly.wkt} for poly in geom.geoms]\n",
    "    else:\n",
    "        return [{**row.to_dict(), 'geometry': geom.wkt}]\n",
    "\n",
    "expanded_rows = gdf_filtered.apply(split_multipolygon, axis=1).explode().reset_index(drop=True)\n",
    "expanded_gdf = gpd.GeoDataFrame(expanded_rows.tolist())\n",
    "\n",
    "expanded_gdf.head()"
   ]
  },
  {
   "cell_type": "markdown",
   "metadata": {},
   "source": [
    "Create unique site and project ids"
   ]
  },
  {
   "cell_type": "code",
   "execution_count": 35,
   "metadata": {},
   "outputs": [],
   "source": [
    "\n",
    "expanded_gdf['project_id_created'] = pd.factorize(expanded_gdf['project_id_reported'].astype(str) + '-' + expanded_gdf['host_name'].astype(str))[0]"
   ]
  },
  {
   "cell_type": "code",
   "execution_count": 36,
   "metadata": {},
   "outputs": [],
   "source": [
    "\n",
    "if 'site_id_created' in expanded_gdf.columns:\n",
    "    expanded_gdf.drop(columns=['site_id_created'], inplace=True)\n",
    "\n",
    "\n",
    "expanded_gdf.reset_index(names='site_id_created', inplace=True)"
   ]
  },
  {
   "cell_type": "code",
   "execution_count": 37,
   "metadata": {},
   "outputs": [
    {
     "name": "stdout",
     "output_type": "stream",
     "text": [
      "<class 'geopandas.geodataframe.GeoDataFrame'>\n",
      "RangeIndex: 1289644 entries, 0 to 1289643\n",
      "Data columns (total 21 columns):\n",
      " #   Column                        Non-Null Count    Dtype  \n",
      "---  ------                        --------------    -----  \n",
      " 0   site_id_created               1289644 non-null  int64  \n",
      " 1   project_id_reported           1289644 non-null  object \n",
      " 2   site_id_reported              1289644 non-null  object \n",
      " 3   site_description_reported     3695 non-null     object \n",
      " 4   site_sqkm                     1284198 non-null  float64\n",
      " 5   trees_planted_reported        3409 non-null     float64\n",
      " 6   country                       56606 non-null    object \n",
      " 7   project_description_reported  1267105 non-null  object \n",
      " 8   planting_date_reported        1266869 non-null  object \n",
      " 9   survival_rate_reported        2578 non-null     float64\n",
      " 10  host_name                     1289140 non-null  object \n",
      " 11  url                           1289644 non-null  object \n",
      " 12  species_count_reported        0 non-null        float64\n",
      " 13  species_planted_reported      176 non-null      object \n",
      " 14  planting_date_type            1227596 non-null  object \n",
      " 15  project_geometries_invalid    1289637 non-null  object \n",
      " 16  geometry                      1289643 non-null  object \n",
      " 17  site_sqkm_reported            337 non-null      float64\n",
      " 18  Creator                       94 non-null       object \n",
      " 19  project_pdf_available         504 non-null      object \n",
      " 20  project_id_created            1289644 non-null  int64  \n",
      "dtypes: float64(5), int64(2), object(14)\n",
      "memory usage: 206.6+ MB\n"
     ]
    }
   ],
   "source": [
    "expanded_gdf.info()"
   ]
  },
  {
   "cell_type": "markdown",
   "metadata": {},
   "source": []
  },
  {
   "cell_type": "code",
   "execution_count": 38,
   "metadata": {},
   "outputs": [],
   "source": [
    "\n",
    "expanded_gdf['geometry'] = expanded_gdf['geometry'].apply(wkt.loads)  "
   ]
  },
  {
   "cell_type": "code",
   "execution_count": 39,
   "metadata": {},
   "outputs": [
    {
     "name": "stdout",
     "output_type": "stream",
     "text": [
      "Is expanded_gdf a GeoDataFrame? True\n"
     ]
    }
   ],
   "source": [
    "\n",
    "is_geodataframe = isinstance(expanded_gdf, gpd.GeoDataFrame)\n",
    "\n",
    "print(f\"Is expanded_gdf a GeoDataFrame? {is_geodataframe}\")"
   ]
  },
  {
   "cell_type": "code",
   "execution_count": 40,
   "metadata": {},
   "outputs": [
    {
     "name": "stderr",
     "output_type": "stream",
     "text": [
      "/Users/angela/Library/Python/3.9/lib/python/site-packages/geopandas/geoseries.py:860: UserWarning: GeoSeries.notna() previously returned False for both missing (None) and empty geometries. Now, it only returns False for missing values. Since the calling GeoSeries contains empty geometries, the result has changed compared to previous versions of GeoPandas.\n",
      "Given a GeoSeries 's', you can use '~s.is_empty & s.notna()' to get back the old behaviour.\n",
      "\n",
      "To further ignore this warning, you can do: \n",
      "import warnings; warnings.filterwarnings('ignore', 'GeoSeries.notna', UserWarning)\n",
      "  return self.notna()\n",
      "/var/folders/_l/gj90rjl90fngb4_8ph5x5jhc0000gn/T/ipykernel_44544/2902293730.py:4: ShapelyDeprecationWarning: The 'type' attribute is deprecated, and will be removed in the future. You can use the 'geom_type' attribute instead.\n",
      "  points_gdf = expanded_gdf[expanded_gdf['geometry'].apply(lambda geom: geom.type == 'Point')]\n"
     ]
    },
    {
     "name": "stdout",
     "output_type": "stream",
     "text": [
      "<class 'geopandas.geodataframe.GeoDataFrame'>\n",
      "Index: 87814 entries, 16912 to 1289139\n",
      "Data columns (total 21 columns):\n",
      " #   Column                        Non-Null Count  Dtype   \n",
      "---  ------                        --------------  -----   \n",
      " 0   site_id_created               87814 non-null  int64   \n",
      " 1   project_id_reported           87814 non-null  object  \n",
      " 2   site_id_reported              87814 non-null  object  \n",
      " 3   site_description_reported     0 non-null      object  \n",
      " 4   site_sqkm                     82368 non-null  float64 \n",
      " 5   trees_planted_reported        0 non-null      float64 \n",
      " 6   country                       320 non-null    object  \n",
      " 7   project_description_reported  84805 non-null  object  \n",
      " 8   planting_date_reported        82383 non-null  object  \n",
      " 9   survival_rate_reported        0 non-null      float64 \n",
      " 10  host_name                     87814 non-null  object  \n",
      " 11  url                           87814 non-null  object  \n",
      " 12  species_count_reported        0 non-null      float64 \n",
      " 13  species_planted_reported      0 non-null      object  \n",
      " 14  planting_date_type            82458 non-null  object  \n",
      " 15  project_geometries_invalid    87807 non-null  object  \n",
      " 16  geometry                      87814 non-null  geometry\n",
      " 17  site_sqkm_reported            243 non-null    float64 \n",
      " 18  Creator                       0 non-null      object  \n",
      " 19  project_pdf_available         0 non-null      object  \n",
      " 20  project_id_created            87814 non-null  int64   \n",
      "dtypes: float64(5), geometry(1), int64(2), object(13)\n",
      "memory usage: 14.7+ MB\n"
     ]
    }
   ],
   "source": [
    "\n",
    "\n",
    "expanded_gdf = expanded_gdf[expanded_gdf['geometry'].notnull()]\n",
    "\n",
    "\n",
    "points_gdf = expanded_gdf[expanded_gdf['geometry'].apply(lambda geom: geom.type == 'Point')]\n",
    "\n",
    "# points_gdf['derived_geometry'] = points_gdf['geometry'].buffer(100)\n",
    "\n",
    "\n",
    "points_gdf.info()"
   ]
  },
  {
   "cell_type": "code",
   "execution_count": 41,
   "metadata": {},
   "outputs": [],
   "source": [
    "\n",
    "points_gdf = points_gdf.set_geometry(\"geometry\")\n",
    "\n",
    "\n",
    "points_gdf = points_gdf.set_crs(\"EPSG:4326\", allow_override=True)\n",
    "\n",
    "\n",
    "points_gdf.to_parquet(\"../midsave/Onlypoints_data.parquet\")"
   ]
  },
  {
   "cell_type": "code",
   "execution_count": 42,
   "metadata": {},
   "outputs": [
    {
     "name": "stdout",
     "output_type": "stream",
     "text": [
      "EPSG:4326\n"
     ]
    }
   ],
   "source": [
    "print(points_gdf.crs)"
   ]
  },
  {
   "cell_type": "code",
   "execution_count": 43,
   "metadata": {},
   "outputs": [
    {
     "data": {
      "text/plain": [
       "array([ 80.,  90.,  93.,  83.,  95.,  78.,  98.,  nan,  92.,  50.,  70.,\n",
       "        89.,  94.,  85.,  99.,  87., 100.,  73.,  75.,  60.,  91.,  82.,\n",
       "        68.,  69.,  65.,  88.,  97.,   0.])"
      ]
     },
     "execution_count": 43,
     "metadata": {},
     "output_type": "execute_result"
    }
   ],
   "source": [
    "expanded_gdf.survival_rate_reported.unique()"
   ]
  },
  {
   "cell_type": "code",
   "execution_count": 44,
   "metadata": {},
   "outputs": [
    {
     "name": "stdout",
     "output_type": "stream",
     "text": [
      "<class 'geopandas.geodataframe.GeoDataFrame'>\n",
      "Index: 1289643 entries, 0 to 1289643\n",
      "Data columns (total 21 columns):\n",
      " #   Column                        Non-Null Count    Dtype   \n",
      "---  ------                        --------------    -----   \n",
      " 0   site_id_created               1289643 non-null  int64   \n",
      " 1   project_id_reported           1289643 non-null  object  \n",
      " 2   site_id_reported              1289643 non-null  object  \n",
      " 3   site_description_reported     3694 non-null     object  \n",
      " 4   site_sqkm                     1284197 non-null  float64 \n",
      " 5   trees_planted_reported        3408 non-null     float64 \n",
      " 6   country                       56605 non-null    object  \n",
      " 7   project_description_reported  1267104 non-null  object  \n",
      " 8   planting_date_reported        1266869 non-null  object  \n",
      " 9   survival_rate_reported        2577 non-null     float64 \n",
      " 10  host_name                     1289139 non-null  object  \n",
      " 11  url                           1289643 non-null  object  \n",
      " 12  species_count_reported        0 non-null        float64 \n",
      " 13  species_planted_reported      176 non-null      object  \n",
      " 14  planting_date_type            1227595 non-null  object  \n",
      " 15  project_geometries_invalid    1289636 non-null  object  \n",
      " 16  geometry                      1289643 non-null  geometry\n",
      " 17  site_sqkm_reported            337 non-null      float64 \n",
      " 18  Creator                       94 non-null       object  \n",
      " 19  project_pdf_available         504 non-null      object  \n",
      " 20  project_id_created            1289643 non-null  int64   \n",
      "dtypes: float64(5), geometry(1), int64(2), object(13)\n",
      "memory usage: 216.5+ MB\n"
     ]
    }
   ],
   "source": [
    "expanded_gdf.info()"
   ]
  },
  {
   "cell_type": "code",
   "execution_count": 46,
   "metadata": {},
   "outputs": [
    {
     "name": "stdout",
     "output_type": "stream",
     "text": [
      "Is expanded_gdf a GeoDataFrame? True\n",
      "object\n"
     ]
    }
   ],
   "source": [
    "\n",
    "is_geodataframe = isinstance(expanded_gdf, gpd.GeoDataFrame)\n",
    "print(f\"Is expanded_gdf a GeoDataFrame? {is_geodataframe}\")\n",
    "\n",
    "if is_geodataframe:\n",
    "   \n",
    "    expanded_gdf['planting_date_reported'] = pd.to_datetime(expanded_gdf['planting_date_reported'], errors='coerce')\n",
    "    \n",
    " \n",
    "    print(expanded_gdf['project_geometries_invalid'].dtype)\n",
    "    \n",
    "   \n",
    "    expanded_gdf['project_geometries_invalid'] = expanded_gdf['project_geometries_invalid'].astype(bool, errors='ignore')\n",
    "    \n",
    " \n",
    "    expanded_gdf = expanded_gdf.set_geometry(\"geometry\")\n",
    "    \n",
    "\n",
    "    expanded_gdf.to_parquet(\"../midsave/consolidated_reforestation_projects.parquet\")"
   ]
  },
  {
   "cell_type": "code",
   "execution_count": 47,
   "metadata": {},
   "outputs": [],
   "source": [
    "# import geopandas as gpd\n",
    "# expanded_gdf= gpd.read_parquet(\"../midsave/consolidated_reforestation_projects.parquet\")\n",
    "# expanded_gdf.info()"
   ]
  },
  {
   "cell_type": "code",
   "execution_count": 48,
   "metadata": {},
   "outputs": [
    {
     "name": "stdout",
     "output_type": "stream",
     "text": [
      "<class 'geopandas.geodataframe.GeoDataFrame'>\n",
      "RangeIndex: 1229172 entries, 0 to 1229171\n",
      "Data columns (total 66 columns):\n",
      " #   Column                        Non-Null Count    Dtype   \n",
      "---  ------                        --------------    -----   \n",
      " 0   site_id_created               1229172 non-null  int64   \n",
      " 1   project_id_reported           1229172 non-null  object  \n",
      " 2   site_description_reported     1695 non-null     object  \n",
      " 3   site_sqkm                     1229172 non-null  float64 \n",
      " 4   trees_planted_reported        4348 non-null     float64 \n",
      " 5   country                       5029 non-null     object  \n",
      " 6   project_description_reported  1228608 non-null  object  \n",
      " 7   planting_date_reported        1229172 non-null  object  \n",
      " 8   survival_rate_reported        2513 non-null     float64 \n",
      " 9   host_name                     1229172 non-null  object  \n",
      " 10  url                           1229172 non-null  object  \n",
      " 11  species_count_reported        0 non-null        float64 \n",
      " 12  species_planted_reported      171 non-null      object  \n",
      " 13  geometry                      1229172 non-null  geometry\n",
      " 14  Creator                       94 non-null       object  \n",
      " 15  project_id_created            1229172 non-null  int64   \n",
      " 16  Top_Three_NDVI_Months         1221263 non-null  object  \n",
      " 17  tree_cover_area_2000          1221263 non-null  float64 \n",
      " 18  tree_cover_area_2005          1221263 non-null  float64 \n",
      " 19  tree_cover_area_2010          1221263 non-null  float64 \n",
      " 20  tree_cover_area_2015          1221263 non-null  float64 \n",
      " 21  tree_cover_area_2020          1221263 non-null  float64 \n",
      " 22  Nested_in                     420272 non-null   object  \n",
      " 23  project_id                    747133 non-null   object  \n",
      " 24  Biomass_change_1year_after    524782 non-null   float64 \n",
      " 25  Biomass_change_1year_before   473436 non-null   float64 \n",
      " 26  Biomass_change_2years_after   487842 non-null   float64 \n",
      " 27  Biomass_change_5years_after   19086 non-null    float64 \n",
      " 28  intersect_with                242144 non-null   object  \n",
      " 29  other_land_cover_area_2020    1218674 non-null  float64 \n",
      " 30  built_area_2018               1062500 non-null  float64 \n",
      " 31  intersecting_roads_count      1046600 non-null  float64 \n",
      " 32  total_road_length_km          1046600 non-null  float64 \n",
      " 33  mean_elevation                990746 non-null   float64 \n",
      " 34  mean_slope                    990746 non-null   float64 \n",
      " 35  loss_pre_5                    741808 non-null   float64 \n",
      " 36  loss_post_3                   726348 non-null   float64 \n",
      " 37  loss_post_5                   726348 non-null   float64 \n",
      " 38  avg_precip_planting_year      722946 non-null   float64 \n",
      " 39  avg_precip_1_year_after       698332 non-null   object  \n",
      " 40  avg_precip_2_years_after      578377 non-null   object  \n",
      " 41  avg_precip_5_years_after      446256 non-null   object  \n",
      " 42  Intersecting_with             1229172 non-null  object  \n",
      " 43  Intersection_Area_sqkm        1229172 non-null  float64 \n",
      " 44  geometry_type                 1153220 non-null  object  \n",
      " 45  SAVI_Polygon_1YearAfter       884447 non-null   float64 \n",
      " 46  SAVI_Polygon_1YearBefore      754850 non-null   float64 \n",
      " 47  SAVI_Polygon_2YearsAfter      846805 non-null   float64 \n",
      " 48  SAVI_Polygon_At_Planting      843618 non-null   float64 \n",
      " 49  SAVI_Polygon_5YearsAfter      328517 non-null   float64 \n",
      " 50  NDRE_Polygon_1YearAfter       860606 non-null   float64 \n",
      " 51  NDRE_Polygon_1YearBefore      736428 non-null   float64 \n",
      " 52  NDRE_Polygon_2YearsAfter      821692 non-null   float64 \n",
      " 53  NDRE_Polygon_At_Planting      785201 non-null   float64 \n",
      " 54  NDRE_Polygon_5YearsAfter      322451 non-null   float64 \n",
      " 55  NDVI_Polygon_1YearAfter       897420 non-null   float64 \n",
      " 56  NDVI_Polygon_1YearBefore      773444 non-null   float64 \n",
      " 57  NDVI_Polygon_2YearsAfter      858271 non-null   float64 \n",
      " 58  NDVI_Polygon_At_Planting      862948 non-null   float64 \n",
      " 59  NDVI_Polygon_5YearsAfter      336417 non-null   float64 \n",
      " 60  site_id_reported              1229172 non-null  object  \n",
      " 61  NDVI_Buffer_1YearBefore       361426 non-null   float64 \n",
      " 62  NDVI_Buffer_At_Planting       461197 non-null   float64 \n",
      " 63  NDVI_Buffer_1YearAfter        450693 non-null   float64 \n",
      " 64  NDVI_Buffer_2YearsAfter       419358 non-null   float64 \n",
      " 65  NDVI_Buffer_5YearsAfter       179684 non-null   float64 \n",
      "dtypes: float64(44), geometry(1), int64(2), object(19)\n",
      "memory usage: 618.9+ MB\n"
     ]
    }
   ],
   "source": [
    "# df = gpd.read_parquet(\"/Users/angela/Downloads/newest_consolidated_reforestation_projects_with_cicular.parquet\")\n",
    "df=gpd.read_parquet(\"/Users/angela/Downloads/new_updated_reforestation_projects 1.parquet\")\n",
    "df.info()"
   ]
  },
  {
   "cell_type": "code",
   "execution_count": 50,
   "metadata": {},
   "outputs": [
    {
     "name": "stdout",
     "output_type": "stream",
     "text": [
      "<class 'geopandas.geodataframe.GeoDataFrame'>\n",
      "Index: 59365 entries, 5 to 66717563\n",
      "Data columns (total 21 columns):\n",
      " #   Column                        Non-Null Count  Dtype         \n",
      "---  ------                        --------------  -----         \n",
      " 0   site_id_created               59365 non-null  int64         \n",
      " 1   project_id_reported           59365 non-null  object        \n",
      " 2   site_id_reported              59365 non-null  object        \n",
      " 3   site_description_reported     2004 non-null   object        \n",
      " 4   site_sqkm                     54995 non-null  float64       \n",
      " 5   trees_planted_reported        296 non-null    float64       \n",
      " 6   country                       51582 non-null  object        \n",
      " 7   project_description_reported  39205 non-null  object        \n",
      " 8   planting_date_reported        49881 non-null  datetime64[ns]\n",
      " 9   survival_rate_reported        62 non-null     float64       \n",
      " 10  host_name                     58861 non-null  object        \n",
      " 11  url                           59365 non-null  object        \n",
      " 12  species_count_reported        0 non-null      float64       \n",
      " 13  species_planted_reported      0 non-null      object        \n",
      " 14  planting_date_type            387 non-null    object        \n",
      " 15  project_geometries_invalid    59365 non-null  bool          \n",
      " 16  geometry                      59365 non-null  geometry      \n",
      " 17  site_sqkm_reported            243 non-null    float64       \n",
      " 18  Creator                       0 non-null      object        \n",
      " 19  project_pdf_available         504 non-null    object        \n",
      " 20  project_id_created            59365 non-null  int64         \n",
      "dtypes: bool(1), datetime64[ns](1), float64(5), geometry(1), int64(2), object(11)\n",
      "memory usage: 9.6+ MB\n"
     ]
    }
   ],
   "source": [
    "\n",
    "filtered_expanded_df = expanded_gdf.merge(df[['site_id_reported']], on='site_id_reported', how='left', indicator=True)\n",
    "filtered_expanded_df = filtered_expanded_df[filtered_expanded_df['_merge'] == 'left_only'].drop(columns=['_merge'])\n",
    "\n",
    "# Display the filtered dataframe\n",
    "filtered_expanded_df.info()"
   ]
  },
  {
   "cell_type": "code",
   "execution_count": 51,
   "metadata": {},
   "outputs": [],
   "source": [
    "filtered_expanded_df.to_parquet(\"../midsave/additional_reforestation_projects.parquet\")"
   ]
  }
 ],
 "metadata": {
  "kernelspec": {
   "display_name": "Python 3 (ipykernel)",
   "language": "python",
   "name": "python3"
  },
  "language_info": {
   "codemirror_mode": {
    "name": "ipython",
    "version": 3
   },
   "file_extension": ".py",
   "mimetype": "text/x-python",
   "name": "python",
   "nbconvert_exporter": "python",
   "pygments_lexer": "ipython3",
   "version": "3.9.6"
  },
  "varInspector": {
   "cols": {
    "lenName": 16,
    "lenType": 16,
    "lenVar": 40
   },
   "kernels_config": {
    "python": {
     "delete_cmd_postfix": "",
     "delete_cmd_prefix": "del ",
     "library": "var_list.py",
     "varRefreshCmd": "print(var_dic_list())"
    },
    "r": {
     "delete_cmd_postfix": ") ",
     "delete_cmd_prefix": "rm(",
     "library": "var_list.r",
     "varRefreshCmd": "cat(var_dic_list()) "
    }
   },
   "types_to_exclude": [
    "module",
    "function",
    "builtin_function_or_method",
    "instance",
    "_Feature"
   ],
   "window_display": false
  }
 },
 "nbformat": 4,
 "nbformat_minor": 4
}
