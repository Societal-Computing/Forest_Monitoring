{
 "cells": [
  {
   "cell_type": "markdown",
   "metadata": {},
   "source": [
    "# Consolidating and preprocessing source data"
   ]
  },
  {
   "cell_type": "markdown",
   "metadata": {},
   "source": [
    "In this script, we combine all the sites from the different reforestation projects from different organization to one dataset and do some initial filtering."
   ]
  },
  {
   "cell_type": "code",
   "execution_count": 2,
   "metadata": {},
   "outputs": [],
   "source": [
    "import geopandas as gpd\n",
    "import pandas as pd\n",
    "import numpy as np\n",
    "import pycountry\n",
    "from shapely import wkt\n",
    "from shapely.geometry import MultiPolygon, Polygon\n",
    "import geopandas as gpd"
   ]
  },
  {
   "cell_type": "markdown",
   "metadata": {},
   "source": [
    "### Importing provider data"
   ]
  },
  {
   "cell_type": "markdown",
   "metadata": {},
   "source": [
    "#### Plant_planet_data"
   ]
  },
  {
   "cell_type": "markdown",
   "metadata": {},
   "source": [
    "\n",
    "We extracted the data from https://www.plant-for-the-planet.org as described in the script 'Plant_Planet_Meta_Data_preprocessing.ipynb'."
   ]
  },
  {
   "cell_type": "code",
   "execution_count": 3,
   "metadata": {},
   "outputs": [
    {
     "name": "stdout",
     "output_type": "stream",
     "text": [
      "<class 'geopandas.geodataframe.GeoDataFrame'>\n",
      "RangeIndex: 3060 entries, 0 to 3059\n",
      "Data columns (total 15 columns):\n",
      " #   Column                        Non-Null Count  Dtype   \n",
      "---  ------                        --------------  -----   \n",
      " 0   project_id_reported           3060 non-null   object  \n",
      " 1   site_id_reported              3060 non-null   object  \n",
      " 2   site_description_reported     1726 non-null   object  \n",
      " 3   site_status_reported          3058 non-null   object  \n",
      " 4   site_sqkm                     3060 non-null   float64 \n",
      " 5   trees_planted_reported        3045 non-null   object  \n",
      " 6   country                       3060 non-null   object  \n",
      " 7   project_description_reported  3060 non-null   object  \n",
      " 8   planting_date_reported        2591 non-null   float64 \n",
      " 9   survival_rate_reported        2358 non-null   object  \n",
      " 10  host_name                     3060 non-null   object  \n",
      " 11  url                           3060 non-null   object  \n",
      " 12  species_count_reported        0 non-null      object  \n",
      " 13  species_planted_reported      0 non-null      object  \n",
      " 14  geometry                      3060 non-null   geometry\n",
      "dtypes: float64(2), geometry(1), object(12)\n",
      "memory usage: 358.7+ KB\n"
     ]
    }
   ],
   "source": [
    "df_plant = gpd.read_file(\"../midsave/plant_for_planet.gpkg\")\n",
    "df_plant.info()"
   ]
  },
  {
   "cell_type": "markdown",
   "metadata": {},
   "source": [
    "#### Tree_Nation"
   ]
  },
  {
   "cell_type": "markdown",
   "metadata": {},
   "source": [
    "We extracted and filtered  the data from https://tree-nation.com/projects as described in the script 'Tree_Nation-meta_data_pre.ipynb'."
   ]
  },
  {
   "cell_type": "code",
   "execution_count": 4,
   "metadata": {},
   "outputs": [
    {
     "name": "stdout",
     "output_type": "stream",
     "text": [
      "<class 'geopandas.geodataframe.GeoDataFrame'>\n",
      "RangeIndex: 1238 entries, 0 to 1237\n",
      "Data columns (total 13 columns):\n",
      " #   Column                        Non-Null Count  Dtype   \n",
      "---  ------                        --------------  -----   \n",
      " 0   planting_date_reported        1238 non-null   int32   \n",
      " 1   project_description_reported  1238 non-null   object  \n",
      " 2   site_id_reported              1238 non-null   int64   \n",
      " 3   url                           1238 non-null   object  \n",
      " 4   project_id_reported           1238 non-null   int64   \n",
      " 5   trees_planted_reported        1238 non-null   int64   \n",
      " 6   site_sqkm                     1238 non-null   float64 \n",
      " 7   host_name                     1238 non-null   object  \n",
      " 8   species_count_reported        0 non-null      object  \n",
      " 9   species_planted_reported      0 non-null      object  \n",
      " 10  country                       0 non-null      object  \n",
      " 11  survival_rate_reported        0 non-null      object  \n",
      " 12  geometry                      1178 non-null   geometry\n",
      "dtypes: float64(1), geometry(1), int32(1), int64(3), object(7)\n",
      "memory usage: 121.0+ KB\n"
     ]
    }
   ],
   "source": [
    "df_tn = gpd.read_file(\"../midsave/tree_nation.gpkg\")\n",
    "df_tn.info()"
   ]
  },
  {
   "cell_type": "markdown",
   "metadata": {},
   "source": [
    "#### Open_Forest_protocol"
   ]
  },
  {
   "cell_type": "markdown",
   "metadata": {},
   "source": [
    "We extracted and filtered  the data from https://atlas.openforestprotocol.org/  as described in the script  \"open_forest_projests_Data_filtering.ipynb\"."
   ]
  },
  {
   "cell_type": "code",
   "execution_count": 5,
   "metadata": {},
   "outputs": [
    {
     "name": "stdout",
     "output_type": "stream",
     "text": [
      "<class 'geopandas.geodataframe.GeoDataFrame'>\n",
      "RangeIndex: 112 entries, 0 to 111\n",
      "Data columns (total 13 columns):\n",
      " #   Column                        Non-Null Count  Dtype   \n",
      "---  ------                        --------------  -----   \n",
      " 0   project_id_reported           112 non-null    int64   \n",
      " 1   site_id_reported              112 non-null    int64   \n",
      " 2   project_description_reported  112 non-null    object  \n",
      " 3   site_sqkm                     112 non-null    float64 \n",
      " 4   country                       111 non-null    object  \n",
      " 5   host_name                     112 non-null    object  \n",
      " 6   url                           112 non-null    object  \n",
      " 7   species_count_reported        0 non-null      object  \n",
      " 8   species_planted_reported      0 non-null      object  \n",
      " 9   planting_date_reported        0 non-null      object  \n",
      " 10  survival_rate_reported        0 non-null      object  \n",
      " 11  trees_planted_reported        0 non-null      object  \n",
      " 12  geometry                      103 non-null    geometry\n",
      "dtypes: float64(1), geometry(1), int64(2), object(9)\n",
      "memory usage: 11.5+ KB\n"
     ]
    }
   ],
   "source": [
    "df_atlas = gpd.read_file(\"../midsave/atlas.gpkg\")\n",
    "df_atlas.info()"
   ]
  },
  {
   "cell_type": "markdown",
   "metadata": {},
   "source": [
    "#### Verra"
   ]
  },
  {
   "cell_type": "markdown",
   "metadata": {},
   "source": [
    "We extracted and filtered  the data from https://registry.verra.org  as described in the script  \"extracting_verra_sites.ipynb\"."
   ]
  },
  {
   "cell_type": "code",
   "execution_count": 6,
   "metadata": {},
   "outputs": [
    {
     "name": "stdout",
     "output_type": "stream",
     "text": [
      "<class 'geopandas.geodataframe.GeoDataFrame'>\n",
      "RangeIndex: 1225618 entries, 0 to 1225617\n",
      "Data columns (total 13 columns):\n",
      " #   Column                        Non-Null Count    Dtype   \n",
      "---  ------                        --------------    -----   \n",
      " 0   site_id_reported              1225618 non-null  int64   \n",
      " 1   project_id_reported           1225618 non-null  int64   \n",
      " 2   project_description_reported  1225618 non-null  object  \n",
      " 3   geometry                      1225618 non-null  geometry\n",
      " 4   site_sqkm                     1225618 non-null  float64 \n",
      " 5   status_reported               1225618 non-null  object  \n",
      " 6   country                       0 non-null        object  \n",
      " 7   planting_date_reported        0 non-null        object  \n",
      " 8   url                           1225618 non-null  object  \n",
      " 9   host_name                     1225618 non-null  object  \n",
      " 10  species_count_reported        0 non-null        object  \n",
      " 11  species_planted_reported      0 non-null        object  \n",
      " 12  survival_rate_reported        0 non-null        object  \n",
      "dtypes: float64(1), geometry(1), int64(2), object(9)\n",
      "memory usage: 121.6+ MB\n"
     ]
    }
   ],
   "source": [
    "df_verra = gpd.read_parquet(\"../midsave/verra.parquet\")\n",
    "df_verra.info()"
   ]
  },
  {
   "cell_type": "code",
   "execution_count": 7,
   "metadata": {},
   "outputs": [
    {
     "name": "stdout",
     "output_type": "stream",
     "text": [
      "<class 'pandas.core.frame.DataFrame'>\n",
      "RangeIndex: 4512 entries, 0 to 4511\n",
      "Data columns (total 13 columns):\n",
      " #   Column                                Non-Null Count  Dtype \n",
      "---  ------                                --------------  ----- \n",
      " 0   ID                                    4512 non-null   int64 \n",
      " 1   Name                                  4511 non-null   object\n",
      " 2   Proponent                             4510 non-null   object\n",
      " 3   Project Type                          4512 non-null   object\n",
      " 4   AFOLU Activities                      1531 non-null   object\n",
      " 5   Methodology                           4488 non-null   object\n",
      " 6   Status                                4512 non-null   object\n",
      " 7   Country/Area                          4512 non-null   object\n",
      " 8   Estimated Annual Emission Reductions  4512 non-null   object\n",
      " 9   Region                                4273 non-null   object\n",
      " 10  Project Registration Date             2503 non-null   object\n",
      " 11  Crediting Period Start Date           3306 non-null   object\n",
      " 12  Crediting Period End Date             3306 non-null   object\n",
      "dtypes: int64(1), object(12)\n",
      "memory usage: 458.4+ KB\n"
     ]
    }
   ],
   "source": [
    "# using all verra datacsv downloaded from the verra registry to fill column planting_date_reported with the date of project registration\n",
    "verra_data=pd.read_csv(\"../midsave/all_verra_projects.csv\")\n",
    "verra_data.info()"
   ]
  },
  {
   "cell_type": "code",
   "execution_count": 8,
   "metadata": {},
   "outputs": [],
   "source": [
    "# column ID in verra_data has same values as column planting_date_reported in df_verra\n",
    "registration_date_mapping = verra_data.set_index('ID')['Project Registration Date']\n",
    "crediting_period_start_date_mapping = verra_data.set_index('ID')['Crediting Period Start Date']\n",
    "\n",
    "\n",
    "df_verra['planting_date_reported'] = df_verra['project_id_reported'].map(registration_date_mapping)\n",
    "\n",
    "df_verra['planting_date_reported'] = df_verra['planting_date_reported'].fillna(\n",
    "    df_verra['project_id_reported'].map(crediting_period_start_date_mapping)\n",
    ")"
   ]
  },
  {
   "cell_type": "code",
   "execution_count": 9,
   "metadata": {},
   "outputs": [],
   "source": [
    "# # column ID in verra_data has same values as column planting_date_reported in df_verra\n",
    "# registration_date_mapping = verra_data.set_index('ID')['Project Registration Date']\n",
    "# crediting_period_start_date_mapping = verra_data.set_index('ID')['Crediting Period Start Date']\n",
    "\n",
    "# # Generate 'registration_date' column\n",
    "# df_verra['registration_date'] = df_verra['project_id_reported'].map(registration_date_mapping)\n",
    "\n",
    "# # Generate 'crediting_start_period' column\n",
    "# df_verra['crediting_start_period'] = df_verra['project_id_reported'].map(crediting_period_start_date_mapping)\n",
    "\n",
    "# # Fill 'registration_date' with 'crediting_start_period' if NaN\n",
    "# #df_verra['registration_date'] = df_verra['registration_date'].fillna(df_verra['crediting_start_period'])"
   ]
  },
  {
   "cell_type": "code",
   "execution_count": 10,
   "metadata": {},
   "outputs": [
    {
     "name": "stdout",
     "output_type": "stream",
     "text": [
      "<class 'geopandas.geodataframe.GeoDataFrame'>\n",
      "RangeIndex: 1225618 entries, 0 to 1225617\n",
      "Data columns (total 13 columns):\n",
      " #   Column                        Non-Null Count    Dtype   \n",
      "---  ------                        --------------    -----   \n",
      " 0   site_id_reported              1225618 non-null  int64   \n",
      " 1   project_id_reported           1225618 non-null  int64   \n",
      " 2   project_description_reported  1225618 non-null  object  \n",
      " 3   geometry                      1225618 non-null  geometry\n",
      " 4   site_sqkm                     1225618 non-null  float64 \n",
      " 5   status_reported               1225618 non-null  object  \n",
      " 6   country                       0 non-null        object  \n",
      " 7   planting_date_reported        1205774 non-null  object  \n",
      " 8   url                           1225618 non-null  object  \n",
      " 9   host_name                     1225618 non-null  object  \n",
      " 10  species_count_reported        0 non-null        object  \n",
      " 11  species_planted_reported      0 non-null        object  \n",
      " 12  survival_rate_reported        0 non-null        object  \n",
      "dtypes: float64(1), geometry(1), int64(2), object(9)\n",
      "memory usage: 121.6+ MB\n"
     ]
    }
   ],
   "source": [
    "df_verra.info()"
   ]
  },
  {
   "cell_type": "code",
   "execution_count": 11,
   "metadata": {},
   "outputs": [
    {
     "data": {
      "text/html": [
       "<div>\n",
       "<style scoped>\n",
       "    .dataframe tbody tr th:only-of-type {\n",
       "        vertical-align: middle;\n",
       "    }\n",
       "\n",
       "    .dataframe tbody tr th {\n",
       "        vertical-align: top;\n",
       "    }\n",
       "\n",
       "    .dataframe thead th {\n",
       "        text-align: right;\n",
       "    }\n",
       "</style>\n",
       "<table border=\"1\" class=\"dataframe\">\n",
       "  <thead>\n",
       "    <tr style=\"text-align: right;\">\n",
       "      <th></th>\n",
       "      <th>site_id_reported</th>\n",
       "      <th>project_id_reported</th>\n",
       "      <th>project_description_reported</th>\n",
       "      <th>geometry</th>\n",
       "      <th>site_sqkm</th>\n",
       "      <th>status_reported</th>\n",
       "      <th>country</th>\n",
       "      <th>planting_date_reported</th>\n",
       "      <th>url</th>\n",
       "      <th>host_name</th>\n",
       "      <th>species_count_reported</th>\n",
       "      <th>species_planted_reported</th>\n",
       "      <th>survival_rate_reported</th>\n",
       "    </tr>\n",
       "  </thead>\n",
       "  <tbody>\n",
       "    <tr>\n",
       "      <th>0</th>\n",
       "      <td>0</td>\n",
       "      <td>4107</td>\n",
       "      <td>Gansu Longnan Afforestation Project (hereinaft...</td>\n",
       "      <td>POLYGON ((105.42801 33.28925, 105.42802 33.289...</td>\n",
       "      <td>0.088937</td>\n",
       "      <td>Under validation</td>\n",
       "      <td>None</td>\n",
       "      <td>2020-05-20</td>\n",
       "      <td>https://registry.verra.org/app/projectDetail/V...</td>\n",
       "      <td>Verra</td>\n",
       "      <td>None</td>\n",
       "      <td>None</td>\n",
       "      <td>None</td>\n",
       "    </tr>\n",
       "    <tr>\n",
       "      <th>1</th>\n",
       "      <td>1</td>\n",
       "      <td>4107</td>\n",
       "      <td>Gansu Longnan Afforestation Project (hereinaft...</td>\n",
       "      <td>POLYGON ((105.42302 33.28654, 105.42323 33.286...</td>\n",
       "      <td>0.126815</td>\n",
       "      <td>Under validation</td>\n",
       "      <td>None</td>\n",
       "      <td>2020-05-20</td>\n",
       "      <td>https://registry.verra.org/app/projectDetail/V...</td>\n",
       "      <td>Verra</td>\n",
       "      <td>None</td>\n",
       "      <td>None</td>\n",
       "      <td>None</td>\n",
       "    </tr>\n",
       "    <tr>\n",
       "      <th>2</th>\n",
       "      <td>2</td>\n",
       "      <td>4107</td>\n",
       "      <td>Gansu Longnan Afforestation Project (hereinaft...</td>\n",
       "      <td>POLYGON ((105.46761 33.27973, 105.46762 33.279...</td>\n",
       "      <td>0.025083</td>\n",
       "      <td>Under validation</td>\n",
       "      <td>None</td>\n",
       "      <td>2020-05-20</td>\n",
       "      <td>https://registry.verra.org/app/projectDetail/V...</td>\n",
       "      <td>Verra</td>\n",
       "      <td>None</td>\n",
       "      <td>None</td>\n",
       "      <td>None</td>\n",
       "    </tr>\n",
       "    <tr>\n",
       "      <th>3</th>\n",
       "      <td>3</td>\n",
       "      <td>4107</td>\n",
       "      <td>Gansu Longnan Afforestation Project (hereinaft...</td>\n",
       "      <td>POLYGON ((105.46989 33.28532, 105.4699 33.2853...</td>\n",
       "      <td>0.060386</td>\n",
       "      <td>Under validation</td>\n",
       "      <td>None</td>\n",
       "      <td>2020-05-20</td>\n",
       "      <td>https://registry.verra.org/app/projectDetail/V...</td>\n",
       "      <td>Verra</td>\n",
       "      <td>None</td>\n",
       "      <td>None</td>\n",
       "      <td>None</td>\n",
       "    </tr>\n",
       "    <tr>\n",
       "      <th>4</th>\n",
       "      <td>4</td>\n",
       "      <td>4107</td>\n",
       "      <td>Gansu Longnan Afforestation Project (hereinaft...</td>\n",
       "      <td>POLYGON ((105.46846 33.28361, 105.4687 33.2839...</td>\n",
       "      <td>0.064132</td>\n",
       "      <td>Under validation</td>\n",
       "      <td>None</td>\n",
       "      <td>2020-05-20</td>\n",
       "      <td>https://registry.verra.org/app/projectDetail/V...</td>\n",
       "      <td>Verra</td>\n",
       "      <td>None</td>\n",
       "      <td>None</td>\n",
       "      <td>None</td>\n",
       "    </tr>\n",
       "  </tbody>\n",
       "</table>\n",
       "</div>"
      ],
      "text/plain": [
       "   site_id_reported  project_id_reported  \\\n",
       "0                 0                 4107   \n",
       "1                 1                 4107   \n",
       "2                 2                 4107   \n",
       "3                 3                 4107   \n",
       "4                 4                 4107   \n",
       "\n",
       "                        project_description_reported  \\\n",
       "0  Gansu Longnan Afforestation Project (hereinaft...   \n",
       "1  Gansu Longnan Afforestation Project (hereinaft...   \n",
       "2  Gansu Longnan Afforestation Project (hereinaft...   \n",
       "3  Gansu Longnan Afforestation Project (hereinaft...   \n",
       "4  Gansu Longnan Afforestation Project (hereinaft...   \n",
       "\n",
       "                                            geometry  site_sqkm  \\\n",
       "0  POLYGON ((105.42801 33.28925, 105.42802 33.289...   0.088937   \n",
       "1  POLYGON ((105.42302 33.28654, 105.42323 33.286...   0.126815   \n",
       "2  POLYGON ((105.46761 33.27973, 105.46762 33.279...   0.025083   \n",
       "3  POLYGON ((105.46989 33.28532, 105.4699 33.2853...   0.060386   \n",
       "4  POLYGON ((105.46846 33.28361, 105.4687 33.2839...   0.064132   \n",
       "\n",
       "    status_reported country planting_date_reported  \\\n",
       "0  Under validation    None             2020-05-20   \n",
       "1  Under validation    None             2020-05-20   \n",
       "2  Under validation    None             2020-05-20   \n",
       "3  Under validation    None             2020-05-20   \n",
       "4  Under validation    None             2020-05-20   \n",
       "\n",
       "                                                 url host_name  \\\n",
       "0  https://registry.verra.org/app/projectDetail/V...     Verra   \n",
       "1  https://registry.verra.org/app/projectDetail/V...     Verra   \n",
       "2  https://registry.verra.org/app/projectDetail/V...     Verra   \n",
       "3  https://registry.verra.org/app/projectDetail/V...     Verra   \n",
       "4  https://registry.verra.org/app/projectDetail/V...     Verra   \n",
       "\n",
       "  species_count_reported species_planted_reported survival_rate_reported  \n",
       "0                   None                     None                   None  \n",
       "1                   None                     None                   None  \n",
       "2                   None                     None                   None  \n",
       "3                   None                     None                   None  \n",
       "4                   None                     None                   None  "
      ]
     },
     "execution_count": 11,
     "metadata": {},
     "output_type": "execute_result"
    }
   ],
   "source": [
    "df_verra.head()"
   ]
  },
  {
   "cell_type": "code",
   "execution_count": 12,
   "metadata": {},
   "outputs": [],
   "source": [
    "folder_path=\"../midsave/Date_evaluation\""
   ]
  },
  {
   "cell_type": "markdown",
   "metadata": {},
   "source": [
    "#### Restor.eco"
   ]
  },
  {
   "cell_type": "markdown",
   "metadata": {},
   "source": [
    "We extracted and filtered  the data from  https://restor.eco/?lat=10.743821093825016&lng=4.473759981496621&zoom=4 as described in the script  \"restor.ipynb\"."
   ]
  },
  {
   "cell_type": "code",
   "execution_count": 13,
   "metadata": {},
   "outputs": [
    {
     "name": "stdout",
     "output_type": "stream",
     "text": [
      "<class 'geopandas.geodataframe.GeoDataFrame'>\n",
      "RangeIndex: 1741 entries, 0 to 1740\n",
      "Data columns (total 13 columns):\n",
      " #   Column                        Non-Null Count  Dtype   \n",
      "---  ------                        --------------  -----   \n",
      " 0   project_id_reported           1741 non-null   object  \n",
      " 1   project_description_reported  1741 non-null   object  \n",
      " 2   planting_date_reported        960 non-null    float64 \n",
      " 3   url                           1741 non-null   object  \n",
      " 4   site_sqkm                     1741 non-null   float64 \n",
      " 5   country                       1741 non-null   object  \n",
      " 6   site_id_reported              1741 non-null   object  \n",
      " 7   host_name                     1741 non-null   object  \n",
      " 8   species_count_reported        0 non-null      object  \n",
      " 9   species_planted_reported      0 non-null      object  \n",
      " 10  survival_rate_reported        0 non-null      object  \n",
      " 11  trees_planted_reported        0 non-null      object  \n",
      " 12  geometry                      1741 non-null   geometry\n",
      "dtypes: float64(2), geometry(1), object(10)\n",
      "memory usage: 176.9+ KB\n"
     ]
    }
   ],
   "source": [
    "df_restor = gpd.read_file(\"../midsave/restor_eco.gpkg\")\n",
    "df_restor.info()"
   ]
  },
  {
   "cell_type": "markdown",
   "metadata": {},
   "source": [
    "#### Explorer Data"
   ]
  },
  {
   "cell_type": "markdown",
   "metadata": {},
   "source": [
    "This data is extracted from the projects website https://explorer.land/x/projects as described in the script 'explorer_land.ipynb'. The column names were manually edited."
   ]
  },
  {
   "cell_type": "code",
   "execution_count": 14,
   "metadata": {},
   "outputs": [
    {
     "name": "stdout",
     "output_type": "stream",
     "text": [
      "<class 'geopandas.geodataframe.GeoDataFrame'>\n",
      "RangeIndex: 36 entries, 0 to 35\n",
      "Data columns (total 13 columns):\n",
      " #   Column                        Non-Null Count  Dtype   \n",
      "---  ------                        --------------  -----   \n",
      " 0   project_id_reported           0 non-null      float64 \n",
      " 1   country                       0 non-null      float64 \n",
      " 2   planting_date_reported        35 non-null     float64 \n",
      " 3   species_count_reported        0 non-null      float64 \n",
      " 4   species_planted_reported      0 non-null      float64 \n",
      " 5   survival_rate_reported        0 non-null      float64 \n",
      " 6   site_sqkm                     36 non-null     float64 \n",
      " 7   trees_planted_reported        34 non-null     float64 \n",
      " 8   site_id_reported              36 non-null     object  \n",
      " 9   project_description_reported  36 non-null     object  \n",
      " 10  host_name                     36 non-null     object  \n",
      " 11  url                           36 non-null     object  \n",
      " 12  geometry                      36 non-null     geometry\n",
      "dtypes: float64(8), geometry(1), object(4)\n",
      "memory usage: 3.8+ KB\n"
     ]
    }
   ],
   "source": [
    "df_ex = gpd.read_file(\"../midsave/explorer_land.gpkg\")\n",
    "df_ex.info()"
   ]
  },
  {
   "cell_type": "markdown",
   "metadata": {},
   "source": [
    "#### Face the Future"
   ]
  },
  {
   "cell_type": "markdown",
   "metadata": {},
   "source": [
    "We extracted  the data from  https://facethefuture.com/#projects described in the script 'Face_Future_metadata_prepro.ipynb'."
   ]
  },
  {
   "cell_type": "code",
   "execution_count": 15,
   "metadata": {},
   "outputs": [
    {
     "name": "stdout",
     "output_type": "stream",
     "text": [
      "<class 'geopandas.geodataframe.GeoDataFrame'>\n",
      "RangeIndex: 566 entries, 0 to 565\n",
      "Data columns (total 14 columns):\n",
      " #   Column                        Non-Null Count  Dtype   \n",
      "---  ------                        --------------  -----   \n",
      " 0   project_id_reported           94 non-null     object  \n",
      " 1   site_id_reported              566 non-null    int64   \n",
      " 2   trees_planted_reported        94 non-null     float64 \n",
      " 3   site_sqkm                     566 non-null    float64 \n",
      " 4   planting_date_reported        94 non-null     float64 \n",
      " 5   project_description_reported  2 non-null      object  \n",
      " 6   Creator                       94 non-null     object  \n",
      " 7   host_name                     566 non-null    object  \n",
      " 8   url                           566 non-null    object  \n",
      " 9   species_count_reported        0 non-null      object  \n",
      " 10  country                       0 non-null      object  \n",
      " 11  species_planted_reported      0 non-null      object  \n",
      " 12  survival_rate_reported        0 non-null      object  \n",
      " 13  geometry                      566 non-null    geometry\n",
      "dtypes: float64(3), geometry(1), int64(1), object(9)\n",
      "memory usage: 62.0+ KB\n"
     ]
    }
   ],
   "source": [
    "df_ftf = gpd.read_file(\"../midsave/face_the_future.gpkg\")\n",
    "df_ftf.info()"
   ]
  },
  {
   "cell_type": "markdown",
   "metadata": {},
   "source": [
    "#### Climate Partner Impact\n",
    "We extracted the data as described in the script 'climate_partner_impact.ipynb'."
   ]
  },
  {
   "cell_type": "code",
   "execution_count": 16,
   "metadata": {},
   "outputs": [
    {
     "name": "stdout",
     "output_type": "stream",
     "text": [
      "<class 'geopandas.geodataframe.GeoDataFrame'>\n",
      "RangeIndex: 7 entries, 0 to 6\n",
      "Data columns (total 13 columns):\n",
      " #   Column                        Non-Null Count  Dtype   \n",
      "---  ------                        --------------  -----   \n",
      " 0   site_id_reported              0 non-null      object  \n",
      " 1   project_id_reported           7 non-null      object  \n",
      " 2   country                       0 non-null      object  \n",
      " 3   url                           7 non-null      object  \n",
      " 4   host_name                     7 non-null      object  \n",
      " 5   project_description_reported  0 non-null      object  \n",
      " 6   site_sqkm                     0 non-null      object  \n",
      " 7   species_count_reported        0 non-null      object  \n",
      " 8   species_planted_reported      0 non-null      object  \n",
      " 9   survival_rate_reported        0 non-null      object  \n",
      " 10  trees_planted_reported        0 non-null      object  \n",
      " 11  planting_date_reported        0 non-null      object  \n",
      " 12  geometry                      7 non-null      geometry\n",
      "dtypes: geometry(1), object(12)\n",
      "memory usage: 856.0+ bytes\n"
     ]
    }
   ],
   "source": [
    "df_cpi = gpd.read_file(\"../midsave/climate_partner_impact.gpkg\")\n",
    "df_cpi.info()"
   ]
  },
  {
   "cell_type": "markdown",
   "metadata": {},
   "source": [
    "#### Forest Trends\n",
    "We extracted the data as described in the script 'forest_trends.ipynb'."
   ]
  },
  {
   "cell_type": "code",
   "execution_count": 17,
   "metadata": {},
   "outputs": [
    {
     "name": "stdout",
     "output_type": "stream",
     "text": [
      "<class 'geopandas.geodataframe.GeoDataFrame'>\n",
      "RangeIndex: 4587 entries, 0 to 4586\n",
      "Data columns (total 13 columns):\n",
      " #   Column                        Non-Null Count  Dtype   \n",
      "---  ------                        --------------  -----   \n",
      " 0   project_id_reported           4587 non-null   object  \n",
      " 1   project_description_reported  4587 non-null   object  \n",
      " 2   country                       4587 non-null   object  \n",
      " 3   host_name                     4587 non-null   object  \n",
      " 4   url                           4587 non-null   object  \n",
      " 5   site_sqkm                     0 non-null      object  \n",
      " 6   species_count_reported        0 non-null      object  \n",
      " 7   species_planted_reported      0 non-null      object  \n",
      " 8   survival_rate_reported        0 non-null      object  \n",
      " 9   trees_planted_reported        0 non-null      object  \n",
      " 10  site_id_reported              0 non-null      object  \n",
      " 11  planting_date_reported        0 non-null      object  \n",
      " 12  geometry                      4587 non-null   geometry\n",
      "dtypes: geometry(1), object(12)\n",
      "memory usage: 466.0+ KB\n"
     ]
    }
   ],
   "source": [
    "df_ft = gpd.read_file(\"../midsave/forest_trends.gpkg\")\n",
    "df_ft.info()"
   ]
  },
  {
   "cell_type": "markdown",
   "metadata": {},
   "source": [
    "#### One Tree Planted\n",
    "We extracted the data as described in the script 'one_tree_planted.ipynb'."
   ]
  },
  {
   "cell_type": "code",
   "execution_count": 18,
   "metadata": {},
   "outputs": [
    {
     "name": "stdout",
     "output_type": "stream",
     "text": [
      "<class 'geopandas.geodataframe.GeoDataFrame'>\n",
      "RangeIndex: 695 entries, 0 to 694\n",
      "Data columns (total 13 columns):\n",
      " #   Column                        Non-Null Count  Dtype   \n",
      "---  ------                        --------------  -----   \n",
      " 0   project_id_reported           695 non-null    int64   \n",
      " 1   project_description_reported  0 non-null      object  \n",
      " 2   url                           695 non-null    object  \n",
      " 3   host_name                     695 non-null    object  \n",
      " 4   site_sqkm                     0 non-null      object  \n",
      " 5   species_count_reported        0 non-null      object  \n",
      " 6   species_planted_reported      0 non-null      object  \n",
      " 7   survival_rate_reported        0 non-null      object  \n",
      " 8   trees_planted_reported        0 non-null      object  \n",
      " 9   planting_date_reported        0 non-null      object  \n",
      " 10  country                       0 non-null      object  \n",
      " 11  site_id_reported              0 non-null      object  \n",
      " 12  geometry                      693 non-null    geometry\n",
      "dtypes: geometry(1), int64(1), object(11)\n",
      "memory usage: 70.7+ KB\n"
     ]
    }
   ],
   "source": [
    "df_otp = gpd.read_file(\"../midsave/one_tree_planted.gpkg\")\n",
    "df_otp.info()"
   ]
  },
  {
   "cell_type": "markdown",
   "metadata": {},
   "source": [
    "#### Reforestaction\n",
    "We extracted the data as described in the script 'reforestaction.ipynb'."
   ]
  },
  {
   "cell_type": "code",
   "execution_count": 19,
   "metadata": {},
   "outputs": [
    {
     "name": "stdout",
     "output_type": "stream",
     "text": [
      "<class 'geopandas.geodataframe.GeoDataFrame'>\n",
      "RangeIndex: 1100 entries, 0 to 1099\n",
      "Data columns (total 13 columns):\n",
      " #   Column                        Non-Null Count  Dtype   \n",
      "---  ------                        --------------  -----   \n",
      " 0   project_id_reported           1100 non-null   int64   \n",
      " 1   site_id_reported              1100 non-null   int64   \n",
      " 2   host_name                     1100 non-null   object  \n",
      " 3   url                           1100 non-null   object  \n",
      " 4   project_description_reported  0 non-null      object  \n",
      " 5   site_sqkm                     0 non-null      object  \n",
      " 6   species_count_reported        0 non-null      object  \n",
      " 7   species_planted_reported      0 non-null      object  \n",
      " 8   survival_rate_reported        0 non-null      object  \n",
      " 9   trees_planted_reported        0 non-null      object  \n",
      " 10  planting_date_reported        0 non-null      object  \n",
      " 11  country                       0 non-null      object  \n",
      " 12  geometry                      1100 non-null   geometry\n",
      "dtypes: geometry(1), int64(2), object(10)\n",
      "memory usage: 111.8+ KB\n"
     ]
    }
   ],
   "source": [
    "df_reforestaction = gpd.read_file(\"../midsave/reforestaction.gpkg\")\n",
    "df_reforestaction.info()"
   ]
  },
  {
   "cell_type": "markdown",
   "metadata": {},
   "source": [
    "#### Reforestum\n",
    "We extracted the data as described in the script 'reforestum.ipynb'."
   ]
  },
  {
   "cell_type": "code",
   "execution_count": 20,
   "metadata": {},
   "outputs": [
    {
     "name": "stdout",
     "output_type": "stream",
     "text": [
      "<class 'geopandas.geodataframe.GeoDataFrame'>\n",
      "RangeIndex: 3691 entries, 0 to 3690\n",
      "Data columns (total 13 columns):\n",
      " #   Column                        Non-Null Count  Dtype   \n",
      "---  ------                        --------------  -----   \n",
      " 0   project_id_reported           3691 non-null   object  \n",
      " 1   project_description_reported  2082 non-null   object  \n",
      " 2   country                       0 non-null      object  \n",
      " 3   site_sqkm                     0 non-null      object  \n",
      " 4   url                           3691 non-null   object  \n",
      " 5   host_name                     3691 non-null   object  \n",
      " 6   species_count_reported        0 non-null      object  \n",
      " 7   species_planted_reported      0 non-null      object  \n",
      " 8   survival_rate_reported        0 non-null      object  \n",
      " 9   trees_planted_reported        0 non-null      object  \n",
      " 10  planting_date_reported        0 non-null      object  \n",
      " 11  site_id_reported              0 non-null      object  \n",
      " 12  geometry                      3691 non-null   geometry\n",
      "dtypes: geometry(1), object(12)\n",
      "memory usage: 375.0+ KB\n"
     ]
    }
   ],
   "source": [
    "df_reforestum = gpd.read_file(\"../midsave/reforestum.gpkg\")\n",
    "df_reforestum.info()"
   ]
  },
  {
   "cell_type": "markdown",
   "metadata": {},
   "source": [
    "#### Trees.org\n",
    "We extracted the data as described in the script 'trees_org.ipynb'."
   ]
  },
  {
   "cell_type": "code",
   "execution_count": 21,
   "metadata": {},
   "outputs": [
    {
     "name": "stdout",
     "output_type": "stream",
     "text": [
      "<class 'geopandas.geodataframe.GeoDataFrame'>\n",
      "RangeIndex: 86 entries, 0 to 85\n",
      "Data columns (total 13 columns):\n",
      " #   Column                        Non-Null Count  Dtype   \n",
      "---  ------                        --------------  -----   \n",
      " 0   project_id_reported           86 non-null     int64   \n",
      " 1   project_description_reported  86 non-null     object  \n",
      " 2   country                       86 non-null     object  \n",
      " 3   planting_date_reported        86 non-null     int32   \n",
      " 4   url                           86 non-null     object  \n",
      " 5   host_name                     86 non-null     object  \n",
      " 6   site_sqkm                     0 non-null      object  \n",
      " 7   species_count_reported        0 non-null      object  \n",
      " 8   species_planted_reported      0 non-null      object  \n",
      " 9   survival_rate_reported        0 non-null      object  \n",
      " 10  trees_planted_reported        0 non-null      object  \n",
      " 11  site_id_reported              0 non-null      object  \n",
      " 12  geometry                      86 non-null     geometry\n",
      "dtypes: geometry(1), int32(1), int64(1), object(10)\n",
      "memory usage: 8.5+ KB\n"
     ]
    }
   ],
   "source": [
    "df_to = gpd.read_file(\"../midsave/trees_org.gpkg\")\n",
    "df_to.info()"
   ]
  },
  {
   "cell_type": "markdown",
   "metadata": {},
   "source": [
    "#### Veritree\n",
    "We extracted the data as described in the script 'verritree.ipynb'."
   ]
  },
  {
   "cell_type": "code",
   "execution_count": 22,
   "metadata": {},
   "outputs": [
    {
     "name": "stdout",
     "output_type": "stream",
     "text": [
      "<class 'geopandas.geodataframe.GeoDataFrame'>\n",
      "RangeIndex: 122 entries, 0 to 121\n",
      "Data columns (total 13 columns):\n",
      " #   Column                        Non-Null Count  Dtype   \n",
      "---  ------                        --------------  -----   \n",
      " 0   site_id_reported              122 non-null    int64   \n",
      " 1   project_id_reported           122 non-null    int64   \n",
      " 2   project_description_reported  122 non-null    object  \n",
      " 3   country                       122 non-null    object  \n",
      " 4   survival_rate_reported        122 non-null    int64   \n",
      " 5   species_planted_reported      122 non-null    object  \n",
      " 6   host_name                     122 non-null    object  \n",
      " 7   url                           122 non-null    object  \n",
      " 8   site_sqkm                     122 non-null    float64 \n",
      " 9   species_count_reported        0 non-null      object  \n",
      " 10  trees_planted_reported        0 non-null      object  \n",
      " 11  planting_date_reported        0 non-null      object  \n",
      " 12  geometry                      122 non-null    geometry\n",
      "dtypes: float64(1), geometry(1), int64(3), object(8)\n",
      "memory usage: 12.5+ KB\n"
     ]
    }
   ],
   "source": [
    "df_vt = gpd.read_file(\"../midsave/veritree.gpkg\")\n",
    "df_vt.info()"
   ]
  },
  {
   "cell_type": "markdown",
   "metadata": {},
   "source": [
    "#### Zero CO2\n",
    "We extracted the data as described in the script 'zero_co2.ipynb'."
   ]
  },
  {
   "cell_type": "code",
   "execution_count": 23,
   "metadata": {},
   "outputs": [
    {
     "name": "stdout",
     "output_type": "stream",
     "text": [
      "<class 'geopandas.geodataframe.GeoDataFrame'>\n",
      "RangeIndex: 7 entries, 0 to 6\n",
      "Data columns (total 13 columns):\n",
      " #   Column                        Non-Null Count  Dtype   \n",
      "---  ------                        --------------  -----   \n",
      " 0   project_id_reported           7 non-null      object  \n",
      " 1   site_id_reported              7 non-null      object  \n",
      " 2   project_description_reported  7 non-null      object  \n",
      " 3   country                       0 non-null      object  \n",
      " 4   planting_date_reported        7 non-null      int32   \n",
      " 5   url                           7 non-null      object  \n",
      " 6   host_name                     7 non-null      object  \n",
      " 7   site_sqkm                     0 non-null      object  \n",
      " 8   species_count_reported        0 non-null      object  \n",
      " 9   species_planted_reported      0 non-null      object  \n",
      " 10  survival_rate_reported        0 non-null      object  \n",
      " 11  trees_planted_reported        0 non-null      object  \n",
      " 12  geometry                      7 non-null      geometry\n",
      "dtypes: geometry(1), int32(1), object(11)\n",
      "memory usage: 828.0+ bytes\n"
     ]
    }
   ],
   "source": [
    "df_zc = gpd.read_file(\"../midsave/zero_co2.gpkg\")\n",
    "df_zc.info()"
   ]
  },
  {
   "cell_type": "markdown",
   "metadata": {},
   "source": [
    " #### Gold Standards\n",
    "We extracted the data as described in the script 'gold_standards.ipynb'."
   ]
  },
  {
   "cell_type": "code",
   "execution_count": 47,
   "metadata": {},
   "outputs": [
    {
     "name": "stdout",
     "output_type": "stream",
     "text": [
      "<class 'geopandas.geodataframe.GeoDataFrame'>\n",
      "RangeIndex: 71 entries, 0 to 70\n",
      "Data columns (total 13 columns):\n",
      " #   Column                        Non-Null Count  Dtype   \n",
      "---  ------                        --------------  -----   \n",
      " 0   project_id_reported           71 non-null     int64   \n",
      " 1   country                       71 non-null     object  \n",
      " 2   project_description_reported  0 non-null      object  \n",
      " 3   url                           71 non-null     object  \n",
      " 4   host_name                     71 non-null     object  \n",
      " 5   site_sqkm                     0 non-null      object  \n",
      " 6   species_count_reported        0 non-null      object  \n",
      " 7   species_planted_reported      0 non-null      object  \n",
      " 8   survival_rate_reported        0 non-null      object  \n",
      " 9   trees_planted_reported        0 non-null      object  \n",
      " 10  planting_date_reported        0 non-null      object  \n",
      " 11  site_id_reported              0 non-null      object  \n",
      " 12  geometry                      0 non-null      geometry\n",
      "dtypes: geometry(1), int64(1), object(11)\n",
      "memory usage: 7.3+ KB\n"
     ]
    }
   ],
   "source": [
    "df_gs = gpd.read_file('../midsave/gold_standards.gpkg')\n",
    "df_gs.info()"
   ]
  },
  {
   "cell_type": "markdown",
   "metadata": {},
   "source": [
    "### Combining the datasets"
   ]
  },
  {
   "cell_type": "code",
   "execution_count": 48,
   "metadata": {
    "scrolled": true
   },
   "outputs": [
    {
     "name": "stderr",
     "output_type": "stream",
     "text": [
      "/var/folders/_l/gj90rjl90fngb4_8ph5x5jhc0000gn/T/ipykernel_44555/1777068713.py:1: FutureWarning: The behavior of DataFrame concatenation with empty or all-NA entries is deprecated. In a future version, this will no longer exclude empty or all-NA columns when determining the result dtypes. To retain the old behavior, exclude the relevant entries before the concat operation.\n",
      "  gdf = pd.concat([df_plant,df_tn,df_verra,df_atlas,df_restor,df_ftf,df_ex, df_cpi, df_ft, df_otp, df_reforestaction, df_reforestum, df_to, df_vt, df_zc,df_gs]\n"
     ]
    },
    {
     "name": "stdout",
     "output_type": "stream",
     "text": [
      "<class 'geopandas.geodataframe.GeoDataFrame'>\n",
      "RangeIndex: 1242737 entries, 0 to 1242736\n",
      "Data columns (total 15 columns):\n",
      " #   Column                        Non-Null Count    Dtype   \n",
      "---  ------                        --------------    -----   \n",
      " 0   project_id_reported           1242229 non-null  object  \n",
      " 1   site_id_reported              1233600 non-null  object  \n",
      " 2   site_description_reported     1726 non-null     object  \n",
      " 3   site_sqkm                     1232493 non-null  float64 \n",
      " 4   trees_planted_reported        4411 non-null     object  \n",
      " 5   country                       9778 non-null     object  \n",
      " 6   project_description_reported  1238691 non-null  object  \n",
      " 7   planting_date_reported        1210785 non-null  object  \n",
      " 8   survival_rate_reported        2480 non-null     object  \n",
      " 9   host_name                     1242737 non-null  object  \n",
      " 10  url                           1242737 non-null  object  \n",
      " 11  species_count_reported        0 non-null        object  \n",
      " 12  species_planted_reported      122 non-null      object  \n",
      " 13  geometry                      1242595 non-null  geometry\n",
      " 14  Creator                       94 non-null       object  \n",
      "dtypes: float64(1), geometry(1), object(13)\n",
      "memory usage: 142.2+ MB\n"
     ]
    }
   ],
   "source": [
    "gdf = pd.concat([df_plant,df_tn,df_verra,df_atlas,df_restor,df_ftf,df_ex, df_cpi, df_ft, df_otp, df_reforestaction, df_reforestum, df_to, df_vt, df_zc,df_gs]\n",
    "                , ignore_index = True).drop(columns = ['site_status_reported', 'status_reported'])\n",
    "gdf.info()"
   ]
  },
  {
   "cell_type": "code",
   "execution_count": 49,
   "metadata": {},
   "outputs": [
    {
     "name": "stdout",
     "output_type": "stream",
     "text": [
      "<class 'geopandas.geodataframe.GeoDataFrame'>\n",
      "Index: 142 entries, 3060 to 1242736\n",
      "Data columns (total 15 columns):\n",
      " #   Column                        Non-Null Count  Dtype   \n",
      "---  ------                        --------------  -----   \n",
      " 0   project_id_reported           142 non-null    object  \n",
      " 1   site_id_reported              69 non-null     object  \n",
      " 2   site_description_reported     0 non-null      object  \n",
      " 3   site_sqkm                     69 non-null     float64 \n",
      " 4   trees_planted_reported        60 non-null     object  \n",
      " 5   country                       80 non-null     object  \n",
      " 6   project_description_reported  69 non-null     object  \n",
      " 7   planting_date_reported        60 non-null     object  \n",
      " 8   survival_rate_reported        0 non-null      object  \n",
      " 9   host_name                     142 non-null    object  \n",
      " 10  url                           142 non-null    object  \n",
      " 11  species_count_reported        0 non-null      object  \n",
      " 12  species_planted_reported      0 non-null      object  \n",
      " 13  geometry                      0 non-null      geometry\n",
      " 14  Creator                       0 non-null      object  \n",
      "dtypes: float64(1), geometry(1), object(13)\n",
      "memory usage: 17.8+ KB\n"
     ]
    }
   ],
   "source": [
    "# Filter rows with null values in the 'geometry' column\n",
    "null_geometry_rows = gdf[gdf['geometry'].isnull()]\n",
    "\n",
    "null_geometry_rows.info()"
   ]
  },
  {
   "cell_type": "markdown",
   "metadata": {},
   "source": [
    "### Data cleanup"
   ]
  },
  {
   "cell_type": "markdown",
   "metadata": {},
   "source": [
    "Filter polygons with 0 < site_sqkm < 10000"
   ]
  },
  {
   "cell_type": "code",
   "execution_count": 61,
   "metadata": {},
   "outputs": [
    {
     "name": "stdout",
     "output_type": "stream",
     "text": [
      "<class 'geopandas.geodataframe.GeoDataFrame'>\n",
      "RangeIndex: 1232217 entries, 0 to 1232216\n",
      "Data columns (total 15 columns):\n",
      " #   Column                        Non-Null Count    Dtype   \n",
      "---  ------                        --------------    -----   \n",
      " 0   project_id_reported           1231709 non-null  object  \n",
      " 1   site_id_reported              1232217 non-null  object  \n",
      " 2   site_description_reported     1725 non-null     object  \n",
      " 3   site_sqkm                     1232217 non-null  float64 \n",
      " 4   trees_planted_reported        4407 non-null     object  \n",
      " 5   country                       4999 non-null     object  \n",
      " 6   project_description_reported  1231653 non-null  object  \n",
      " 7   planting_date_reported        1210431 non-null  object  \n",
      " 8   survival_rate_reported        2475 non-null     object  \n",
      " 9   host_name                     1232217 non-null  object  \n",
      " 10  url                           1232217 non-null  object  \n",
      " 11  species_count_reported        0 non-null        object  \n",
      " 12  species_planted_reported      118 non-null      object  \n",
      " 13  geometry                      1232148 non-null  geometry\n",
      " 14  Creator                       94 non-null       object  \n",
      "dtypes: float64(1), geometry(1), object(13)\n",
      "memory usage: 141.0+ MB\n"
     ]
    }
   ],
   "source": [
    "gdf_filtered = gdf[gdf['site_sqkm'] < 10000].copy().reset_index(drop = True)\n",
    "gdf_filtered.info()"
   ]
  },
  {
   "cell_type": "markdown",
   "metadata": {},
   "source": [
    "Drop duplicate geographies"
   ]
  },
  {
   "cell_type": "code",
   "execution_count": 62,
   "metadata": {},
   "outputs": [
    {
     "name": "stdout",
     "output_type": "stream",
     "text": [
      "<class 'geopandas.geodataframe.GeoDataFrame'>\n",
      "Index: 1072682 entries, 0 to 1232215\n",
      "Data columns (total 15 columns):\n",
      " #   Column                        Non-Null Count    Dtype   \n",
      "---  ------                        --------------    -----   \n",
      " 0   project_id_reported           1072176 non-null  object  \n",
      " 1   site_id_reported              1072682 non-null  object  \n",
      " 2   site_description_reported     1682 non-null     object  \n",
      " 3   site_sqkm                     1072682 non-null  float64 \n",
      " 4   trees_planted_reported        4295 non-null     object  \n",
      " 5   country                       4935 non-null     object  \n",
      " 6   project_description_reported  1072120 non-null  object  \n",
      " 7   planting_date_reported        1069515 non-null  object  \n",
      " 8   survival_rate_reported        2430 non-null     object  \n",
      " 9   host_name                     1072682 non-null  object  \n",
      " 10  url                           1072682 non-null  object  \n",
      " 11  species_count_reported        0 non-null        object  \n",
      " 12  species_planted_reported      116 non-null      object  \n",
      " 13  geometry                      1072681 non-null  geometry\n",
      " 14  Creator                       94 non-null       object  \n",
      "dtypes: float64(1), geometry(1), object(13)\n",
      "memory usage: 130.9+ MB\n"
     ]
    }
   ],
   "source": [
    "gdf_filtered.drop_duplicates('geometry', inplace = True)\n",
    "gdf_filtered.info()"
   ]
  },
  {
   "cell_type": "markdown",
   "metadata": {},
   "source": [
    "Clean up country names"
   ]
  },
  {
   "cell_type": "code",
   "execution_count": 63,
   "metadata": {},
   "outputs": [
    {
     "data": {
      "text/plain": [
       "array(['BR', 'GH', 'VN', 'CO', 'UG', 'MZ', 'US', 'MW', 'ES', 'AE', 'KE',\n",
       "       'MG', 'GB', 'MX', 'NP', 'ET', 'PH', 'BO', 'NA', 'IN', 'AR', 'HN',\n",
       "       'EG', 'CA', 'TZ', 'IR', 'ID', 'UA', 'TH', 'AU', 'AM', 'IE', 'BD',\n",
       "       'CL', 'NG', 'CI', 'JO', 'CD', 'CM', 'EC', 'CR', 'DE', 'GT', 'TW',\n",
       "       'BE', 'ZA', 'HT', 'CZ', 'NI', 'PA', 'FR', 'BI', 'IT', 'SL', 'PE',\n",
       "       'DK', 'ZM', 'TG', 'MN', 'ZW', 'NO', None, 'us', 'in', 'gt', 'ch',\n",
       "       'gb', 'tz', 'pt', 'lt', 'co', 'cr', 'ke', 'cg', 'mx', 'au', 'th',\n",
       "       'it', 'de', 'pe', 'ni', 'KM', 'RW', nan, 'Madagascar',\n",
       "       'Mozambique', 'Nepal', 'Kenya', 'Canada', 'Indonesia', 'Senegal',\n",
       "       'United States', 'Rwanda', 'Tanzania', 'Peru', 'Ethiopia', 'Haiti',\n",
       "       'Mexico', 'Brazil', 'India', 'Uganda', 'Malawi', 'Cambodia',\n",
       "       'China', 'Japan', 'Philippines', 'Honduras'], dtype=object)"
      ]
     },
     "execution_count": 63,
     "metadata": {},
     "output_type": "execute_result"
    }
   ],
   "source": [
    "gdf_filtered.country.unique()"
   ]
  },
  {
   "cell_type": "code",
   "execution_count": 64,
   "metadata": {},
   "outputs": [],
   "source": [
    "country_to_iso2 = {}\n",
    "\n",
    "for country in pycountry.countries:\n",
    "    country_to_iso2[country.alpha_2.lower()] = country.alpha_2.lower()\n",
    "    country_to_iso2[country.name.lower()] = country.alpha_2.lower()\n",
    "\n",
    "gdf_filtered['country'] = gdf_filtered['country'].apply(lambda country: country_to_iso2.get(country.lower(), None) if pd.notna(country) else None)"
   ]
  },
  {
   "cell_type": "markdown",
   "metadata": {},
   "source": [
    "Fix datatypes"
   ]
  },
  {
   "cell_type": "code",
   "execution_count": 66,
   "metadata": {},
   "outputs": [],
   "source": [
    "gdf_filtered['site_id_reported'] = gdf_filtered['site_id_reported'].astype(str)\n",
    "gdf_filtered['project_id_reported'] = gdf_filtered['project_id_reported'].astype(str)\n",
    "gdf_filtered['trees_planted_reported'] = gdf_filtered['trees_planted_reported'].astype(float)\n",
    "gdf_filtered['survival_rate_reported'] = gdf_filtered['survival_rate_reported'].astype(float)\n"
   ]
  },
  {
   "cell_type": "code",
   "execution_count": 67,
   "metadata": {},
   "outputs": [
    {
     "data": {
      "text/plain": [
       "0      POLYGON ((-49.95883 -9.35107, -49.95976 -9.351...\n",
       "1      POLYGON ((-43.4725 -22.48945, -43.47236 -22.48...\n",
       "2      POLYGON ((-43.462 -22.4779, -43.46583 -22.4875...\n",
       "3      POLYGON ((-43.46833 -22.4919, -43.46834 -22.49...\n",
       "4      POLYGON ((-2.00562 8.21886, -2.00756 8.23202, ...\n",
       "                             ...                        \n",
       "401    POLYGON ((-88.50459 18.77865, -88.51044 18.778...\n",
       "402    POLYGON ((-88.50057 18.79101, -88.49862 18.791...\n",
       "403    POLYGON ((-88.48006 18.83761, -88.47991 18.837...\n",
       "404    POLYGON ((-88.48776 18.82797, -88.48743 18.828...\n",
       "405    POLYGON ((-88.48975 18.81903, -88.48951 18.819...\n",
       "Name: geometry, Length: 400, dtype: geometry"
      ]
     },
     "execution_count": 67,
     "metadata": {},
     "output_type": "execute_result"
    }
   ],
   "source": [
    "gdf_filtered[\"geometry\"][:400]"
   ]
  },
  {
   "cell_type": "code",
   "execution_count": 68,
   "metadata": {},
   "outputs": [
    {
     "data": {
      "text/html": [
       "<div>\n",
       "<style scoped>\n",
       "    .dataframe tbody tr th:only-of-type {\n",
       "        vertical-align: middle;\n",
       "    }\n",
       "\n",
       "    .dataframe tbody tr th {\n",
       "        vertical-align: top;\n",
       "    }\n",
       "\n",
       "    .dataframe thead th {\n",
       "        text-align: right;\n",
       "    }\n",
       "</style>\n",
       "<table border=\"1\" class=\"dataframe\">\n",
       "  <thead>\n",
       "    <tr style=\"text-align: right;\">\n",
       "      <th></th>\n",
       "      <th>project_id_reported</th>\n",
       "      <th>site_id_reported</th>\n",
       "      <th>site_description_reported</th>\n",
       "      <th>site_sqkm</th>\n",
       "      <th>trees_planted_reported</th>\n",
       "      <th>country</th>\n",
       "      <th>project_description_reported</th>\n",
       "      <th>planting_date_reported</th>\n",
       "      <th>survival_rate_reported</th>\n",
       "      <th>host_name</th>\n",
       "      <th>url</th>\n",
       "      <th>species_count_reported</th>\n",
       "      <th>species_planted_reported</th>\n",
       "      <th>geometry</th>\n",
       "      <th>Creator</th>\n",
       "    </tr>\n",
       "  </thead>\n",
       "  <tbody>\n",
       "    <tr>\n",
       "      <th>0</th>\n",
       "      <td>proj_ezpAp1POh20dBnYpx0BjhU35</td>\n",
       "      <td>site_W97pqKxXURFOA1E</td>\n",
       "      <td>Farm for the Future demonstration plot</td>\n",
       "      <td>0.013591</td>\n",
       "      <td>313.0</td>\n",
       "      <td>br</td>\n",
       "      <td>This project will be implemented at Farm of th...</td>\n",
       "      <td>NaN</td>\n",
       "      <td>80.0</td>\n",
       "      <td>Planet for the Planet</td>\n",
       "      <td>https://web.plant-for-the-planet.org/en/farmof...</td>\n",
       "      <td>NaN</td>\n",
       "      <td>None</td>\n",
       "      <td>POLYGON ((-49.958833158016205 -9.3510733412391...</td>\n",
       "      <td>NaN</td>\n",
       "    </tr>\n",
       "    <tr>\n",
       "      <th>1</th>\n",
       "      <td>proj_ZCspL8JYmUu0OXcx6O73I1j0</td>\n",
       "      <td>site_NekKEGqkIO4rZ5C</td>\n",
       "      <td>The area to be reforested is around the Tinguá...</td>\n",
       "      <td>0.631388</td>\n",
       "      <td>3418.0</td>\n",
       "      <td>br</td>\n",
       "      <td>ITPA was born in 1998, from the initiative of ...</td>\n",
       "      <td>2012.0</td>\n",
       "      <td>90.0</td>\n",
       "      <td>Planet for the Planet</td>\n",
       "      <td>https://web.plant-for-the-planet.org/en/forest...</td>\n",
       "      <td>NaN</td>\n",
       "      <td>None</td>\n",
       "      <td>POLYGON ((-43.472501 -22.489448, -43.472365 -2...</td>\n",
       "      <td>NaN</td>\n",
       "    </tr>\n",
       "    <tr>\n",
       "      <th>2</th>\n",
       "      <td>proj_ZCspL8JYmUu0OXcx6O73I1j0</td>\n",
       "      <td>site_Wl3hF91IBkei1Xy</td>\n",
       "      <td>The area to be reforested is around the Tinguá...</td>\n",
       "      <td>3.076566</td>\n",
       "      <td>3418.0</td>\n",
       "      <td>br</td>\n",
       "      <td>ITPA was born in 1998, from the initiative of ...</td>\n",
       "      <td>2012.0</td>\n",
       "      <td>90.0</td>\n",
       "      <td>Planet for the Planet</td>\n",
       "      <td>https://web.plant-for-the-planet.org/en/forest...</td>\n",
       "      <td>NaN</td>\n",
       "      <td>None</td>\n",
       "      <td>POLYGON ((-43.462002 -22.477901, -43.46583 -22...</td>\n",
       "      <td>NaN</td>\n",
       "    </tr>\n",
       "    <tr>\n",
       "      <th>3</th>\n",
       "      <td>proj_ZCspL8JYmUu0OXcx6O73I1j0</td>\n",
       "      <td>site_qHUXswEmePqou5T</td>\n",
       "      <td>The area to be reforested is around the Tinguá...</td>\n",
       "      <td>0.304860</td>\n",
       "      <td>3418.0</td>\n",
       "      <td>br</td>\n",
       "      <td>ITPA was born in 1998, from the initiative of ...</td>\n",
       "      <td>2012.0</td>\n",
       "      <td>90.0</td>\n",
       "      <td>Planet for the Planet</td>\n",
       "      <td>https://web.plant-for-the-planet.org/en/forest...</td>\n",
       "      <td>NaN</td>\n",
       "      <td>None</td>\n",
       "      <td>POLYGON ((-43.468334 -22.491903, -43.468336 -2...</td>\n",
       "      <td>NaN</td>\n",
       "    </tr>\n",
       "    <tr>\n",
       "      <th>4</th>\n",
       "      <td>proj_nXBzA2sbX2tm1D75p7bfJ81Z</td>\n",
       "      <td>site_XZlBcSdlO42ErL3</td>\n",
       "      <td>Plant-for-Ghana Phase II</td>\n",
       "      <td>2.226044</td>\n",
       "      <td>48792.0</td>\n",
       "      <td>gh</td>\n",
       "      <td>Plant-for-Ghana is a hybrid restoration agrofo...</td>\n",
       "      <td>2021.0</td>\n",
       "      <td>93.0</td>\n",
       "      <td>Planet for the Planet</td>\n",
       "      <td>https://web.plant-for-the-planet.org/en/plant-...</td>\n",
       "      <td>NaN</td>\n",
       "      <td>None</td>\n",
       "      <td>POLYGON ((-2.005615225307139 8.218860927120645...</td>\n",
       "      <td>NaN</td>\n",
       "    </tr>\n",
       "  </tbody>\n",
       "</table>\n",
       "</div>"
      ],
      "text/plain": [
       "             project_id_reported      site_id_reported  \\\n",
       "0  proj_ezpAp1POh20dBnYpx0BjhU35  site_W97pqKxXURFOA1E   \n",
       "1  proj_ZCspL8JYmUu0OXcx6O73I1j0  site_NekKEGqkIO4rZ5C   \n",
       "2  proj_ZCspL8JYmUu0OXcx6O73I1j0  site_Wl3hF91IBkei1Xy   \n",
       "3  proj_ZCspL8JYmUu0OXcx6O73I1j0  site_qHUXswEmePqou5T   \n",
       "4  proj_nXBzA2sbX2tm1D75p7bfJ81Z  site_XZlBcSdlO42ErL3   \n",
       "\n",
       "                           site_description_reported  site_sqkm  \\\n",
       "0             Farm for the Future demonstration plot   0.013591   \n",
       "1  The area to be reforested is around the Tinguá...   0.631388   \n",
       "2  The area to be reforested is around the Tinguá...   3.076566   \n",
       "3  The area to be reforested is around the Tinguá...   0.304860   \n",
       "4                           Plant-for-Ghana Phase II   2.226044   \n",
       "\n",
       "   trees_planted_reported country  \\\n",
       "0                   313.0      br   \n",
       "1                  3418.0      br   \n",
       "2                  3418.0      br   \n",
       "3                  3418.0      br   \n",
       "4                 48792.0      gh   \n",
       "\n",
       "                        project_description_reported planting_date_reported  \\\n",
       "0  This project will be implemented at Farm of th...                    NaN   \n",
       "1  ITPA was born in 1998, from the initiative of ...                 2012.0   \n",
       "2  ITPA was born in 1998, from the initiative of ...                 2012.0   \n",
       "3  ITPA was born in 1998, from the initiative of ...                 2012.0   \n",
       "4  Plant-for-Ghana is a hybrid restoration agrofo...                 2021.0   \n",
       "\n",
       "   survival_rate_reported              host_name  \\\n",
       "0                    80.0  Planet for the Planet   \n",
       "1                    90.0  Planet for the Planet   \n",
       "2                    90.0  Planet for the Planet   \n",
       "3                    90.0  Planet for the Planet   \n",
       "4                    93.0  Planet for the Planet   \n",
       "\n",
       "                                                 url  species_count_reported  \\\n",
       "0  https://web.plant-for-the-planet.org/en/farmof...                     NaN   \n",
       "1  https://web.plant-for-the-planet.org/en/forest...                     NaN   \n",
       "2  https://web.plant-for-the-planet.org/en/forest...                     NaN   \n",
       "3  https://web.plant-for-the-planet.org/en/forest...                     NaN   \n",
       "4  https://web.plant-for-the-planet.org/en/plant-...                     NaN   \n",
       "\n",
       "  species_planted_reported                                           geometry  \\\n",
       "0                     None  POLYGON ((-49.958833158016205 -9.3510733412391...   \n",
       "1                     None  POLYGON ((-43.472501 -22.489448, -43.472365 -2...   \n",
       "2                     None  POLYGON ((-43.462002 -22.477901, -43.46583 -22...   \n",
       "3                     None  POLYGON ((-43.468334 -22.491903, -43.468336 -2...   \n",
       "4                     None  POLYGON ((-2.005615225307139 8.218860927120645...   \n",
       "\n",
       "  Creator  \n",
       "0     NaN  \n",
       "1     NaN  \n",
       "2     NaN  \n",
       "3     NaN  \n",
       "4     NaN  "
      ]
     },
     "execution_count": 68,
     "metadata": {},
     "output_type": "execute_result"
    }
   ],
   "source": [
    "\n",
    "\n",
    "def split_multipolygon(row):\n",
    "    geom = row['geometry']\n",
    "    if geom is None:\n",
    "        return [{**row.to_dict(), 'geometry': None}]\n",
    "    if isinstance(geom, str):\n",
    "        geom = wkt.loads(geom)\n",
    "    if isinstance(geom, MultiPolygon):\n",
    "        return [{**row.to_dict(), 'geometry': poly.wkt} for poly in geom.geoms]\n",
    "    else:\n",
    "        return [{**row.to_dict(), 'geometry': geom.wkt}]\n",
    "\n",
    "expanded_rows = gdf_filtered.apply(split_multipolygon, axis=1).explode().reset_index(drop=True)\n",
    "expanded_gdf = gpd.GeoDataFrame(expanded_rows.tolist())\n",
    "\n",
    "expanded_gdf.head()"
   ]
  },
  {
   "cell_type": "code",
   "execution_count": 69,
   "metadata": {},
   "outputs": [
    {
     "name": "stdout",
     "output_type": "stream",
     "text": [
      "<class 'geopandas.geodataframe.GeoDataFrame'>\n",
      "RangeIndex: 1229230 entries, 0 to 1229229\n",
      "Data columns (total 15 columns):\n",
      " #   Column                        Non-Null Count    Dtype  \n",
      "---  ------                        --------------    -----  \n",
      " 0   project_id_reported           1229230 non-null  object \n",
      " 1   site_id_reported              1229230 non-null  object \n",
      " 2   site_description_reported     1696 non-null     object \n",
      " 3   site_sqkm                     1229230 non-null  float64\n",
      " 4   trees_planted_reported        4405 non-null     float64\n",
      " 5   country                       5085 non-null     object \n",
      " 6   project_description_reported  1228666 non-null  object \n",
      " 7   planting_date_reported        1225975 non-null  object \n",
      " 8   survival_rate_reported        2570 non-null     float64\n",
      " 9   host_name                     1229230 non-null  object \n",
      " 10  url                           1229230 non-null  object \n",
      " 11  species_count_reported        0 non-null        float64\n",
      " 12  species_planted_reported      171 non-null      object \n",
      " 13  geometry                      1229229 non-null  object \n",
      " 14  Creator                       94 non-null       object \n",
      "dtypes: float64(4), object(11)\n",
      "memory usage: 140.7+ MB\n"
     ]
    }
   ],
   "source": [
    "expanded_gdf.info()"
   ]
  },
  {
   "cell_type": "markdown",
   "metadata": {},
   "source": [
    "Create unique site and project ids"
   ]
  },
  {
   "cell_type": "code",
   "execution_count": 70,
   "metadata": {},
   "outputs": [],
   "source": [
    "\n",
    "expanded_gdf['project_id_created'] = pd.factorize(expanded_gdf['project_id_reported'].astype(str) + '-' + expanded_gdf['host_name'].astype(str))[0]"
   ]
  },
  {
   "cell_type": "code",
   "execution_count": 71,
   "metadata": {},
   "outputs": [],
   "source": [
    "expanded_gdf.reset_index(names = 'site_id_created', inplace = True)"
   ]
  },
  {
   "cell_type": "code",
   "execution_count": 72,
   "metadata": {},
   "outputs": [
    {
     "data": {
      "text/html": [
       "<div>\n",
       "<style scoped>\n",
       "    .dataframe tbody tr th:only-of-type {\n",
       "        vertical-align: middle;\n",
       "    }\n",
       "\n",
       "    .dataframe tbody tr th {\n",
       "        vertical-align: top;\n",
       "    }\n",
       "\n",
       "    .dataframe thead th {\n",
       "        text-align: right;\n",
       "    }\n",
       "</style>\n",
       "<table border=\"1\" class=\"dataframe\">\n",
       "  <thead>\n",
       "    <tr style=\"text-align: right;\">\n",
       "      <th></th>\n",
       "      <th>site_id_created</th>\n",
       "      <th>project_id_reported</th>\n",
       "      <th>site_id_reported</th>\n",
       "      <th>site_description_reported</th>\n",
       "      <th>site_sqkm</th>\n",
       "      <th>trees_planted_reported</th>\n",
       "      <th>country</th>\n",
       "      <th>project_description_reported</th>\n",
       "      <th>planting_date_reported</th>\n",
       "      <th>survival_rate_reported</th>\n",
       "      <th>host_name</th>\n",
       "      <th>url</th>\n",
       "      <th>species_count_reported</th>\n",
       "      <th>species_planted_reported</th>\n",
       "      <th>geometry</th>\n",
       "      <th>Creator</th>\n",
       "      <th>project_id_created</th>\n",
       "    </tr>\n",
       "  </thead>\n",
       "  <tbody>\n",
       "    <tr>\n",
       "      <th>0</th>\n",
       "      <td>0</td>\n",
       "      <td>proj_ezpAp1POh20dBnYpx0BjhU35</td>\n",
       "      <td>site_W97pqKxXURFOA1E</td>\n",
       "      <td>Farm for the Future demonstration plot</td>\n",
       "      <td>0.013591</td>\n",
       "      <td>313.0</td>\n",
       "      <td>br</td>\n",
       "      <td>This project will be implemented at Farm of th...</td>\n",
       "      <td>NaN</td>\n",
       "      <td>80.0</td>\n",
       "      <td>Planet for the Planet</td>\n",
       "      <td>https://web.plant-for-the-planet.org/en/farmof...</td>\n",
       "      <td>NaN</td>\n",
       "      <td>None</td>\n",
       "      <td>POLYGON ((-49.958833158016205 -9.3510733412391...</td>\n",
       "      <td>NaN</td>\n",
       "      <td>0</td>\n",
       "    </tr>\n",
       "    <tr>\n",
       "      <th>1</th>\n",
       "      <td>1</td>\n",
       "      <td>proj_ZCspL8JYmUu0OXcx6O73I1j0</td>\n",
       "      <td>site_NekKEGqkIO4rZ5C</td>\n",
       "      <td>The area to be reforested is around the Tinguá...</td>\n",
       "      <td>0.631388</td>\n",
       "      <td>3418.0</td>\n",
       "      <td>br</td>\n",
       "      <td>ITPA was born in 1998, from the initiative of ...</td>\n",
       "      <td>2012.0</td>\n",
       "      <td>90.0</td>\n",
       "      <td>Planet for the Planet</td>\n",
       "      <td>https://web.plant-for-the-planet.org/en/forest...</td>\n",
       "      <td>NaN</td>\n",
       "      <td>None</td>\n",
       "      <td>POLYGON ((-43.472501 -22.489448, -43.472365 -2...</td>\n",
       "      <td>NaN</td>\n",
       "      <td>1</td>\n",
       "    </tr>\n",
       "    <tr>\n",
       "      <th>2</th>\n",
       "      <td>2</td>\n",
       "      <td>proj_ZCspL8JYmUu0OXcx6O73I1j0</td>\n",
       "      <td>site_Wl3hF91IBkei1Xy</td>\n",
       "      <td>The area to be reforested is around the Tinguá...</td>\n",
       "      <td>3.076566</td>\n",
       "      <td>3418.0</td>\n",
       "      <td>br</td>\n",
       "      <td>ITPA was born in 1998, from the initiative of ...</td>\n",
       "      <td>2012.0</td>\n",
       "      <td>90.0</td>\n",
       "      <td>Planet for the Planet</td>\n",
       "      <td>https://web.plant-for-the-planet.org/en/forest...</td>\n",
       "      <td>NaN</td>\n",
       "      <td>None</td>\n",
       "      <td>POLYGON ((-43.462002 -22.477901, -43.46583 -22...</td>\n",
       "      <td>NaN</td>\n",
       "      <td>1</td>\n",
       "    </tr>\n",
       "  </tbody>\n",
       "</table>\n",
       "</div>"
      ],
      "text/plain": [
       "   site_id_created            project_id_reported      site_id_reported  \\\n",
       "0                0  proj_ezpAp1POh20dBnYpx0BjhU35  site_W97pqKxXURFOA1E   \n",
       "1                1  proj_ZCspL8JYmUu0OXcx6O73I1j0  site_NekKEGqkIO4rZ5C   \n",
       "2                2  proj_ZCspL8JYmUu0OXcx6O73I1j0  site_Wl3hF91IBkei1Xy   \n",
       "\n",
       "                           site_description_reported  site_sqkm  \\\n",
       "0             Farm for the Future demonstration plot   0.013591   \n",
       "1  The area to be reforested is around the Tinguá...   0.631388   \n",
       "2  The area to be reforested is around the Tinguá...   3.076566   \n",
       "\n",
       "   trees_planted_reported country  \\\n",
       "0                   313.0      br   \n",
       "1                  3418.0      br   \n",
       "2                  3418.0      br   \n",
       "\n",
       "                        project_description_reported planting_date_reported  \\\n",
       "0  This project will be implemented at Farm of th...                    NaN   \n",
       "1  ITPA was born in 1998, from the initiative of ...                 2012.0   \n",
       "2  ITPA was born in 1998, from the initiative of ...                 2012.0   \n",
       "\n",
       "   survival_rate_reported              host_name  \\\n",
       "0                    80.0  Planet for the Planet   \n",
       "1                    90.0  Planet for the Planet   \n",
       "2                    90.0  Planet for the Planet   \n",
       "\n",
       "                                                 url  species_count_reported  \\\n",
       "0  https://web.plant-for-the-planet.org/en/farmof...                     NaN   \n",
       "1  https://web.plant-for-the-planet.org/en/forest...                     NaN   \n",
       "2  https://web.plant-for-the-planet.org/en/forest...                     NaN   \n",
       "\n",
       "  species_planted_reported                                           geometry  \\\n",
       "0                     None  POLYGON ((-49.958833158016205 -9.3510733412391...   \n",
       "1                     None  POLYGON ((-43.472501 -22.489448, -43.472365 -2...   \n",
       "2                     None  POLYGON ((-43.462002 -22.477901, -43.46583 -22...   \n",
       "\n",
       "  Creator  project_id_created  \n",
       "0     NaN                   0  \n",
       "1     NaN                   1  \n",
       "2     NaN                   1  "
      ]
     },
     "execution_count": 72,
     "metadata": {},
     "output_type": "execute_result"
    }
   ],
   "source": [
    "expanded_gdf.head(3)"
   ]
  },
  {
   "cell_type": "code",
   "execution_count": 73,
   "metadata": {},
   "outputs": [],
   "source": [
    "\n",
    "expanded_gdf['geometry'] = expanded_gdf['geometry'].apply(wkt.loads)  "
   ]
  },
  {
   "cell_type": "code",
   "execution_count": 74,
   "metadata": {},
   "outputs": [
    {
     "name": "stdout",
     "output_type": "stream",
     "text": [
      "Is expanded_gdf a GeoDataFrame? True\n"
     ]
    }
   ],
   "source": [
    "\n",
    "is_geodataframe = isinstance(expanded_gdf, gpd.GeoDataFrame)\n",
    "\n",
    "print(f\"Is expanded_gdf a GeoDataFrame? {is_geodataframe}\")"
   ]
  },
  {
   "cell_type": "code",
   "execution_count": 75,
   "metadata": {},
   "outputs": [
    {
     "data": {
      "text/plain": [
       "array([ 80.,  90.,  93.,  83.,  95.,  78.,  98.,  nan,  92.,  50.,  70.,\n",
       "        89.,  94.,  85.,  99.,  87., 100.,  73.,  75.,  60.,  91.,  82.,\n",
       "        68.,  69.,  65.,  88.,  97.,   0.])"
      ]
     },
     "execution_count": 75,
     "metadata": {},
     "output_type": "execute_result"
    }
   ],
   "source": [
    "expanded_gdf.survival_rate_reported.unique()"
   ]
  },
  {
   "cell_type": "code",
   "execution_count": 76,
   "metadata": {},
   "outputs": [
    {
     "name": "stdout",
     "output_type": "stream",
     "text": [
      "Is expanded_gdf a GeoDataFrame? True\n"
     ]
    }
   ],
   "source": [
    "import pandas as pd\n",
    "\n",
    "is_geodataframe = isinstance(expanded_gdf, gpd.GeoDataFrame)\n",
    "print(f\"Is expanded_gdf a GeoDataFrame? {is_geodataframe}\")\n",
    "\n",
    "if is_geodataframe:\n",
    " \n",
    "    expanded_gdf['planting_date_reported'] = pd.to_datetime(expanded_gdf['planting_date_reported'], errors='coerce')\n",
    "    \n",
    "    expanded_gdf = expanded_gdf.set_geometry(\"geometry\")\n",
    "    expanded_gdf.to_parquet(\"../midsave/consolidated_reforestation_projects.parquet\")"
   ]
  }
 ],
 "metadata": {
  "kernelspec": {
   "display_name": "Python 3 (ipykernel)",
   "language": "python",
   "name": "python3"
  },
  "language_info": {
   "codemirror_mode": {
    "name": "ipython",
    "version": 3
   },
   "file_extension": ".py",
   "mimetype": "text/x-python",
   "name": "python",
   "nbconvert_exporter": "python",
   "pygments_lexer": "ipython3",
   "version": "3.9.6"
  },
  "varInspector": {
   "cols": {
    "lenName": 16,
    "lenType": 16,
    "lenVar": 40
   },
   "kernels_config": {
    "python": {
     "delete_cmd_postfix": "",
     "delete_cmd_prefix": "del ",
     "library": "var_list.py",
     "varRefreshCmd": "print(var_dic_list())"
    },
    "r": {
     "delete_cmd_postfix": ") ",
     "delete_cmd_prefix": "rm(",
     "library": "var_list.r",
     "varRefreshCmd": "cat(var_dic_list()) "
    }
   },
   "types_to_exclude": [
    "module",
    "function",
    "builtin_function_or_method",
    "instance",
    "_Feature"
   ],
   "window_display": false
  }
 },
 "nbformat": 4,
 "nbformat_minor": 4
}
