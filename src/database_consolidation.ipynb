{
 "cells": [
  {
   "cell_type": "markdown",
   "metadata": {},
   "source": [
    "In this script, we combine all the sites from the different reforestation projects from different organization to one dataset and do some initial filtering."
   ]
  },
  {
   "cell_type": "code",
   "execution_count": 7,
   "metadata": {},
   "outputs": [],
   "source": [
    "import geopandas as gpd\n",
    "from shapely.geometry import shape\n",
    "import json\n",
    "import pandas as pd\n",
    "import numpy as np\n",
    "from shapely import wkt"
   ]
  },
  {
   "cell_type": "markdown",
   "metadata": {},
   "source": [
    "#### Plant_planet_data"
   ]
  },
  {
   "cell_type": "markdown",
   "metadata": {},
   "source": [
    "\n",
    "We extracted the data from https://www.plant-for-the-planet.org as described in the script 'Plant_Planet_Meta_Data_preprocessing.ipynb'."
   ]
  },
  {
   "cell_type": "code",
   "execution_count": 66,
   "metadata": {},
   "outputs": [
    {
     "name": "stdout",
     "output_type": "stream",
     "text": [
      "<class 'geopandas.geodataframe.GeoDataFrame'>\n",
      "RangeIndex: 3003 entries, 0 to 3002\n",
      "Data columns (total 15 columns):\n",
      " #   Column                        Non-Null Count  Dtype   \n",
      "---  ------                        --------------  -----   \n",
      " 0   project_id_reported           3003 non-null   object  \n",
      " 1   site_id_reported              3003 non-null   object  \n",
      " 2   site_description_reported     1724 non-null   object  \n",
      " 3   site_status_reported          3001 non-null   object  \n",
      " 4   site_sqkm                     3003 non-null   float64 \n",
      " 5   trees_planted_reported        2988 non-null   object  \n",
      " 6   country                       3003 non-null   object  \n",
      " 7   project_description_reported  3003 non-null   object  \n",
      " 8   planting_date_reported        2533 non-null   object  \n",
      " 9   survival_rate_reported        2300 non-null   object  \n",
      " 10  host_name                     3003 non-null   object  \n",
      " 11  url                           3003 non-null   object  \n",
      " 12  species_count_reported        0 non-null      object  \n",
      " 13  species_planted_reported      0 non-null      object  \n",
      " 14  geometry                      2998 non-null   geometry\n",
      "dtypes: float64(1), geometry(1), object(13)\n",
      "memory usage: 352.0+ KB\n"
     ]
    }
   ],
   "source": [
    "df_plant = gpd.read_file(\"../midsave/plant_for_planet.gpkg\")\n",
    "df_plant.info()"
   ]
  },
  {
   "cell_type": "markdown",
   "metadata": {},
   "source": [
    "#### Tree_Nation"
   ]
  },
  {
   "cell_type": "markdown",
   "metadata": {},
   "source": [
    "We extracted and filtered  the data from https://tree-nation.com/projects as described in the script 'Tree_Nation-meta_data_pre.ipynb'."
   ]
  },
  {
   "cell_type": "code",
   "execution_count": 68,
   "metadata": {},
   "outputs": [
    {
     "name": "stdout",
     "output_type": "stream",
     "text": [
      "<class 'geopandas.geodataframe.GeoDataFrame'>\n",
      "RangeIndex: 1238 entries, 0 to 1237\n",
      "Data columns (total 13 columns):\n",
      " #   Column                        Non-Null Count  Dtype              \n",
      "---  ------                        --------------  -----              \n",
      " 0   planting_date_reported        1238 non-null   datetime64[ns, UTC]\n",
      " 1   project_description_reported  1238 non-null   object             \n",
      " 2   site_id_reported              1238 non-null   int64              \n",
      " 3   url                           1238 non-null   object             \n",
      " 4   project_id_reported           1238 non-null   int64              \n",
      " 5   trees_planted_reported        1238 non-null   int64              \n",
      " 6   site_sqkm                     1238 non-null   float64            \n",
      " 7   host_name                     1238 non-null   object             \n",
      " 8   species_count_reported        0 non-null      object             \n",
      " 9   species_planted_reported      0 non-null      object             \n",
      " 10  country                       0 non-null      object             \n",
      " 11  survival_rate_reported        0 non-null      object             \n",
      " 12  geometry                      1178 non-null   geometry           \n",
      "dtypes: datetime64[ns, UTC](1), float64(1), geometry(1), int64(3), object(7)\n",
      "memory usage: 125.9+ KB\n"
     ]
    },
    {
     "name": "stderr",
     "output_type": "stream",
     "text": [
      "/opt/anaconda3/lib/python3.12/site-packages/geopandas/io/file.py:399: FutureWarning: errors='ignore' is deprecated and will raise in a future version. Use to_datetime without passing `errors` and catch exceptions explicitly instead\n",
      "  as_dt = pd.to_datetime(df[k], errors=\"ignore\")\n"
     ]
    }
   ],
   "source": [
    "df_tn =gpd.read_file(\"../midsave/tree_nation.gpkg\")\n",
    "df_tn.info()"
   ]
  },
  {
   "cell_type": "markdown",
   "metadata": {},
   "source": [
    "#### Open_Forest_protocol"
   ]
  },
  {
   "cell_type": "markdown",
   "metadata": {},
   "source": [
    "We extracted and filtered  the data from https://atlas.openforestprotocol.org/  as described in the script  \"open_forest_projests_Data_filtering.ipynb\"."
   ]
  },
  {
   "cell_type": "code",
   "execution_count": 70,
   "metadata": {},
   "outputs": [
    {
     "name": "stdout",
     "output_type": "stream",
     "text": [
      "<class 'geopandas.geodataframe.GeoDataFrame'>\n",
      "RangeIndex: 112 entries, 0 to 111\n",
      "Data columns (total 13 columns):\n",
      " #   Column                        Non-Null Count  Dtype   \n",
      "---  ------                        --------------  -----   \n",
      " 0   project_id_reported           112 non-null    int64   \n",
      " 1   site_id_reported              112 non-null    int64   \n",
      " 2   project_description_reported  112 non-null    object  \n",
      " 3   site_sqkm                     112 non-null    float64 \n",
      " 4   country                       111 non-null    object  \n",
      " 5   host_name                     112 non-null    object  \n",
      " 6   url                           112 non-null    object  \n",
      " 7   species_count_reported        0 non-null      object  \n",
      " 8   species_planted_reported      0 non-null      object  \n",
      " 9   planting_date_reported        0 non-null      object  \n",
      " 10  survival_rate_reported        0 non-null      object  \n",
      " 11  trees_planted_reported        0 non-null      object  \n",
      " 12  geometry                      103 non-null    geometry\n",
      "dtypes: float64(1), geometry(1), int64(2), object(9)\n",
      "memory usage: 11.5+ KB\n"
     ]
    }
   ],
   "source": [
    "df_atlas = gpd.read_file(\"../midsave/atlas.gpkg\")\n",
    "df_atlas.info()"
   ]
  },
  {
   "cell_type": "markdown",
   "metadata": {},
   "source": [
    "#### Verra"
   ]
  },
  {
   "cell_type": "markdown",
   "metadata": {},
   "source": [
    "We extracted and filtered  the data from https://registry.verra.org  as described in the script  \"extracting_verra_sites.ipynb\"."
   ]
  },
  {
   "cell_type": "code",
   "execution_count": 20,
   "metadata": {},
   "outputs": [
    {
     "name": "stdout",
     "output_type": "stream",
     "text": [
      "<class 'geopandas.geodataframe.GeoDataFrame'>\n",
      "RangeIndex: 1225162 entries, 0 to 1225161\n",
      "Data columns (total 8 columns):\n",
      " #   Column               Non-Null Count    Dtype   \n",
      "---  ------               --------------    -----   \n",
      " 0   site_id              1225162 non-null  int64   \n",
      " 1   project_id           1225162 non-null  int64   \n",
      " 2   project_description  1225162 non-null  object  \n",
      " 3   sites_sqkm           1225162 non-null  float64 \n",
      " 4   project_name         1225162 non-null  object  \n",
      " 5   status_reported      1225162 non-null  object  \n",
      " 6   country_reported     1225162 non-null  object  \n",
      " 7   geometry             1225159 non-null  geometry\n",
      "dtypes: float64(1), geometry(1), int64(2), object(4)\n",
      "memory usage: 74.8+ MB\n"
     ]
    }
   ],
   "source": [
    "df_verra = gpd.read_file(\"../midsave/verra.gpkg\")\n",
    "df_verra.info()"
   ]
  },
  {
   "cell_type": "markdown",
   "metadata": {},
   "source": [
    "#### Restor.eco"
   ]
  },
  {
   "cell_type": "markdown",
   "metadata": {},
   "source": [
    "We extracted and filtered  the data from  https://restor.eco/?lat=10.743821093825016&lng=4.473759981496621&zoom=4 as described in the script  \"restor.ipynb\"."
   ]
  },
  {
   "cell_type": "code",
   "execution_count": 72,
   "metadata": {},
   "outputs": [
    {
     "name": "stdout",
     "output_type": "stream",
     "text": [
      "<class 'geopandas.geodataframe.GeoDataFrame'>\n",
      "RangeIndex: 1741 entries, 0 to 1740\n",
      "Data columns (total 13 columns):\n",
      " #   Column                        Non-Null Count  Dtype   \n",
      "---  ------                        --------------  -----   \n",
      " 0   project_id_reported           1741 non-null   object  \n",
      " 1   project_description_reported  1741 non-null   object  \n",
      " 2   planting_date_reported        1741 non-null   object  \n",
      " 3   url                           1741 non-null   object  \n",
      " 4   site_sqkm                     1741 non-null   float64 \n",
      " 5   country                       1741 non-null   object  \n",
      " 6   site_id_reported              1741 non-null   object  \n",
      " 7   host_name                     1741 non-null   object  \n",
      " 8   species_count_reported        0 non-null      object  \n",
      " 9   species_planted_reported      0 non-null      object  \n",
      " 10  survival_rate_reported        0 non-null      object  \n",
      " 11  trees_planted_reported        0 non-null      object  \n",
      " 12  geometry                      1741 non-null   geometry\n",
      "dtypes: float64(1), geometry(1), object(11)\n",
      "memory usage: 176.9+ KB\n"
     ]
    }
   ],
   "source": [
    "df_restor = gpd.read_file(\"../midsave/restor_eco.gpkg\")\n",
    "df_restor.info()"
   ]
  },
  {
   "cell_type": "markdown",
   "metadata": {},
   "source": [
    "#### Explorer Data"
   ]
  },
  {
   "cell_type": "markdown",
   "metadata": {},
   "source": [
    "This data is extracted from the projects website https://explorer.land/x/projects as described in the script 'explorer_land.ipynb'. The column names were manually edited."
   ]
  },
  {
   "cell_type": "code",
   "execution_count": 74,
   "metadata": {},
   "outputs": [
    {
     "name": "stdout",
     "output_type": "stream",
     "text": [
      "<class 'geopandas.geodataframe.GeoDataFrame'>\n",
      "RangeIndex: 36 entries, 0 to 35\n",
      "Data columns (total 13 columns):\n",
      " #   Column                        Non-Null Count  Dtype   \n",
      "---  ------                        --------------  -----   \n",
      " 0   project_id_reported           0 non-null      object  \n",
      " 1   country                       0 non-null      object  \n",
      " 2   planting_date_reported        35 non-null     float64 \n",
      " 3   species_count_reported        0 non-null      object  \n",
      " 4   species_planted_reported      0 non-null      object  \n",
      " 5   survival_rate_reported        0 non-null      object  \n",
      " 6   site_sqkm                     36 non-null     float64 \n",
      " 7   trees_planted_reported        34 non-null     float64 \n",
      " 8   site_id_reported              36 non-null     object  \n",
      " 9   project_description_reported  36 non-null     object  \n",
      " 10  host_name                     36 non-null     object  \n",
      " 11  url                           36 non-null     object  \n",
      " 12  geometry                      36 non-null     geometry\n",
      "dtypes: float64(3), geometry(1), object(9)\n",
      "memory usage: 3.8+ KB\n"
     ]
    }
   ],
   "source": [
    "df_ex = gpd.read_file(\"../midsave/explorer_land.gpkg\")\n",
    "df_ex.info()"
   ]
  },
  {
   "cell_type": "markdown",
   "metadata": {},
   "source": [
    "#### Face the Future"
   ]
  },
  {
   "cell_type": "markdown",
   "metadata": {},
   "source": [
    "We extracted  the data from  https://facethefuture.com/#projects described in the script 'Face_Future_metadata_prepro.ipynb'."
   ]
  },
  {
   "cell_type": "code",
   "execution_count": 84,
   "metadata": {},
   "outputs": [
    {
     "name": "stdout",
     "output_type": "stream",
     "text": [
      "<class 'geopandas.geodataframe.GeoDataFrame'>\n",
      "RangeIndex: 566 entries, 0 to 565\n",
      "Data columns (total 13 columns):\n",
      " #   Column                        Non-Null Count  Dtype   \n",
      "---  ------                        --------------  -----   \n",
      " 0   project_id_reported           94 non-null     object  \n",
      " 1   site_id_reported              566 non-null    int64   \n",
      " 2   trees_planted_reported        94 non-null     float64 \n",
      " 3   site_sqkm                     566 non-null    float64 \n",
      " 4   planting_date_reported        94 non-null     float64 \n",
      " 5   project_description_reported  2 non-null      object  \n",
      " 6   host_name                     94 non-null     object  \n",
      " 7   url                           566 non-null    object  \n",
      " 8   species_count_reported        0 non-null      object  \n",
      " 9   country                       0 non-null      object  \n",
      " 10  species_planted_reported      0 non-null      object  \n",
      " 11  survival_rate_reported        0 non-null      object  \n",
      " 12  geometry                      566 non-null    geometry\n",
      "dtypes: float64(3), geometry(1), int64(1), object(8)\n",
      "memory usage: 57.6+ KB\n"
     ]
    }
   ],
   "source": [
    "df_ftf = gpd.read_file(\"../midsave/face_the_future.gpkg\")\n",
    "df_ftf.info()"
   ]
  },
  {
   "cell_type": "markdown",
   "metadata": {},
   "source": [
    "### Combining the datasets"
   ]
  },
  {
   "cell_type": "code",
   "execution_count": 87,
   "metadata": {},
   "outputs": [],
   "source": [
    "df = pd.concat([df_plant,df_tn,df_verra,df_atlas,df_restor,df_ftf,df_ex], ignore_index = True)"
   ]
  },
  {
   "cell_type": "code",
   "execution_count": 89,
   "metadata": {},
   "outputs": [
    {
     "name": "stdout",
     "output_type": "stream",
     "text": [
      "<class 'geopandas.geodataframe.GeoDataFrame'>\n",
      "RangeIndex: 1231858 entries, 0 to 1231857\n",
      "Data columns (total 22 columns):\n",
      " #   Column                        Non-Null Count    Dtype   \n",
      "---  ------                        --------------    -----   \n",
      " 0   project_id_reported           6188 non-null     object  \n",
      " 1   site_id_reported              6696 non-null     object  \n",
      " 2   site_description_reported     1724 non-null     object  \n",
      " 3   site_status_reported          3001 non-null     object  \n",
      " 4   site_sqkm                     6696 non-null     float64 \n",
      " 5   trees_planted_reported        4354 non-null     object  \n",
      " 6   country                       4855 non-null     object  \n",
      " 7   project_description_reported  6132 non-null     object  \n",
      " 8   planting_date_reported        5641 non-null     object  \n",
      " 9   survival_rate_reported        2300 non-null     object  \n",
      " 10  host_name                     6224 non-null     object  \n",
      " 11  url                           6696 non-null     object  \n",
      " 12  species_count_reported        0 non-null        object  \n",
      " 13  species_planted_reported      0 non-null        object  \n",
      " 14  geometry                      1231781 non-null  geometry\n",
      " 15  site_id                       1225162 non-null  float64 \n",
      " 16  project_id                    1225162 non-null  float64 \n",
      " 17  project_description           1225162 non-null  object  \n",
      " 18  sites_sqkm                    1225162 non-null  float64 \n",
      " 19  project_name                  1225162 non-null  object  \n",
      " 20  status_reported               1225162 non-null  object  \n",
      " 21  country_reported              1225162 non-null  object  \n",
      "dtypes: float64(4), geometry(1), object(17)\n",
      "memory usage: 206.8+ MB\n"
     ]
    }
   ],
   "source": [
    "df.info()"
   ]
  },
  {
   "cell_type": "code",
   "execution_count": null,
   "metadata": {},
   "outputs": [],
   "source": [
    "\n",
    "reference_order = dfs[0].columns.tolist()\n",
    "reordered_dfs = [df[reference_order] for df in dfs]"
   ]
  },
  {
   "cell_type": "code",
   "execution_count": null,
   "metadata": {},
   "outputs": [],
   "source": [
    "df_reforestation= pd.concat(reordered_dfs, ignore_index=True)\n",
    "df_reforestation.info()"
   ]
  },
  {
   "cell_type": "markdown",
   "metadata": {},
   "source": [
    "### Filtering only polygon/Multipolygon rows"
   ]
  },
  {
   "cell_type": "code",
   "execution_count": null,
   "metadata": {},
   "outputs": [],
   "source": [
    "\n",
    "\n",
    "def is_polygon_or_multipolygon(geometry):\n",
    "    if not isinstance(geometry, str):\n",
    "        return False\n",
    "    \n",
    "    \n",
    "    try:\n",
    "        geometry_dict = json.loads(geometry)\n",
    "        if isinstance(geometry_dict, dict) and 'type' in geometry_dict:\n",
    "            return geometry_dict['type'] in ['Polygon', 'MultiPolygon']\n",
    "    except json.JSONDecodeError:\n",
    "        pass\n",
    "    \n",
    "   \n",
    "    try:\n",
    "        geom = wkt.loads(geometry)\n",
    "        return geom.geom_type in ['Polygon', 'MultiPolygon']\n",
    "    except Exception:\n",
    "        return False\n",
    "\n",
    "df_reforestation = df_reforestation[df_reforestation['geometry_reported'].apply(is_polygon_or_multipolygon)]\n",
    "\n",
    "df_reforestation.info()"
   ]
  },
  {
   "cell_type": "markdown",
   "metadata": {},
   "source": [
    "### Filtering only polygons less than 10000kmsq"
   ]
  },
  {
   "cell_type": "code",
   "execution_count": null,
   "metadata": {},
   "outputs": [],
   "source": [
    "\n",
    "\n",
    "def parse_geometry(geometry):\n",
    "    if pd.isnull(geometry):\n",
    "        return None\n",
    "    try:\n",
    "        # Try to parse as JSON\n",
    "        return shape(json.loads(geometry))\n",
    "    except json.JSONDecodeError:\n",
    "        # If JSON parsing fails, try to parse as WKT\n",
    "        try:\n",
    "            return wkt.loads(geometry)\n",
    "        except Exception:\n",
    "            return None\n",
    "\n",
    "df_reforestation['geometry'] = df_reforestation['geometry_reported'].apply(parse_geometry)\n",
    "\n",
    "gdf = gpd.GeoDataFrame(df_reforestation, geometry='geometry')\n",
    "\n",
    "gdf.crs = \"EPSG:4326\"\n",
    "\n",
    "gdf = gdf.to_crs(epsg=3395)\n",
    "\n",
    "gdf.loc[gdf['site_sqkm'].isnull(), 'site_sqkm'] = gdf['geometry'].area / 1e6"
   ]
  },
  {
   "cell_type": "code",
   "execution_count": null,
   "metadata": {},
   "outputs": [],
   "source": [
    "\n",
    "\n",
    "\n",
    "gdf['site_sqkm'] = pd.to_numeric(gdf['site_sqkm'], errors='coerce')\n",
    "\n",
    "\n",
    "gdf_filtered = gdf[gdf['site_sqkm'] < 10000]\n",
    "gdf_filtered.info()"
   ]
  },
  {
   "cell_type": "markdown",
   "metadata": {},
   "source": [
    "### Dropping duplicates"
   ]
  },
  {
   "cell_type": "code",
   "execution_count": null,
   "metadata": {},
   "outputs": [],
   "source": [
    "gdf_filtered.drop_duplicates('geometry_reported', inplace = True)"
   ]
  },
  {
   "cell_type": "code",
   "execution_count": null,
   "metadata": {},
   "outputs": [],
   "source": [
    "gdf_filtered.info()"
   ]
  },
  {
   "cell_type": "markdown",
   "metadata": {},
   "source": [
    "#### Creating unique site and projects Ids"
   ]
  },
  {
   "cell_type": "code",
   "execution_count": null,
   "metadata": {},
   "outputs": [],
   "source": [
    "\n",
    "gdf_filtered['created_site_ids'] = ['reforest_site_{}'.format(i) for i in range(1, len(gdf_filtered) + 1)]\n",
    "\n",
    "\n",
    "unique_project_ids = gdf_filtered['project_id_reported'].unique()\n",
    "project_id_mapping = {id: 'reforest_proj_{}'.format(i) for i, id in enumerate(unique_project_ids, 1)}\n",
    "\n",
    "\n",
    "gdf_filtered['created_project_ids'] = gdf_filtered['project_id_reported'].map(project_id_mapping)"
   ]
  },
  {
   "cell_type": "code",
   "execution_count": null,
   "metadata": {},
   "outputs": [],
   "source": [
    "gdf_filtered.describe()"
   ]
  },
  {
   "cell_type": "code",
   "execution_count": null,
   "metadata": {},
   "outputs": [],
   "source": [
    "#Saving The  data to csv\n",
    "#gdf_filtered.to_csv('\"../input/consolidated_reforestation_projects.csv\"', index=False)\n",
    "# Saving the data to GeoJSON\n",
    "gdf_filtered.to_file(\"../input/consolidated_reforestation_projects.geojson\", driver=\"GeoJSON\")"
   ]
  }
 ],
 "metadata": {
  "kernelspec": {
   "display_name": "Python 3 (ipykernel)",
   "language": "python",
   "name": "python3"
  },
  "language_info": {
   "codemirror_mode": {
    "name": "ipython",
    "version": 3
   },
   "file_extension": ".py",
   "mimetype": "text/x-python",
   "name": "python",
   "nbconvert_exporter": "python",
   "pygments_lexer": "ipython3",
   "version": "3.12.4"
  },
  "varInspector": {
   "cols": {
    "lenName": 16,
    "lenType": 16,
    "lenVar": 40
   },
   "kernels_config": {
    "python": {
     "delete_cmd_postfix": "",
     "delete_cmd_prefix": "del ",
     "library": "var_list.py",
     "varRefreshCmd": "print(var_dic_list())"
    },
    "r": {
     "delete_cmd_postfix": ") ",
     "delete_cmd_prefix": "rm(",
     "library": "var_list.r",
     "varRefreshCmd": "cat(var_dic_list()) "
    }
   },
   "types_to_exclude": [
    "module",
    "function",
    "builtin_function_or_method",
    "instance",
    "_Feature"
   ],
   "window_display": false
  }
 },
 "nbformat": 4,
 "nbformat_minor": 4
}
