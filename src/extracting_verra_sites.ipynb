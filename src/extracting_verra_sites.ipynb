{
 "cells": [
  {
   "cell_type": "code",
   "execution_count": null,
   "id": "bde007a7",
   "metadata": {},
   "outputs": [],
   "source": [
    "import requests\n",
    "import pandas as pd\n",
    "import geopandas as gpd\n",
    "from bs4 import BeautifulSoup\n",
    "from shapely.ops import transform\n",
    "from shapely.geometry import MultiPolygon, Polygon\n",
    "from io import BytesIO\n",
    "import itertools\n",
    "from tqdm import tqdm\n",
    "import time\n",
    "from random import uniform"
   ]
  },
  {
   "cell_type": "markdown",
   "id": "ab662125",
   "metadata": {},
   "source": [
    "### Important functions"
   ]
  },
  {
   "cell_type": "code",
   "execution_count": null,
   "id": "f27290db",
   "metadata": {},
   "outputs": [],
   "source": [
    "# Function to fetch and parse KML file\n",
    "def fetch_kml(uri):\n",
    "    response = requests.get(uri)\n",
    "    if response.status_code == 200:\n",
    "        return response.content\n",
    "    else:\n",
    "        print(f\"Failed to download KML file from {uri}\")\n",
    "        return None\n",
    "\n",
    "# Function to parse KML and convert to geometries\n",
    "def parse_kml(content):\n",
    "    soup = BeautifulSoup(content, 'xml')\n",
    "    geometries = []\n",
    "\n",
    "    # Find all MultiGeometry elements, which can host multiple Polygons\n",
    "    for multi_geom in soup.find_all('MultiGeometry'):\n",
    "        polygons = []\n",
    "        for polygon in multi_geom.find_all('Polygon'):\n",
    "            coords = polygon.find('coordinates').string.strip().split()\n",
    "            points = [tuple(map(float, c.split(','))) for c in coords]\n",
    "            polygons.append(Polygon(points))\n",
    "        if polygons:\n",
    "            geometries.append(MultiPolygon(polygons))\n",
    "\n",
    "    # Also check for individual Polygons that are not part of MultiGeometry\n",
    "    for polygon in soup.find_all('Polygon'):\n",
    "        if polygon.parent.name != 'MultiGeometry':  # Avoid reprocessing MultiGeometry polygons\n",
    "            coords = polygon.find('coordinates').string.strip().split()\n",
    "            points = [tuple(map(float, c.split(','))) for c in coords]\n",
    "            geometries.append(Polygon(points))\n",
    "\n",
    "    return geometries\n",
    "\n",
    "# Main processing\n",
    "def process_kml_uris(kml_uris):\n",
    "    all_geometries = []\n",
    "    for uri in kml_uris:\n",
    "        kml_content = fetch_kml(uri)\n",
    "        if kml_content:\n",
    "            geometries = parse_kml(kml_content)\n",
    "            all_geometries.extend(geometries)\n",
    "    return all_geometries"
   ]
  },
  {
   "cell_type": "markdown",
   "id": "acd1a4d7",
   "metadata": {},
   "source": [
    "### Read project list\n",
    "\n",
    "Project lists were acquired from the Verra registry at July 8th and 9th, 2024 by using the export to excel functionality for bulk download:\n",
    "\n",
    "- Verified Carbon Standard (VCS): https://registry.verra.org/app/search/VCS/All%20Projects\n",
    "- Climate, Community & Biodiversity Standards (CCB): https://registry.verra.org/app/search/CCB/All%20Projects\n",
    "- Sustainable Development Verified Impact Standard (VISta): https://registry.verra.org/app/search/SDVISTA/All%20Projects"
   ]
  },
  {
   "cell_type": "code",
   "execution_count": null,
   "id": "970b9cdd",
   "metadata": {},
   "outputs": [],
   "source": [
    "projects_vcs = pd.read_excel('/Users/tillkoebe/Documents/GitHub/Forest_Monitoring/input/Verra/allprojects_vcs.xlsx')\n",
    "projects_ccb = pd.read_excel('/Users/tillkoebe/Documents/GitHub/Forest_Monitoring/input/Verra/allprojects_ccb.xlsx')\n",
    "projects_vista = pd.read_excel('/Users/tillkoebe/Documents/GitHub/Forest_Monitoring/input/Verra/allprojects_vista.xlsx')"
   ]
  },
  {
   "cell_type": "code",
   "execution_count": null,
   "id": "393cd55d",
   "metadata": {
    "scrolled": true
   },
   "outputs": [],
   "source": [
    "projects_vcs.dropna(subset = 'AFOLU Activities', inplace = True)\n",
    "projects_ccb.dropna(subset = 'CCB Project Type', inplace = True)\n",
    "projects_vista.dropna(subset = 'Project Type', inplace = True)"
   ]
  },
  {
   "cell_type": "code",
   "execution_count": null,
   "id": "7f5f904f",
   "metadata": {},
   "outputs": [],
   "source": [
    "project_list_vcs = projects_vcs[projects_vcs['AFOLU Activities'].str.contains(\"ARR\")].ID.tolist()\n",
    "project_list_ccb = projects_ccb[projects_ccb['CCB Project Type'].str.contains(\"Afforestation, Reforestation and Revegetation\")].ID.tolist()\n",
    "project_list_vista = projects_vista[projects_vista['Project Type'].str.contains(\"Agriculture Forestry and Other Land Use\")].ID.tolist()"
   ]
  },
  {
   "cell_type": "code",
   "execution_count": null,
   "id": "b8b86f6b",
   "metadata": {},
   "outputs": [],
   "source": [
    "project_list = list(set(itertools.chain(project_list_vcs, project_list_ccb, project_list_vista)))"
   ]
  },
  {
   "cell_type": "code",
   "execution_count": null,
   "id": "30cd7d78",
   "metadata": {},
   "outputs": [],
   "source": [
    "project_list[0:4]"
   ]
  },
  {
   "cell_type": "markdown",
   "id": "810be2e8",
   "metadata": {},
   "source": [
    "### Extract geometries per project"
   ]
  },
  {
   "cell_type": "code",
   "execution_count": null,
   "id": "baf32755",
   "metadata": {},
   "outputs": [],
   "source": [
    "project_gdf = pd.DataFrame()\n",
    "\n",
    "for project_id in tqdm(project_list):\n",
    "\n",
    "    # Make the GET request to fetch the JSON\n",
    "    response = requests.get(f'https://registry.verra.org/uiapi/resource/resourceSummary/{project_id}')\n",
    "\n",
    "    if response.status_code == 200:\n",
    "        data = response.json()\n",
    "\n",
    "        # Extract KML URIs\n",
    "        kml_uris = []\n",
    "        for group in data.get('documentGroups', []):\n",
    "            for document in group.get('documents', []):\n",
    "                if document['documentType'].lower() == 'kml file' or document['documentName'].endswith('.kml'):\n",
    "                    kml_uris.append(document['uri'])\n",
    "\n",
    "        # Process the KML URIs to get geometries\n",
    "        geometries = process_kml_uris(kml_uris)\n",
    "\n",
    "        # Convert geometries to GeoPandas DataFrame\n",
    "        temp = gpd.GeoDataFrame(geometry=geometries)\n",
    "        \n",
    "        # Assign CRS\n",
    "        if abs(gdf.geometry[0].centroid.y).max() > 200:\n",
    "            temp = temp.set_crs(3857).to_crs(4326)\n",
    "        else:\n",
    "            temp = temp.set_crs(4326)\n",
    "\n",
    "        # Explode MultiPolygons into individual Polygons\n",
    "        temp = temp.explode(index_parts=True)\n",
    "        \n",
    "        # 3D to 2D geometries\n",
    "        temp['geometry'] = temp['geometry'].apply(lambda geometry: transform(lambda x, y, z=None: (x, y), geometry))\n",
    "        \n",
    "        # Assign identifiers\n",
    "        temp['project_id'] = project_id\n",
    "        temp = temp.reset_index(drop = True).reset_index().rename(columns={'index': 'site_id'})\n",
    "        \n",
    "        # Add project to output\n",
    "        project_gdf = pd.concat([project_gdf, temp], ignore_index=True)\n",
    "        \n",
    "        # Delay to avoid excess request responses\n",
    "        time.sleep(uniform(0, 2.0))\n",
    "        \n",
    "    else:\n",
    "        print(f\"Request failed with status code: {response.status_code}\")\n"
   ]
  },
  {
   "cell_type": "code",
   "execution_count": null,
   "id": "1ff0b0e1",
   "metadata": {},
   "outputs": [],
   "source": [
    "project_gdf.project_id.shape"
   ]
  },
  {
   "cell_type": "code",
   "execution_count": null,
   "id": "d6087bd5",
   "metadata": {},
   "outputs": [],
   "source": [
    "project_gdf.to_file(\"/Users/tillkoebe/Documents/GitHub/Forest_Monitoring/input/Verra/verra_sites.gpkg\", driver=\"GPKG\")"
   ]
  },
  {
   "cell_type": "markdown",
   "id": "524f6080",
   "metadata": {},
   "source": [
    "### Some feasibility checks"
   ]
  },
  {
   "cell_type": "code",
   "execution_count": null,
   "id": "53e02c74",
   "metadata": {},
   "outputs": [],
   "source": [
    "project_gdf = gpd.read_file(\"/Users/tillkoebe/Documents/GitHub/Forest_Monitoring/input/Verra/verra_sites.gpkg\")"
   ]
  },
  {
   "cell_type": "code",
   "execution_count": null,
   "id": "d9e2fdf3",
   "metadata": {},
   "outputs": [],
   "source": [
    "project_gdf['sqkm'] = project_gdf.to_crs(3857).area/1000000"
   ]
  },
  {
   "cell_type": "code",
   "execution_count": null,
   "id": "1def4d8a",
   "metadata": {},
   "outputs": [],
   "source": [
    "project_gdf.sqkm.describe()"
   ]
  },
  {
   "cell_type": "code",
   "execution_count": null,
   "id": "c5facfe5",
   "metadata": {},
   "outputs": [],
   "source": [
    "project_gdf[project_gdf.sqkm >= 10000]"
   ]
  },
  {
   "cell_type": "code",
   "execution_count": null,
   "id": "cfa81cf8",
   "metadata": {},
   "outputs": [],
   "source": [
    "project_gdf[project_gdf.sqkm == 0]"
   ]
  }
 ],
 "metadata": {
  "kernelspec": {
   "display_name": "Python 3 (ipykernel)",
   "language": "python",
   "name": "python3"
  },
  "language_info": {
   "codemirror_mode": {
    "name": "ipython",
    "version": 3
   },
   "file_extension": ".py",
   "mimetype": "text/x-python",
   "name": "python",
   "nbconvert_exporter": "python",
   "pygments_lexer": "ipython3",
   "version": "3.10.9"
  },
  "varInspector": {
   "cols": {
    "lenName": 16,
    "lenType": 16,
    "lenVar": 40
   },
   "kernels_config": {
    "python": {
     "delete_cmd_postfix": "",
     "delete_cmd_prefix": "del ",
     "library": "var_list.py",
     "varRefreshCmd": "print(var_dic_list())"
    },
    "r": {
     "delete_cmd_postfix": ") ",
     "delete_cmd_prefix": "rm(",
     "library": "var_list.r",
     "varRefreshCmd": "cat(var_dic_list()) "
    }
   },
   "types_to_exclude": [
    "module",
    "function",
    "builtin_function_or_method",
    "instance",
    "_Feature"
   ],
   "window_display": false
  }
 },
 "nbformat": 4,
 "nbformat_minor": 5
}
