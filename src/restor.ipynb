{
 "cells": [
  {
   "cell_type": "code",
   "execution_count": 1,
   "metadata": {},
   "outputs": [],
   "source": [
    "import pandas as pd\n",
    "import geopandas as gpd\n",
    "from shapely.geometry import shape, Polygon, MultiPolygon\n",
    "import numpy as np\n",
    "import requests\n",
    "import json\n",
    "import time\n",
    "import requests\n",
    "from requests.adapters import HTTPAdapter\n",
    "from requests.packages.urllib3.util.retry import Retry\n",
    "from helper_functions import *"
   ]
  },
  {
   "cell_type": "code",
   "execution_count": null,
   "metadata": {},
   "outputs": [],
   "source": [
    "\n",
    "\n",
    "# Defining  longitude ranges (left to right) in 45-degree increments to extract the ids from the Restor website\n",
    "longitude_lefts = [-180 + i * 45 for i in range(8)]\n",
    "\n",
    "#Defining the latitude steps following the web mercator projection as the Restor website uses this projection\n",
    "latitude_steps = [\n",
    "    85.0511,  # The Maximum latitude in Web Mercator\n",
    "    79.17133464081945,\n",
    "    66.51326044311186,\n",
    "    40.97989806962013,\n",
    "    0,\n",
    "    -40.97989806962013,\n",
    "    -66.51326044311186,\n",
    "    -79.17133464081945,\n",
    "    -85.0511  # Minimum latitude in Web Mercator\n",
    "]\n",
    "\n",
    "# extracting all urls for the Restor website using the longitude and latitude stepsas per the restor website\n",
    "urls = []\n",
    "for left in longitude_lefts:\n",
    "    right = left + 45\n",
    "    for i in range(len(latitude_steps) - 1):\n",
    "        top = latitude_steps[i]\n",
    "        bottom = latitude_steps[i + 1]\n",
    "        if top > bottom:  \n",
    "            url = (\n",
    "                f\"https://restor2-prod-1-api.restor.eco/sites/3/center-points/\"\n",
    "                f\"?bottom={bottom}&left={left}&right={right}&top={top}&visibility=PUBLIC\"\n",
    "            )\n",
    "            urls.append(url)\n",
    "\n",
    "# Collect all ids from all urls in the Restor website\n",
    "all_data = []\n",
    "\n",
    "for url in urls:\n",
    "    try:\n",
    "        response = requests.get(url, headers={'User-Agent': 'Mozilla/5.0'})\n",
    "        response.raise_for_status()  \n",
    "        data = response.json()\n",
    "        if isinstance(data, list):\n",
    "            all_data.extend(data)\n",
    "            print(f\"Fetched {len(data)} items from {url}\")\n",
    "        else:\n",
    "            print(f\"Unexpected data format from {url}\")\n",
    "    except Exception as e:\n",
    "        print(f\"Error fetching {url}: {e}\")\n",
    "    time.sleep(1)  \n",
    "\n",
    "# Saving all collected ids to a json file\n",
    "with open('../input/Restor_Eco/all_restor_data.json', 'w') as f:\n",
    "    json.dump(all_data, f, indent=2)\n",
    "\n",
    "print(f\"Data collection complete. Saved {len(all_data)} items to all_restor_data.json.\")"
   ]
  },
  {
   "cell_type": "code",
   "execution_count": null,
   "metadata": {},
   "outputs": [],
   "source": [
    "\n",
    "with open('../input/Restor_Eco/all_restor_data.json', 'r') as f:\n",
    "    data = json.load(f)\n",
    "\n",
    "df = pd.DataFrame(data)\n",
    "\n",
    "result_list = []\n",
    "\n",
    "for id in df['id']:\n",
    "    data = fetch_data(id)\n",
    "    if data is not None:\n",
    "        result_list.append(data)\n",
    "\n",
    "    time.sleep(1)  \n",
    "\n",
    "# Converting the list of dictionaries to DataFrame\n",
    "if result_list:\n",
    "    final_df = pd.DataFrame(result_list)\n",
    "    final_df.reset_index(drop=True, inplace=True)\n",
    "    print(final_df)\n",
    "\n",
    "    final_df.to_csv('../input/Restor_Eco/final_restor_data.csv', index=False)\n",
    "else:\n",
    "    print(\"No data was retrieved\")"
   ]
  },
  {
   "cell_type": "code",
   "execution_count": 3,
   "metadata": {},
   "outputs": [
    {
     "data": {
      "text/html": [
       "\n",
       "            <style>\n",
       "                .geemap-dark {\n",
       "                    --jp-widgets-color: white;\n",
       "                    --jp-widgets-label-color: white;\n",
       "                    --jp-ui-font-color1: white;\n",
       "                    --jp-layout-color2: #454545;\n",
       "                    background-color: #383838;\n",
       "                }\n",
       "\n",
       "                .geemap-dark .jupyter-button {\n",
       "                    --jp-layout-color3: #383838;\n",
       "                }\n",
       "\n",
       "                .geemap-colab {\n",
       "                    background-color: var(--colab-primary-surface-color, white);\n",
       "                }\n",
       "\n",
       "                .geemap-colab .jupyter-button {\n",
       "                    --jp-layout-color3: var(--colab-primary-surface-color, white);\n",
       "                }\n",
       "            </style>\n",
       "            "
      ],
      "text/plain": [
       "<IPython.core.display.HTML object>"
      ]
     },
     "metadata": {},
     "output_type": "display_data"
    },
    {
     "name": "stdout",
     "output_type": "stream",
     "text": [
      "<class 'pandas.core.frame.DataFrame'>\n",
      "Index: 37466 entries, 8 to 59485\n",
      "Data columns (total 32 columns):\n",
      " #   Column                     Non-Null Count  Dtype  \n",
      "---  ------                     --------------  -----  \n",
      " 0   id                         37466 non-null  object \n",
      " 1   name                       37373 non-null  object \n",
      " 2   polygon                    37466 non-null  object \n",
      " 3   boundingBox                37466 non-null  object \n",
      " 4   siteType                   37466 non-null  object \n",
      " 5   siteVisibility             37466 non-null  object \n",
      " 6   surfaceAreaKm2             37466 non-null  float64\n",
      " 7   countryCode                37447 non-null  object \n",
      " 8   interventionStartYear      35753 non-null  float64\n",
      " 9   stage                      37466 non-null  object \n",
      " 10  interventionType           37466 non-null  object \n",
      " 11  goals                      37466 non-null  object \n",
      " 12  supportSought              37466 non-null  object \n",
      " 13  website                    19525 non-null  object \n",
      " 14  contactEmail               18226 non-null  object \n",
      " 15  photoIds                   37466 non-null  object \n",
      " 16  customFields               37466 non-null  object \n",
      " 17  isFeatured                 37466 non-null  bool   \n",
      " 18  createdAt                  37466 non-null  object \n",
      " 19  updatedAt                  37466 non-null  object \n",
      " 20  permissions                37466 non-null  object \n",
      " 21  shares                     37466 non-null  object \n",
      " 22  description                20513 non-null  object \n",
      " 23  preInterventionLandUse     31829 non-null  object \n",
      " 24  postInterventionLandCover  30380 non-null  object \n",
      " 25  siteManagement             20344 non-null  object \n",
      " 26  siteOwnership              20341 non-null  object \n",
      " 27  donateUrl                  5304 non-null   object \n",
      " 28  customLinkUrl              736 non-null    object \n",
      " 29  customLinkText             736 non-null    object \n",
      " 30  beforeAfter                164 non-null    object \n",
      " 31  landTenureUrl              298 non-null    object \n",
      "dtypes: bool(1), float64(2), object(29)\n",
      "memory usage: 9.2+ MB\n"
     ]
    }
   ],
   "source": [
    "df = final_df[final_df[\"siteType\"] == \"RESTORATION\"]\n",
    "df.info()\n"
   ]
  },
  {
   "cell_type": "markdown",
   "metadata": {},
   "source": [
    "### Fix geometries"
   ]
  },
  {
   "cell_type": "code",
   "execution_count": 7,
   "metadata": {},
   "outputs": [
    {
     "data": {
      "text/html": [
       "\n",
       "            <style>\n",
       "                .geemap-dark {\n",
       "                    --jp-widgets-color: white;\n",
       "                    --jp-widgets-label-color: white;\n",
       "                    --jp-ui-font-color1: white;\n",
       "                    --jp-layout-color2: #454545;\n",
       "                    background-color: #383838;\n",
       "                }\n",
       "\n",
       "                .geemap-dark .jupyter-button {\n",
       "                    --jp-layout-color3: #383838;\n",
       "                }\n",
       "\n",
       "                .geemap-colab {\n",
       "                    background-color: var(--colab-primary-surface-color, white);\n",
       "                }\n",
       "\n",
       "                .geemap-colab .jupyter-button {\n",
       "                    --jp-layout-color3: var(--colab-primary-surface-color, white);\n",
       "                }\n",
       "            </style>\n",
       "            "
      ],
      "text/plain": [
       "<IPython.core.display.HTML object>"
      ]
     },
     "metadata": {},
     "output_type": "display_data"
    },
    {
     "name": "stderr",
     "output_type": "stream",
     "text": [
      "/var/folders/_l/gj90rjl90fngb4_8ph5x5jhc0000gn/T/ipykernel_11315/216573655.py:2: SettingWithCopyWarning: \n",
      "A value is trying to be set on a copy of a slice from a DataFrame.\n",
      "Try using .loc[row_indexer,col_indexer] = value instead\n",
      "\n",
      "See the caveats in the documentation: https://pandas.pydata.org/pandas-docs/stable/user_guide/indexing.html#returning-a-view-versus-a-copy\n",
      "  df['polygon'] = df['polygon'].apply(ast.literal_eval)\n",
      "/var/folders/_l/gj90rjl90fngb4_8ph5x5jhc0000gn/T/ipykernel_11315/216573655.py:4: SettingWithCopyWarning: \n",
      "A value is trying to be set on a copy of a slice from a DataFrame.\n",
      "Try using .loc[row_indexer,col_indexer] = value instead\n",
      "\n",
      "See the caveats in the documentation: https://pandas.pydata.org/pandas-docs/stable/user_guide/indexing.html#returning-a-view-versus-a-copy\n",
      "  df['geometry'] = df['polygon'].apply(lambda x: shape(x) if isinstance(x, dict) else Polygon())\n"
     ]
    }
   ],
   "source": [
    "# Converting string to dictionary\n",
    "df['polygon'] = df['polygon'].apply(ast.literal_eval)\n",
    "\n",
    "df['geometry'] = df['polygon'].apply(lambda x: shape(x) if isinstance(x, dict) else Polygon())\n"
   ]
  },
  {
   "cell_type": "code",
   "execution_count": 9,
   "metadata": {},
   "outputs": [
    {
     "data": {
      "text/html": [
       "\n",
       "            <style>\n",
       "                .geemap-dark {\n",
       "                    --jp-widgets-color: white;\n",
       "                    --jp-widgets-label-color: white;\n",
       "                    --jp-ui-font-color1: white;\n",
       "                    --jp-layout-color2: #454545;\n",
       "                    background-color: #383838;\n",
       "                }\n",
       "\n",
       "                .geemap-dark .jupyter-button {\n",
       "                    --jp-layout-color3: #383838;\n",
       "                }\n",
       "\n",
       "                .geemap-colab {\n",
       "                    background-color: var(--colab-primary-surface-color, white);\n",
       "                }\n",
       "\n",
       "                .geemap-colab .jupyter-button {\n",
       "                    --jp-layout-color3: var(--colab-primary-surface-color, white);\n",
       "                }\n",
       "            </style>\n",
       "            "
      ],
      "text/plain": [
       "<IPython.core.display.HTML object>"
      ]
     },
     "metadata": {},
     "output_type": "display_data"
    }
   ],
   "source": [
    "gdf = gpd.GeoDataFrame(df, geometry = 'geometry', crs = 'EPSG:4326')\n",
    "gdf['geometry'] = gdf['geometry'].make_valid()"
   ]
  },
  {
   "cell_type": "code",
   "execution_count": 10,
   "metadata": {},
   "outputs": [
    {
     "data": {
      "text/html": [
       "\n",
       "            <style>\n",
       "                .geemap-dark {\n",
       "                    --jp-widgets-color: white;\n",
       "                    --jp-widgets-label-color: white;\n",
       "                    --jp-ui-font-color1: white;\n",
       "                    --jp-layout-color2: #454545;\n",
       "                    background-color: #383838;\n",
       "                }\n",
       "\n",
       "                .geemap-dark .jupyter-button {\n",
       "                    --jp-layout-color3: #383838;\n",
       "                }\n",
       "\n",
       "                .geemap-colab {\n",
       "                    background-color: var(--colab-primary-surface-color, white);\n",
       "                }\n",
       "\n",
       "                .geemap-colab .jupyter-button {\n",
       "                    --jp-layout-color3: var(--colab-primary-surface-color, white);\n",
       "                }\n",
       "            </style>\n",
       "            "
      ],
      "text/plain": [
       "<IPython.core.display.HTML object>"
      ]
     },
     "metadata": {},
     "output_type": "display_data"
    }
   ],
   "source": [
    "gdf = gdf.explode(index_parts = False)"
   ]
  },
  {
   "cell_type": "code",
   "execution_count": 11,
   "metadata": {},
   "outputs": [
    {
     "data": {
      "text/html": [
       "\n",
       "            <style>\n",
       "                .geemap-dark {\n",
       "                    --jp-widgets-color: white;\n",
       "                    --jp-widgets-label-color: white;\n",
       "                    --jp-ui-font-color1: white;\n",
       "                    --jp-layout-color2: #454545;\n",
       "                    background-color: #383838;\n",
       "                }\n",
       "\n",
       "                .geemap-dark .jupyter-button {\n",
       "                    --jp-layout-color3: #383838;\n",
       "                }\n",
       "\n",
       "                .geemap-colab {\n",
       "                    background-color: var(--colab-primary-surface-color, white);\n",
       "                }\n",
       "\n",
       "                .geemap-colab .jupyter-button {\n",
       "                    --jp-layout-color3: var(--colab-primary-surface-color, white);\n",
       "                }\n",
       "            </style>\n",
       "            "
      ],
      "text/plain": [
       "<IPython.core.display.HTML object>"
      ]
     },
     "metadata": {},
     "output_type": "display_data"
    }
   ],
   "source": [
    "gdf = gdf[(gdf.geometry.geom_type == 'Polygon') | (gdf.geometry.geom_type == 'MultiPolygon')]\n",
    "gdf = gdf.explode(index_parts = False)\n",
    "gdf = gdf.reset_index(drop = True)"
   ]
  },
  {
   "cell_type": "markdown",
   "metadata": {},
   "source": [
    "### Harmonize nomenclature"
   ]
  },
  {
   "cell_type": "code",
   "execution_count": 12,
   "metadata": {},
   "outputs": [
    {
     "data": {
      "text/html": [
       "\n",
       "            <style>\n",
       "                .geemap-dark {\n",
       "                    --jp-widgets-color: white;\n",
       "                    --jp-widgets-label-color: white;\n",
       "                    --jp-ui-font-color1: white;\n",
       "                    --jp-layout-color2: #454545;\n",
       "                    background-color: #383838;\n",
       "                }\n",
       "\n",
       "                .geemap-dark .jupyter-button {\n",
       "                    --jp-layout-color3: #383838;\n",
       "                }\n",
       "\n",
       "                .geemap-colab {\n",
       "                    background-color: var(--colab-primary-surface-color, white);\n",
       "                }\n",
       "\n",
       "                .geemap-colab .jupyter-button {\n",
       "                    --jp-layout-color3: var(--colab-primary-surface-color, white);\n",
       "                }\n",
       "            </style>\n",
       "            "
      ],
      "text/plain": [
       "<IPython.core.display.HTML object>"
      ]
     },
     "metadata": {},
     "output_type": "display_data"
    },
    {
     "data": {
      "text/plain": [
       "count    5.488000e+04\n",
       "mean     5.656300e+01\n",
       "std      1.730234e+03\n",
       "min      6.279266e-13\n",
       "25%      1.811333e-03\n",
       "50%      1.075112e-02\n",
       "75%      5.809420e-02\n",
       "max      2.362557e+05\n",
       "Name: site_sqkm, dtype: float64"
      ]
     },
     "execution_count": 12,
     "metadata": {},
     "output_type": "execute_result"
    }
   ],
   "source": [
    "gdf['site_sqkm'] = gdf['geometry'].to_crs(3857).area / 1e6\n",
    "gdf['site_sqkm'].describe()"
   ]
  },
  {
   "cell_type": "code",
   "execution_count": 13,
   "metadata": {},
   "outputs": [
    {
     "data": {
      "text/html": [
       "\n",
       "            <style>\n",
       "                .geemap-dark {\n",
       "                    --jp-widgets-color: white;\n",
       "                    --jp-widgets-label-color: white;\n",
       "                    --jp-ui-font-color1: white;\n",
       "                    --jp-layout-color2: #454545;\n",
       "                    background-color: #383838;\n",
       "                }\n",
       "\n",
       "                .geemap-dark .jupyter-button {\n",
       "                    --jp-layout-color3: #383838;\n",
       "                }\n",
       "\n",
       "                .geemap-colab {\n",
       "                    background-color: var(--colab-primary-surface-color, white);\n",
       "                }\n",
       "\n",
       "                .geemap-colab .jupyter-button {\n",
       "                    --jp-layout-color3: var(--colab-primary-surface-color, white);\n",
       "                }\n",
       "            </style>\n",
       "            "
      ],
      "text/plain": [
       "<IPython.core.display.HTML object>"
      ]
     },
     "metadata": {},
     "output_type": "display_data"
    }
   ],
   "source": [
    "gdf['country'] = gdf['countryCode'].apply(lambda x: x if isinstance(x, str) else '')"
   ]
  },
  {
   "cell_type": "code",
   "execution_count": 14,
   "metadata": {},
   "outputs": [
    {
     "data": {
      "text/html": [
       "\n",
       "            <style>\n",
       "                .geemap-dark {\n",
       "                    --jp-widgets-color: white;\n",
       "                    --jp-widgets-label-color: white;\n",
       "                    --jp-ui-font-color1: white;\n",
       "                    --jp-layout-color2: #454545;\n",
       "                    background-color: #383838;\n",
       "                }\n",
       "\n",
       "                .geemap-dark .jupyter-button {\n",
       "                    --jp-layout-color3: #383838;\n",
       "                }\n",
       "\n",
       "                .geemap-colab {\n",
       "                    background-color: var(--colab-primary-surface-color, white);\n",
       "                }\n",
       "\n",
       "                .geemap-colab .jupyter-button {\n",
       "                    --jp-layout-color3: var(--colab-primary-surface-color, white);\n",
       "                }\n",
       "            </style>\n",
       "            "
      ],
      "text/plain": [
       "<IPython.core.display.HTML object>"
      ]
     },
     "metadata": {},
     "output_type": "display_data"
    },
    {
     "name": "stdout",
     "output_type": "stream",
     "text": [
      "<class 'geopandas.geodataframe.GeoDataFrame'>\n",
      "RangeIndex: 54880 entries, 0 to 54879\n",
      "Data columns (total 35 columns):\n",
      " #   Column                     Non-Null Count  Dtype   \n",
      "---  ------                     --------------  -----   \n",
      " 0   id                         54880 non-null  object  \n",
      " 1   name                       54785 non-null  object  \n",
      " 2   polygon                    54880 non-null  object  \n",
      " 3   boundingBox                54880 non-null  object  \n",
      " 4   siteType                   54880 non-null  object  \n",
      " 5   siteVisibility             54880 non-null  object  \n",
      " 6   surfaceAreaKm2             54880 non-null  float64 \n",
      " 7   countryCode                54860 non-null  object  \n",
      " 8   interventionStartYear      53032 non-null  float64 \n",
      " 9   stage                      54880 non-null  object  \n",
      " 10  interventionType           54880 non-null  object  \n",
      " 11  goals                      54880 non-null  object  \n",
      " 12  supportSought              54880 non-null  object  \n",
      " 13  website                    30530 non-null  object  \n",
      " 14  contactEmail               29167 non-null  object  \n",
      " 15  photoIds                   54880 non-null  object  \n",
      " 16  customFields               54880 non-null  object  \n",
      " 17  isFeatured                 54880 non-null  bool    \n",
      " 18  createdAt                  54880 non-null  object  \n",
      " 19  updatedAt                  54880 non-null  object  \n",
      " 20  permissions                54880 non-null  object  \n",
      " 21  shares                     54880 non-null  object  \n",
      " 22  description                34283 non-null  object  \n",
      " 23  preInterventionLandUse     47070 non-null  object  \n",
      " 24  postInterventionLandCover  45477 non-null  object  \n",
      " 25  siteManagement             34731 non-null  object  \n",
      " 26  siteOwnership              34830 non-null  object  \n",
      " 27  donateUrl                  6355 non-null   object  \n",
      " 28  customLinkUrl              1438 non-null   object  \n",
      " 29  customLinkText             1438 non-null   object  \n",
      " 30  beforeAfter                174 non-null    object  \n",
      " 31  landTenureUrl              348 non-null    object  \n",
      " 32  geometry                   54880 non-null  geometry\n",
      " 33  site_sqkm                  54880 non-null  float64 \n",
      " 34  country                    54880 non-null  object  \n",
      "dtypes: bool(1), float64(3), geometry(1), object(30)\n",
      "memory usage: 14.3+ MB\n"
     ]
    }
   ],
   "source": [
    "gdf.info()"
   ]
  },
  {
   "cell_type": "code",
   "execution_count": 15,
   "metadata": {},
   "outputs": [
    {
     "data": {
      "text/html": [
       "\n",
       "            <style>\n",
       "                .geemap-dark {\n",
       "                    --jp-widgets-color: white;\n",
       "                    --jp-widgets-label-color: white;\n",
       "                    --jp-ui-font-color1: white;\n",
       "                    --jp-layout-color2: #454545;\n",
       "                    background-color: #383838;\n",
       "                }\n",
       "\n",
       "                .geemap-dark .jupyter-button {\n",
       "                    --jp-layout-color3: #383838;\n",
       "                }\n",
       "\n",
       "                .geemap-colab {\n",
       "                    background-color: var(--colab-primary-surface-color, white);\n",
       "                }\n",
       "\n",
       "                .geemap-colab .jupyter-button {\n",
       "                    --jp-layout-color3: var(--colab-primary-surface-color, white);\n",
       "                }\n",
       "            </style>\n",
       "            "
      ],
      "text/plain": [
       "<IPython.core.display.HTML object>"
      ]
     },
     "metadata": {},
     "output_type": "display_data"
    }
   ],
   "source": [
    "# Renaming the columns to follow our naming format in the paper columns section\n",
    "columns_rename_mapping = {\n",
    "    'id': 'project_id_reported',\n",
    "    'description': 'project_description_reported',\n",
    "    'interventionStartYear': 'planting_date_reported',\n",
    "    'website': 'url'\n",
    "}\n",
    "gdf.rename(columns=columns_rename_mapping, inplace=True)"
   ]
  },
  {
   "cell_type": "code",
   "execution_count": 16,
   "metadata": {},
   "outputs": [
    {
     "data": {
      "text/html": [
       "\n",
       "            <style>\n",
       "                .geemap-dark {\n",
       "                    --jp-widgets-color: white;\n",
       "                    --jp-widgets-label-color: white;\n",
       "                    --jp-ui-font-color1: white;\n",
       "                    --jp-layout-color2: #454545;\n",
       "                    background-color: #383838;\n",
       "                }\n",
       "\n",
       "                .geemap-dark .jupyter-button {\n",
       "                    --jp-layout-color3: #383838;\n",
       "                }\n",
       "\n",
       "                .geemap-colab {\n",
       "                    background-color: var(--colab-primary-surface-color, white);\n",
       "                }\n",
       "\n",
       "                .geemap-colab .jupyter-button {\n",
       "                    --jp-layout-color3: var(--colab-primary-surface-color, white);\n",
       "                }\n",
       "            </style>\n",
       "            "
      ],
      "text/plain": [
       "<IPython.core.display.HTML object>"
      ]
     },
     "metadata": {},
     "output_type": "display_data"
    },
    {
     "data": {
      "text/plain": [
       "0        2022.0\n",
       "1        2020.0\n",
       "2        2022.0\n",
       "3        2016.0\n",
       "4        2021.0\n",
       "          ...  \n",
       "54875    2015.0\n",
       "54876    2022.0\n",
       "54877       NaN\n",
       "54878    2020.0\n",
       "54879    2021.0\n",
       "Name: planting_date_reported, Length: 54880, dtype: float64"
      ]
     },
     "execution_count": 16,
     "metadata": {},
     "output_type": "execute_result"
    }
   ],
   "source": [
    "gdf[\"planting_date_reported\"]"
   ]
  },
  {
   "cell_type": "code",
   "execution_count": 17,
   "metadata": {},
   "outputs": [
    {
     "data": {
      "text/html": [
       "\n",
       "            <style>\n",
       "                .geemap-dark {\n",
       "                    --jp-widgets-color: white;\n",
       "                    --jp-widgets-label-color: white;\n",
       "                    --jp-ui-font-color1: white;\n",
       "                    --jp-layout-color2: #454545;\n",
       "                    background-color: #383838;\n",
       "                }\n",
       "\n",
       "                .geemap-dark .jupyter-button {\n",
       "                    --jp-layout-color3: #383838;\n",
       "                }\n",
       "\n",
       "                .geemap-colab {\n",
       "                    background-color: var(--colab-primary-surface-color, white);\n",
       "                }\n",
       "\n",
       "                .geemap-colab .jupyter-button {\n",
       "                    --jp-layout-color3: var(--colab-primary-surface-color, white);\n",
       "                }\n",
       "            </style>\n",
       "            "
      ],
      "text/plain": [
       "<IPython.core.display.HTML object>"
      ]
     },
     "metadata": {},
     "output_type": "display_data"
    }
   ],
   "source": [
    "gdf['project_description_reported'] = gdf['project_description_reported'].apply(lambda x: x[0] if isinstance(x, list) and len(x) > 0 else x)\n",
    "gdf['planting_date_reported'] = gdf['planting_date_reported'].apply(lambda x: x[0] if isinstance(x, list) and len(x) > 0 else x)\n",
    "gdf['url'] = gdf['url'].apply(lambda x: x[0] if isinstance(x, list) and len(x) > 0 else x)"
   ]
  },
  {
   "cell_type": "code",
   "execution_count": 18,
   "metadata": {},
   "outputs": [
    {
     "data": {
      "text/html": [
       "\n",
       "            <style>\n",
       "                .geemap-dark {\n",
       "                    --jp-widgets-color: white;\n",
       "                    --jp-widgets-label-color: white;\n",
       "                    --jp-ui-font-color1: white;\n",
       "                    --jp-layout-color2: #454545;\n",
       "                    background-color: #383838;\n",
       "                }\n",
       "\n",
       "                .geemap-dark .jupyter-button {\n",
       "                    --jp-layout-color3: #383838;\n",
       "                }\n",
       "\n",
       "                .geemap-colab {\n",
       "                    background-color: var(--colab-primary-surface-color, white);\n",
       "                }\n",
       "\n",
       "                .geemap-colab .jupyter-button {\n",
       "                    --jp-layout-color3: var(--colab-primary-surface-color, white);\n",
       "                }\n",
       "            </style>\n",
       "            "
      ],
      "text/plain": [
       "<IPython.core.display.HTML object>"
      ]
     },
     "metadata": {},
     "output_type": "display_data"
    }
   ],
   "source": [
    "columns_to_keep = [\n",
    "     'project_id_reported',\n",
    "    'project_description_reported',\n",
    "     'planting_date_reported',\n",
    "     'geometry',\n",
    "     'url',\n",
    "     'site_sqkm',\n",
    "     'country'\n",
    "]\n",
    "gdf=gdf[columns_to_keep]"
   ]
  },
  {
   "cell_type": "code",
   "execution_count": 19,
   "metadata": {},
   "outputs": [
    {
     "data": {
      "text/html": [
       "\n",
       "            <style>\n",
       "                .geemap-dark {\n",
       "                    --jp-widgets-color: white;\n",
       "                    --jp-widgets-label-color: white;\n",
       "                    --jp-ui-font-color1: white;\n",
       "                    --jp-layout-color2: #454545;\n",
       "                    background-color: #383838;\n",
       "                }\n",
       "\n",
       "                .geemap-dark .jupyter-button {\n",
       "                    --jp-layout-color3: #383838;\n",
       "                }\n",
       "\n",
       "                .geemap-colab {\n",
       "                    background-color: var(--colab-primary-surface-color, white);\n",
       "                }\n",
       "\n",
       "                .geemap-colab .jupyter-button {\n",
       "                    --jp-layout-color3: var(--colab-primary-surface-color, white);\n",
       "                }\n",
       "            </style>\n",
       "            "
      ],
      "text/plain": [
       "<IPython.core.display.HTML object>"
      ]
     },
     "metadata": {},
     "output_type": "display_data"
    }
   ],
   "source": [
    "gdf['planting_date_reported'] = gdf['planting_date_reported'].replace('', np.nan).astype(float)\n",
    "gdf['planting_date_reported'] = gdf['planting_date_reported'].astype(object)"
   ]
  },
  {
   "cell_type": "code",
   "execution_count": 22,
   "metadata": {},
   "outputs": [
    {
     "data": {
      "text/html": [
       "\n",
       "            <style>\n",
       "                .geemap-dark {\n",
       "                    --jp-widgets-color: white;\n",
       "                    --jp-widgets-label-color: white;\n",
       "                    --jp-ui-font-color1: white;\n",
       "                    --jp-layout-color2: #454545;\n",
       "                    background-color: #383838;\n",
       "                }\n",
       "\n",
       "                .geemap-dark .jupyter-button {\n",
       "                    --jp-layout-color3: #383838;\n",
       "                }\n",
       "\n",
       "                .geemap-colab {\n",
       "                    background-color: var(--colab-primary-surface-color, white);\n",
       "                }\n",
       "\n",
       "                .geemap-colab .jupyter-button {\n",
       "                    --jp-layout-color3: var(--colab-primary-surface-color, white);\n",
       "                }\n",
       "            </style>\n",
       "            "
      ],
      "text/plain": [
       "<IPython.core.display.HTML object>"
      ]
     },
     "metadata": {},
     "output_type": "display_data"
    },
    {
     "name": "stdout",
     "output_type": "stream",
     "text": [
      "<class 'geopandas.geodataframe.GeoDataFrame'>\n",
      "RangeIndex: 54880 entries, 0 to 54879\n",
      "Data columns (total 14 columns):\n",
      " #   Column                        Non-Null Count  Dtype   \n",
      "---  ------                        --------------  -----   \n",
      " 0   project_id_reported           54880 non-null  object  \n",
      " 1   project_description_reported  34283 non-null  object  \n",
      " 2   planting_date_reported        53032 non-null  object  \n",
      " 3   geometry                      54880 non-null  geometry\n",
      " 4   url                           54880 non-null  object  \n",
      " 5   site_sqkm                     54880 non-null  float64 \n",
      " 6   country                       54880 non-null  object  \n",
      " 7   project_geometries_invalid    54880 non-null  bool    \n",
      " 8   site_id_reported              54880 non-null  object  \n",
      " 9   host_name                     54880 non-null  object  \n",
      " 10  species_count_reported        0 non-null      object  \n",
      " 11  species_planted_reported      0 non-null      object  \n",
      " 12  survival_rate_reported        0 non-null      object  \n",
      " 13  trees_planted_reported        0 non-null      object  \n",
      "dtypes: bool(1), float64(1), geometry(1), object(11)\n",
      "memory usage: 5.5+ MB\n"
     ]
    }
   ],
   "source": [
    "gdf['site_id_reported'] = ['restor_site_{}'.format(i) for i in range(1, len(gdf) + 1)]\n",
    "gdf ['host_name'] = 'Restor Eco'\n",
    "gdf['url'] = 'https://restor.eco/sites/' + gdf['project_id_reported'].astype(str)\n",
    "\n",
    "gdf = gdf.assign(species_count_reported=None, species_planted_reported=None, survival_rate_reported=None,trees_planted_reported=None)\n",
    "gdf.info()"
   ]
  },
  {
   "cell_type": "code",
   "execution_count": 20,
   "metadata": {},
   "outputs": [
    {
     "data": {
      "text/html": [
       "\n",
       "            <style>\n",
       "                .geemap-dark {\n",
       "                    --jp-widgets-color: white;\n",
       "                    --jp-widgets-label-color: white;\n",
       "                    --jp-ui-font-color1: white;\n",
       "                    --jp-layout-color2: #454545;\n",
       "                    background-color: #383838;\n",
       "                }\n",
       "\n",
       "                .geemap-dark .jupyter-button {\n",
       "                    --jp-layout-color3: #383838;\n",
       "                }\n",
       "\n",
       "                .geemap-colab {\n",
       "                    background-color: var(--colab-primary-surface-color, white);\n",
       "                }\n",
       "\n",
       "                .geemap-colab .jupyter-button {\n",
       "                    --jp-layout-color3: var(--colab-primary-surface-color, white);\n",
       "                }\n",
       "            </style>\n",
       "            "
      ],
      "text/plain": [
       "<IPython.core.display.HTML object>"
      ]
     },
     "metadata": {},
     "output_type": "display_data"
    }
   ],
   "source": [
    "invalid_geom = False\n",
    "\n",
    "if len(gdf[gdf.geometry.is_valid == False]) > 0:\n",
    "    invalid_geom = True\n",
    "gdf['project_geometries_invalid'] = invalid_geom"
   ]
  },
  {
   "cell_type": "markdown",
   "metadata": {},
   "source": [
    "### Save it"
   ]
  },
  {
   "cell_type": "code",
   "execution_count": 23,
   "metadata": {},
   "outputs": [
    {
     "data": {
      "text/html": [
       "\n",
       "            <style>\n",
       "                .geemap-dark {\n",
       "                    --jp-widgets-color: white;\n",
       "                    --jp-widgets-label-color: white;\n",
       "                    --jp-ui-font-color1: white;\n",
       "                    --jp-layout-color2: #454545;\n",
       "                    background-color: #383838;\n",
       "                }\n",
       "\n",
       "                .geemap-dark .jupyter-button {\n",
       "                    --jp-layout-color3: #383838;\n",
       "                }\n",
       "\n",
       "                .geemap-colab {\n",
       "                    background-color: var(--colab-primary-surface-color, white);\n",
       "                }\n",
       "\n",
       "                .geemap-colab .jupyter-button {\n",
       "                    --jp-layout-color3: var(--colab-primary-surface-color, white);\n",
       "                }\n",
       "            </style>\n",
       "            "
      ],
      "text/plain": [
       "<IPython.core.display.HTML object>"
      ]
     },
     "metadata": {},
     "output_type": "display_data"
    }
   ],
   "source": [
    "gdf.to_file('../midsave/restor_eco.gpkg')"
   ]
  }
 ],
 "metadata": {
  "kernelspec": {
   "display_name": "Python 3 (ipykernel)",
   "language": "python",
   "name": "python3"
  },
  "language_info": {
   "codemirror_mode": {
    "name": "ipython",
    "version": 3
   },
   "file_extension": ".py",
   "mimetype": "text/x-python",
   "name": "python",
   "nbconvert_exporter": "python",
   "pygments_lexer": "ipython3",
   "version": "3.11.8"
  }
 },
 "nbformat": 4,
 "nbformat_minor": 4
}
