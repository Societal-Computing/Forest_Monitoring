{
 "cells": [
  {
   "cell_type": "code",
   "execution_count": 1,
   "metadata": {},
   "outputs": [],
   "source": [
    "import pandas as pd\n",
    "import geopandas as gpd\n",
    "from shapely.geometry import shape, Polygon, MultiPolygon\n",
    "import numpy as np\n",
    "import requests\n",
    "import json\n",
    "import time\n",
    "import requests\n",
    "from requests.adapters import HTTPAdapter\n",
    "from requests.packages.urllib3.util.retry import Retry\n",
    "from helper_functions import *"
   ]
  },
  {
   "cell_type": "code",
   "execution_count": 2,
   "metadata": {},
   "outputs": [
    {
     "data": {
      "text/html": [
       "\n",
       "            <style>\n",
       "                .geemap-dark {\n",
       "                    --jp-widgets-color: white;\n",
       "                    --jp-widgets-label-color: white;\n",
       "                    --jp-ui-font-color1: white;\n",
       "                    --jp-layout-color2: #454545;\n",
       "                    background-color: #383838;\n",
       "                }\n",
       "\n",
       "                .geemap-dark .jupyter-button {\n",
       "                    --jp-layout-color3: #383838;\n",
       "                }\n",
       "\n",
       "                .geemap-colab {\n",
       "                    background-color: var(--colab-primary-surface-color, white);\n",
       "                }\n",
       "\n",
       "                .geemap-colab .jupyter-button {\n",
       "                    --jp-layout-color3: var(--colab-primary-surface-color, white);\n",
       "                }\n",
       "            </style>\n",
       "            "
      ],
      "text/plain": [
       "<IPython.core.display.HTML object>"
      ]
     },
     "metadata": {},
     "output_type": "display_data"
    },
    {
     "name": "stdout",
     "output_type": "stream",
     "text": [
      "Fetched 0 items from https://restor2-prod-1-api.restor.eco/sites/3/center-points/?bottom=79.17133464081945&left=-180&right=-135&top=85.0511&visibility=PUBLIC\n",
      "Fetched 0 items from https://restor2-prod-1-api.restor.eco/sites/3/center-points/?bottom=66.51326044311186&left=-180&right=-135&top=79.17133464081945&visibility=PUBLIC\n",
      "Fetched 8 items from https://restor2-prod-1-api.restor.eco/sites/3/center-points/?bottom=40.97989806962013&left=-180&right=-135&top=66.51326044311186&visibility=PUBLIC\n",
      "Fetched 29 items from https://restor2-prod-1-api.restor.eco/sites/3/center-points/?bottom=0&left=-180&right=-135&top=40.97989806962013&visibility=PUBLIC\n",
      "Fetched 0 items from https://restor2-prod-1-api.restor.eco/sites/3/center-points/?bottom=-40.97989806962013&left=-180&right=-135&top=0&visibility=PUBLIC\n",
      "Fetched 0 items from https://restor2-prod-1-api.restor.eco/sites/3/center-points/?bottom=-66.51326044311186&left=-180&right=-135&top=-40.97989806962013&visibility=PUBLIC\n",
      "Fetched 0 items from https://restor2-prod-1-api.restor.eco/sites/3/center-points/?bottom=-79.17133464081945&left=-180&right=-135&top=-66.51326044311186&visibility=PUBLIC\n",
      "Fetched 0 items from https://restor2-prod-1-api.restor.eco/sites/3/center-points/?bottom=-85.0511&left=-180&right=-135&top=-79.17133464081945&visibility=PUBLIC\n",
      "Fetched 0 items from https://restor2-prod-1-api.restor.eco/sites/3/center-points/?bottom=79.17133464081945&left=-135&right=-90&top=85.0511&visibility=PUBLIC\n",
      "Fetched 0 items from https://restor2-prod-1-api.restor.eco/sites/3/center-points/?bottom=66.51326044311186&left=-135&right=-90&top=79.17133464081945&visibility=PUBLIC\n",
      "Fetched 1071 items from https://restor2-prod-1-api.restor.eco/sites/3/center-points/?bottom=40.97989806962013&left=-135&right=-90&top=66.51326044311186&visibility=PUBLIC\n",
      "Fetched 3736 items from https://restor2-prod-1-api.restor.eco/sites/3/center-points/?bottom=0&left=-135&right=-90&top=40.97989806962013&visibility=PUBLIC\n",
      "Fetched 20 items from https://restor2-prod-1-api.restor.eco/sites/3/center-points/?bottom=-40.97989806962013&left=-135&right=-90&top=0&visibility=PUBLIC\n",
      "Fetched 0 items from https://restor2-prod-1-api.restor.eco/sites/3/center-points/?bottom=-66.51326044311186&left=-135&right=-90&top=-40.97989806962013&visibility=PUBLIC\n",
      "Fetched 0 items from https://restor2-prod-1-api.restor.eco/sites/3/center-points/?bottom=-79.17133464081945&left=-135&right=-90&top=-66.51326044311186&visibility=PUBLIC\n",
      "Fetched 0 items from https://restor2-prod-1-api.restor.eco/sites/3/center-points/?bottom=-85.0511&left=-135&right=-90&top=-79.17133464081945&visibility=PUBLIC\n",
      "Fetched 0 items from https://restor2-prod-1-api.restor.eco/sites/3/center-points/?bottom=79.17133464081945&left=-90&right=-45&top=85.0511&visibility=PUBLIC\n",
      "Fetched 1 items from https://restor2-prod-1-api.restor.eco/sites/3/center-points/?bottom=66.51326044311186&left=-90&right=-45&top=79.17133464081945&visibility=PUBLIC\n",
      "Fetched 3135 items from https://restor2-prod-1-api.restor.eco/sites/3/center-points/?bottom=40.97989806962013&left=-90&right=-45&top=66.51326044311186&visibility=PUBLIC\n",
      "Fetched 7130 items from https://restor2-prod-1-api.restor.eco/sites/3/center-points/?bottom=0&left=-90&right=-45&top=40.97989806962013&visibility=PUBLIC\n",
      "Fetched 9051 items from https://restor2-prod-1-api.restor.eco/sites/3/center-points/?bottom=-40.97989806962013&left=-90&right=-45&top=0&visibility=PUBLIC\n",
      "Fetched 23 items from https://restor2-prod-1-api.restor.eco/sites/3/center-points/?bottom=-66.51326044311186&left=-90&right=-45&top=-40.97989806962013&visibility=PUBLIC\n",
      "Fetched 0 items from https://restor2-prod-1-api.restor.eco/sites/3/center-points/?bottom=-79.17133464081945&left=-90&right=-45&top=-66.51326044311186&visibility=PUBLIC\n",
      "Fetched 0 items from https://restor2-prod-1-api.restor.eco/sites/3/center-points/?bottom=-85.0511&left=-90&right=-45&top=-79.17133464081945&visibility=PUBLIC\n",
      "Fetched 0 items from https://restor2-prod-1-api.restor.eco/sites/3/center-points/?bottom=79.17133464081945&left=-45&right=0&top=85.0511&visibility=PUBLIC\n",
      "Fetched 0 items from https://restor2-prod-1-api.restor.eco/sites/3/center-points/?bottom=66.51326044311186&left=-45&right=0&top=79.17133464081945&visibility=PUBLIC\n",
      "Fetched 2916 items from https://restor2-prod-1-api.restor.eco/sites/3/center-points/?bottom=40.97989806962013&left=-45&right=0&top=66.51326044311186&visibility=PUBLIC\n",
      "Fetched 2659 items from https://restor2-prod-1-api.restor.eco/sites/3/center-points/?bottom=0&left=-45&right=0&top=40.97989806962013&visibility=PUBLIC\n",
      "Fetched 1787 items from https://restor2-prod-1-api.restor.eco/sites/3/center-points/?bottom=-40.97989806962013&left=-45&right=0&top=0&visibility=PUBLIC\n",
      "Fetched 0 items from https://restor2-prod-1-api.restor.eco/sites/3/center-points/?bottom=-66.51326044311186&left=-45&right=0&top=-40.97989806962013&visibility=PUBLIC\n",
      "Fetched 0 items from https://restor2-prod-1-api.restor.eco/sites/3/center-points/?bottom=-79.17133464081945&left=-45&right=0&top=-66.51326044311186&visibility=PUBLIC\n",
      "Fetched 0 items from https://restor2-prod-1-api.restor.eco/sites/3/center-points/?bottom=-85.0511&left=-45&right=0&top=-79.17133464081945&visibility=PUBLIC\n",
      "Fetched 0 items from https://restor2-prod-1-api.restor.eco/sites/3/center-points/?bottom=79.17133464081945&left=0&right=45&top=85.0511&visibility=PUBLIC\n",
      "Fetched 3 items from https://restor2-prod-1-api.restor.eco/sites/3/center-points/?bottom=66.51326044311186&left=0&right=45&top=79.17133464081945&visibility=PUBLIC\n",
      "Fetched 10000 items from https://restor2-prod-1-api.restor.eco/sites/3/center-points/?bottom=40.97989806962013&left=0&right=45&top=66.51326044311186&visibility=PUBLIC\n",
      "Fetched 5955 items from https://restor2-prod-1-api.restor.eco/sites/3/center-points/?bottom=0&left=0&right=45&top=40.97989806962013&visibility=PUBLIC\n",
      "Fetched 2984 items from https://restor2-prod-1-api.restor.eco/sites/3/center-points/?bottom=-40.97989806962013&left=0&right=45&top=0&visibility=PUBLIC\n",
      "Fetched 0 items from https://restor2-prod-1-api.restor.eco/sites/3/center-points/?bottom=-66.51326044311186&left=0&right=45&top=-40.97989806962013&visibility=PUBLIC\n",
      "Fetched 0 items from https://restor2-prod-1-api.restor.eco/sites/3/center-points/?bottom=-79.17133464081945&left=0&right=45&top=-66.51326044311186&visibility=PUBLIC\n",
      "Fetched 0 items from https://restor2-prod-1-api.restor.eco/sites/3/center-points/?bottom=-85.0511&left=0&right=45&top=-79.17133464081945&visibility=PUBLIC\n",
      "Fetched 0 items from https://restor2-prod-1-api.restor.eco/sites/3/center-points/?bottom=79.17133464081945&left=45&right=90&top=85.0511&visibility=PUBLIC\n",
      "Fetched 0 items from https://restor2-prod-1-api.restor.eco/sites/3/center-points/?bottom=66.51326044311186&left=45&right=90&top=79.17133464081945&visibility=PUBLIC\n",
      "Fetched 65 items from https://restor2-prod-1-api.restor.eco/sites/3/center-points/?bottom=40.97989806962013&left=45&right=90&top=66.51326044311186&visibility=PUBLIC\n",
      "Fetched 2194 items from https://restor2-prod-1-api.restor.eco/sites/3/center-points/?bottom=0&left=45&right=90&top=40.97989806962013&visibility=PUBLIC\n",
      "Fetched 813 items from https://restor2-prod-1-api.restor.eco/sites/3/center-points/?bottom=-40.97989806962013&left=45&right=90&top=0&visibility=PUBLIC\n",
      "Fetched 0 items from https://restor2-prod-1-api.restor.eco/sites/3/center-points/?bottom=-66.51326044311186&left=45&right=90&top=-40.97989806962013&visibility=PUBLIC\n",
      "Fetched 0 items from https://restor2-prod-1-api.restor.eco/sites/3/center-points/?bottom=-79.17133464081945&left=45&right=90&top=-66.51326044311186&visibility=PUBLIC\n",
      "Fetched 0 items from https://restor2-prod-1-api.restor.eco/sites/3/center-points/?bottom=-85.0511&left=45&right=90&top=-79.17133464081945&visibility=PUBLIC\n",
      "Fetched 0 items from https://restor2-prod-1-api.restor.eco/sites/3/center-points/?bottom=79.17133464081945&left=90&right=135&top=85.0511&visibility=PUBLIC\n",
      "Fetched 0 items from https://restor2-prod-1-api.restor.eco/sites/3/center-points/?bottom=66.51326044311186&left=90&right=135&top=79.17133464081945&visibility=PUBLIC\n",
      "Fetched 52 items from https://restor2-prod-1-api.restor.eco/sites/3/center-points/?bottom=40.97989806962013&left=90&right=135&top=66.51326044311186&visibility=PUBLIC\n",
      "Fetched 1066 items from https://restor2-prod-1-api.restor.eco/sites/3/center-points/?bottom=0&left=90&right=135&top=40.97989806962013&visibility=PUBLIC\n",
      "Fetched 1186 items from https://restor2-prod-1-api.restor.eco/sites/3/center-points/?bottom=-40.97989806962013&left=90&right=135&top=0&visibility=PUBLIC\n",
      "Fetched 0 items from https://restor2-prod-1-api.restor.eco/sites/3/center-points/?bottom=-66.51326044311186&left=90&right=135&top=-40.97989806962013&visibility=PUBLIC\n",
      "Fetched 0 items from https://restor2-prod-1-api.restor.eco/sites/3/center-points/?bottom=-79.17133464081945&left=90&right=135&top=-66.51326044311186&visibility=PUBLIC\n",
      "Fetched 0 items from https://restor2-prod-1-api.restor.eco/sites/3/center-points/?bottom=-85.0511&left=90&right=135&top=-79.17133464081945&visibility=PUBLIC\n",
      "Fetched 0 items from https://restor2-prod-1-api.restor.eco/sites/3/center-points/?bottom=79.17133464081945&left=135&right=180&top=85.0511&visibility=PUBLIC\n",
      "Fetched 0 items from https://restor2-prod-1-api.restor.eco/sites/3/center-points/?bottom=66.51326044311186&left=135&right=180&top=79.17133464081945&visibility=PUBLIC\n",
      "Fetched 1 items from https://restor2-prod-1-api.restor.eco/sites/3/center-points/?bottom=40.97989806962013&left=135&right=180&top=66.51326044311186&visibility=PUBLIC\n",
      "Fetched 12 items from https://restor2-prod-1-api.restor.eco/sites/3/center-points/?bottom=0&left=135&right=180&top=40.97989806962013&visibility=PUBLIC\n",
      "Fetched 3977 items from https://restor2-prod-1-api.restor.eco/sites/3/center-points/?bottom=-40.97989806962013&left=135&right=180&top=0&visibility=PUBLIC\n",
      "Fetched 27 items from https://restor2-prod-1-api.restor.eco/sites/3/center-points/?bottom=-66.51326044311186&left=135&right=180&top=-40.97989806962013&visibility=PUBLIC\n",
      "Fetched 0 items from https://restor2-prod-1-api.restor.eco/sites/3/center-points/?bottom=-79.17133464081945&left=135&right=180&top=-66.51326044311186&visibility=PUBLIC\n",
      "Fetched 0 items from https://restor2-prod-1-api.restor.eco/sites/3/center-points/?bottom=-85.0511&left=135&right=180&top=-79.17133464081945&visibility=PUBLIC\n",
      "Data collection complete. Saved 59901 items to all_restor_data.json.\n"
     ]
    }
   ],
   "source": [
    "\n",
    "\n",
    "# Defining  longitude ranges (left to right) in 45-degree increments to extract the ids from the Restor website\n",
    "longitude_lefts = [-180 + i * 45 for i in range(8)]\n",
    "\n",
    "#Defining the latitude steps following the web mercator projection as the Restor website uses this projection\n",
    "latitude_steps = [\n",
    "    85.0511,  # The Maximum latitude in Web Mercator\n",
    "    79.17133464081945,\n",
    "    66.51326044311186,\n",
    "    40.97989806962013,\n",
    "    0,\n",
    "    -40.97989806962013,\n",
    "    -66.51326044311186,\n",
    "    -79.17133464081945,\n",
    "    -85.0511  # Minimum latitude in Web Mercator\n",
    "]\n",
    "\n",
    "# extracting all urls for the Restor website using the longitude and latitude stepsas per the restor website\n",
    "urls = []\n",
    "for left in longitude_lefts:\n",
    "    right = left + 45\n",
    "    for i in range(len(latitude_steps) - 1):\n",
    "        top = latitude_steps[i]\n",
    "        bottom = latitude_steps[i + 1]\n",
    "        if top > bottom:  \n",
    "            url = (\n",
    "                f\"https://restor2-prod-1-api.restor.eco/sites/3/center-points/\"\n",
    "                f\"?bottom={bottom}&left={left}&right={right}&top={top}&visibility=PUBLIC\"\n",
    "            )\n",
    "            urls.append(url)\n",
    "\n",
    "# Collect all ids from all urls in the Restor website\n",
    "all_data = []\n",
    "\n",
    "for url in urls:\n",
    "    try:\n",
    "        response = requests.get(url, headers={'User-Agent': 'Mozilla/5.0'})\n",
    "        response.raise_for_status()  \n",
    "        data = response.json()\n",
    "        if isinstance(data, list):\n",
    "            all_data.extend(data)\n",
    "            print(f\"Fetched {len(data)} items from {url}\")\n",
    "        else:\n",
    "            print(f\"Unexpected data format from {url}\")\n",
    "    except Exception as e:\n",
    "        print(f\"Error fetching {url}: {e}\")\n",
    "    time.sleep(1)  \n",
    "\n",
    "# Saving all collected ids to a json file\n",
    "with open('../input/Restor_Eco/all_restor_data.json', 'w') as f:\n",
    "    json.dump(all_data, f, indent=2)\n",
    "\n",
    "print(f\"Data collection complete. Saved {len(all_data)} items to all_restor_data.json.\")"
   ]
  },
  {
   "cell_type": "code",
   "execution_count": 3,
   "metadata": {},
   "outputs": [
    {
     "data": {
      "text/html": [
       "\n",
       "            <style>\n",
       "                .geemap-dark {\n",
       "                    --jp-widgets-color: white;\n",
       "                    --jp-widgets-label-color: white;\n",
       "                    --jp-ui-font-color1: white;\n",
       "                    --jp-layout-color2: #454545;\n",
       "                    background-color: #383838;\n",
       "                }\n",
       "\n",
       "                .geemap-dark .jupyter-button {\n",
       "                    --jp-layout-color3: #383838;\n",
       "                }\n",
       "\n",
       "                .geemap-colab {\n",
       "                    background-color: var(--colab-primary-surface-color, white);\n",
       "                }\n",
       "\n",
       "                .geemap-colab .jupyter-button {\n",
       "                    --jp-layout-color3: var(--colab-primary-surface-color, white);\n",
       "                }\n",
       "            </style>\n",
       "            "
      ],
      "text/plain": [
       "<IPython.core.display.HTML object>"
      ]
     },
     "metadata": {},
     "output_type": "display_data"
    },
    {
     "name": "stdout",
     "output_type": "stream",
     "text": [
      "Error fetching data for id e8378894-7ceb-4fa0-8abd-f678bc7c4dac: HTTPSConnectionPool(host='restor2-prod-1-api.restor.eco', port=443): Max retries exceeded with url: /sites/3/e8378894-7ceb-4fa0-8abd-f678bc7c4dac (Caused by NameResolutionError(\"<urllib3.connection.HTTPSConnection object at 0x344836210>: Failed to resolve 'restor2-prod-1-api.restor.eco' ([Errno 8] nodename nor servname provided, or not known)\"))\n",
      "Error fetching data for id 1b87ce33-8d90-40fb-ae01-82003603acca: HTTPSConnectionPool(host='restor2-prod-1-api.restor.eco', port=443): Max retries exceeded with url: /sites/3/1b87ce33-8d90-40fb-ae01-82003603acca (Caused by NameResolutionError(\"<urllib3.connection.HTTPSConnection object at 0x344835bd0>: Failed to resolve 'restor2-prod-1-api.restor.eco' ([Errno 8] nodename nor servname provided, or not known)\"))\n",
      "                                         id  \\\n",
      "0      db1554a2-636c-42d2-bdd9-c5b6321bfdb4   \n",
      "1      aa80c579-5626-4451-aec8-30d7305bb854   \n",
      "2      f10cefc0-1ca4-4325-90fd-f4e6e3abf5f8   \n",
      "3      7ab36397-7229-410c-8312-d6104217dc52   \n",
      "4      eb4fd0e0-af8c-4357-a687-143ce8155c84   \n",
      "...                                     ...   \n",
      "59894  b01001aa-162a-492e-aa0f-89098f63cf29   \n",
      "59895  2b67e387-6342-4fce-92d3-0b204fd365e1   \n",
      "59896  bf3edef9-5d2d-4f62-9eb8-85197a05d048   \n",
      "59897  f6ac0832-c368-434c-832a-1997f2ff0e04   \n",
      "59898  f3db73f7-737b-4561-8f53-59b2eaedfdb9   \n",
      "\n",
      "                                              name  \\\n",
      "0                     AK_Stone_Steps_Lake_Preserve   \n",
      "1                     AK_Stone_Steps_Lake_Preserve   \n",
      "2                     AK_Stone_Steps_Lake_Preserve   \n",
      "3                     AK_Stone_Steps_Lake_Preserve   \n",
      "4                     AK_Stone_Steps_Lake_Preserve   \n",
      "...                                            ...   \n",
      "59894  Lake Pedder and Huon Serpentine Impoundment   \n",
      "59895                             The Montana Flat   \n",
      "59896                     Somerset Private Reserve   \n",
      "59897                                    Tiromoana   \n",
      "59898                                     Mikimiki   \n",
      "\n",
      "                                                 polygon  \\\n",
      "0      {'type': 'MultiPolygon', 'coordinates': [[[[-1...   \n",
      "1      {'type': 'MultiPolygon', 'coordinates': [[[[-1...   \n",
      "2      {'type': 'MultiPolygon', 'coordinates': [[[[-1...   \n",
      "3      {'type': 'MultiPolygon', 'coordinates': [[[[-1...   \n",
      "4      {'type': 'MultiPolygon', 'coordinates': [[[[-1...   \n",
      "...                                                  ...   \n",
      "59894  {'type': 'MultiPolygon', 'coordinates': [[[[14...   \n",
      "59895  {'type': 'MultiPolygon', 'coordinates': [[[[16...   \n",
      "59896  {'type': 'MultiPolygon', 'coordinates': [[[[14...   \n",
      "59897  {'type': 'MultiPolygon', 'coordinates': [[[[17...   \n",
      "59898  {'type': 'MultiPolygon', 'coordinates': [[[[17...   \n",
      "\n",
      "                                             boundingBox  \\\n",
      "0      {'top': 59.692899, 'right': -151.345746, 'bott...   \n",
      "1      {'top': 59.70012, 'right': -151.345757, 'botto...   \n",
      "2      {'top': 59.692891, 'right': -151.331469, 'bott...   \n",
      "3      {'top': 59.697412, 'right': -151.345756, 'bott...   \n",
      "4      {'top': 59.699218, 'right': -151.345757, 'bott...   \n",
      "...                                                  ...   \n",
      "59894  {'top': -42.625414, 'right': 146.446166, 'bott...   \n",
      "59895  {'top': -45.825282, 'right': 168.708908, 'bott...   \n",
      "59896  {'top': -41.046574, 'right': 145.824879, 'bott...   \n",
      "59897  {'top': -42.031906, 'right': 171.388906, 'bott...   \n",
      "59898  {'top': -43.697134, 'right': 172.731636, 'bott...   \n",
      "\n",
      "                          siteType siteVisibility  surfaceAreaKm2 countryCode  \\\n",
      "0                     CONSERVATION         PUBLIC        0.323245          US   \n",
      "1                     CONSERVATION         PUBLIC        0.040378          US   \n",
      "2                     CONSERVATION         PUBLIC        0.593799          US   \n",
      "3                     CONSERVATION         PUBLIC        0.202042          US   \n",
      "4                     CONSERVATION         PUBLIC        0.080773          US   \n",
      "...                            ...            ...             ...         ...   \n",
      "59894                  RESTORATION         PUBLIC      718.207322          AU   \n",
      "59895  SUSTAINABLE_LAND_MANAGEMENT         PUBLIC        3.976531          NZ   \n",
      "59896                  RESTORATION         PUBLIC        0.054571          AU   \n",
      "59897                  RESTORATION         PUBLIC        0.774563          NZ   \n",
      "59898                  RESTORATION         PUBLIC        4.091054          NZ   \n",
      "\n",
      "       interventionStartYear     stage  ...  \\\n",
      "0                     2002.0   ONGOING  ...   \n",
      "1                     2000.0   ONGOING  ...   \n",
      "2                     2006.0   ONGOING  ...   \n",
      "3                     2000.0   ONGOING  ...   \n",
      "4                     2000.0   ONGOING  ...   \n",
      "...                      ...       ...  ...   \n",
      "59894                    NaN  PLANNING  ...   \n",
      "59895                 2016.0   ONGOING  ...   \n",
      "59896                 2021.0   ONGOING  ...   \n",
      "59897                 2021.0   ONGOING  ...   \n",
      "59898                 2020.0   ONGOING  ...   \n",
      "\n",
      "                                             description  \\\n",
      "0                                                    NaN   \n",
      "1                                                    NaN   \n",
      "2                                                    NaN   \n",
      "3                                                    NaN   \n",
      "4                                                    NaN   \n",
      "...                                                  ...   \n",
      "59894  Lake Pedder is a 10sq km alpine, glacial lake ...   \n",
      "59895  Our family farm and the hub of Future Whenua I...   \n",
      "59896  This site was previously a wetland until it wa...   \n",
      "59897  Private conservation site of over 100ha near F...   \n",
      "59898                                   Restoration site   \n",
      "\n",
      "          preInterventionLandUse postInterventionLandCover siteManagement  \\\n",
      "0                            NaN                       NaN            NaN   \n",
      "1                            NaN                       NaN            NaN   \n",
      "2                            NaN                       NaN            NaN   \n",
      "3                            NaN                       NaN            NaN   \n",
      "4                            NaN                       NaN            NaN   \n",
      "...                          ...                       ...            ...   \n",
      "59894  DEGRADED_AQUATIC_HABITATS                  PEATLAND     GOVERNMENT   \n",
      "59895               GRAZING_LAND         MULTIPLE_HABITATS      COMMUNITY   \n",
      "59896               GRAZING_LAND            NATURAL_FOREST      CORPORATE   \n",
      "59897            DEFORESTED_LAND            NATURAL_FOREST     INDIVIDUAL   \n",
      "59898               GRAZING_LAND            NATURAL_FOREST            NaN   \n",
      "\n",
      "      siteOwnership                       donateUrl  \\\n",
      "0               NaN                             NaN   \n",
      "1               NaN                             NaN   \n",
      "2               NaN                             NaN   \n",
      "3               NaN                             NaN   \n",
      "4               NaN                             NaN   \n",
      "...             ...                             ...   \n",
      "59894    GOVERNMENT  https://lakepedder.org/donate/   \n",
      "59895       PRIVATE                             NaN   \n",
      "59896       PRIVATE                             NaN   \n",
      "59897       PRIVATE                             NaN   \n",
      "59898           NaN                             NaN   \n",
      "\n",
      "                             customLinkUrl          customLinkText  \\\n",
      "0                                      NaN                     NaN   \n",
      "1                                      NaN                     NaN   \n",
      "2                                      NaN                     NaN   \n",
      "3                                      NaN                     NaN   \n",
      "4                                      NaN                     NaN   \n",
      "...                                    ...                     ...   \n",
      "59894  https://lakepedder.org/getinvolved/  Donate to the Campaign   \n",
      "59895                                  NaN                     NaN   \n",
      "59896                                  NaN                     NaN   \n",
      "59897                                  NaN                     NaN   \n",
      "59898                                  NaN                     NaN   \n",
      "\n",
      "      beforeAfter landTenureUrl  \n",
      "0             NaN           NaN  \n",
      "1             NaN           NaN  \n",
      "2             NaN           NaN  \n",
      "3             NaN           NaN  \n",
      "4             NaN           NaN  \n",
      "...           ...           ...  \n",
      "59894         NaN           NaN  \n",
      "59895         NaN           NaN  \n",
      "59896         NaN           NaN  \n",
      "59897         NaN           NaN  \n",
      "59898         NaN           NaN  \n",
      "\n",
      "[59899 rows x 32 columns]\n"
     ]
    }
   ],
   "source": [
    "\n",
    "with open('../input/Restor_Eco/all_restor_data.json', 'r') as f:\n",
    "    data = json.load(f)\n",
    "\n",
    "df = pd.DataFrame(data)\n",
    "\n",
    "result_list = []\n",
    "\n",
    "for id in df['id']:\n",
    "    data = fetch_data(id)\n",
    "    if data is not None:\n",
    "        result_list.append(data)\n",
    "\n",
    "    time.sleep(1)  \n",
    "\n",
    "# Converting the list of dictionaries to DataFrame\n",
    "if result_list:\n",
    "    final_df = pd.DataFrame(result_list)\n",
    "    final_df.reset_index(drop=True, inplace=True)\n",
    "    print(final_df)\n",
    "\n",
    "    final_df.to_csv('../input/Restor_Eco/final_restor_data.csv', index=False)\n",
    "else:\n",
    "    print(\"No data was retrieved\")"
   ]
  },
  {
   "cell_type": "code",
   "execution_count": 4,
   "metadata": {},
   "outputs": [
    {
     "data": {
      "text/html": [
       "\n",
       "            <style>\n",
       "                .geemap-dark {\n",
       "                    --jp-widgets-color: white;\n",
       "                    --jp-widgets-label-color: white;\n",
       "                    --jp-ui-font-color1: white;\n",
       "                    --jp-layout-color2: #454545;\n",
       "                    background-color: #383838;\n",
       "                }\n",
       "\n",
       "                .geemap-dark .jupyter-button {\n",
       "                    --jp-layout-color3: #383838;\n",
       "                }\n",
       "\n",
       "                .geemap-colab {\n",
       "                    background-color: var(--colab-primary-surface-color, white);\n",
       "                }\n",
       "\n",
       "                .geemap-colab .jupyter-button {\n",
       "                    --jp-layout-color3: var(--colab-primary-surface-color, white);\n",
       "                }\n",
       "            </style>\n",
       "            "
      ],
      "text/plain": [
       "<IPython.core.display.HTML object>"
      ]
     },
     "metadata": {},
     "output_type": "display_data"
    },
    {
     "name": "stdout",
     "output_type": "stream",
     "text": [
      "<class 'pandas.core.frame.DataFrame'>\n",
      "Index: 27259 entries, 8 to 59898\n",
      "Data columns (total 32 columns):\n",
      " #   Column                     Non-Null Count  Dtype  \n",
      "---  ------                     --------------  -----  \n",
      " 0   id                         27259 non-null  object \n",
      " 1   name                       27259 non-null  object \n",
      " 2   polygon                    27259 non-null  object \n",
      " 3   boundingBox                27259 non-null  object \n",
      " 4   siteType                   27259 non-null  object \n",
      " 5   siteVisibility             27259 non-null  object \n",
      " 6   surfaceAreaKm2             27259 non-null  float64\n",
      " 7   countryCode                27259 non-null  object \n",
      " 8   interventionStartYear      26385 non-null  float64\n",
      " 9   stage                      27259 non-null  object \n",
      " 10  interventionType           27259 non-null  object \n",
      " 11  goals                      27259 non-null  object \n",
      " 12  supportSought              27259 non-null  object \n",
      " 13  website                    12919 non-null  object \n",
      " 14  contactEmail               11117 non-null  object \n",
      " 15  photoIds                   27259 non-null  object \n",
      " 16  customFields               27259 non-null  object \n",
      " 17  isFeatured                 27259 non-null  bool   \n",
      " 18  createdAt                  27259 non-null  object \n",
      " 19  updatedAt                  27259 non-null  object \n",
      " 20  permissions                27259 non-null  object \n",
      " 21  shares                     27259 non-null  object \n",
      " 22  description                15424 non-null  object \n",
      " 23  preInterventionLandUse     21799 non-null  object \n",
      " 24  postInterventionLandCover  20364 non-null  object \n",
      " 25  siteManagement             14913 non-null  object \n",
      " 26  siteOwnership              14909 non-null  object \n",
      " 27  donateUrl                  4797 non-null   object \n",
      " 28  customLinkUrl              488 non-null    object \n",
      " 29  customLinkText             488 non-null    object \n",
      " 30  beforeAfter                108 non-null    object \n",
      " 31  landTenureUrl              66 non-null     object \n",
      "dtypes: bool(1), float64(2), object(29)\n",
      "memory usage: 6.7+ MB\n"
     ]
    }
   ],
   "source": [
    "df = final_df[final_df[\"siteType\"] == \"RESTORATION\"]\n",
    "df.info()\n"
   ]
  },
  {
   "cell_type": "markdown",
   "metadata": {},
   "source": [
    "### Fix geometries"
   ]
  },
  {
   "cell_type": "code",
   "execution_count": 5,
   "metadata": {},
   "outputs": [
    {
     "data": {
      "text/html": [
       "\n",
       "            <style>\n",
       "                .geemap-dark {\n",
       "                    --jp-widgets-color: white;\n",
       "                    --jp-widgets-label-color: white;\n",
       "                    --jp-ui-font-color1: white;\n",
       "                    --jp-layout-color2: #454545;\n",
       "                    background-color: #383838;\n",
       "                }\n",
       "\n",
       "                .geemap-dark .jupyter-button {\n",
       "                    --jp-layout-color3: #383838;\n",
       "                }\n",
       "\n",
       "                .geemap-colab {\n",
       "                    background-color: var(--colab-primary-surface-color, white);\n",
       "                }\n",
       "\n",
       "                .geemap-colab .jupyter-button {\n",
       "                    --jp-layout-color3: var(--colab-primary-surface-color, white);\n",
       "                }\n",
       "            </style>\n",
       "            "
      ],
      "text/plain": [
       "<IPython.core.display.HTML object>"
      ]
     },
     "metadata": {},
     "output_type": "display_data"
    },
    {
     "ename": "ValueError",
     "evalue": "malformed node or string: {'type': 'MultiPolygon', 'coordinates': [[[[-156.0355582, 19.71438405], [-156.03455464, 19.71421748], [-156.0343196, 19.71560723], [-156.03536541, 19.7155774], [-156.0355582, 19.71438405]]]]}",
     "output_type": "error",
     "traceback": [
      "\u001b[0;31m---------------------------------------------------------------------------\u001b[0m",
      "\u001b[0;31mValueError\u001b[0m                                Traceback (most recent call last)",
      "Cell \u001b[0;32mIn[5], line 2\u001b[0m\n\u001b[1;32m      1\u001b[0m \u001b[38;5;66;03m# Converting string to dictionary\u001b[39;00m\n\u001b[0;32m----> 2\u001b[0m df[\u001b[38;5;124m'\u001b[39m\u001b[38;5;124mpolygon\u001b[39m\u001b[38;5;124m'\u001b[39m] \u001b[38;5;241m=\u001b[39m \u001b[43mdf\u001b[49m\u001b[43m[\u001b[49m\u001b[38;5;124;43m'\u001b[39;49m\u001b[38;5;124;43mpolygon\u001b[39;49m\u001b[38;5;124;43m'\u001b[39;49m\u001b[43m]\u001b[49m\u001b[38;5;241;43m.\u001b[39;49m\u001b[43mapply\u001b[49m\u001b[43m(\u001b[49m\u001b[43mast\u001b[49m\u001b[38;5;241;43m.\u001b[39;49m\u001b[43mliteral_eval\u001b[49m\u001b[43m)\u001b[49m\n\u001b[1;32m      4\u001b[0m df[\u001b[38;5;124m'\u001b[39m\u001b[38;5;124mgeometry\u001b[39m\u001b[38;5;124m'\u001b[39m] \u001b[38;5;241m=\u001b[39m df[\u001b[38;5;124m'\u001b[39m\u001b[38;5;124mpolygon\u001b[39m\u001b[38;5;124m'\u001b[39m]\u001b[38;5;241m.\u001b[39mapply(\u001b[38;5;28;01mlambda\u001b[39;00m x: shape(x) \u001b[38;5;28;01mif\u001b[39;00m \u001b[38;5;28misinstance\u001b[39m(x, \u001b[38;5;28mdict\u001b[39m) \u001b[38;5;28;01melse\u001b[39;00m Polygon())\n",
      "File \u001b[0;32m/Library/Frameworks/Python.framework/Versions/3.11/lib/python3.11/site-packages/pandas/core/series.py:4915\u001b[0m, in \u001b[0;36mSeries.apply\u001b[0;34m(self, func, convert_dtype, args, by_row, **kwargs)\u001b[0m\n\u001b[1;32m   4780\u001b[0m \u001b[38;5;28;01mdef\u001b[39;00m \u001b[38;5;21mapply\u001b[39m(\n\u001b[1;32m   4781\u001b[0m     \u001b[38;5;28mself\u001b[39m,\n\u001b[1;32m   4782\u001b[0m     func: AggFuncType,\n\u001b[0;32m   (...)\u001b[0m\n\u001b[1;32m   4787\u001b[0m     \u001b[38;5;241m*\u001b[39m\u001b[38;5;241m*\u001b[39mkwargs,\n\u001b[1;32m   4788\u001b[0m ) \u001b[38;5;241m-\u001b[39m\u001b[38;5;241m>\u001b[39m DataFrame \u001b[38;5;241m|\u001b[39m Series:\n\u001b[1;32m   4789\u001b[0m \u001b[38;5;250m    \u001b[39m\u001b[38;5;124;03m\"\"\"\u001b[39;00m\n\u001b[1;32m   4790\u001b[0m \u001b[38;5;124;03m    Invoke function on values of Series.\u001b[39;00m\n\u001b[1;32m   4791\u001b[0m \n\u001b[0;32m   (...)\u001b[0m\n\u001b[1;32m   4906\u001b[0m \u001b[38;5;124;03m    dtype: float64\u001b[39;00m\n\u001b[1;32m   4907\u001b[0m \u001b[38;5;124;03m    \"\"\"\u001b[39;00m\n\u001b[1;32m   4908\u001b[0m     \u001b[38;5;28;01mreturn\u001b[39;00m \u001b[43mSeriesApply\u001b[49m\u001b[43m(\u001b[49m\n\u001b[1;32m   4909\u001b[0m \u001b[43m        \u001b[49m\u001b[38;5;28;43mself\u001b[39;49m\u001b[43m,\u001b[49m\n\u001b[1;32m   4910\u001b[0m \u001b[43m        \u001b[49m\u001b[43mfunc\u001b[49m\u001b[43m,\u001b[49m\n\u001b[1;32m   4911\u001b[0m \u001b[43m        \u001b[49m\u001b[43mconvert_dtype\u001b[49m\u001b[38;5;241;43m=\u001b[39;49m\u001b[43mconvert_dtype\u001b[49m\u001b[43m,\u001b[49m\n\u001b[1;32m   4912\u001b[0m \u001b[43m        \u001b[49m\u001b[43mby_row\u001b[49m\u001b[38;5;241;43m=\u001b[39;49m\u001b[43mby_row\u001b[49m\u001b[43m,\u001b[49m\n\u001b[1;32m   4913\u001b[0m \u001b[43m        \u001b[49m\u001b[43margs\u001b[49m\u001b[38;5;241;43m=\u001b[39;49m\u001b[43margs\u001b[49m\u001b[43m,\u001b[49m\n\u001b[1;32m   4914\u001b[0m \u001b[43m        \u001b[49m\u001b[43mkwargs\u001b[49m\u001b[38;5;241;43m=\u001b[39;49m\u001b[43mkwargs\u001b[49m\u001b[43m,\u001b[49m\n\u001b[0;32m-> 4915\u001b[0m \u001b[43m    \u001b[49m\u001b[43m)\u001b[49m\u001b[38;5;241;43m.\u001b[39;49m\u001b[43mapply\u001b[49m\u001b[43m(\u001b[49m\u001b[43m)\u001b[49m\n",
      "File \u001b[0;32m/Library/Frameworks/Python.framework/Versions/3.11/lib/python3.11/site-packages/pandas/core/apply.py:1427\u001b[0m, in \u001b[0;36mSeriesApply.apply\u001b[0;34m(self)\u001b[0m\n\u001b[1;32m   1424\u001b[0m     \u001b[38;5;28;01mreturn\u001b[39;00m \u001b[38;5;28mself\u001b[39m\u001b[38;5;241m.\u001b[39mapply_compat()\n\u001b[1;32m   1426\u001b[0m \u001b[38;5;66;03m# self.func is Callable\u001b[39;00m\n\u001b[0;32m-> 1427\u001b[0m \u001b[38;5;28;01mreturn\u001b[39;00m \u001b[38;5;28;43mself\u001b[39;49m\u001b[38;5;241;43m.\u001b[39;49m\u001b[43mapply_standard\u001b[49m\u001b[43m(\u001b[49m\u001b[43m)\u001b[49m\n",
      "File \u001b[0;32m/Library/Frameworks/Python.framework/Versions/3.11/lib/python3.11/site-packages/pandas/core/apply.py:1507\u001b[0m, in \u001b[0;36mSeriesApply.apply_standard\u001b[0;34m(self)\u001b[0m\n\u001b[1;32m   1501\u001b[0m \u001b[38;5;66;03m# row-wise access\u001b[39;00m\n\u001b[1;32m   1502\u001b[0m \u001b[38;5;66;03m# apply doesn't have a `na_action` keyword and for backward compat reasons\u001b[39;00m\n\u001b[1;32m   1503\u001b[0m \u001b[38;5;66;03m# we need to give `na_action=\"ignore\"` for categorical data.\u001b[39;00m\n\u001b[1;32m   1504\u001b[0m \u001b[38;5;66;03m# TODO: remove the `na_action=\"ignore\"` when that default has been changed in\u001b[39;00m\n\u001b[1;32m   1505\u001b[0m \u001b[38;5;66;03m#  Categorical (GH51645).\u001b[39;00m\n\u001b[1;32m   1506\u001b[0m action \u001b[38;5;241m=\u001b[39m \u001b[38;5;124m\"\u001b[39m\u001b[38;5;124mignore\u001b[39m\u001b[38;5;124m\"\u001b[39m \u001b[38;5;28;01mif\u001b[39;00m \u001b[38;5;28misinstance\u001b[39m(obj\u001b[38;5;241m.\u001b[39mdtype, CategoricalDtype) \u001b[38;5;28;01melse\u001b[39;00m \u001b[38;5;28;01mNone\u001b[39;00m\n\u001b[0;32m-> 1507\u001b[0m mapped \u001b[38;5;241m=\u001b[39m \u001b[43mobj\u001b[49m\u001b[38;5;241;43m.\u001b[39;49m\u001b[43m_map_values\u001b[49m\u001b[43m(\u001b[49m\n\u001b[1;32m   1508\u001b[0m \u001b[43m    \u001b[49m\u001b[43mmapper\u001b[49m\u001b[38;5;241;43m=\u001b[39;49m\u001b[43mcurried\u001b[49m\u001b[43m,\u001b[49m\u001b[43m \u001b[49m\u001b[43mna_action\u001b[49m\u001b[38;5;241;43m=\u001b[39;49m\u001b[43maction\u001b[49m\u001b[43m,\u001b[49m\u001b[43m \u001b[49m\u001b[43mconvert\u001b[49m\u001b[38;5;241;43m=\u001b[39;49m\u001b[38;5;28;43mself\u001b[39;49m\u001b[38;5;241;43m.\u001b[39;49m\u001b[43mconvert_dtype\u001b[49m\n\u001b[1;32m   1509\u001b[0m \u001b[43m\u001b[49m\u001b[43m)\u001b[49m\n\u001b[1;32m   1511\u001b[0m \u001b[38;5;28;01mif\u001b[39;00m \u001b[38;5;28mlen\u001b[39m(mapped) \u001b[38;5;129;01mand\u001b[39;00m \u001b[38;5;28misinstance\u001b[39m(mapped[\u001b[38;5;241m0\u001b[39m], ABCSeries):\n\u001b[1;32m   1512\u001b[0m     \u001b[38;5;66;03m# GH#43986 Need to do list(mapped) in order to get treated as nested\u001b[39;00m\n\u001b[1;32m   1513\u001b[0m     \u001b[38;5;66;03m#  See also GH#25959 regarding EA support\u001b[39;00m\n\u001b[1;32m   1514\u001b[0m     \u001b[38;5;28;01mreturn\u001b[39;00m obj\u001b[38;5;241m.\u001b[39m_constructor_expanddim(\u001b[38;5;28mlist\u001b[39m(mapped), index\u001b[38;5;241m=\u001b[39mobj\u001b[38;5;241m.\u001b[39mindex)\n",
      "File \u001b[0;32m/Library/Frameworks/Python.framework/Versions/3.11/lib/python3.11/site-packages/pandas/core/base.py:921\u001b[0m, in \u001b[0;36mIndexOpsMixin._map_values\u001b[0;34m(self, mapper, na_action, convert)\u001b[0m\n\u001b[1;32m    918\u001b[0m \u001b[38;5;28;01mif\u001b[39;00m \u001b[38;5;28misinstance\u001b[39m(arr, ExtensionArray):\n\u001b[1;32m    919\u001b[0m     \u001b[38;5;28;01mreturn\u001b[39;00m arr\u001b[38;5;241m.\u001b[39mmap(mapper, na_action\u001b[38;5;241m=\u001b[39mna_action)\n\u001b[0;32m--> 921\u001b[0m \u001b[38;5;28;01mreturn\u001b[39;00m \u001b[43malgorithms\u001b[49m\u001b[38;5;241;43m.\u001b[39;49m\u001b[43mmap_array\u001b[49m\u001b[43m(\u001b[49m\u001b[43marr\u001b[49m\u001b[43m,\u001b[49m\u001b[43m \u001b[49m\u001b[43mmapper\u001b[49m\u001b[43m,\u001b[49m\u001b[43m \u001b[49m\u001b[43mna_action\u001b[49m\u001b[38;5;241;43m=\u001b[39;49m\u001b[43mna_action\u001b[49m\u001b[43m,\u001b[49m\u001b[43m \u001b[49m\u001b[43mconvert\u001b[49m\u001b[38;5;241;43m=\u001b[39;49m\u001b[43mconvert\u001b[49m\u001b[43m)\u001b[49m\n",
      "File \u001b[0;32m/Library/Frameworks/Python.framework/Versions/3.11/lib/python3.11/site-packages/pandas/core/algorithms.py:1743\u001b[0m, in \u001b[0;36mmap_array\u001b[0;34m(arr, mapper, na_action, convert)\u001b[0m\n\u001b[1;32m   1741\u001b[0m values \u001b[38;5;241m=\u001b[39m arr\u001b[38;5;241m.\u001b[39mastype(\u001b[38;5;28mobject\u001b[39m, copy\u001b[38;5;241m=\u001b[39m\u001b[38;5;28;01mFalse\u001b[39;00m)\n\u001b[1;32m   1742\u001b[0m \u001b[38;5;28;01mif\u001b[39;00m na_action \u001b[38;5;129;01mis\u001b[39;00m \u001b[38;5;28;01mNone\u001b[39;00m:\n\u001b[0;32m-> 1743\u001b[0m     \u001b[38;5;28;01mreturn\u001b[39;00m \u001b[43mlib\u001b[49m\u001b[38;5;241;43m.\u001b[39;49m\u001b[43mmap_infer\u001b[49m\u001b[43m(\u001b[49m\u001b[43mvalues\u001b[49m\u001b[43m,\u001b[49m\u001b[43m \u001b[49m\u001b[43mmapper\u001b[49m\u001b[43m,\u001b[49m\u001b[43m \u001b[49m\u001b[43mconvert\u001b[49m\u001b[38;5;241;43m=\u001b[39;49m\u001b[43mconvert\u001b[49m\u001b[43m)\u001b[49m\n\u001b[1;32m   1744\u001b[0m \u001b[38;5;28;01melse\u001b[39;00m:\n\u001b[1;32m   1745\u001b[0m     \u001b[38;5;28;01mreturn\u001b[39;00m lib\u001b[38;5;241m.\u001b[39mmap_infer_mask(\n\u001b[1;32m   1746\u001b[0m         values, mapper, mask\u001b[38;5;241m=\u001b[39misna(values)\u001b[38;5;241m.\u001b[39mview(np\u001b[38;5;241m.\u001b[39muint8), convert\u001b[38;5;241m=\u001b[39mconvert\n\u001b[1;32m   1747\u001b[0m     )\n",
      "File \u001b[0;32mlib.pyx:2972\u001b[0m, in \u001b[0;36mpandas._libs.lib.map_infer\u001b[0;34m()\u001b[0m\n",
      "File \u001b[0;32m/Library/Frameworks/Python.framework/Versions/3.11/lib/python3.11/ast.py:110\u001b[0m, in \u001b[0;36mliteral_eval\u001b[0;34m(node_or_string)\u001b[0m\n\u001b[1;32m    108\u001b[0m                 \u001b[38;5;28;01mreturn\u001b[39;00m left \u001b[38;5;241m-\u001b[39m right\n\u001b[1;32m    109\u001b[0m     \u001b[38;5;28;01mreturn\u001b[39;00m _convert_signed_num(node)\n\u001b[0;32m--> 110\u001b[0m \u001b[38;5;28;01mreturn\u001b[39;00m \u001b[43m_convert\u001b[49m\u001b[43m(\u001b[49m\u001b[43mnode_or_string\u001b[49m\u001b[43m)\u001b[49m\n",
      "File \u001b[0;32m/Library/Frameworks/Python.framework/Versions/3.11/lib/python3.11/ast.py:109\u001b[0m, in \u001b[0;36mliteral_eval.<locals>._convert\u001b[0;34m(node)\u001b[0m\n\u001b[1;32m    107\u001b[0m         \u001b[38;5;28;01melse\u001b[39;00m:\n\u001b[1;32m    108\u001b[0m             \u001b[38;5;28;01mreturn\u001b[39;00m left \u001b[38;5;241m-\u001b[39m right\n\u001b[0;32m--> 109\u001b[0m \u001b[38;5;28;01mreturn\u001b[39;00m \u001b[43m_convert_signed_num\u001b[49m\u001b[43m(\u001b[49m\u001b[43mnode\u001b[49m\u001b[43m)\u001b[49m\n",
      "File \u001b[0;32m/Library/Frameworks/Python.framework/Versions/3.11/lib/python3.11/ast.py:83\u001b[0m, in \u001b[0;36mliteral_eval.<locals>._convert_signed_num\u001b[0;34m(node)\u001b[0m\n\u001b[1;32m     81\u001b[0m     \u001b[38;5;28;01melse\u001b[39;00m:\n\u001b[1;32m     82\u001b[0m         \u001b[38;5;28;01mreturn\u001b[39;00m \u001b[38;5;241m-\u001b[39m operand\n\u001b[0;32m---> 83\u001b[0m \u001b[38;5;28;01mreturn\u001b[39;00m \u001b[43m_convert_num\u001b[49m\u001b[43m(\u001b[49m\u001b[43mnode\u001b[49m\u001b[43m)\u001b[49m\n",
      "File \u001b[0;32m/Library/Frameworks/Python.framework/Versions/3.11/lib/python3.11/ast.py:74\u001b[0m, in \u001b[0;36mliteral_eval.<locals>._convert_num\u001b[0;34m(node)\u001b[0m\n\u001b[1;32m     72\u001b[0m \u001b[38;5;28;01mdef\u001b[39;00m \u001b[38;5;21m_convert_num\u001b[39m(node):\n\u001b[1;32m     73\u001b[0m     \u001b[38;5;28;01mif\u001b[39;00m \u001b[38;5;129;01mnot\u001b[39;00m \u001b[38;5;28misinstance\u001b[39m(node, Constant) \u001b[38;5;129;01mor\u001b[39;00m \u001b[38;5;28mtype\u001b[39m(node\u001b[38;5;241m.\u001b[39mvalue) \u001b[38;5;129;01mnot\u001b[39;00m \u001b[38;5;129;01min\u001b[39;00m (\u001b[38;5;28mint\u001b[39m, \u001b[38;5;28mfloat\u001b[39m, \u001b[38;5;28mcomplex\u001b[39m):\n\u001b[0;32m---> 74\u001b[0m         \u001b[43m_raise_malformed_node\u001b[49m\u001b[43m(\u001b[49m\u001b[43mnode\u001b[49m\u001b[43m)\u001b[49m\n\u001b[1;32m     75\u001b[0m     \u001b[38;5;28;01mreturn\u001b[39;00m node\u001b[38;5;241m.\u001b[39mvalue\n",
      "File \u001b[0;32m/Library/Frameworks/Python.framework/Versions/3.11/lib/python3.11/ast.py:71\u001b[0m, in \u001b[0;36mliteral_eval.<locals>._raise_malformed_node\u001b[0;34m(node)\u001b[0m\n\u001b[1;32m     69\u001b[0m \u001b[38;5;28;01mif\u001b[39;00m lno \u001b[38;5;241m:=\u001b[39m \u001b[38;5;28mgetattr\u001b[39m(node, \u001b[38;5;124m'\u001b[39m\u001b[38;5;124mlineno\u001b[39m\u001b[38;5;124m'\u001b[39m, \u001b[38;5;28;01mNone\u001b[39;00m):\n\u001b[1;32m     70\u001b[0m     msg \u001b[38;5;241m+\u001b[39m\u001b[38;5;241m=\u001b[39m \u001b[38;5;124mf\u001b[39m\u001b[38;5;124m'\u001b[39m\u001b[38;5;124m on line \u001b[39m\u001b[38;5;132;01m{\u001b[39;00mlno\u001b[38;5;132;01m}\u001b[39;00m\u001b[38;5;124m'\u001b[39m\n\u001b[0;32m---> 71\u001b[0m \u001b[38;5;28;01mraise\u001b[39;00m \u001b[38;5;167;01mValueError\u001b[39;00m(msg \u001b[38;5;241m+\u001b[39m \u001b[38;5;124mf\u001b[39m\u001b[38;5;124m'\u001b[39m\u001b[38;5;124m: \u001b[39m\u001b[38;5;132;01m{\u001b[39;00mnode\u001b[38;5;132;01m!r}\u001b[39;00m\u001b[38;5;124m'\u001b[39m)\n",
      "\u001b[0;31mValueError\u001b[0m: malformed node or string: {'type': 'MultiPolygon', 'coordinates': [[[[-156.0355582, 19.71438405], [-156.03455464, 19.71421748], [-156.0343196, 19.71560723], [-156.03536541, 19.7155774], [-156.0355582, 19.71438405]]]]}"
     ]
    }
   ],
   "source": [
    "# Converting string to dictionary\n",
    "df['polygon'] = df['polygon'].apply(ast.literal_eval)\n",
    "\n",
    "df['geometry'] = df['polygon'].apply(lambda x: shape(x) if isinstance(x, dict) else Polygon())\n"
   ]
  },
  {
   "cell_type": "code",
   "execution_count": null,
   "metadata": {},
   "outputs": [
    {
     "data": {
      "text/html": [
       "\n",
       "            <style>\n",
       "                .geemap-dark {\n",
       "                    --jp-widgets-color: white;\n",
       "                    --jp-widgets-label-color: white;\n",
       "                    --jp-ui-font-color1: white;\n",
       "                    --jp-layout-color2: #454545;\n",
       "                    background-color: #383838;\n",
       "                }\n",
       "\n",
       "                .geemap-dark .jupyter-button {\n",
       "                    --jp-layout-color3: #383838;\n",
       "                }\n",
       "\n",
       "                .geemap-colab {\n",
       "                    background-color: var(--colab-primary-surface-color, white);\n",
       "                }\n",
       "\n",
       "                .geemap-colab .jupyter-button {\n",
       "                    --jp-layout-color3: var(--colab-primary-surface-color, white);\n",
       "                }\n",
       "            </style>\n",
       "            "
      ],
      "text/plain": [
       "<IPython.core.display.HTML object>"
      ]
     },
     "metadata": {},
     "output_type": "display_data"
    }
   ],
   "source": [
    "gdf = gpd.GeoDataFrame(df, geometry = 'geometry', crs = 'EPSG:4326')\n",
    "gdf['geometry'] = gdf['geometry'].make_valid()"
   ]
  },
  {
   "cell_type": "code",
   "execution_count": null,
   "metadata": {},
   "outputs": [
    {
     "data": {
      "text/html": [
       "\n",
       "            <style>\n",
       "                .geemap-dark {\n",
       "                    --jp-widgets-color: white;\n",
       "                    --jp-widgets-label-color: white;\n",
       "                    --jp-ui-font-color1: white;\n",
       "                    --jp-layout-color2: #454545;\n",
       "                    background-color: #383838;\n",
       "                }\n",
       "\n",
       "                .geemap-dark .jupyter-button {\n",
       "                    --jp-layout-color3: #383838;\n",
       "                }\n",
       "\n",
       "                .geemap-colab {\n",
       "                    background-color: var(--colab-primary-surface-color, white);\n",
       "                }\n",
       "\n",
       "                .geemap-colab .jupyter-button {\n",
       "                    --jp-layout-color3: var(--colab-primary-surface-color, white);\n",
       "                }\n",
       "            </style>\n",
       "            "
      ],
      "text/plain": [
       "<IPython.core.display.HTML object>"
      ]
     },
     "metadata": {},
     "output_type": "display_data"
    }
   ],
   "source": [
    "gdf = gdf.explode(index_parts = False)"
   ]
  },
  {
   "cell_type": "code",
   "execution_count": null,
   "metadata": {},
   "outputs": [
    {
     "data": {
      "text/html": [
       "\n",
       "            <style>\n",
       "                .geemap-dark {\n",
       "                    --jp-widgets-color: white;\n",
       "                    --jp-widgets-label-color: white;\n",
       "                    --jp-ui-font-color1: white;\n",
       "                    --jp-layout-color2: #454545;\n",
       "                    background-color: #383838;\n",
       "                }\n",
       "\n",
       "                .geemap-dark .jupyter-button {\n",
       "                    --jp-layout-color3: #383838;\n",
       "                }\n",
       "\n",
       "                .geemap-colab {\n",
       "                    background-color: var(--colab-primary-surface-color, white);\n",
       "                }\n",
       "\n",
       "                .geemap-colab .jupyter-button {\n",
       "                    --jp-layout-color3: var(--colab-primary-surface-color, white);\n",
       "                }\n",
       "            </style>\n",
       "            "
      ],
      "text/plain": [
       "<IPython.core.display.HTML object>"
      ]
     },
     "metadata": {},
     "output_type": "display_data"
    }
   ],
   "source": [
    "gdf = gdf[(gdf.geometry.geom_type == 'Polygon') | (gdf.geometry.geom_type == 'MultiPolygon')]\n",
    "gdf = gdf.explode(index_parts = False)\n",
    "gdf = gdf.reset_index(drop = True)"
   ]
  },
  {
   "cell_type": "markdown",
   "metadata": {},
   "source": [
    "### Harmonize nomenclature"
   ]
  },
  {
   "cell_type": "code",
   "execution_count": null,
   "metadata": {},
   "outputs": [
    {
     "data": {
      "text/html": [
       "\n",
       "            <style>\n",
       "                .geemap-dark {\n",
       "                    --jp-widgets-color: white;\n",
       "                    --jp-widgets-label-color: white;\n",
       "                    --jp-ui-font-color1: white;\n",
       "                    --jp-layout-color2: #454545;\n",
       "                    background-color: #383838;\n",
       "                }\n",
       "\n",
       "                .geemap-dark .jupyter-button {\n",
       "                    --jp-layout-color3: #383838;\n",
       "                }\n",
       "\n",
       "                .geemap-colab {\n",
       "                    background-color: var(--colab-primary-surface-color, white);\n",
       "                }\n",
       "\n",
       "                .geemap-colab .jupyter-button {\n",
       "                    --jp-layout-color3: var(--colab-primary-surface-color, white);\n",
       "                }\n",
       "            </style>\n",
       "            "
      ],
      "text/plain": [
       "<IPython.core.display.HTML object>"
      ]
     },
     "metadata": {},
     "output_type": "display_data"
    },
    {
     "data": {
      "text/plain": [
       "count    5.488000e+04\n",
       "mean     5.656300e+01\n",
       "std      1.730234e+03\n",
       "min      6.279266e-13\n",
       "25%      1.811333e-03\n",
       "50%      1.075112e-02\n",
       "75%      5.809420e-02\n",
       "max      2.362557e+05\n",
       "Name: site_sqkm, dtype: float64"
      ]
     },
     "execution_count": 12,
     "metadata": {},
     "output_type": "execute_result"
    }
   ],
   "source": [
    "gdf['site_sqkm'] = gdf['geometry'].to_crs(3857).area / 1e6\n",
    "gdf['site_sqkm'].describe()"
   ]
  },
  {
   "cell_type": "code",
   "execution_count": null,
   "metadata": {},
   "outputs": [
    {
     "data": {
      "text/html": [
       "\n",
       "            <style>\n",
       "                .geemap-dark {\n",
       "                    --jp-widgets-color: white;\n",
       "                    --jp-widgets-label-color: white;\n",
       "                    --jp-ui-font-color1: white;\n",
       "                    --jp-layout-color2: #454545;\n",
       "                    background-color: #383838;\n",
       "                }\n",
       "\n",
       "                .geemap-dark .jupyter-button {\n",
       "                    --jp-layout-color3: #383838;\n",
       "                }\n",
       "\n",
       "                .geemap-colab {\n",
       "                    background-color: var(--colab-primary-surface-color, white);\n",
       "                }\n",
       "\n",
       "                .geemap-colab .jupyter-button {\n",
       "                    --jp-layout-color3: var(--colab-primary-surface-color, white);\n",
       "                }\n",
       "            </style>\n",
       "            "
      ],
      "text/plain": [
       "<IPython.core.display.HTML object>"
      ]
     },
     "metadata": {},
     "output_type": "display_data"
    }
   ],
   "source": [
    "gdf['country'] = gdf['countryCode'].apply(lambda x: x if isinstance(x, str) else '')"
   ]
  },
  {
   "cell_type": "code",
   "execution_count": null,
   "metadata": {},
   "outputs": [
    {
     "data": {
      "text/html": [
       "\n",
       "            <style>\n",
       "                .geemap-dark {\n",
       "                    --jp-widgets-color: white;\n",
       "                    --jp-widgets-label-color: white;\n",
       "                    --jp-ui-font-color1: white;\n",
       "                    --jp-layout-color2: #454545;\n",
       "                    background-color: #383838;\n",
       "                }\n",
       "\n",
       "                .geemap-dark .jupyter-button {\n",
       "                    --jp-layout-color3: #383838;\n",
       "                }\n",
       "\n",
       "                .geemap-colab {\n",
       "                    background-color: var(--colab-primary-surface-color, white);\n",
       "                }\n",
       "\n",
       "                .geemap-colab .jupyter-button {\n",
       "                    --jp-layout-color3: var(--colab-primary-surface-color, white);\n",
       "                }\n",
       "            </style>\n",
       "            "
      ],
      "text/plain": [
       "<IPython.core.display.HTML object>"
      ]
     },
     "metadata": {},
     "output_type": "display_data"
    },
    {
     "name": "stdout",
     "output_type": "stream",
     "text": [
      "<class 'geopandas.geodataframe.GeoDataFrame'>\n",
      "RangeIndex: 54880 entries, 0 to 54879\n",
      "Data columns (total 35 columns):\n",
      " #   Column                     Non-Null Count  Dtype   \n",
      "---  ------                     --------------  -----   \n",
      " 0   id                         54880 non-null  object  \n",
      " 1   name                       54785 non-null  object  \n",
      " 2   polygon                    54880 non-null  object  \n",
      " 3   boundingBox                54880 non-null  object  \n",
      " 4   siteType                   54880 non-null  object  \n",
      " 5   siteVisibility             54880 non-null  object  \n",
      " 6   surfaceAreaKm2             54880 non-null  float64 \n",
      " 7   countryCode                54860 non-null  object  \n",
      " 8   interventionStartYear      53032 non-null  float64 \n",
      " 9   stage                      54880 non-null  object  \n",
      " 10  interventionType           54880 non-null  object  \n",
      " 11  goals                      54880 non-null  object  \n",
      " 12  supportSought              54880 non-null  object  \n",
      " 13  website                    30530 non-null  object  \n",
      " 14  contactEmail               29167 non-null  object  \n",
      " 15  photoIds                   54880 non-null  object  \n",
      " 16  customFields               54880 non-null  object  \n",
      " 17  isFeatured                 54880 non-null  bool    \n",
      " 18  createdAt                  54880 non-null  object  \n",
      " 19  updatedAt                  54880 non-null  object  \n",
      " 20  permissions                54880 non-null  object  \n",
      " 21  shares                     54880 non-null  object  \n",
      " 22  description                34283 non-null  object  \n",
      " 23  preInterventionLandUse     47070 non-null  object  \n",
      " 24  postInterventionLandCover  45477 non-null  object  \n",
      " 25  siteManagement             34731 non-null  object  \n",
      " 26  siteOwnership              34830 non-null  object  \n",
      " 27  donateUrl                  6355 non-null   object  \n",
      " 28  customLinkUrl              1438 non-null   object  \n",
      " 29  customLinkText             1438 non-null   object  \n",
      " 30  beforeAfter                174 non-null    object  \n",
      " 31  landTenureUrl              348 non-null    object  \n",
      " 32  geometry                   54880 non-null  geometry\n",
      " 33  site_sqkm                  54880 non-null  float64 \n",
      " 34  country                    54880 non-null  object  \n",
      "dtypes: bool(1), float64(3), geometry(1), object(30)\n",
      "memory usage: 14.3+ MB\n"
     ]
    }
   ],
   "source": [
    "gdf.info()"
   ]
  },
  {
   "cell_type": "code",
   "execution_count": null,
   "metadata": {},
   "outputs": [
    {
     "data": {
      "text/html": [
       "\n",
       "            <style>\n",
       "                .geemap-dark {\n",
       "                    --jp-widgets-color: white;\n",
       "                    --jp-widgets-label-color: white;\n",
       "                    --jp-ui-font-color1: white;\n",
       "                    --jp-layout-color2: #454545;\n",
       "                    background-color: #383838;\n",
       "                }\n",
       "\n",
       "                .geemap-dark .jupyter-button {\n",
       "                    --jp-layout-color3: #383838;\n",
       "                }\n",
       "\n",
       "                .geemap-colab {\n",
       "                    background-color: var(--colab-primary-surface-color, white);\n",
       "                }\n",
       "\n",
       "                .geemap-colab .jupyter-button {\n",
       "                    --jp-layout-color3: var(--colab-primary-surface-color, white);\n",
       "                }\n",
       "            </style>\n",
       "            "
      ],
      "text/plain": [
       "<IPython.core.display.HTML object>"
      ]
     },
     "metadata": {},
     "output_type": "display_data"
    }
   ],
   "source": [
    "# Renaming the columns to follow our naming format in the paper columns section\n",
    "columns_rename_mapping = {\n",
    "    'id': 'project_id_reported',\n",
    "    'description': 'project_description_reported',\n",
    "    'interventionStartYear': 'planting_date_reported',\n",
    "    'website': 'url'\n",
    "}\n",
    "gdf.rename(columns=columns_rename_mapping, inplace=True)"
   ]
  },
  {
   "cell_type": "code",
   "execution_count": null,
   "metadata": {},
   "outputs": [
    {
     "data": {
      "text/html": [
       "\n",
       "            <style>\n",
       "                .geemap-dark {\n",
       "                    --jp-widgets-color: white;\n",
       "                    --jp-widgets-label-color: white;\n",
       "                    --jp-ui-font-color1: white;\n",
       "                    --jp-layout-color2: #454545;\n",
       "                    background-color: #383838;\n",
       "                }\n",
       "\n",
       "                .geemap-dark .jupyter-button {\n",
       "                    --jp-layout-color3: #383838;\n",
       "                }\n",
       "\n",
       "                .geemap-colab {\n",
       "                    background-color: var(--colab-primary-surface-color, white);\n",
       "                }\n",
       "\n",
       "                .geemap-colab .jupyter-button {\n",
       "                    --jp-layout-color3: var(--colab-primary-surface-color, white);\n",
       "                }\n",
       "            </style>\n",
       "            "
      ],
      "text/plain": [
       "<IPython.core.display.HTML object>"
      ]
     },
     "metadata": {},
     "output_type": "display_data"
    },
    {
     "data": {
      "text/plain": [
       "0        2022.0\n",
       "1        2020.0\n",
       "2        2022.0\n",
       "3        2016.0\n",
       "4        2021.0\n",
       "          ...  \n",
       "54875    2015.0\n",
       "54876    2022.0\n",
       "54877       NaN\n",
       "54878    2020.0\n",
       "54879    2021.0\n",
       "Name: planting_date_reported, Length: 54880, dtype: float64"
      ]
     },
     "execution_count": 16,
     "metadata": {},
     "output_type": "execute_result"
    }
   ],
   "source": [
    "gdf[\"planting_date_reported\"]"
   ]
  },
  {
   "cell_type": "code",
   "execution_count": null,
   "metadata": {},
   "outputs": [
    {
     "data": {
      "text/html": [
       "\n",
       "            <style>\n",
       "                .geemap-dark {\n",
       "                    --jp-widgets-color: white;\n",
       "                    --jp-widgets-label-color: white;\n",
       "                    --jp-ui-font-color1: white;\n",
       "                    --jp-layout-color2: #454545;\n",
       "                    background-color: #383838;\n",
       "                }\n",
       "\n",
       "                .geemap-dark .jupyter-button {\n",
       "                    --jp-layout-color3: #383838;\n",
       "                }\n",
       "\n",
       "                .geemap-colab {\n",
       "                    background-color: var(--colab-primary-surface-color, white);\n",
       "                }\n",
       "\n",
       "                .geemap-colab .jupyter-button {\n",
       "                    --jp-layout-color3: var(--colab-primary-surface-color, white);\n",
       "                }\n",
       "            </style>\n",
       "            "
      ],
      "text/plain": [
       "<IPython.core.display.HTML object>"
      ]
     },
     "metadata": {},
     "output_type": "display_data"
    }
   ],
   "source": [
    "gdf['project_description_reported'] = gdf['project_description_reported'].apply(lambda x: x[0] if isinstance(x, list) and len(x) > 0 else x)\n",
    "gdf['planting_date_reported'] = gdf['planting_date_reported'].apply(lambda x: x[0] if isinstance(x, list) and len(x) > 0 else x)\n",
    "gdf['url'] = gdf['url'].apply(lambda x: x[0] if isinstance(x, list) and len(x) > 0 else x)"
   ]
  },
  {
   "cell_type": "code",
   "execution_count": null,
   "metadata": {},
   "outputs": [
    {
     "data": {
      "text/html": [
       "\n",
       "            <style>\n",
       "                .geemap-dark {\n",
       "                    --jp-widgets-color: white;\n",
       "                    --jp-widgets-label-color: white;\n",
       "                    --jp-ui-font-color1: white;\n",
       "                    --jp-layout-color2: #454545;\n",
       "                    background-color: #383838;\n",
       "                }\n",
       "\n",
       "                .geemap-dark .jupyter-button {\n",
       "                    --jp-layout-color3: #383838;\n",
       "                }\n",
       "\n",
       "                .geemap-colab {\n",
       "                    background-color: var(--colab-primary-surface-color, white);\n",
       "                }\n",
       "\n",
       "                .geemap-colab .jupyter-button {\n",
       "                    --jp-layout-color3: var(--colab-primary-surface-color, white);\n",
       "                }\n",
       "            </style>\n",
       "            "
      ],
      "text/plain": [
       "<IPython.core.display.HTML object>"
      ]
     },
     "metadata": {},
     "output_type": "display_data"
    }
   ],
   "source": [
    "columns_to_keep = [\n",
    "     'project_id_reported',\n",
    "    'project_description_reported',\n",
    "     'planting_date_reported',\n",
    "     'geometry',\n",
    "     'url',\n",
    "     'site_sqkm',\n",
    "     'country'\n",
    "]\n",
    "gdf=gdf[columns_to_keep]"
   ]
  },
  {
   "cell_type": "code",
   "execution_count": null,
   "metadata": {},
   "outputs": [
    {
     "data": {
      "text/html": [
       "\n",
       "            <style>\n",
       "                .geemap-dark {\n",
       "                    --jp-widgets-color: white;\n",
       "                    --jp-widgets-label-color: white;\n",
       "                    --jp-ui-font-color1: white;\n",
       "                    --jp-layout-color2: #454545;\n",
       "                    background-color: #383838;\n",
       "                }\n",
       "\n",
       "                .geemap-dark .jupyter-button {\n",
       "                    --jp-layout-color3: #383838;\n",
       "                }\n",
       "\n",
       "                .geemap-colab {\n",
       "                    background-color: var(--colab-primary-surface-color, white);\n",
       "                }\n",
       "\n",
       "                .geemap-colab .jupyter-button {\n",
       "                    --jp-layout-color3: var(--colab-primary-surface-color, white);\n",
       "                }\n",
       "            </style>\n",
       "            "
      ],
      "text/plain": [
       "<IPython.core.display.HTML object>"
      ]
     },
     "metadata": {},
     "output_type": "display_data"
    }
   ],
   "source": [
    "gdf['planting_date_reported'] = gdf['planting_date_reported'].replace('', np.nan).astype(float)\n",
    "gdf['planting_date_reported'] = gdf['planting_date_reported'].astype(object)"
   ]
  },
  {
   "cell_type": "code",
   "execution_count": null,
   "metadata": {},
   "outputs": [
    {
     "data": {
      "text/html": [
       "\n",
       "            <style>\n",
       "                .geemap-dark {\n",
       "                    --jp-widgets-color: white;\n",
       "                    --jp-widgets-label-color: white;\n",
       "                    --jp-ui-font-color1: white;\n",
       "                    --jp-layout-color2: #454545;\n",
       "                    background-color: #383838;\n",
       "                }\n",
       "\n",
       "                .geemap-dark .jupyter-button {\n",
       "                    --jp-layout-color3: #383838;\n",
       "                }\n",
       "\n",
       "                .geemap-colab {\n",
       "                    background-color: var(--colab-primary-surface-color, white);\n",
       "                }\n",
       "\n",
       "                .geemap-colab .jupyter-button {\n",
       "                    --jp-layout-color3: var(--colab-primary-surface-color, white);\n",
       "                }\n",
       "            </style>\n",
       "            "
      ],
      "text/plain": [
       "<IPython.core.display.HTML object>"
      ]
     },
     "metadata": {},
     "output_type": "display_data"
    },
    {
     "name": "stdout",
     "output_type": "stream",
     "text": [
      "<class 'geopandas.geodataframe.GeoDataFrame'>\n",
      "RangeIndex: 54880 entries, 0 to 54879\n",
      "Data columns (total 14 columns):\n",
      " #   Column                        Non-Null Count  Dtype   \n",
      "---  ------                        --------------  -----   \n",
      " 0   project_id_reported           54880 non-null  object  \n",
      " 1   project_description_reported  34283 non-null  object  \n",
      " 2   planting_date_reported        53032 non-null  object  \n",
      " 3   geometry                      54880 non-null  geometry\n",
      " 4   url                           54880 non-null  object  \n",
      " 5   site_sqkm                     54880 non-null  float64 \n",
      " 6   country                       54880 non-null  object  \n",
      " 7   project_geometries_invalid    54880 non-null  bool    \n",
      " 8   site_id_reported              54880 non-null  object  \n",
      " 9   host_name                     54880 non-null  object  \n",
      " 10  species_count_reported        0 non-null      object  \n",
      " 11  species_planted_reported      0 non-null      object  \n",
      " 12  survival_rate_reported        0 non-null      object  \n",
      " 13  trees_planted_reported        0 non-null      object  \n",
      "dtypes: bool(1), float64(1), geometry(1), object(11)\n",
      "memory usage: 5.5+ MB\n"
     ]
    }
   ],
   "source": [
    "gdf['site_id_reported'] = ['restor_site_{}'.format(i) for i in range(1, len(gdf) + 1)]\n",
    "gdf ['host_name'] = 'Restor Eco'\n",
    "gdf['url'] = 'https://restor.eco/sites/' + gdf['project_id_reported'].astype(str)\n",
    "\n",
    "gdf = gdf.assign(species_count_reported=None, species_planted_reported=None, survival_rate_reported=None,trees_planted_reported=None)\n",
    "gdf.info()"
   ]
  },
  {
   "cell_type": "code",
   "execution_count": null,
   "metadata": {},
   "outputs": [
    {
     "data": {
      "text/html": [
       "\n",
       "            <style>\n",
       "                .geemap-dark {\n",
       "                    --jp-widgets-color: white;\n",
       "                    --jp-widgets-label-color: white;\n",
       "                    --jp-ui-font-color1: white;\n",
       "                    --jp-layout-color2: #454545;\n",
       "                    background-color: #383838;\n",
       "                }\n",
       "\n",
       "                .geemap-dark .jupyter-button {\n",
       "                    --jp-layout-color3: #383838;\n",
       "                }\n",
       "\n",
       "                .geemap-colab {\n",
       "                    background-color: var(--colab-primary-surface-color, white);\n",
       "                }\n",
       "\n",
       "                .geemap-colab .jupyter-button {\n",
       "                    --jp-layout-color3: var(--colab-primary-surface-color, white);\n",
       "                }\n",
       "            </style>\n",
       "            "
      ],
      "text/plain": [
       "<IPython.core.display.HTML object>"
      ]
     },
     "metadata": {},
     "output_type": "display_data"
    }
   ],
   "source": [
    "invalid_geom = False\n",
    "\n",
    "if len(gdf[gdf.geometry.is_valid == False]) > 0:\n",
    "    invalid_geom = True\n",
    "gdf['project_geometries_invalid'] = invalid_geom\n",
    "gdf[\"planting_date_type\"]=\"Intrvation Start Year\""
   ]
  },
  {
   "cell_type": "markdown",
   "metadata": {},
   "source": [
    "### Save it"
   ]
  },
  {
   "cell_type": "code",
   "execution_count": null,
   "metadata": {},
   "outputs": [
    {
     "data": {
      "text/html": [
       "\n",
       "            <style>\n",
       "                .geemap-dark {\n",
       "                    --jp-widgets-color: white;\n",
       "                    --jp-widgets-label-color: white;\n",
       "                    --jp-ui-font-color1: white;\n",
       "                    --jp-layout-color2: #454545;\n",
       "                    background-color: #383838;\n",
       "                }\n",
       "\n",
       "                .geemap-dark .jupyter-button {\n",
       "                    --jp-layout-color3: #383838;\n",
       "                }\n",
       "\n",
       "                .geemap-colab {\n",
       "                    background-color: var(--colab-primary-surface-color, white);\n",
       "                }\n",
       "\n",
       "                .geemap-colab .jupyter-button {\n",
       "                    --jp-layout-color3: var(--colab-primary-surface-color, white);\n",
       "                }\n",
       "            </style>\n",
       "            "
      ],
      "text/plain": [
       "<IPython.core.display.HTML object>"
      ]
     },
     "metadata": {},
     "output_type": "display_data"
    }
   ],
   "source": [
    "gdf.to_file('../midsave/restor_eco.gpkg')"
   ]
  }
 ],
 "metadata": {
  "kernelspec": {
   "display_name": "Python 3 (ipykernel)",
   "language": "python",
   "name": "python3"
  },
  "language_info": {
   "codemirror_mode": {
    "name": "ipython",
    "version": 3
   },
   "file_extension": ".py",
   "mimetype": "text/x-python",
   "name": "python",
   "nbconvert_exporter": "python",
   "pygments_lexer": "ipython3",
   "version": "3.11.8"
  }
 },
 "nbformat": 4,
 "nbformat_minor": 4
}
