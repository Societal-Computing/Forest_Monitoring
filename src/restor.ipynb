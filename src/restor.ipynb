{
 "cells": [
  {
   "cell_type": "code",
   "execution_count": 19,
   "metadata": {},
   "outputs": [],
   "source": [
    "import pandas as pd\n",
    "import geopandas as gpd\n",
    "from shapely.geometry import shape, Polygon, MultiPolygon\n",
    "import numpy as np\n"
   ]
  },
  {
   "cell_type": "code",
   "execution_count": 20,
   "metadata": {},
   "outputs": [
    {
     "data": {
      "text/html": [
       "<div>\n",
       "<style scoped>\n",
       "    .dataframe tbody tr th:only-of-type {\n",
       "        vertical-align: middle;\n",
       "    }\n",
       "\n",
       "    .dataframe tbody tr th {\n",
       "        vertical-align: top;\n",
       "    }\n",
       "\n",
       "    .dataframe thead th {\n",
       "        text-align: right;\n",
       "    }\n",
       "</style>\n",
       "<table border=\"1\" class=\"dataframe\">\n",
       "  <thead>\n",
       "    <tr style=\"text-align: right;\">\n",
       "      <th></th>\n",
       "      <th>id</th>\n",
       "      <th>name</th>\n",
       "      <th>description</th>\n",
       "      <th>polygon</th>\n",
       "      <th>siteType</th>\n",
       "      <th>siteVisibility</th>\n",
       "      <th>surfaceAreaKm2</th>\n",
       "      <th>countryCode</th>\n",
       "      <th>interventionStartYear</th>\n",
       "      <th>stage</th>\n",
       "      <th>...</th>\n",
       "      <th>landTenureUrl</th>\n",
       "      <th>photoIds</th>\n",
       "      <th>customFields</th>\n",
       "      <th>customLinkUrl</th>\n",
       "      <th>customLinkText</th>\n",
       "      <th>donateUrl</th>\n",
       "      <th>analysis</th>\n",
       "      <th>isFeatured</th>\n",
       "      <th>createdAt</th>\n",
       "      <th>updatedAt</th>\n",
       "    </tr>\n",
       "  </thead>\n",
       "  <tbody>\n",
       "    <tr>\n",
       "      <th>0</th>\n",
       "      <td>3eec6174-21ce-4cb0-9180-82c1ccbef0bb</td>\n",
       "      <td>[Mabale - Holistic land management site SFA]</td>\n",
       "      <td>{}</td>\n",
       "      <td>{'type': ['MultiPolygon'], 'coordinates': [[[[...</td>\n",
       "      <td>[LANDSCAPE]</td>\n",
       "      <td>[PUBLIC]</td>\n",
       "      <td>[104.9347]</td>\n",
       "      <td>[ZW]</td>\n",
       "      <td>[2021]</td>\n",
       "      <td>[ONGOING]</td>\n",
       "      <td>...</td>\n",
       "      <td>{}</td>\n",
       "      <td>[]</td>\n",
       "      <td>[]</td>\n",
       "      <td>{}</td>\n",
       "      <td>{}</td>\n",
       "      <td>{}</td>\n",
       "      <td>{}</td>\n",
       "      <td>[False]</td>\n",
       "      <td>[2023-02-23T12:18:27.313Z]</td>\n",
       "      <td>[2023-02-23T12:18:27.313Z]</td>\n",
       "    </tr>\n",
       "    <tr>\n",
       "      <th>1</th>\n",
       "      <td>6bbc2d6c-ce35-48b2-9fd4-af74030f7fda</td>\n",
       "      <td>[Lukango Tree Conservancy Limited (LuTreeCo)]</td>\n",
       "      <td>[Lukango Tree Conservancy Limited (LuTreeCo) i...</td>\n",
       "      <td>{'type': ['MultiPolygon'], 'coordinates': [[[[...</td>\n",
       "      <td>[RESTORATION]</td>\n",
       "      <td>[PUBLIC]</td>\n",
       "      <td>[0.3275]</td>\n",
       "      <td>[UG]</td>\n",
       "      <td>[2017]</td>\n",
       "      <td>[ONGOING]</td>\n",
       "      <td>...</td>\n",
       "      <td>{}</td>\n",
       "      <td>[1bfa2bcd-6505-405d-abf7-6bbc8113fde6, dc0ff07...</td>\n",
       "      <td>[]</td>\n",
       "      <td>{}</td>\n",
       "      <td>{}</td>\n",
       "      <td>{}</td>\n",
       "      <td>{}</td>\n",
       "      <td>[False]</td>\n",
       "      <td>[2023-04-11T08:54:50.837Z]</td>\n",
       "      <td>[2023-04-11T14:01:54.154Z]</td>\n",
       "    </tr>\n",
       "    <tr>\n",
       "      <th>2</th>\n",
       "      <td>bccf3ff8-cc4e-47f2-9435-aaaa5ff9a89c</td>\n",
       "      <td>[Lilongwe (Not entire City)]</td>\n",
       "      <td>[This is the city of Lilongwe which we have do...</td>\n",
       "      <td>{'type': ['MultiPolygon'], 'coordinates': [[[[...</td>\n",
       "      <td>[RESTORATION]</td>\n",
       "      <td>[PUBLIC]</td>\n",
       "      <td>[362.3797]</td>\n",
       "      <td>[MW]</td>\n",
       "      <td>[2022]</td>\n",
       "      <td>[ONGOING]</td>\n",
       "      <td>...</td>\n",
       "      <td>{}</td>\n",
       "      <td>[]</td>\n",
       "      <td>[]</td>\n",
       "      <td>{}</td>\n",
       "      <td>{}</td>\n",
       "      <td>{}</td>\n",
       "      <td>{}</td>\n",
       "      <td>[False]</td>\n",
       "      <td>[2023-02-27T14:42:54.442Z]</td>\n",
       "      <td>[2023-02-27T14:48:17.999Z]</td>\n",
       "    </tr>\n",
       "  </tbody>\n",
       "</table>\n",
       "<p>3 rows × 29 columns</p>\n",
       "</div>"
      ],
      "text/plain": [
       "                                     id  \\\n",
       "0  3eec6174-21ce-4cb0-9180-82c1ccbef0bb   \n",
       "1  6bbc2d6c-ce35-48b2-9fd4-af74030f7fda   \n",
       "2  bccf3ff8-cc4e-47f2-9435-aaaa5ff9a89c   \n",
       "\n",
       "                                            name  \\\n",
       "0   [Mabale - Holistic land management site SFA]   \n",
       "1  [Lukango Tree Conservancy Limited (LuTreeCo)]   \n",
       "2                   [Lilongwe (Not entire City)]   \n",
       "\n",
       "                                         description  \\\n",
       "0                                                 {}   \n",
       "1  [Lukango Tree Conservancy Limited (LuTreeCo) i...   \n",
       "2  [This is the city of Lilongwe which we have do...   \n",
       "\n",
       "                                             polygon       siteType  \\\n",
       "0  {'type': ['MultiPolygon'], 'coordinates': [[[[...    [LANDSCAPE]   \n",
       "1  {'type': ['MultiPolygon'], 'coordinates': [[[[...  [RESTORATION]   \n",
       "2  {'type': ['MultiPolygon'], 'coordinates': [[[[...  [RESTORATION]   \n",
       "\n",
       "  siteVisibility surfaceAreaKm2 countryCode interventionStartYear      stage  \\\n",
       "0       [PUBLIC]     [104.9347]        [ZW]                [2021]  [ONGOING]   \n",
       "1       [PUBLIC]       [0.3275]        [UG]                [2017]  [ONGOING]   \n",
       "2       [PUBLIC]     [362.3797]        [MW]                [2022]  [ONGOING]   \n",
       "\n",
       "   ... landTenureUrl                                           photoIds  \\\n",
       "0  ...            {}                                                 []   \n",
       "1  ...            {}  [1bfa2bcd-6505-405d-abf7-6bbc8113fde6, dc0ff07...   \n",
       "2  ...            {}                                                 []   \n",
       "\n",
       "  customFields customLinkUrl customLinkText donateUrl analysis isFeatured  \\\n",
       "0           []            {}             {}        {}       {}    [False]   \n",
       "1           []            {}             {}        {}       {}    [False]   \n",
       "2           []            {}             {}        {}       {}    [False]   \n",
       "\n",
       "                    createdAt                   updatedAt  \n",
       "0  [2023-02-23T12:18:27.313Z]  [2023-02-23T12:18:27.313Z]  \n",
       "1  [2023-04-11T08:54:50.837Z]  [2023-04-11T14:01:54.154Z]  \n",
       "2  [2023-02-27T14:42:54.442Z]  [2023-02-27T14:48:17.999Z]  \n",
       "\n",
       "[3 rows x 29 columns]"
      ]
     },
     "execution_count": 20,
     "metadata": {},
     "output_type": "execute_result"
    }
   ],
   "source": [
    "df = pd.read_json(\"../input/Restor_Eco/restor_eco.json\")\n",
    "df.head(3)"
   ]
  },
  {
   "cell_type": "code",
   "execution_count": 21,
   "metadata": {},
   "outputs": [
    {
     "name": "stdout",
     "output_type": "stream",
     "text": [
      "<class 'pandas.core.frame.DataFrame'>\n",
      "RangeIndex: 1540 entries, 0 to 1539\n",
      "Data columns (total 29 columns):\n",
      " #   Column                     Non-Null Count  Dtype \n",
      "---  ------                     --------------  ----- \n",
      " 0   id                         1540 non-null   object\n",
      " 1   name                       1540 non-null   object\n",
      " 2   description                1540 non-null   object\n",
      " 3   polygon                    1540 non-null   object\n",
      " 4   siteType                   1540 non-null   object\n",
      " 5   siteVisibility             1540 non-null   object\n",
      " 6   surfaceAreaKm2             1540 non-null   object\n",
      " 7   countryCode                1540 non-null   object\n",
      " 8   interventionStartYear      1540 non-null   object\n",
      " 9   stage                      1540 non-null   object\n",
      " 10  preInterventionLandUse     1540 non-null   object\n",
      " 11  interventionType           1540 non-null   object\n",
      " 12  postInterventionLandCover  1540 non-null   object\n",
      " 13  siteManagement             1540 non-null   object\n",
      " 14  siteOwnership              1540 non-null   object\n",
      " 15  goals                      1540 non-null   object\n",
      " 16  supportSought              1540 non-null   object\n",
      " 17  website                    1540 non-null   object\n",
      " 18  contactEmail               1540 non-null   object\n",
      " 19  landTenureUrl              1540 non-null   object\n",
      " 20  photoIds                   1540 non-null   object\n",
      " 21  customFields               1540 non-null   object\n",
      " 22  customLinkUrl              1540 non-null   object\n",
      " 23  customLinkText             1540 non-null   object\n",
      " 24  donateUrl                  1540 non-null   object\n",
      " 25  analysis                   1540 non-null   object\n",
      " 26  isFeatured                 1540 non-null   object\n",
      " 27  createdAt                  1540 non-null   object\n",
      " 28  updatedAt                  1540 non-null   object\n",
      "dtypes: object(29)\n",
      "memory usage: 349.0+ KB\n"
     ]
    }
   ],
   "source": [
    "df.info()"
   ]
  },
  {
   "cell_type": "markdown",
   "metadata": {},
   "source": [
    "### Fix geometries"
   ]
  },
  {
   "cell_type": "code",
   "execution_count": 22,
   "metadata": {},
   "outputs": [],
   "source": [
    "df['geometry'] = df['polygon'].apply(lambda x: MultiPolygon([shape({'type': 'Polygon', 'coordinates': poly}) for poly in x['coordinates']]) if isinstance(x, dict) and 'type' in x and 'coordinates' in x else Polygon())"
   ]
  },
  {
   "cell_type": "code",
   "execution_count": 23,
   "metadata": {},
   "outputs": [],
   "source": [
    "gdf = gpd.GeoDataFrame(df, geometry = 'geometry', crs = 'EPSG:4326')\n",
    "gdf['geometry'] = gdf['geometry'].make_valid()"
   ]
  },
  {
   "cell_type": "code",
   "execution_count": 24,
   "metadata": {},
   "outputs": [],
   "source": [
    "gdf = gdf.explode(index_parts = False)"
   ]
  },
  {
   "cell_type": "code",
   "execution_count": 25,
   "metadata": {},
   "outputs": [],
   "source": [
    "gdf = gdf[(gdf.geometry.geom_type == 'Polygon') | (gdf.geometry.geom_type == 'MultiPolygon')]\n",
    "gdf = gdf.explode(index_parts = False)\n",
    "gdf = gdf.reset_index(drop = True)"
   ]
  },
  {
   "cell_type": "code",
   "execution_count": 26,
   "metadata": {},
   "outputs": [
    {
     "data": {
      "text/plain": [
       "<Axes: >"
      ]
     },
     "execution_count": 26,
     "metadata": {},
     "output_type": "execute_result"
    },
    {
     "data": {
      "image/png": "[encoded data removed]",
      "text/plain": [
       "<Figure size 640x480 with 1 Axes>"
      ]
     },
     "metadata": {},
     "output_type": "display_data"
    }
   ],
   "source": [
    "gdf.plot()"
   ]
  },
  {
   "cell_type": "markdown",
   "metadata": {},
   "source": [
    "### Harmonize nomenclature"
   ]
  },
  {
   "cell_type": "code",
   "execution_count": 27,
   "metadata": {},
   "outputs": [
    {
     "data": {
      "text/plain": [
       "count    1.741000e+03\n",
       "mean     5.587645e+02\n",
       "std      4.384503e+03\n",
       "min      1.295923e-15\n",
       "25%      7.684348e-03\n",
       "50%      2.081895e-02\n",
       "75%      4.446359e-01\n",
       "max      7.503590e+04\n",
       "Name: site_sqkm, dtype: float64"
      ]
     },
     "execution_count": 27,
     "metadata": {},
     "output_type": "execute_result"
    }
   ],
   "source": [
    "gdf['site_sqkm'] = gdf['geometry'].to_crs(3857).area / 1e6\n",
    "gdf['site_sqkm'].describe()"
   ]
  },
  {
   "cell_type": "code",
   "execution_count": 28,
   "metadata": {},
   "outputs": [],
   "source": [
    "gdf['country'] = gdf['countryCode'].apply(lambda x: x[0] if isinstance(x, list) and len(x) > 0 else '')"
   ]
  },
  {
   "cell_type": "code",
   "execution_count": 29,
   "metadata": {},
   "outputs": [],
   "source": [
    "# Renaming the columns to follow our naming format in the paper columns section\n",
    "columns_rename_mapping = {\n",
    "    'id': 'project_id_reported',\n",
    "    'description': 'project_description_reported',\n",
    "    'interventionStartYear': 'planting_date_reported',\n",
    "    'website': 'url'\n",
    "}\n",
    "gdf.rename(columns=columns_rename_mapping, inplace=True)"
   ]
  },
  {
   "cell_type": "code",
   "execution_count": 30,
   "metadata": {},
   "outputs": [],
   "source": [
    "gdf['project_description_reported'] = gdf['project_description_reported'].apply(lambda x: x[0] if isinstance(x, list) and len(x) > 0 else '')\n",
    "gdf['planting_date_reported'] = gdf['planting_date_reported'].apply(lambda x: x[0] if isinstance(x, list) and len(x) > 0 else '')\n",
    "gdf['url'] = gdf['url'].apply(lambda x: x[0] if isinstance(x, list) and len(x) > 0 else '')"
   ]
  },
  {
   "cell_type": "code",
   "execution_count": 31,
   "metadata": {},
   "outputs": [],
   "source": [
    "columns_to_keep = [\n",
    "     'project_id_reported',\n",
    "    'project_description_reported',\n",
    "     'planting_date_reported',\n",
    "     'geometry',\n",
    "     'url',\n",
    "     'site_sqkm',\n",
    "     'country'\n",
    "]\n",
    "gdf=gdf[columns_to_keep]"
   ]
  },
  {
   "cell_type": "code",
   "execution_count": 32,
   "metadata": {},
   "outputs": [
    {
     "name": "stderr",
     "output_type": "stream",
     "text": [
      "/var/folders/_l/gj90rjl90fngb4_8ph5x5jhc0000gn/T/ipykernel_43987/2687931294.py:1: FutureWarning: Downcasting behavior in `replace` is deprecated and will be removed in a future version. To retain the old behavior, explicitly call `result.infer_objects(copy=False)`. To opt-in to the future behavior, set `pd.set_option('future.no_silent_downcasting', True)`\n",
      "  gdf['planting_date_reported'] = gdf['planting_date_reported'].replace('', np.nan).astype(float)\n",
      "/Users/angela/Library/Python/3.9/lib/python/site-packages/geopandas/geodataframe.py:1819: SettingWithCopyWarning: \n",
      "A value is trying to be set on a copy of a slice from a DataFrame.\n",
      "Try using .loc[row_indexer,col_indexer] = value instead\n",
      "\n",
      "See the caveats in the documentation: https://pandas.pydata.org/pandas-docs/stable/user_guide/indexing.html#returning-a-view-versus-a-copy\n",
      "  super().__setitem__(key, value)\n"
     ]
    }
   ],
   "source": [
    "gdf['planting_date_reported'] = gdf['planting_date_reported'].replace('', np.nan).astype(float)"
   ]
  },
  {
   "cell_type": "code",
   "execution_count": 33,
   "metadata": {},
   "outputs": [
    {
     "name": "stdout",
     "output_type": "stream",
     "text": [
      "<class 'geopandas.geodataframe.GeoDataFrame'>\n",
      "RangeIndex: 1741 entries, 0 to 1740\n",
      "Data columns (total 13 columns):\n",
      " #   Column                        Non-Null Count  Dtype   \n",
      "---  ------                        --------------  -----   \n",
      " 0   project_id_reported           1741 non-null   object  \n",
      " 1   project_description_reported  1741 non-null   object  \n",
      " 2   planting_date_reported        960 non-null    float64 \n",
      " 3   geometry                      1741 non-null   geometry\n",
      " 4   url                           1741 non-null   object  \n",
      " 5   site_sqkm                     1741 non-null   float64 \n",
      " 6   country                       1741 non-null   object  \n",
      " 7   site_id_reported              1741 non-null   object  \n",
      " 8   host_name                     1741 non-null   object  \n",
      " 9   species_count_reported        0 non-null      object  \n",
      " 10  species_planted_reported      0 non-null      object  \n",
      " 11  survival_rate_reported        0 non-null      object  \n",
      " 12  trees_planted_reported        0 non-null      object  \n",
      "dtypes: float64(2), geometry(1), object(10)\n",
      "memory usage: 176.9+ KB\n"
     ]
    },
    {
     "name": "stderr",
     "output_type": "stream",
     "text": [
      "/Users/angela/Library/Python/3.9/lib/python/site-packages/geopandas/geodataframe.py:1819: SettingWithCopyWarning: \n",
      "A value is trying to be set on a copy of a slice from a DataFrame.\n",
      "Try using .loc[row_indexer,col_indexer] = value instead\n",
      "\n",
      "See the caveats in the documentation: https://pandas.pydata.org/pandas-docs/stable/user_guide/indexing.html#returning-a-view-versus-a-copy\n",
      "  super().__setitem__(key, value)\n",
      "/Users/angela/Library/Python/3.9/lib/python/site-packages/geopandas/geodataframe.py:1819: SettingWithCopyWarning: \n",
      "A value is trying to be set on a copy of a slice from a DataFrame.\n",
      "Try using .loc[row_indexer,col_indexer] = value instead\n",
      "\n",
      "See the caveats in the documentation: https://pandas.pydata.org/pandas-docs/stable/user_guide/indexing.html#returning-a-view-versus-a-copy\n",
      "  super().__setitem__(key, value)\n",
      "/Users/angela/Library/Python/3.9/lib/python/site-packages/geopandas/geodataframe.py:1819: SettingWithCopyWarning: \n",
      "A value is trying to be set on a copy of a slice from a DataFrame.\n",
      "Try using .loc[row_indexer,col_indexer] = value instead\n",
      "\n",
      "See the caveats in the documentation: https://pandas.pydata.org/pandas-docs/stable/user_guide/indexing.html#returning-a-view-versus-a-copy\n",
      "  super().__setitem__(key, value)\n"
     ]
    }
   ],
   "source": [
    "gdf['site_id_reported'] = ['restor_site_{}'.format(i) for i in range(1, len(gdf) + 1)]\n",
    "gdf ['host_name'] = 'Restor Eco'\n",
    "gdf['url'] = 'https://restor.eco/sites/' + gdf['project_id_reported'].astype(str)\n",
    "\n",
    "gdf = gdf.assign(species_count_reported=None, species_planted_reported=None, survival_rate_reported=None,trees_planted_reported=None)\n",
    "gdf.info()"
   ]
  },
  {
   "cell_type": "code",
   "execution_count": 36,
   "metadata": {},
   "outputs": [
    {
     "data": {
      "text/plain": [
       "'https://restor.eco/sites/3eec6174-21ce-4cb0-9180-82c1ccbef0bb'"
      ]
     },
     "execution_count": 36,
     "metadata": {},
     "output_type": "execute_result"
    }
   ],
   "source": [
    "gdf[\"url\"][0]"
   ]
  },
  {
   "cell_type": "markdown",
   "metadata": {},
   "source": [
    "### Save it"
   ]
  },
  {
   "cell_type": "code",
   "execution_count": 35,
   "metadata": {},
   "outputs": [],
   "source": [
    "gdf.to_file('../midsave/restor_eco.gpkg')"
   ]
  }
 ],
 "metadata": {
  "kernelspec": {
   "display_name": "Python 3 (ipykernel)",
   "language": "python",
   "name": "python3"
  },
  "language_info": {
   "codemirror_mode": {
    "name": "ipython",
    "version": 3
   },
   "file_extension": ".py",
   "mimetype": "text/x-python",
   "name": "python",
   "nbconvert_exporter": "python",
   "pygments_lexer": "ipython3",
   "version": "3.9.6"
  }
 },
 "nbformat": 4,
 "nbformat_minor": 4
}
