{
 "cells": [
  {
   "cell_type": "code",
   "execution_count": 1,
   "metadata": {},
   "outputs": [],
   "source": [
    "import pandas as pd\n",
    "import geopandas as gpd\n",
    "from shapely.geometry import shape, Polygon, MultiPolygon\n",
    "import numpy as np\n",
    "import requests\n",
    "import json\n",
    "import time\n",
    "import requests\n",
    "from requests.adapters import HTTPAdapter\n",
    "from requests.packages.urllib3.util.retry import Retry\n",
    "from helper_functions import fetch_data"
   ]
  },
  {
   "cell_type": "code",
   "execution_count": 12,
   "metadata": {},
   "outputs": [
    {
     "name": "stdout",
     "output_type": "stream",
     "text": [
      "Fetched 0 items from https://restor2-prod-1-api.restor.eco/sites/3/center-points/?bottom=79.17133464081945&left=-180&right=-135&top=85.0511&visibility=PUBLIC\n",
      "Fetched 0 items from https://restor2-prod-1-api.restor.eco/sites/3/center-points/?bottom=66.51326044311186&left=-180&right=-135&top=79.17133464081945&visibility=PUBLIC\n",
      "Fetched 8 items from https://restor2-prod-1-api.restor.eco/sites/3/center-points/?bottom=40.97989806962013&left=-180&right=-135&top=66.51326044311186&visibility=PUBLIC\n",
      "Fetched 29 items from https://restor2-prod-1-api.restor.eco/sites/3/center-points/?bottom=0&left=-180&right=-135&top=40.97989806962013&visibility=PUBLIC\n",
      "Fetched 0 items from https://restor2-prod-1-api.restor.eco/sites/3/center-points/?bottom=-40.97989806962013&left=-180&right=-135&top=0&visibility=PUBLIC\n",
      "Fetched 0 items from https://restor2-prod-1-api.restor.eco/sites/3/center-points/?bottom=-66.51326044311186&left=-180&right=-135&top=-40.97989806962013&visibility=PUBLIC\n",
      "Fetched 0 items from https://restor2-prod-1-api.restor.eco/sites/3/center-points/?bottom=-79.17133464081945&left=-180&right=-135&top=-66.51326044311186&visibility=PUBLIC\n",
      "Fetched 0 items from https://restor2-prod-1-api.restor.eco/sites/3/center-points/?bottom=-85.0511&left=-180&right=-135&top=-79.17133464081945&visibility=PUBLIC\n",
      "Fetched 0 items from https://restor2-prod-1-api.restor.eco/sites/3/center-points/?bottom=79.17133464081945&left=-135&right=-90&top=85.0511&visibility=PUBLIC\n",
      "Fetched 0 items from https://restor2-prod-1-api.restor.eco/sites/3/center-points/?bottom=66.51326044311186&left=-135&right=-90&top=79.17133464081945&visibility=PUBLIC\n",
      "Fetched 1070 items from https://restor2-prod-1-api.restor.eco/sites/3/center-points/?bottom=40.97989806962013&left=-135&right=-90&top=66.51326044311186&visibility=PUBLIC\n",
      "Fetched 3699 items from https://restor2-prod-1-api.restor.eco/sites/3/center-points/?bottom=0&left=-135&right=-90&top=40.97989806962013&visibility=PUBLIC\n",
      "Fetched 18 items from https://restor2-prod-1-api.restor.eco/sites/3/center-points/?bottom=-40.97989806962013&left=-135&right=-90&top=0&visibility=PUBLIC\n",
      "Fetched 0 items from https://restor2-prod-1-api.restor.eco/sites/3/center-points/?bottom=-66.51326044311186&left=-135&right=-90&top=-40.97989806962013&visibility=PUBLIC\n",
      "Fetched 0 items from https://restor2-prod-1-api.restor.eco/sites/3/center-points/?bottom=-79.17133464081945&left=-135&right=-90&top=-66.51326044311186&visibility=PUBLIC\n",
      "Fetched 0 items from https://restor2-prod-1-api.restor.eco/sites/3/center-points/?bottom=-85.0511&left=-135&right=-90&top=-79.17133464081945&visibility=PUBLIC\n",
      "Fetched 0 items from https://restor2-prod-1-api.restor.eco/sites/3/center-points/?bottom=79.17133464081945&left=-90&right=-45&top=85.0511&visibility=PUBLIC\n",
      "Fetched 1 items from https://restor2-prod-1-api.restor.eco/sites/3/center-points/?bottom=66.51326044311186&left=-90&right=-45&top=79.17133464081945&visibility=PUBLIC\n",
      "Fetched 3133 items from https://restor2-prod-1-api.restor.eco/sites/3/center-points/?bottom=40.97989806962013&left=-90&right=-45&top=66.51326044311186&visibility=PUBLIC\n",
      "Fetched 7106 items from https://restor2-prod-1-api.restor.eco/sites/3/center-points/?bottom=0&left=-90&right=-45&top=40.97989806962013&visibility=PUBLIC\n",
      "Fetched 8942 items from https://restor2-prod-1-api.restor.eco/sites/3/center-points/?bottom=-40.97989806962013&left=-90&right=-45&top=0&visibility=PUBLIC\n",
      "Fetched 22 items from https://restor2-prod-1-api.restor.eco/sites/3/center-points/?bottom=-66.51326044311186&left=-90&right=-45&top=-40.97989806962013&visibility=PUBLIC\n",
      "Fetched 0 items from https://restor2-prod-1-api.restor.eco/sites/3/center-points/?bottom=-79.17133464081945&left=-90&right=-45&top=-66.51326044311186&visibility=PUBLIC\n",
      "Fetched 0 items from https://restor2-prod-1-api.restor.eco/sites/3/center-points/?bottom=-85.0511&left=-90&right=-45&top=-79.17133464081945&visibility=PUBLIC\n",
      "Fetched 0 items from https://restor2-prod-1-api.restor.eco/sites/3/center-points/?bottom=79.17133464081945&left=-45&right=0&top=85.0511&visibility=PUBLIC\n",
      "Fetched 0 items from https://restor2-prod-1-api.restor.eco/sites/3/center-points/?bottom=66.51326044311186&left=-45&right=0&top=79.17133464081945&visibility=PUBLIC\n",
      "Fetched 2909 items from https://restor2-prod-1-api.restor.eco/sites/3/center-points/?bottom=40.97989806962013&left=-45&right=0&top=66.51326044311186&visibility=PUBLIC\n",
      "Fetched 2643 items from https://restor2-prod-1-api.restor.eco/sites/3/center-points/?bottom=0&left=-45&right=0&top=40.97989806962013&visibility=PUBLIC\n",
      "Fetched 1786 items from https://restor2-prod-1-api.restor.eco/sites/3/center-points/?bottom=-40.97989806962013&left=-45&right=0&top=0&visibility=PUBLIC\n",
      "Fetched 0 items from https://restor2-prod-1-api.restor.eco/sites/3/center-points/?bottom=-66.51326044311186&left=-45&right=0&top=-40.97989806962013&visibility=PUBLIC\n",
      "Fetched 0 items from https://restor2-prod-1-api.restor.eco/sites/3/center-points/?bottom=-79.17133464081945&left=-45&right=0&top=-66.51326044311186&visibility=PUBLIC\n",
      "Fetched 0 items from https://restor2-prod-1-api.restor.eco/sites/3/center-points/?bottom=-85.0511&left=-45&right=0&top=-79.17133464081945&visibility=PUBLIC\n",
      "Fetched 0 items from https://restor2-prod-1-api.restor.eco/sites/3/center-points/?bottom=79.17133464081945&left=0&right=45&top=85.0511&visibility=PUBLIC\n",
      "Fetched 3 items from https://restor2-prod-1-api.restor.eco/sites/3/center-points/?bottom=66.51326044311186&left=0&right=45&top=79.17133464081945&visibility=PUBLIC\n",
      "Fetched 10000 items from https://restor2-prod-1-api.restor.eco/sites/3/center-points/?bottom=40.97989806962013&left=0&right=45&top=66.51326044311186&visibility=PUBLIC\n",
      "Fetched 5913 items from https://restor2-prod-1-api.restor.eco/sites/3/center-points/?bottom=0&left=0&right=45&top=40.97989806962013&visibility=PUBLIC\n",
      "Fetched 2929 items from https://restor2-prod-1-api.restor.eco/sites/3/center-points/?bottom=-40.97989806962013&left=0&right=45&top=0&visibility=PUBLIC\n",
      "Fetched 0 items from https://restor2-prod-1-api.restor.eco/sites/3/center-points/?bottom=-66.51326044311186&left=0&right=45&top=-40.97989806962013&visibility=PUBLIC\n",
      "Fetched 0 items from https://restor2-prod-1-api.restor.eco/sites/3/center-points/?bottom=-79.17133464081945&left=0&right=45&top=-66.51326044311186&visibility=PUBLIC\n",
      "Fetched 0 items from https://restor2-prod-1-api.restor.eco/sites/3/center-points/?bottom=-85.0511&left=0&right=45&top=-79.17133464081945&visibility=PUBLIC\n",
      "Fetched 0 items from https://restor2-prod-1-api.restor.eco/sites/3/center-points/?bottom=79.17133464081945&left=45&right=90&top=85.0511&visibility=PUBLIC\n",
      "Fetched 0 items from https://restor2-prod-1-api.restor.eco/sites/3/center-points/?bottom=66.51326044311186&left=45&right=90&top=79.17133464081945&visibility=PUBLIC\n",
      "Fetched 64 items from https://restor2-prod-1-api.restor.eco/sites/3/center-points/?bottom=40.97989806962013&left=45&right=90&top=66.51326044311186&visibility=PUBLIC\n",
      "Fetched 2128 items from https://restor2-prod-1-api.restor.eco/sites/3/center-points/?bottom=0&left=45&right=90&top=40.97989806962013&visibility=PUBLIC\n",
      "Fetched 800 items from https://restor2-prod-1-api.restor.eco/sites/3/center-points/?bottom=-40.97989806962013&left=45&right=90&top=0&visibility=PUBLIC\n",
      "Fetched 0 items from https://restor2-prod-1-api.restor.eco/sites/3/center-points/?bottom=-66.51326044311186&left=45&right=90&top=-40.97989806962013&visibility=PUBLIC\n",
      "Fetched 0 items from https://restor2-prod-1-api.restor.eco/sites/3/center-points/?bottom=-79.17133464081945&left=45&right=90&top=-66.51326044311186&visibility=PUBLIC\n",
      "Fetched 0 items from https://restor2-prod-1-api.restor.eco/sites/3/center-points/?bottom=-85.0511&left=45&right=90&top=-79.17133464081945&visibility=PUBLIC\n",
      "Fetched 0 items from https://restor2-prod-1-api.restor.eco/sites/3/center-points/?bottom=79.17133464081945&left=90&right=135&top=85.0511&visibility=PUBLIC\n",
      "Fetched 0 items from https://restor2-prod-1-api.restor.eco/sites/3/center-points/?bottom=66.51326044311186&left=90&right=135&top=79.17133464081945&visibility=PUBLIC\n",
      "Fetched 52 items from https://restor2-prod-1-api.restor.eco/sites/3/center-points/?bottom=40.97989806962013&left=90&right=135&top=66.51326044311186&visibility=PUBLIC\n",
      "Fetched 1046 items from https://restor2-prod-1-api.restor.eco/sites/3/center-points/?bottom=0&left=90&right=135&top=40.97989806962013&visibility=PUBLIC\n",
      "Fetched 1176 items from https://restor2-prod-1-api.restor.eco/sites/3/center-points/?bottom=-40.97989806962013&left=90&right=135&top=0&visibility=PUBLIC\n",
      "Fetched 0 items from https://restor2-prod-1-api.restor.eco/sites/3/center-points/?bottom=-66.51326044311186&left=90&right=135&top=-40.97989806962013&visibility=PUBLIC\n",
      "Fetched 0 items from https://restor2-prod-1-api.restor.eco/sites/3/center-points/?bottom=-79.17133464081945&left=90&right=135&top=-66.51326044311186&visibility=PUBLIC\n",
      "Fetched 0 items from https://restor2-prod-1-api.restor.eco/sites/3/center-points/?bottom=-85.0511&left=90&right=135&top=-79.17133464081945&visibility=PUBLIC\n",
      "Fetched 0 items from https://restor2-prod-1-api.restor.eco/sites/3/center-points/?bottom=79.17133464081945&left=135&right=180&top=85.0511&visibility=PUBLIC\n",
      "Fetched 0 items from https://restor2-prod-1-api.restor.eco/sites/3/center-points/?bottom=66.51326044311186&left=135&right=180&top=79.17133464081945&visibility=PUBLIC\n",
      "Fetched 1 items from https://restor2-prod-1-api.restor.eco/sites/3/center-points/?bottom=40.97989806962013&left=135&right=180&top=66.51326044311186&visibility=PUBLIC\n",
      "Fetched 12 items from https://restor2-prod-1-api.restor.eco/sites/3/center-points/?bottom=0&left=135&right=180&top=40.97989806962013&visibility=PUBLIC\n",
      "Fetched 3973 items from https://restor2-prod-1-api.restor.eco/sites/3/center-points/?bottom=-40.97989806962013&left=135&right=180&top=0&visibility=PUBLIC\n",
      "Fetched 27 items from https://restor2-prod-1-api.restor.eco/sites/3/center-points/?bottom=-66.51326044311186&left=135&right=180&top=-40.97989806962013&visibility=PUBLIC\n",
      "Fetched 0 items from https://restor2-prod-1-api.restor.eco/sites/3/center-points/?bottom=-79.17133464081945&left=135&right=180&top=-66.51326044311186&visibility=PUBLIC\n",
      "Fetched 0 items from https://restor2-prod-1-api.restor.eco/sites/3/center-points/?bottom=-85.0511&left=135&right=180&top=-79.17133464081945&visibility=PUBLIC\n",
      "Data collection complete. Saved 59490 items to all_restor_data.json.\n"
     ]
    }
   ],
   "source": [
    "\n",
    "\n",
    "# Defining  longitude ranges (left to right) in 45-degree increments to extract the ids from the Restor website\n",
    "longitude_lefts = [-180 + i * 45 for i in range(8)]\n",
    "\n",
    "#Defining the latitude steps following the web mercator projection as the Restor website uses this projection\n",
    "latitude_steps = [\n",
    "    85.0511,  # The Maximum latitude in Web Mercator\n",
    "    79.17133464081945,\n",
    "    66.51326044311186,\n",
    "    40.97989806962013,\n",
    "    0,\n",
    "    -40.97989806962013,\n",
    "    -66.51326044311186,\n",
    "    -79.17133464081945,\n",
    "    -85.0511  # Minimum latitude in Web Mercator\n",
    "]\n",
    "\n",
    "# extracting all urls for the Restor website using the longitude and latitude stepsas per the restor website\n",
    "urls = []\n",
    "for left in longitude_lefts:\n",
    "    right = left + 45\n",
    "    for i in range(len(latitude_steps) - 1):\n",
    "        top = latitude_steps[i]\n",
    "        bottom = latitude_steps[i + 1]\n",
    "        if top > bottom:  \n",
    "            url = (\n",
    "                f\"https://restor2-prod-1-api.restor.eco/sites/3/center-points/\"\n",
    "                f\"?bottom={bottom}&left={left}&right={right}&top={top}&visibility=PUBLIC\"\n",
    "            )\n",
    "            urls.append(url)\n",
    "\n",
    "# Collect all ids from all urls in the Restor website\n",
    "all_data = []\n",
    "\n",
    "for url in urls:\n",
    "    try:\n",
    "        response = requests.get(url, headers={'User-Agent': 'Mozilla/5.0'})\n",
    "        response.raise_for_status()  \n",
    "        data = response.json()\n",
    "        if isinstance(data, list):\n",
    "            all_data.extend(data)\n",
    "            print(f\"Fetched {len(data)} items from {url}\")\n",
    "        else:\n",
    "            print(f\"Unexpected data format from {url}\")\n",
    "    except Exception as e:\n",
    "        print(f\"Error fetching {url}: {e}\")\n",
    "    time.sleep(1)  \n",
    "\n",
    "# Saving all collected ids to a json file\n",
    "with open('../input/Restor_Eco/all_restor_data.json', 'w') as f:\n",
    "    json.dump(all_data, f, indent=2)\n",
    "\n",
    "print(f\"Data collection complete. Saved {len(all_data)} items to all_restor_data.json.\")"
   ]
  },
  {
   "cell_type": "code",
   "execution_count": 16,
   "metadata": {},
   "outputs": [
    {
     "name": "stdout",
     "output_type": "stream",
     "text": [
      "Error fetching data for id 402123aa-b07c-466e-a15a-4593ef6efe71: 401 Client Error: Unauthorized for url: https://restor2-prod-1-api.restor.eco/sites/3/402123aa-b07c-466e-a15a-4593ef6efe71\n",
      "Error fetching data for id 6d0486d8-24f6-4508-981b-5bbc40b1c549: 401 Client Error: Unauthorized for url: https://restor2-prod-1-api.restor.eco/sites/3/6d0486d8-24f6-4508-981b-5bbc40b1c549\n",
      "Error fetching data for id 3b566407-c6a5-4eef-9c58-6735e4f85485: 401 Client Error: Unauthorized for url: https://restor2-prod-1-api.restor.eco/sites/3/3b566407-c6a5-4eef-9c58-6735e4f85485\n",
      "Error fetching data for id 6010d830-fc0b-4c26-8618-bd1ab6689686: 401 Client Error: Unauthorized for url: https://restor2-prod-1-api.restor.eco/sites/3/6010d830-fc0b-4c26-8618-bd1ab6689686\n",
      "                                         id  \\\n",
      "0      db1554a2-636c-42d2-bdd9-c5b6321bfdb4   \n",
      "1      aa80c579-5626-4451-aec8-30d7305bb854   \n",
      "2      f10cefc0-1ca4-4325-90fd-f4e6e3abf5f8   \n",
      "3      7ab36397-7229-410c-8312-d6104217dc52   \n",
      "4      eb4fd0e0-af8c-4357-a687-143ce8155c84   \n",
      "...                                     ...   \n",
      "59481  059f71f8-4796-4f27-b19a-58823400e5e1   \n",
      "59482  043350b5-93e8-412c-9307-ab98ab7863ea   \n",
      "59483  b01001aa-162a-492e-aa0f-89098f63cf29   \n",
      "59484  f3db73f7-737b-4561-8f53-59b2eaedfdb9   \n",
      "59485  f6ac0832-c368-434c-832a-1997f2ff0e04   \n",
      "\n",
      "                                              name  \\\n",
      "0                     AK_Stone_Steps_Lake_Preserve   \n",
      "1                     AK_Stone_Steps_Lake_Preserve   \n",
      "2                     AK_Stone_Steps_Lake_Preserve   \n",
      "3                     AK_Stone_Steps_Lake_Preserve   \n",
      "4                     AK_Stone_Steps_Lake_Preserve   \n",
      "...                                            ...   \n",
      "59481                          Emita Trome-man-ner   \n",
      "59482                              Karoolalla farm   \n",
      "59483  Lake Pedder and Huon Serpentine Impoundment   \n",
      "59484                                     Mikimiki   \n",
      "59485                                    Tiromoana   \n",
      "\n",
      "                                                 polygon  \\\n",
      "0      {'type': 'MultiPolygon', 'coordinates': [[[[-1...   \n",
      "1      {'type': 'MultiPolygon', 'coordinates': [[[[-1...   \n",
      "2      {'type': 'MultiPolygon', 'coordinates': [[[[-1...   \n",
      "3      {'type': 'MultiPolygon', 'coordinates': [[[[-1...   \n",
      "4      {'type': 'MultiPolygon', 'coordinates': [[[[-1...   \n",
      "...                                                  ...   \n",
      "59481  {'type': 'MultiPolygon', 'coordinates': [[[[14...   \n",
      "59482  {'type': 'MultiPolygon', 'coordinates': [[[[14...   \n",
      "59483  {'type': 'MultiPolygon', 'coordinates': [[[[14...   \n",
      "59484  {'type': 'MultiPolygon', 'coordinates': [[[[17...   \n",
      "59485  {'type': 'MultiPolygon', 'coordinates': [[[[17...   \n",
      "\n",
      "                                             boundingBox      siteType  \\\n",
      "0      {'top': 59.692899, 'right': -151.345746, 'bott...  CONSERVATION   \n",
      "1      {'top': 59.70012, 'right': -151.345757, 'botto...  CONSERVATION   \n",
      "2      {'top': 59.692891, 'right': -151.331469, 'bott...  CONSERVATION   \n",
      "3      {'top': 59.697412, 'right': -151.345756, 'bott...  CONSERVATION   \n",
      "4      {'top': 59.699218, 'right': -151.345757, 'bott...  CONSERVATION   \n",
      "...                                                  ...           ...   \n",
      "59481  {'top': -43.088976, 'right': 147.702649, 'bott...  CONSERVATION   \n",
      "59482  {'top': -41.25786, 'right': 147.160927, 'botto...     LANDSCAPE   \n",
      "59483  {'top': -42.625414, 'right': 146.446166, 'bott...   RESTORATION   \n",
      "59484  {'top': -43.697134, 'right': 172.731636, 'bott...   RESTORATION   \n",
      "59485  {'top': -42.031906, 'right': 171.388906, 'bott...   RESTORATION   \n",
      "\n",
      "      siteVisibility  surfaceAreaKm2 countryCode  interventionStartYear  \\\n",
      "0             PUBLIC        0.323245          US                 2002.0   \n",
      "1             PUBLIC        0.040378          US                 2000.0   \n",
      "2             PUBLIC        0.593799          US                 2006.0   \n",
      "3             PUBLIC        0.202042          US                 2000.0   \n",
      "4             PUBLIC        0.080773          US                 2000.0   \n",
      "...              ...             ...         ...                    ...   \n",
      "59481         PUBLIC        0.374917          AU                    NaN   \n",
      "59482         PUBLIC        0.076324          AU                 2021.0   \n",
      "59483         PUBLIC      718.207322          AU                    NaN   \n",
      "59484         PUBLIC        4.091054          NZ                 2020.0   \n",
      "59485         PUBLIC        0.774563          NZ                 2021.0   \n",
      "\n",
      "          stage  ...                                        description  \\\n",
      "0       ONGOING  ...                                                NaN   \n",
      "1       ONGOING  ...                                                NaN   \n",
      "2       ONGOING  ...                                                NaN   \n",
      "3       ONGOING  ...                                                NaN   \n",
      "4       ONGOING  ...                                                NaN   \n",
      "...         ...  ...                                                ...   \n",
      "59481  PLANNING  ...          This is a private land conservation area.   \n",
      "59482   ONGOING  ...                                           Farmland   \n",
      "59483  PLANNING  ...  Lake Pedder is a 10sq km alpine, glacial lake ...   \n",
      "59484   ONGOING  ...                                   Restoration site   \n",
      "59485   ONGOING  ...  Private conservation site of over 100ha near F...   \n",
      "\n",
      "          preInterventionLandUse postInterventionLandCover siteManagement  \\\n",
      "0                            NaN                       NaN            NaN   \n",
      "1                            NaN                       NaN            NaN   \n",
      "2                            NaN                       NaN            NaN   \n",
      "3                            NaN                       NaN            NaN   \n",
      "4                            NaN                       NaN            NaN   \n",
      "...                          ...                       ...            ...   \n",
      "59481             NOT_APPLICABLE                  RIPARIAN     INDIVIDUAL   \n",
      "59482               GRAZING_LAND         MULTIPLE_HABITATS     INDIVIDUAL   \n",
      "59483  DEGRADED_AQUATIC_HABITATS                  PEATLAND     GOVERNMENT   \n",
      "59484               GRAZING_LAND            NATURAL_FOREST            NaN   \n",
      "59485            DEFORESTED_LAND            NATURAL_FOREST     INDIVIDUAL   \n",
      "\n",
      "      siteOwnership                       donateUrl  \\\n",
      "0               NaN                             NaN   \n",
      "1               NaN                             NaN   \n",
      "2               NaN                             NaN   \n",
      "3               NaN                             NaN   \n",
      "4               NaN                             NaN   \n",
      "...             ...                             ...   \n",
      "59481       PRIVATE                             NaN   \n",
      "59482       PRIVATE                             NaN   \n",
      "59483    GOVERNMENT  https://lakepedder.org/donate/   \n",
      "59484           NaN                             NaN   \n",
      "59485       PRIVATE                             NaN   \n",
      "\n",
      "                             customLinkUrl          customLinkText  \\\n",
      "0                                      NaN                     NaN   \n",
      "1                                      NaN                     NaN   \n",
      "2                                      NaN                     NaN   \n",
      "3                                      NaN                     NaN   \n",
      "4                                      NaN                     NaN   \n",
      "...                                    ...                     ...   \n",
      "59481                                  NaN                     NaN   \n",
      "59482                                  NaN                     NaN   \n",
      "59483  https://lakepedder.org/getinvolved/  Donate to the Campaign   \n",
      "59484                                  NaN                     NaN   \n",
      "59485                                  NaN                     NaN   \n",
      "\n",
      "      beforeAfter landTenureUrl  \n",
      "0             NaN           NaN  \n",
      "1             NaN           NaN  \n",
      "2             NaN           NaN  \n",
      "3             NaN           NaN  \n",
      "4             NaN           NaN  \n",
      "...           ...           ...  \n",
      "59481         NaN           NaN  \n",
      "59482         NaN           NaN  \n",
      "59483         NaN           NaN  \n",
      "59484         NaN           NaN  \n",
      "59485         NaN           NaN  \n",
      "\n",
      "[59486 rows x 32 columns]\n"
     ]
    }
   ],
   "source": [
    "\n",
    "with open('../input/Restor_Eco/all_restor_data.json', 'r') as f:\n",
    "    data = json.load(f)\n",
    "\n",
    "df = pd.DataFrame(data)\n",
    "\n",
    "result_list = []\n",
    "\n",
    "for id in df['id']:\n",
    "    data = fetch_data(id)\n",
    "    if data is not None:\n",
    "        result_list.append(data)\n",
    "\n",
    "    time.sleep(1)  \n",
    "\n",
    "# Converting the list of dictionaries to DataFrame\n",
    "if result_list:\n",
    "    final_df = pd.DataFrame(result_list)\n",
    "    final_df.reset_index(drop=True, inplace=True)\n",
    "    print(final_df)\n",
    "\n",
    "    final_df.to_csv('../input/Restor_Eco/final_restor_data.csv', index=False)\n",
    "else:\n",
    "    print(\"No data was retrieved\")"
   ]
  },
  {
   "cell_type": "code",
   "execution_count": 27,
   "metadata": {},
   "outputs": [
    {
     "name": "stdout",
     "output_type": "stream",
     "text": [
      "<class 'pandas.core.frame.DataFrame'>\n",
      "Index: 37466 entries, 8 to 59485\n",
      "Data columns (total 32 columns):\n",
      " #   Column                     Non-Null Count  Dtype  \n",
      "---  ------                     --------------  -----  \n",
      " 0   id                         37466 non-null  object \n",
      " 1   name                       37466 non-null  object \n",
      " 2   polygon                    37466 non-null  object \n",
      " 3   boundingBox                37466 non-null  object \n",
      " 4   siteType                   37466 non-null  object \n",
      " 5   siteVisibility             37466 non-null  object \n",
      " 6   surfaceAreaKm2             37466 non-null  float64\n",
      " 7   countryCode                37466 non-null  object \n",
      " 8   interventionStartYear      35753 non-null  float64\n",
      " 9   stage                      37466 non-null  object \n",
      " 10  interventionType           37466 non-null  object \n",
      " 11  goals                      37466 non-null  object \n",
      " 12  supportSought              37466 non-null  object \n",
      " 13  website                    21335 non-null  object \n",
      " 14  contactEmail               19849 non-null  object \n",
      " 15  photoIds                   37466 non-null  object \n",
      " 16  customFields               37466 non-null  object \n",
      " 17  isFeatured                 37466 non-null  bool   \n",
      " 18  createdAt                  37466 non-null  object \n",
      " 19  updatedAt                  37466 non-null  object \n",
      " 20  permissions                37466 non-null  object \n",
      " 21  shares                     37466 non-null  object \n",
      " 22  description                20514 non-null  object \n",
      " 23  preInterventionLandUse     31829 non-null  object \n",
      " 24  postInterventionLandCover  30380 non-null  object \n",
      " 25  siteManagement             20344 non-null  object \n",
      " 26  siteOwnership              20341 non-null  object \n",
      " 27  donateUrl                  5304 non-null   object \n",
      " 28  customLinkUrl              736 non-null    object \n",
      " 29  customLinkText             736 non-null    object \n",
      " 30  beforeAfter                164 non-null    object \n",
      " 31  landTenureUrl              298 non-null    object \n",
      "dtypes: bool(1), float64(2), object(29)\n",
      "memory usage: 9.2+ MB\n"
     ]
    }
   ],
   "source": [
    "df = final_df[final_df[\"siteType\"] == \"RESTORATION\"]\n",
    "df.info()\n"
   ]
  },
  {
   "cell_type": "code",
   "execution_count": 28,
   "metadata": {},
   "outputs": [],
   "source": [
    "# df = pd.read_json(\"../input/Restor_Eco/restor_eco.json\")\n",
    "# df.head(3)"
   ]
  },
  {
   "cell_type": "code",
   "execution_count": 29,
   "metadata": {},
   "outputs": [
    {
     "name": "stdout",
     "output_type": "stream",
     "text": [
      "<class 'pandas.core.frame.DataFrame'>\n",
      "Index: 37466 entries, 8 to 59485\n",
      "Data columns (total 32 columns):\n",
      " #   Column                     Non-Null Count  Dtype  \n",
      "---  ------                     --------------  -----  \n",
      " 0   id                         37466 non-null  object \n",
      " 1   name                       37466 non-null  object \n",
      " 2   polygon                    37466 non-null  object \n",
      " 3   boundingBox                37466 non-null  object \n",
      " 4   siteType                   37466 non-null  object \n",
      " 5   siteVisibility             37466 non-null  object \n",
      " 6   surfaceAreaKm2             37466 non-null  float64\n",
      " 7   countryCode                37466 non-null  object \n",
      " 8   interventionStartYear      35753 non-null  float64\n",
      " 9   stage                      37466 non-null  object \n",
      " 10  interventionType           37466 non-null  object \n",
      " 11  goals                      37466 non-null  object \n",
      " 12  supportSought              37466 non-null  object \n",
      " 13  website                    21335 non-null  object \n",
      " 14  contactEmail               19849 non-null  object \n",
      " 15  photoIds                   37466 non-null  object \n",
      " 16  customFields               37466 non-null  object \n",
      " 17  isFeatured                 37466 non-null  bool   \n",
      " 18  createdAt                  37466 non-null  object \n",
      " 19  updatedAt                  37466 non-null  object \n",
      " 20  permissions                37466 non-null  object \n",
      " 21  shares                     37466 non-null  object \n",
      " 22  description                20514 non-null  object \n",
      " 23  preInterventionLandUse     31829 non-null  object \n",
      " 24  postInterventionLandCover  30380 non-null  object \n",
      " 25  siteManagement             20344 non-null  object \n",
      " 26  siteOwnership              20341 non-null  object \n",
      " 27  donateUrl                  5304 non-null   object \n",
      " 28  customLinkUrl              736 non-null    object \n",
      " 29  customLinkText             736 non-null    object \n",
      " 30  beforeAfter                164 non-null    object \n",
      " 31  landTenureUrl              298 non-null    object \n",
      "dtypes: bool(1), float64(2), object(29)\n",
      "memory usage: 9.2+ MB\n"
     ]
    }
   ],
   "source": [
    "df.info()"
   ]
  },
  {
   "cell_type": "markdown",
   "metadata": {},
   "source": [
    "### Fix geometries"
   ]
  },
  {
   "cell_type": "code",
   "execution_count": 30,
   "metadata": {},
   "outputs": [
    {
     "name": "stderr",
     "output_type": "stream",
     "text": [
      "/var/folders/_l/gj90rjl90fngb4_8ph5x5jhc0000gn/T/ipykernel_2096/1590867854.py:1: SettingWithCopyWarning: \n",
      "A value is trying to be set on a copy of a slice from a DataFrame.\n",
      "Try using .loc[row_indexer,col_indexer] = value instead\n",
      "\n",
      "See the caveats in the documentation: https://pandas.pydata.org/pandas-docs/stable/user_guide/indexing.html#returning-a-view-versus-a-copy\n",
      "  df['geometry'] = df['polygon'].apply(lambda x: MultiPolygon([shape({'type': 'Polygon', 'coordinates': poly}) for poly in x['coordinates']]) if isinstance(x, dict) and 'type' in x and 'coordinates' in x else Polygon())\n"
     ]
    }
   ],
   "source": [
    "df['geometry'] = df['polygon'].apply(lambda x: MultiPolygon([shape({'type': 'Polygon', 'coordinates': poly}) for poly in x['coordinates']]) if isinstance(x, dict) and 'type' in x and 'coordinates' in x else Polygon())"
   ]
  },
  {
   "cell_type": "code",
   "execution_count": 65,
   "metadata": {},
   "outputs": [],
   "source": [
    "gdf = gpd.GeoDataFrame(df, geometry = 'geometry', crs = 'EPSG:4326')\n",
    "gdf['geometry'] = gdf['geometry'].make_valid()"
   ]
  },
  {
   "cell_type": "code",
   "execution_count": 66,
   "metadata": {},
   "outputs": [],
   "source": [
    "gdf = gdf.explode(index_parts = False)"
   ]
  },
  {
   "cell_type": "code",
   "execution_count": 67,
   "metadata": {},
   "outputs": [],
   "source": [
    "gdf = gdf[(gdf.geometry.geom_type == 'Polygon') | (gdf.geometry.geom_type == 'MultiPolygon')]\n",
    "gdf = gdf.explode(index_parts = False)\n",
    "gdf = gdf.reset_index(drop = True)"
   ]
  },
  {
   "cell_type": "markdown",
   "metadata": {},
   "source": [
    "### Harmonize nomenclature"
   ]
  },
  {
   "cell_type": "code",
   "execution_count": 68,
   "metadata": {},
   "outputs": [
    {
     "data": {
      "text/plain": [
       "count    5.488000e+04\n",
       "mean     5.656300e+01\n",
       "std      1.730234e+03\n",
       "min      6.279266e-13\n",
       "25%      1.811333e-03\n",
       "50%      1.075112e-02\n",
       "75%      5.809420e-02\n",
       "max      2.362557e+05\n",
       "Name: site_sqkm, dtype: float64"
      ]
     },
     "execution_count": 68,
     "metadata": {},
     "output_type": "execute_result"
    }
   ],
   "source": [
    "gdf['site_sqkm'] = gdf['geometry'].to_crs(3857).area / 1e6\n",
    "gdf['site_sqkm'].describe()"
   ]
  },
  {
   "cell_type": "code",
   "execution_count": 69,
   "metadata": {},
   "outputs": [],
   "source": [
    "gdf['country'] = gdf['countryCode'].apply(lambda x: x if isinstance(x, str) else '')"
   ]
  },
  {
   "cell_type": "code",
   "execution_count": 70,
   "metadata": {},
   "outputs": [
    {
     "name": "stdout",
     "output_type": "stream",
     "text": [
      "<class 'geopandas.geodataframe.GeoDataFrame'>\n",
      "RangeIndex: 54880 entries, 0 to 54879\n",
      "Data columns (total 35 columns):\n",
      " #   Column                     Non-Null Count  Dtype   \n",
      "---  ------                     --------------  -----   \n",
      " 0   id                         54880 non-null  object  \n",
      " 1   name                       54880 non-null  object  \n",
      " 2   polygon                    54880 non-null  object  \n",
      " 3   boundingBox                54880 non-null  object  \n",
      " 4   siteType                   54880 non-null  object  \n",
      " 5   siteVisibility             54880 non-null  object  \n",
      " 6   surfaceAreaKm2             54880 non-null  float64 \n",
      " 7   countryCode                54880 non-null  object  \n",
      " 8   interventionStartYear      53032 non-null  float64 \n",
      " 9   stage                      54880 non-null  object  \n",
      " 10  interventionType           54880 non-null  object  \n",
      " 11  goals                      54880 non-null  object  \n",
      " 12  supportSought              54880 non-null  object  \n",
      " 13  website                    32657 non-null  object  \n",
      " 14  contactEmail               31071 non-null  object  \n",
      " 15  photoIds                   54880 non-null  object  \n",
      " 16  customFields               54880 non-null  object  \n",
      " 17  isFeatured                 54880 non-null  bool    \n",
      " 18  createdAt                  54880 non-null  object  \n",
      " 19  updatedAt                  54880 non-null  object  \n",
      " 20  permissions                54880 non-null  object  \n",
      " 21  shares                     54880 non-null  object  \n",
      " 22  description                34284 non-null  object  \n",
      " 23  preInterventionLandUse     47070 non-null  object  \n",
      " 24  postInterventionLandCover  45477 non-null  object  \n",
      " 25  siteManagement             34731 non-null  object  \n",
      " 26  siteOwnership              34830 non-null  object  \n",
      " 27  donateUrl                  6355 non-null   object  \n",
      " 28  customLinkUrl              1438 non-null   object  \n",
      " 29  customLinkText             1438 non-null   object  \n",
      " 30  beforeAfter                174 non-null    object  \n",
      " 31  landTenureUrl              348 non-null    object  \n",
      " 32  geometry                   54880 non-null  geometry\n",
      " 33  site_sqkm                  54880 non-null  float64 \n",
      " 34  country                    54880 non-null  object  \n",
      "dtypes: bool(1), float64(3), geometry(1), object(30)\n",
      "memory usage: 14.3+ MB\n"
     ]
    }
   ],
   "source": [
    "gdf.info()"
   ]
  },
  {
   "cell_type": "code",
   "execution_count": 71,
   "metadata": {},
   "outputs": [],
   "source": [
    "# Renaming the columns to follow our naming format in the paper columns section\n",
    "columns_rename_mapping = {\n",
    "    'id': 'project_id_reported',\n",
    "    'description': 'project_description_reported',\n",
    "    'interventionStartYear': 'planting_date_reported',\n",
    "    'website': 'url'\n",
    "}\n",
    "gdf.rename(columns=columns_rename_mapping, inplace=True)"
   ]
  },
  {
   "cell_type": "code",
   "execution_count": 75,
   "metadata": {},
   "outputs": [
    {
     "data": {
      "text/plain": [
       "0        2022.0\n",
       "1        2020.0\n",
       "2        2022.0\n",
       "3        2016.0\n",
       "4        2021.0\n",
       "          ...  \n",
       "54875    2015.0\n",
       "54876    2022.0\n",
       "54877       NaN\n",
       "54878    2020.0\n",
       "54879    2021.0\n",
       "Name: planting_date_reported, Length: 54880, dtype: float64"
      ]
     },
     "execution_count": 75,
     "metadata": {},
     "output_type": "execute_result"
    }
   ],
   "source": [
    "gdf[\"planting_date_reported\"]"
   ]
  },
  {
   "cell_type": "code",
   "execution_count": 73,
   "metadata": {},
   "outputs": [],
   "source": [
    "gdf['project_description_reported'] = gdf['project_description_reported'].apply(lambda x: x[0] if isinstance(x, list) and len(x) > 0 else x)\n",
    "gdf['planting_date_reported'] = gdf['planting_date_reported'].apply(lambda x: x[0] if isinstance(x, list) and len(x) > 0 else x)\n",
    "gdf['url'] = gdf['url'].apply(lambda x: x[0] if isinstance(x, list) and len(x) > 0 else x)"
   ]
  },
  {
   "cell_type": "code",
   "execution_count": 76,
   "metadata": {},
   "outputs": [],
   "source": [
    "columns_to_keep = [\n",
    "     'project_id_reported',\n",
    "    'project_description_reported',\n",
    "     'planting_date_reported',\n",
    "     'geometry',\n",
    "     'url',\n",
    "     'site_sqkm',\n",
    "     'country'\n",
    "]\n",
    "gdf=gdf[columns_to_keep]"
   ]
  },
  {
   "cell_type": "code",
   "execution_count": 81,
   "metadata": {},
   "outputs": [],
   "source": [
    "gdf['planting_date_reported'] = gdf['planting_date_reported'].replace('', np.nan).astype(float)\n",
    "gdf['planting_date_reported'] = gdf['planting_date_reported'].astype(object)"
   ]
  },
  {
   "cell_type": "code",
   "execution_count": 82,
   "metadata": {},
   "outputs": [
    {
     "name": "stdout",
     "output_type": "stream",
     "text": [
      "<class 'geopandas.geodataframe.GeoDataFrame'>\n",
      "RangeIndex: 54880 entries, 0 to 54879\n",
      "Data columns (total 13 columns):\n",
      " #   Column                        Non-Null Count  Dtype   \n",
      "---  ------                        --------------  -----   \n",
      " 0   project_id_reported           54880 non-null  object  \n",
      " 1   project_description_reported  34284 non-null  object  \n",
      " 2   planting_date_reported        53032 non-null  object  \n",
      " 3   geometry                      54880 non-null  geometry\n",
      " 4   url                           54880 non-null  object  \n",
      " 5   site_sqkm                     54880 non-null  float64 \n",
      " 6   country                       54880 non-null  object  \n",
      " 7   site_id_reported              54880 non-null  object  \n",
      " 8   host_name                     54880 non-null  object  \n",
      " 9   species_count_reported        0 non-null      object  \n",
      " 10  species_planted_reported      0 non-null      object  \n",
      " 11  survival_rate_reported        0 non-null      object  \n",
      " 12  trees_planted_reported        0 non-null      object  \n",
      "dtypes: float64(1), geometry(1), object(11)\n",
      "memory usage: 5.4+ MB\n"
     ]
    }
   ],
   "source": [
    "gdf['site_id_reported'] = ['restor_site_{}'.format(i) for i in range(1, len(gdf) + 1)]\n",
    "gdf ['host_name'] = 'Restor Eco'\n",
    "gdf['url'] = 'https://restor.eco/sites/' + gdf['project_id_reported'].astype(str)\n",
    "\n",
    "gdf = gdf.assign(species_count_reported=None, species_planted_reported=None, survival_rate_reported=None,trees_planted_reported=None)\n",
    "gdf.info()"
   ]
  },
  {
   "cell_type": "markdown",
   "metadata": {},
   "source": [
    "### Save it"
   ]
  },
  {
   "cell_type": "code",
   "execution_count": 89,
   "metadata": {},
   "outputs": [],
   "source": [
    "gdf.to_file('../midsave/restor_eco.gpkg')"
   ]
  }
 ],
 "metadata": {
  "kernelspec": {
   "display_name": "Python 3 (ipykernel)",
   "language": "python",
   "name": "python3"
  },
  "language_info": {
   "codemirror_mode": {
    "name": "ipython",
    "version": 3
   },
   "file_extension": ".py",
   "mimetype": "text/x-python",
   "name": "python",
   "nbconvert_exporter": "python",
   "pygments_lexer": "ipython3",
   "version": "3.11.8"
  }
 },
 "nbformat": 4,
 "nbformat_minor": 4
}
