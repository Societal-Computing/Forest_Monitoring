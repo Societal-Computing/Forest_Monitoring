{
 "cells": [
  {
   "cell_type": "markdown",
   "metadata": {},
   "source": [
    "# Climate Action Reserve\n",
    "https://www.climateactionreserve.org"
   ]
  },
  {
   "cell_type": "code",
   "execution_count": 27,
   "metadata": {},
   "outputs": [],
   "source": [
    "import json\n",
    "import requests\n",
    "import pandas as pd\n",
    "import geopandas as gpd\n",
    "from shapely.geometry import Point\n",
    "from shapely.ops import transform\n",
    "from tqdm import tqdm\n",
    "import time\n",
    "import os\n",
    "from random import uniform"
   ]
  },
  {
   "cell_type": "markdown",
   "metadata": {},
   "source": [
    "### Load data"
   ]
  },
  {
   "cell_type": "code",
   "execution_count": 28,
   "metadata": {},
   "outputs": [
    {
     "data": {
      "text/html": [
       "<div>\n",
       "<style scoped>\n",
       "    .dataframe tbody tr th:only-of-type {\n",
       "        vertical-align: middle;\n",
       "    }\n",
       "\n",
       "    .dataframe tbody tr th {\n",
       "        vertical-align: top;\n",
       "    }\n",
       "\n",
       "    .dataframe thead th {\n",
       "        text-align: right;\n",
       "    }\n",
       "</style>\n",
       "<table border=\"1\" class=\"dataframe\">\n",
       "  <thead>\n",
       "    <tr style=\"text-align: right;\">\n",
       "      <th></th>\n",
       "      <th>Project ID</th>\n",
       "      <th>ARB ID</th>\n",
       "      <th>Cooperative/ Aggregate ID</th>\n",
       "      <th>Project Developer</th>\n",
       "      <th>Project Owner</th>\n",
       "      <th>Project Name</th>\n",
       "      <th>Offset Project Operator</th>\n",
       "      <th>Authorized Project Designee</th>\n",
       "      <th>Verification Body</th>\n",
       "      <th>Project Type</th>\n",
       "      <th>...</th>\n",
       "      <th>Additional Certification(s)</th>\n",
       "      <th>SDG Impact</th>\n",
       "      <th>Project Notes</th>\n",
       "      <th>Total Number of Offset Credits Registered</th>\n",
       "      <th>Project Listed Date</th>\n",
       "      <th>Project Registered Date</th>\n",
       "      <th>Documents</th>\n",
       "      <th>Data</th>\n",
       "      <th>Project Website</th>\n",
       "      <th>Unnamed: 25</th>\n",
       "    </tr>\n",
       "  </thead>\n",
       "  <tbody>\n",
       "    <tr>\n",
       "      <th>0</th>\n",
       "      <td>CAR1957</td>\n",
       "      <td>CAFR6957</td>\n",
       "      <td>NaN</td>\n",
       "      <td>Sierra Pacific Industries</td>\n",
       "      <td>Sierra Pacific Industries</td>\n",
       "      <td>2021 Fire Refo</td>\n",
       "      <td>Sierra Pacific Industries</td>\n",
       "      <td>NaN</td>\n",
       "      <td>NaN</td>\n",
       "      <td>Reforestation - ARB Compliance</td>\n",
       "      <td>...</td>\n",
       "      <td>NaN</td>\n",
       "      <td>NaN</td>\n",
       "      <td>NaN</td>\n",
       "      <td>NaN</td>\n",
       "      <td>04/05/2024</td>\n",
       "      <td>NaN</td>\n",
       "      <td>View</td>\n",
       "      <td>View</td>\n",
       "      <td>NaN</td>\n",
       "      <td>NaN</td>\n",
       "    </tr>\n",
       "  </tbody>\n",
       "</table>\n",
       "<p>1 rows × 26 columns</p>\n",
       "</div>"
      ],
      "text/plain": [
       "  Project ID    ARB ID Cooperative/ Aggregate ID          Project Developer  \\\n",
       "0    CAR1957  CAFR6957                       NaN  Sierra Pacific Industries   \n",
       "\n",
       "               Project Owner    Project Name    Offset Project Operator  \\\n",
       "0  Sierra Pacific Industries  2021 Fire Refo  Sierra Pacific Industries   \n",
       "\n",
       "  Authorized Project Designee Verification Body  \\\n",
       "0                         NaN               NaN   \n",
       "\n",
       "                     Project Type  ... Additional Certification(s) SDG Impact  \\\n",
       "0  Reforestation - ARB Compliance  ...                         NaN        NaN   \n",
       "\n",
       "  Project Notes Total Number of Offset Credits Registered   \\\n",
       "0           NaN                                        NaN   \n",
       "\n",
       "  Project Listed Date Project Registered Date  Documents  Data  \\\n",
       "0          04/05/2024                     NaN       View  View   \n",
       "\n",
       "  Project Website  Unnamed: 25  \n",
       "0             NaN          NaN  \n",
       "\n",
       "[1 rows x 26 columns]"
      ]
     },
     "execution_count": 28,
     "metadata": {},
     "output_type": "execute_result"
    }
   ],
   "source": [
    "df = pd.read_csv(\"../input/CAR/car_export_02_28_2025.csv\", encoding=\"ISO-8859-1\")\n",
    "df.head(1)"
   ]
  },
  {
   "cell_type": "code",
   "execution_count": 29,
   "metadata": {},
   "outputs": [],
   "source": [
    "df['project_id'] = df['Project ID'].str.extract(r'CAR(\\d+)')"
   ]
  },
  {
   "cell_type": "code",
   "execution_count": 30,
   "metadata": {},
   "outputs": [],
   "source": [
    "df = (df.loc[(df['Project Type'] == 'Reforestation - ARB Compliance') | \n",
    "              (df['Project Type'] == 'Reforestation')].copy())"
   ]
  },
  {
   "cell_type": "code",
   "execution_count": 31,
   "metadata": {},
   "outputs": [
    {
     "data": {
      "text/plain": [
       "array(['1957', '1783', '1954', '1491', '1490', '1487', '1953', '1163',\n",
       "       '1164', '1040', '1042', '1165', '1166', '1167', '1044', '1168',\n",
       "       '505'], dtype=object)"
      ]
     },
     "execution_count": 31,
     "metadata": {},
     "output_type": "execute_result"
    }
   ],
   "source": [
    "df.project_id.unique()"
   ]
  },
  {
   "cell_type": "markdown",
   "metadata": {},
   "source": [
    "Check and, if applicable, retrieve shapefiles from project websites"
   ]
  },
  {
   "cell_type": "code",
   "execution_count": 32,
   "metadata": {},
   "outputs": [
    {
     "name": "stderr",
     "output_type": "stream",
     "text": [
      "  0%|          | 0/17 [00:00<?, ?it/s]/Library/Frameworks/Python.framework/Versions/3.11/lib/python3.11/site-packages/geopandas/geoseries.py:645: FutureWarning: the convert_dtype parameter is deprecated and will be removed in a future version.  Do ``ser.astype(object).apply()`` instead if you want ``convert_dtype=False``.\n",
      "  result = super().apply(func, convert_dtype=convert_dtype, args=args, **kwargs)\n",
      "/Library/Frameworks/Python.framework/Versions/3.11/lib/python3.11/site-packages/geopandas/geoseries.py:645: FutureWarning: the convert_dtype parameter is deprecated and will be removed in a future version.  Do ``ser.astype(object).apply()`` instead if you want ``convert_dtype=False``.\n",
      "  result = super().apply(func, convert_dtype=convert_dtype, args=args, **kwargs)\n",
      "/Library/Frameworks/Python.framework/Versions/3.11/lib/python3.11/site-packages/geopandas/geoseries.py:645: FutureWarning: the convert_dtype parameter is deprecated and will be removed in a future version.  Do ``ser.astype(object).apply()`` instead if you want ``convert_dtype=False``.\n",
      "  result = super().apply(func, convert_dtype=convert_dtype, args=args, **kwargs)\n",
      "/Library/Frameworks/Python.framework/Versions/3.11/lib/python3.11/site-packages/geopandas/geoseries.py:645: FutureWarning: the convert_dtype parameter is deprecated and will be removed in a future version.  Do ``ser.astype(object).apply()`` instead if you want ``convert_dtype=False``.\n",
      "  result = super().apply(func, convert_dtype=convert_dtype, args=args, **kwargs)\n",
      " 24%|██▎       | 4/17 [00:00<00:00, 38.36it/s]/Library/Frameworks/Python.framework/Versions/3.11/lib/python3.11/site-packages/geopandas/geoseries.py:645: FutureWarning: the convert_dtype parameter is deprecated and will be removed in a future version.  Do ``ser.astype(object).apply()`` instead if you want ``convert_dtype=False``.\n",
      "  result = super().apply(func, convert_dtype=convert_dtype, args=args, **kwargs)\n",
      "/Library/Frameworks/Python.framework/Versions/3.11/lib/python3.11/site-packages/geopandas/geoseries.py:645: FutureWarning: the convert_dtype parameter is deprecated and will be removed in a future version.  Do ``ser.astype(object).apply()`` instead if you want ``convert_dtype=False``.\n",
      "  result = super().apply(func, convert_dtype=convert_dtype, args=args, **kwargs)\n",
      "/Library/Frameworks/Python.framework/Versions/3.11/lib/python3.11/site-packages/geopandas/geoseries.py:645: FutureWarning: the convert_dtype parameter is deprecated and will be removed in a future version.  Do ``ser.astype(object).apply()`` instead if you want ``convert_dtype=False``.\n",
      "  result = super().apply(func, convert_dtype=convert_dtype, args=args, **kwargs)\n",
      "/var/folders/_l/gj90rjl90fngb4_8ph5x5jhc0000gn/T/ipykernel_63814/1891084679.py:46: FutureWarning: The behavior of DataFrame concatenation with empty or all-NA entries is deprecated. In a future version, this will no longer exclude empty or all-NA columns when determining the result dtypes. To retain the old behavior, exclude the relevant entries before the concat operation.\n",
      "  gdf = pd.concat([gdf, temp], ignore_index= True)\n",
      " 47%|████▋     | 8/17 [00:00<00:00, 30.83it/s]/var/folders/_l/gj90rjl90fngb4_8ph5x5jhc0000gn/T/ipykernel_63814/1891084679.py:46: FutureWarning: The behavior of DataFrame concatenation with empty or all-NA entries is deprecated. In a future version, this will no longer exclude empty or all-NA columns when determining the result dtypes. To retain the old behavior, exclude the relevant entries before the concat operation.\n",
      "  gdf = pd.concat([gdf, temp], ignore_index= True)\n",
      "/var/folders/_l/gj90rjl90fngb4_8ph5x5jhc0000gn/T/ipykernel_63814/1891084679.py:46: FutureWarning: The behavior of DataFrame concatenation with empty or all-NA entries is deprecated. In a future version, this will no longer exclude empty or all-NA columns when determining the result dtypes. To retain the old behavior, exclude the relevant entries before the concat operation.\n",
      "  gdf = pd.concat([gdf, temp], ignore_index= True)\n",
      "/var/folders/_l/gj90rjl90fngb4_8ph5x5jhc0000gn/T/ipykernel_63814/1891084679.py:46: FutureWarning: The behavior of DataFrame concatenation with empty or all-NA entries is deprecated. In a future version, this will no longer exclude empty or all-NA columns when determining the result dtypes. To retain the old behavior, exclude the relevant entries before the concat operation.\n",
      "  gdf = pd.concat([gdf, temp], ignore_index= True)\n",
      "/Library/Frameworks/Python.framework/Versions/3.11/lib/python3.11/site-packages/geopandas/geoseries.py:645: FutureWarning: the convert_dtype parameter is deprecated and will be removed in a future version.  Do ``ser.astype(object).apply()`` instead if you want ``convert_dtype=False``.\n",
      "  result = super().apply(func, convert_dtype=convert_dtype, args=args, **kwargs)\n",
      "/var/folders/_l/gj90rjl90fngb4_8ph5x5jhc0000gn/T/ipykernel_63814/1891084679.py:46: FutureWarning: The behavior of DataFrame concatenation with empty or all-NA entries is deprecated. In a future version, this will no longer exclude empty or all-NA columns when determining the result dtypes. To retain the old behavior, exclude the relevant entries before the concat operation.\n",
      "  gdf = pd.concat([gdf, temp], ignore_index= True)\n",
      "/var/folders/_l/gj90rjl90fngb4_8ph5x5jhc0000gn/T/ipykernel_63814/1891084679.py:46: FutureWarning: The behavior of DataFrame concatenation with empty or all-NA entries is deprecated. In a future version, this will no longer exclude empty or all-NA columns when determining the result dtypes. To retain the old behavior, exclude the relevant entries before the concat operation.\n",
      "  gdf = pd.concat([gdf, temp], ignore_index= True)\n",
      "/var/folders/_l/gj90rjl90fngb4_8ph5x5jhc0000gn/T/ipykernel_63814/1891084679.py:46: FutureWarning: The behavior of DataFrame concatenation with empty or all-NA entries is deprecated. In a future version, this will no longer exclude empty or all-NA columns when determining the result dtypes. To retain the old behavior, exclude the relevant entries before the concat operation.\n",
      "  gdf = pd.concat([gdf, temp], ignore_index= True)\n",
      "/var/folders/_l/gj90rjl90fngb4_8ph5x5jhc0000gn/T/ipykernel_63814/1891084679.py:46: FutureWarning: The behavior of DataFrame concatenation with empty or all-NA entries is deprecated. In a future version, this will no longer exclude empty or all-NA columns when determining the result dtypes. To retain the old behavior, exclude the relevant entries before the concat operation.\n",
      "  gdf = pd.concat([gdf, temp], ignore_index= True)\n",
      "/var/folders/_l/gj90rjl90fngb4_8ph5x5jhc0000gn/T/ipykernel_63814/1891084679.py:46: FutureWarning: The behavior of DataFrame concatenation with empty or all-NA entries is deprecated. In a future version, this will no longer exclude empty or all-NA columns when determining the result dtypes. To retain the old behavior, exclude the relevant entries before the concat operation.\n",
      "  gdf = pd.concat([gdf, temp], ignore_index= True)\n",
      "100%|██████████| 17/17 [00:00<00:00, 61.69it/s]\n"
     ]
    }
   ],
   "source": [
    "gdf = gpd.GeoDataFrame()\n",
    "\n",
    "for project_id in tqdm(df['project_id'].unique().tolist()):\n",
    "\n",
    "    shp_dir = f\"../input/CAR/{project_id}/project_area.shp\"\n",
    "    \n",
    "    if os.path.exists(shp_dir):\n",
    "        temp = gpd.read_file(shp_dir)\n",
    "      \n",
    "    \n",
    "        temp['geometry'] = temp['geometry'].apply(lambda geometry: transform(lambda x, y, z=None: (x, y), geometry))\n",
    "\n",
    "        while 'MultiPolygon' in temp.geometry.geom_type.unique().tolist():\n",
    "            temp = temp.explode(index_parts=False)\n",
    "            temp['geometry'] = temp['geometry'].make_valid()\n",
    "\n",
    "        temp = temp.loc[temp.geometry.geom_type.isin(['Polygon', 'Point'])].copy()\n",
    "        \n",
    "        temp = temp.to_crs(4326)\n",
    "        \n",
    "        invalid_geom = False\n",
    "        if len(temp[temp.geometry.is_valid == False]) > 0:\n",
    "            invalid_geom = True\n",
    "\n",
    "        temp['project_id'] = project_id\n",
    "        temp['site_sqkm'] = temp.to_crs(3857).area/1e6\n",
    "        temp['project_geometries_invalid'] = invalid_geom\n",
    "    \n",
    "        temp = df.merge(temp, on = 'project_id', how = 'inner')\n",
    "        temp = temp[['Project ID', 'Project Listed Date', 'geometry', 'site_sqkm', 'project_geometries_invalid']]\n",
    "    \n",
    "    else:\n",
    "        temp = (df\n",
    "                .loc[df.project_id == project_id, ['Project ID', 'Project Listed Date']]\n",
    "                .assign(geometry=None, site_sqkm=None, project_geometries_invalid=None))\n",
    "    \n",
    "    temp['url'] = 'https://thereserve2.apx.com/mymodule/reg/TabDocuments.asp?r=111&ad=Prpt&act=update&type=PRO&aProj=pub&tablename=doc&id1='+project_id\n",
    "\n",
    "    temp['project_pdf_available'] = False\n",
    "\n",
    "    pd_dir = f\"../midsave/project_descriptions/pd_car_{project_id}.pdf\"\n",
    "    if os.path.exists(pd_dir):\n",
    "        temp['project_pdf_available'] = True\n",
    "\n",
    "    \n",
    "    gdf = pd.concat([gdf, temp], ignore_index= True)"
   ]
  },
  {
   "cell_type": "code",
   "execution_count": 33,
   "metadata": {},
   "outputs": [],
   "source": [
    "gdf = gpd.GeoDataFrame(gdf, geometry = 'geometry', crs = 'EPSG:4326')"
   ]
  },
  {
   "cell_type": "code",
   "execution_count": 34,
   "metadata": {},
   "outputs": [],
   "source": [
    "gdf.reset_index(names = ['site_id_created'], inplace = True)"
   ]
  },
  {
   "cell_type": "code",
   "execution_count": 35,
   "metadata": {},
   "outputs": [],
   "source": [
    "gdf.rename(columns = {'Project ID':'project_id_reported','Project Listed Date':'planting_date_reported'}, inplace = True)"
   ]
  },
  {
   "cell_type": "code",
   "execution_count": 36,
   "metadata": {},
   "outputs": [],
   "source": [
    "gdf = gdf.assign(species_count_reported=None,\n",
    "              species_planted_reported=None,\n",
    "              survival_rate_reported=None,\n",
    "              trees_planted_reported=None)"
   ]
  },
  {
   "cell_type": "code",
   "execution_count": 47,
   "metadata": {},
   "outputs": [
    {
     "name": "stdout",
     "output_type": "stream",
     "text": [
      "<class 'geopandas.geodataframe.GeoDataFrame'>\n",
      "RangeIndex: 513 entries, 0 to 512\n",
      "Data columns (total 14 columns):\n",
      " #   Column                      Non-Null Count  Dtype   \n",
      "---  ------                      --------------  -----   \n",
      " 0   site_id_created             513 non-null    int64   \n",
      " 1   project_id_reported         513 non-null    object  \n",
      " 2   planting_date_reported      513 non-null    object  \n",
      " 3   geometry                    504 non-null    geometry\n",
      " 4   site_sqkm                   504 non-null    float64 \n",
      " 5   project_geometries_invalid  504 non-null    object  \n",
      " 6   url                         513 non-null    object  \n",
      " 7   project_pdf_available       513 non-null    bool    \n",
      " 8   species_count_reported      0 non-null      object  \n",
      " 9   species_planted_reported    0 non-null      object  \n",
      " 10  survival_rate_reported      0 non-null      object  \n",
      " 11  trees_planted_reported      0 non-null      object  \n",
      " 12  host_name                   513 non-null    object  \n",
      " 13  planting_date_type          513 non-null    object  \n",
      "dtypes: bool(1), float64(1), geometry(1), int64(1), object(10)\n",
      "memory usage: 52.7+ KB\n"
     ]
    }
   ],
   "source": [
    "gdf.info()"
   ]
  },
  {
   "cell_type": "code",
   "execution_count": 46,
   "metadata": {},
   "outputs": [],
   "source": [
    "gdf['host_name'] = 'Climate Action Reserve'\n",
    "gdf[\"planting_date_type\"]=\"Project Listed Date\"\n"
   ]
  },
  {
   "cell_type": "code",
   "execution_count": null,
   "metadata": {},
   "outputs": [],
   "source": []
  },
  {
   "cell_type": "markdown",
   "metadata": {},
   "source": [
    "### Save it"
   ]
  },
  {
   "cell_type": "code",
   "execution_count": 40,
   "metadata": {},
   "outputs": [],
   "source": [
    "gdf.to_file('../midsave/climate_action_reserve.gpkg', driver='GPKG')"
   ]
  }
 ],
 "metadata": {
  "kernelspec": {
   "display_name": "Python 3 (ipykernel)",
   "language": "python",
   "name": "python3"
  },
  "language_info": {
   "codemirror_mode": {
    "name": "ipython",
    "version": 3
   },
   "file_extension": ".py",
   "mimetype": "text/x-python",
   "name": "python",
   "nbconvert_exporter": "python",
   "pygments_lexer": "ipython3",
   "version": "3.11.8"
  }
 },
 "nbformat": 4,
 "nbformat_minor": 4
}
