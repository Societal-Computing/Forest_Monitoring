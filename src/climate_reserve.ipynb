{
 "cells": [
  {
   "cell_type": "markdown",
   "metadata": {},
   "source": [
    "# Climate Action Reserve\n",
    "https://www.climateactionreserve.org"
   ]
  },
  {
   "cell_type": "code",
   "execution_count": 5,
   "metadata": {},
   "outputs": [],
   "source": [
    "import json\n",
    "import pandas as pd\n",
    "import geopandas as gpd\n",
    "from shapely.geometry import Point"
   ]
  },
  {
   "cell_type": "markdown",
   "metadata": {},
   "source": [
    "### Load data"
   ]
  },
  {
   "cell_type": "code",
   "execution_count": 6,
   "metadata": {},
   "outputs": [
    {
     "data": {
      "text/html": [
       "<div>\n",
       "<style scoped>\n",
       "    .dataframe tbody tr th:only-of-type {\n",
       "        vertical-align: middle;\n",
       "    }\n",
       "\n",
       "    .dataframe tbody tr th {\n",
       "        vertical-align: top;\n",
       "    }\n",
       "\n",
       "    .dataframe thead th {\n",
       "        text-align: right;\n",
       "    }\n",
       "</style>\n",
       "<table border=\"1\" class=\"dataframe\">\n",
       "  <thead>\n",
       "    <tr style=\"text-align: right;\">\n",
       "      <th></th>\n",
       "      <th>site_id_created</th>\n",
       "      <th>project_id_reported</th>\n",
       "      <th>site_id_reported</th>\n",
       "      <th>site_description_reported</th>\n",
       "      <th>site_sqkm</th>\n",
       "      <th>trees_planted_reported</th>\n",
       "      <th>country</th>\n",
       "      <th>project_description_reported</th>\n",
       "      <th>planting_date_reported</th>\n",
       "      <th>survival_rate_reported</th>\n",
       "      <th>host_name</th>\n",
       "      <th>url</th>\n",
       "      <th>species_count_reported</th>\n",
       "      <th>species_planted_reported</th>\n",
       "      <th>geometry</th>\n",
       "      <th>Creator</th>\n",
       "      <th>project_id_created</th>\n",
       "    </tr>\n",
       "  </thead>\n",
       "  <tbody>\n",
       "    <tr>\n",
       "      <th>0</th>\n",
       "      <td>NaN</td>\n",
       "      <td>CAR1957</td>\n",
       "      <td>NaN</td>\n",
       "      <td>NaN</td>\n",
       "      <td>NaN</td>\n",
       "      <td>NaN</td>\n",
       "      <td>US</td>\n",
       "      <td>The project consists of areas that were signif...</td>\n",
       "      <td>2/8/2023</td>\n",
       "      <td>NaN</td>\n",
       "      <td>Sierra Pacific Industries</td>\n",
       "      <td>NaN</td>\n",
       "      <td>NaN</td>\n",
       "      <td>NaN</td>\n",
       "      <td>NaN</td>\n",
       "      <td>NaN</td>\n",
       "      <td>NaN</td>\n",
       "    </tr>\n",
       "  </tbody>\n",
       "</table>\n",
       "</div>"
      ],
      "text/plain": [
       "   site_id_created project_id_reported  site_id_reported  \\\n",
       "0              NaN             CAR1957               NaN   \n",
       "\n",
       "   site_description_reported  site_sqkm  trees_planted_reported country  \\\n",
       "0                        NaN        NaN                     NaN      US   \n",
       "\n",
       "                        project_description_reported planting_date_reported  \\\n",
       "0  The project consists of areas that were signif...               2/8/2023   \n",
       "\n",
       "   survival_rate_reported                  host_name  url  \\\n",
       "0                     NaN  Sierra Pacific Industries  NaN   \n",
       "\n",
       "   species_count_reported  species_planted_reported  geometry Creator  \\\n",
       "0                     NaN                       NaN       NaN     NaN   \n",
       "\n",
       "   project_id_created  \n",
       "0                 NaN  "
      ]
     },
     "execution_count": 6,
     "metadata": {},
     "output_type": "execute_result"
    }
   ],
   "source": [
    "df = pd.read_csv(\"../input/Climate_Action_Reserve/homogenised_dataset_CAR.csv\")\n",
    "df.head(1)"
   ]
  },
  {
   "cell_type": "code",
   "execution_count": 7,
   "metadata": {},
   "outputs": [],
   "source": [
    "df[\"planting_date_type\"]=\"Crediting Period Start Date\""
   ]
  },
  {
   "cell_type": "markdown",
   "metadata": {},
   "source": [
    "### Save it"
   ]
  },
  {
   "cell_type": "code",
   "execution_count": 9,
   "metadata": {},
   "outputs": [
    {
     "name": "stdout",
     "output_type": "stream",
     "text": [
      "<class 'geopandas.geodataframe.GeoDataFrame'>\n",
      "RangeIndex: 333 entries, 0 to 332\n",
      "Data columns (total 18 columns):\n",
      " #   Column                        Non-Null Count  Dtype   \n",
      "---  ------                        --------------  -----   \n",
      " 0   site_id_created               0 non-null      float64 \n",
      " 1   project_id_reported           333 non-null    object  \n",
      " 2   site_id_reported              0 non-null      float64 \n",
      " 3   site_description_reported     0 non-null      float64 \n",
      " 4   site_sqkm                     0 non-null      float64 \n",
      " 5   trees_planted_reported        0 non-null      float64 \n",
      " 6   country                       333 non-null    object  \n",
      " 7   project_description_reported  333 non-null    object  \n",
      " 8   planting_date_reported        333 non-null    object  \n",
      " 9   survival_rate_reported        0 non-null      float64 \n",
      " 10  host_name                     16 non-null     object  \n",
      " 11  url                           78 non-null     object  \n",
      " 12  species_count_reported        0 non-null      float64 \n",
      " 13  species_planted_reported      0 non-null      float64 \n",
      " 14  geometry                      0 non-null      geometry\n",
      " 15  Creator                       316 non-null    object  \n",
      " 16  project_id_created            0 non-null      float64 \n",
      " 17  planting_date_type            333 non-null    object  \n",
      "dtypes: float64(9), geometry(1), object(8)\n",
      "memory usage: 47.0+ KB\n"
     ]
    }
   ],
   "source": [
    "gdf.info()"
   ]
  },
  {
   "cell_type": "code",
   "execution_count": 8,
   "metadata": {},
   "outputs": [],
   "source": [
    "\n",
    "\n",
    "gdf = gpd.GeoDataFrame(df)  \n",
    "gdf.to_file('../midsave/climate_action_reserve.gpkg', driver='GPKG')"
   ]
  }
 ],
 "metadata": {
  "kernelspec": {
   "display_name": "Python 3 (ipykernel)",
   "language": "python",
   "name": "python3"
  },
  "language_info": {
   "codemirror_mode": {
    "name": "ipython",
    "version": 3
   },
   "file_extension": ".py",
   "mimetype": "text/x-python",
   "name": "python",
   "nbconvert_exporter": "python",
   "pygments_lexer": "ipython3",
   "version": "3.11.8"
  }
 },
 "nbformat": 4,
 "nbformat_minor": 4
}
