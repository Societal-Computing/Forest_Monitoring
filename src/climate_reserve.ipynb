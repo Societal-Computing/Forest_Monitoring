{
 "cells": [
  {
   "cell_type": "markdown",
   "metadata": {},
   "source": [
    "# Climate Action Reserve\n",
    "https://www.climateactionreserve.org"
   ]
  },
  {
   "cell_type": "code",
   "execution_count": null,
   "metadata": {},
   "outputs": [],
   "source": [
    "import json\n",
    "import requests\n",
    "import pandas as pd\n",
    "import geopandas as gpd\n",
    "from shapely.geometry import Point\n",
    "from shapely.ops import transform\n",
    "from tqdm import tqdm\n",
    "import time\n",
    "import os\n",
    "from random import uniform"
   ]
  },
  {
   "cell_type": "markdown",
   "metadata": {},
   "source": [
    "### Load data"
   ]
  },
  {
   "cell_type": "code",
   "execution_count": null,
   "metadata": {},
   "outputs": [],
   "source": [
    "df = pd.read_csv(\"../input/CAR/car_export_02_28_2025.csv\", encoding=\"ISO-8859-1\")\n",
    "df.head(1)"
   ]
  },
  {
   "cell_type": "code",
   "execution_count": null,
   "metadata": {},
   "outputs": [],
   "source": [
    "df['project_id'] = df['Project ID'].str.extract(r'CAR(\\d+)')"
   ]
  },
  {
   "cell_type": "code",
   "execution_count": null,
   "metadata": {},
   "outputs": [],
   "source": [
    "df = (df.loc[(df['Project Type'] == 'Reforestation - ARB Compliance') | \n",
    "              (df['Project Type'] == 'Reforestation')].copy())"
   ]
  },
  {
   "cell_type": "code",
   "execution_count": null,
   "metadata": {},
   "outputs": [],
   "source": [
    "df.project_id.unique()"
   ]
  },
  {
   "cell_type": "markdown",
   "metadata": {},
   "source": [
    "Check and, if applicable, retrieve shapefiles from project websites"
   ]
  },
  {
   "cell_type": "code",
   "execution_count": null,
   "metadata": {},
   "outputs": [],
   "source": [
    "gdf = gpd.GeoDataFrame()\n",
    "\n",
    "for project_id in tqdm(df['project_id'].unique().tolist()):\n",
    "\n",
    "    shp_dir = f\"/Users/tillkoebe/Documents/GitHub/Forest_Monitoring/input/CAR/1957/project_area.shp\"\n",
    "    \n",
    "    if os.path.exists(shp_dir):\n",
    "        temp = gpd.read_file(shp_dir)\n",
    "    \n",
    "        invalid_geom = False\n",
    "        if len(temp[temp.geometry.is_valid == False]) > 0:\n",
    "            invalid_geom = True  \n",
    "    \n",
    "        temp['geometry'] = temp['geometry'].apply(lambda geometry: transform(lambda x, y, z=None: (x, y), geometry))\n",
    "\n",
    "        while 'MultiPolygon' in temp.geometry.geom_type.unique().tolist():\n",
    "            temp = temp.explode(index_parts=False)\n",
    "            temp['geometry'] = temp['geometry'].make_valid()\n",
    "\n",
    "        temp = temp.loc[temp.geometry.geom_type.isin(['Polygon', 'Point'])].copy()\n",
    "        \n",
    "        temp = temp.to_crs(4326)\n",
    "\n",
    "        temp['project_id'] = project_id\n",
    "        temp['site_sqkm'] = temp.to_crs(3857).area/1e6\n",
    "        temp['project_geometries_invalid'] = invalid_geom\n",
    "    \n",
    "        temp = df.merge(temp, on = 'project_id', how = 'inner')\n",
    "        temp = temp[['Project ID', 'Project Listed Date', 'geometry', 'site_sqkm', 'project_geometries_invalid']]\n",
    "    \n",
    "    else:\n",
    "        temp = (df\n",
    "                .loc[df.project_id == project_id, ['Project ID', 'Project Listed Date']]\n",
    "                .assign(geometry=None, site_sqkm=None, project_geometries_invalid=None))\n",
    "    \n",
    "    temp['url'] = 'https://thereserve2.apx.com/mymodule/reg/TabDocuments.asp?r=111&ad=Prpt&act=update&type=PRO&aProj=pub&tablename=doc&id1='+project_id\n",
    "\n",
    "    temp['project_pdf_available'] = False\n",
    "\n",
    "    pd_dir = f\"/Users/tillkoebe/Documents/GitHub/Forest_Monitoring/midsave/project_descriptions/pd_car_{project_id}.pdf\"\n",
    "    if os.path.exists(pd_dir):\n",
    "        temp['project_pdf_available'] = True\n",
    "\n",
    "    \n",
    "    gdf = pd.concat([gdf, temp], ignore_index= True)"
   ]
  },
  {
   "cell_type": "code",
   "execution_count": null,
   "metadata": {},
   "outputs": [],
   "source": [
    "gdf = gpd.GeoDataFrame(gdf, geometry = 'geometry', crs = 'EPSG:4326')"
   ]
  },
  {
   "cell_type": "code",
   "execution_count": null,
   "metadata": {},
   "outputs": [],
   "source": [
    "gdf.reset_index(names = ['site_id_created'], inplace = True)"
   ]
  },
  {
   "cell_type": "code",
   "execution_count": null,
   "metadata": {},
   "outputs": [],
   "source": [
    "gdf.rename(columns = {'Project ID':'project_id_reported','Project Listed Date':'planting_date_reported'}, inplace = True)"
   ]
  },
  {
   "cell_type": "code",
   "execution_count": null,
   "metadata": {},
   "outputs": [],
   "source": [
    "gdf = gdf.assign(species_count_reported=None,\n",
    "              species_planted_reported=None,\n",
    "              survival_rate_reported=None,\n",
    "              trees_planted_reported=None)"
   ]
  },
  {
   "cell_type": "code",
   "execution_count": null,
   "metadata": {},
   "outputs": [],
   "source": [
    "gdf"
   ]
  },
  {
   "cell_type": "markdown",
   "metadata": {},
   "source": [
    "### Save it"
   ]
  },
  {
   "cell_type": "code",
   "execution_count": null,
   "metadata": {},
   "outputs": [],
   "source": [
    "gdf.to_file('../midsave/climate_action_reserve.gpkg', driver='GPKG')"
   ]
  }
 ],
 "metadata": {
  "kernelspec": {
   "display_name": "Python 3 (ipykernel)",
   "language": "python",
   "name": "python3"
  },
  "language_info": {
   "codemirror_mode": {
    "name": "ipython",
    "version": 3
   },
   "file_extension": ".py",
   "mimetype": "text/x-python",
   "name": "python",
   "nbconvert_exporter": "python",
   "pygments_lexer": "ipython3",
   "version": "3.12.4"
  }
 },
 "nbformat": 4,
 "nbformat_minor": 4
}
