{
 "cells": [
  {
   "cell_type": "markdown",
   "id": "0ee8d426-e7b6-41d3-8161-2c1c25e3a577",
   "metadata": {},
   "source": [
    "# ExplorerLand data\n",
    "https://explorer.land"
   ]
  },
  {
   "cell_type": "code",
   "execution_count": null,
   "id": "86b4086a-60d0-4766-a2f9-623d7bab0573",
   "metadata": {},
   "outputs": [],
   "source": [
    "import pandas as pd\n",
    "import geopandas as gpd\n",
    "from shapely.geometry import shape, Polygon, MultiPolygon, LineString, MultiLineString, Point, MultiPoint\n",
    "import json\n",
    "import requests\n",
    "import time\n",
    "from random import uniform"
   ]
  },
  {
   "cell_type": "code",
   "execution_count": null,
   "id": "7986e16a-1562-436f-bf15-3be1959f59fa",
   "metadata": {},
   "outputs": [],
   "source": [
    "projects = pd.DataFrame()\n",
    "for page in range(0, 10):\n",
    "    url = f\"https://api.explorer.land/v1/public/projects?listed=1&status_ids[]=e6b4q7jev3n8xd50&status_ids[]=exm7vzjapj0r5846&order_by_status=1&include=activity_types,ecosystem_types,partners,tabs,countries,modules&limit=1000&page={page}\"\n",
    "    response = requests.get(url).json()\n",
    "    projects = pd.concat([projects, pd.json_normalize(response['data'], sep='_')], ignore_index = True)"
   ]
  },
  {
   "cell_type": "code",
   "execution_count": null,
   "id": "11999b6e-80df-4370-9eeb-63e594d4165c",
   "metadata": {},
   "outputs": [],
   "source": [
    "projects = projects.rename(columns = {'slug':'project_id_reported','long_description':'project_description_reported'})"
   ]
  },
  {
   "cell_type": "code",
   "execution_count": null,
   "id": "f4e36925-9a34-473b-a577-1bcab92b355c",
   "metadata": {},
   "outputs": [],
   "source": [
    "projects"
   ]
  },
  {
   "cell_type": "code",
   "execution_count": null,
   "id": "79313130-f1aa-4868-b330-fb89643a91bb",
   "metadata": {},
   "outputs": [],
   "source": [
    "sites = pd.DataFrame()\n",
    "for project in projects.project_id_reported.unique().tolist():\n",
    "    url = f\"https://api.explorer.land/v1/public/spots/polygon?project_slug={project}\"\n",
    "    response = requests.get(url).json()\n",
    "    if response['features']:\n",
    "        temp = pd.json_normalize(response['features'], sep='_')\n",
    "        temp['project_id_reported'] = project\n",
    "        sites = pd.concat([sites, temp], ignore_index = True)\n",
    "        time.sleep(uniform(0, 5.0))"
   ]
  },
  {
   "cell_type": "code",
   "execution_count": null,
   "id": "311c351a-3c5a-46d7-b7f5-9eb3fabf6fdd",
   "metadata": {},
   "outputs": [],
   "source": [
    "raw_df = sites.copy()"
   ]
  },
  {
   "cell_type": "code",
   "execution_count": null,
   "id": "652c938e-4d5b-40aa-9528-17c24dd1141e",
   "metadata": {},
   "outputs": [],
   "source": [
    "raw_df[\"geometry\"] = raw_df[\"geometry_coordinates\"].apply(lambda coords: MultiPolygon([Polygon(p[0]) for p in coords]))"
   ]
  },
  {
   "cell_type": "code",
   "execution_count": null,
   "id": "0b0ee277-411a-4942-ab33-3d6bbb7eb134",
   "metadata": {},
   "outputs": [],
   "source": [
    "gdf = gpd.GeoDataFrame(raw_df, geometry='geometry', crs = 'EPSG:4326')"
   ]
  },
  {
   "cell_type": "markdown",
   "id": "cf0dd513-d1ae-4fc4-a1ec-e567aefc9b2e",
   "metadata": {},
   "source": [
    "### Fix geometries"
   ]
  },
  {
   "cell_type": "markdown",
   "id": "97688d89-2112-4dca-9dd0-a37d2c12cb6b",
   "metadata": {},
   "source": [
    "Check if input geometries are valid"
   ]
  },
  {
   "cell_type": "code",
   "execution_count": null,
   "id": "a8774b49-ddc1-440b-a404-bcf9047d7bdf",
   "metadata": {},
   "outputs": [],
   "source": [
    "invalid_geom = False\n",
    "\n",
    "if len(gdf[gdf.geometry.is_valid == False]) > 0:\n",
    "    invalid_geom = True    "
   ]
  },
  {
   "cell_type": "markdown",
   "id": "f2fb09d4-6450-4e3e-b7e0-4d16afd6302e",
   "metadata": {},
   "source": [
    "Combine linestrings to polygons, if applicable"
   ]
  },
  {
   "cell_type": "code",
   "execution_count": null,
   "id": "1e20ec6e-d340-4c8d-bbbf-590e2685f747",
   "metadata": {},
   "outputs": [],
   "source": [
    "gdf['geometry'] = gdf['geometry'].apply(\n",
    "    lambda geom: Polygon(list(geom.coords) + [geom.coords[0]]) if isinstance(geom, LineString) and not geom.is_closed and len(geom.coords) > 0 else\n",
    "                 Polygon(geom.coords) if isinstance(geom, LineString) and geom.is_closed else\n",
    "                 geom\n",
    ")"
   ]
  },
  {
   "cell_type": "markdown",
   "id": "203dd88e-2a4a-40ec-80f7-74a3d39fb056",
   "metadata": {},
   "source": [
    "Explode multipolygons to individual polygons"
   ]
  },
  {
   "cell_type": "code",
   "execution_count": null,
   "id": "f3345f3c-5af1-46b9-9501-f5377ecd9072",
   "metadata": {},
   "outputs": [],
   "source": [
    "while 'MultiPolygon' in gdf.geometry.geom_type.unique().tolist():\n",
    "    gdf = gdf.explode(index_parts=False)\n",
    "    gdf['geometry'] = gdf['geometry'].make_valid()"
   ]
  },
  {
   "cell_type": "markdown",
   "id": "28437192-a58e-479e-ad90-1b5d141a0351",
   "metadata": {},
   "source": [
    "Keep only polygons and points"
   ]
  },
  {
   "cell_type": "code",
   "execution_count": null,
   "id": "a3d04471-5d60-4800-bfa6-a9c41bffce74",
   "metadata": {},
   "outputs": [],
   "source": [
    "gdf = gdf.loc[gdf.geometry.geom_type.isin(['Polygon', 'Point'])].copy()"
   ]
  },
  {
   "cell_type": "markdown",
   "id": "a58b9443-715e-484a-b665-81c9774fea75",
   "metadata": {},
   "source": [
    "Keep only reforestation sites"
   ]
  },
  {
   "cell_type": "code",
   "execution_count": null,
   "id": "5648c501-8c39-47a3-9c8e-a067bad5b064",
   "metadata": {},
   "outputs": [],
   "source": [
    "gdf = gdf.loc[gdf.properties_category_label == 'Reforestation']"
   ]
  },
  {
   "cell_type": "markdown",
   "id": "25270712-b441-4eb4-b137-6a2a5ec55c66",
   "metadata": {},
   "source": [
    "Create site-level id"
   ]
  },
  {
   "cell_type": "code",
   "execution_count": null,
   "id": "73500d2d-c2e1-4cc1-89cb-2c7b6a49e0af",
   "metadata": {},
   "outputs": [],
   "source": [
    "gdf = gdf.reset_index(drop = True).reset_index(names=['site_id_created'])"
   ]
  },
  {
   "cell_type": "markdown",
   "id": "0fb33fcc-9265-421e-aadd-cc8ef12508c5",
   "metadata": {},
   "source": [
    "Add project-level description"
   ]
  },
  {
   "cell_type": "code",
   "execution_count": null,
   "id": "6c3abbf5-a898-46ae-8d1b-e04050b4abed",
   "metadata": {},
   "outputs": [],
   "source": [
    "gdf = (gdf\n",
    "       .loc[:, ['site_id_created', 'properties_slug', 'project_id_reported', 'properties_description', 'geometry']]\n",
    "       .rename(columns = {'properties_slug':'site_id_reported','properties_description':'site_description_reported'})\n",
    "       .merge(projects[['project_id_reported', 'project_description_reported']], on = 'project_id_reported', how = 'left')\n",
    "       .drop_duplicates()\n",
    "       .reset_index(drop = True))"
   ]
  },
  {
   "cell_type": "markdown",
   "id": "ea8fc816-4245-4f58-b299-58bca36b6f75",
   "metadata": {},
   "source": [
    "### Harmonize nomenclature"
   ]
  },
  {
   "cell_type": "code",
   "execution_count": null,
   "id": "211c3280-2e4e-4014-a5f2-93b6606c636d",
   "metadata": {},
   "outputs": [],
   "source": [
    "gdf['host_name'] = 'Explorer Land'\n",
    "gdf['url'] = 'https://explorer.land/x/project/' + gdf.project_id_reported + '/site/' + gdf.site_id_reported + '/about'\n",
    "gdf['site_sqkm'] = gdf['geometry'].to_crs('EPSG:3857').area / 1e6\n",
    "gdf['project_geometries_invalid'] = invalid_geom"
   ]
  },
  {
   "cell_type": "code",
   "execution_count": null,
   "id": "a6478021-4450-434c-8a69-b37352f23f88",
   "metadata": {},
   "outputs": [],
   "source": [
    "gdf.plot()"
   ]
  },
  {
   "cell_type": "code",
   "execution_count": null,
   "id": "78c3e0f7-41b6-4d9c-9801-6c03c8d02c54",
   "metadata": {},
   "outputs": [],
   "source": [
    "gdf['site_sqkm'].describe()"
   ]
  },
  {
   "cell_type": "markdown",
   "id": "8dc43245-de78-43ab-bd9a-7b2b1201c49e",
   "metadata": {},
   "source": [
    "### Save it"
   ]
  },
  {
   "cell_type": "code",
   "execution_count": null,
   "id": "dbeca572-6d20-4692-be49-12e90fb28691",
   "metadata": {},
   "outputs": [],
   "source": [
    "gdf.to_file(\"../midsave/explorer_land.gpkg\")"
   ]
  }
 ],
 "metadata": {
  "kernelspec": {
   "display_name": "Python 3 (ipykernel)",
   "language": "python",
   "name": "python3"
  },
  "language_info": {
   "codemirror_mode": {
    "name": "ipython",
    "version": 3
   },
   "file_extension": ".py",
   "mimetype": "text/x-python",
   "name": "python",
   "nbconvert_exporter": "python",
   "pygments_lexer": "ipython3",
   "version": "3.12.4"
  }
 },
 "nbformat": 4,
 "nbformat_minor": 5
}
