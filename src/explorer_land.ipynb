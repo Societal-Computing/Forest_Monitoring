{
 "cells": [
  {
   "cell_type": "markdown",
   "id": "0ee8d426-e7b6-41d3-8161-2c1c25e3a577",
   "metadata": {},
   "source": [
    "# ExplorerLand data\n",
    "https://explorer.land"
   ]
  },
  {
   "cell_type": "code",
   "execution_count": null,
   "id": "86b4086a-60d0-4766-a2f9-623d7bab0573",
   "metadata": {},
   "outputs": [],
   "source": [
    "import pandas as pd\n",
    "import geopandas as gpd\n",
    "from shapely.geometry import shape, Polygon, MultiPolygon, LineString, MultiLineString, Point, MultiPoint\n",
    "import ast"
   ]
  },
  {
   "cell_type": "code",
   "execution_count": null,
   "id": "e5dddf52-72ed-44e2-81fa-0ac2190d04a2",
   "metadata": {},
   "outputs": [],
   "source": [
    "df = pd.read_csv(\"../input/ExplorerLand/explorer_land.csv\")\n",
    "df.head(1)"
   ]
  },
  {
   "cell_type": "code",
   "execution_count": null,
   "id": "ee2a5be5-3fd6-4705-8f07-ae6c605f6a6a",
   "metadata": {},
   "outputs": [],
   "source": [
    "df.info()"
   ]
  },
  {
   "cell_type": "markdown",
   "id": "cf0dd513-d1ae-4fc4-a1ec-e567aefc9b2e",
   "metadata": {},
   "source": [
    "### Fix geometries"
   ]
  },
  {
   "cell_type": "code",
   "execution_count": null,
   "id": "482f37e3-ae3b-494b-b52f-83208a8c6db6",
   "metadata": {},
   "outputs": [],
   "source": [
    "df['geometry_reported'] = df['geometry_reported'].apply(lambda x: ast.literal_eval(x) if isinstance(x, str) else x)"
   ]
  },
  {
   "cell_type": "code",
   "execution_count": null,
   "id": "09b4129b-3ce4-4386-afda-725de0667605",
   "metadata": {},
   "outputs": [],
   "source": [
    "df['geometry'] = df['geometry_reported'].apply(shape)"
   ]
  },
  {
   "cell_type": "code",
   "execution_count": null,
   "id": "a173c908-bb7e-4a96-87f2-194ffbfd7c87",
   "metadata": {},
   "outputs": [],
   "source": [
    "gdf = gpd.GeoDataFrame(df, geometry='geometry', crs = 'EPSG:4326')\n",
    "gdf = gdf.drop(columns='geometry_reported')"
   ]
  },
  {
   "cell_type": "code",
   "execution_count": null,
   "id": "d0e1b830-b80f-4b77-a61f-7ae265084b53",
   "metadata": {},
   "outputs": [],
   "source": [
    "gdf = gdf.explode(index_parts=False).explode(index_parts=False).reset_index(drop = True)"
   ]
  },
  {
   "cell_type": "code",
   "execution_count": null,
   "id": "45e17b6d-9623-4410-8f79-522810dd77a9",
   "metadata": {},
   "outputs": [],
   "source": [
    "gdf['geometry'] = gdf['geometry'].make_valid()"
   ]
  },
  {
   "cell_type": "code",
   "execution_count": null,
   "id": "b3075c7e-1153-4795-9806-03b87411eed9",
   "metadata": {},
   "outputs": [],
   "source": [
    "gdf['geometry'].type.unique()"
   ]
  },
  {
   "cell_type": "markdown",
   "id": "d8ad1a88-123f-4cc7-8459-a3686a4da399",
   "metadata": {},
   "source": [
    "Turn linestrings to polygons"
   ]
  },
  {
   "cell_type": "code",
   "execution_count": null,
   "id": "142332f8-8a90-489b-8ad2-e05768cc6d22",
   "metadata": {},
   "outputs": [],
   "source": [
    "gdf['geometry'] = gdf['geometry'].apply(\n",
    "    lambda geom: Polygon(list(geom.coords) + [geom.coords[0]]) if isinstance(geom, LineString) and not geom.is_closed and len(geom.coords) > 0 else\n",
    "                 Polygon(geom.coords) if isinstance(geom, LineString) and geom.is_closed else\n",
    "                 geom\n",
    ")"
   ]
  },
  {
   "cell_type": "code",
   "execution_count": null,
   "id": "73500d2d-c2e1-4cc1-89cb-2c7b6a49e0af",
   "metadata": {},
   "outputs": [],
   "source": [
    "gdf.plot()"
   ]
  },
  {
   "cell_type": "markdown",
   "id": "ea8fc816-4245-4f58-b299-58bca36b6f75",
   "metadata": {},
   "source": [
    "### Harmonize nomenclature"
   ]
  },
  {
   "cell_type": "code",
   "execution_count": null,
   "id": "211c3280-2e4e-4014-a5f2-93b6606c636d",
   "metadata": {},
   "outputs": [],
   "source": [
    "gdf = gdf.rename(columns = {'description_reported':'project_description_reported'})\n",
    "gdf['host_name'] = 'Explorer Land'\n",
    "gdf['url'] = 'https://explorer.land/x/projects'\n",
    "gdf['site_sqkm'] = gdf['geometry'].to_crs('EPSG:3857').area / 1e6\n",
    "gdf['site_sqkm'].describe()"
   ]
  },
  {
   "cell_type": "markdown",
   "id": "8dc43245-de78-43ab-bd9a-7b2b1201c49e",
   "metadata": {},
   "source": [
    "### Save it"
   ]
  },
  {
   "cell_type": "code",
   "execution_count": null,
   "id": "dbeca572-6d20-4692-be49-12e90fb28691",
   "metadata": {},
   "outputs": [],
   "source": [
    "gdf.to_file(\"../midsave/explorer_land.gpkg\")"
   ]
  }
 ],
 "metadata": {
  "kernelspec": {
   "display_name": "Python 3 (ipykernel)",
   "language": "python",
   "name": "python3"
  },
  "language_info": {
   "codemirror_mode": {
    "name": "ipython",
    "version": 3
   },
   "file_extension": ".py",
   "mimetype": "text/x-python",
   "name": "python",
   "nbconvert_exporter": "python",
   "pygments_lexer": "ipython3",
   "version": "3.12.4"
  }
 },
 "nbformat": 4,
 "nbformat_minor": 5
}
