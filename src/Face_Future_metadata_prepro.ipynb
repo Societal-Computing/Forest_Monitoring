{
  "cells": [
    {
      "cell_type": "markdown",
      "metadata": {},
      "source": [
        "The json file contains metadata from the website https://facethefuture.com/#projects ,and the scripts shows preprocessing and shapefile generation"
      ]
    },
    {
      "cell_type": "code",
      "execution_count": 11,
      "metadata": {
        "id": "V_C3QfqYuaYQ"
      },
      "outputs": [],
      "source": [
        "import pandas as pd\n",
        "import geopandas as gpd\n",
        "from shapely.geometry import shape\n",
        "df_ftf_2 = pd.read_json(\"Forest_Monitoring/input/FaceTheFuture/FaceTheFuture.json\")\n",
        "df_ftf_2.tail()"
      ]
    },
    {
      "cell_type": "code",
      "execution_count": null,
      "metadata": {},
      "outputs": [],
      "source": [
        "# Expanding the  'properties' column to extract information in it in separate columns\n",
        "properties_df = df_ftf_2[\"properties\"].apply(pd.Series)\n",
        "\n",
        "\n",
        "df_expanded = pd.concat([df_ftf_2.drop(columns=[\"properties\"]), properties_df], axis=1)\n",
        "\n",
        "\n",
        "df_expanded.tail()"
      ]
    },
    {
      "cell_type": "code",
      "execution_count": null,
      "metadata": {},
      "outputs": [],
      "source": [
        "\n",
        "\n",
        "# Filtering the specified columns with important information for our analysis\n",
        "filtered_columns = [\"GlobalID\", \"id\", \"TreeNumber\", \"ContractArea\", \"PlantingYear_no\", \"Comments\", \"Creator\", \"geometry\"]\n",
        "df_filtered = df_expanded[filtered_columns]\n",
        "\n",
        "\n",
        "df_filtered.tail()"
      ]
    },
    {
      "cell_type": "code",
      "execution_count": null,
      "metadata": {},
      "outputs": [],
      "source": [
        "# Renaming the columns\n",
        "new_column_names = {\n",
        "    \"GlobalID\": \"project_id_reported\",\n",
        "    \"id\": \"site_id_reported\",\n",
        "    \"TreeNumber\": \"trees_planted_reported\",\n",
        "    \"ContractArea\": \"site_sqkm\",\n",
        "    \"PlantingYear_no\": \"planting_date_reported\",\n",
        "    \"Comments\": \"description\",\n",
        "    \"Creator\": \"host_name\",\n",
        "    \"geometry\": \"geometry_reported\"\n",
        "}\n",
        "\n",
        "df_filtered = df_filtered.rename(columns=new_column_names)\n",
        "\n",
        "df_filtered.tail()"
      ]
    },
    {
      "cell_type": "code",
      "execution_count": null,
      "metadata": {},
      "outputs": [],
      "source": [
        "import geopandas as gpd\n",
        "\n",
        "from shapely.geometry import shape\n",
        "\n",
        "\n",
        "\n",
        "def safe_shape(geom):\n",
        "    try:\n",
        "        return shape(geom)\n",
        "    except Exception as e:\n",
        "        print(f\"Error processing geometry: {geom}, Error: {e}\")\n",
        "        return None\n",
        "\n",
        "# Filtering out None values in 'geometry_reported'\n",
        "df_filtered = df_filtered[df_filtered['geometry_reported'].notnull()]\n",
        "\n",
        "\n",
        "df_filtered['geometry'] = df_filtered['geometry_reported'].apply(safe_shape)\n",
        "\n",
        "\n",
        "df_filtered = df_filtered[df_filtered['geometry'].notnull()]\n",
        "\n",
        "\n",
        "gdf = gpd.GeoDataFrame(df_filtered, geometry='geometry')\n",
        "\n",
        "# Exploding the MultiPolygon into individual Polygons\n",
        "gdf_exploded = gdf.explode(index_parts=False)\n",
        "\n",
        "# Saving the GeoDataFrame as a shapefile\n",
        "gdf_exploded.to_file(\"Forest_Monitoring/input/FaceTheFuture/FaceTheFuture.shp\")\n",
        "\n",
        "\n",
        "df_exploded = pd.DataFrame(gdf_exploded)\n",
        "df_exploded.head()"
      ]
    }
  ],
  "metadata": {
    "colab": {
      "provenance": []
    },
    "kernelspec": {
      "display_name": "downgrade",
      "language": "python",
      "name": "python3"
    },
    "language_info": {
      "codemirror_mode": {
        "name": "ipython",
        "version": 3
      },
      "file_extension": ".py",
      "mimetype": "text/x-python",
      "name": "python",
      "nbconvert_exporter": "python",
      "pygments_lexer": "ipython3",
      "version": "3.8.18"
    }
  },
  "nbformat": 4,
  "nbformat_minor": 0
}
