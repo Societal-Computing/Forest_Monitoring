{
 "cells": [
  {
   "cell_type": "markdown",
   "metadata": {},
   "source": [
    "#### Plant_planet_data"
   ]
  },
  {
   "cell_type": "code",
   "execution_count": null,
   "metadata": {},
   "outputs": [],
   "source": [
    "import geopandas as gpd\n",
    "from shapely.geometry import shape\n",
    "import pandas as pd\n",
    "import numpy as np"
   ]
  },
  {
   "cell_type": "code",
   "execution_count": 184,
   "metadata": {},
   "outputs": [
    {
     "name": "stdout",
     "output_type": "stream",
     "text": [
      "<class 'pandas.core.frame.DataFrame'>\n",
      "RangeIndex: 795 entries, 0 to 794\n",
      "Data columns (total 13 columns):\n",
      " #   Column                    Non-Null Count  Dtype  \n",
      "---  ------                    --------------  -----  \n",
      " 0   project_id_reported       795 non-null    object \n",
      " 1   site_id_reported          795 non-null    object \n",
      " 2   trees_planted_reported    795 non-null    int64  \n",
      " 3   country                   793 non-null    object \n",
      " 4   description_reported      795 non-null    object \n",
      " 5   planting_date_reported    519 non-null    object \n",
      " 6   survival_rate_reported    546 non-null    float64\n",
      " 7   geometry_reported         775 non-null    object \n",
      " 8   site_sqkm                 775 non-null    float64\n",
      " 9   species_planted_reported  0 non-null      float64\n",
      " 10  species_count_reported    0 non-null      float64\n",
      " 11  host_name                 795 non-null    object \n",
      " 12  url                       795 non-null    object \n",
      "dtypes: float64(4), int64(1), object(8)\n",
      "memory usage: 80.9+ KB\n"
     ]
    }
   ],
   "source": [
    "\n",
    "df_plant=pd.read_csv(\"/home/idisc02/Forest_Monitoring/input/meta_data_CSV_FILES/PLANT_PLANET_CSV.csv\",encoding='latin-1')\n",
    "df_plant['host_name'] = 'plant for plant'\n",
    "df_plant[\"site_id_reported\"]=['reforest_site_{}'.format(i+1) for i in range(len(df_plant))]\n",
    "df_plant['url'] = 'https://web.plant-for-the-planet.org/en/sirpnigeria-org?site=site_bKgRAzMysTSivm1'\n",
    "df_plant.info()\n"
   ]
  },
  {
   "cell_type": "code",
   "execution_count": 185,
   "metadata": {},
   "outputs": [
    {
     "name": "stdout",
     "output_type": "stream",
     "text": [
      "<class 'pandas.core.frame.DataFrame'>\n",
      "RangeIndex: 775 entries, 0 to 774\n",
      "Data columns (total 30 columns):\n",
      " #   Column                            Non-Null Count  Dtype  \n",
      "---  ------                            --------------  -----  \n",
      " 0   Unnamed: 0                        775 non-null    int64  \n",
      " 1   country                           774 non-null    object \n",
      " 2   description_reported              775 non-null    object \n",
      " 3   host_name                         775 non-null    object \n",
      " 4   planting_date_reported            511 non-null    object \n",
      " 5   project_id_reported               775 non-null    object \n",
      " 6   site_id_reported                  775 non-null    object \n",
      " 7   site_sqkm                         775 non-null    float64\n",
      " 8   survival_rate_reported            530 non-null    float64\n",
      " 9   trees_planted_reported            775 non-null    int64  \n",
      " 10  url                               775 non-null    object \n",
      " 11  geometry_reported                 774 non-null    object \n",
      " 12  Top_Three_NDVI_Months             775 non-null    object \n",
      " 13  species_planted_reported          0 non-null      float64\n",
      " 14  species_count_reported            0 non-null      float64\n",
      " 15  built_area                        775 non-null    float64\n",
      " 16  intersecting_roads_count          775 non-null    int64  \n",
      " 17  total_road_length_km              775 non-null    float64\n",
      " 18  loss_pre_5                        501 non-null    float64\n",
      " 19  loss_post_3                       510 non-null    float64\n",
      " 20  loss_post_5                       510 non-null    float64\n",
      " 21  tree_cover_area_2020              775 non-null    float64\n",
      " 22  tree_cover_area_2015              775 non-null    float64\n",
      " 23  tree_cover_area_2010              775 non-null    float64\n",
      " 24  tree_cover_area_2005              775 non-null    float64\n",
      " 25  tree_cover_area_2000              775 non-null    float64\n",
      " 26  cropland gain from trees          775 non-null    float64\n",
      " 27  cropland loss to tree             775 non-null    float64\n",
      " 28  permanent water                   775 non-null    float64\n",
      " 29  short vegetation after tree loss  775 non-null    float64\n",
      "dtypes: float64(18), int64(3), object(9)\n",
      "memory usage: 181.8+ KB\n"
     ]
    }
   ],
   "source": [
    "df_plant_2=pd.read_csv(\"/home/idisc02/Forest_Monitoring/input/meta_data_CSV_FILES/With_NDVI/monthly_ndvi_plant_planet.csv\",encoding='latin-1')\n",
    "df_plant_2.info()"
   ]
  },
  {
   "cell_type": "code",
   "execution_count": 186,
   "metadata": {},
   "outputs": [
    {
     "data": {
      "text/plain": [
       "0       [5, 3, 4]\n",
       "1       [5, 3, 6]\n",
       "2      [4, 8, 12]\n",
       "3      [8, 4, 12]\n",
       "4       [3, 4, 8]\n",
       "          ...    \n",
       "770     [7, 8, 4]\n",
       "771    [7, 8, 11]\n",
       "772     [6, 9, 5]\n",
       "773    [6, 9, 10]\n",
       "774     [1, 7, 4]\n",
       "Name: Top_Three_NDVI_Months, Length: 775, dtype: object"
      ]
     },
     "execution_count": 186,
     "metadata": {},
     "output_type": "execute_result"
    }
   ],
   "source": [
    "df_plant_2[\"Top_Three_NDVI_Months\"]"
   ]
  },
  {
   "cell_type": "markdown",
   "metadata": {},
   "source": [
    "#### Tree_Nation"
   ]
  },
  {
   "cell_type": "code",
   "execution_count": 187,
   "metadata": {},
   "outputs": [
    {
     "name": "stdout",
     "output_type": "stream",
     "text": [
      "<class 'pandas.core.frame.DataFrame'>\n",
      "RangeIndex: 376 entries, 0 to 375\n",
      "Data columns (total 13 columns):\n",
      " #   Column                    Non-Null Count  Dtype  \n",
      "---  ------                    --------------  -----  \n",
      " 0   planting_date_reported    376 non-null    object \n",
      " 1   description_reported      374 non-null    object \n",
      " 2   site_id_reported          376 non-null    int64  \n",
      " 3   project_id_reported       376 non-null    int64  \n",
      " 4   trees_planted_reported    376 non-null    int64  \n",
      " 5   geometry_reported         376 non-null    object \n",
      " 6   site_sqkm                 375 non-null    float64\n",
      " 7   country                   360 non-null    object \n",
      " 8   survival_rate_reported    0 non-null      float64\n",
      " 9   species_count_reported    0 non-null      float64\n",
      " 10  species_planted_reported  0 non-null      float64\n",
      " 11  host_name                 376 non-null    object \n",
      " 12  url                       376 non-null    object \n",
      "dtypes: float64(4), int64(3), object(6)\n",
      "memory usage: 38.3+ KB\n"
     ]
    }
   ],
   "source": [
    "df_nation=pd.read_csv(\"/home/idisc02/Forest_Monitoring/input/meta_data_CSV_FILES/TREE_NATION.csv\",encoding='latin-1')\n",
    "df_nation['host_name'] = 'Tree Nation'\n",
    "df_nation['url'] = 'https://tree-nation.com/projects'\n",
    "df_nation.info()"
   ]
  },
  {
   "cell_type": "code",
   "execution_count": 188,
   "metadata": {},
   "outputs": [
    {
     "name": "stdout",
     "output_type": "stream",
     "text": [
      "<class 'pandas.core.frame.DataFrame'>\n",
      "RangeIndex: 376 entries, 0 to 375\n",
      "Data columns (total 30 columns):\n",
      " #   Column                            Non-Null Count  Dtype  \n",
      "---  ------                            --------------  -----  \n",
      " 0   Unnamed: 0                        376 non-null    int64  \n",
      " 1   country                           360 non-null    object \n",
      " 2   description_reported              374 non-null    object \n",
      " 3   host_name                         376 non-null    object \n",
      " 4   planting_date_reported            376 non-null    object \n",
      " 5   project_id_reported               376 non-null    int64  \n",
      " 6   site_id_reported                  376 non-null    int64  \n",
      " 7   site_sqkm                         375 non-null    float64\n",
      " 8   trees_planted_reported            376 non-null    int64  \n",
      " 9   url                               376 non-null    object \n",
      " 10  geometry_reported                 376 non-null    object \n",
      " 11  Top_Three_NDVI_Months             376 non-null    object \n",
      " 12  survival_rate_reported            0 non-null      float64\n",
      " 13  species_count_reported            0 non-null      float64\n",
      " 14  species_planted_reported          0 non-null      float64\n",
      " 15  intersecting_roads_count          376 non-null    int64  \n",
      " 16  total_road_length_km              376 non-null    float64\n",
      " 17  built_area                        376 non-null    float64\n",
      " 18  loss_pre_5                        376 non-null    float64\n",
      " 19  loss_post_3                       319 non-null    float64\n",
      " 20  loss_post_5                       319 non-null    float64\n",
      " 21  tree_cover_area_2000              376 non-null    float64\n",
      " 22  tree_cover_area_2005              376 non-null    float64\n",
      " 23  tree_cover_area_2010              376 non-null    float64\n",
      " 24  tree_cover_area_2015              376 non-null    float64\n",
      " 25  tree_cover_area_2020              376 non-null    float64\n",
      " 26  cropland gain from trees          376 non-null    float64\n",
      " 27  cropland loss to tree             376 non-null    float64\n",
      " 28  permanent water                   376 non-null    float64\n",
      " 29  short vegetation after tree loss  376 non-null    float64\n",
      "dtypes: float64(18), int64(5), object(7)\n",
      "memory usage: 88.2+ KB\n"
     ]
    }
   ],
   "source": [
    "df_nation_2 =pd.read_csv(\"/home/idisc02/Forest_Monitoring/input/meta_data_CSV_FILES/With_NDVI/monthly_ndvi_tree_nation_reshape.csv\",encoding='latin-1')\n",
    "df_nation_2.info()"
   ]
  },
  {
   "cell_type": "code",
   "execution_count": null,
   "metadata": {},
   "outputs": [],
   "source": [
    "df_nation_2[\"\"]"
   ]
  },
  {
   "cell_type": "markdown",
   "metadata": {},
   "source": [
    "#### Open_Forest_protocol"
   ]
  },
  {
   "cell_type": "code",
   "execution_count": 189,
   "metadata": {},
   "outputs": [
    {
     "name": "stdout",
     "output_type": "stream",
     "text": [
      "<class 'pandas.core.frame.DataFrame'>\n",
      "RangeIndex: 188 entries, 0 to 187\n",
      "Data columns (total 13 columns):\n",
      " #   Column                    Non-Null Count  Dtype  \n",
      "---  ------                    --------------  -----  \n",
      " 0   site_id_reported          99 non-null     float64\n",
      " 1   project_id_reported       99 non-null     float64\n",
      " 2   survival_rate_reported    0 non-null      float64\n",
      " 3   species_planted_reported  0 non-null      float64\n",
      " 4   trees_planted_reported    0 non-null      float64\n",
      " 5   species_count_reported    0 non-null      float64\n",
      " 6   planting_date_reported    0 non-null      float64\n",
      " 7   country                   99 non-null     object \n",
      " 8   geometry_reported         126 non-null    object \n",
      " 9   site_sqkm                 99 non-null     float64\n",
      " 10  description_reported      99 non-null     object \n",
      " 11  host_name                 188 non-null    object \n",
      " 12  url                       188 non-null    object \n",
      "dtypes: float64(8), object(5)\n",
      "memory usage: 19.2+ KB\n"
     ]
    }
   ],
   "source": [
    "import pandas as pd\n",
    "df_ofp=pd.read_csv(\"/home/idisc02/Forest_Monitoring/input/meta_data_CSV_FILES/OPF.csv\")\n",
    "df_ofp['host_name'] = 'Open Forest protocol'\n",
    "df_ofp['url'] = 'https://atlas.openforestprotocol.org'\n",
    "df_ofp.info()"
   ]
  },
  {
   "cell_type": "code",
   "execution_count": 190,
   "metadata": {},
   "outputs": [],
   "source": [
    "df_ofp.to_csv(\"/home/idisc02/Forest_Monitoring/input/meta_data_CSV_FILES/new_file.csv\", index=False)"
   ]
  },
  {
   "cell_type": "code",
   "execution_count": 191,
   "metadata": {},
   "outputs": [
    {
     "data": {
      "text/html": [
       "<div>\n",
       "<style scoped>\n",
       "    .dataframe tbody tr th:only-of-type {\n",
       "        vertical-align: middle;\n",
       "    }\n",
       "\n",
       "    .dataframe tbody tr th {\n",
       "        vertical-align: top;\n",
       "    }\n",
       "\n",
       "    .dataframe thead th {\n",
       "        text-align: right;\n",
       "    }\n",
       "</style>\n",
       "<table border=\"1\" class=\"dataframe\">\n",
       "  <thead>\n",
       "    <tr style=\"text-align: right;\">\n",
       "      <th></th>\n",
       "      <th>site_id_reported</th>\n",
       "      <th>project_id_reported</th>\n",
       "      <th>survival_rate_reported</th>\n",
       "      <th>species_planted_reported</th>\n",
       "      <th>trees_planted_reported</th>\n",
       "      <th>species_count_reported</th>\n",
       "      <th>planting_date_reported</th>\n",
       "      <th>country</th>\n",
       "      <th>geometry_reported</th>\n",
       "      <th>site_sqkm</th>\n",
       "      <th>description_reported</th>\n",
       "      <th>host_name</th>\n",
       "      <th>url</th>\n",
       "    </tr>\n",
       "  </thead>\n",
       "  <tbody>\n",
       "    <tr>\n",
       "      <th>183</th>\n",
       "      <td>NaN</td>\n",
       "      <td>NaN</td>\n",
       "      <td>NaN</td>\n",
       "      <td>NaN</td>\n",
       "      <td>NaN</td>\n",
       "      <td>NaN</td>\n",
       "      <td>NaN</td>\n",
       "      <td>NaN</td>\n",
       "      <td>POLYGON ((26.6513907015837 75.0059113356193, 2...</td>\n",
       "      <td>NaN</td>\n",
       "      <td>NaN</td>\n",
       "      <td>Open Forest protocol</td>\n",
       "      <td>https://atlas.openforestprotocol.org</td>\n",
       "    </tr>\n",
       "    <tr>\n",
       "      <th>184</th>\n",
       "      <td>NaN</td>\n",
       "      <td>NaN</td>\n",
       "      <td>NaN</td>\n",
       "      <td>NaN</td>\n",
       "      <td>NaN</td>\n",
       "      <td>NaN</td>\n",
       "      <td>NaN</td>\n",
       "      <td>NaN</td>\n",
       "      <td>POLYGON ((28.5922812395922 77.0255506214956, 2...</td>\n",
       "      <td>NaN</td>\n",
       "      <td>NaN</td>\n",
       "      <td>Open Forest protocol</td>\n",
       "      <td>https://atlas.openforestprotocol.org</td>\n",
       "    </tr>\n",
       "    <tr>\n",
       "      <th>185</th>\n",
       "      <td>NaN</td>\n",
       "      <td>NaN</td>\n",
       "      <td>NaN</td>\n",
       "      <td>NaN</td>\n",
       "      <td>NaN</td>\n",
       "      <td>NaN</td>\n",
       "      <td>NaN</td>\n",
       "      <td>NaN</td>\n",
       "      <td>POLYGON ((9.2526431 -83.7949872, 9.252066 -83....</td>\n",
       "      <td>NaN</td>\n",
       "      <td>NaN</td>\n",
       "      <td>Open Forest protocol</td>\n",
       "      <td>https://atlas.openforestprotocol.org</td>\n",
       "    </tr>\n",
       "    <tr>\n",
       "      <th>186</th>\n",
       "      <td>NaN</td>\n",
       "      <td>NaN</td>\n",
       "      <td>NaN</td>\n",
       "      <td>NaN</td>\n",
       "      <td>NaN</td>\n",
       "      <td>NaN</td>\n",
       "      <td>NaN</td>\n",
       "      <td>NaN</td>\n",
       "      <td>POLYGON ((0.458493851715622 35.9811773996758, ...</td>\n",
       "      <td>NaN</td>\n",
       "      <td>NaN</td>\n",
       "      <td>Open Forest protocol</td>\n",
       "      <td>https://atlas.openforestprotocol.org</td>\n",
       "    </tr>\n",
       "    <tr>\n",
       "      <th>187</th>\n",
       "      <td>NaN</td>\n",
       "      <td>NaN</td>\n",
       "      <td>NaN</td>\n",
       "      <td>NaN</td>\n",
       "      <td>NaN</td>\n",
       "      <td>NaN</td>\n",
       "      <td>NaN</td>\n",
       "      <td>NaN</td>\n",
       "      <td>POLYGON ((-0.1035392 37.0016187, -0.104001 37....</td>\n",
       "      <td>NaN</td>\n",
       "      <td>NaN</td>\n",
       "      <td>Open Forest protocol</td>\n",
       "      <td>https://atlas.openforestprotocol.org</td>\n",
       "    </tr>\n",
       "  </tbody>\n",
       "</table>\n",
       "</div>"
      ],
      "text/plain": [
       "     site_id_reported  project_id_reported  survival_rate_reported  \\\n",
       "183               NaN                  NaN                     NaN   \n",
       "184               NaN                  NaN                     NaN   \n",
       "185               NaN                  NaN                     NaN   \n",
       "186               NaN                  NaN                     NaN   \n",
       "187               NaN                  NaN                     NaN   \n",
       "\n",
       "     species_planted_reported  trees_planted_reported  species_count_reported  \\\n",
       "183                       NaN                     NaN                     NaN   \n",
       "184                       NaN                     NaN                     NaN   \n",
       "185                       NaN                     NaN                     NaN   \n",
       "186                       NaN                     NaN                     NaN   \n",
       "187                       NaN                     NaN                     NaN   \n",
       "\n",
       "     planting_date_reported country  \\\n",
       "183                     NaN     NaN   \n",
       "184                     NaN     NaN   \n",
       "185                     NaN     NaN   \n",
       "186                     NaN     NaN   \n",
       "187                     NaN     NaN   \n",
       "\n",
       "                                     geometry_reported  site_sqkm  \\\n",
       "183  POLYGON ((26.6513907015837 75.0059113356193, 2...        NaN   \n",
       "184  POLYGON ((28.5922812395922 77.0255506214956, 2...        NaN   \n",
       "185  POLYGON ((9.2526431 -83.7949872, 9.252066 -83....        NaN   \n",
       "186  POLYGON ((0.458493851715622 35.9811773996758, ...        NaN   \n",
       "187  POLYGON ((-0.1035392 37.0016187, -0.104001 37....        NaN   \n",
       "\n",
       "    description_reported             host_name  \\\n",
       "183                  NaN  Open Forest protocol   \n",
       "184                  NaN  Open Forest protocol   \n",
       "185                  NaN  Open Forest protocol   \n",
       "186                  NaN  Open Forest protocol   \n",
       "187                  NaN  Open Forest protocol   \n",
       "\n",
       "                                      url  \n",
       "183  https://atlas.openforestprotocol.org  \n",
       "184  https://atlas.openforestprotocol.org  \n",
       "185  https://atlas.openforestprotocol.org  \n",
       "186  https://atlas.openforestprotocol.org  \n",
       "187  https://atlas.openforestprotocol.org  "
      ]
     },
     "execution_count": 191,
     "metadata": {},
     "output_type": "execute_result"
    }
   ],
   "source": [
    "df_ofp.tail()"
   ]
  },
  {
   "cell_type": "code",
   "execution_count": 192,
   "metadata": {},
   "outputs": [
    {
     "data": {
      "text/html": [
       "<div>\n",
       "<style scoped>\n",
       "    .dataframe tbody tr th:only-of-type {\n",
       "        vertical-align: middle;\n",
       "    }\n",
       "\n",
       "    .dataframe tbody tr th {\n",
       "        vertical-align: top;\n",
       "    }\n",
       "\n",
       "    .dataframe thead th {\n",
       "        text-align: right;\n",
       "    }\n",
       "</style>\n",
       "<table border=\"1\" class=\"dataframe\">\n",
       "  <thead>\n",
       "    <tr style=\"text-align: right;\">\n",
       "      <th></th>\n",
       "      <th>site_id_reported</th>\n",
       "      <th>project_id_reported</th>\n",
       "      <th>survival_rate_reported</th>\n",
       "      <th>species_planted_reported</th>\n",
       "      <th>trees_planted_reported</th>\n",
       "      <th>species_count_reported</th>\n",
       "      <th>planting_date_reported</th>\n",
       "      <th>country</th>\n",
       "      <th>geometry_reported</th>\n",
       "      <th>site_sqkm</th>\n",
       "      <th>description_reported</th>\n",
       "      <th>host_name</th>\n",
       "      <th>url</th>\n",
       "    </tr>\n",
       "  </thead>\n",
       "  <tbody>\n",
       "    <tr>\n",
       "      <th>0</th>\n",
       "      <td>1.658929e+12</td>\n",
       "      <td>1.658929e+12</td>\n",
       "      <td>NaN</td>\n",
       "      <td>NaN</td>\n",
       "      <td>NaN</td>\n",
       "      <td>NaN</td>\n",
       "      <td>NaN</td>\n",
       "      <td>United States</td>\n",
       "      <td>POLYGON ((30.136472 -97.9555704, 30.1360475 -9...</td>\n",
       "      <td>0.420</td>\n",
       "      <td>Juniper Forest is a mixed forest consisting pr...</td>\n",
       "      <td>Open Forest protocol</td>\n",
       "      <td>https://atlas.openforestprotocol.org</td>\n",
       "    </tr>\n",
       "    <tr>\n",
       "      <th>1</th>\n",
       "      <td>1.661950e+12</td>\n",
       "      <td>1.661950e+12</td>\n",
       "      <td>NaN</td>\n",
       "      <td>NaN</td>\n",
       "      <td>NaN</td>\n",
       "      <td>NaN</td>\n",
       "      <td>NaN</td>\n",
       "      <td>India</td>\n",
       "      <td>POLYGON ((12.90351 79.4147657, 12.9028381 79.4...</td>\n",
       "      <td>0.265</td>\n",
       "      <td>Hybrid Miyawaki forest</td>\n",
       "      <td>Open Forest protocol</td>\n",
       "      <td>https://atlas.openforestprotocol.org</td>\n",
       "    </tr>\n",
       "    <tr>\n",
       "      <th>2</th>\n",
       "      <td>1.662665e+12</td>\n",
       "      <td>1.662665e+12</td>\n",
       "      <td>NaN</td>\n",
       "      <td>NaN</td>\n",
       "      <td>NaN</td>\n",
       "      <td>NaN</td>\n",
       "      <td>NaN</td>\n",
       "      <td>Guatemala</td>\n",
       "      <td>POLYGON ((16.3655423222412 -89.5362508149241, ...</td>\n",
       "      <td>30.746</td>\n",
       "      <td>We have developed and implemented a decentrali...</td>\n",
       "      <td>Open Forest protocol</td>\n",
       "      <td>https://atlas.openforestprotocol.org</td>\n",
       "    </tr>\n",
       "    <tr>\n",
       "      <th>3</th>\n",
       "      <td>1.659544e+12</td>\n",
       "      <td>1.659544e+12</td>\n",
       "      <td>NaN</td>\n",
       "      <td>NaN</td>\n",
       "      <td>NaN</td>\n",
       "      <td>NaN</td>\n",
       "      <td>NaN</td>\n",
       "      <td>Guatemala</td>\n",
       "      <td>POLYGON ((16.922236 -89.528162, 16.9305151 -89...</td>\n",
       "      <td>29.460</td>\n",
       "      <td>Once a tropical forest landscape, this zone ha...</td>\n",
       "      <td>Open Forest protocol</td>\n",
       "      <td>https://atlas.openforestprotocol.org</td>\n",
       "    </tr>\n",
       "    <tr>\n",
       "      <th>4</th>\n",
       "      <td>1.666284e+12</td>\n",
       "      <td>1.666284e+12</td>\n",
       "      <td>NaN</td>\n",
       "      <td>NaN</td>\n",
       "      <td>NaN</td>\n",
       "      <td>NaN</td>\n",
       "      <td>NaN</td>\n",
       "      <td>Switzerland</td>\n",
       "      <td>POLYGON ((46.578252 6.7209157, 46.5779847 6.72...</td>\n",
       "      <td>0.126</td>\n",
       "      <td>This project is located in the Jorat, a region...</td>\n",
       "      <td>Open Forest protocol</td>\n",
       "      <td>https://atlas.openforestprotocol.org</td>\n",
       "    </tr>\n",
       "  </tbody>\n",
       "</table>\n",
       "</div>"
      ],
      "text/plain": [
       "   site_id_reported  project_id_reported  survival_rate_reported  \\\n",
       "0      1.658929e+12         1.658929e+12                     NaN   \n",
       "1      1.661950e+12         1.661950e+12                     NaN   \n",
       "2      1.662665e+12         1.662665e+12                     NaN   \n",
       "3      1.659544e+12         1.659544e+12                     NaN   \n",
       "4      1.666284e+12         1.666284e+12                     NaN   \n",
       "\n",
       "   species_planted_reported  trees_planted_reported  species_count_reported  \\\n",
       "0                       NaN                     NaN                     NaN   \n",
       "1                       NaN                     NaN                     NaN   \n",
       "2                       NaN                     NaN                     NaN   \n",
       "3                       NaN                     NaN                     NaN   \n",
       "4                       NaN                     NaN                     NaN   \n",
       "\n",
       "   planting_date_reported        country  \\\n",
       "0                     NaN  United States   \n",
       "1                     NaN          India   \n",
       "2                     NaN      Guatemala   \n",
       "3                     NaN      Guatemala   \n",
       "4                     NaN    Switzerland   \n",
       "\n",
       "                                   geometry_reported  site_sqkm  \\\n",
       "0  POLYGON ((30.136472 -97.9555704, 30.1360475 -9...      0.420   \n",
       "1  POLYGON ((12.90351 79.4147657, 12.9028381 79.4...      0.265   \n",
       "2  POLYGON ((16.3655423222412 -89.5362508149241, ...     30.746   \n",
       "3  POLYGON ((16.922236 -89.528162, 16.9305151 -89...     29.460   \n",
       "4  POLYGON ((46.578252 6.7209157, 46.5779847 6.72...      0.126   \n",
       "\n",
       "                                description_reported             host_name  \\\n",
       "0  Juniper Forest is a mixed forest consisting pr...  Open Forest protocol   \n",
       "1                             Hybrid Miyawaki forest  Open Forest protocol   \n",
       "2  We have developed and implemented a decentrali...  Open Forest protocol   \n",
       "3  Once a tropical forest landscape, this zone ha...  Open Forest protocol   \n",
       "4  This project is located in the Jorat, a region...  Open Forest protocol   \n",
       "\n",
       "                                    url  \n",
       "0  https://atlas.openforestprotocol.org  \n",
       "1  https://atlas.openforestprotocol.org  \n",
       "2  https://atlas.openforestprotocol.org  \n",
       "3  https://atlas.openforestprotocol.org  \n",
       "4  https://atlas.openforestprotocol.org  "
      ]
     },
     "execution_count": 192,
     "metadata": {},
     "output_type": "execute_result"
    }
   ],
   "source": [
    "\n",
    "df_ofp[\"country\"] = df_ofp[\"country\"].str.split(\",\").str[-1].str.strip()\n",
    "df_ofp.head()"
   ]
  },
  {
   "cell_type": "code",
   "execution_count": 193,
   "metadata": {},
   "outputs": [
    {
     "name": "stdout",
     "output_type": "stream",
     "text": [
      "<class 'pandas.core.frame.DataFrame'>\n",
      "RangeIndex: 188 entries, 0 to 187\n",
      "Data columns (total 13 columns):\n",
      " #   Column                    Non-Null Count  Dtype  \n",
      "---  ------                    --------------  -----  \n",
      " 0   site_id_reported          99 non-null     float64\n",
      " 1   project_id_reported       99 non-null     float64\n",
      " 2   survival_rate_reported    0 non-null      float64\n",
      " 3   species_planted_reported  0 non-null      float64\n",
      " 4   trees_planted_reported    0 non-null      float64\n",
      " 5   species_count_reported    0 non-null      float64\n",
      " 6   planting_date_reported    0 non-null      float64\n",
      " 7   country                   99 non-null     object \n",
      " 8   geometry_reported         126 non-null    object \n",
      " 9   site_sqkm                 99 non-null     float64\n",
      " 10  description_reported      99 non-null     object \n",
      " 11  host_name                 188 non-null    object \n",
      " 12  url                       188 non-null    object \n",
      "dtypes: float64(8), object(5)\n",
      "memory usage: 19.2+ KB\n"
     ]
    }
   ],
   "source": [
    "df_ofp.info()"
   ]
  },
  {
   "cell_type": "code",
   "execution_count": 15,
   "metadata": {},
   "outputs": [
    {
     "name": "stderr",
     "output_type": "stream",
     "text": [
      "/tmp/ipykernel_1033240/1946029430.py:42: UserWarning: Column names longer than 10 characters will be truncated when saved to ESRI Shapefile.\n",
      "  gdf.to_file(\"/home/idisc02/Forest_Monitoring/input/opf.shp\")\n"
     ]
    }
   ],
   "source": [
    "\n",
    "\n",
    "def load_wkt(wkt_string):\n",
    "    try:\n",
    "        return wkt.loads(wkt_string)\n",
    "    except TypeError:\n",
    "        return wkt_string\n",
    "\n",
    "\n",
    "df_ofp['geometry_reported'] = df_ofp['geometry_reported'].apply(load_wkt)\n",
    "\n",
    "\n",
    "gdf = gpd.GeoDataFrame(df_ofp, geometry='geometry_reported')\n",
    "\n",
    "\n",
    "gdf['geometry_reported'] = gdf['geometry_reported'].apply(lambda geom: geom if geom is not None and geom.is_valid else geom.buffer(0) if geom is not None else None)\n",
    "\n",
    "\n",
    "gdf['geometry_reported'] = gdf['geometry_reported'].simplify(tolerance=0.001, preserve_topology=True)\n",
    "\n",
    "\n",
    "def validate_and_correct_geometry(geom):\n",
    "    if geom is None:\n",
    "        return None\n",
    "    if not geom.is_valid:\n",
    "        geom = geom.buffer(0)\n",
    "   \n",
    "    return geom\n",
    "\n",
    "gdf['geometry_reported'] = gdf['geometry_reported'].apply(validate_and_correct_geometry)\n",
    "\n",
    "gdf.set_crs(\"EPSG:4326\", inplace=True)\n",
    "\n",
    "\n",
    "gdf.to_file(\"/home/idisc02/Forest_Monitoring/input/opf.shp\")"
   ]
  },
  {
   "cell_type": "markdown",
   "metadata": {},
   "source": [
    "#### Komaza verra_Project"
   ]
  },
  {
   "cell_type": "code",
   "execution_count": 194,
   "metadata": {},
   "outputs": [
    {
     "name": "stdout",
     "output_type": "stream",
     "text": [
      "<class 'pandas.core.frame.DataFrame'>\n",
      "RangeIndex: 23197 entries, 0 to 23196\n",
      "Data columns (total 13 columns):\n",
      " #   Column                    Non-Null Count  Dtype  \n",
      "---  ------                    --------------  -----  \n",
      " 0   site_id_reported          23197 non-null  object \n",
      " 1   planting_date_reported    23197 non-null  int64  \n",
      " 2   geometry_reported         23196 non-null  object \n",
      " 3   site_sqkm                 23197 non-null  float64\n",
      " 4   project_id_reported       23197 non-null  object \n",
      " 5   description_reported      0 non-null      float64\n",
      " 6   trees_planted_reported    0 non-null      float64\n",
      " 7   survival_rate_reported    0 non-null      float64\n",
      " 8   species_count_reported    0 non-null      float64\n",
      " 9   species_planted_reported  0 non-null      float64\n",
      " 10  country                   22657 non-null  object \n",
      " 11  host_name                 23197 non-null  object \n",
      " 12  url                       23197 non-null  object \n",
      "dtypes: float64(6), int64(1), object(6)\n",
      "memory usage: 2.3+ MB\n"
     ]
    }
   ],
   "source": [
    "df_komaza=pd.read_csv(\"/home/idisc02/Forest_Monitoring/input/meta_data_CSV_FILES/Komaza.csv\")\n",
    "df_komaza['host_name'] = 'Verra'\n",
    "df_komaza[\"project_id_reported\"]=\"Verra_komaza_1\"\n",
    "df_komaza['url'] = 'https://registry.verra.org/app/projectDetail/CCB/2623'\n",
    "df_komaza.info()"
   ]
  },
  {
   "cell_type": "code",
   "execution_count": 195,
   "metadata": {},
   "outputs": [
    {
     "name": "stdout",
     "output_type": "stream",
     "text": [
      "<class 'pandas.core.frame.DataFrame'>\n",
      "RangeIndex: 23197 entries, 0 to 23196\n",
      "Data columns (total 30 columns):\n",
      " #   Column                            Non-Null Count  Dtype  \n",
      "---  ------                            --------------  -----  \n",
      " 0   Unnamed: 0                        23197 non-null  int64  \n",
      " 1   country                           22657 non-null  object \n",
      " 2   host_name                         23197 non-null  object \n",
      " 3   planting_date_reported            23197 non-null  int64  \n",
      " 4   project_id_reported               23197 non-null  object \n",
      " 5   site_id_reported                  23197 non-null  object \n",
      " 6   site_sqkm                         23197 non-null  float64\n",
      " 7   url                               23197 non-null  object \n",
      " 8   geometry_reported                 23197 non-null  object \n",
      " 9   Top_Three_NDVI_Months             23197 non-null  object \n",
      " 10  description_reported              0 non-null      float64\n",
      " 11  trees_planted_reported            0 non-null      float64\n",
      " 12  survival_rate_reported            0 non-null      float64\n",
      " 13  species_count_reported            0 non-null      float64\n",
      " 14  species_planted_reported          0 non-null      float64\n",
      " 15  built_area                        23197 non-null  float64\n",
      " 16  intersecting_roads_count          23197 non-null  int64  \n",
      " 17  total_road_length_km              23197 non-null  float64\n",
      " 18  loss_pre_5                        23197 non-null  float64\n",
      " 19  loss_post_3                       23197 non-null  float64\n",
      " 20  loss_post_5                       23197 non-null  float64\n",
      " 21  cropland gain from trees          23197 non-null  float64\n",
      " 22  cropland loss to tree             23197 non-null  float64\n",
      " 23  permanent water                   23197 non-null  int64  \n",
      " 24  short vegetation after tree loss  23197 non-null  float64\n",
      " 25  tree_cover_area_2000              23197 non-null  float64\n",
      " 26  tree_cover_area_2005              23197 non-null  float64\n",
      " 27  tree_cover_area_2010              23197 non-null  float64\n",
      " 28  tree_cover_area_2015              23197 non-null  float64\n",
      " 29  tree_cover_area_2020              23197 non-null  float64\n",
      "dtypes: float64(19), int64(4), object(7)\n",
      "memory usage: 5.3+ MB\n"
     ]
    }
   ],
   "source": [
    "df_komaza_2=pd.read_csv(\"/home/idisc02/Forest_Monitoring/input/meta_data_CSV_FILES/With_NDVI/monthly_ndvi_komaza_modified.csv\",encoding='latin-1')\n",
    "df_komaza_2.info()"
   ]
  },
  {
   "cell_type": "markdown",
   "metadata": {},
   "source": [
    "#### TIST data_with_trees_planted"
   ]
  },
  {
   "cell_type": "code",
   "execution_count": 197,
   "metadata": {},
   "outputs": [
    {
     "name": "stdout",
     "output_type": "stream",
     "text": [
      "<class 'pandas.core.frame.DataFrame'>\n",
      "RangeIndex: 11301 entries, 0 to 11300\n",
      "Data columns (total 13 columns):\n",
      " #   Column                    Non-Null Count  Dtype  \n",
      "---  ------                    --------------  -----  \n",
      " 0   project_id_reported       11301 non-null  object \n",
      " 1   site_id_reported          11301 non-null  object \n",
      " 2   geometry_reported         11300 non-null  object \n",
      " 3   planting_date_reported    11056 non-null  object \n",
      " 4   trees_planted_reported    11301 non-null  int64  \n",
      " 5   description_reported      0 non-null      float64\n",
      " 6   survival_rate_reported    0 non-null      float64\n",
      " 7   species_count_reported    0 non-null      float64\n",
      " 8   species_planted_reported  0 non-null      float64\n",
      " 9   site_sqkm                 11055 non-null  float64\n",
      " 10  country                   11301 non-null  object \n",
      " 11  host_name                 11301 non-null  object \n",
      " 12  url                       11301 non-null  object \n",
      "dtypes: float64(5), int64(1), object(7)\n",
      "memory usage: 1.1+ MB\n"
     ]
    }
   ],
   "source": [
    "df_tist=pd.read_csv(\"/home/idisc02/Forest_Monitoring/input/meta_data_CSV_FILES/TIST_Meta.csv\")\n",
    "df_tist['host_name'] = 'TIST'\n",
    "df_tist[\"project_id_reported\"]=\"TIST_1\"\n",
    "df_tist['url'] = 'https://program.tist.org'\n",
    "df_tist.info()"
   ]
  },
  {
   "cell_type": "code",
   "execution_count": 20,
   "metadata": {},
   "outputs": [
    {
     "name": "stdout",
     "output_type": "stream",
     "text": [
      "<class 'pandas.core.frame.DataFrame'>\n",
      "RangeIndex: 11301 entries, 0 to 11300\n",
      "Data columns (total 30 columns):\n",
      " #   Column                            Non-Null Count  Dtype  \n",
      "---  ------                            --------------  -----  \n",
      " 0   Unnamed: 0                        11301 non-null  int64  \n",
      " 1   country                           11301 non-null  object \n",
      " 2   host_name                         11301 non-null  object \n",
      " 3   planting_date_reported            11056 non-null  object \n",
      " 4   project_id_reported               11301 non-null  object \n",
      " 5   site_id_reported                  11301 non-null  object \n",
      " 6   site_sqkm                         11055 non-null  float64\n",
      " 7   trees_planted_reported            11301 non-null  int64  \n",
      " 8   url                               11301 non-null  object \n",
      " 9   geometry_reported                 11301 non-null  object \n",
      " 10  Top_Three_NDVI_Months             11301 non-null  object \n",
      " 11  description_reported              0 non-null      float64\n",
      " 12  survival_rate_reported            0 non-null      float64\n",
      " 13  species_count_reported            0 non-null      float64\n",
      " 14  species_planted_reported          0 non-null      float64\n",
      " 15  built_area                        11301 non-null  float64\n",
      " 16  intersecting_roads_count          11301 non-null  int64  \n",
      " 17  total_road_length_km              11301 non-null  float64\n",
      " 18  loss_pre_5                        11056 non-null  float64\n",
      " 19  loss_post_3                       11056 non-null  float64\n",
      " 20  loss_post_5                       11056 non-null  float64\n",
      " 21  tree_cover_area_2000              11301 non-null  float64\n",
      " 22  tree_cover_area_2005              11301 non-null  float64\n",
      " 23  tree_cover_area_2010              11301 non-null  float64\n",
      " 24  tree_cover_area_2015              11301 non-null  float64\n",
      " 25  tree_cover_area_2020              11301 non-null  float64\n",
      " 26  cropland gain from trees          11301 non-null  float64\n",
      " 27  cropland loss to tree             11301 non-null  float64\n",
      " 28  permanent water                   11301 non-null  float64\n",
      " 29  short vegetation after tree loss  11301 non-null  float64\n",
      "dtypes: float64(19), int64(3), object(8)\n",
      "memory usage: 2.6+ MB\n"
     ]
    }
   ],
   "source": [
    "df_tist_2=pd.read_csv(\"/home/idisc02/Forest_Monitoring/input/meta_data_CSV_FILES/With_NDVI/monthly_ndvi_tist_trees_1.csv\",encoding='latin-1')\n",
    "df_tist_2.info()"
   ]
  },
  {
   "cell_type": "code",
   "execution_count": 198,
   "metadata": {},
   "outputs": [],
   "source": [
    "df_tist_2['host_name'] = 'TIST'\n",
    "df_tist_2['url'] = 'https://program.tist.org'"
   ]
  },
  {
   "cell_type": "code",
   "execution_count": 200,
   "metadata": {},
   "outputs": [
    {
     "data": {
      "text/html": [
       "<div>\n",
       "<style scoped>\n",
       "    .dataframe tbody tr th:only-of-type {\n",
       "        vertical-align: middle;\n",
       "    }\n",
       "\n",
       "    .dataframe tbody tr th {\n",
       "        vertical-align: top;\n",
       "    }\n",
       "\n",
       "    .dataframe thead th {\n",
       "        text-align: right;\n",
       "    }\n",
       "</style>\n",
       "<table border=\"1\" class=\"dataframe\">\n",
       "  <thead>\n",
       "    <tr style=\"text-align: right;\">\n",
       "      <th></th>\n",
       "      <th>Unnamed: 0</th>\n",
       "      <th>country</th>\n",
       "      <th>host_name</th>\n",
       "      <th>planting_date_reported</th>\n",
       "      <th>project_id_reported</th>\n",
       "      <th>site_id_reported</th>\n",
       "      <th>site_sqkm</th>\n",
       "      <th>trees_planted_reported</th>\n",
       "      <th>url</th>\n",
       "      <th>geometry_reported</th>\n",
       "      <th>...</th>\n",
       "      <th>loss_post_5</th>\n",
       "      <th>tree_cover_area_2000</th>\n",
       "      <th>tree_cover_area_2005</th>\n",
       "      <th>tree_cover_area_2010</th>\n",
       "      <th>tree_cover_area_2015</th>\n",
       "      <th>tree_cover_area_2020</th>\n",
       "      <th>cropland gain from trees</th>\n",
       "      <th>cropland loss to tree</th>\n",
       "      <th>permanent water</th>\n",
       "      <th>short vegetation after tree loss</th>\n",
       "    </tr>\n",
       "  </thead>\n",
       "  <tbody>\n",
       "    <tr>\n",
       "      <th>0</th>\n",
       "      <td>0</td>\n",
       "      <td>KE</td>\n",
       "      <td>TIST</td>\n",
       "      <td>2003-01-01</td>\n",
       "      <td>Verra_TIST_1</td>\n",
       "      <td>2008KE160-Christine Gaitia</td>\n",
       "      <td>0.0069</td>\n",
       "      <td>0</td>\n",
       "      <td>https://program.tist.org</td>\n",
       "      <td>{\"type\":\"Polygon\",\"coordinates\":[[[37.71591498...</td>\n",
       "      <td>...</td>\n",
       "      <td>0.00000</td>\n",
       "      <td>0.006955</td>\n",
       "      <td>0.006955</td>\n",
       "      <td>0.006955</td>\n",
       "      <td>0.006955</td>\n",
       "      <td>0.006955</td>\n",
       "      <td>0.0</td>\n",
       "      <td>0.000000</td>\n",
       "      <td>0.0</td>\n",
       "      <td>0.0</td>\n",
       "    </tr>\n",
       "    <tr>\n",
       "      <th>1</th>\n",
       "      <td>1</td>\n",
       "      <td>UG</td>\n",
       "      <td>TIST</td>\n",
       "      <td>2003-01-03</td>\n",
       "      <td>Verra_TIST_1</td>\n",
       "      <td>2007UG264-Kamari Bright</td>\n",
       "      <td>0.0166</td>\n",
       "      <td>0</td>\n",
       "      <td>https://program.tist.org</td>\n",
       "      <td>{\"type\":\"Polygon\",\"coordinates\":[[[29.63509639...</td>\n",
       "      <td>...</td>\n",
       "      <td>0.00000</td>\n",
       "      <td>0.010653</td>\n",
       "      <td>0.010653</td>\n",
       "      <td>0.010653</td>\n",
       "      <td>0.010653</td>\n",
       "      <td>0.010653</td>\n",
       "      <td>0.0</td>\n",
       "      <td>0.000000</td>\n",
       "      <td>0.0</td>\n",
       "      <td>0.0</td>\n",
       "    </tr>\n",
       "    <tr>\n",
       "      <th>2</th>\n",
       "      <td>2</td>\n",
       "      <td>KE</td>\n",
       "      <td>TIST</td>\n",
       "      <td>2009-03-27</td>\n",
       "      <td>Verra_TIST_1</td>\n",
       "      <td>2008KE1515 - Patric kinyua</td>\n",
       "      <td>0.0194</td>\n",
       "      <td>0</td>\n",
       "      <td>https://program.tist.org</td>\n",
       "      <td>{\"type\":\"Polygon\",\"coordinates\":[[[37.63622642...</td>\n",
       "      <td>...</td>\n",
       "      <td>0.00000</td>\n",
       "      <td>0.018847</td>\n",
       "      <td>0.018847</td>\n",
       "      <td>0.018847</td>\n",
       "      <td>0.018847</td>\n",
       "      <td>0.018847</td>\n",
       "      <td>0.0</td>\n",
       "      <td>0.000000</td>\n",
       "      <td>0.0</td>\n",
       "      <td>0.0</td>\n",
       "    </tr>\n",
       "    <tr>\n",
       "      <th>3</th>\n",
       "      <td>3</td>\n",
       "      <td>KE</td>\n",
       "      <td>TIST</td>\n",
       "      <td>2009-04-01</td>\n",
       "      <td>Verra_TIST_1</td>\n",
       "      <td>2006KE200-Hudson J G B</td>\n",
       "      <td>0.0193</td>\n",
       "      <td>0</td>\n",
       "      <td>https://program.tist.org</td>\n",
       "      <td>{\"type\":\"Polygon\",\"coordinates\":[[[37.81311003...</td>\n",
       "      <td>...</td>\n",
       "      <td>0.00000</td>\n",
       "      <td>0.019187</td>\n",
       "      <td>0.019187</td>\n",
       "      <td>0.019187</td>\n",
       "      <td>0.019187</td>\n",
       "      <td>0.019187</td>\n",
       "      <td>0.0</td>\n",
       "      <td>0.000000</td>\n",
       "      <td>0.0</td>\n",
       "      <td>0.0</td>\n",
       "    </tr>\n",
       "    <tr>\n",
       "      <th>4</th>\n",
       "      <td>4</td>\n",
       "      <td>KE</td>\n",
       "      <td>TIST</td>\n",
       "      <td>2009-04-01</td>\n",
       "      <td>Verra_TIST_1</td>\n",
       "      <td>2006KE200-Justus Nguu</td>\n",
       "      <td>0.0257</td>\n",
       "      <td>0</td>\n",
       "      <td>https://program.tist.org</td>\n",
       "      <td>{\"type\":\"Polygon\",\"coordinates\":[[[37.81323486...</td>\n",
       "      <td>...</td>\n",
       "      <td>4099.65366</td>\n",
       "      <td>0.018514</td>\n",
       "      <td>0.020302</td>\n",
       "      <td>0.021196</td>\n",
       "      <td>0.021196</td>\n",
       "      <td>0.025666</td>\n",
       "      <td>0.0</td>\n",
       "      <td>0.007152</td>\n",
       "      <td>0.0</td>\n",
       "      <td>0.0</td>\n",
       "    </tr>\n",
       "  </tbody>\n",
       "</table>\n",
       "<p>5 rows × 30 columns</p>\n",
       "</div>"
      ],
      "text/plain": [
       "   Unnamed: 0 country host_name planting_date_reported project_id_reported  \\\n",
       "0           0      KE      TIST             2003-01-01        Verra_TIST_1   \n",
       "1           1      UG      TIST             2003-01-03        Verra_TIST_1   \n",
       "2           2      KE      TIST             2009-03-27        Verra_TIST_1   \n",
       "3           3      KE      TIST             2009-04-01        Verra_TIST_1   \n",
       "4           4      KE      TIST             2009-04-01        Verra_TIST_1   \n",
       "\n",
       "             site_id_reported  site_sqkm  trees_planted_reported  \\\n",
       "0  2008KE160-Christine Gaitia     0.0069                       0   \n",
       "1     2007UG264-Kamari Bright     0.0166                       0   \n",
       "2  2008KE1515 - Patric kinyua     0.0194                       0   \n",
       "3      2006KE200-Hudson J G B     0.0193                       0   \n",
       "4       2006KE200-Justus Nguu     0.0257                       0   \n",
       "\n",
       "                        url  \\\n",
       "0  https://program.tist.org   \n",
       "1  https://program.tist.org   \n",
       "2  https://program.tist.org   \n",
       "3  https://program.tist.org   \n",
       "4  https://program.tist.org   \n",
       "\n",
       "                                   geometry_reported  ... loss_post_5  \\\n",
       "0  {\"type\":\"Polygon\",\"coordinates\":[[[37.71591498...  ...     0.00000   \n",
       "1  {\"type\":\"Polygon\",\"coordinates\":[[[29.63509639...  ...     0.00000   \n",
       "2  {\"type\":\"Polygon\",\"coordinates\":[[[37.63622642...  ...     0.00000   \n",
       "3  {\"type\":\"Polygon\",\"coordinates\":[[[37.81311003...  ...     0.00000   \n",
       "4  {\"type\":\"Polygon\",\"coordinates\":[[[37.81323486...  ...  4099.65366   \n",
       "\n",
       "   tree_cover_area_2000  tree_cover_area_2005  tree_cover_area_2010  \\\n",
       "0              0.006955              0.006955              0.006955   \n",
       "1              0.010653              0.010653              0.010653   \n",
       "2              0.018847              0.018847              0.018847   \n",
       "3              0.019187              0.019187              0.019187   \n",
       "4              0.018514              0.020302              0.021196   \n",
       "\n",
       "   tree_cover_area_2015  tree_cover_area_2020  cropland gain from trees  \\\n",
       "0              0.006955              0.006955                       0.0   \n",
       "1              0.010653              0.010653                       0.0   \n",
       "2              0.018847              0.018847                       0.0   \n",
       "3              0.019187              0.019187                       0.0   \n",
       "4              0.021196              0.025666                       0.0   \n",
       "\n",
       "   cropland loss to tree  permanent water  short vegetation after tree loss  \n",
       "0               0.000000              0.0                               0.0  \n",
       "1               0.000000              0.0                               0.0  \n",
       "2               0.000000              0.0                               0.0  \n",
       "3               0.000000              0.0                               0.0  \n",
       "4               0.007152              0.0                               0.0  \n",
       "\n",
       "[5 rows x 30 columns]"
      ]
     },
     "execution_count": 200,
     "metadata": {},
     "output_type": "execute_result"
    }
   ],
   "source": [
    "df_tist_2.head()"
   ]
  },
  {
   "cell_type": "markdown",
   "metadata": {},
   "source": [
    "#### TIST data_without_trees_planted"
   ]
  },
  {
   "cell_type": "code",
   "execution_count": 21,
   "metadata": {},
   "outputs": [
    {
     "name": "stdout",
     "output_type": "stream",
     "text": [
      "<class 'pandas.core.frame.DataFrame'>\n",
      "RangeIndex: 13016 entries, 0 to 13015\n",
      "Data columns (total 13 columns):\n",
      " #   Column                    Non-Null Count  Dtype  \n",
      "---  ------                    --------------  -----  \n",
      " 0   project_id_reported       13016 non-null  object \n",
      " 1   site_id_reported          13016 non-null  object \n",
      " 2   geometry_reported         13015 non-null  object \n",
      " 3   country                   13016 non-null  object \n",
      " 4   site_sqkm                 0 non-null      float64\n",
      " 5   description_reported      0 non-null      float64\n",
      " 6   planting_date_reported    0 non-null      float64\n",
      " 7   trees_planted_reported    0 non-null      float64\n",
      " 8   survival_rate_reported    0 non-null      float64\n",
      " 9   species_count_reported    0 non-null      float64\n",
      " 10  species_planted_reported  0 non-null      float64\n",
      " 11  host_name                 13016 non-null  object \n",
      " 12  url                       13016 non-null  object \n",
      "dtypes: float64(7), object(6)\n",
      "memory usage: 1.3+ MB\n"
     ]
    }
   ],
   "source": [
    "df_tist_w=pd.read_csv(\"/home/idisc02/Forest_Monitoring/input/meta_data_CSV_FILES/TIST_Meta_without_trees.csv\")\n",
    "df_tist_w['host_name'] = 'Verra'\n",
    "df_tist_w[\"project_id_reported\"]=\"Verra_TIST_2\"\n",
    "df_tist_w['url'] = 'https://registry.verra.org/app/projectDetail/CCB/2497'\n",
    "df_tist_w.info()"
   ]
  },
  {
   "cell_type": "code",
   "execution_count": 22,
   "metadata": {},
   "outputs": [
    {
     "data": {
      "text/plain": [
       "0        [(-0.889216667, 29.783148333), (-0.889206667, ...\n",
       "1        [(-0.87047, 29.773575), (-0.870471667, 29.7735...\n",
       "2        [(-0.914361667, 29.736043333), (-0.914363333, ...\n",
       "3        [(-0.72825, 29.741006667), (-0.72825, 29.74100...\n",
       "4        [(-0.746265, 29.738493333), (-0.746261667, 29....\n",
       "                               ...                        \n",
       "13011    [(-6.31761, 36.67435), (-6.317613, 36.674348),...\n",
       "13012    [(-6.292317, 36.685297), (-6.292315, 36.685293...\n",
       "13013    [(-6.292292, 36.685515), (-6.292293, 36.685517...\n",
       "13014    [(-6.2911, 36.680987), (-6.291098, 36.680987),...\n",
       "13015    [(-6.294527, 36.684153), (-6.294528, 36.684153...\n",
       "Name: geometry_reported, Length: 13016, dtype: object"
      ]
     },
     "execution_count": 22,
     "metadata": {},
     "output_type": "execute_result"
    }
   ],
   "source": [
    "df_tist_w[\"geometry_reported\"]"
   ]
  },
  {
   "cell_type": "code",
   "execution_count": 115,
   "metadata": {},
   "outputs": [
    {
     "name": "stdout",
     "output_type": "stream",
     "text": [
      "<class 'pandas.core.frame.DataFrame'>\n",
      "RangeIndex: 12993 entries, 0 to 12992\n",
      "Data columns (total 30 columns):\n",
      " #   Column                            Non-Null Count  Dtype  \n",
      "---  ------                            --------------  -----  \n",
      " 0   Unnamed: 0                        12993 non-null  int64  \n",
      " 1   country                           12993 non-null  object \n",
      " 2   host_name                         12993 non-null  object \n",
      " 3   project_id_reported               12993 non-null  object \n",
      " 4   site_id_reported                  12993 non-null  object \n",
      " 5   url                               12993 non-null  object \n",
      " 6   geometry_reported                 12993 non-null  object \n",
      " 7   Top_Three_NDVI_Months             12993 non-null  object \n",
      " 8   site_sqkm                         0 non-null      float64\n",
      " 9   description_reported              0 non-null      float64\n",
      " 10  planting_date_reported            0 non-null      float64\n",
      " 11  trees_planted_reported            0 non-null      float64\n",
      " 12  survival_rate_reported            0 non-null      float64\n",
      " 13  species_count_reported            0 non-null      float64\n",
      " 14  species_planted_reported          0 non-null      float64\n",
      " 15  built_area                        12993 non-null  float64\n",
      " 16  loss_pre_5                        0 non-null      float64\n",
      " 17  loss_post_3                       0 non-null      float64\n",
      " 18  loss_post_5                       0 non-null      float64\n",
      " 19  tree_cover_area_2000              12993 non-null  float64\n",
      " 20  tree_cover_area_2005              12993 non-null  float64\n",
      " 21  tree_cover_area_2010              12993 non-null  float64\n",
      " 22  tree_cover_area_2015              12993 non-null  float64\n",
      " 23  tree_cover_area_2020              12993 non-null  float64\n",
      " 24  cropland gain from trees          12993 non-null  float64\n",
      " 25  cropland loss to tree             12993 non-null  float64\n",
      " 26  permanent water                   12993 non-null  int64  \n",
      " 27  short vegetation after tree loss  12993 non-null  float64\n",
      " 28  intersecting_roads_count          12993 non-null  int64  \n",
      " 29  total_road_length_km              12993 non-null  float64\n",
      "dtypes: float64(20), int64(3), object(7)\n",
      "memory usage: 3.0+ MB\n"
     ]
    }
   ],
   "source": [
    "df_tist_w_2=pd.read_csv(\"/home/idisc02/Forest_Monitoring/input/meta_data_CSV_FILES/With_NDVI/monthly_ndvi_df_tist_w_1 .csv\",encoding='latin-1')\n",
    "df_tist_w_2.info()"
   ]
  },
  {
   "cell_type": "code",
   "execution_count": 116,
   "metadata": {},
   "outputs": [
    {
     "name": "stderr",
     "output_type": "stream",
     "text": [
      "/tmp/ipykernel_1033240/3778931311.py:17: UserWarning:\n",
      "\n",
      "Geometry is in a geographic CRS. Results from 'centroid' are likely incorrect. Use 'GeoSeries.to_crs()' to re-project geometries to a projected CRS before this operation.\n",
      "\n",
      "\n"
     ]
    }
   ],
   "source": [
    "import pandas as pd\n",
    "import geopandas as gpd\n",
    "import json\n",
    "from shapely.geometry import shape\n",
    "from functools import partial\n",
    "import pyproj\n",
    "\n",
    "\n",
    "df_tist_w_2['geometry'] = df_tist_w_2['geometry_reported'].apply(lambda x: shape(json.loads(x)))\n",
    "\n",
    "\n",
    "gdf = gpd.GeoDataFrame(df_tist_w_2, geometry='geometry')\n",
    "\n",
    "gdf.crs = 'EPSG:4326'\n",
    "\n",
    "\n",
    "utm_zone = int((gdf.geometry.centroid.x.mean() + 180) / 6) + 1\n",
    "gdf = gdf.to_crs(f'EPSG:326{utm_zone}')\n",
    "\n",
    "\n",
    "gdf['site_sqkm'] = gdf.geometry.area / 1e6\n",
    "\n",
    "\n",
    "gdf = gdf.to_crs('EPSG:4326')\n",
    "\n",
    "\n",
    "df_tist_w_2['site_sqkm'] = gdf['site_sqkm']"
   ]
  },
  {
   "cell_type": "code",
   "execution_count": 204,
   "metadata": {},
   "outputs": [
    {
     "data": {
      "text/html": [
       "<div>\n",
       "<style scoped>\n",
       "    .dataframe tbody tr th:only-of-type {\n",
       "        vertical-align: middle;\n",
       "    }\n",
       "\n",
       "    .dataframe tbody tr th {\n",
       "        vertical-align: top;\n",
       "    }\n",
       "\n",
       "    .dataframe thead th {\n",
       "        text-align: right;\n",
       "    }\n",
       "</style>\n",
       "<table border=\"1\" class=\"dataframe\">\n",
       "  <thead>\n",
       "    <tr style=\"text-align: right;\">\n",
       "      <th></th>\n",
       "      <th>Unnamed: 0</th>\n",
       "      <th>country</th>\n",
       "      <th>host_name</th>\n",
       "      <th>project_id_reported</th>\n",
       "      <th>site_id_reported</th>\n",
       "      <th>url</th>\n",
       "      <th>geometry_reported</th>\n",
       "      <th>Top_Three_NDVI_Months</th>\n",
       "      <th>site_sqkm</th>\n",
       "      <th>description_reported</th>\n",
       "      <th>...</th>\n",
       "      <th>tree_cover_area_2010</th>\n",
       "      <th>tree_cover_area_2015</th>\n",
       "      <th>tree_cover_area_2020</th>\n",
       "      <th>cropland gain from trees</th>\n",
       "      <th>cropland loss to tree</th>\n",
       "      <th>permanent water</th>\n",
       "      <th>short vegetation after tree loss</th>\n",
       "      <th>intersecting_roads_count</th>\n",
       "      <th>total_road_length_km</th>\n",
       "      <th>geometry</th>\n",
       "    </tr>\n",
       "  </thead>\n",
       "  <tbody>\n",
       "    <tr>\n",
       "      <th>0</th>\n",
       "      <td>0</td>\n",
       "      <td>UG</td>\n",
       "      <td>TIST</td>\n",
       "      <td>Verra_TIST_2</td>\n",
       "      <td>2003UG135-Matayo 02</td>\n",
       "      <td>https://program.tist.org</td>\n",
       "      <td>{\"type\":\"Polygon\",\"coordinates\":[[[29.78216645...</td>\n",
       "      <td>[5, 7, 12]</td>\n",
       "      <td>0.007132</td>\n",
       "      <td>NaN</td>\n",
       "      <td>...</td>\n",
       "      <td>0.007736</td>\n",
       "      <td>0.007736</td>\n",
       "      <td>0.007736</td>\n",
       "      <td>0.0</td>\n",
       "      <td>0.000000</td>\n",
       "      <td>0</td>\n",
       "      <td>0.0</td>\n",
       "      <td>0</td>\n",
       "      <td>0.000000</td>\n",
       "      <td>POLYGON ((29.78216645230925 -0.889358806883859...</td>\n",
       "    </tr>\n",
       "    <tr>\n",
       "      <th>1</th>\n",
       "      <td>1</td>\n",
       "      <td>UG</td>\n",
       "      <td>TIST</td>\n",
       "      <td>Verra_TIST_2</td>\n",
       "      <td>2003UG135-Nalongo</td>\n",
       "      <td>https://program.tist.org</td>\n",
       "      <td>{\"type\":\"Polygon\",\"coordinates\":[[[29.77257499...</td>\n",
       "      <td>[12, 7, 9]</td>\n",
       "      <td>0.003752</td>\n",
       "      <td>NaN</td>\n",
       "      <td>...</td>\n",
       "      <td>0.004561</td>\n",
       "      <td>0.004561</td>\n",
       "      <td>0.004561</td>\n",
       "      <td>0.0</td>\n",
       "      <td>0.000000</td>\n",
       "      <td>0</td>\n",
       "      <td>0.0</td>\n",
       "      <td>2</td>\n",
       "      <td>0.068243</td>\n",
       "      <td>POLYGON ((29.77257499221554 -0.870389759846792...</td>\n",
       "    </tr>\n",
       "    <tr>\n",
       "      <th>2</th>\n",
       "      <td>2</td>\n",
       "      <td>UG</td>\n",
       "      <td>TIST</td>\n",
       "      <td>Verra_TIST_2</td>\n",
       "      <td>2003UG140-Silver 02</td>\n",
       "      <td>https://program.tist.org</td>\n",
       "      <td>{\"type\":\"GeometryCollection\",\"geometries\":[{\"t...</td>\n",
       "      <td>[7, 5, 12]</td>\n",
       "      <td>0.006346</td>\n",
       "      <td>NaN</td>\n",
       "      <td>...</td>\n",
       "      <td>0.005121</td>\n",
       "      <td>0.005121</td>\n",
       "      <td>0.005121</td>\n",
       "      <td>0.0</td>\n",
       "      <td>0.003046</td>\n",
       "      <td>0</td>\n",
       "      <td>0.0</td>\n",
       "      <td>0</td>\n",
       "      <td>0.000000</td>\n",
       "      <td>GEOMETRYCOLLECTION (LINESTRING (29.73604154882...</td>\n",
       "    </tr>\n",
       "    <tr>\n",
       "      <th>3</th>\n",
       "      <td>3</td>\n",
       "      <td>UG</td>\n",
       "      <td>TIST</td>\n",
       "      <td>Verra_TIST_2</td>\n",
       "      <td>2003UG145-Katuisi  01</td>\n",
       "      <td>https://program.tist.org</td>\n",
       "      <td>{\"type\":\"Polygon\",\"coordinates\":[[[29.74066561...</td>\n",
       "      <td>[8, 7, 4]</td>\n",
       "      <td>0.016177</td>\n",
       "      <td>NaN</td>\n",
       "      <td>...</td>\n",
       "      <td>0.005079</td>\n",
       "      <td>0.016497</td>\n",
       "      <td>0.016497</td>\n",
       "      <td>0.0</td>\n",
       "      <td>0.002990</td>\n",
       "      <td>0</td>\n",
       "      <td>0.0</td>\n",
       "      <td>0</td>\n",
       "      <td>0.000000</td>\n",
       "      <td>POLYGON ((29.740665616567036 -0.72729718917371...</td>\n",
       "    </tr>\n",
       "    <tr>\n",
       "      <th>4</th>\n",
       "      <td>4</td>\n",
       "      <td>UG</td>\n",
       "      <td>TIST</td>\n",
       "      <td>Verra_TIST_2</td>\n",
       "      <td>2003UG145-Katusi 02</td>\n",
       "      <td>https://program.tist.org</td>\n",
       "      <td>{\"type\":\"Polygon\",\"coordinates\":[[[29.73843612...</td>\n",
       "      <td>[5, 4, 8]</td>\n",
       "      <td>0.002310</td>\n",
       "      <td>NaN</td>\n",
       "      <td>...</td>\n",
       "      <td>0.003165</td>\n",
       "      <td>0.003165</td>\n",
       "      <td>0.003165</td>\n",
       "      <td>0.0</td>\n",
       "      <td>0.003165</td>\n",
       "      <td>0</td>\n",
       "      <td>0.0</td>\n",
       "      <td>0</td>\n",
       "      <td>0.000000</td>\n",
       "      <td>POLYGON ((29.738436125151622 -0.74629747408401...</td>\n",
       "    </tr>\n",
       "  </tbody>\n",
       "</table>\n",
       "<p>5 rows × 31 columns</p>\n",
       "</div>"
      ],
      "text/plain": [
       "   Unnamed: 0 country host_name project_id_reported       site_id_reported  \\\n",
       "0           0      UG      TIST        Verra_TIST_2    2003UG135-Matayo 02   \n",
       "1           1      UG      TIST        Verra_TIST_2      2003UG135-Nalongo   \n",
       "2           2      UG      TIST        Verra_TIST_2    2003UG140-Silver 02   \n",
       "3           3      UG      TIST        Verra_TIST_2  2003UG145-Katuisi  01   \n",
       "4           4      UG      TIST        Verra_TIST_2    2003UG145-Katusi 02   \n",
       "\n",
       "                        url  \\\n",
       "0  https://program.tist.org   \n",
       "1  https://program.tist.org   \n",
       "2  https://program.tist.org   \n",
       "3  https://program.tist.org   \n",
       "4  https://program.tist.org   \n",
       "\n",
       "                                   geometry_reported Top_Three_NDVI_Months  \\\n",
       "0  {\"type\":\"Polygon\",\"coordinates\":[[[29.78216645...            [5, 7, 12]   \n",
       "1  {\"type\":\"Polygon\",\"coordinates\":[[[29.77257499...            [12, 7, 9]   \n",
       "2  {\"type\":\"GeometryCollection\",\"geometries\":[{\"t...            [7, 5, 12]   \n",
       "3  {\"type\":\"Polygon\",\"coordinates\":[[[29.74066561...             [8, 7, 4]   \n",
       "4  {\"type\":\"Polygon\",\"coordinates\":[[[29.73843612...             [5, 4, 8]   \n",
       "\n",
       "   site_sqkm  description_reported  ...  tree_cover_area_2010  \\\n",
       "0   0.007132                   NaN  ...              0.007736   \n",
       "1   0.003752                   NaN  ...              0.004561   \n",
       "2   0.006346                   NaN  ...              0.005121   \n",
       "3   0.016177                   NaN  ...              0.005079   \n",
       "4   0.002310                   NaN  ...              0.003165   \n",
       "\n",
       "   tree_cover_area_2015  tree_cover_area_2020  cropland gain from trees  \\\n",
       "0              0.007736              0.007736                       0.0   \n",
       "1              0.004561              0.004561                       0.0   \n",
       "2              0.005121              0.005121                       0.0   \n",
       "3              0.016497              0.016497                       0.0   \n",
       "4              0.003165              0.003165                       0.0   \n",
       "\n",
       "   cropland loss to tree  permanent water  short vegetation after tree loss  \\\n",
       "0               0.000000                0                               0.0   \n",
       "1               0.000000                0                               0.0   \n",
       "2               0.003046                0                               0.0   \n",
       "3               0.002990                0                               0.0   \n",
       "4               0.003165                0                               0.0   \n",
       "\n",
       "   intersecting_roads_count  total_road_length_km  \\\n",
       "0                         0              0.000000   \n",
       "1                         2              0.068243   \n",
       "2                         0              0.000000   \n",
       "3                         0              0.000000   \n",
       "4                         0              0.000000   \n",
       "\n",
       "                                            geometry  \n",
       "0  POLYGON ((29.78216645230925 -0.889358806883859...  \n",
       "1  POLYGON ((29.77257499221554 -0.870389759846792...  \n",
       "2  GEOMETRYCOLLECTION (LINESTRING (29.73604154882...  \n",
       "3  POLYGON ((29.740665616567036 -0.72729718917371...  \n",
       "4  POLYGON ((29.738436125151622 -0.74629747408401...  \n",
       "\n",
       "[5 rows x 31 columns]"
      ]
     },
     "execution_count": 204,
     "metadata": {},
     "output_type": "execute_result"
    }
   ],
   "source": [
    "df_tist_w_2['host_name'] = 'TIST'\n",
    "df_tist_w_2['url'] = 'https://program.tist.org'\n",
    "df_tist_w_2.head()"
   ]
  },
  {
   "cell_type": "markdown",
   "metadata": {},
   "source": [
    "#### ASIA_VERRA"
   ]
  },
  {
   "cell_type": "code",
   "execution_count": 24,
   "metadata": {},
   "outputs": [
    {
     "name": "stdout",
     "output_type": "stream",
     "text": [
      "<class 'pandas.core.frame.DataFrame'>\n",
      "RangeIndex: 43628 entries, 0 to 43627\n",
      "Data columns (total 13 columns):\n",
      " #   Column                    Non-Null Count  Dtype  \n",
      "---  ------                    --------------  -----  \n",
      " 0   site_id_reported          43628 non-null  object \n",
      " 1   project_id_reported       43628 non-null  object \n",
      " 2   geometry_reported         43611 non-null  object \n",
      " 3   description_reported      0 non-null      float64\n",
      " 4   planting_date_reported    0 non-null      float64\n",
      " 5   trees_planted_reported    0 non-null      float64\n",
      " 6   survival_rate_reported    0 non-null      float64\n",
      " 7   species_count_reported    0 non-null      float64\n",
      " 8   species_planted_reported  0 non-null      float64\n",
      " 9   country                   43610 non-null  object \n",
      " 10  site_sqkm                 43628 non-null  float64\n",
      " 11  host_name                 43628 non-null  object \n",
      " 12  url                       43628 non-null  object \n",
      "dtypes: float64(7), object(6)\n",
      "memory usage: 4.3+ MB\n"
     ]
    }
   ],
   "source": [
    "df_asia=pd.read_csv(\"/home/idisc02/Forest_Monitoring/input/meta_data_CSV_FILES/concatenated_df_Asia.csv\")\n",
    "df_asia['host_name'] = 'Verra'\n",
    "df_asia[\"site_id_reported\"]=['asi_reforest_site_{}'.format(i+1) for i in range(len(df_asia))]\n",
    "df_asia[\"project_id_reported\"]=\"Verra_Asia_1\"\n",
    "df_asia['url'] = 'https://registry.verra.org/app/projectDetail/CCB/2374'\n",
    "df_asia.info()"
   ]
  },
  {
   "cell_type": "code",
   "execution_count": 205,
   "metadata": {},
   "outputs": [
    {
     "data": {
      "text/html": [
       "<div>\n",
       "<style scoped>\n",
       "    .dataframe tbody tr th:only-of-type {\n",
       "        vertical-align: middle;\n",
       "    }\n",
       "\n",
       "    .dataframe tbody tr th {\n",
       "        vertical-align: top;\n",
       "    }\n",
       "\n",
       "    .dataframe thead th {\n",
       "        text-align: right;\n",
       "    }\n",
       "</style>\n",
       "<table border=\"1\" class=\"dataframe\">\n",
       "  <thead>\n",
       "    <tr style=\"text-align: right;\">\n",
       "      <th></th>\n",
       "      <th>Unnamed: 0</th>\n",
       "      <th>country</th>\n",
       "      <th>host_name</th>\n",
       "      <th>project_id_reported</th>\n",
       "      <th>site_id_reported</th>\n",
       "      <th>site_sqkm</th>\n",
       "      <th>url</th>\n",
       "      <th>geometry_reported</th>\n",
       "      <th>Top_Three_NDVI_Months</th>\n",
       "      <th>description_reported</th>\n",
       "      <th>...</th>\n",
       "      <th>loss_post_5</th>\n",
       "      <th>tree_cover_area_2000</th>\n",
       "      <th>tree_cover_area_2005</th>\n",
       "      <th>tree_cover_area_2010</th>\n",
       "      <th>tree_cover_area_2015</th>\n",
       "      <th>tree_cover_area_2020</th>\n",
       "      <th>cropland gain from trees</th>\n",
       "      <th>cropland loss to tree</th>\n",
       "      <th>permanent water</th>\n",
       "      <th>short vegetation after tree loss</th>\n",
       "    </tr>\n",
       "  </thead>\n",
       "  <tbody>\n",
       "    <tr>\n",
       "      <th>0</th>\n",
       "      <td>0.0</td>\n",
       "      <td>China</td>\n",
       "      <td>TIST</td>\n",
       "      <td>Verra_Asia_1</td>\n",
       "      <td>asi_reforest_site_36990</td>\n",
       "      <td>0.000000e+00</td>\n",
       "      <td>https://program.tist.org</td>\n",
       "      <td>{\"type\":\"Point\",\"coordinates\":[103.06048705575...</td>\n",
       "      <td>[10, 1, 12]</td>\n",
       "      <td>NaN</td>\n",
       "      <td>...</td>\n",
       "      <td>NaN</td>\n",
       "      <td>0.0</td>\n",
       "      <td>0.0</td>\n",
       "      <td>0.0</td>\n",
       "      <td>0.0</td>\n",
       "      <td>0.0</td>\n",
       "      <td>0.0</td>\n",
       "      <td>0.0</td>\n",
       "      <td>0.0</td>\n",
       "      <td>0.0</td>\n",
       "    </tr>\n",
       "    <tr>\n",
       "      <th>1</th>\n",
       "      <td>1.0</td>\n",
       "      <td>China</td>\n",
       "      <td>TIST</td>\n",
       "      <td>Verra_Asia_1</td>\n",
       "      <td>asi_reforest_site_36162</td>\n",
       "      <td>2.610000e-08</td>\n",
       "      <td>https://program.tist.org</td>\n",
       "      <td>{\"type\":\"Point\",\"coordinates\":[104.26699494598...</td>\n",
       "      <td>[8, 9, 7]</td>\n",
       "      <td>NaN</td>\n",
       "      <td>...</td>\n",
       "      <td>NaN</td>\n",
       "      <td>0.0</td>\n",
       "      <td>0.0</td>\n",
       "      <td>0.0</td>\n",
       "      <td>0.0</td>\n",
       "      <td>0.0</td>\n",
       "      <td>0.0</td>\n",
       "      <td>0.0</td>\n",
       "      <td>0.0</td>\n",
       "      <td>0.0</td>\n",
       "    </tr>\n",
       "    <tr>\n",
       "      <th>2</th>\n",
       "      <td>2.0</td>\n",
       "      <td>China</td>\n",
       "      <td>TIST</td>\n",
       "      <td>Verra_Asia_1</td>\n",
       "      <td>asi_reforest_site_35048</td>\n",
       "      <td>5.940000e-08</td>\n",
       "      <td>https://program.tist.org</td>\n",
       "      <td>{\"type\":\"Point\",\"coordinates\":[104.17565472000...</td>\n",
       "      <td>[8, 9, 10]</td>\n",
       "      <td>NaN</td>\n",
       "      <td>...</td>\n",
       "      <td>NaN</td>\n",
       "      <td>0.0</td>\n",
       "      <td>0.0</td>\n",
       "      <td>0.0</td>\n",
       "      <td>0.0</td>\n",
       "      <td>0.0</td>\n",
       "      <td>0.0</td>\n",
       "      <td>0.0</td>\n",
       "      <td>0.0</td>\n",
       "      <td>0.0</td>\n",
       "    </tr>\n",
       "    <tr>\n",
       "      <th>3</th>\n",
       "      <td>3.0</td>\n",
       "      <td>China</td>\n",
       "      <td>TIST</td>\n",
       "      <td>Verra_Asia_1</td>\n",
       "      <td>asi_reforest_site_37329</td>\n",
       "      <td>6.530000e-08</td>\n",
       "      <td>https://program.tist.org</td>\n",
       "      <td>{\"type\":\"Point\",\"coordinates\":[103.00592549526...</td>\n",
       "      <td>[9, 6, 10]</td>\n",
       "      <td>NaN</td>\n",
       "      <td>...</td>\n",
       "      <td>NaN</td>\n",
       "      <td>0.0</td>\n",
       "      <td>0.0</td>\n",
       "      <td>0.0</td>\n",
       "      <td>0.0</td>\n",
       "      <td>0.0</td>\n",
       "      <td>0.0</td>\n",
       "      <td>0.0</td>\n",
       "      <td>0.0</td>\n",
       "      <td>0.0</td>\n",
       "    </tr>\n",
       "    <tr>\n",
       "      <th>4</th>\n",
       "      <td>4.0</td>\n",
       "      <td>China</td>\n",
       "      <td>TIST</td>\n",
       "      <td>Verra_Asia_1</td>\n",
       "      <td>asi_reforest_site_35341</td>\n",
       "      <td>5.330000e-07</td>\n",
       "      <td>https://program.tist.org</td>\n",
       "      <td>{\"type\":\"Point\",\"coordinates\":[104.27221209421...</td>\n",
       "      <td>[8, 9, 10]</td>\n",
       "      <td>NaN</td>\n",
       "      <td>...</td>\n",
       "      <td>NaN</td>\n",
       "      <td>0.0</td>\n",
       "      <td>0.0</td>\n",
       "      <td>0.0</td>\n",
       "      <td>0.0</td>\n",
       "      <td>0.0</td>\n",
       "      <td>0.0</td>\n",
       "      <td>0.0</td>\n",
       "      <td>0.0</td>\n",
       "      <td>0.0</td>\n",
       "    </tr>\n",
       "  </tbody>\n",
       "</table>\n",
       "<p>5 rows × 30 columns</p>\n",
       "</div>"
      ],
      "text/plain": [
       "   Unnamed: 0 country host_name project_id_reported         site_id_reported  \\\n",
       "0         0.0   China      TIST        Verra_Asia_1  asi_reforest_site_36990   \n",
       "1         1.0   China      TIST        Verra_Asia_1  asi_reforest_site_36162   \n",
       "2         2.0   China      TIST        Verra_Asia_1  asi_reforest_site_35048   \n",
       "3         3.0   China      TIST        Verra_Asia_1  asi_reforest_site_37329   \n",
       "4         4.0   China      TIST        Verra_Asia_1  asi_reforest_site_35341   \n",
       "\n",
       "      site_sqkm                       url  \\\n",
       "0  0.000000e+00  https://program.tist.org   \n",
       "1  2.610000e-08  https://program.tist.org   \n",
       "2  5.940000e-08  https://program.tist.org   \n",
       "3  6.530000e-08  https://program.tist.org   \n",
       "4  5.330000e-07  https://program.tist.org   \n",
       "\n",
       "                                   geometry_reported Top_Three_NDVI_Months  \\\n",
       "0  {\"type\":\"Point\",\"coordinates\":[103.06048705575...           [10, 1, 12]   \n",
       "1  {\"type\":\"Point\",\"coordinates\":[104.26699494598...             [8, 9, 7]   \n",
       "2  {\"type\":\"Point\",\"coordinates\":[104.17565472000...            [8, 9, 10]   \n",
       "3  {\"type\":\"Point\",\"coordinates\":[103.00592549526...            [9, 6, 10]   \n",
       "4  {\"type\":\"Point\",\"coordinates\":[104.27221209421...            [8, 9, 10]   \n",
       "\n",
       "   description_reported  ...  loss_post_5  tree_cover_area_2000  \\\n",
       "0                   NaN  ...          NaN                   0.0   \n",
       "1                   NaN  ...          NaN                   0.0   \n",
       "2                   NaN  ...          NaN                   0.0   \n",
       "3                   NaN  ...          NaN                   0.0   \n",
       "4                   NaN  ...          NaN                   0.0   \n",
       "\n",
       "   tree_cover_area_2005  tree_cover_area_2010  tree_cover_area_2015  \\\n",
       "0                   0.0                   0.0                   0.0   \n",
       "1                   0.0                   0.0                   0.0   \n",
       "2                   0.0                   0.0                   0.0   \n",
       "3                   0.0                   0.0                   0.0   \n",
       "4                   0.0                   0.0                   0.0   \n",
       "\n",
       "   tree_cover_area_2020  cropland gain from trees  cropland loss to tree  \\\n",
       "0                   0.0                       0.0                    0.0   \n",
       "1                   0.0                       0.0                    0.0   \n",
       "2                   0.0                       0.0                    0.0   \n",
       "3                   0.0                       0.0                    0.0   \n",
       "4                   0.0                       0.0                    0.0   \n",
       "\n",
       "   permanent water  short vegetation after tree loss  \n",
       "0              0.0                               0.0  \n",
       "1              0.0                               0.0  \n",
       "2              0.0                               0.0  \n",
       "3              0.0                               0.0  \n",
       "4              0.0                               0.0  \n",
       "\n",
       "[5 rows x 30 columns]"
      ]
     },
     "execution_count": 205,
     "metadata": {},
     "output_type": "execute_result"
    }
   ],
   "source": [
    "df_asia_2=pd.read_csv(\"/home/idisc02/Forest_Monitoring/input/meta_data_CSV_FILES/With_NDVI/monthly_ndvi_verra_asia_1.csv\",encoding='latin-1')\n",
    "df_asia_2['host_name'] = 'TIST'\n",
    "df_asia_2['url'] = 'https://program.tist.org'\n",
    "df_asia_2.head()"
   ]
  },
  {
   "cell_type": "markdown",
   "metadata": {},
   "source": [
    "#### VERRA Latin America"
   ]
  },
  {
   "cell_type": "code",
   "execution_count": 26,
   "metadata": {},
   "outputs": [
    {
     "name": "stdout",
     "output_type": "stream",
     "text": [
      "<class 'pandas.core.frame.DataFrame'>\n",
      "RangeIndex: 407 entries, 0 to 406\n",
      "Data columns (total 13 columns):\n",
      " #   Column                    Non-Null Count  Dtype  \n",
      "---  ------                    --------------  -----  \n",
      " 0   geometry_reported         407 non-null    object \n",
      " 1   site_id_reported          407 non-null    object \n",
      " 2   project_id_reported       407 non-null    object \n",
      " 3   description_reported      0 non-null      float64\n",
      " 4   planting_date_reported    0 non-null      float64\n",
      " 5   trees_planted_reported    0 non-null      float64\n",
      " 6   survival_rate_reported    0 non-null      float64\n",
      " 7   species_count_reported    0 non-null      float64\n",
      " 8   species_planted_reported  0 non-null      float64\n",
      " 9   country                   407 non-null    object \n",
      " 10  site_sqkm                 407 non-null    float64\n",
      " 11  host_name                 407 non-null    object \n",
      " 12  url                       407 non-null    object \n",
      "dtypes: float64(7), object(6)\n",
      "memory usage: 41.5+ KB\n"
     ]
    }
   ],
   "source": [
    "df_latin=pd.read_csv(\"/home/idisc02/Forest_Monitoring/input/meta_data_CSV_FILES/concatenated_latin_df.csv\")\n",
    "df_latin['host_name'] = 'Verra'\n",
    "df_latin[\"site_id_reported\"]=['latinA_reforest_site_{}'.format(i+1) for i in range(len(df_latin))]\n",
    "df_latin[\"project_id_reported\"]=\"Verra_Latin_1\"\n",
    "df_latin['url'] = 'https://registry.verra.org/app/projectDetail/CCB/4841'\n",
    "df_latin.info()"
   ]
  },
  {
   "cell_type": "code",
   "execution_count": 27,
   "metadata": {},
   "outputs": [
    {
     "name": "stdout",
     "output_type": "stream",
     "text": [
      "<class 'pandas.core.frame.DataFrame'>\n",
      "RangeIndex: 407 entries, 0 to 406\n",
      "Data columns (total 17 columns):\n",
      " #   Column                    Non-Null Count  Dtype  \n",
      "---  ------                    --------------  -----  \n",
      " 0   country                   407 non-null    object \n",
      " 1   host_name                 407 non-null    object \n",
      " 2   project_id_reported       407 non-null    object \n",
      " 3   site_id_reported          407 non-null    object \n",
      " 4   site_sqkm                 407 non-null    float64\n",
      " 5   url                       407 non-null    object \n",
      " 6   geometry_reported         406 non-null    object \n",
      " 7   Top_Three_NDVI_Months     407 non-null    object \n",
      " 8   description_reported      0 non-null      float64\n",
      " 9   planting_date_reported    0 non-null      float64\n",
      " 10  trees_planted_reported    0 non-null      float64\n",
      " 11  survival_rate_reported    0 non-null      float64\n",
      " 12  species_count_reported    0 non-null      float64\n",
      " 13  species_planted_reported  0 non-null      float64\n",
      " 14  intersecting_roads_count  407 non-null    int64  \n",
      " 15  total_road_length_km      407 non-null    float64\n",
      " 16  built_area                407 non-null    float64\n",
      "dtypes: float64(9), int64(1), object(7)\n",
      "memory usage: 54.2+ KB\n"
     ]
    }
   ],
   "source": [
    "df_latin_2=pd.read_csv(\"/home/idisc02/Forest_Monitoring/input/meta_data_CSV_FILES/With_NDVI/monthly_ndvi_Latin_reshape.csv\",encoding='latin-1')\n",
    "df_latin_2.info()"
   ]
  },
  {
   "cell_type": "markdown",
   "metadata": {},
   "source": [
    "#### TIST other areas projects"
   ]
  },
  {
   "cell_type": "code",
   "execution_count": 28,
   "metadata": {},
   "outputs": [
    {
     "name": "stdout",
     "output_type": "stream",
     "text": [
      "<class 'pandas.core.frame.DataFrame'>\n",
      "RangeIndex: 270 entries, 0 to 269\n",
      "Data columns (total 13 columns):\n",
      " #   Column                    Non-Null Count  Dtype  \n",
      "---  ------                    --------------  -----  \n",
      " 0   geometry_reported         270 non-null    object \n",
      " 1   site_id_reported          270 non-null    int64  \n",
      " 2   species_planted_reported  270 non-null    object \n",
      " 3   planting_date_reported    270 non-null    object \n",
      " 4   project_id_reported       270 non-null    object \n",
      " 5   description_reported      0 non-null      float64\n",
      " 6   trees_planted_reported    0 non-null      float64\n",
      " 7   survival_rate_reported    0 non-null      float64\n",
      " 8   species_count_reported    0 non-null      float64\n",
      " 9   site_sqkm                 270 non-null    float64\n",
      " 10  country                   270 non-null    object \n",
      " 11  host_name                 270 non-null    object \n",
      " 12  url                       270 non-null    object \n",
      "dtypes: float64(5), int64(1), object(7)\n",
      "memory usage: 27.5+ KB\n"
     ]
    }
   ],
   "source": [
    "df_other=pd.read_csv(\"/home/idisc02/Forest_Monitoring/input/meta_data_CSV_FILES/OTHER_verra_projects.csv\")\n",
    "df_other['host_name'] = 'Verra'\n",
    "\n",
    "df_other[\"project_id_reported\"]=\"Verra_TIST_3\"\n",
    "df_other['url'] = 'https://registry.verra.org/app/projectDetail/CCB/2512'\n",
    "df_other.info()\n"
   ]
  },
  {
   "cell_type": "code",
   "execution_count": 207,
   "metadata": {},
   "outputs": [
    {
     "data": {
      "text/html": [
       "<div>\n",
       "<style scoped>\n",
       "    .dataframe tbody tr th:only-of-type {\n",
       "        vertical-align: middle;\n",
       "    }\n",
       "\n",
       "    .dataframe tbody tr th {\n",
       "        vertical-align: top;\n",
       "    }\n",
       "\n",
       "    .dataframe thead th {\n",
       "        text-align: right;\n",
       "    }\n",
       "</style>\n",
       "<table border=\"1\" class=\"dataframe\">\n",
       "  <thead>\n",
       "    <tr style=\"text-align: right;\">\n",
       "      <th></th>\n",
       "      <th>Unnamed: 0</th>\n",
       "      <th>country</th>\n",
       "      <th>host_name</th>\n",
       "      <th>planting_date_reported</th>\n",
       "      <th>project_id_reported</th>\n",
       "      <th>site_id_reported</th>\n",
       "      <th>site_sqkm</th>\n",
       "      <th>species_planted_reported</th>\n",
       "      <th>url</th>\n",
       "      <th>geometry_reported</th>\n",
       "      <th>...</th>\n",
       "      <th>loss_post_5</th>\n",
       "      <th>tree_cover_area_2000</th>\n",
       "      <th>tree_cover_area_2005</th>\n",
       "      <th>tree_cover_area_2010</th>\n",
       "      <th>tree_cover_area_2015</th>\n",
       "      <th>tree_cover_area_2020</th>\n",
       "      <th>cropland gain from trees</th>\n",
       "      <th>cropland loss to tree</th>\n",
       "      <th>permanent water</th>\n",
       "      <th>short vegetation after tree loss</th>\n",
       "    </tr>\n",
       "  </thead>\n",
       "  <tbody>\n",
       "    <tr>\n",
       "      <th>0</th>\n",
       "      <td>0</td>\n",
       "      <td>Colombia</td>\n",
       "      <td>TIST</td>\n",
       "      <td>1899/12/30</td>\n",
       "      <td>Verra_TIST_3</td>\n",
       "      <td>212</td>\n",
       "      <td>0.227341</td>\n",
       "      <td>Acacia mangium</td>\n",
       "      <td>https://program.tist.org</td>\n",
       "      <td>{\"type\":\"Polygon\",\"coordinates\":[[[-68.1702463...</td>\n",
       "      <td>...</td>\n",
       "      <td>NaN</td>\n",
       "      <td>0.017434</td>\n",
       "      <td>0.017434</td>\n",
       "      <td>0.017434</td>\n",
       "      <td>0.017434</td>\n",
       "      <td>0.017434</td>\n",
       "      <td>0</td>\n",
       "      <td>0</td>\n",
       "      <td>0</td>\n",
       "      <td>0</td>\n",
       "    </tr>\n",
       "    <tr>\n",
       "      <th>1</th>\n",
       "      <td>1</td>\n",
       "      <td>Colombia</td>\n",
       "      <td>TIST</td>\n",
       "      <td>1899/12/30</td>\n",
       "      <td>Verra_TIST_3</td>\n",
       "      <td>213</td>\n",
       "      <td>0.088888</td>\n",
       "      <td>Acacia mangium</td>\n",
       "      <td>https://program.tist.org</td>\n",
       "      <td>{\"type\":\"Polygon\",\"coordinates\":[[[-68.1592190...</td>\n",
       "      <td>...</td>\n",
       "      <td>NaN</td>\n",
       "      <td>0.000000</td>\n",
       "      <td>0.000000</td>\n",
       "      <td>0.000000</td>\n",
       "      <td>0.000000</td>\n",
       "      <td>0.000000</td>\n",
       "      <td>0</td>\n",
       "      <td>0</td>\n",
       "      <td>0</td>\n",
       "      <td>0</td>\n",
       "    </tr>\n",
       "    <tr>\n",
       "      <th>2</th>\n",
       "      <td>2</td>\n",
       "      <td>Colombia</td>\n",
       "      <td>TIST</td>\n",
       "      <td>1899/12/30</td>\n",
       "      <td>Verra_TIST_3</td>\n",
       "      <td>214</td>\n",
       "      <td>0.060184</td>\n",
       "      <td>Acacia mangium</td>\n",
       "      <td>https://program.tist.org</td>\n",
       "      <td>{\"type\":\"Polygon\",\"coordinates\":[[[-68.1572972...</td>\n",
       "      <td>...</td>\n",
       "      <td>NaN</td>\n",
       "      <td>0.000000</td>\n",
       "      <td>0.000000</td>\n",
       "      <td>0.000000</td>\n",
       "      <td>0.000000</td>\n",
       "      <td>0.000000</td>\n",
       "      <td>0</td>\n",
       "      <td>0</td>\n",
       "      <td>0</td>\n",
       "      <td>0</td>\n",
       "    </tr>\n",
       "    <tr>\n",
       "      <th>3</th>\n",
       "      <td>3</td>\n",
       "      <td>Colombia</td>\n",
       "      <td>TIST</td>\n",
       "      <td>1899/12/30</td>\n",
       "      <td>Verra_TIST_3</td>\n",
       "      <td>215</td>\n",
       "      <td>0.097155</td>\n",
       "      <td>Acacia mangium</td>\n",
       "      <td>https://program.tist.org</td>\n",
       "      <td>{\"type\":\"Polygon\",\"coordinates\":[[[-68.1553084...</td>\n",
       "      <td>...</td>\n",
       "      <td>NaN</td>\n",
       "      <td>0.000000</td>\n",
       "      <td>0.000000</td>\n",
       "      <td>0.000000</td>\n",
       "      <td>0.000000</td>\n",
       "      <td>0.000000</td>\n",
       "      <td>0</td>\n",
       "      <td>0</td>\n",
       "      <td>0</td>\n",
       "      <td>0</td>\n",
       "    </tr>\n",
       "    <tr>\n",
       "      <th>4</th>\n",
       "      <td>4</td>\n",
       "      <td>Colombia</td>\n",
       "      <td>TIST</td>\n",
       "      <td>1899/12/30</td>\n",
       "      <td>Verra_TIST_3</td>\n",
       "      <td>216</td>\n",
       "      <td>0.096056</td>\n",
       "      <td>Acacia mangium</td>\n",
       "      <td>https://program.tist.org</td>\n",
       "      <td>{\"type\":\"Polygon\",\"coordinates\":[[[-68.1530298...</td>\n",
       "      <td>...</td>\n",
       "      <td>NaN</td>\n",
       "      <td>0.000000</td>\n",
       "      <td>0.000000</td>\n",
       "      <td>0.000000</td>\n",
       "      <td>0.000000</td>\n",
       "      <td>0.000000</td>\n",
       "      <td>0</td>\n",
       "      <td>0</td>\n",
       "      <td>0</td>\n",
       "      <td>0</td>\n",
       "    </tr>\n",
       "  </tbody>\n",
       "</table>\n",
       "<p>5 rows × 30 columns</p>\n",
       "</div>"
      ],
      "text/plain": [
       "   Unnamed: 0   country host_name planting_date_reported project_id_reported  \\\n",
       "0           0  Colombia      TIST             1899/12/30        Verra_TIST_3   \n",
       "1           1  Colombia      TIST             1899/12/30        Verra_TIST_3   \n",
       "2           2  Colombia      TIST             1899/12/30        Verra_TIST_3   \n",
       "3           3  Colombia      TIST             1899/12/30        Verra_TIST_3   \n",
       "4           4  Colombia      TIST             1899/12/30        Verra_TIST_3   \n",
       "\n",
       "   site_id_reported  site_sqkm species_planted_reported  \\\n",
       "0               212   0.227341           Acacia mangium   \n",
       "1               213   0.088888           Acacia mangium   \n",
       "2               214   0.060184           Acacia mangium   \n",
       "3               215   0.097155           Acacia mangium   \n",
       "4               216   0.096056           Acacia mangium   \n",
       "\n",
       "                        url  \\\n",
       "0  https://program.tist.org   \n",
       "1  https://program.tist.org   \n",
       "2  https://program.tist.org   \n",
       "3  https://program.tist.org   \n",
       "4  https://program.tist.org   \n",
       "\n",
       "                                   geometry_reported  ... loss_post_5  \\\n",
       "0  {\"type\":\"Polygon\",\"coordinates\":[[[-68.1702463...  ...         NaN   \n",
       "1  {\"type\":\"Polygon\",\"coordinates\":[[[-68.1592190...  ...         NaN   \n",
       "2  {\"type\":\"Polygon\",\"coordinates\":[[[-68.1572972...  ...         NaN   \n",
       "3  {\"type\":\"Polygon\",\"coordinates\":[[[-68.1553084...  ...         NaN   \n",
       "4  {\"type\":\"Polygon\",\"coordinates\":[[[-68.1530298...  ...         NaN   \n",
       "\n",
       "   tree_cover_area_2000  tree_cover_area_2005  tree_cover_area_2010  \\\n",
       "0              0.017434              0.017434              0.017434   \n",
       "1              0.000000              0.000000              0.000000   \n",
       "2              0.000000              0.000000              0.000000   \n",
       "3              0.000000              0.000000              0.000000   \n",
       "4              0.000000              0.000000              0.000000   \n",
       "\n",
       "   tree_cover_area_2015  tree_cover_area_2020  cropland gain from trees  \\\n",
       "0              0.017434              0.017434                         0   \n",
       "1              0.000000              0.000000                         0   \n",
       "2              0.000000              0.000000                         0   \n",
       "3              0.000000              0.000000                         0   \n",
       "4              0.000000              0.000000                         0   \n",
       "\n",
       "   cropland loss to tree  permanent water  short vegetation after tree loss  \n",
       "0                      0                0                                 0  \n",
       "1                      0                0                                 0  \n",
       "2                      0                0                                 0  \n",
       "3                      0                0                                 0  \n",
       "4                      0                0                                 0  \n",
       "\n",
       "[5 rows x 30 columns]"
      ]
     },
     "execution_count": 207,
     "metadata": {},
     "output_type": "execute_result"
    }
   ],
   "source": [
    "df_other_2=pd.read_csv(\"/home/idisc02/Forest_Monitoring/input/meta_data_CSV_FILES/With_NDVI/monthly_ndvi_verra_other_reshape.csv\",encoding='latin-1')\n",
    "df_other_2['host_name'] = 'TIST'\n",
    "df_other_2['url'] = 'https://program.tist.org'\n",
    "df_other_2.head()"
   ]
  },
  {
   "cell_type": "markdown",
   "metadata": {},
   "source": [
    "#### Restor eco data"
   ]
  },
  {
   "cell_type": "code",
   "execution_count": 30,
   "metadata": {},
   "outputs": [
    {
     "name": "stdout",
     "output_type": "stream",
     "text": [
      "<class 'pandas.core.frame.DataFrame'>\n",
      "RangeIndex: 1540 entries, 0 to 1539\n",
      "Data columns (total 13 columns):\n",
      " #   Column                    Non-Null Count  Dtype  \n",
      "---  ------                    --------------  -----  \n",
      " 0   site_id_reported          1540 non-null   object \n",
      " 1   description_reported      1540 non-null   object \n",
      " 2   geometry_reported         1518 non-null   object \n",
      " 3   site_sqkm                 1540 non-null   float64\n",
      " 4   country                   1540 non-null   object \n",
      " 5   planting_date_reported    1540 non-null   object \n",
      " 6   project_id_reported       0 non-null      float64\n",
      " 7   trees_planted_reported    0 non-null      float64\n",
      " 8   survival_rate_reported    0 non-null      float64\n",
      " 9   species_planted_reported  0 non-null      float64\n",
      " 10  species_count_reported    0 non-null      float64\n",
      " 11  host_name                 1540 non-null   object \n",
      " 12  url                       1540 non-null   object \n",
      "dtypes: float64(6), object(7)\n",
      "memory usage: 156.5+ KB\n"
     ]
    }
   ],
   "source": [
    "df_eco=pd.read_csv(\"/home/idisc02/Forest_Monitoring/input/Restor_Eco/restor_eco.csv\")\n",
    "df_eco['host_name'] = 'Restor Eco'\n",
    "\n",
    "df_eco['url'] = 'https://restor.eco/?lat=26&lng=14.23&zoom=3'\n",
    "df_eco['country'] = df_eco['country'].str.replace(\"'\", \"\")\n",
    "df_eco.info()\n"
   ]
  },
  {
   "cell_type": "markdown",
   "metadata": {},
   "source": []
  },
  {
   "cell_type": "code",
   "execution_count": 219,
   "metadata": {},
   "outputs": [
    {
     "name": "stdout",
     "output_type": "stream",
     "text": [
      "<class 'pandas.core.frame.DataFrame'>\n",
      "RangeIndex: 1518 entries, 0 to 1517\n",
      "Data columns (total 30 columns):\n",
      " #   Column                            Non-Null Count  Dtype  \n",
      "---  ------                            --------------  -----  \n",
      " 0   Unnamed: 0                        1518 non-null   int64  \n",
      " 1   country                           1518 non-null   object \n",
      " 2   description_reported              1518 non-null   object \n",
      " 3   planting_date_reported            1518 non-null   object \n",
      " 4   site_id_reported                  1518 non-null   object \n",
      " 5   site_sqkm                         1518 non-null   object \n",
      " 6   geometry_reported                 1515 non-null   object \n",
      " 7   Top_Three_NDVI_Months             1518 non-null   object \n",
      " 8   project_id_reported               3 non-null      object \n",
      " 9   trees_planted_reported            0 non-null      float64\n",
      " 10  survival_rate_reported            0 non-null      float64\n",
      " 11  species_planted_reported          0 non-null      float64\n",
      " 12  species_count_reported            0 non-null      float64\n",
      " 13  built_area                        1518 non-null   float64\n",
      " 14  loss_pre_5                        728 non-null    float64\n",
      " 15  loss_post_3                       660 non-null    float64\n",
      " 16  loss_post_5                       660 non-null    float64\n",
      " 17  tree_cover_area_2000              1518 non-null   float64\n",
      " 18  tree_cover_area_2005              1518 non-null   float64\n",
      " 19  tree_cover_area_2010              1518 non-null   float64\n",
      " 20  tree_cover_area_2015              1518 non-null   float64\n",
      " 21  tree_cover_area_2020              1518 non-null   float64\n",
      " 22  cropland gain from trees          1518 non-null   float64\n",
      " 23  cropland loss to tree             1518 non-null   float64\n",
      " 24  permanent water                   1518 non-null   float64\n",
      " 25  short vegetation after tree loss  1518 non-null   float64\n",
      " 26  intersecting_roads_count          1518 non-null   int64  \n",
      " 27  total_road_length_km              1518 non-null   float64\n",
      " 28  host_name                         1518 non-null   object \n",
      " 29  url                               1518 non-null   object \n",
      "dtypes: float64(18), int64(2), object(10)\n",
      "memory usage: 355.9+ KB\n"
     ]
    }
   ],
   "source": [
    "df_eco_2=pd.read_csv(\"/home/idisc02/Forest_Monitoring/input/meta_data_CSV_FILES/With_NDVI/monthly_eco_12.csv\",encoding='latin-1')\n",
    "df_eco_2 ['host_name'] = 'Restor Eco'\n",
    "\n",
    "df_eco_2['url'] = 'https://restor.eco/?lat=26&lng=14.23&zoom=3'\n",
    "df_eco_2.info()"
   ]
  },
  {
   "cell_type": "markdown",
   "metadata": {},
   "source": [
    "#### Explorer Data"
   ]
  },
  {
   "cell_type": "code",
   "execution_count": 32,
   "metadata": {},
   "outputs": [
    {
     "data": {
      "text/html": [
       "<div>\n",
       "<style scoped>\n",
       "    .dataframe tbody tr th:only-of-type {\n",
       "        vertical-align: middle;\n",
       "    }\n",
       "\n",
       "    .dataframe tbody tr th {\n",
       "        vertical-align: top;\n",
       "    }\n",
       "\n",
       "    .dataframe thead th {\n",
       "        text-align: right;\n",
       "    }\n",
       "</style>\n",
       "<table border=\"1\" class=\"dataframe\">\n",
       "  <thead>\n",
       "    <tr style=\"text-align: right;\">\n",
       "      <th></th>\n",
       "      <th>project_id_reported</th>\n",
       "      <th>country</th>\n",
       "      <th>planting_date_reported</th>\n",
       "      <th>species_count_reported</th>\n",
       "      <th>species_planted_reported</th>\n",
       "      <th>survival_rate_reported</th>\n",
       "      <th>site_sqkm</th>\n",
       "      <th>trees_planted_reported</th>\n",
       "      <th>site_id_reported</th>\n",
       "      <th>geometry_reported</th>\n",
       "      <th>description_reported</th>\n",
       "      <th>host_name</th>\n",
       "      <th>url</th>\n",
       "    </tr>\n",
       "  </thead>\n",
       "  <tbody>\n",
       "    <tr>\n",
       "      <th>0</th>\n",
       "      <td>NaN</td>\n",
       "      <td>NaN</td>\n",
       "      <td>2020.0</td>\n",
       "      <td>NaN</td>\n",
       "      <td>NaN</td>\n",
       "      <td>NaN</td>\n",
       "      <td>0.0044</td>\n",
       "      <td>9000.0</td>\n",
       "      <td>w54el3pdqr439zna</td>\n",
       "      <td>{'type': 'MultiPolygon', 'coordinates': [[[[19...</td>\n",
       "      <td>In 2020, 9,000 trees were planted on Site J by...</td>\n",
       "      <td>Explorer Land</td>\n",
       "      <td>https://explorer.land/x/projects</td>\n",
       "    </tr>\n",
       "    <tr>\n",
       "      <th>1</th>\n",
       "      <td>NaN</td>\n",
       "      <td>NaN</td>\n",
       "      <td>2019.0</td>\n",
       "      <td>NaN</td>\n",
       "      <td>NaN</td>\n",
       "      <td>NaN</td>\n",
       "      <td>0.0026</td>\n",
       "      <td>12000.0</td>\n",
       "      <td>6b4q7jellm4yn8xd</td>\n",
       "      <td>{'type': 'MultiPolygon', 'coordinates': [[[[19...</td>\n",
       "      <td>In 2019, 9,800 trees were planted on Site I, a...</td>\n",
       "      <td>Explorer Land</td>\n",
       "      <td>https://explorer.land/x/projects</td>\n",
       "    </tr>\n",
       "    <tr>\n",
       "      <th>2</th>\n",
       "      <td>NaN</td>\n",
       "      <td>NaN</td>\n",
       "      <td>2015.0</td>\n",
       "      <td>NaN</td>\n",
       "      <td>NaN</td>\n",
       "      <td>NaN</td>\n",
       "      <td>NaN</td>\n",
       "      <td>8001.0</td>\n",
       "      <td>wzgbdynmmxnjkae0</td>\n",
       "      <td>{'type': 'MultiPolygon', 'coordinates': [[[[19...</td>\n",
       "      <td>In 2015, 8,001 trees were planted on Site E, a...</td>\n",
       "      <td>Explorer Land</td>\n",
       "      <td>https://explorer.land/x/projects</td>\n",
       "    </tr>\n",
       "    <tr>\n",
       "      <th>3</th>\n",
       "      <td>NaN</td>\n",
       "      <td>NaN</td>\n",
       "      <td>2023.0</td>\n",
       "      <td>NaN</td>\n",
       "      <td>NaN</td>\n",
       "      <td>NaN</td>\n",
       "      <td>NaN</td>\n",
       "      <td>2700.0</td>\n",
       "      <td>lmedq3q7ebry97va</td>\n",
       "      <td>{'type': 'MultiPolygon', 'coordinates': [[[[19...</td>\n",
       "      <td>The restoration approach implemented at the Bl...</td>\n",
       "      <td>Explorer Land</td>\n",
       "      <td>https://explorer.land/x/projects</td>\n",
       "    </tr>\n",
       "    <tr>\n",
       "      <th>4</th>\n",
       "      <td>NaN</td>\n",
       "      <td>NaN</td>\n",
       "      <td>NaN</td>\n",
       "      <td>NaN</td>\n",
       "      <td>NaN</td>\n",
       "      <td>NaN</td>\n",
       "      <td>NaN</td>\n",
       "      <td>NaN</td>\n",
       "      <td>q4d7myrlv4lya6kz</td>\n",
       "      <td>{'type': 'MultiPolygon', 'coordinates': [[[[19...</td>\n",
       "      <td>In order to protect the old-growth forest from...</td>\n",
       "      <td>Explorer Land</td>\n",
       "      <td>https://explorer.land/x/projects</td>\n",
       "    </tr>\n",
       "  </tbody>\n",
       "</table>\n",
       "</div>"
      ],
      "text/plain": [
       "   project_id_reported  country  planting_date_reported  \\\n",
       "0                  NaN      NaN                  2020.0   \n",
       "1                  NaN      NaN                  2019.0   \n",
       "2                  NaN      NaN                  2015.0   \n",
       "3                  NaN      NaN                  2023.0   \n",
       "4                  NaN      NaN                     NaN   \n",
       "\n",
       "   species_count_reported  species_planted_reported  survival_rate_reported  \\\n",
       "0                     NaN                       NaN                     NaN   \n",
       "1                     NaN                       NaN                     NaN   \n",
       "2                     NaN                       NaN                     NaN   \n",
       "3                     NaN                       NaN                     NaN   \n",
       "4                     NaN                       NaN                     NaN   \n",
       "\n",
       "   site_sqkm  trees_planted_reported  site_id_reported  \\\n",
       "0     0.0044                  9000.0  w54el3pdqr439zna   \n",
       "1     0.0026                 12000.0  6b4q7jellm4yn8xd   \n",
       "2        NaN                  8001.0  wzgbdynmmxnjkae0   \n",
       "3        NaN                  2700.0  lmedq3q7ebry97va   \n",
       "4        NaN                     NaN  q4d7myrlv4lya6kz   \n",
       "\n",
       "                                   geometry_reported  \\\n",
       "0  {'type': 'MultiPolygon', 'coordinates': [[[[19...   \n",
       "1  {'type': 'MultiPolygon', 'coordinates': [[[[19...   \n",
       "2  {'type': 'MultiPolygon', 'coordinates': [[[[19...   \n",
       "3  {'type': 'MultiPolygon', 'coordinates': [[[[19...   \n",
       "4  {'type': 'MultiPolygon', 'coordinates': [[[[19...   \n",
       "\n",
       "                                description_reported      host_name  \\\n",
       "0  In 2020, 9,000 trees were planted on Site J by...  Explorer Land   \n",
       "1  In 2019, 9,800 trees were planted on Site I, a...  Explorer Land   \n",
       "2  In 2015, 8,001 trees were planted on Site E, a...  Explorer Land   \n",
       "3  The restoration approach implemented at the Bl...  Explorer Land   \n",
       "4  In order to protect the old-growth forest from...  Explorer Land   \n",
       "\n",
       "                                url  \n",
       "0  https://explorer.land/x/projects  \n",
       "1  https://explorer.land/x/projects  \n",
       "2  https://explorer.land/x/projects  \n",
       "3  https://explorer.land/x/projects  \n",
       "4  https://explorer.land/x/projects  "
      ]
     },
     "execution_count": 32,
     "metadata": {},
     "output_type": "execute_result"
    }
   ],
   "source": [
    "df_ex=pd.read_csv(\"/home/idisc02/Forest_Monitoring/input/ExplorerLand/explorer_land.csv\")\n",
    "df_ex['host_name'] = 'Explorer Land'\n",
    "df_ex['url'] = 'https://explorer.land/x/projects'\n",
    "df_ex.head()\n"
   ]
  },
  {
   "cell_type": "code",
   "execution_count": 33,
   "metadata": {},
   "outputs": [
    {
     "data": {
      "text/html": [
       "<div>\n",
       "<style scoped>\n",
       "    .dataframe tbody tr th:only-of-type {\n",
       "        vertical-align: middle;\n",
       "    }\n",
       "\n",
       "    .dataframe tbody tr th {\n",
       "        vertical-align: top;\n",
       "    }\n",
       "\n",
       "    .dataframe thead th {\n",
       "        text-align: right;\n",
       "    }\n",
       "</style>\n",
       "<table border=\"1\" class=\"dataframe\">\n",
       "  <thead>\n",
       "    <tr style=\"text-align: right;\">\n",
       "      <th></th>\n",
       "      <th>project_id_reported</th>\n",
       "      <th>country</th>\n",
       "      <th>planting_date_reported</th>\n",
       "      <th>species_count_reported</th>\n",
       "      <th>species_planted_reported</th>\n",
       "      <th>survival_rate_reported</th>\n",
       "      <th>site_sqkm</th>\n",
       "      <th>trees_planted_reported</th>\n",
       "      <th>site_id_reported</th>\n",
       "      <th>geometry_reported</th>\n",
       "      <th>description_reported</th>\n",
       "      <th>host_name</th>\n",
       "      <th>url</th>\n",
       "    </tr>\n",
       "  </thead>\n",
       "  <tbody>\n",
       "    <tr>\n",
       "      <th>0</th>\n",
       "      <td>NaN</td>\n",
       "      <td>NaN</td>\n",
       "      <td>2020.0</td>\n",
       "      <td>NaN</td>\n",
       "      <td>NaN</td>\n",
       "      <td>NaN</td>\n",
       "      <td>0.0044</td>\n",
       "      <td>9000.0</td>\n",
       "      <td>w54el3pdqr439zna</td>\n",
       "      <td>{'type': 'MultiPolygon', 'coordinates': [[[[19...</td>\n",
       "      <td>In 2020, 9,000 trees were planted on Site J by...</td>\n",
       "      <td>Explorer Land</td>\n",
       "      <td>https://explorer.land/x/projects</td>\n",
       "    </tr>\n",
       "    <tr>\n",
       "      <th>1</th>\n",
       "      <td>NaN</td>\n",
       "      <td>NaN</td>\n",
       "      <td>2019.0</td>\n",
       "      <td>NaN</td>\n",
       "      <td>NaN</td>\n",
       "      <td>NaN</td>\n",
       "      <td>0.0026</td>\n",
       "      <td>12000.0</td>\n",
       "      <td>6b4q7jellm4yn8xd</td>\n",
       "      <td>{'type': 'MultiPolygon', 'coordinates': [[[[19...</td>\n",
       "      <td>In 2019, 9,800 trees were planted on Site I, a...</td>\n",
       "      <td>Explorer Land</td>\n",
       "      <td>https://explorer.land/x/projects</td>\n",
       "    </tr>\n",
       "    <tr>\n",
       "      <th>2</th>\n",
       "      <td>NaN</td>\n",
       "      <td>NaN</td>\n",
       "      <td>2015.0</td>\n",
       "      <td>NaN</td>\n",
       "      <td>NaN</td>\n",
       "      <td>NaN</td>\n",
       "      <td>NaN</td>\n",
       "      <td>8001.0</td>\n",
       "      <td>wzgbdynmmxnjkae0</td>\n",
       "      <td>{'type': 'MultiPolygon', 'coordinates': [[[[19...</td>\n",
       "      <td>In 2015, 8,001 trees were planted on Site E, a...</td>\n",
       "      <td>Explorer Land</td>\n",
       "      <td>https://explorer.land/x/projects</td>\n",
       "    </tr>\n",
       "    <tr>\n",
       "      <th>3</th>\n",
       "      <td>NaN</td>\n",
       "      <td>NaN</td>\n",
       "      <td>2023.0</td>\n",
       "      <td>NaN</td>\n",
       "      <td>NaN</td>\n",
       "      <td>NaN</td>\n",
       "      <td>NaN</td>\n",
       "      <td>2700.0</td>\n",
       "      <td>lmedq3q7ebry97va</td>\n",
       "      <td>{'type': 'MultiPolygon', 'coordinates': [[[[19...</td>\n",
       "      <td>The restoration approach implemented at the Bl...</td>\n",
       "      <td>Explorer Land</td>\n",
       "      <td>https://explorer.land/x/projects</td>\n",
       "    </tr>\n",
       "    <tr>\n",
       "      <th>4</th>\n",
       "      <td>NaN</td>\n",
       "      <td>NaN</td>\n",
       "      <td>NaN</td>\n",
       "      <td>NaN</td>\n",
       "      <td>NaN</td>\n",
       "      <td>NaN</td>\n",
       "      <td>NaN</td>\n",
       "      <td>NaN</td>\n",
       "      <td>q4d7myrlv4lya6kz</td>\n",
       "      <td>{'type': 'MultiPolygon', 'coordinates': [[[[19...</td>\n",
       "      <td>In order to protect the old-growth forest from...</td>\n",
       "      <td>Explorer Land</td>\n",
       "      <td>https://explorer.land/x/projects</td>\n",
       "    </tr>\n",
       "  </tbody>\n",
       "</table>\n",
       "</div>"
      ],
      "text/plain": [
       "   project_id_reported  country  planting_date_reported  \\\n",
       "0                  NaN      NaN                  2020.0   \n",
       "1                  NaN      NaN                  2019.0   \n",
       "2                  NaN      NaN                  2015.0   \n",
       "3                  NaN      NaN                  2023.0   \n",
       "4                  NaN      NaN                     NaN   \n",
       "\n",
       "   species_count_reported  species_planted_reported  survival_rate_reported  \\\n",
       "0                     NaN                       NaN                     NaN   \n",
       "1                     NaN                       NaN                     NaN   \n",
       "2                     NaN                       NaN                     NaN   \n",
       "3                     NaN                       NaN                     NaN   \n",
       "4                     NaN                       NaN                     NaN   \n",
       "\n",
       "   site_sqkm  trees_planted_reported  site_id_reported  \\\n",
       "0     0.0044                  9000.0  w54el3pdqr439zna   \n",
       "1     0.0026                 12000.0  6b4q7jellm4yn8xd   \n",
       "2        NaN                  8001.0  wzgbdynmmxnjkae0   \n",
       "3        NaN                  2700.0  lmedq3q7ebry97va   \n",
       "4        NaN                     NaN  q4d7myrlv4lya6kz   \n",
       "\n",
       "                                   geometry_reported  \\\n",
       "0  {'type': 'MultiPolygon', 'coordinates': [[[[19...   \n",
       "1  {'type': 'MultiPolygon', 'coordinates': [[[[19...   \n",
       "2  {'type': 'MultiPolygon', 'coordinates': [[[[19...   \n",
       "3  {'type': 'MultiPolygon', 'coordinates': [[[[19...   \n",
       "4  {'type': 'MultiPolygon', 'coordinates': [[[[19...   \n",
       "\n",
       "                                description_reported      host_name  \\\n",
       "0  In 2020, 9,000 trees were planted on Site J by...  Explorer Land   \n",
       "1  In 2019, 9,800 trees were planted on Site I, a...  Explorer Land   \n",
       "2  In 2015, 8,001 trees were planted on Site E, a...  Explorer Land   \n",
       "3  The restoration approach implemented at the Bl...  Explorer Land   \n",
       "4  In order to protect the old-growth forest from...  Explorer Land   \n",
       "\n",
       "                                url  \n",
       "0  https://explorer.land/x/projects  \n",
       "1  https://explorer.land/x/projects  \n",
       "2  https://explorer.land/x/projects  \n",
       "3  https://explorer.land/x/projects  \n",
       "4  https://explorer.land/x/projects  "
      ]
     },
     "execution_count": 33,
     "metadata": {},
     "output_type": "execute_result"
    }
   ],
   "source": [
    "df_ex.head(5)"
   ]
  },
  {
   "cell_type": "code",
   "execution_count": 35,
   "metadata": {},
   "outputs": [
    {
     "name": "stdout",
     "output_type": "stream",
     "text": [
      "<class 'pandas.core.frame.DataFrame'>\n",
      "RangeIndex: 530 entries, 0 to 529\n",
      "Data columns (total 30 columns):\n",
      " #   Column                            Non-Null Count  Dtype  \n",
      "---  ------                            --------------  -----  \n",
      " 0   Unnamed: 0                        530 non-null    int64  \n",
      " 1   site_sqkm                         530 non-null    float64\n",
      " 2   country                           0 non-null      float64\n",
      " 3   description_reported              0 non-null      float64\n",
      " 4   host_name                         530 non-null    object \n",
      " 5   planting_date_reported            94 non-null     float64\n",
      " 6   project_id_reported               530 non-null    int64  \n",
      " 7   site_id_reported                  0 non-null      float64\n",
      " 8   trees_planted_reported            94 non-null     float64\n",
      " 9   url                               530 non-null    object \n",
      " 10  geometry_reported                 530 non-null    object \n",
      " 11  Top_Three_NDVI_Months             530 non-null    object \n",
      " 12  survival_rate_reported            0 non-null      float64\n",
      " 13  species_planted_reported          0 non-null      float64\n",
      " 14  species_count_reported            0 non-null      float64\n",
      " 15  intersecting_roads_count          530 non-null    int64  \n",
      " 16  total_road_length_km              530 non-null    float64\n",
      " 17  built_area                        530 non-null    float64\n",
      " 18  loss_pre_5                        0 non-null      float64\n",
      " 19  loss_post_3                       0 non-null      float64\n",
      " 20  loss_post_5                       0 non-null      float64\n",
      " 21  tree_cover_area_2000              530 non-null    float64\n",
      " 22  tree_cover_area_2005              530 non-null    float64\n",
      " 23  tree_cover_area_2010              530 non-null    float64\n",
      " 24  tree_cover_area_2015              530 non-null    float64\n",
      " 25  tree_cover_area_2020              530 non-null    float64\n",
      " 26  cropland gain from trees          530 non-null    int64  \n",
      " 27  cropland loss to tree             530 non-null    int64  \n",
      " 28  permanent water                   530 non-null    float64\n",
      " 29  short vegetation after tree loss  530 non-null    float64\n",
      "dtypes: float64(21), int64(5), object(4)\n",
      "memory usage: 124.3+ KB\n"
     ]
    }
   ],
   "source": [
    "df_ftf_2=pd.read_csv(\"/home/idisc02/Forest_Monitoring/input/meta_data_CSV_FILES/With_NDVI/monthly_ndvi_ftf_reshape.csv\",encoding='latin-1')\n",
    "df_ftf_2.info()"
   ]
  },
  {
   "cell_type": "markdown",
   "metadata": {},
   "source": [
    "### Verra_Aggregated"
   ]
  },
  {
   "cell_type": "code",
   "execution_count": 210,
   "metadata": {},
   "outputs": [
    {
     "name": "stdout",
     "output_type": "stream",
     "text": [
      "<class 'pandas.core.frame.DataFrame'>\n",
      "RangeIndex: 783984 entries, 0 to 783983\n",
      "Data columns (total 30 columns):\n",
      " #   Column                            Non-Null Count   Dtype  \n",
      "---  ------                            --------------   -----  \n",
      " 0   Unnamed: 0                        783984 non-null  int64  \n",
      " 1   site_sqkm                         783984 non-null  float64\n",
      " 2   built_area                        783984 non-null  float64\n",
      " 3   description_reported              0 non-null       float64\n",
      " 4   project_id_reported               783984 non-null  int64  \n",
      " 5   site_id_reported                  783984 non-null  int64  \n",
      " 6   species_count_reported            0 non-null       float64\n",
      " 7   species_planted_reported          0 non-null       float64\n",
      " 8   survival_rate_reported            0 non-null       float64\n",
      " 9   trees_planted_reported            0 non-null       float64\n",
      " 10  geometry_reported                 783984 non-null  object \n",
      " 11  country                           779044 non-null  object \n",
      " 12  planting_date_reported            778492 non-null  object \n",
      " 13  loss_pre_5                        778492 non-null  float64\n",
      " 14  loss_post_3                       761644 non-null  float64\n",
      " 15  loss_post_5                       761644 non-null  float64\n",
      " 16  cropland gain from trees          783984 non-null  float64\n",
      " 17  cropland loss to tree             783984 non-null  float64\n",
      " 18  permanent water                   783984 non-null  float64\n",
      " 19  short vegetation after tree loss  783984 non-null  float64\n",
      " 20  Top_Three_NDVI_Months             783984 non-null  object \n",
      " 21  intersecting_roads_count          783984 non-null  int64  \n",
      " 22  total_road_length_km              783984 non-null  float64\n",
      " 23  tree_cover_area_2020              783984 non-null  float64\n",
      " 24  tree_cover_area_2015              783984 non-null  float64\n",
      " 25  tree_cover_area_2010              783984 non-null  float64\n",
      " 26  tree_cover_area_2005              783984 non-null  float64\n",
      " 27  tree_cover_area_2000              783984 non-null  float64\n",
      " 28  host_name                         783984 non-null  object \n",
      " 29  url                               783984 non-null  object \n",
      "dtypes: float64(20), int64(4), object(6)\n",
      "memory usage: 179.4+ MB\n"
     ]
    }
   ],
   "source": [
    "df_verra=pd.read_csv(\"/home/idisc02/Forest_Monitoring/input/meta_data_CSV_FILES/With_NDVI/verra_aggregaated.csv\")\n",
    "df_verra['host_name'] = 'Verra_Aggregated'\n",
    "df_verra['url'] = 'https://registry.verra.org/app/search/CCB'\n",
    "df_verra.info()"
   ]
  },
  {
   "cell_type": "code",
   "execution_count": 211,
   "metadata": {},
   "outputs": [
    {
     "data": {
      "text/html": [
       "<div>\n",
       "<style scoped>\n",
       "    .dataframe tbody tr th:only-of-type {\n",
       "        vertical-align: middle;\n",
       "    }\n",
       "\n",
       "    .dataframe tbody tr th {\n",
       "        vertical-align: top;\n",
       "    }\n",
       "\n",
       "    .dataframe thead th {\n",
       "        text-align: right;\n",
       "    }\n",
       "</style>\n",
       "<table border=\"1\" class=\"dataframe\">\n",
       "  <thead>\n",
       "    <tr style=\"text-align: right;\">\n",
       "      <th></th>\n",
       "      <th>Unnamed: 0</th>\n",
       "      <th>site_sqkm</th>\n",
       "      <th>built_area</th>\n",
       "      <th>description_reported</th>\n",
       "      <th>project_id_reported</th>\n",
       "      <th>site_id_reported</th>\n",
       "      <th>species_count_reported</th>\n",
       "      <th>species_planted_reported</th>\n",
       "      <th>survival_rate_reported</th>\n",
       "      <th>trees_planted_reported</th>\n",
       "      <th>...</th>\n",
       "      <th>cropland loss to tree</th>\n",
       "      <th>permanent water</th>\n",
       "      <th>short vegetation after tree loss</th>\n",
       "      <th>intersecting_roads_count</th>\n",
       "      <th>total_road_length_km</th>\n",
       "      <th>tree_cover_area_2020</th>\n",
       "      <th>tree_cover_area_2015</th>\n",
       "      <th>tree_cover_area_2010</th>\n",
       "      <th>tree_cover_area_2005</th>\n",
       "      <th>tree_cover_area_2000</th>\n",
       "    </tr>\n",
       "  </thead>\n",
       "  <tbody>\n",
       "    <tr>\n",
       "      <th>count</th>\n",
       "      <td>783984.000000</td>\n",
       "      <td>783984.000000</td>\n",
       "      <td>7.839840e+05</td>\n",
       "      <td>0.0</td>\n",
       "      <td>783984.000000</td>\n",
       "      <td>783984.000000</td>\n",
       "      <td>0.0</td>\n",
       "      <td>0.0</td>\n",
       "      <td>0.0</td>\n",
       "      <td>0.0</td>\n",
       "      <td>...</td>\n",
       "      <td>783984.000000</td>\n",
       "      <td>783984.000000</td>\n",
       "      <td>783984.000000</td>\n",
       "      <td>783984.000000</td>\n",
       "      <td>783984.000000</td>\n",
       "      <td>783984.000000</td>\n",
       "      <td>783984.000000</td>\n",
       "      <td>783984.000000</td>\n",
       "      <td>783984.000000</td>\n",
       "      <td>783984.000000</td>\n",
       "    </tr>\n",
       "    <tr>\n",
       "      <th>mean</th>\n",
       "      <td>391991.500000</td>\n",
       "      <td>0.222344</td>\n",
       "      <td>3.699670e+02</td>\n",
       "      <td>NaN</td>\n",
       "      <td>2848.453958</td>\n",
       "      <td>25598.638387</td>\n",
       "      <td>NaN</td>\n",
       "      <td>NaN</td>\n",
       "      <td>NaN</td>\n",
       "      <td>NaN</td>\n",
       "      <td>...</td>\n",
       "      <td>0.000323</td>\n",
       "      <td>0.001655</td>\n",
       "      <td>0.003064</td>\n",
       "      <td>0.020106</td>\n",
       "      <td>0.027284</td>\n",
       "      <td>0.070197</td>\n",
       "      <td>0.070975</td>\n",
       "      <td>0.070765</td>\n",
       "      <td>0.070541</td>\n",
       "      <td>0.070606</td>\n",
       "    </tr>\n",
       "    <tr>\n",
       "      <th>std</th>\n",
       "      <td>226316.831059</td>\n",
       "      <td>8.270252</td>\n",
       "      <td>3.904627e+04</td>\n",
       "      <td>NaN</td>\n",
       "      <td>871.056926</td>\n",
       "      <td>34038.048453</td>\n",
       "      <td>NaN</td>\n",
       "      <td>NaN</td>\n",
       "      <td>NaN</td>\n",
       "      <td>NaN</td>\n",
       "      <td>...</td>\n",
       "      <td>0.030926</td>\n",
       "      <td>0.264471</td>\n",
       "      <td>0.426606</td>\n",
       "      <td>0.642287</td>\n",
       "      <td>1.929237</td>\n",
       "      <td>3.735422</td>\n",
       "      <td>3.794755</td>\n",
       "      <td>3.834864</td>\n",
       "      <td>3.852992</td>\n",
       "      <td>3.861299</td>\n",
       "    </tr>\n",
       "    <tr>\n",
       "      <th>min</th>\n",
       "      <td>0.000000</td>\n",
       "      <td>0.000000</td>\n",
       "      <td>0.000000e+00</td>\n",
       "      <td>NaN</td>\n",
       "      <td>142.000000</td>\n",
       "      <td>0.000000</td>\n",
       "      <td>NaN</td>\n",
       "      <td>NaN</td>\n",
       "      <td>NaN</td>\n",
       "      <td>NaN</td>\n",
       "      <td>...</td>\n",
       "      <td>0.000000</td>\n",
       "      <td>0.000000</td>\n",
       "      <td>0.000000</td>\n",
       "      <td>0.000000</td>\n",
       "      <td>0.000000</td>\n",
       "      <td>0.000000</td>\n",
       "      <td>0.000000</td>\n",
       "      <td>0.000000</td>\n",
       "      <td>0.000000</td>\n",
       "      <td>0.000000</td>\n",
       "    </tr>\n",
       "    <tr>\n",
       "      <th>25%</th>\n",
       "      <td>195995.750000</td>\n",
       "      <td>0.001207</td>\n",
       "      <td>0.000000e+00</td>\n",
       "      <td>NaN</td>\n",
       "      <td>2391.000000</td>\n",
       "      <td>2172.000000</td>\n",
       "      <td>NaN</td>\n",
       "      <td>NaN</td>\n",
       "      <td>NaN</td>\n",
       "      <td>NaN</td>\n",
       "      <td>...</td>\n",
       "      <td>0.000000</td>\n",
       "      <td>0.000000</td>\n",
       "      <td>0.000000</td>\n",
       "      <td>0.000000</td>\n",
       "      <td>0.000000</td>\n",
       "      <td>0.000000</td>\n",
       "      <td>0.000000</td>\n",
       "      <td>0.000000</td>\n",
       "      <td>0.000000</td>\n",
       "      <td>0.000000</td>\n",
       "    </tr>\n",
       "    <tr>\n",
       "      <th>50%</th>\n",
       "      <td>391991.500000</td>\n",
       "      <td>0.003417</td>\n",
       "      <td>0.000000e+00</td>\n",
       "      <td>NaN</td>\n",
       "      <td>2418.000000</td>\n",
       "      <td>9192.500000</td>\n",
       "      <td>NaN</td>\n",
       "      <td>NaN</td>\n",
       "      <td>NaN</td>\n",
       "      <td>NaN</td>\n",
       "      <td>...</td>\n",
       "      <td>0.000000</td>\n",
       "      <td>0.000000</td>\n",
       "      <td>0.000000</td>\n",
       "      <td>0.000000</td>\n",
       "      <td>0.000000</td>\n",
       "      <td>0.000000</td>\n",
       "      <td>0.000000</td>\n",
       "      <td>0.000000</td>\n",
       "      <td>0.000000</td>\n",
       "      <td>0.000000</td>\n",
       "    </tr>\n",
       "    <tr>\n",
       "      <th>75%</th>\n",
       "      <td>587987.250000</td>\n",
       "      <td>0.014464</td>\n",
       "      <td>0.000000e+00</td>\n",
       "      <td>NaN</td>\n",
       "      <td>3336.000000</td>\n",
       "      <td>35172.000000</td>\n",
       "      <td>NaN</td>\n",
       "      <td>NaN</td>\n",
       "      <td>NaN</td>\n",
       "      <td>NaN</td>\n",
       "      <td>...</td>\n",
       "      <td>0.000000</td>\n",
       "      <td>0.000000</td>\n",
       "      <td>0.000000</td>\n",
       "      <td>0.000000</td>\n",
       "      <td>0.000000</td>\n",
       "      <td>0.000000</td>\n",
       "      <td>0.000000</td>\n",
       "      <td>0.000000</td>\n",
       "      <td>0.000000</td>\n",
       "      <td>0.000000</td>\n",
       "    </tr>\n",
       "    <tr>\n",
       "      <th>max</th>\n",
       "      <td>783983.000000</td>\n",
       "      <td>994.223626</td>\n",
       "      <td>1.465185e+07</td>\n",
       "      <td>NaN</td>\n",
       "      <td>5142.000000</td>\n",
       "      <td>131612.000000</td>\n",
       "      <td>NaN</td>\n",
       "      <td>NaN</td>\n",
       "      <td>NaN</td>\n",
       "      <td>NaN</td>\n",
       "      <td>...</td>\n",
       "      <td>19.533520</td>\n",
       "      <td>130.682855</td>\n",
       "      <td>217.530341</td>\n",
       "      <td>294.000000</td>\n",
       "      <td>625.838605</td>\n",
       "      <td>754.781337</td>\n",
       "      <td>782.583203</td>\n",
       "      <td>798.301808</td>\n",
       "      <td>811.198744</td>\n",
       "      <td>829.397416</td>\n",
       "    </tr>\n",
       "  </tbody>\n",
       "</table>\n",
       "<p>8 rows × 24 columns</p>\n",
       "</div>"
      ],
      "text/plain": [
       "          Unnamed: 0      site_sqkm    built_area  description_reported  \\\n",
       "count  783984.000000  783984.000000  7.839840e+05                   0.0   \n",
       "mean   391991.500000       0.222344  3.699670e+02                   NaN   \n",
       "std    226316.831059       8.270252  3.904627e+04                   NaN   \n",
       "min         0.000000       0.000000  0.000000e+00                   NaN   \n",
       "25%    195995.750000       0.001207  0.000000e+00                   NaN   \n",
       "50%    391991.500000       0.003417  0.000000e+00                   NaN   \n",
       "75%    587987.250000       0.014464  0.000000e+00                   NaN   \n",
       "max    783983.000000     994.223626  1.465185e+07                   NaN   \n",
       "\n",
       "       project_id_reported  site_id_reported  species_count_reported  \\\n",
       "count        783984.000000     783984.000000                     0.0   \n",
       "mean           2848.453958      25598.638387                     NaN   \n",
       "std             871.056926      34038.048453                     NaN   \n",
       "min             142.000000          0.000000                     NaN   \n",
       "25%            2391.000000       2172.000000                     NaN   \n",
       "50%            2418.000000       9192.500000                     NaN   \n",
       "75%            3336.000000      35172.000000                     NaN   \n",
       "max            5142.000000     131612.000000                     NaN   \n",
       "\n",
       "       species_planted_reported  survival_rate_reported  \\\n",
       "count                       0.0                     0.0   \n",
       "mean                        NaN                     NaN   \n",
       "std                         NaN                     NaN   \n",
       "min                         NaN                     NaN   \n",
       "25%                         NaN                     NaN   \n",
       "50%                         NaN                     NaN   \n",
       "75%                         NaN                     NaN   \n",
       "max                         NaN                     NaN   \n",
       "\n",
       "       trees_planted_reported  ...  cropland loss to tree  permanent water  \\\n",
       "count                     0.0  ...          783984.000000    783984.000000   \n",
       "mean                      NaN  ...               0.000323         0.001655   \n",
       "std                       NaN  ...               0.030926         0.264471   \n",
       "min                       NaN  ...               0.000000         0.000000   \n",
       "25%                       NaN  ...               0.000000         0.000000   \n",
       "50%                       NaN  ...               0.000000         0.000000   \n",
       "75%                       NaN  ...               0.000000         0.000000   \n",
       "max                       NaN  ...              19.533520       130.682855   \n",
       "\n",
       "       short vegetation after tree loss  intersecting_roads_count  \\\n",
       "count                     783984.000000             783984.000000   \n",
       "mean                           0.003064                  0.020106   \n",
       "std                            0.426606                  0.642287   \n",
       "min                            0.000000                  0.000000   \n",
       "25%                            0.000000                  0.000000   \n",
       "50%                            0.000000                  0.000000   \n",
       "75%                            0.000000                  0.000000   \n",
       "max                          217.530341                294.000000   \n",
       "\n",
       "       total_road_length_km  tree_cover_area_2020  tree_cover_area_2015  \\\n",
       "count         783984.000000         783984.000000         783984.000000   \n",
       "mean               0.027284              0.070197              0.070975   \n",
       "std                1.929237              3.735422              3.794755   \n",
       "min                0.000000              0.000000              0.000000   \n",
       "25%                0.000000              0.000000              0.000000   \n",
       "50%                0.000000              0.000000              0.000000   \n",
       "75%                0.000000              0.000000              0.000000   \n",
       "max              625.838605            754.781337            782.583203   \n",
       "\n",
       "       tree_cover_area_2010  tree_cover_area_2005  tree_cover_area_2000  \n",
       "count         783984.000000         783984.000000         783984.000000  \n",
       "mean               0.070765              0.070541              0.070606  \n",
       "std                3.834864              3.852992              3.861299  \n",
       "min                0.000000              0.000000              0.000000  \n",
       "25%                0.000000              0.000000              0.000000  \n",
       "50%                0.000000              0.000000              0.000000  \n",
       "75%                0.000000              0.000000              0.000000  \n",
       "max              798.301808            811.198744            829.397416  \n",
       "\n",
       "[8 rows x 24 columns]"
      ]
     },
     "execution_count": 211,
     "metadata": {},
     "output_type": "execute_result"
    }
   ],
   "source": [
    "df_verra.describe()"
   ]
  },
  {
   "cell_type": "code",
   "execution_count": 212,
   "metadata": {},
   "outputs": [
    {
     "name": "stdout",
     "output_type": "stream",
     "text": [
      "174314.04190310527\n"
     ]
    }
   ],
   "source": [
    "\n",
    "df_verra['site_sqkm'] = pd.to_numeric(df_verra['site_sqkm'], errors='coerce')\n",
    "\n",
    "\n",
    "df_verra['site_sqkm'] = df_verra['site_sqkm'].fillna(0)\n",
    "\n",
    "\n",
    "total = df_verra['site_sqkm'].sum()\n",
    "print(total)"
   ]
  },
  {
   "cell_type": "markdown",
   "metadata": {},
   "source": [
    "### Combining the datasets"
   ]
  },
  {
   "cell_type": "code",
   "execution_count": 220,
   "metadata": {},
   "outputs": [],
   "source": [
    "dfs = [df_plant_2,df_nation_2,df_tist_2,df_tist_w_2,df_asia_2,df_other_2,df_eco_2,df_ftf_2,df_verra_2] "
   ]
  },
  {
   "cell_type": "code",
   "execution_count": 221,
   "metadata": {},
   "outputs": [],
   "source": [
    "\n",
    "reference_order = dfs[0].columns.tolist()\n",
    "reordered_dfs = [df[reference_order] for df in dfs]"
   ]
  },
  {
   "cell_type": "code",
   "execution_count": 222,
   "metadata": {},
   "outputs": [
    {
     "name": "stdout",
     "output_type": "stream",
     "text": [
      "<class 'pandas.core.frame.DataFrame'>\n",
      "RangeIndex: 830802 entries, 0 to 830801\n",
      "Data columns (total 30 columns):\n",
      " #   Column                            Non-Null Count   Dtype  \n",
      "---  ------                            --------------   -----  \n",
      " 0   Unnamed: 0                        830784 non-null  float64\n",
      " 1   country                           825442 non-null  object \n",
      " 2   description_reported              2667 non-null    object \n",
      " 3   host_name                         830802 non-null  object \n",
      " 4   planting_date_reported            767909 non-null  object \n",
      " 5   project_id_reported               829269 non-null  object \n",
      " 6   site_id_reported                  830254 non-null  object \n",
      " 7   site_sqkm                         830537 non-null  object \n",
      " 8   survival_rate_reported            530 non-null     float64\n",
      " 9   trees_planted_reported            12546 non-null   float64\n",
      " 10  url                               830802 non-null  object \n",
      " 11  geometry_reported                 830780 non-null  object \n",
      " 12  Top_Three_NDVI_Months             830784 non-null  object \n",
      " 13  species_planted_reported          270 non-null     object \n",
      " 14  species_count_reported            0 non-null       float64\n",
      " 15  built_area                        830784 non-null  float64\n",
      " 16  intersecting_roads_count          830802 non-null  int64  \n",
      " 17  total_road_length_km              830802 non-null  float64\n",
      " 18  loss_pre_5                        766981 non-null  float64\n",
      " 19  loss_post_3                       750454 non-null  float64\n",
      " 20  loss_post_5                       750454 non-null  float64\n",
      " 21  tree_cover_area_2020              830784 non-null  float64\n",
      " 22  tree_cover_area_2015              830784 non-null  float64\n",
      " 23  tree_cover_area_2010              830784 non-null  float64\n",
      " 24  tree_cover_area_2005              830784 non-null  float64\n",
      " 25  tree_cover_area_2000              830784 non-null  float64\n",
      " 26  cropland gain from trees          830784 non-null  float64\n",
      " 27  cropland loss to tree             830784 non-null  float64\n",
      " 28  permanent water                   830784 non-null  float64\n",
      " 29  short vegetation after tree loss  830784 non-null  float64\n",
      "dtypes: float64(18), int64(1), object(11)\n",
      "memory usage: 190.2+ MB\n"
     ]
    }
   ],
   "source": [
    "df_reforestation= pd.concat(reordered_dfs, ignore_index=True)\n",
    "df_reforestation.info()"
   ]
  },
  {
   "cell_type": "markdown",
   "metadata": {},
   "source": [
    "### Filtering only polygon/Multipolygon rows"
   ]
  },
  {
   "cell_type": "code",
   "execution_count": 224,
   "metadata": {},
   "outputs": [
    {
     "name": "stdout",
     "output_type": "stream",
     "text": [
      "<class 'pandas.core.frame.DataFrame'>\n",
      "Index: 799466 entries, 0 to 830801\n",
      "Data columns (total 30 columns):\n",
      " #   Column                            Non-Null Count   Dtype  \n",
      "---  ------                            --------------   -----  \n",
      " 0   Unnamed: 0                        799466 non-null  float64\n",
      " 1   country                           794220 non-null  object \n",
      " 2   description_reported              2486 non-null    object \n",
      " 3   host_name                         799466 non-null  object \n",
      " 4   planting_date_reported            765647 non-null  object \n",
      " 5   project_id_reported               798114 non-null  object \n",
      " 6   site_id_reported                  799031 non-null  object \n",
      " 7   site_sqkm                         799289 non-null  object \n",
      " 8   survival_rate_reported            522 non-null     float64\n",
      " 9   trees_planted_reported            10383 non-null   float64\n",
      " 10  url                               799466 non-null  object \n",
      " 11  geometry_reported                 799466 non-null  object \n",
      " 12  Top_Three_NDVI_Months             799466 non-null  object \n",
      " 13  species_planted_reported          264 non-null     object \n",
      " 14  species_count_reported            0 non-null       float64\n",
      " 15  built_area                        799466 non-null  float64\n",
      " 16  intersecting_roads_count          799466 non-null  int64  \n",
      " 17  total_road_length_km              799466 non-null  float64\n",
      " 18  loss_pre_5                        764761 non-null  float64\n",
      " 19  loss_post_3                       748241 non-null  float64\n",
      " 20  loss_post_5                       748241 non-null  float64\n",
      " 21  tree_cover_area_2020              799466 non-null  float64\n",
      " 22  tree_cover_area_2015              799466 non-null  float64\n",
      " 23  tree_cover_area_2010              799466 non-null  float64\n",
      " 24  tree_cover_area_2005              799466 non-null  float64\n",
      " 25  tree_cover_area_2000              799466 non-null  float64\n",
      " 26  cropland gain from trees          799466 non-null  float64\n",
      " 27  cropland loss to tree             799466 non-null  float64\n",
      " 28  permanent water                   799466 non-null  float64\n",
      " 29  short vegetation after tree loss  799466 non-null  float64\n",
      "dtypes: float64(18), int64(1), object(11)\n",
      "memory usage: 189.1+ MB\n"
     ]
    }
   ],
   "source": [
    "import json\n",
    "\n",
    "def is_polygon_or_multipolygon(geometry):\n",
    "   \n",
    "    if not isinstance(geometry, str):\n",
    "        return False\n",
    "    try:\n",
    "        geometry_dict = json.loads(geometry)\n",
    "      \n",
    "        if isinstance(geometry_dict, dict) and 'type' in geometry_dict:\n",
    "            return geometry_dict['type'] in ['Polygon', 'MultiPolygon']\n",
    "        else:\n",
    "            return False\n",
    "    except json.JSONDecodeError:\n",
    "        return False\n",
    "\n",
    "\n",
    "df_reforestation = df_reforestation[df_reforestation['geometry_reported'].apply(is_polygon_or_multipolygon)]\n",
    "\n",
    "df_reforestation.info()"
   ]
  },
  {
   "cell_type": "markdown",
   "metadata": {},
   "source": [
    "### Filtering only polygons less than 10000kmsq"
   ]
  },
  {
   "cell_type": "code",
   "execution_count": 230,
   "metadata": {},
   "outputs": [
    {
     "name": "stdout",
     "output_type": "stream",
     "text": [
      "<class 'pandas.core.frame.DataFrame'>\n",
      "Index: 799448 entries, 0 to 830801\n",
      "Data columns (total 30 columns):\n",
      " #   Column                            Non-Null Count   Dtype  \n",
      "---  ------                            --------------   -----  \n",
      " 0   Unnamed: 0                        799448 non-null  float64\n",
      " 1   country                           794203 non-null  object \n",
      " 2   description_reported              2468 non-null    object \n",
      " 3   host_name                         799448 non-null  object \n",
      " 4   planting_date_reported            765629 non-null  object \n",
      " 5   project_id_reported               798111 non-null  object \n",
      " 6   site_id_reported                  799013 non-null  object \n",
      " 7   site_sqkm                         799448 non-null  float64\n",
      " 8   survival_rate_reported            522 non-null     float64\n",
      " 9   trees_planted_reported            10380 non-null   float64\n",
      " 10  url                               799448 non-null  object \n",
      " 11  geometry_reported                 799448 non-null  object \n",
      " 12  Top_Three_NDVI_Months             799448 non-null  object \n",
      " 13  species_planted_reported          264 non-null     object \n",
      " 14  species_count_reported            0 non-null       float64\n",
      " 15  built_area                        799448 non-null  float64\n",
      " 16  intersecting_roads_count          799448 non-null  int64  \n",
      " 17  total_road_length_km              799448 non-null  float64\n",
      " 18  loss_pre_5                        764744 non-null  float64\n",
      " 19  loss_post_3                       748225 non-null  float64\n",
      " 20  loss_post_5                       748225 non-null  float64\n",
      " 21  tree_cover_area_2020              799448 non-null  float64\n",
      " 22  tree_cover_area_2015              799448 non-null  float64\n",
      " 23  tree_cover_area_2010              799448 non-null  float64\n",
      " 24  tree_cover_area_2005              799448 non-null  float64\n",
      " 25  tree_cover_area_2000              799448 non-null  float64\n",
      " 26  cropland gain from trees          799448 non-null  float64\n",
      " 27  cropland loss to tree             799448 non-null  float64\n",
      " 28  permanent water                   799448 non-null  float64\n",
      " 29  short vegetation after tree loss  799448 non-null  float64\n",
      "dtypes: float64(19), int64(1), object(10)\n",
      "memory usage: 189.1+ MB\n"
     ]
    }
   ],
   "source": [
    "\n",
    "gdf_filtered = df_reforestation[df_reforestation['site_sqkm'] < 10000]\n",
    "gdf_filtered.info()"
   ]
  },
  {
   "cell_type": "markdown",
   "metadata": {},
   "source": [
    "### Dropping duplicates"
   ]
  },
  {
   "cell_type": "code",
   "execution_count": 232,
   "metadata": {},
   "outputs": [
    {
     "name": "stderr",
     "output_type": "stream",
     "text": [
      "/tmp/ipykernel_1033240/1712958370.py:1: SettingWithCopyWarning:\n",
      "\n",
      "\n",
      "A value is trying to be set on a copy of a slice from a DataFrame\n",
      "\n",
      "See the caveats in the documentation: https://pandas.pydata.org/pandas-docs/stable/user_guide/indexing.html#returning-a-view-versus-a-copy\n",
      "\n"
     ]
    }
   ],
   "source": [
    "gdf_filtered.drop_duplicates('geometry_reported', inplace = True)"
   ]
  },
  {
   "cell_type": "code",
   "execution_count": 233,
   "metadata": {},
   "outputs": [
    {
     "name": "stdout",
     "output_type": "stream",
     "text": [
      "<class 'pandas.core.frame.DataFrame'>\n",
      "Index: 783316 entries, 0 to 830801\n",
      "Data columns (total 30 columns):\n",
      " #   Column                            Non-Null Count   Dtype  \n",
      "---  ------                            --------------   -----  \n",
      " 0   Unnamed: 0                        783316 non-null  float64\n",
      " 1   country                           778081 non-null  object \n",
      " 2   description_reported              2447 non-null    object \n",
      " 3   host_name                         783316 non-null  object \n",
      " 4   planting_date_reported            749563 non-null  object \n",
      " 5   project_id_reported               781982 non-null  object \n",
      " 6   site_id_reported                  782891 non-null  object \n",
      " 7   site_sqkm                         783316 non-null  float64\n",
      " 8   survival_rate_reported            509 non-null     float64\n",
      " 9   trees_planted_reported            9904 non-null    float64\n",
      " 10  url                               783316 non-null  object \n",
      " 11  geometry_reported                 783316 non-null  object \n",
      " 12  Top_Three_NDVI_Months             783316 non-null  object \n",
      " 13  species_planted_reported          264 non-null     object \n",
      " 14  species_count_reported            0 non-null       float64\n",
      " 15  built_area                        783316 non-null  float64\n",
      " 16  intersecting_roads_count          783316 non-null  int64  \n",
      " 17  total_road_length_km              783316 non-null  float64\n",
      " 18  loss_pre_5                        748681 non-null  float64\n",
      " 19  loss_post_3                       732164 non-null  float64\n",
      " 20  loss_post_5                       732164 non-null  float64\n",
      " 21  tree_cover_area_2020              783316 non-null  float64\n",
      " 22  tree_cover_area_2015              783316 non-null  float64\n",
      " 23  tree_cover_area_2010              783316 non-null  float64\n",
      " 24  tree_cover_area_2005              783316 non-null  float64\n",
      " 25  tree_cover_area_2000              783316 non-null  float64\n",
      " 26  cropland gain from trees          783316 non-null  float64\n",
      " 27  cropland loss to tree             783316 non-null  float64\n",
      " 28  permanent water                   783316 non-null  float64\n",
      " 29  short vegetation after tree loss  783316 non-null  float64\n",
      "dtypes: float64(19), int64(1), object(10)\n",
      "memory usage: 185.3+ MB\n"
     ]
    }
   ],
   "source": [
    "gdf_filtered.info()"
   ]
  },
  {
   "cell_type": "markdown",
   "metadata": {},
   "source": [
    "#### Converting all columns to Kmsq unit"
   ]
  },
  {
   "cell_type": "code",
   "execution_count": 235,
   "metadata": {},
   "outputs": [
    {
     "name": "stderr",
     "output_type": "stream",
     "text": [
      "/tmp/ipykernel_1033240/854236438.py:4: SettingWithCopyWarning:\n",
      "\n",
      "\n",
      "A value is trying to be set on a copy of a slice from a DataFrame.\n",
      "Try using .loc[row_indexer,col_indexer] = value instead\n",
      "\n",
      "See the caveats in the documentation: https://pandas.pydata.org/pandas-docs/stable/user_guide/indexing.html#returning-a-view-versus-a-copy\n",
      "\n"
     ]
    },
    {
     "name": "stdout",
     "output_type": "stream",
     "text": [
      "<class 'pandas.core.frame.DataFrame'>\n",
      "Index: 783316 entries, 0 to 830801\n",
      "Data columns (total 30 columns):\n",
      " #   Column                            Non-Null Count   Dtype  \n",
      "---  ------                            --------------   -----  \n",
      " 0   Unnamed: 0                        783316 non-null  float64\n",
      " 1   country                           778081 non-null  object \n",
      " 2   description_reported              2447 non-null    object \n",
      " 3   host_name                         783316 non-null  object \n",
      " 4   planting_date_reported            749563 non-null  object \n",
      " 5   project_id_reported               781982 non-null  object \n",
      " 6   site_id_reported                  782891 non-null  object \n",
      " 7   site_sqkm                         783316 non-null  float64\n",
      " 8   survival_rate_reported            509 non-null     float64\n",
      " 9   trees_planted_reported            9904 non-null    float64\n",
      " 10  url                               783316 non-null  object \n",
      " 11  geometry_reported                 783316 non-null  object \n",
      " 12  Top_Three_NDVI_Months             783316 non-null  object \n",
      " 13  species_planted_reported          264 non-null     object \n",
      " 14  species_count_reported            0 non-null       float64\n",
      " 15  built_area                        783316 non-null  float64\n",
      " 16  intersecting_roads_count          783316 non-null  int64  \n",
      " 17  total_road_length_km              783316 non-null  float64\n",
      " 18  loss_pre_5                        748681 non-null  float64\n",
      " 19  loss_post_3                       732164 non-null  float64\n",
      " 20  loss_post_5                       732164 non-null  float64\n",
      " 21  tree_cover_area_2020              783316 non-null  float64\n",
      " 22  tree_cover_area_2015              783316 non-null  float64\n",
      " 23  tree_cover_area_2010              783316 non-null  float64\n",
      " 24  tree_cover_area_2005              783316 non-null  float64\n",
      " 25  tree_cover_area_2000              783316 non-null  float64\n",
      " 26  cropland gain from trees          783316 non-null  float64\n",
      " 27  cropland loss to tree             783316 non-null  float64\n",
      " 28  permanent water                   783316 non-null  float64\n",
      " 29  short vegetation after tree loss  783316 non-null  float64\n",
      "dtypes: float64(19), int64(1), object(10)\n",
      "memory usage: 185.3+ MB\n"
     ]
    }
   ],
   "source": [
    "\n",
    "columns_to_convert = [\"loss_post_3\", \"loss_post_5\", \"loss_pre_5\", \"built_area\"]\n",
    "for column in columns_to_convert:\n",
    "    gdf_filtered[column] = gdf_filtered[column] / 1_000_000\n",
    "\n",
    "gdf_filtered.info()"
   ]
  },
  {
   "cell_type": "markdown",
   "metadata": {},
   "source": [
    "#### Creating unique site and projects Ids"
   ]
  },
  {
   "cell_type": "code",
   "execution_count": 243,
   "metadata": {},
   "outputs": [
    {
     "name": "stderr",
     "output_type": "stream",
     "text": [
      "/tmp/ipykernel_1033240/1863126977.py:2: SettingWithCopyWarning:\n",
      "\n",
      "\n",
      "A value is trying to be set on a copy of a slice from a DataFrame.\n",
      "Try using .loc[row_indexer,col_indexer] = value instead\n",
      "\n",
      "See the caveats in the documentation: https://pandas.pydata.org/pandas-docs/stable/user_guide/indexing.html#returning-a-view-versus-a-copy\n",
      "\n",
      "/tmp/ipykernel_1033240/1863126977.py:9: SettingWithCopyWarning:\n",
      "\n",
      "\n",
      "A value is trying to be set on a copy of a slice from a DataFrame.\n",
      "Try using .loc[row_indexer,col_indexer] = value instead\n",
      "\n",
      "See the caveats in the documentation: https://pandas.pydata.org/pandas-docs/stable/user_guide/indexing.html#returning-a-view-versus-a-copy\n",
      "\n"
     ]
    }
   ],
   "source": [
    "\n",
    "gdf_filtered['created_site_ids'] = ['reforest_site_{}'.format(i) for i in range(1, len(gdf_filtered) + 1)]\n",
    "\n",
    "\n",
    "unique_project_ids = gdf_filtered['project_id_reported'].unique()\n",
    "project_id_mapping = {id: 'reforest_proj_{}'.format(i) for i, id in enumerate(unique_project_ids, 1)}\n",
    "\n",
    "\n",
    "gdf_filtered['created_project_ids'] = gdf_filtered['project_id_reported'].map(project_id_mapping)"
   ]
  },
  {
   "cell_type": "code",
   "execution_count": 244,
   "metadata": {},
   "outputs": [
    {
     "name": "stderr",
     "output_type": "stream",
     "text": [
      "/tmp/ipykernel_1033240/3327370606.py:1: SettingWithCopyWarning:\n",
      "\n",
      "\n",
      "A value is trying to be set on a copy of a slice from a DataFrame\n",
      "\n",
      "See the caveats in the documentation: https://pandas.pydata.org/pandas-docs/stable/user_guide/indexing.html#returning-a-view-versus-a-copy\n",
      "\n"
     ]
    }
   ],
   "source": [
    "gdf_filtered.drop(columns=['Unnamed: 0'], inplace=True)"
   ]
  },
  {
   "cell_type": "code",
   "execution_count": 248,
   "metadata": {},
   "outputs": [
    {
     "data": {
      "text/html": [
       "<div>\n",
       "<style scoped>\n",
       "    .dataframe tbody tr th:only-of-type {\n",
       "        vertical-align: middle;\n",
       "    }\n",
       "\n",
       "    .dataframe tbody tr th {\n",
       "        vertical-align: top;\n",
       "    }\n",
       "\n",
       "    .dataframe thead th {\n",
       "        text-align: right;\n",
       "    }\n",
       "</style>\n",
       "<table border=\"1\" class=\"dataframe\">\n",
       "  <thead>\n",
       "    <tr style=\"text-align: right;\">\n",
       "      <th></th>\n",
       "      <th>site_sqkm</th>\n",
       "      <th>survival_rate_reported</th>\n",
       "      <th>trees_planted_reported</th>\n",
       "      <th>species_count_reported</th>\n",
       "      <th>built_area</th>\n",
       "      <th>intersecting_roads_count</th>\n",
       "      <th>total_road_length_km</th>\n",
       "      <th>loss_pre_5</th>\n",
       "      <th>loss_post_3</th>\n",
       "      <th>loss_post_5</th>\n",
       "      <th>tree_cover_area_2020</th>\n",
       "      <th>tree_cover_area_2015</th>\n",
       "      <th>tree_cover_area_2010</th>\n",
       "      <th>tree_cover_area_2005</th>\n",
       "      <th>tree_cover_area_2000</th>\n",
       "      <th>cropland gain from trees</th>\n",
       "      <th>cropland loss to tree</th>\n",
       "      <th>permanent water</th>\n",
       "      <th>short vegetation after tree loss</th>\n",
       "    </tr>\n",
       "  </thead>\n",
       "  <tbody>\n",
       "    <tr>\n",
       "      <th>count</th>\n",
       "      <td>783316.000000</td>\n",
       "      <td>509.000000</td>\n",
       "      <td>9.904000e+03</td>\n",
       "      <td>0.0</td>\n",
       "      <td>783316.000000</td>\n",
       "      <td>783316.000000</td>\n",
       "      <td>783316.000000</td>\n",
       "      <td>748681.000000</td>\n",
       "      <td>732164.000000</td>\n",
       "      <td>732164.000000</td>\n",
       "      <td>783316.000000</td>\n",
       "      <td>783316.000000</td>\n",
       "      <td>783316.000000</td>\n",
       "      <td>783316.000000</td>\n",
       "      <td>783316.000000</td>\n",
       "      <td>783316.000000</td>\n",
       "      <td>783316.000000</td>\n",
       "      <td>783316.000000</td>\n",
       "      <td>783316.000000</td>\n",
       "    </tr>\n",
       "    <tr>\n",
       "      <th>mean</th>\n",
       "      <td>0.472155</td>\n",
       "      <td>85.518664</td>\n",
       "      <td>3.070962e+04</td>\n",
       "      <td>NaN</td>\n",
       "      <td>0.000831</td>\n",
       "      <td>0.035077</td>\n",
       "      <td>0.082867</td>\n",
       "      <td>0.001023</td>\n",
       "      <td>0.000755</td>\n",
       "      <td>0.000747</td>\n",
       "      <td>0.148973</td>\n",
       "      <td>0.152329</td>\n",
       "      <td>0.155004</td>\n",
       "      <td>0.155740</td>\n",
       "      <td>0.156679</td>\n",
       "      <td>0.003949</td>\n",
       "      <td>0.000640</td>\n",
       "      <td>0.007466</td>\n",
       "      <td>0.009903</td>\n",
       "    </tr>\n",
       "    <tr>\n",
       "      <th>std</th>\n",
       "      <td>37.623804</td>\n",
       "      <td>9.018908</td>\n",
       "      <td>4.867763e+05</td>\n",
       "      <td>NaN</td>\n",
       "      <td>0.107083</td>\n",
       "      <td>3.538190</td>\n",
       "      <td>9.940376</td>\n",
       "      <td>0.153744</td>\n",
       "      <td>0.146030</td>\n",
       "      <td>0.145661</td>\n",
       "      <td>14.891995</td>\n",
       "      <td>15.244729</td>\n",
       "      <td>15.618812</td>\n",
       "      <td>15.748442</td>\n",
       "      <td>15.825764</td>\n",
       "      <td>0.674029</td>\n",
       "      <td>0.096137</td>\n",
       "      <td>2.717587</td>\n",
       "      <td>1.285626</td>\n",
       "    </tr>\n",
       "    <tr>\n",
       "      <th>min</th>\n",
       "      <td>0.000000</td>\n",
       "      <td>50.000000</td>\n",
       "      <td>0.000000e+00</td>\n",
       "      <td>NaN</td>\n",
       "      <td>0.000000</td>\n",
       "      <td>0.000000</td>\n",
       "      <td>0.000000</td>\n",
       "      <td>0.000000</td>\n",
       "      <td>0.000000</td>\n",
       "      <td>0.000000</td>\n",
       "      <td>0.000000</td>\n",
       "      <td>0.000000</td>\n",
       "      <td>0.000000</td>\n",
       "      <td>0.000000</td>\n",
       "      <td>0.000000</td>\n",
       "      <td>0.000000</td>\n",
       "      <td>0.000000</td>\n",
       "      <td>0.000000</td>\n",
       "      <td>0.000000</td>\n",
       "    </tr>\n",
       "    <tr>\n",
       "      <th>25%</th>\n",
       "      <td>0.001300</td>\n",
       "      <td>80.000000</td>\n",
       "      <td>4.100000e+01</td>\n",
       "      <td>NaN</td>\n",
       "      <td>0.000000</td>\n",
       "      <td>0.000000</td>\n",
       "      <td>0.000000</td>\n",
       "      <td>0.000000</td>\n",
       "      <td>0.000000</td>\n",
       "      <td>0.000000</td>\n",
       "      <td>0.000000</td>\n",
       "      <td>0.000000</td>\n",
       "      <td>0.000000</td>\n",
       "      <td>0.000000</td>\n",
       "      <td>0.000000</td>\n",
       "      <td>0.000000</td>\n",
       "      <td>0.000000</td>\n",
       "      <td>0.000000</td>\n",
       "      <td>0.000000</td>\n",
       "    </tr>\n",
       "    <tr>\n",
       "      <th>50%</th>\n",
       "      <td>0.003745</td>\n",
       "      <td>90.000000</td>\n",
       "      <td>9.500000e+01</td>\n",
       "      <td>NaN</td>\n",
       "      <td>0.000000</td>\n",
       "      <td>0.000000</td>\n",
       "      <td>0.000000</td>\n",
       "      <td>0.000000</td>\n",
       "      <td>0.000000</td>\n",
       "      <td>0.000000</td>\n",
       "      <td>0.000000</td>\n",
       "      <td>0.000000</td>\n",
       "      <td>0.000000</td>\n",
       "      <td>0.000000</td>\n",
       "      <td>0.000000</td>\n",
       "      <td>0.000000</td>\n",
       "      <td>0.000000</td>\n",
       "      <td>0.000000</td>\n",
       "      <td>0.000000</td>\n",
       "    </tr>\n",
       "    <tr>\n",
       "      <th>75%</th>\n",
       "      <td>0.016032</td>\n",
       "      <td>92.000000</td>\n",
       "      <td>2.720000e+02</td>\n",
       "      <td>NaN</td>\n",
       "      <td>0.000000</td>\n",
       "      <td>0.000000</td>\n",
       "      <td>0.000000</td>\n",
       "      <td>0.000000</td>\n",
       "      <td>0.000000</td>\n",
       "      <td>0.000000</td>\n",
       "      <td>0.000049</td>\n",
       "      <td>0.000067</td>\n",
       "      <td>0.000033</td>\n",
       "      <td>0.000000</td>\n",
       "      <td>0.000000</td>\n",
       "      <td>0.000000</td>\n",
       "      <td>0.000000</td>\n",
       "      <td>0.000000</td>\n",
       "      <td>0.000000</td>\n",
       "    </tr>\n",
       "    <tr>\n",
       "      <th>max</th>\n",
       "      <td>9284.127800</td>\n",
       "      <td>100.000000</td>\n",
       "      <td>1.404916e+07</td>\n",
       "      <td>NaN</td>\n",
       "      <td>52.600000</td>\n",
       "      <td>2442.000000</td>\n",
       "      <td>5114.442292</td>\n",
       "      <td>78.874034</td>\n",
       "      <td>111.699111</td>\n",
       "      <td>111.699111</td>\n",
       "      <td>6167.121421</td>\n",
       "      <td>6323.888350</td>\n",
       "      <td>6474.590492</td>\n",
       "      <td>6468.749846</td>\n",
       "      <td>6506.701975</td>\n",
       "      <td>354.867350</td>\n",
       "      <td>64.076854</td>\n",
       "      <td>2164.506321</td>\n",
       "      <td>497.133370</td>\n",
       "    </tr>\n",
       "  </tbody>\n",
       "</table>\n",
       "</div>"
      ],
      "text/plain": [
       "           site_sqkm  survival_rate_reported  trees_planted_reported  \\\n",
       "count  783316.000000              509.000000            9.904000e+03   \n",
       "mean        0.472155               85.518664            3.070962e+04   \n",
       "std        37.623804                9.018908            4.867763e+05   \n",
       "min         0.000000               50.000000            0.000000e+00   \n",
       "25%         0.001300               80.000000            4.100000e+01   \n",
       "50%         0.003745               90.000000            9.500000e+01   \n",
       "75%         0.016032               92.000000            2.720000e+02   \n",
       "max      9284.127800              100.000000            1.404916e+07   \n",
       "\n",
       "       species_count_reported     built_area  intersecting_roads_count  \\\n",
       "count                     0.0  783316.000000             783316.000000   \n",
       "mean                      NaN       0.000831                  0.035077   \n",
       "std                       NaN       0.107083                  3.538190   \n",
       "min                       NaN       0.000000                  0.000000   \n",
       "25%                       NaN       0.000000                  0.000000   \n",
       "50%                       NaN       0.000000                  0.000000   \n",
       "75%                       NaN       0.000000                  0.000000   \n",
       "max                       NaN      52.600000               2442.000000   \n",
       "\n",
       "       total_road_length_km     loss_pre_5    loss_post_3    loss_post_5  \\\n",
       "count         783316.000000  748681.000000  732164.000000  732164.000000   \n",
       "mean               0.082867       0.001023       0.000755       0.000747   \n",
       "std                9.940376       0.153744       0.146030       0.145661   \n",
       "min                0.000000       0.000000       0.000000       0.000000   \n",
       "25%                0.000000       0.000000       0.000000       0.000000   \n",
       "50%                0.000000       0.000000       0.000000       0.000000   \n",
       "75%                0.000000       0.000000       0.000000       0.000000   \n",
       "max             5114.442292      78.874034     111.699111     111.699111   \n",
       "\n",
       "       tree_cover_area_2020  tree_cover_area_2015  tree_cover_area_2010  \\\n",
       "count         783316.000000         783316.000000         783316.000000   \n",
       "mean               0.148973              0.152329              0.155004   \n",
       "std               14.891995             15.244729             15.618812   \n",
       "min                0.000000              0.000000              0.000000   \n",
       "25%                0.000000              0.000000              0.000000   \n",
       "50%                0.000000              0.000000              0.000000   \n",
       "75%                0.000049              0.000067              0.000033   \n",
       "max             6167.121421           6323.888350           6474.590492   \n",
       "\n",
       "       tree_cover_area_2005  tree_cover_area_2000  cropland gain from trees  \\\n",
       "count         783316.000000         783316.000000             783316.000000   \n",
       "mean               0.155740              0.156679                  0.003949   \n",
       "std               15.748442             15.825764                  0.674029   \n",
       "min                0.000000              0.000000                  0.000000   \n",
       "25%                0.000000              0.000000                  0.000000   \n",
       "50%                0.000000              0.000000                  0.000000   \n",
       "75%                0.000000              0.000000                  0.000000   \n",
       "max             6468.749846           6506.701975                354.867350   \n",
       "\n",
       "       cropland loss to tree  permanent water  \\\n",
       "count          783316.000000    783316.000000   \n",
       "mean                0.000640         0.007466   \n",
       "std                 0.096137         2.717587   \n",
       "min                 0.000000         0.000000   \n",
       "25%                 0.000000         0.000000   \n",
       "50%                 0.000000         0.000000   \n",
       "75%                 0.000000         0.000000   \n",
       "max                64.076854      2164.506321   \n",
       "\n",
       "       short vegetation after tree loss  \n",
       "count                     783316.000000  \n",
       "mean                           0.009903  \n",
       "std                            1.285626  \n",
       "min                            0.000000  \n",
       "25%                            0.000000  \n",
       "50%                            0.000000  \n",
       "75%                            0.000000  \n",
       "max                          497.133370  "
      ]
     },
     "execution_count": 248,
     "metadata": {},
     "output_type": "execute_result"
    }
   ],
   "source": [
    "gdf_filtered.describe()"
   ]
  },
  {
   "cell_type": "code",
   "execution_count": 249,
   "metadata": {},
   "outputs": [
    {
     "data": {
      "text/plain": [
       "0           [5, 3, 4]\n",
       "1           [5, 3, 6]\n",
       "2          [4, 8, 12]\n",
       "3          [8, 4, 12]\n",
       "4           [3, 4, 8]\n",
       "             ...     \n",
       "830797      [4, 6, 7]\n",
       "830798      [6, 5, 7]\n",
       "830799      [6, 5, 7]\n",
       "830800     [6, 7, 12]\n",
       "830801    [7, 12, 11]\n",
       "Name: Top_Three_NDVI_Months, Length: 783316, dtype: object"
      ]
     },
     "execution_count": 249,
     "metadata": {},
     "output_type": "execute_result"
    }
   ],
   "source": [
    "gdf_filtered[\"Top_Three_NDVI_Months\"]"
   ]
  },
  {
   "cell_type": "code",
   "execution_count": 251,
   "metadata": {},
   "outputs": [
    {
     "name": "stderr",
     "output_type": "stream",
     "text": [
      "/tmp/ipykernel_1033240/1331611758.py:19: SettingWithCopyWarning:\n",
      "\n",
      "\n",
      "A value is trying to be set on a copy of a slice from a DataFrame.\n",
      "Try using .loc[row_indexer,col_indexer] = value instead\n",
      "\n",
      "See the caveats in the documentation: https://pandas.pydata.org/pandas-docs/stable/user_guide/indexing.html#returning-a-view-versus-a-copy\n",
      "\n",
      "/tmp/ipykernel_1033240/1331611758.py:21: SettingWithCopyWarning:\n",
      "\n",
      "\n",
      "A value is trying to be set on a copy of a slice from a DataFrame.\n",
      "Try using .loc[row_indexer,col_indexer] = value instead\n",
      "\n",
      "See the caveats in the documentation: https://pandas.pydata.org/pandas-docs/stable/user_guide/indexing.html#returning-a-view-versus-a-copy\n",
      "\n"
     ]
    }
   ],
   "source": [
    "\n",
    "\n",
    "def convert_geometry(geo_json):\n",
    "    if pd.isna(geo_json):\n",
    "        return None\n",
    "    if isinstance(geo_json, str):\n",
    "        try:\n",
    "            geo_json = eval(geo_json)\n",
    "        except:\n",
    "            return None\n",
    "    try:\n",
    "        return shape(geo_json)\n",
    "    except:\n",
    "        return None\n",
    "\n",
    "gdf_filtered['Top_Three_NDVI_Months'] = gdf_filtered['Top_Three_NDVI_Months'].apply(lambda x: str(x))\n",
    "\n",
    "gdf_filtered['geometry'] = gdf_filtered['geometry_reported'].apply(convert_geometry)\n",
    "\n",
    "gdf_filtered = gdf_filtered.dropna(subset=['geometry'])\n",
    "\n",
    "gdf_filtered = gpd.GeoDataFrame(gdf_filtered, geometry='geometry')\n",
    "\n",
    "gdf_filtered.to_file(\"df_reforestation.geojson\", driver=\"GeoJSON\")"
   ]
  },
  {
   "cell_type": "code",
   "execution_count": 252,
   "metadata": {},
   "outputs": [],
   "source": [
    "gdf_filtered.to_file(\"df_reforestation.gpkg\", driver=\"GPKG\")"
   ]
  },
  {
   "cell_type": "code",
   "execution_count": 50,
   "metadata": {},
   "outputs": [
    {
     "name": "stderr",
     "output_type": "stream",
     "text": [
      "/tmp/ipykernel_12232/4122514515.py:26: FutureWarning:\n",
      "\n",
      "The geopandas.dataset module is deprecated and will be removed in GeoPandas 1.0. You can get the original 'naturalearth_lowres' data from https://www.naturalearthdata.com/downloads/110m-cultural-vectors/.\n",
      "\n"
     ]
    },
    {
     "data": {
      "application/vnd.plotly.v1+json": {
       "config": {
        "plotlyServerURL": "https://plot.ly"
       },
       "data": [
        {
         "coloraxis": "coloraxis",
         "geo": "geo",
         "hovertemplate": "<b>%{hovertext}</b><br><br>iso_a3=%{location}<br>total_area_km2=%{z}<extra></extra>",
         "hovertext": [
          "Fiji",
          "Tanzania",
          "W. Sahara",
          "Canada",
          "United States of America",
          "Kazakhstan",
          "Uzbekistan",
          "Papua New Guinea",
          "Indonesia",
          "Argentina",
          "Chile",
          "Dem. Rep. Congo",
          "Somalia",
          "Kenya",
          "Sudan",
          "Chad",
          "Haiti",
          "Dominican Rep.",
          "Russia",
          "Bahamas",
          "Falkland Is.",
          "Norway",
          "Greenland",
          "Fr. S. Antarctic Lands",
          "Timor-Leste",
          "South Africa",
          "Lesotho",
          "Mexico",
          "Uruguay",
          "Brazil",
          "Bolivia",
          "Peru",
          "Colombia",
          "Panama",
          "Costa Rica",
          "Nicaragua",
          "Honduras",
          "El Salvador",
          "Guatemala",
          "Belize",
          "Venezuela",
          "Guyana",
          "Suriname",
          "France",
          "Ecuador",
          "Puerto Rico",
          "Jamaica",
          "Cuba",
          "Zimbabwe",
          "Botswana",
          "Namibia",
          "Senegal",
          "Mali",
          "Mauritania",
          "Benin",
          "Niger",
          "Nigeria",
          "Cameroon",
          "Togo",
          "Ghana",
          "Côte d'Ivoire",
          "Guinea",
          "Guinea-Bissau",
          "Liberia",
          "Sierra Leone",
          "Burkina Faso",
          "Central African Rep.",
          "Congo",
          "Gabon",
          "Eq. Guinea",
          "Zambia",
          "Malawi",
          "Mozambique",
          "eSwatini",
          "Angola",
          "Burundi",
          "Israel",
          "Lebanon",
          "Madagascar",
          "Palestine",
          "Gambia",
          "Tunisia",
          "Algeria",
          "Jordan",
          "United Arab Emirates",
          "Qatar",
          "Kuwait",
          "Iraq",
          "Oman",
          "Vanuatu",
          "Cambodia",
          "Thailand",
          "Laos",
          "Myanmar",
          "Vietnam",
          "North Korea",
          "South Korea",
          "Mongolia",
          "India",
          "Bangladesh",
          "Bhutan",
          "Nepal",
          "Pakistan",
          "Afghanistan",
          "Tajikistan",
          "Kyrgyzstan",
          "Turkmenistan",
          "Iran",
          "Syria",
          "Armenia",
          "Sweden",
          "Belarus",
          "Ukraine",
          "Poland",
          "Austria",
          "Hungary",
          "Moldova",
          "Romania",
          "Lithuania",
          "Latvia",
          "Estonia",
          "Germany",
          "Bulgaria",
          "Greece",
          "Turkey",
          "Albania",
          "Croatia",
          "Switzerland",
          "Luxembourg",
          "Belgium",
          "Netherlands",
          "Portugal",
          "Spain",
          "Ireland",
          "New Caledonia",
          "Solomon Is.",
          "New Zealand",
          "Australia",
          "Sri Lanka",
          "China",
          "Taiwan",
          "Italy",
          "Denmark",
          "United Kingdom",
          "Iceland",
          "Azerbaijan",
          "Georgia",
          "Philippines",
          "Malaysia",
          "Brunei",
          "Slovenia",
          "Finland",
          "Slovakia",
          "Czechia",
          "Eritrea",
          "Japan",
          "Paraguay",
          "Yemen",
          "Saudi Arabia",
          "Antarctica",
          "N. Cyprus",
          "Cyprus",
          "Morocco",
          "Egypt",
          "Libya",
          "Ethiopia",
          "Djibouti",
          "Somaliland",
          "Uganda",
          "Rwanda",
          "Bosnia and Herz.",
          "North Macedonia",
          "Serbia",
          "Montenegro",
          "Kosovo",
          "Trinidad and Tobago",
          "S. Sudan"
         ],
         "locations": [
          "FJI",
          "TZA",
          "ESH",
          "CAN",
          "USA",
          "KAZ",
          "UZB",
          "PNG",
          "IDN",
          "ARG",
          "CHL",
          "COD",
          "SOM",
          "KEN",
          "SDN",
          "TCD",
          "HTI",
          "DOM",
          "RUS",
          "BHS",
          "FLK",
          "NOR",
          "GRL",
          "ATF",
          "TLS",
          "ZAF",
          "LSO",
          "MEX",
          "URY",
          "BRA",
          "BOL",
          "PER",
          "COL",
          "PAN",
          "CRI",
          "NIC",
          "HND",
          "SLV",
          "GTM",
          "BLZ",
          "VEN",
          "GUY",
          "SUR",
          "FRA",
          "ECU",
          "PRI",
          "JAM",
          "CUB",
          "ZWE",
          "BWA",
          "NAM",
          "SEN",
          "MLI",
          "MRT",
          "BEN",
          "NER",
          "NGA",
          "CMR",
          "TGO",
          "GHA",
          "CIV",
          "GIN",
          "GNB",
          "LBR",
          "SLE",
          "BFA",
          "CAF",
          "COG",
          "GAB",
          "GNQ",
          "ZMB",
          "MWI",
          "MOZ",
          "SWZ",
          "AGO",
          "BDI",
          "ISR",
          "LBN",
          "MDG",
          "PSE",
          "GMB",
          "TUN",
          "DZA",
          "JOR",
          "ARE",
          "QAT",
          "KWT",
          "IRQ",
          "OMN",
          "VUT",
          "KHM",
          "THA",
          "LAO",
          "MMR",
          "VNM",
          "PRK",
          "KOR",
          "MNG",
          "IND",
          "BGD",
          "BTN",
          "NPL",
          "PAK",
          "AFG",
          "TJK",
          "KGZ",
          "TKM",
          "IRN",
          "SYR",
          "ARM",
          "SWE",
          "BLR",
          "UKR",
          "POL",
          "AUT",
          "HUN",
          "MDA",
          "ROU",
          "LTU",
          "LVA",
          "EST",
          "DEU",
          "BGR",
          "GRC",
          "TUR",
          "ALB",
          "HRV",
          "CHE",
          "LUX",
          "BEL",
          "NLD",
          "PRT",
          "ESP",
          "IRL",
          "NCL",
          "SLB",
          "NZL",
          "AUS",
          "LKA",
          "CHN",
          "TWN",
          "ITA",
          "DNK",
          "GBR",
          "ISL",
          "AZE",
          "GEO",
          "PHL",
          "MYS",
          "BRN",
          "SVN",
          "FIN",
          "SVK",
          "CZE",
          "ERI",
          "JPN",
          "PRY",
          "YEM",
          "SAU",
          "ATA",
          "CYN",
          "CYP",
          "MAR",
          "EGY",
          "LBY",
          "ETH",
          "DJI",
          "SOL",
          "UGA",
          "RWA",
          "BIH",
          "MKD",
          "SRB",
          "MNE",
          "-99",
          "TTO",
          "SSD"
         ],
         "name": "",
         "type": "choropleth",
         "z": [
          0,
          291171.4536183493,
          0,
          5.563173022058022,
          12834.574376040724,
          0,
          0,
          0,
          5111.81418817075,
          1.4149491191907808,
          0.20904046314259672,
          26223.13053132486,
          0,
          204820.17550885747,
          0,
          0,
          25.20579724869497,
          0,
          0,
          0,
          0,
          0,
          0,
          0,
          0,
          2.1001796071085264,
          0,
          2729.525313522025,
          0,
          4583.642863537226,
          2469.527873110599,
          247.43281088566323,
          770.5532106777873,
          0.18405530756528332,
          1939.411858678386,
          1964.6972605516185,
          168.39593619640857,
          0,
          1.1658716552981454,
          0,
          0,
          0,
          0,
          16.960243057899326,
          15.101685548096494,
          0,
          0,
          0,
          6257.4376010297365,
          24853.833164970238,
          66.15558387499442,
          2675.0387229499192,
          0,
          0,
          0,
          0.16214135395826731,
          0.4823410121068173,
          1101.6678901345585,
          0.04261920099818875,
          14.605125552115588,
          0.1961696720011676,
          289.40971094758095,
          0,
          0,
          0,
          34.15991358165812,
          0,
          0,
          0,
          0,
          14880.295856559711,
          79491.90297074014,
          147547.91800184807,
          0,
          0,
          2405.8867334358933,
          5647.505898115953,
          0,
          98.61924305953657,
          5570.185612471139,
          2675.0387229499192,
          0,
          0,
          5484.294985608469,
          0.7626551846213842,
          0,
          0,
          0,
          0,
          0,
          0,
          0.9257265981936059,
          0,
          0,
          0.005209344582493681,
          0,
          0,
          0.05202712131521828,
          5653.883093247313,
          46.44730454212713,
          0,
          28.82605895994369,
          0,
          0,
          0,
          0,
          0,
          0,
          250.9036928718791,
          0,
          15.566935800860907,
          0,
          0.045441544909517864,
          0,
          0,
          0,
          0,
          0,
          0,
          0,
          0,
          31.598291563992674,
          0,
          0,
          0,
          0,
          0,
          0,
          0,
          0.3608818560057296,
          0,
          134.70656809473522,
          94.416194833,
          0.06554624216919591,
          0,
          0,
          0,
          6.560923337737907,
          0,
          669.1641131013296,
          0,
          0.6860426821849642,
          0.1677715910630809,
          13.230966040849495,
          0,
          0,
          0,
          3.604946783212958,
          0,
          0,
          0,
          0,
          0,
          0.3410386006429952,
          0,
          0,
          0,
          0,
          0,
          0,
          0,
          0,
          0,
          0,
          0,
          1.1307179609766487,
          0,
          0,
          9753.69858097992,
          4483.0145666027975,
          0,
          0,
          0,
          0,
          0,
          0,
          54.07773222309122
         ]
        }
       ],
       "layout": {
        "coloraxis": {
         "colorbar": {
          "title": {
           "text": "total_area_km2"
          }
         },
         "colorscale": [
          [
           0,
           "#440154"
          ],
          [
           0.1111111111111111,
           "#482878"
          ],
          [
           0.2222222222222222,
           "#3e4989"
          ],
          [
           0.3333333333333333,
           "#31688e"
          ],
          [
           0.4444444444444444,
           "#26828e"
          ],
          [
           0.5555555555555556,
           "#1f9e89"
          ],
          [
           0.6666666666666666,
           "#35b779"
          ],
          [
           0.7777777777777778,
           "#6ece58"
          ],
          [
           0.8888888888888888,
           "#b5de2b"
          ],
          [
           1,
           "#fde725"
          ]
         ]
        },
        "geo": {
         "center": {},
         "domain": {
          "x": [
           0,
           1
          ],
          "y": [
           0,
           1
          ]
         }
        },
        "legend": {
         "tracegroupgap": 0
        },
        "template": {
         "data": {
          "bar": [
           {
            "error_x": {
             "color": "#2a3f5f"
            },
            "error_y": {
             "color": "#2a3f5f"
            },
            "marker": {
             "line": {
              "color": "#E5ECF6",
              "width": 0.5
             }
            },
            "type": "bar"
           }
          ],
          "barpolar": [
           {
            "marker": {
             "line": {
              "color": "#E5ECF6",
              "width": 0.5
             }
            },
            "type": "barpolar"
           }
          ],
          "carpet": [
           {
            "aaxis": {
             "endlinecolor": "#2a3f5f",
             "gridcolor": "white",
             "linecolor": "white",
             "minorgridcolor": "white",
             "startlinecolor": "#2a3f5f"
            },
            "baxis": {
             "endlinecolor": "#2a3f5f",
             "gridcolor": "white",
             "linecolor": "white",
             "minorgridcolor": "white",
             "startlinecolor": "#2a3f5f"
            },
            "type": "carpet"
           }
          ],
          "choropleth": [
           {
            "colorbar": {
             "outlinewidth": 0,
             "ticks": ""
            },
            "type": "choropleth"
           }
          ],
          "contour": [
           {
            "colorbar": {
             "outlinewidth": 0,
             "ticks": ""
            },
            "colorscale": [
             [
              0,
              "#0d0887"
             ],
             [
              0.1111111111111111,
              "#46039f"
             ],
             [
              0.2222222222222222,
              "#7201a8"
             ],
             [
              0.3333333333333333,
              "#9c179e"
             ],
             [
              0.4444444444444444,
              "#bd3786"
             ],
             [
              0.5555555555555556,
              "#d8576b"
             ],
             [
              0.6666666666666666,
              "#ed7953"
             ],
             [
              0.7777777777777778,
              "#fb9f3a"
             ],
             [
              0.8888888888888888,
              "#fdca26"
             ],
             [
              1,
              "#f0f921"
             ]
            ],
            "type": "contour"
           }
          ],
          "contourcarpet": [
           {
            "colorbar": {
             "outlinewidth": 0,
             "ticks": ""
            },
            "type": "contourcarpet"
           }
          ],
          "heatmap": [
           {
            "colorbar": {
             "outlinewidth": 0,
             "ticks": ""
            },
            "colorscale": [
             [
              0,
              "#0d0887"
             ],
             [
              0.1111111111111111,
              "#46039f"
             ],
             [
              0.2222222222222222,
              "#7201a8"
             ],
             [
              0.3333333333333333,
              "#9c179e"
             ],
             [
              0.4444444444444444,
              "#bd3786"
             ],
             [
              0.5555555555555556,
              "#d8576b"
             ],
             [
              0.6666666666666666,
              "#ed7953"
             ],
             [
              0.7777777777777778,
              "#fb9f3a"
             ],
             [
              0.8888888888888888,
              "#fdca26"
             ],
             [
              1,
              "#f0f921"
             ]
            ],
            "type": "heatmap"
           }
          ],
          "heatmapgl": [
           {
            "colorbar": {
             "outlinewidth": 0,
             "ticks": ""
            },
            "colorscale": [
             [
              0,
              "#0d0887"
             ],
             [
              0.1111111111111111,
              "#46039f"
             ],
             [
              0.2222222222222222,
              "#7201a8"
             ],
             [
              0.3333333333333333,
              "#9c179e"
             ],
             [
              0.4444444444444444,
              "#bd3786"
             ],
             [
              0.5555555555555556,
              "#d8576b"
             ],
             [
              0.6666666666666666,
              "#ed7953"
             ],
             [
              0.7777777777777778,
              "#fb9f3a"
             ],
             [
              0.8888888888888888,
              "#fdca26"
             ],
             [
              1,
              "#f0f921"
             ]
            ],
            "type": "heatmapgl"
           }
          ],
          "histogram": [
           {
            "marker": {
             "colorbar": {
              "outlinewidth": 0,
              "ticks": ""
             }
            },
            "type": "histogram"
           }
          ],
          "histogram2d": [
           {
            "colorbar": {
             "outlinewidth": 0,
             "ticks": ""
            },
            "colorscale": [
             [
              0,
              "#0d0887"
             ],
             [
              0.1111111111111111,
              "#46039f"
             ],
             [
              0.2222222222222222,
              "#7201a8"
             ],
             [
              0.3333333333333333,
              "#9c179e"
             ],
             [
              0.4444444444444444,
              "#bd3786"
             ],
             [
              0.5555555555555556,
              "#d8576b"
             ],
             [
              0.6666666666666666,
              "#ed7953"
             ],
             [
              0.7777777777777778,
              "#fb9f3a"
             ],
             [
              0.8888888888888888,
              "#fdca26"
             ],
             [
              1,
              "#f0f921"
             ]
            ],
            "type": "histogram2d"
           }
          ],
          "histogram2dcontour": [
           {
            "colorbar": {
             "outlinewidth": 0,
             "ticks": ""
            },
            "colorscale": [
             [
              0,
              "#0d0887"
             ],
             [
              0.1111111111111111,
              "#46039f"
             ],
             [
              0.2222222222222222,
              "#7201a8"
             ],
             [
              0.3333333333333333,
              "#9c179e"
             ],
             [
              0.4444444444444444,
              "#bd3786"
             ],
             [
              0.5555555555555556,
              "#d8576b"
             ],
             [
              0.6666666666666666,
              "#ed7953"
             ],
             [
              0.7777777777777778,
              "#fb9f3a"
             ],
             [
              0.8888888888888888,
              "#fdca26"
             ],
             [
              1,
              "#f0f921"
             ]
            ],
            "type": "histogram2dcontour"
           }
          ],
          "mesh3d": [
           {
            "colorbar": {
             "outlinewidth": 0,
             "ticks": ""
            },
            "type": "mesh3d"
           }
          ],
          "parcoords": [
           {
            "line": {
             "colorbar": {
              "outlinewidth": 0,
              "ticks": ""
             }
            },
            "type": "parcoords"
           }
          ],
          "pie": [
           {
            "automargin": true,
            "type": "pie"
           }
          ],
          "scatter": [
           {
            "marker": {
             "colorbar": {
              "outlinewidth": 0,
              "ticks": ""
             }
            },
            "type": "scatter"
           }
          ],
          "scatter3d": [
           {
            "line": {
             "colorbar": {
              "outlinewidth": 0,
              "ticks": ""
             }
            },
            "marker": {
             "colorbar": {
              "outlinewidth": 0,
              "ticks": ""
             }
            },
            "type": "scatter3d"
           }
          ],
          "scattercarpet": [
           {
            "marker": {
             "colorbar": {
              "outlinewidth": 0,
              "ticks": ""
             }
            },
            "type": "scattercarpet"
           }
          ],
          "scattergeo": [
           {
            "marker": {
             "colorbar": {
              "outlinewidth": 0,
              "ticks": ""
             }
            },
            "type": "scattergeo"
           }
          ],
          "scattergl": [
           {
            "marker": {
             "colorbar": {
              "outlinewidth": 0,
              "ticks": ""
             }
            },
            "type": "scattergl"
           }
          ],
          "scattermapbox": [
           {
            "marker": {
             "colorbar": {
              "outlinewidth": 0,
              "ticks": ""
             }
            },
            "type": "scattermapbox"
           }
          ],
          "scatterpolar": [
           {
            "marker": {
             "colorbar": {
              "outlinewidth": 0,
              "ticks": ""
             }
            },
            "type": "scatterpolar"
           }
          ],
          "scatterpolargl": [
           {
            "marker": {
             "colorbar": {
              "outlinewidth": 0,
              "ticks": ""
             }
            },
            "type": "scatterpolargl"
           }
          ],
          "scatterternary": [
           {
            "marker": {
             "colorbar": {
              "outlinewidth": 0,
              "ticks": ""
             }
            },
            "type": "scatterternary"
           }
          ],
          "surface": [
           {
            "colorbar": {
             "outlinewidth": 0,
             "ticks": ""
            },
            "colorscale": [
             [
              0,
              "#0d0887"
             ],
             [
              0.1111111111111111,
              "#46039f"
             ],
             [
              0.2222222222222222,
              "#7201a8"
             ],
             [
              0.3333333333333333,
              "#9c179e"
             ],
             [
              0.4444444444444444,
              "#bd3786"
             ],
             [
              0.5555555555555556,
              "#d8576b"
             ],
             [
              0.6666666666666666,
              "#ed7953"
             ],
             [
              0.7777777777777778,
              "#fb9f3a"
             ],
             [
              0.8888888888888888,
              "#fdca26"
             ],
             [
              1,
              "#f0f921"
             ]
            ],
            "type": "surface"
           }
          ],
          "table": [
           {
            "cells": {
             "fill": {
              "color": "#EBF0F8"
             },
             "line": {
              "color": "white"
             }
            },
            "header": {
             "fill": {
              "color": "#C8D4E3"
             },
             "line": {
              "color": "white"
             }
            },
            "type": "table"
           }
          ]
         },
         "layout": {
          "annotationdefaults": {
           "arrowcolor": "#2a3f5f",
           "arrowhead": 0,
           "arrowwidth": 1
          },
          "autotypenumbers": "strict",
          "coloraxis": {
           "colorbar": {
            "outlinewidth": 0,
            "ticks": ""
           }
          },
          "colorscale": {
           "diverging": [
            [
             0,
             "#8e0152"
            ],
            [
             0.1,
             "#c51b7d"
            ],
            [
             0.2,
             "#de77ae"
            ],
            [
             0.3,
             "#f1b6da"
            ],
            [
             0.4,
             "#fde0ef"
            ],
            [
             0.5,
             "#f7f7f7"
            ],
            [
             0.6,
             "#e6f5d0"
            ],
            [
             0.7,
             "#b8e186"
            ],
            [
             0.8,
             "#7fbc41"
            ],
            [
             0.9,
             "#4d9221"
            ],
            [
             1,
             "#276419"
            ]
           ],
           "sequential": [
            [
             0,
             "#0d0887"
            ],
            [
             0.1111111111111111,
             "#46039f"
            ],
            [
             0.2222222222222222,
             "#7201a8"
            ],
            [
             0.3333333333333333,
             "#9c179e"
            ],
            [
             0.4444444444444444,
             "#bd3786"
            ],
            [
             0.5555555555555556,
             "#d8576b"
            ],
            [
             0.6666666666666666,
             "#ed7953"
            ],
            [
             0.7777777777777778,
             "#fb9f3a"
            ],
            [
             0.8888888888888888,
             "#fdca26"
            ],
            [
             1,
             "#f0f921"
            ]
           ],
           "sequentialminus": [
            [
             0,
             "#0d0887"
            ],
            [
             0.1111111111111111,
             "#46039f"
            ],
            [
             0.2222222222222222,
             "#7201a8"
            ],
            [
             0.3333333333333333,
             "#9c179e"
            ],
            [
             0.4444444444444444,
             "#bd3786"
            ],
            [
             0.5555555555555556,
             "#d8576b"
            ],
            [
             0.6666666666666666,
             "#ed7953"
            ],
            [
             0.7777777777777778,
             "#fb9f3a"
            ],
            [
             0.8888888888888888,
             "#fdca26"
            ],
            [
             1,
             "#f0f921"
            ]
           ]
          },
          "colorway": [
           "#636efa",
           "#EF553B",
           "#00cc96",
           "#ab63fa",
           "#FFA15A",
           "#19d3f3",
           "#FF6692",
           "#B6E880",
           "#FF97FF",
           "#FECB52"
          ],
          "font": {
           "color": "#2a3f5f"
          },
          "geo": {
           "bgcolor": "white",
           "lakecolor": "white",
           "landcolor": "#E5ECF6",
           "showlakes": true,
           "showland": true,
           "subunitcolor": "white"
          },
          "hoverlabel": {
           "align": "left"
          },
          "hovermode": "closest",
          "mapbox": {
           "style": "light"
          },
          "paper_bgcolor": "white",
          "plot_bgcolor": "#E5ECF6",
          "polar": {
           "angularaxis": {
            "gridcolor": "white",
            "linecolor": "white",
            "ticks": ""
           },
           "bgcolor": "#E5ECF6",
           "radialaxis": {
            "gridcolor": "white",
            "linecolor": "white",
            "ticks": ""
           }
          },
          "scene": {
           "xaxis": {
            "backgroundcolor": "#E5ECF6",
            "gridcolor": "white",
            "gridwidth": 2,
            "linecolor": "white",
            "showbackground": true,
            "ticks": "",
            "zerolinecolor": "white"
           },
           "yaxis": {
            "backgroundcolor": "#E5ECF6",
            "gridcolor": "white",
            "gridwidth": 2,
            "linecolor": "white",
            "showbackground": true,
            "ticks": "",
            "zerolinecolor": "white"
           },
           "zaxis": {
            "backgroundcolor": "#E5ECF6",
            "gridcolor": "white",
            "gridwidth": 2,
            "linecolor": "white",
            "showbackground": true,
            "ticks": "",
            "zerolinecolor": "white"
           }
          },
          "shapedefaults": {
           "line": {
            "color": "#2a3f5f"
           }
          },
          "ternary": {
           "aaxis": {
            "gridcolor": "white",
            "linecolor": "white",
            "ticks": ""
           },
           "baxis": {
            "gridcolor": "white",
            "linecolor": "white",
            "ticks": ""
           },
           "bgcolor": "#E5ECF6",
           "caxis": {
            "gridcolor": "white",
            "linecolor": "white",
            "ticks": ""
           }
          },
          "title": {
           "x": 0.05
          },
          "xaxis": {
           "automargin": true,
           "gridcolor": "white",
           "linecolor": "white",
           "ticks": "",
           "title": {
            "standoff": 15
           },
           "zerolinecolor": "white",
           "zerolinewidth": 2
          },
          "yaxis": {
           "automargin": true,
           "gridcolor": "white",
           "linecolor": "white",
           "ticks": "",
           "title": {
            "standoff": 15
           },
           "zerolinecolor": "white",
           "zerolinewidth": 2
          }
         }
        },
        "title": {
         "text": "Global Reforestation Area Covered (km²)"
        }
       }
      }
     },
     "metadata": {},
     "output_type": "display_data"
    }
   ],
   "source": [
    "import geopandas as gpd\n",
    "import pandas as pd\n",
    "from shapely.geometry import shape\n",
    "import plotly.express as px\n",
    "import json\n",
    "\n",
    "def convert_to_geometry(geojson_str):\n",
    "    if geojson_str == '{}':\n",
    "        return None\n",
    "    try:\n",
    "        geojson_obj = json.loads(geojson_str)\n",
    "        if isinstance(geojson_obj, dict): \n",
    "            return shape(geojson_obj)\n",
    "        else:\n",
    "            return None\n",
    "    except json.JSONDecodeError:\n",
    "        return None\n",
    "\n",
    "\n",
    "df_reforestation['geometry'] = df_reforestation['geometry_reported'].apply(convert_to_geometry)\n",
    "gdf_sites = gpd.GeoDataFrame(df_reforestation, geometry='geometry')\n",
    "\n",
    "\n",
    "gdf_sites.crs = \"EPSG:4326\"\n",
    "\n",
    "world = gpd.read_file(gpd.datasets.get_path('naturalearth_lowres'))\n",
    "\n",
    "\n",
    "gdf_sites_with_country = gpd.sjoin(gdf_sites, world, how=\"left\", predicate='intersects')\n",
    "\n",
    "\n",
    "gdf_sites_with_country['area_km2'] = gdf_sites_with_country.to_crs(epsg=3395).area / 10**6\n",
    "\n",
    "\n",
    "country_area_covered = gdf_sites_with_country.groupby('name')['area_km2'].sum().reset_index(name='total_area_km2')\n",
    "\n",
    "world_with_area_covered = world.merge(country_area_covered, how=\"left\", left_on=\"name\", right_on=\"name\")\n",
    "\n",
    "\n",
    "world_with_area_covered['total_area_km2'] = world_with_area_covered['total_area_km2'].fillna(0)\n",
    "\n",
    "\n",
    "fig = px.choropleth(world_with_area_covered,\n",
    "                    locations=\"iso_a3\",\n",
    "                    color=\"total_area_km2\",\n",
    "                    hover_name=\"name\",\n",
    "                    color_continuous_scale=px.colors.sequential.Viridis,\n",
    "                    title=\"Global Reforestation Area Covered (km²)\")\n",
    "\n",
    "fig.show()"
   ]
  },
  {
   "cell_type": "code",
   "execution_count": 51,
   "metadata": {},
   "outputs": [
    {
     "data": {
      "application/vnd.plotly.v1+json": {
       "config": {
        "plotlyServerURL": "https://plot.ly"
       },
       "data": [
        {
         "coloraxis": "coloraxis",
         "geo": "geo",
         "hovertemplate": "<b>%{hovertext}</b><br><br>iso_a3=%{location}<br>total_area_km2=%{z}<extra></extra>",
         "hovertext": [
          "Fiji",
          "Tanzania",
          "W. Sahara",
          "Canada",
          "United States of America",
          "Kazakhstan",
          "Uzbekistan",
          "Papua New Guinea",
          "Indonesia",
          "Argentina",
          "Chile",
          "Dem. Rep. Congo",
          "Somalia",
          "Kenya",
          "Sudan",
          "Chad",
          "Haiti",
          "Dominican Rep.",
          "Russia",
          "Bahamas",
          "Falkland Is.",
          "Norway",
          "Greenland",
          "Fr. S. Antarctic Lands",
          "Timor-Leste",
          "South Africa",
          "Lesotho",
          "Mexico",
          "Uruguay",
          "Brazil",
          "Bolivia",
          "Peru",
          "Colombia",
          "Panama",
          "Costa Rica",
          "Nicaragua",
          "Honduras",
          "El Salvador",
          "Guatemala",
          "Belize",
          "Venezuela",
          "Guyana",
          "Suriname",
          "France",
          "Ecuador",
          "Puerto Rico",
          "Jamaica",
          "Cuba",
          "Zimbabwe",
          "Botswana",
          "Namibia",
          "Senegal",
          "Mali",
          "Mauritania",
          "Benin",
          "Niger",
          "Nigeria",
          "Cameroon",
          "Togo",
          "Ghana",
          "Côte d'Ivoire",
          "Guinea",
          "Guinea-Bissau",
          "Liberia",
          "Sierra Leone",
          "Burkina Faso",
          "Central African Rep.",
          "Congo",
          "Gabon",
          "Eq. Guinea",
          "Zambia",
          "Malawi",
          "Mozambique",
          "eSwatini",
          "Angola",
          "Burundi",
          "Israel",
          "Lebanon",
          "Madagascar",
          "Palestine",
          "Gambia",
          "Tunisia",
          "Algeria",
          "Jordan",
          "United Arab Emirates",
          "Qatar",
          "Kuwait",
          "Iraq",
          "Oman",
          "Vanuatu",
          "Cambodia",
          "Thailand",
          "Laos",
          "Myanmar",
          "Vietnam",
          "North Korea",
          "South Korea",
          "Mongolia",
          "India",
          "Bangladesh",
          "Bhutan",
          "Nepal",
          "Pakistan",
          "Afghanistan",
          "Tajikistan",
          "Kyrgyzstan",
          "Turkmenistan",
          "Iran",
          "Syria",
          "Armenia",
          "Sweden",
          "Belarus",
          "Ukraine",
          "Poland",
          "Austria",
          "Hungary",
          "Moldova",
          "Romania",
          "Lithuania",
          "Latvia",
          "Estonia",
          "Germany",
          "Bulgaria",
          "Greece",
          "Turkey",
          "Albania",
          "Croatia",
          "Switzerland",
          "Luxembourg",
          "Belgium",
          "Netherlands",
          "Portugal",
          "Spain",
          "Ireland",
          "New Caledonia",
          "Solomon Is.",
          "New Zealand",
          "Australia",
          "Sri Lanka",
          "China",
          "Taiwan",
          "Italy",
          "Denmark",
          "United Kingdom",
          "Iceland",
          "Azerbaijan",
          "Georgia",
          "Philippines",
          "Malaysia",
          "Brunei",
          "Slovenia",
          "Finland",
          "Slovakia",
          "Czechia",
          "Eritrea",
          "Japan",
          "Paraguay",
          "Yemen",
          "Saudi Arabia",
          "Antarctica",
          "N. Cyprus",
          "Cyprus",
          "Morocco",
          "Egypt",
          "Libya",
          "Ethiopia",
          "Djibouti",
          "Somaliland",
          "Uganda",
          "Rwanda",
          "Bosnia and Herz.",
          "North Macedonia",
          "Serbia",
          "Montenegro",
          "Kosovo",
          "Trinidad and Tobago",
          "S. Sudan"
         ],
         "locations": [
          "FJI",
          "TZA",
          "ESH",
          "CAN",
          "USA",
          "KAZ",
          "UZB",
          "PNG",
          "IDN",
          "ARG",
          "CHL",
          "COD",
          "SOM",
          "KEN",
          "SDN",
          "TCD",
          "HTI",
          "DOM",
          "RUS",
          "BHS",
          "FLK",
          "NOR",
          "GRL",
          "ATF",
          "TLS",
          "ZAF",
          "LSO",
          "MEX",
          "URY",
          "BRA",
          "BOL",
          "PER",
          "COL",
          "PAN",
          "CRI",
          "NIC",
          "HND",
          "SLV",
          "GTM",
          "BLZ",
          "VEN",
          "GUY",
          "SUR",
          "FRA",
          "ECU",
          "PRI",
          "JAM",
          "CUB",
          "ZWE",
          "BWA",
          "NAM",
          "SEN",
          "MLI",
          "MRT",
          "BEN",
          "NER",
          "NGA",
          "CMR",
          "TGO",
          "GHA",
          "CIV",
          "GIN",
          "GNB",
          "LBR",
          "SLE",
          "BFA",
          "CAF",
          "COG",
          "GAB",
          "GNQ",
          "ZMB",
          "MWI",
          "MOZ",
          "SWZ",
          "AGO",
          "BDI",
          "ISR",
          "LBN",
          "MDG",
          "PSE",
          "GMB",
          "TUN",
          "DZA",
          "JOR",
          "ARE",
          "QAT",
          "KWT",
          "IRQ",
          "OMN",
          "VUT",
          "KHM",
          "THA",
          "LAO",
          "MMR",
          "VNM",
          "PRK",
          "KOR",
          "MNG",
          "IND",
          "BGD",
          "BTN",
          "NPL",
          "PAK",
          "AFG",
          "TJK",
          "KGZ",
          "TKM",
          "IRN",
          "SYR",
          "ARM",
          "SWE",
          "BLR",
          "UKR",
          "POL",
          "AUT",
          "HUN",
          "MDA",
          "ROU",
          "LTU",
          "LVA",
          "EST",
          "DEU",
          "BGR",
          "GRC",
          "TUR",
          "ALB",
          "HRV",
          "CHE",
          "LUX",
          "BEL",
          "NLD",
          "PRT",
          "ESP",
          "IRL",
          "NCL",
          "SLB",
          "NZL",
          "AUS",
          "LKA",
          "CHN",
          "TWN",
          "ITA",
          "DNK",
          "GBR",
          "ISL",
          "AZE",
          "GEO",
          "PHL",
          "MYS",
          "BRN",
          "SVN",
          "FIN",
          "SVK",
          "CZE",
          "ERI",
          "JPN",
          "PRY",
          "YEM",
          "SAU",
          "ATA",
          "CYN",
          "CYP",
          "MAR",
          "EGY",
          "LBY",
          "ETH",
          "DJI",
          "SOL",
          "UGA",
          "RWA",
          "BIH",
          "MKD",
          "SRB",
          "MNE",
          "-99",
          "TTO",
          "SSD"
         ],
         "name": "",
         "type": "choropleth",
         "z": [
          0,
          291171.4536183493,
          0,
          5.563173022058022,
          12834.574376040724,
          0,
          0,
          0,
          5111.81418817075,
          1.4149491191907808,
          0.20904046314259672,
          26223.13053132486,
          0,
          204820.17550885747,
          0,
          0,
          25.20579724869497,
          0,
          0,
          0,
          0,
          0,
          0,
          0,
          0,
          2.1001796071085264,
          0,
          2729.525313522025,
          0,
          4583.642863537226,
          2469.527873110599,
          247.43281088566323,
          770.5532106777873,
          0.18405530756528332,
          1939.411858678386,
          1964.6972605516185,
          168.39593619640857,
          0,
          1.1658716552981454,
          0,
          0,
          0,
          0,
          16.960243057899326,
          15.101685548096494,
          0,
          0,
          0,
          6257.4376010297365,
          24853.833164970238,
          66.15558387499442,
          2675.0387229499192,
          0,
          0,
          0,
          0.16214135395826731,
          0.4823410121068173,
          1101.6678901345585,
          0.04261920099818875,
          14.605125552115588,
          0.1961696720011676,
          289.40971094758095,
          0,
          0,
          0,
          34.15991358165812,
          0,
          0,
          0,
          0,
          14880.295856559711,
          79491.90297074014,
          147547.91800184807,
          0,
          0,
          2405.8867334358933,
          5647.505898115953,
          0,
          98.61924305953657,
          5570.185612471139,
          2675.0387229499192,
          0,
          0,
          5484.294985608469,
          0.7626551846213842,
          0,
          0,
          0,
          0,
          0,
          0,
          0.9257265981936059,
          0,
          0,
          0.005209344582493681,
          0,
          0,
          0.05202712131521828,
          5653.883093247313,
          46.44730454212713,
          0,
          28.82605895994369,
          0,
          0,
          0,
          0,
          0,
          0,
          250.9036928718791,
          0,
          15.566935800860907,
          0,
          0.045441544909517864,
          0,
          0,
          0,
          0,
          0,
          0,
          0,
          0,
          31.598291563992674,
          0,
          0,
          0,
          0,
          0,
          0,
          0,
          0.3608818560057296,
          0,
          134.70656809473522,
          94.416194833,
          0.06554624216919591,
          0,
          0,
          0,
          6.560923337737907,
          0,
          669.1641131013296,
          0,
          0.6860426821849642,
          0.1677715910630809,
          13.230966040849495,
          0,
          0,
          0,
          3.604946783212958,
          0,
          0,
          0,
          0,
          0,
          0.3410386006429952,
          0,
          0,
          0,
          0,
          0,
          0,
          0,
          0,
          0,
          0,
          0,
          1.1307179609766487,
          0,
          0,
          9753.69858097992,
          4483.0145666027975,
          0,
          0,
          0,
          0,
          0,
          0,
          54.07773222309122
         ]
        },
        {
         "cells": {
          "align": "left",
          "fill": {
           "color": "lavender"
          },
          "values": [
           [
            "Tanzania",
            "Kenya",
            "Mozambique",
            "Malawi",
            "Dem. Rep. Congo",
            "Botswana",
            "Zambia",
            "United States of America",
            "Uganda",
            "Zimbabwe",
            "India",
            "Israel",
            "Palestine",
            "Jordan",
            "Indonesia",
            "Brazil",
            "Rwanda",
            "Mexico",
            "Gambia",
            "Senegal",
            "Bolivia",
            "Burundi",
            "Nicaragua",
            "Costa Rica",
            "Cameroon",
            "Colombia",
            "China",
            "Guinea",
            "Syria",
            "Peru",
            "Honduras",
            "Portugal",
            "Madagascar",
            "Spain",
            "Namibia",
            "S. Sudan",
            "Bangladesh",
            "Burkina Faso",
            "Germany",
            "Nepal",
            "Haiti",
            "France",
            "Sweden",
            "Ecuador",
            "Ghana",
            "United Kingdom",
            "Australia",
            "Canada",
            "Philippines",
            "South Africa",
            "Argentina",
            "Guatemala",
            "Ethiopia",
            "Thailand",
            "United Arab Emirates",
            "Italy",
            "Nigeria",
            "Belgium",
            "Czechia",
            "Chile",
            "Côte d'Ivoire",
            "Panama",
            "Denmark",
            "Niger",
            "Ireland",
            "Mongolia",
            "Ukraine",
            "Togo",
            "Vietnam",
            "New Caledonia",
            "Trinidad and Tobago",
            "Romania",
            "Serbia",
            "Lithuania",
            "Latvia",
            "Montenegro",
            "Kosovo",
            "Netherlands",
            "Estonia",
            "Bulgaria",
            "Greece",
            "Luxembourg",
            "Switzerland",
            "Turkey",
            "Albania",
            "Croatia",
            "Somaliland",
            "Solomon Is.",
            "New Zealand",
            "Yemen",
            "Paraguay",
            "Japan",
            "Eritrea",
            "Slovakia",
            "Finland",
            "Antarctica",
            "N. Cyprus",
            "Cyprus",
            "Slovenia",
            "Brunei",
            "Malaysia",
            "Hungary",
            "Morocco",
            "Georgia",
            "Azerbaijan",
            "Iceland",
            "Egypt",
            "Libya",
            "Taiwan",
            "Djibouti",
            "Saudi Arabia",
            "Sri Lanka",
            "Bosnia and Herz.",
            "North Macedonia",
            "Moldova",
            "Fiji",
            "Austria",
            "Guinea-Bissau",
            "Mauritania",
            "Mali",
            "Cuba",
            "Jamaica",
            "Puerto Rico",
            "Suriname",
            "Guyana",
            "Venezuela",
            "Belize",
            "El Salvador",
            "Uruguay",
            "Lesotho",
            "Timor-Leste",
            "Fr. S. Antarctic Lands",
            "Greenland",
            "Norway",
            "Falkland Is.",
            "Bahamas",
            "Russia",
            "Dominican Rep.",
            "Chad",
            "Sudan",
            "Somalia",
            "Papua New Guinea",
            "Uzbekistan",
            "Kazakhstan",
            "W. Sahara",
            "Benin",
            "Liberia",
            "Poland",
            "Sierra Leone",
            "Belarus",
            "Armenia",
            "Iran",
            "Turkmenistan",
            "Kyrgyzstan",
            "Tajikistan",
            "Afghanistan",
            "Pakistan",
            "Bhutan",
            "South Korea",
            "North Korea",
            "Myanmar",
            "Laos",
            "Cambodia",
            "Vanuatu",
            "Iraq",
            "Kuwait",
            "Qatar",
            "Algeria",
            "Tunisia",
            "Lebanon",
            "Angola",
            "eSwatini",
            "Eq. Guinea",
            "Gabon",
            "Congo",
            "Central African Rep.",
            "Oman"
           ],
           [
            291171.4536183493,
            204820.17550885747,
            147547.91800184807,
            79491.90297074014,
            26223.13053132486,
            24853.833164970238,
            14880.295856559711,
            12834.574376040724,
            9753.69858097992,
            6257.4376010297365,
            5653.883093247313,
            5647.505898115953,
            5570.185612471139,
            5484.294985608469,
            5111.81418817075,
            4583.642863537226,
            4483.0145666027975,
            2729.525313522025,
            2675.0387229499192,
            2675.0387229499192,
            2469.527873110599,
            2405.8867334358933,
            1964.6972605516185,
            1939.411858678386,
            1101.6678901345585,
            770.5532106777873,
            669.1641131013296,
            289.40971094758095,
            250.9036928718791,
            247.43281088566323,
            168.39593619640857,
            134.70656809473522,
            98.61924305953657,
            94.416194833,
            66.15558387499442,
            54.07773222309122,
            46.44730454212713,
            34.15991358165812,
            31.598291563992674,
            28.82605895994369,
            25.20579724869497,
            16.960243057899326,
            15.566935800860907,
            15.101685548096494,
            14.605125552115588,
            13.230966040849495,
            6.560923337737907,
            5.563173022058022,
            3.604946783212958,
            2.1001796071085264,
            1.4149491191907808,
            1.1658716552981454,
            1.1307179609766487,
            0.9257265981936059,
            0.7626551846213842,
            0.6860426821849642,
            0.4823410121068173,
            0.3608818560057296,
            0.3410386006429952,
            0.20904046314259672,
            0.1961696720011676,
            0.18405530756528332,
            0.1677715910630809,
            0.16214135395826731,
            0.06554624216919591,
            0.05202712131521828,
            0.045441544909517864,
            0.04261920099818875,
            0.005209344582493681,
            0,
            0,
            0,
            0,
            0,
            0,
            0,
            0,
            0,
            0,
            0,
            0,
            0,
            0,
            0,
            0,
            0,
            0,
            0,
            0,
            0,
            0,
            0,
            0,
            0,
            0,
            0,
            0,
            0,
            0,
            0,
            0,
            0,
            0,
            0,
            0,
            0,
            0,
            0,
            0,
            0,
            0,
            0,
            0,
            0,
            0,
            0,
            0,
            0,
            0,
            0,
            0,
            0,
            0,
            0,
            0,
            0,
            0,
            0,
            0,
            0,
            0,
            0,
            0,
            0,
            0,
            0,
            0,
            0,
            0,
            0,
            0,
            0,
            0,
            0,
            0,
            0,
            0,
            0,
            0,
            0,
            0,
            0,
            0,
            0,
            0,
            0,
            0,
            0,
            0,
            0,
            0,
            0,
            0,
            0,
            0,
            0,
            0,
            0,
            0,
            0,
            0,
            0,
            0,
            0,
            0,
            0,
            0
           ]
          ]
         },
         "domain": {
          "x": [
           0.73,
           1
          ],
          "y": [
           0,
           1
          ]
         },
         "header": {
          "align": "left",
          "fill": {
           "color": "paleturquoise"
          },
          "values": [
           "Country",
           "Total Area Covered (km²)"
          ]
         },
         "type": "table"
        }
       ],
       "layout": {
        "geo": {
         "domain": {
          "x": [
           0,
           0.63
          ],
          "y": [
           0,
           1
          ]
         }
        },
        "showlegend": false,
        "template": {
         "data": {
          "bar": [
           {
            "error_x": {
             "color": "#2a3f5f"
            },
            "error_y": {
             "color": "#2a3f5f"
            },
            "marker": {
             "line": {
              "color": "#E5ECF6",
              "width": 0.5
             }
            },
            "type": "bar"
           }
          ],
          "barpolar": [
           {
            "marker": {
             "line": {
              "color": "#E5ECF6",
              "width": 0.5
             }
            },
            "type": "barpolar"
           }
          ],
          "carpet": [
           {
            "aaxis": {
             "endlinecolor": "#2a3f5f",
             "gridcolor": "white",
             "linecolor": "white",
             "minorgridcolor": "white",
             "startlinecolor": "#2a3f5f"
            },
            "baxis": {
             "endlinecolor": "#2a3f5f",
             "gridcolor": "white",
             "linecolor": "white",
             "minorgridcolor": "white",
             "startlinecolor": "#2a3f5f"
            },
            "type": "carpet"
           }
          ],
          "choropleth": [
           {
            "colorbar": {
             "outlinewidth": 0,
             "ticks": ""
            },
            "type": "choropleth"
           }
          ],
          "contour": [
           {
            "colorbar": {
             "outlinewidth": 0,
             "ticks": ""
            },
            "colorscale": [
             [
              0,
              "#0d0887"
             ],
             [
              0.1111111111111111,
              "#46039f"
             ],
             [
              0.2222222222222222,
              "#7201a8"
             ],
             [
              0.3333333333333333,
              "#9c179e"
             ],
             [
              0.4444444444444444,
              "#bd3786"
             ],
             [
              0.5555555555555556,
              "#d8576b"
             ],
             [
              0.6666666666666666,
              "#ed7953"
             ],
             [
              0.7777777777777778,
              "#fb9f3a"
             ],
             [
              0.8888888888888888,
              "#fdca26"
             ],
             [
              1,
              "#f0f921"
             ]
            ],
            "type": "contour"
           }
          ],
          "contourcarpet": [
           {
            "colorbar": {
             "outlinewidth": 0,
             "ticks": ""
            },
            "type": "contourcarpet"
           }
          ],
          "heatmap": [
           {
            "colorbar": {
             "outlinewidth": 0,
             "ticks": ""
            },
            "colorscale": [
             [
              0,
              "#0d0887"
             ],
             [
              0.1111111111111111,
              "#46039f"
             ],
             [
              0.2222222222222222,
              "#7201a8"
             ],
             [
              0.3333333333333333,
              "#9c179e"
             ],
             [
              0.4444444444444444,
              "#bd3786"
             ],
             [
              0.5555555555555556,
              "#d8576b"
             ],
             [
              0.6666666666666666,
              "#ed7953"
             ],
             [
              0.7777777777777778,
              "#fb9f3a"
             ],
             [
              0.8888888888888888,
              "#fdca26"
             ],
             [
              1,
              "#f0f921"
             ]
            ],
            "type": "heatmap"
           }
          ],
          "heatmapgl": [
           {
            "colorbar": {
             "outlinewidth": 0,
             "ticks": ""
            },
            "colorscale": [
             [
              0,
              "#0d0887"
             ],
             [
              0.1111111111111111,
              "#46039f"
             ],
             [
              0.2222222222222222,
              "#7201a8"
             ],
             [
              0.3333333333333333,
              "#9c179e"
             ],
             [
              0.4444444444444444,
              "#bd3786"
             ],
             [
              0.5555555555555556,
              "#d8576b"
             ],
             [
              0.6666666666666666,
              "#ed7953"
             ],
             [
              0.7777777777777778,
              "#fb9f3a"
             ],
             [
              0.8888888888888888,
              "#fdca26"
             ],
             [
              1,
              "#f0f921"
             ]
            ],
            "type": "heatmapgl"
           }
          ],
          "histogram": [
           {
            "marker": {
             "colorbar": {
              "outlinewidth": 0,
              "ticks": ""
             }
            },
            "type": "histogram"
           }
          ],
          "histogram2d": [
           {
            "colorbar": {
             "outlinewidth": 0,
             "ticks": ""
            },
            "colorscale": [
             [
              0,
              "#0d0887"
             ],
             [
              0.1111111111111111,
              "#46039f"
             ],
             [
              0.2222222222222222,
              "#7201a8"
             ],
             [
              0.3333333333333333,
              "#9c179e"
             ],
             [
              0.4444444444444444,
              "#bd3786"
             ],
             [
              0.5555555555555556,
              "#d8576b"
             ],
             [
              0.6666666666666666,
              "#ed7953"
             ],
             [
              0.7777777777777778,
              "#fb9f3a"
             ],
             [
              0.8888888888888888,
              "#fdca26"
             ],
             [
              1,
              "#f0f921"
             ]
            ],
            "type": "histogram2d"
           }
          ],
          "histogram2dcontour": [
           {
            "colorbar": {
             "outlinewidth": 0,
             "ticks": ""
            },
            "colorscale": [
             [
              0,
              "#0d0887"
             ],
             [
              0.1111111111111111,
              "#46039f"
             ],
             [
              0.2222222222222222,
              "#7201a8"
             ],
             [
              0.3333333333333333,
              "#9c179e"
             ],
             [
              0.4444444444444444,
              "#bd3786"
             ],
             [
              0.5555555555555556,
              "#d8576b"
             ],
             [
              0.6666666666666666,
              "#ed7953"
             ],
             [
              0.7777777777777778,
              "#fb9f3a"
             ],
             [
              0.8888888888888888,
              "#fdca26"
             ],
             [
              1,
              "#f0f921"
             ]
            ],
            "type": "histogram2dcontour"
           }
          ],
          "mesh3d": [
           {
            "colorbar": {
             "outlinewidth": 0,
             "ticks": ""
            },
            "type": "mesh3d"
           }
          ],
          "parcoords": [
           {
            "line": {
             "colorbar": {
              "outlinewidth": 0,
              "ticks": ""
             }
            },
            "type": "parcoords"
           }
          ],
          "pie": [
           {
            "automargin": true,
            "type": "pie"
           }
          ],
          "scatter": [
           {
            "marker": {
             "colorbar": {
              "outlinewidth": 0,
              "ticks": ""
             }
            },
            "type": "scatter"
           }
          ],
          "scatter3d": [
           {
            "line": {
             "colorbar": {
              "outlinewidth": 0,
              "ticks": ""
             }
            },
            "marker": {
             "colorbar": {
              "outlinewidth": 0,
              "ticks": ""
             }
            },
            "type": "scatter3d"
           }
          ],
          "scattercarpet": [
           {
            "marker": {
             "colorbar": {
              "outlinewidth": 0,
              "ticks": ""
             }
            },
            "type": "scattercarpet"
           }
          ],
          "scattergeo": [
           {
            "marker": {
             "colorbar": {
              "outlinewidth": 0,
              "ticks": ""
             }
            },
            "type": "scattergeo"
           }
          ],
          "scattergl": [
           {
            "marker": {
             "colorbar": {
              "outlinewidth": 0,
              "ticks": ""
             }
            },
            "type": "scattergl"
           }
          ],
          "scattermapbox": [
           {
            "marker": {
             "colorbar": {
              "outlinewidth": 0,
              "ticks": ""
             }
            },
            "type": "scattermapbox"
           }
          ],
          "scatterpolar": [
           {
            "marker": {
             "colorbar": {
              "outlinewidth": 0,
              "ticks": ""
             }
            },
            "type": "scatterpolar"
           }
          ],
          "scatterpolargl": [
           {
            "marker": {
             "colorbar": {
              "outlinewidth": 0,
              "ticks": ""
             }
            },
            "type": "scatterpolargl"
           }
          ],
          "scatterternary": [
           {
            "marker": {
             "colorbar": {
              "outlinewidth": 0,
              "ticks": ""
             }
            },
            "type": "scatterternary"
           }
          ],
          "surface": [
           {
            "colorbar": {
             "outlinewidth": 0,
             "ticks": ""
            },
            "colorscale": [
             [
              0,
              "#0d0887"
             ],
             [
              0.1111111111111111,
              "#46039f"
             ],
             [
              0.2222222222222222,
              "#7201a8"
             ],
             [
              0.3333333333333333,
              "#9c179e"
             ],
             [
              0.4444444444444444,
              "#bd3786"
             ],
             [
              0.5555555555555556,
              "#d8576b"
             ],
             [
              0.6666666666666666,
              "#ed7953"
             ],
             [
              0.7777777777777778,
              "#fb9f3a"
             ],
             [
              0.8888888888888888,
              "#fdca26"
             ],
             [
              1,
              "#f0f921"
             ]
            ],
            "type": "surface"
           }
          ],
          "table": [
           {
            "cells": {
             "fill": {
              "color": "#EBF0F8"
             },
             "line": {
              "color": "white"
             }
            },
            "header": {
             "fill": {
              "color": "#C8D4E3"
             },
             "line": {
              "color": "white"
             }
            },
            "type": "table"
           }
          ]
         },
         "layout": {
          "annotationdefaults": {
           "arrowcolor": "#2a3f5f",
           "arrowhead": 0,
           "arrowwidth": 1
          },
          "autotypenumbers": "strict",
          "coloraxis": {
           "colorbar": {
            "outlinewidth": 0,
            "ticks": ""
           }
          },
          "colorscale": {
           "diverging": [
            [
             0,
             "#8e0152"
            ],
            [
             0.1,
             "#c51b7d"
            ],
            [
             0.2,
             "#de77ae"
            ],
            [
             0.3,
             "#f1b6da"
            ],
            [
             0.4,
             "#fde0ef"
            ],
            [
             0.5,
             "#f7f7f7"
            ],
            [
             0.6,
             "#e6f5d0"
            ],
            [
             0.7,
             "#b8e186"
            ],
            [
             0.8,
             "#7fbc41"
            ],
            [
             0.9,
             "#4d9221"
            ],
            [
             1,
             "#276419"
            ]
           ],
           "sequential": [
            [
             0,
             "#0d0887"
            ],
            [
             0.1111111111111111,
             "#46039f"
            ],
            [
             0.2222222222222222,
             "#7201a8"
            ],
            [
             0.3333333333333333,
             "#9c179e"
            ],
            [
             0.4444444444444444,
             "#bd3786"
            ],
            [
             0.5555555555555556,
             "#d8576b"
            ],
            [
             0.6666666666666666,
             "#ed7953"
            ],
            [
             0.7777777777777778,
             "#fb9f3a"
            ],
            [
             0.8888888888888888,
             "#fdca26"
            ],
            [
             1,
             "#f0f921"
            ]
           ],
           "sequentialminus": [
            [
             0,
             "#0d0887"
            ],
            [
             0.1111111111111111,
             "#46039f"
            ],
            [
             0.2222222222222222,
             "#7201a8"
            ],
            [
             0.3333333333333333,
             "#9c179e"
            ],
            [
             0.4444444444444444,
             "#bd3786"
            ],
            [
             0.5555555555555556,
             "#d8576b"
            ],
            [
             0.6666666666666666,
             "#ed7953"
            ],
            [
             0.7777777777777778,
             "#fb9f3a"
            ],
            [
             0.8888888888888888,
             "#fdca26"
            ],
            [
             1,
             "#f0f921"
            ]
           ]
          },
          "colorway": [
           "#636efa",
           "#EF553B",
           "#00cc96",
           "#ab63fa",
           "#FFA15A",
           "#19d3f3",
           "#FF6692",
           "#B6E880",
           "#FF97FF",
           "#FECB52"
          ],
          "font": {
           "color": "#2a3f5f"
          },
          "geo": {
           "bgcolor": "white",
           "lakecolor": "white",
           "landcolor": "#E5ECF6",
           "showlakes": true,
           "showland": true,
           "subunitcolor": "white"
          },
          "hoverlabel": {
           "align": "left"
          },
          "hovermode": "closest",
          "mapbox": {
           "style": "light"
          },
          "paper_bgcolor": "white",
          "plot_bgcolor": "#E5ECF6",
          "polar": {
           "angularaxis": {
            "gridcolor": "white",
            "linecolor": "white",
            "ticks": ""
           },
           "bgcolor": "#E5ECF6",
           "radialaxis": {
            "gridcolor": "white",
            "linecolor": "white",
            "ticks": ""
           }
          },
          "scene": {
           "xaxis": {
            "backgroundcolor": "#E5ECF6",
            "gridcolor": "white",
            "gridwidth": 2,
            "linecolor": "white",
            "showbackground": true,
            "ticks": "",
            "zerolinecolor": "white"
           },
           "yaxis": {
            "backgroundcolor": "#E5ECF6",
            "gridcolor": "white",
            "gridwidth": 2,
            "linecolor": "white",
            "showbackground": true,
            "ticks": "",
            "zerolinecolor": "white"
           },
           "zaxis": {
            "backgroundcolor": "#E5ECF6",
            "gridcolor": "white",
            "gridwidth": 2,
            "linecolor": "white",
            "showbackground": true,
            "ticks": "",
            "zerolinecolor": "white"
           }
          },
          "shapedefaults": {
           "line": {
            "color": "#2a3f5f"
           }
          },
          "ternary": {
           "aaxis": {
            "gridcolor": "white",
            "linecolor": "white",
            "ticks": ""
           },
           "baxis": {
            "gridcolor": "white",
            "linecolor": "white",
            "ticks": ""
           },
           "bgcolor": "#E5ECF6",
           "caxis": {
            "gridcolor": "white",
            "linecolor": "white",
            "ticks": ""
           }
          },
          "title": {
           "x": 0.05
          },
          "xaxis": {
           "automargin": true,
           "gridcolor": "white",
           "linecolor": "white",
           "ticks": "",
           "title": {
            "standoff": 15
           },
           "zerolinecolor": "white",
           "zerolinewidth": 2
          },
          "yaxis": {
           "automargin": true,
           "gridcolor": "white",
           "linecolor": "white",
           "ticks": "",
           "title": {
            "standoff": 15
           },
           "zerolinecolor": "white",
           "zerolinewidth": 2
          }
         }
        },
        "title": {
         "text": "Global Reforestation Area Covered (km²) with Data Table"
        }
       }
      }
     },
     "metadata": {},
     "output_type": "display_data"
    }
   ],
   "source": [
    "from plotly.subplots import make_subplots\n",
    "import plotly.graph_objects as go\n",
    "\n",
    "\n",
    "fig = make_subplots(rows=1, cols=2, column_widths=[0.7, 0.3], \n",
    "                    specs=[[{\"type\": \"choropleth\"}, {\"type\": \"table\"}]])\n",
    "\n",
    "fig.add_trace(\n",
    "    px.choropleth(world_with_area_covered,\n",
    "                  locations=\"iso_a3\",\n",
    "                  color=\"total_area_km2\",\n",
    "                  hover_name=\"name\",\n",
    "                  color_continuous_scale=px.colors.sequential.Viridis).data[0],\n",
    "    row=1, col=1\n",
    ")\n",
    "\n",
    "\n",
    "table_data = world_with_area_covered[['name', 'total_area_km2']].sort_values(by='total_area_km2', ascending=False)\n",
    "\n",
    "fig.add_trace(\n",
    "    go.Table(\n",
    "        header=dict(values=[\"Country\", \"Total Area Covered (km²)\"],\n",
    "                    fill_color='paleturquoise',\n",
    "                    align='left'),\n",
    "        cells=dict(values=[table_data.name, table_data.total_area_km2],\n",
    "                   fill_color='lavender',\n",
    "                   align='left')),\n",
    "    row=1, col=2\n",
    ")\n",
    "\n",
    "\n",
    "fig.update_layout(\n",
    "    title_text=\"Global Reforestation Area Covered (km²) with Data Table\",\n",
    "    showlegend=False\n",
    ")\n",
    "\n",
    "fig.show()"
   ]
  }
 ],
 "metadata": {
  "kernelspec": {
   "display_name": "downgrade",
   "language": "python",
   "name": "python3"
  },
  "language_info": {
   "codemirror_mode": {
    "name": "ipython",
    "version": 3
   },
   "file_extension": ".py",
   "mimetype": "text/x-python",
   "name": "python",
   "nbconvert_exporter": "python",
   "pygments_lexer": "ipython3",
   "version": "3.8.18"
  }
 },
 "nbformat": 4,
 "nbformat_minor": 2
}
