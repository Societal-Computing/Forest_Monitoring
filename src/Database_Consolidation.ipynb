{
 "cells": [
  {
   "cell_type": "markdown",
   "metadata": {},
   "source": [
    "#### Plant_planet_data"
   ]
  },
  {
   "cell_type": "code",
   "execution_count": 31,
   "metadata": {},
   "outputs": [
    {
     "name": "stdout",
     "output_type": "stream",
     "text": [
      "<class 'pandas.core.frame.DataFrame'>\n",
      "RangeIndex: 795 entries, 0 to 794\n",
      "Data columns (total 11 columns):\n",
      " #   Column                    Non-Null Count  Dtype  \n",
      "---  ------                    --------------  -----  \n",
      " 0   project_id_reported       795 non-null    object \n",
      " 1   site_id_reported          0 non-null      float64\n",
      " 2   trees_planted_reported    795 non-null    int64  \n",
      " 3   country                   793 non-null    object \n",
      " 4   description_reported      795 non-null    object \n",
      " 5   planting_date_reported    519 non-null    object \n",
      " 6   survival_rate_reported    546 non-null    float64\n",
      " 7   geometry_reported         775 non-null    object \n",
      " 8   site_sqkm                 775 non-null    float64\n",
      " 9   species_planted_reported  0 non-null      float64\n",
      " 10  species_count_reported    0 non-null      float64\n",
      "dtypes: float64(5), int64(1), object(5)\n",
      "memory usage: 68.4+ KB\n"
     ]
    }
   ],
   "source": [
    "import pandas as pd\n",
    "df_plant=pd.read_csv(\"/home/idisc02/Forest_Monitoring/input/PLANT_PLANET_CSV.csv\",encoding='latin-1')\n",
    "df_plant.info()\n"
   ]
  },
  {
   "cell_type": "markdown",
   "metadata": {},
   "source": [
    "#### Tree_Nation"
   ]
  },
  {
   "cell_type": "code",
   "execution_count": 13,
   "metadata": {},
   "outputs": [
    {
     "name": "stdout",
     "output_type": "stream",
     "text": [
      "<class 'pandas.core.frame.DataFrame'>\n",
      "RangeIndex: 376 entries, 0 to 375\n",
      "Data columns (total 11 columns):\n",
      " #   Column                    Non-Null Count  Dtype  \n",
      "---  ------                    --------------  -----  \n",
      " 0   planting_date_reported    376 non-null    object \n",
      " 1   description_reported      374 non-null    object \n",
      " 2   site_id_reported          376 non-null    int64  \n",
      " 3   project_id_reported       376 non-null    int64  \n",
      " 4   trees_planted_reported    376 non-null    int64  \n",
      " 5   geometry_reported         376 non-null    object \n",
      " 6   site_sqkm                 375 non-null    float64\n",
      " 7   country                   360 non-null    object \n",
      " 8   survival_rate_reported    0 non-null      float64\n",
      " 9   species_count_reported    0 non-null      float64\n",
      " 10  species_planted_reported  0 non-null      float64\n",
      "dtypes: float64(4), int64(3), object(4)\n",
      "memory usage: 32.4+ KB\n"
     ]
    }
   ],
   "source": [
    "df_nation=pd.read_csv(\"/home/idisc02/Forest_Monitoring/input/TREE_NATION.csv\",encoding='latin-1')\n",
    "df_nation.info()"
   ]
  },
  {
   "cell_type": "markdown",
   "metadata": {},
   "source": [
    "#### Open_Forest_protocol"
   ]
  },
  {
   "cell_type": "code",
   "execution_count": 11,
   "metadata": {},
   "outputs": [
    {
     "name": "stdout",
     "output_type": "stream",
     "text": [
      "<class 'pandas.core.frame.DataFrame'>\n",
      "RangeIndex: 112 entries, 0 to 111\n",
      "Data columns (total 11 columns):\n",
      " #   Column                    Non-Null Count  Dtype  \n",
      "---  ------                    --------------  -----  \n",
      " 0   site_id_reported          112 non-null    int64  \n",
      " 1   project_id_reported       112 non-null    int64  \n",
      " 2   survival_rate_reported    0 non-null      float64\n",
      " 3   species_planted_reported  0 non-null      float64\n",
      " 4   trees_planted_reported    0 non-null      float64\n",
      " 5   species_count_reported    0 non-null      float64\n",
      " 6   planting_date_reported    0 non-null      float64\n",
      " 7   country                   112 non-null    object \n",
      " 8   geometry_reported         112 non-null    object \n",
      " 9   site_sqkm                 112 non-null    float64\n",
      " 10  description_reported      112 non-null    object \n",
      "dtypes: float64(6), int64(2), object(3)\n",
      "memory usage: 9.8+ KB\n"
     ]
    }
   ],
   "source": [
    "df_ofp=pd.read_csv(\"/home/idisc02/Forest_Monitoring/input/OPF.csv\")\n",
    "df_ofp.info()"
   ]
  },
  {
   "cell_type": "markdown",
   "metadata": {},
   "source": [
    "#### Komaza verra_Project"
   ]
  },
  {
   "cell_type": "code",
   "execution_count": 15,
   "metadata": {},
   "outputs": [
    {
     "name": "stdout",
     "output_type": "stream",
     "text": [
      "<class 'pandas.core.frame.DataFrame'>\n",
      "RangeIndex: 23197 entries, 0 to 23196\n",
      "Data columns (total 11 columns):\n",
      " #   Column                    Non-Null Count  Dtype  \n",
      "---  ------                    --------------  -----  \n",
      " 0   site_id_reported          23197 non-null  object \n",
      " 1   planting_date_reported    23197 non-null  int64  \n",
      " 2   geometry_reported         23196 non-null  object \n",
      " 3   site_sqkm                 23197 non-null  float64\n",
      " 4   project_id_reported       0 non-null      float64\n",
      " 5   description_reported      0 non-null      float64\n",
      " 6   trees_planted_reported    0 non-null      float64\n",
      " 7   survival_rate_reported    0 non-null      float64\n",
      " 8   species_count_reported    0 non-null      float64\n",
      " 9   species_planted_reported  0 non-null      float64\n",
      " 10  country                   22657 non-null  object \n",
      "dtypes: float64(7), int64(1), object(3)\n",
      "memory usage: 1.9+ MB\n"
     ]
    }
   ],
   "source": [
    "df_komaza=pd.read_csv(\"/home/idisc02/Forest_Monitoring/input/Komaza.csv\")\n",
    "df_komaza.info()"
   ]
  },
  {
   "cell_type": "markdown",
   "metadata": {},
   "source": [
    "#### TIST data_with_trees_planted"
   ]
  },
  {
   "cell_type": "code",
   "execution_count": 16,
   "metadata": {},
   "outputs": [
    {
     "name": "stdout",
     "output_type": "stream",
     "text": [
      "<class 'pandas.core.frame.DataFrame'>\n",
      "RangeIndex: 11301 entries, 0 to 11300\n",
      "Data columns (total 11 columns):\n",
      " #   Column                    Non-Null Count  Dtype  \n",
      "---  ------                    --------------  -----  \n",
      " 0   project_id_reported       0 non-null      float64\n",
      " 1   site_id_reported          11301 non-null  object \n",
      " 2   geometry_reported         11300 non-null  object \n",
      " 3   planting_date_reported    11056 non-null  object \n",
      " 4   trees_planted_reported    11301 non-null  int64  \n",
      " 5   description_reported      0 non-null      float64\n",
      " 6   survival_rate_reported    0 non-null      float64\n",
      " 7   species_count_reported    0 non-null      float64\n",
      " 8   species_planted_reported  0 non-null      float64\n",
      " 9   site_sqkm                 11055 non-null  float64\n",
      " 10  country                   11301 non-null  object \n",
      "dtypes: float64(6), int64(1), object(4)\n",
      "memory usage: 971.3+ KB\n"
     ]
    }
   ],
   "source": [
    "df_tist=pd.read_csv(\"/home/idisc02/Forest_Monitoring/input/TIST_Meta.csv\")\n",
    "df_tist.info()"
   ]
  },
  {
   "cell_type": "markdown",
   "metadata": {},
   "source": [
    "#### TIST data_without_trees_planted"
   ]
  },
  {
   "cell_type": "code",
   "execution_count": 17,
   "metadata": {},
   "outputs": [
    {
     "name": "stdout",
     "output_type": "stream",
     "text": [
      "<class 'pandas.core.frame.DataFrame'>\n",
      "RangeIndex: 13016 entries, 0 to 13015\n",
      "Data columns (total 11 columns):\n",
      " #   Column                    Non-Null Count  Dtype  \n",
      "---  ------                    --------------  -----  \n",
      " 0   project_id_reported       0 non-null      float64\n",
      " 1   site_id_reported          13016 non-null  object \n",
      " 2   geometry_reported         13015 non-null  object \n",
      " 3   country                   13016 non-null  object \n",
      " 4   site_sqkm                 0 non-null      float64\n",
      " 5   description_reported      0 non-null      float64\n",
      " 6   planting_date_reported    0 non-null      float64\n",
      " 7   trees_planted_reported    0 non-null      float64\n",
      " 8   survival_rate_reported    0 non-null      float64\n",
      " 9   species_count_reported    0 non-null      float64\n",
      " 10  species_planted_reported  0 non-null      float64\n",
      "dtypes: float64(8), object(3)\n",
      "memory usage: 1.1+ MB\n"
     ]
    }
   ],
   "source": [
    "df_tist_w=pd.read_csv(\"/home/idisc02/Forest_Monitoring/input/TIST_Meta_without_trees.csv\")\n",
    "df_tist_w.info()"
   ]
  },
  {
   "cell_type": "markdown",
   "metadata": {},
   "source": [
    "#### ASIA_VERRA"
   ]
  },
  {
   "cell_type": "code",
   "execution_count": 23,
   "metadata": {},
   "outputs": [
    {
     "name": "stdout",
     "output_type": "stream",
     "text": [
      "<class 'pandas.core.frame.DataFrame'>\n",
      "RangeIndex: 43628 entries, 0 to 43627\n",
      "Data columns (total 11 columns):\n",
      " #   Column                    Non-Null Count  Dtype  \n",
      "---  ------                    --------------  -----  \n",
      " 0   site_id_reported          0 non-null      float64\n",
      " 1   project_id_reported       0 non-null      float64\n",
      " 2   geometry_reported         43611 non-null  object \n",
      " 3   description_reported      0 non-null      float64\n",
      " 4   planting_date_reported    0 non-null      float64\n",
      " 5   trees_planted_reported    0 non-null      float64\n",
      " 6   survival_rate_reported    0 non-null      float64\n",
      " 7   species_count_reported    0 non-null      float64\n",
      " 8   species_planted_reported  0 non-null      float64\n",
      " 9   country                   43610 non-null  object \n",
      " 10  site_sqkm                 43628 non-null  float64\n",
      "dtypes: float64(9), object(2)\n",
      "memory usage: 3.7+ MB\n"
     ]
    }
   ],
   "source": [
    "df_asia=pd.read_csv(\"/home/idisc02/Forest_Monitoring/input/concatenated_df_Asia.csv\")\n",
    "df_asia.info()"
   ]
  },
  {
   "cell_type": "markdown",
   "metadata": {},
   "source": [
    "#### VERRA Latin America"
   ]
  },
  {
   "cell_type": "code",
   "execution_count": 22,
   "metadata": {},
   "outputs": [
    {
     "name": "stdout",
     "output_type": "stream",
     "text": [
      "<class 'pandas.core.frame.DataFrame'>\n",
      "RangeIndex: 407 entries, 0 to 406\n",
      "Data columns (total 11 columns):\n",
      " #   Column                    Non-Null Count  Dtype  \n",
      "---  ------                    --------------  -----  \n",
      " 0   geometry_reported         407 non-null    object \n",
      " 1   site_id_reported          0 non-null      float64\n",
      " 2   project_id_reported       0 non-null      float64\n",
      " 3   description_reported      0 non-null      float64\n",
      " 4   planting_date_reported    0 non-null      float64\n",
      " 5   trees_planted_reported    0 non-null      float64\n",
      " 6   survival_rate_reported    0 non-null      float64\n",
      " 7   species_count_reported    0 non-null      float64\n",
      " 8   species_planted_reported  0 non-null      float64\n",
      " 9   country                   407 non-null    object \n",
      " 10  site_sqkm                 407 non-null    float64\n",
      "dtypes: float64(9), object(2)\n",
      "memory usage: 35.1+ KB\n"
     ]
    }
   ],
   "source": [
    "df_latin=pd.read_csv(\"/home/idisc02/Forest_Monitoring/input/concatenated_latin_df.csv\")\n",
    "df_latin.info()"
   ]
  },
  {
   "cell_type": "markdown",
   "metadata": {},
   "source": [
    "#### TIST other areas projects"
   ]
  },
  {
   "cell_type": "code",
   "execution_count": 24,
   "metadata": {},
   "outputs": [
    {
     "name": "stdout",
     "output_type": "stream",
     "text": [
      "<class 'pandas.core.frame.DataFrame'>\n",
      "RangeIndex: 270 entries, 0 to 269\n",
      "Data columns (total 11 columns):\n",
      " #   Column                    Non-Null Count  Dtype  \n",
      "---  ------                    --------------  -----  \n",
      " 0   geometry_reported         270 non-null    object \n",
      " 1   site_id_reported          270 non-null    int64  \n",
      " 2   species_planted_reported  270 non-null    object \n",
      " 3   planting_date_reported    270 non-null    object \n",
      " 4   project_id_reported       0 non-null      float64\n",
      " 5   description_reported      0 non-null      float64\n",
      " 6   trees_planted_reported    0 non-null      float64\n",
      " 7   survival_rate_reported    0 non-null      float64\n",
      " 8   species_count_reported    0 non-null      float64\n",
      " 9   site_sqkm                 270 non-null    float64\n",
      " 10  country                   270 non-null    object \n",
      "dtypes: float64(6), int64(1), object(4)\n",
      "memory usage: 23.3+ KB\n"
     ]
    }
   ],
   "source": [
    "df_other=pd.read_csv(\"/home/idisc02/Forest_Monitoring/input/OTHER_verra_projects.csv\")\n",
    "df_other.info()\n"
   ]
  },
  {
   "cell_type": "markdown",
   "metadata": {},
   "source": [
    "#### Restor eco data"
   ]
  },
  {
   "cell_type": "code",
   "execution_count": 25,
   "metadata": {},
   "outputs": [
    {
     "name": "stdout",
     "output_type": "stream",
     "text": [
      "<class 'pandas.core.frame.DataFrame'>\n",
      "RangeIndex: 1540 entries, 0 to 1539\n",
      "Data columns (total 11 columns):\n",
      " #   Column                    Non-Null Count  Dtype  \n",
      "---  ------                    --------------  -----  \n",
      " 0   site_id_reported          1540 non-null   object \n",
      " 1   description_reported      1540 non-null   object \n",
      " 2   geometry_reported         1518 non-null   object \n",
      " 3   site_sqkm                 1540 non-null   float64\n",
      " 4   country                   1540 non-null   object \n",
      " 5   planting_date_reported    1540 non-null   object \n",
      " 6   project_id_reported       0 non-null      float64\n",
      " 7   trees_planted_reported    0 non-null      float64\n",
      " 8   survival_rate_reported    0 non-null      float64\n",
      " 9   species_planted_reported  0 non-null      float64\n",
      " 10  species_count_reported    0 non-null      float64\n",
      "dtypes: float64(6), object(5)\n",
      "memory usage: 132.5+ KB\n"
     ]
    }
   ],
   "source": [
    "df_eco=pd.read_csv(\"/home/idisc02/Forest_Monitoring/input/Restor_Eco/restor_eco.csv\")\n",
    "df_eco.info()\n"
   ]
  },
  {
   "cell_type": "markdown",
   "metadata": {},
   "source": [
    "#### Explorer Data"
   ]
  },
  {
   "cell_type": "code",
   "execution_count": 36,
   "metadata": {},
   "outputs": [
    {
     "name": "stdout",
     "output_type": "stream",
     "text": [
      "<class 'pandas.core.frame.DataFrame'>\n",
      "RangeIndex: 21 entries, 0 to 20\n",
      "Data columns (total 11 columns):\n",
      " #   Column                    Non-Null Count  Dtype  \n",
      "---  ------                    --------------  -----  \n",
      " 0   project_id_reported       0 non-null      float64\n",
      " 1   country                   0 non-null      float64\n",
      " 2   planting_date_reported    20 non-null     float64\n",
      " 3   species_count_reported    0 non-null      float64\n",
      " 4   species_planted_reported  0 non-null      float64\n",
      " 5   survival_rate_reported    0 non-null      float64\n",
      " 6   site_sqkm                 11 non-null     float64\n",
      " 7   trees_planted_reported    19 non-null     float64\n",
      " 8   site_id_reported          21 non-null     object \n",
      " 9   geometry_reported         21 non-null     object \n",
      " 10  description_reported      21 non-null     object \n",
      "dtypes: float64(8), object(3)\n",
      "memory usage: 1.9+ KB\n"
     ]
    }
   ],
   "source": [
    "df_ex=pd.read_csv(\"/home/idisc02/Forest_Monitoring/input/ExplorerLand/explorer_land.csv\")\n",
    "df_ex.info()\n"
   ]
  },
  {
   "cell_type": "markdown",
   "metadata": {},
   "source": [
    "### Combining the datasets"
   ]
  },
  {
   "cell_type": "code",
   "execution_count": 37,
   "metadata": {},
   "outputs": [],
   "source": [
    "dfs = [df_plant,df_nation,df_asia,df_eco,df_ex,df_komaza,df_latin,df_ofp,df_other,df_tist,df_tist_w] "
   ]
  },
  {
   "cell_type": "code",
   "execution_count": 38,
   "metadata": {},
   "outputs": [],
   "source": [
    "\n",
    "reference_order = dfs[0].columns.tolist()\n",
    "reordered_dfs = [df[reference_order] for df in dfs]"
   ]
  },
  {
   "cell_type": "code",
   "execution_count": 42,
   "metadata": {},
   "outputs": [
    {
     "name": "stdout",
     "output_type": "stream",
     "text": [
      "<class 'pandas.core.frame.DataFrame'>\n",
      "RangeIndex: 94663 entries, 0 to 94662\n",
      "Data columns (total 11 columns):\n",
      " #   Column                    Non-Null Count  Dtype  \n",
      "---  ------                    --------------  -----  \n",
      " 0   project_id_reported       1283 non-null   object \n",
      " 1   site_id_reported          49833 non-null  object \n",
      " 2   trees_planted_reported    12491 non-null  float64\n",
      " 3   country                   94066 non-null  object \n",
      " 4   description_reported      2842 non-null   object \n",
      " 5   planting_date_reported    36978 non-null  object \n",
      " 6   survival_rate_reported    546 non-null    float64\n",
      " 7   geometry_reported         94601 non-null  object \n",
      " 8   site_sqkm                 81370 non-null  float64\n",
      " 9   species_planted_reported  270 non-null    object \n",
      " 10  species_count_reported    0 non-null      float64\n",
      "dtypes: float64(4), object(7)\n",
      "memory usage: 7.9+ MB\n"
     ]
    }
   ],
   "source": [
    "df_reforestation= pd.concat(reordered_dfs, ignore_index=True)\n",
    "df_reforestation.info()"
   ]
  },
  {
   "cell_type": "code",
   "execution_count": 41,
   "metadata": {},
   "outputs": [],
   "source": [
    "df_reforestation.to_csv('/home/idisc02/Forest_Monitoring/input/Baseline_reforestation.csv', index=False)"
   ]
  }
 ],
 "metadata": {
  "kernelspec": {
   "display_name": "downgrade",
   "language": "python",
   "name": "python3"
  },
  "language_info": {
   "codemirror_mode": {
    "name": "ipython",
    "version": 3
   },
   "file_extension": ".py",
   "mimetype": "text/x-python",
   "name": "python",
   "nbconvert_exporter": "python",
   "pygments_lexer": "ipython3",
   "version": "3.8.18"
  }
 },
 "nbformat": 4,
 "nbformat_minor": 2
}
