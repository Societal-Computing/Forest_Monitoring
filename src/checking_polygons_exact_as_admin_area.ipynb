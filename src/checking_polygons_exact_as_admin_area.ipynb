{
 "cells": [
  {
   "cell_type": "code",
   "execution_count": 1,
   "metadata": {},
   "outputs": [],
   "source": [
    "import geopandas as gpd\n",
    "import pandas as pd\n",
    "import glob\n",
    "import numpy as np\n",
    "from helper_functions import process_chunk_gadm, geometries_almost_equal"
   ]
  },
  {
   "cell_type": "code",
   "execution_count": null,
   "metadata": {},
   "outputs": [],
   "source": [
    "reforestation_gdf = gpd.read_parquet('../midsave/updated_consolidated_reforestation_projects.parquet')"
   ]
  },
  {
   "cell_type": "code",
   "execution_count": null,
   "metadata": {},
   "outputs": [],
   "source": [
    "reforestation_gdf = reforestation_gdf.set_crs(epsg=4326)"
   ]
  },
  {
   "cell_type": "markdown",
   "metadata": {},
   "source": [
    "### Checking cases where polygon is an exact administration area"
   ]
  },
  {
   "cell_type": "code",
   "execution_count": null,
   "metadata": {},
   "outputs": [],
   "source": [
    "\n",
    "\n",
    "# GADM dataset layers declaring\n",
    "gadm_layers = ['ADM_0', 'ADM_1', 'ADM_2', 'ADM_3', 'ADM_4', 'ADM_5']  \n",
    "gadm_data = {layer: gpd.read_file('/home/idisc02/Forest_Monitoring/input/gadm_410-levels.gpkg', layer=layer) for layer in gadm_layers}\n",
    "\n",
    "# Processing each layer separately\n",
    "for layer_name, gadm_data_layer in gadm_data.items():\n",
    "    print(f\"Processing layer: {layer_name}\")\n",
    "    \n",
    "    reforestation_gdf[f'match_{layer_name}'] = 'No'\n",
    "    \n",
    "    # Processing the reforestation data in chunks\n",
    "    chunk_size = 100000\n",
    "    chunks = [reforestation_gdf[i:i + chunk_size] for i in range(0, len(reforestation_gdf), chunk_size)]\n",
    "    \n",
    "    for i, chunk in enumerate(chunks):\n",
    "        print(f\"Processing chunk {i + 1}/{len(chunks)} for layer {layer_name}\")\n",
    "        exact_matches_chunk = process_chunk_gadm(chunk, gadm_data_layer, layer_name)\n",
    "        \n",
    "        if not exact_matches_chunk.empty:\n",
    "            # Marking the rows with exact matches as 'Yes'\n",
    "            reforestation_gdf.loc[exact_matches_chunk.index, f'match_{layer_name}'] = 'Yes'\n",
    "         \n",
    "            exact_matches_chunk.to_file(f\"exact_matches_{layer_name}_chunk_{i}.geojson\", driver='GeoJSON')\n",
    "        else:\n",
    "            print(f\"No matches found in chunk {i + 1} for layer {layer_name}\")\n",
    "\n",
    "    reforestation_gdf.to_file(f\"reforestation_with_matches_{layer_name}.gpkg\", driver='GPKG')\n",
    "\n",
    "# Combining all exact matches for each layer into a single GeoDataFrame\n",
    "for layer_name in gadm_layers:\n",
    "    chunk_files = glob.glob(f\"exact_matches_{layer_name}_chunk_*.geojson\")\n",
    "    exact_matches_list = [gpd.read_file(file) for file in chunk_files]\n",
    "    \n",
    "    if exact_matches_list:\n",
    "        exact_matches_gdf = gpd.GeoDataFrame(pd.concat(exact_matches_list, ignore_index=True), crs=reforestation_gdf.crs)\n",
    "        exact_matches_gdf.to_file(f\"exact_matches_{layer_name}.gpkg\", driver='GPKG')\n",
    "    else:\n",
    "        print(f\"No exact matches found for layer {layer_name}\")\n",
    "\n",
    "print(\"Processing complete.\")"
   ]
  },
  {
   "cell_type": "code",
   "execution_count": null,
   "metadata": {},
   "outputs": [],
   "source": [
    "reforestation_gdf = reforestation_gdf.set_crs(epsg=4326, allow_override=True)\n",
    "reforestation_gdf['exact-admin_area'] =reforestation_gdf[['match_ADM_0', 'match_ADM_1', 'match_ADM_2', 'match_ADM_3', 'match_ADM_4']].apply(lambda row: 'Yes' if 'Yes' in row.values else 'No', axis=1)\n",
    "reforestation_gdf = reforestation_gdf.drop(columns=['match_ADM_1', 'match_ADM_2','match_ADM_0', 'match_ADM_3','match_ADM_4'])"
   ]
  },
  {
   "cell_type": "markdown",
   "metadata": {},
   "source": [
    "### Checking if polygons are circle"
   ]
  },
  {
   "cell_type": "code",
   "execution_count": null,
   "metadata": {},
   "outputs": [],
   "source": [
    "\n",
    "\n",
    "\n",
    "\n",
    "reforestation_gdf[\"circularity\"] = (4 * np.pi * reforestation_gdf.area) / (reforestation_gdf.length ** 2)\n",
    "\n",
    "\n",
    "circle_threshold = 0.98\n",
    "\n",
    "\n",
    "reforestation_gdf[\"Polygon_acircle_oval\"] = np.where(\n",
    "   reforestation_gdf[\"circularity\"] > circle_threshold, \"Yes\", \"No\"\n",
    ")\n",
    "\n",
    "\n",
    "reforestation_gdf[\"intersecting_circle\"] = \"No\"\n",
    "\n",
    "\n",
    "circle_oval_gdf = reforestation_gdf[reforestation_gdf[\"Polygon_acircle_oval\"] == \"Yes\"]\n",
    "\n",
    "\n",
    "for i, circle1 in circle_oval_gdf.iterrows():\n",
    "    for j, circle2 in circle_oval_gdf.iterrows():\n",
    "        if i >= j:\n",
    "            continue  \n",
    "\n",
    "       \n",
    "        if circle1.geometry.intersects(circle2.geometry) or circle1.geometry.within(circle2.geometry) or circle2.geometry.within(circle1.geometry):\n",
    "            \n",
    "            reforestation_gdf.at[i, \"intersecting_circle\"] = \"Yes\"\n",
    "            reforestation_gdf.at[j, \"intersecting_circle\"] = \"Yes\"\n",
    "\n",
    "\n",
    "print(reforestation_gdf.info())\n",
    "# print(reforestation_gdf)"
   ]
  },
  {
   "cell_type": "code",
   "execution_count": null,
   "metadata": {},
   "outputs": [],
   "source": [
    "\n",
    "polygon_counts = reforestation_gdf[\"Polygon_acircle_oval\"].value_counts()\n",
    "\n",
    "intersecting_counts = reforestation_gdf[\"intersecting_circle\"].value_counts()\n",
    "\n",
    "print(\"Counts for 'Polygon_acircle_oval':\")\n",
    "print(polygon_counts)\n",
    "\n",
    "print(\"\\nCounts for 'intersecting_circle':\")\n",
    "print(intersecting_counts)"
   ]
  },
  {
   "cell_type": "code",
   "execution_count": null,
   "metadata": {},
   "outputs": [],
   "source": [
    "reforestation_gdf.to_parquet(\"../midsave/consolidated_reforestation_projects.parquet\")"
   ]
  }
 ],
 "metadata": {
  "kernelspec": {
   "display_name": "base",
   "language": "python",
   "name": "python3"
  },
  "language_info": {
   "codemirror_mode": {
    "name": "ipython",
    "version": 3
   },
   "file_extension": ".py",
   "mimetype": "text/x-python",
   "name": "python",
   "nbconvert_exporter": "python",
   "pygments_lexer": "ipython3",
   "version": "3.9.6"
  }
 },
 "nbformat": 4,
 "nbformat_minor": 2
}
