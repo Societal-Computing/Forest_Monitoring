{
 "cells": [
  {
   "cell_type": "code",
   "execution_count": null,
   "metadata": {},
   "outputs": [],
   "source": [
    "import geopandas as gpd\n",
    "import pandas as pd\n",
    "import glob\n",
    "import numpy as np\n",
    "import os\n",
    "from helper_functions import prepare_gadm_layers, process_reforestation"
   ]
  },
  {
   "cell_type": "code",
   "execution_count": null,
   "metadata": {},
   "outputs": [],
   "source": [
    "reforestation_gdf = gpd.read_parquet(\"../midsave/new_updated_reforestation_projects.parquet\")"
   ]
  },
  {
   "cell_type": "code",
   "execution_count": null,
   "metadata": {},
   "outputs": [],
   "source": [
    "reforestation_gdf = reforestation_gdf.set_crs(epsg=4326)"
   ]
  },
  {
   "cell_type": "code",
   "execution_count": null,
   "metadata": {},
   "outputs": [],
   "source": [
    "reforestation_gdf[\"site_id_created\"]"
   ]
  },
  {
   "cell_type": "markdown",
   "metadata": {},
   "source": [
    "### Checking cases where polygon is an exact administration area\n"
   ]
  },
  {
   "cell_type": "code",
   "execution_count": null,
   "metadata": {},
   "outputs": [],
   "source": [
    "\n",
    "\n",
    "# Defining data File paths\n",
    "GADM_PATH = \"../input/gadm_410-levels.gpkg\"\n",
    "REFORESTATION_PATH = \"../midsave/new_updated_reforestation_projects.parquet\"\n",
    "OUTPUT_DIR = \"results\"\n",
    "os.makedirs(OUTPUT_DIR, exist_ok=True)\n",
    "\n",
    "gadm_data = prepare_gadm_layers(GADM_PATH)\n",
    "\n",
    "# Processing the geometry reforestation data\n",
    "final_gdf = process_reforestation(REFORESTATION_PATH, gadm_data)\n",
    "\n",
    "output_path = os.path.join(OUTPUT_DIR, \"processed_reforestation.gpkg\")\n",
    "final_gdf.to_file(output_path, driver=\"GPKG\")\n",
    "print(f\"Results saved to {output_path}\")"
   ]
  },
  {
   "cell_type": "code",
   "execution_count": null,
   "metadata": {},
   "outputs": [],
   "source": []
  },
  {
   "cell_type": "code",
   "execution_count": null,
   "metadata": {},
   "outputs": [],
   "source": [
    "reforestation_gdf[\"exact_admin_area\"] = reforestation_gdf[\"site_id_created\"].isin(final_gdf[\"site_id_created\"]).map({True: \"Yes\", False: \"No\"})\n"
   ]
  },
  {
   "cell_type": "code",
   "execution_count": null,
   "metadata": {},
   "outputs": [],
   "source": [
    "reforestation_gdf[\"exact_admin_area\"].value_counts()"
   ]
  },
  {
   "cell_type": "code",
   "execution_count": null,
   "metadata": {},
   "outputs": [],
   "source": [
    "reforestation_gdf.info()"
   ]
  },
  {
   "cell_type": "markdown",
   "metadata": {},
   "source": [
    "### Checking cases where polygon is a 95% perfect circle"
   ]
  },
  {
   "cell_type": "code",
   "execution_count": null,
   "metadata": {},
   "outputs": [],
   "source": [
    "\n",
    "\n",
    "\n",
    "\n",
    "reforestation_gdf[\"circularity\"] = (4 * np.pi * reforestation_gdf.area) / (reforestation_gdf.length ** 2)\n",
    "\n",
    "\n",
    "circle_threshold = 0.95\n",
    "\n",
    "\n",
    "reforestation_gdf[\"polygon_acircle_oval_95\"] = np.where(\n",
    "   reforestation_gdf[\"circularity\"] > circle_threshold, \"Yes\", \"No\"\n",
    ")\n",
    "\n",
    "\n",
    "reforestation_gdf[\"intersecting_circle\"] = \"No\"\n",
    "\n",
    "\n",
    "circle_oval_gdf = reforestation_gdf[reforestation_gdf[\"polygon_acircle_oval_95\"] == \"Yes\"]\n",
    "\n",
    "\n",
    "for i, circle1 in circle_oval_gdf.iterrows():\n",
    "    for j, circle2 in circle_oval_gdf.iterrows():\n",
    "        if i >= j:\n",
    "            continue  \n",
    "\n",
    "       \n",
    "        if circle1.geometry.intersects(circle2.geometry) or circle1.geometry.within(circle2.geometry) or circle2.geometry.within(circle1.geometry):\n",
    "            \n",
    "            reforestation_gdf.at[i, \"intersecting_circle\"] = \"Yes\"\n",
    "            reforestation_gdf.at[j, \"intersecting_circle\"] = \"Yes\"\n",
    "\n",
    "\n",
    "print(reforestation_gdf.info())\n",
    "# print(reforestation_gdf)"
   ]
  },
  {
   "cell_type": "code",
   "execution_count": null,
   "metadata": {},
   "outputs": [],
   "source": [
    "reforestation_gdf[\"circularity\"].describe()"
   ]
  },
  {
   "cell_type": "code",
   "execution_count": null,
   "metadata": {},
   "outputs": [],
   "source": [
    "\n",
    "polygon_counts = reforestation_gdf[\"polygon_acircle_oval\"].value_counts()\n",
    "\n",
    "intersecting_counts = reforestation_gdf[\"intersecting_circle\"].value_counts()\n",
    "\n",
    "print(\"Counts for 'polygon_acircle_oval':\")\n",
    "print(polygon_counts)\n",
    "\n",
    "print(\"\\nCounts for 'intersecting_circle':\")\n",
    "print(intersecting_counts)"
   ]
  },
  {
   "cell_type": "code",
   "execution_count": null,
   "metadata": {},
   "outputs": [],
   "source": [
    "reforestation_gdf.info()"
   ]
  },
  {
   "cell_type": "code",
   "execution_count": null,
   "metadata": {},
   "outputs": [],
   "source": [
    "reforestation_gdf.drop(['geometry_type'], axis=1, inplace=True)\n",
    "\n",
    "reforestation_gdf.info()"
   ]
  },
  {
   "cell_type": "code",
   "execution_count": null,
   "metadata": {},
   "outputs": [],
   "source": [
    "reforestation_gdf.to_parquet(\"../midsave/newest_with_circularity_exact_site_updated_reforestation_projects.parquet\")"
   ]
  }
 ],
 "metadata": {
  "kernelspec": {
   "display_name": "base",
   "language": "python",
   "name": "python3"
  },
  "language_info": {
   "codemirror_mode": {
    "name": "ipython",
    "version": 3
   },
   "file_extension": ".py",
   "mimetype": "text/x-python",
   "name": "python",
   "nbconvert_exporter": "python",
   "pygments_lexer": "ipython3",
   "version": "3.9.6"
  }
 },
 "nbformat": 4,
 "nbformat_minor": 2
}
