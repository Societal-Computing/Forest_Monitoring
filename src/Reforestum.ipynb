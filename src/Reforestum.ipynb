{
 "cells": [
  {
   "cell_type": "markdown",
   "metadata": {},
   "source": [
    "# Reforestum\n",
    "https://reforestum.com"
   ]
  },
  {
   "cell_type": "code",
   "execution_count": 1,
   "metadata": {},
   "outputs": [],
   "source": [
    "import json\n",
    "import pandas as pd\n",
    "import geopandas as gpd\n",
    "from shapely.geometry import Point"
   ]
  },
  {
   "cell_type": "code",
   "execution_count": 2,
   "metadata": {},
   "outputs": [
    {
     "data": {
      "text/plain": [
       "list"
      ]
     },
     "execution_count": 2,
     "metadata": {},
     "output_type": "execute_result"
    }
   ],
   "source": [
    "with open('../input/Reforestum/forests.json', 'r') as file:\n",
    "    data = json.load(file)\n",
    "type(data)"
   ]
  },
  {
   "cell_type": "code",
   "execution_count": 3,
   "metadata": {},
   "outputs": [
    {
     "name": "stdout",
     "output_type": "stream",
     "text": [
      "<class 'pandas.core.frame.DataFrame'>\n",
      "RangeIndex: 3691 entries, 0 to 3690\n",
      "Data columns (total 17 columns):\n",
      " #   Column                           Non-Null Count  Dtype  \n",
      "---  ------                           --------------  -----  \n",
      " 0   status                           3691 non-null   int64  \n",
      " 1   data.forests.id                  3691 non-null   object \n",
      " 2   data.forests.name                3691 non-null   object \n",
      " 3   data.forests.short_desc          2082 non-null   object \n",
      " 4   data.forests.location_desc       3688 non-null   object \n",
      " 5   data.forests.total_surface       3691 non-null   int64  \n",
      " 6   data.forests.reforested_surface  3691 non-null   int64  \n",
      " 7   data.forests.occupied_surface    3691 non-null   int64  \n",
      " 8   data.forests.main_image          3691 non-null   object \n",
      " 9   data.forests.available           3691 non-null   bool   \n",
      " 10  data.forests.offset_type         3691 non-null   object \n",
      " 11  data.forests.timeline_formula    16 non-null     object \n",
      " 12  data.forests.co2_years           3691 non-null   object \n",
      " 13  data.forests.co2_sqm             472 non-null    object \n",
      " 14  data.forests.forest_slug         3691 non-null   object \n",
      " 15  data.forests.captured_co2        3691 non-null   float64\n",
      " 16  data.forests.coordinates         3691 non-null   object \n",
      "dtypes: bool(1), float64(1), int64(4), object(11)\n",
      "memory usage: 465.1+ KB\n"
     ]
    }
   ],
   "source": [
    "if isinstance(data, list) and isinstance(data[0], dict):\n",
    "    df = pd.DataFrame(data)\n",
    "df.info()"
   ]
  },
  {
   "cell_type": "code",
   "execution_count": 4,
   "metadata": {},
   "outputs": [
    {
     "data": {
      "text/html": [
       "<div>\n",
       "<style scoped>\n",
       "    .dataframe tbody tr th:only-of-type {\n",
       "        vertical-align: middle;\n",
       "    }\n",
       "\n",
       "    .dataframe tbody tr th {\n",
       "        vertical-align: top;\n",
       "    }\n",
       "\n",
       "    .dataframe thead th {\n",
       "        text-align: right;\n",
       "    }\n",
       "</style>\n",
       "<table border=\"1\" class=\"dataframe\">\n",
       "  <thead>\n",
       "    <tr style=\"text-align: right;\">\n",
       "      <th></th>\n",
       "      <th>status</th>\n",
       "      <th>data.forests.id</th>\n",
       "      <th>data.forests.name</th>\n",
       "      <th>data.forests.short_desc</th>\n",
       "      <th>data.forests.location_desc</th>\n",
       "      <th>data.forests.total_surface</th>\n",
       "      <th>data.forests.reforested_surface</th>\n",
       "      <th>data.forests.occupied_surface</th>\n",
       "      <th>data.forests.main_image</th>\n",
       "      <th>data.forests.available</th>\n",
       "      <th>data.forests.offset_type</th>\n",
       "      <th>data.forests.timeline_formula</th>\n",
       "      <th>data.forests.co2_years</th>\n",
       "      <th>data.forests.co2_sqm</th>\n",
       "      <th>data.forests.forest_slug</th>\n",
       "      <th>data.forests.captured_co2</th>\n",
       "      <th>data.forests.coordinates</th>\n",
       "      <th>country</th>\n",
       "    </tr>\n",
       "  </thead>\n",
       "  <tbody>\n",
       "    <tr>\n",
       "      <th>0</th>\n",
       "      <td>200</td>\n",
       "      <td>1</td>\n",
       "      <td>Génesis</td>\n",
       "      <td>Génesis, our first forest. Crowdfunded in 2017.</td>\n",
       "      <td>Picos de Europa, Spain</td>\n",
       "      <td>40000</td>\n",
       "      <td>40000</td>\n",
       "      <td>40000</td>\n",
       "      <td>https://s3.eu-central-1.amazonaws.com/reforest...</td>\n",
       "      <td>False</td>\n",
       "      <td>SQM-SHARES</td>\n",
       "      <td>if(y&lt;20){r = 0.0000672*(Math.pow(Math.E,(0.372...</td>\n",
       "      <td>25</td>\n",
       "      <td>0.17777551020000000000</td>\n",
       "      <td>genesis</td>\n",
       "      <td>39883.9013</td>\n",
       "      <td>[-4.3529, 42.7489]</td>\n",
       "      <td>Spain</td>\n",
       "    </tr>\n",
       "    <tr>\n",
       "      <th>1</th>\n",
       "      <td>200</td>\n",
       "      <td>5</td>\n",
       "      <td>Calahorra de Boedo</td>\n",
       "      <td>Calahorra de Boedo, Reforestum's first project...</td>\n",
       "      <td>Boedo-Ojeda county, north of Palencia, Spain</td>\n",
       "      <td>220000</td>\n",
       "      <td>220000</td>\n",
       "      <td>220000</td>\n",
       "      <td>https://statics.reforestum.com/forests/galleri...</td>\n",
       "      <td>False</td>\n",
       "      <td>SQM-SHARES</td>\n",
       "      <td>return (22.88908544779504 / (1 + Math.exp(-0.1...</td>\n",
       "      <td>40</td>\n",
       "      <td>0.01998192499000000000</td>\n",
       "      <td>calahorra</td>\n",
       "      <td>0.0000</td>\n",
       "      <td>[-4.3974, 42.5673]</td>\n",
       "      <td>Spain</td>\n",
       "    </tr>\n",
       "    <tr>\n",
       "      <th>2</th>\n",
       "      <td>200</td>\n",
       "      <td>6</td>\n",
       "      <td>ACR Forest</td>\n",
       "      <td>This forest covers an area of 2.12 hectares an...</td>\n",
       "      <td>Fresno del Río, Palencia, Spain</td>\n",
       "      <td>20000</td>\n",
       "      <td>20000</td>\n",
       "      <td>20000</td>\n",
       "      <td>https://statics.reforestum.com/forests/galleri...</td>\n",
       "      <td>False</td>\n",
       "      <td>SQM-SHARES</td>\n",
       "      <td>return (21.90292305405437 / (1 + Math.exp(-0.1...</td>\n",
       "      <td>40</td>\n",
       "      <td>0.02146226415000000000</td>\n",
       "      <td>acr</td>\n",
       "      <td>0.0000</td>\n",
       "      <td>[-4.8201, 42.6972]</td>\n",
       "      <td>Spain</td>\n",
       "    </tr>\n",
       "    <tr>\n",
       "      <th>3</th>\n",
       "      <td>200</td>\n",
       "      <td>7</td>\n",
       "      <td>Bosque Kiehl's</td>\n",
       "      <td>The Kiehl's forest is an afforestation project...</td>\n",
       "      <td>Santa Cruz de Boedo, Palencia, Spain</td>\n",
       "      <td>101400</td>\n",
       "      <td>101400</td>\n",
       "      <td>101400</td>\n",
       "      <td>https://statics.reforestum.com/forests/galleri...</td>\n",
       "      <td>False</td>\n",
       "      <td>SQM-SHARES</td>\n",
       "      <td>return (55.435503028539 / (1 + Math.exp(-0.177...</td>\n",
       "      <td>40</td>\n",
       "      <td>0.04720641026000000000</td>\n",
       "      <td>santa-cruz-de-boedo</td>\n",
       "      <td>0.0000</td>\n",
       "      <td>[-4.3818, 42.5442]</td>\n",
       "      <td>Spain</td>\n",
       "    </tr>\n",
       "    <tr>\n",
       "      <th>4</th>\n",
       "      <td>200</td>\n",
       "      <td>9</td>\n",
       "      <td>Galeries Lafayette Forest</td>\n",
       "      <td>This forest, located in Loire Atlantique, Fran...</td>\n",
       "      <td>Loire Atlantique, France</td>\n",
       "      <td>33200</td>\n",
       "      <td>33200</td>\n",
       "      <td>33200</td>\n",
       "      <td>https://statics.reforestum.com/forests/galleri...</td>\n",
       "      <td>False</td>\n",
       "      <td>SQM-SHARES</td>\n",
       "      <td>return (27.351921932309804 / (1 + Math.exp(-0....</td>\n",
       "      <td>30</td>\n",
       "      <td>0.02680722892000000000</td>\n",
       "      <td>galeries-lafayette</td>\n",
       "      <td>0.0000</td>\n",
       "      <td>[-1.3546, 47.5379]</td>\n",
       "      <td>France</td>\n",
       "    </tr>\n",
       "  </tbody>\n",
       "</table>\n",
       "</div>"
      ],
      "text/plain": [
       "   status data.forests.id          data.forests.name  \\\n",
       "0     200               1                    Génesis   \n",
       "1     200               5         Calahorra de Boedo   \n",
       "2     200               6                 ACR Forest   \n",
       "3     200               7             Bosque Kiehl's   \n",
       "4     200               9  Galeries Lafayette Forest   \n",
       "\n",
       "                             data.forests.short_desc  \\\n",
       "0    Génesis, our first forest. Crowdfunded in 2017.   \n",
       "1  Calahorra de Boedo, Reforestum's first project...   \n",
       "2  This forest covers an area of 2.12 hectares an...   \n",
       "3  The Kiehl's forest is an afforestation project...   \n",
       "4  This forest, located in Loire Atlantique, Fran...   \n",
       "\n",
       "                     data.forests.location_desc  data.forests.total_surface  \\\n",
       "0                        Picos de Europa, Spain                       40000   \n",
       "1  Boedo-Ojeda county, north of Palencia, Spain                      220000   \n",
       "2               Fresno del Río, Palencia, Spain                       20000   \n",
       "3          Santa Cruz de Boedo, Palencia, Spain                      101400   \n",
       "4                      Loire Atlantique, France                       33200   \n",
       "\n",
       "   data.forests.reforested_surface  data.forests.occupied_surface  \\\n",
       "0                            40000                          40000   \n",
       "1                           220000                         220000   \n",
       "2                            20000                          20000   \n",
       "3                           101400                         101400   \n",
       "4                            33200                          33200   \n",
       "\n",
       "                             data.forests.main_image  data.forests.available  \\\n",
       "0  https://s3.eu-central-1.amazonaws.com/reforest...                   False   \n",
       "1  https://statics.reforestum.com/forests/galleri...                   False   \n",
       "2  https://statics.reforestum.com/forests/galleri...                   False   \n",
       "3  https://statics.reforestum.com/forests/galleri...                   False   \n",
       "4  https://statics.reforestum.com/forests/galleri...                   False   \n",
       "\n",
       "  data.forests.offset_type                      data.forests.timeline_formula  \\\n",
       "0               SQM-SHARES  if(y<20){r = 0.0000672*(Math.pow(Math.E,(0.372...   \n",
       "1               SQM-SHARES  return (22.88908544779504 / (1 + Math.exp(-0.1...   \n",
       "2               SQM-SHARES  return (21.90292305405437 / (1 + Math.exp(-0.1...   \n",
       "3               SQM-SHARES  return (55.435503028539 / (1 + Math.exp(-0.177...   \n",
       "4               SQM-SHARES  return (27.351921932309804 / (1 + Math.exp(-0....   \n",
       "\n",
       "  data.forests.co2_years    data.forests.co2_sqm data.forests.forest_slug  \\\n",
       "0                     25  0.17777551020000000000                  genesis   \n",
       "1                     40  0.01998192499000000000                calahorra   \n",
       "2                     40  0.02146226415000000000                      acr   \n",
       "3                     40  0.04720641026000000000      santa-cruz-de-boedo   \n",
       "4                     30  0.02680722892000000000       galeries-lafayette   \n",
       "\n",
       "   data.forests.captured_co2 data.forests.coordinates country  \n",
       "0                 39883.9013       [-4.3529, 42.7489]   Spain  \n",
       "1                     0.0000       [-4.3974, 42.5673]   Spain  \n",
       "2                     0.0000       [-4.8201, 42.6972]   Spain  \n",
       "3                     0.0000       [-4.3818, 42.5442]   Spain  \n",
       "4                     0.0000       [-1.3546, 47.5379]  France  "
      ]
     },
     "execution_count": 4,
     "metadata": {},
     "output_type": "execute_result"
    }
   ],
   "source": [
    "df['country'] = df['data.forests.location_desc'].astype(str).apply(lambda x: x.split()[-1] if isinstance(x, str) else '')\n",
    "df.head()"
   ]
  },
  {
   "cell_type": "code",
   "execution_count": 5,
   "metadata": {},
   "outputs": [],
   "source": [
    "columns_rename_mapping = {\n",
    "    'data.forests.id': 'project_id_reported',\n",
    "    'data.forests.coordinates': 'geometry',\n",
    "    'data.forests.short_desc': 'project_description_reported',\n",
    "    'country': 'country',\n",
    "    'data.forests.reforested_surface':'site_sqkm'\n",
    "}\n",
    "df = df[list(columns_rename_mapping.keys())]\n",
    "df.rename(columns=columns_rename_mapping, inplace=True)"
   ]
  },
  {
   "cell_type": "markdown",
   "metadata": {},
   "source": [
    "### Fix geometries"
   ]
  },
  {
   "cell_type": "code",
   "execution_count": 6,
   "metadata": {},
   "outputs": [],
   "source": [
    "df['geometry'] = df['geometry'].apply(lambda x: Point(x))"
   ]
  },
  {
   "cell_type": "code",
   "execution_count": 7,
   "metadata": {},
   "outputs": [],
   "source": [
    "gdf = gpd.GeoDataFrame(df, geometry='geometry', crs = 'EPSG:4326')\n",
    "gdf['geometry'] = gdf['geometry'].make_valid()"
   ]
  },
  {
   "cell_type": "code",
   "execution_count": 8,
   "metadata": {},
   "outputs": [],
   "source": [
    "invalid_geom = False\n",
    "\n",
    "if len(gdf[gdf.geometry.is_valid == False]) > 0:\n",
    "    invalid_geom = True"
   ]
  },
  {
   "cell_type": "markdown",
   "metadata": {},
   "source": [
    "### Harmonize nomenclature"
   ]
  },
  {
   "cell_type": "code",
   "execution_count": 9,
   "metadata": {},
   "outputs": [],
   "source": [
    "gdf['site_sqkm'] = gdf['site_sqkm'] / 1e6\n",
    "gdf['url'] = 'https://reforestum.com'\n",
    "gdf['host_name'] = 'reforestum'\n",
    "gdf['project_geometries_invalid'] = invalid_geom"
   ]
  },
  {
   "cell_type": "code",
   "execution_count": 10,
   "metadata": {},
   "outputs": [
    {
     "name": "stdout",
     "output_type": "stream",
     "text": [
      "<class 'geopandas.geodataframe.GeoDataFrame'>\n",
      "RangeIndex: 3691 entries, 0 to 3690\n",
      "Data columns (total 14 columns):\n",
      " #   Column                        Non-Null Count  Dtype   \n",
      "---  ------                        --------------  -----   \n",
      " 0   project_id_reported           3691 non-null   object  \n",
      " 1   geometry                      3691 non-null   geometry\n",
      " 2   project_description_reported  2082 non-null   object  \n",
      " 3   country                       0 non-null      object  \n",
      " 4   site_sqkm                     0 non-null      object  \n",
      " 5   url                           3691 non-null   object  \n",
      " 6   host_name                     3691 non-null   object  \n",
      " 7   project_geometries_invalid    3691 non-null   bool    \n",
      " 8   species_count_reported        0 non-null      object  \n",
      " 9   species_planted_reported      0 non-null      object  \n",
      " 10  survival_rate_reported        0 non-null      object  \n",
      " 11  trees_planted_reported        0 non-null      object  \n",
      " 12  planting_date_reported        0 non-null      object  \n",
      " 13  site_id_reported              0 non-null      object  \n",
      "dtypes: bool(1), geometry(1), object(12)\n",
      "memory usage: 378.6+ KB\n"
     ]
    }
   ],
   "source": [
    "gdf = gdf.assign(site_sqkm=None,species_count_reported=None, species_planted_reported=None, survival_rate_reported=None,trees_planted_reported=None,planting_date_reported=None,country=None,site_id_reported=None)\n",
    "gdf.info()"
   ]
  },
  {
   "cell_type": "code",
   "execution_count": 11,
   "metadata": {},
   "outputs": [],
   "source": [
    "gdf.to_file('../midsave/reforestum.gpkg')"
   ]
  }
 ],
 "metadata": {
  "kernelspec": {
   "display_name": "Python 3 (ipykernel)",
   "language": "python",
   "name": "python3"
  },
  "language_info": {
   "codemirror_mode": {
    "name": "ipython",
    "version": 3
   },
   "file_extension": ".py",
   "mimetype": "text/x-python",
   "name": "python",
   "nbconvert_exporter": "python",
   "pygments_lexer": "ipython3",
   "version": "3.13.2"
  }
 },
 "nbformat": 4,
 "nbformat_minor": 4
}
