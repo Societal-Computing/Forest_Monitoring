{
 "cells": [
  {
   "cell_type": "markdown",
   "metadata": {},
   "source": [
    "# Veritree\n",
    "https://www.veritree.com"
   ]
  },
  {
   "cell_type": "code",
   "execution_count": null,
   "metadata": {},
   "outputs": [],
   "source": [
    "import json\n",
    "import pandas as pd\n",
    "import geopandas as gpd\n",
    "from shapely.geometry import Point, Polygon"
   ]
  },
  {
   "cell_type": "code",
   "execution_count": null,
   "metadata": {},
   "outputs": [],
   "source": [
    "with open('../input/Verritree/verritree1.json', 'r') as file:\n",
    "    data1 = json.load(file)\n",
    "with open('../input/Verritree/verritree2.json', 'r') as file:\n",
    "    data2 = json.load(file)\n",
    "with open('../input/Verritree/verritree3.json', 'r') as file:\n",
    "    data3 = json.load(file)\n",
    "\n",
    "data = data1 + data2 + data3"
   ]
  },
  {
   "cell_type": "code",
   "execution_count": null,
   "metadata": {},
   "outputs": [],
   "source": [
    "if isinstance(data, list) and isinstance(data[0], dict):\n",
    "    df = pd.DataFrame(data)\n",
    "df.info()"
   ]
  },
  {
   "cell_type": "code",
   "execution_count": null,
   "metadata": {},
   "outputs": [],
   "source": [
    "columns_rename_mapping = {\n",
    "    'planting_site_id': 'site_id_reported',\n",
    "    'id': 'project_id_reported',\n",
    "    'geofence.coordinates': 'geometry',\n",
    "    'description': 'project_description_reported',\n",
    "    'planting_site.country.name': 'country',\n",
    "    'forest_type.average_survival_rate': 'survival_rate_reported',\n",
    "    'species': 'species_planted_reported'\n",
    "}\n",
    "df = df[list(columns_rename_mapping.keys())]\n",
    "df.rename(columns=columns_rename_mapping, inplace=True)"
   ]
  },
  {
   "cell_type": "code",
   "execution_count": null,
   "metadata": {},
   "outputs": [],
   "source": [
    "df.head(1)"
   ]
  },
  {
   "cell_type": "markdown",
   "metadata": {},
   "source": [
    "### Fix geometries"
   ]
  },
  {
   "cell_type": "code",
   "execution_count": null,
   "metadata": {},
   "outputs": [],
   "source": [
    "df['geometry'] = df['geometry'].apply(lambda coords: Polygon([coord for sublist1 in coords for sublist2 in sublist1 for coord in sublist2]))"
   ]
  },
  {
   "cell_type": "code",
   "execution_count": null,
   "metadata": {},
   "outputs": [],
   "source": [
    "gdf = gpd.GeoDataFrame(df, geometry='geometry', crs = 'EPSG:4326')\n",
    "gdf['geometry'] = gdf['geometry'].make_valid()"
   ]
  },
  {
   "cell_type": "code",
   "execution_count": null,
   "metadata": {},
   "outputs": [],
   "source": [
    "gdf.head(1)"
   ]
  },
  {
   "cell_type": "markdown",
   "metadata": {},
   "source": [
    "### Harmonize nomenclature"
   ]
  },
  {
   "cell_type": "code",
   "execution_count": null,
   "metadata": {},
   "outputs": [],
   "source": [
    "gdf[\"host_name\"] = 'Veritree'\n",
    "gdf[\"url\"] = 'https://www.veritree.com'\n",
    "gdf[\"site_sqkm\"] = gdf[\"geometry\"].to_crs('EPSG:3857').area / 1e6\n",
    "gdf['species_planted_reported'] = gdf['species_planted_reported'].apply(lambda x: ', '.join(x) if isinstance(x, list) else x)"
   ]
  },
  {
   "cell_type": "code",
   "execution_count": null,
   "metadata": {},
   "outputs": [],
   "source": [
    "gdf = gdf.assign(species_count_reported=None,trees_planted_reported=None,planting_date_reported=None)\n",
    "gdf.info()"
   ]
  },
  {
   "cell_type": "markdown",
   "metadata": {},
   "source": [
    "### Save it"
   ]
  },
  {
   "cell_type": "code",
   "execution_count": null,
   "metadata": {},
   "outputs": [],
   "source": [
    "gdf.to_file('../midsave/veritree.gpkg')"
   ]
  }
 ],
 "metadata": {
  "kernelspec": {
   "display_name": "Python 3 (ipykernel)",
   "language": "python",
   "name": "python3"
  },
  "language_info": {
   "codemirror_mode": {
    "name": "ipython",
    "version": 3
   },
   "file_extension": ".py",
   "mimetype": "text/x-python",
   "name": "python",
   "nbconvert_exporter": "python",
   "pygments_lexer": "ipython3",
   "version": "3.12.4"
  }
 },
 "nbformat": 4,
 "nbformat_minor": 4
}
