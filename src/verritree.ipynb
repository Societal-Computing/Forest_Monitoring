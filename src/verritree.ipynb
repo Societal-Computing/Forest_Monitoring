{
 "cells": [
  {
   "cell_type": "markdown",
   "metadata": {},
   "source": [
    "# Veritree\n",
    "https://www.veritree.com"
   ]
  },
  {
   "cell_type": "code",
   "execution_count": 2,
   "metadata": {},
   "outputs": [],
   "source": [
    "import json\n",
    "import pandas as pd\n",
    "import geopandas as gpd\n",
    "from shapely.geometry import Point, Polygon"
   ]
  },
  {
   "cell_type": "code",
   "execution_count": 3,
   "metadata": {},
   "outputs": [],
   "source": [
    "with open('../input/Verritree/verritree1.json', 'r') as file:\n",
    "    data1 = json.load(file)\n",
    "with open('../input/Verritree/verritree2.json', 'r') as file:\n",
    "    data2 = json.load(file)\n",
    "with open('../input/Verritree/verritree3.json', 'r') as file:\n",
    "    data3 = json.load(file)\n",
    "\n",
    "data = data1 + data2 + data3"
   ]
  },
  {
   "cell_type": "code",
   "execution_count": 4,
   "metadata": {},
   "outputs": [
    {
     "name": "stdout",
     "output_type": "stream",
     "text": [
      "<class 'pandas.core.frame.DataFrame'>\n",
      "RangeIndex: 122 entries, 0 to 121\n",
      "Data columns (total 82 columns):\n",
      " #   Column                              Non-Null Count  Dtype  \n",
      "---  ------                              --------------  -----  \n",
      " 0   id                                  122 non-null    int64  \n",
      " 1   public_id                           122 non-null    object \n",
      " 2   planting_site_id                    122 non-null    int64  \n",
      " 3   country_id                          122 non-null    int64  \n",
      " 4   organization_id                     122 non-null    int64  \n",
      " 5   subsite_type_id                     122 non-null    int64  \n",
      " 6   plus_code                           122 non-null    object \n",
      " 7   name                                122 non-null    object \n",
      " 8   description                         122 non-null    object \n",
      " 9   legacy                              122 non-null    int64  \n",
      " 10  created_at                          122 non-null    object \n",
      " 11  updated_at                          122 non-null    object \n",
      " 12  forest_type_id                      122 non-null    int64  \n",
      " 13  rainfall_yearly_mm                  68 non-null     float64\n",
      " 14  enabled                             122 non-null    int64  \n",
      " 15  media                               122 non-null    object \n",
      " 16  organization_name                   122 non-null    object \n",
      " 17  standards                           122 non-null    object \n",
      " 18  subsite_area_square_meters          122 non-null    int64  \n",
      " 19  type                                122 non-null    object \n",
      " 20  visibility                          122 non-null    int64  \n",
      " 21  species                             122 non-null    object \n",
      " 22  lat                                 122 non-null    float64\n",
      " 23  long                                122 non-null    float64\n",
      " 24  area_square_meters                  122 non-null    int64  \n",
      " 25  center_lat                          122 non-null    float64\n",
      " 26  center_lng                          122 non-null    float64\n",
      " 27  subsite_main_image.id               45 non-null     float64\n",
      " 28  subsite_main_image.url              45 non-null     object \n",
      " 29  subsite_main_image.cdn_url          45 non-null     object \n",
      " 30  header_image.id                     10 non-null     float64\n",
      " 31  header_image.url                    10 non-null     object \n",
      " 32  header_image.cdn_url                10 non-null     object \n",
      " 33  organization_logo.id                111 non-null    float64\n",
      " 34  organization_logo.url               111 non-null    object \n",
      " 35  organization_logo.cdn_url           111 non-null    object \n",
      " 36  geofence.type                       122 non-null    object \n",
      " 37  geofence.coordinates                122 non-null    object \n",
      " 38  organization.id                     122 non-null    int64  \n",
      " 39  organization.public_id              122 non-null    object \n",
      " 40  organization.name                   122 non-null    object \n",
      " 41  organization.description            97 non-null     object \n",
      " 42  organization.logo.id                111 non-null    float64\n",
      " 43  organization.logo.url               111 non-null    object \n",
      " 44  organization.logo.cdn_url           111 non-null    object \n",
      " 45  organization.logo_url.id            111 non-null    float64\n",
      " 46  organization.logo_url.url           111 non-null    object \n",
      " 47  organization.logo_url.cdn_url       111 non-null    object \n",
      " 48  forest_type.id                      122 non-null    int64  \n",
      " 49  forest_type.public_id               122 non-null    object \n",
      " 50  forest_type.organization_id         122 non-null    int64  \n",
      " 51  forest_type.forest_category_id      122 non-null    int64  \n",
      " 52  forest_type.forest_group_id         122 non-null    int64  \n",
      " 53  forest_type.name                    122 non-null    object \n",
      " 54  forest_type.description             36 non-null     object \n",
      " 55  forest_type.planting_density        122 non-null    int64  \n",
      " 56  forest_type.average_lifetime_years  122 non-null    object \n",
      " 57  forest_type.average_survival_rate   122 non-null    int64  \n",
      " 58  forest_type.co2_amount_lifetime     122 non-null    object \n",
      " 59  forest_type.working_days            122 non-null    object \n",
      " 60  forest_type.indicator_id            122 non-null    int64  \n",
      " 61  forest_type.yield                   122 non-null    object \n",
      " 62  forest_type.planting_counter_type   122 non-null    object \n",
      " 63  forest_type.forest_type_species     122 non-null    object \n",
      " 64  forest_type.palette_id              122 non-null    int64  \n",
      " 65  forest_type.color_palette.name      122 non-null    object \n",
      " 66  forest_type.color_palette.dark      122 non-null    object \n",
      " 67  forest_type.color_palette.light     122 non-null    object \n",
      " 68  forest_type.forest_group.id         122 non-null    int64  \n",
      " 69  forest_type.forest_group.public_id  122 non-null    object \n",
      " 70  forest_type.forest_group.name       122 non-null    object \n",
      " 71  planting_site.id                    122 non-null    int64  \n",
      " 72  planting_site.visibility            122 non-null    int64  \n",
      " 73  planting_site.name                  122 non-null    object \n",
      " 74  planting_site.country.id            122 non-null    int64  \n",
      " 75  planting_site.country.full_name     122 non-null    object \n",
      " 76  planting_site.country.name          122 non-null    object \n",
      " 77  socioeconomic_impacts               4 non-null      object \n",
      " 78  additional_info_description         5 non-null      object \n",
      " 79  additional_info_title               4 non-null      object \n",
      " 80  planting_site.description           41 non-null     object \n",
      " 81  site_code                           3 non-null      object \n",
      "dtypes: float64(10), int64(24), object(48)\n",
      "memory usage: 78.3+ KB\n"
     ]
    }
   ],
   "source": [
    "if isinstance(data, list) and isinstance(data[0], dict):\n",
    "    df = pd.DataFrame(data)\n",
    "df.info()"
   ]
  },
  {
   "cell_type": "code",
   "execution_count": 5,
   "metadata": {},
   "outputs": [],
   "source": [
    "columns_rename_mapping = {\n",
    "    'planting_site_id': 'site_id_reported',\n",
    "    'id': 'project_id_reported',\n",
    "    'geofence.coordinates': 'geometry',\n",
    "    'description': 'project_description_reported',\n",
    "    'planting_site.country.name': 'country',\n",
    "    'forest_type.average_survival_rate': 'survival_rate_reported',\n",
    "    'species': 'species_planted_reported'\n",
    "}\n",
    "df = df[list(columns_rename_mapping.keys())]\n",
    "df.rename(columns=columns_rename_mapping, inplace=True)"
   ]
  },
  {
   "cell_type": "code",
   "execution_count": 6,
   "metadata": {},
   "outputs": [
    {
     "name": "stdout",
     "output_type": "stream",
     "text": [
      "Number of unique project IDs: 122\n"
     ]
    }
   ],
   "source": [
    "\n",
    "unique_project_ids_count = df['project_id_reported'].nunique()\n",
    "\n",
    "\n",
    "print(f\"Number of unique project IDs: {unique_project_ids_count}\")"
   ]
  },
  {
   "cell_type": "code",
   "execution_count": 7,
   "metadata": {},
   "outputs": [
    {
     "data": {
      "text/html": [
       "<div>\n",
       "<style scoped>\n",
       "    .dataframe tbody tr th:only-of-type {\n",
       "        vertical-align: middle;\n",
       "    }\n",
       "\n",
       "    .dataframe tbody tr th {\n",
       "        vertical-align: top;\n",
       "    }\n",
       "\n",
       "    .dataframe thead th {\n",
       "        text-align: right;\n",
       "    }\n",
       "</style>\n",
       "<table border=\"1\" class=\"dataframe\">\n",
       "  <thead>\n",
       "    <tr style=\"text-align: right;\">\n",
       "      <th></th>\n",
       "      <th>site_id_reported</th>\n",
       "      <th>project_id_reported</th>\n",
       "      <th>geometry</th>\n",
       "      <th>project_description_reported</th>\n",
       "      <th>country</th>\n",
       "      <th>survival_rate_reported</th>\n",
       "      <th>species_planted_reported</th>\n",
       "    </tr>\n",
       "  </thead>\n",
       "  <tbody>\n",
       "    <tr>\n",
       "      <th>0</th>\n",
       "      <td>2</td>\n",
       "      <td>22</td>\n",
       "      <td>[[[[46.3948, -15.9352], [46.3971, -15.9379], [...</td>\n",
       "      <td>The Betsiboka estuary is a highly dynamic fore...</td>\n",
       "      <td>Madagascar</td>\n",
       "      <td>70</td>\n",
       "      <td>[Avicennia marina, Bruguiera gymnorrhiza, Ceri...</td>\n",
       "    </tr>\n",
       "  </tbody>\n",
       "</table>\n",
       "</div>"
      ],
      "text/plain": [
       "   site_id_reported  project_id_reported  \\\n",
       "0                 2                   22   \n",
       "\n",
       "                                            geometry  \\\n",
       "0  [[[[46.3948, -15.9352], [46.3971, -15.9379], [...   \n",
       "\n",
       "                        project_description_reported     country  \\\n",
       "0  The Betsiboka estuary is a highly dynamic fore...  Madagascar   \n",
       "\n",
       "   survival_rate_reported                           species_planted_reported  \n",
       "0                      70  [Avicennia marina, Bruguiera gymnorrhiza, Ceri...  "
      ]
     },
     "execution_count": 7,
     "metadata": {},
     "output_type": "execute_result"
    }
   ],
   "source": [
    "df.head(1)"
   ]
  },
  {
   "cell_type": "markdown",
   "metadata": {},
   "source": [
    "### Fix geometries"
   ]
  },
  {
   "cell_type": "code",
   "execution_count": 8,
   "metadata": {},
   "outputs": [],
   "source": [
    "df['geometry'] = df['geometry'].apply(lambda coords: Polygon([coord for sublist1 in coords for sublist2 in sublist1 for coord in sublist2]))"
   ]
  },
  {
   "cell_type": "code",
   "execution_count": 9,
   "metadata": {},
   "outputs": [],
   "source": [
    "gdf = gpd.GeoDataFrame(df, geometry='geometry', crs = 'EPSG:4326')\n",
    "gdf['geometry'] = gdf['geometry'].make_valid()"
   ]
  },
  {
   "cell_type": "code",
   "execution_count": 10,
   "metadata": {},
   "outputs": [],
   "source": [
    "invalid_geom = False\n",
    "\n",
    "if len(gdf[gdf.geometry.is_valid == False]) > 0:\n",
    "    invalid_geom = True"
   ]
  },
  {
   "cell_type": "markdown",
   "metadata": {},
   "source": [
    "### Harmonize nomenclature"
   ]
  },
  {
   "cell_type": "code",
   "execution_count": 11,
   "metadata": {},
   "outputs": [],
   "source": [
    "gdf[\"host_name\"] = 'Veritree'\n",
    "gdf['project_geometries_invalid'] = invalid_geom\n",
    "gdf[\"url\"] = 'https://www.veritree.com'\n",
    "gdf[\"site_sqkm\"] = gdf[\"geometry\"].to_crs('EPSG:3857').area / 1e6\n",
    "gdf['species_planted_reported'] = gdf['species_planted_reported'].apply(lambda x: ', '.join(x) if isinstance(x, list) else x)"
   ]
  },
  {
   "cell_type": "code",
   "execution_count": 12,
   "metadata": {},
   "outputs": [
    {
     "name": "stdout",
     "output_type": "stream",
     "text": [
      "<class 'geopandas.geodataframe.GeoDataFrame'>\n",
      "RangeIndex: 122 entries, 0 to 121\n",
      "Data columns (total 14 columns):\n",
      " #   Column                        Non-Null Count  Dtype   \n",
      "---  ------                        --------------  -----   \n",
      " 0   site_id_reported              122 non-null    int64   \n",
      " 1   project_id_reported           122 non-null    int64   \n",
      " 2   geometry                      122 non-null    geometry\n",
      " 3   project_description_reported  122 non-null    object  \n",
      " 4   country                       122 non-null    object  \n",
      " 5   survival_rate_reported        122 non-null    int64   \n",
      " 6   species_planted_reported      122 non-null    object  \n",
      " 7   host_name                     122 non-null    object  \n",
      " 8   project_geometries_invalid    122 non-null    bool    \n",
      " 9   url                           122 non-null    object  \n",
      " 10  site_sqkm                     122 non-null    float64 \n",
      " 11  species_count_reported        0 non-null      object  \n",
      " 12  trees_planted_reported        0 non-null      object  \n",
      " 13  planting_date_reported        0 non-null      object  \n",
      "dtypes: bool(1), float64(1), geometry(1), int64(3), object(8)\n",
      "memory usage: 12.6+ KB\n"
     ]
    }
   ],
   "source": [
    "gdf = gdf.assign(species_count_reported=None,trees_planted_reported=None,planting_date_reported=None)\n",
    "gdf.info()"
   ]
  },
  {
   "cell_type": "markdown",
   "metadata": {},
   "source": [
    "### Save it"
   ]
  },
  {
   "cell_type": "code",
   "execution_count": 13,
   "metadata": {},
   "outputs": [],
   "source": [
    "gdf.to_file('../midsave/veritree.gpkg')"
   ]
  }
 ],
 "metadata": {
  "kernelspec": {
   "display_name": "Python 3 (ipykernel)",
   "language": "python",
   "name": "python3"
  },
  "language_info": {
   "codemirror_mode": {
    "name": "ipython",
    "version": 3
   },
   "file_extension": ".py",
   "mimetype": "text/x-python",
   "name": "python",
   "nbconvert_exporter": "python",
   "pygments_lexer": "ipython3",
   "version": "3.13.2"
  }
 },
 "nbformat": 4,
 "nbformat_minor": 4
}
