{
 "cells": [
  {
   "cell_type": "code",
   "execution_count": 65,
   "id": "6f44ca38",
   "metadata": {},
   "outputs": [],
   "source": [
    "import numpy as np\n",
    "import pandas as pd\n",
    "import geopandas as gpd\n",
    "from sklearn.cluster import DBSCAN\n",
    "from tqdm import tqdm\n",
    "import matplotlib.pyplot as plt"
   ]
  },
  {
   "cell_type": "markdown",
   "id": "700c388b",
   "metadata": {},
   "source": [
    "Reading Reforestation Projects file"
   ]
  },
  {
   "cell_type": "code",
   "execution_count": 66,
   "id": "20e08eb1",
   "metadata": {},
   "outputs": [],
   "source": [
    "projects = gpd.read_file('/home/idisc02/Forest_Monitoring/src/df_reforestation.geojson')"
   ]
  },
  {
   "cell_type": "markdown",
   "id": "3ea87ccb",
   "metadata": {},
   "source": [
    "Transform to projected CRS"
   ]
  },
  {
   "cell_type": "code",
   "execution_count": 69,
   "id": "e190fa06",
   "metadata": {},
   "outputs": [
    {
     "data": {
      "text/plain": [
       "0        POLYGON ((-8823668.750 -480873.564, -8823652.3...\n",
       "1        POLYGON ((-8825786.322 -480927.326, -8825779.3...\n",
       "2        POLYGON ((-64340.412 4971882.613, -64335.445 4...\n",
       "3        POLYGON ((-64449.123 4968025.475, -64418.843 4...\n",
       "4        POLYGON ((-9707836.906 1737846.257, -9704014.7...\n",
       "                               ...                        \n",
       "39532    POLYGON ((4452114.020 34114.710, 4452149.265 3...\n",
       "39533    POLYGON ((4451668.266 33510.102, 4451661.317 3...\n",
       "39534    POLYGON ((4452297.685 34004.013, 4452353.274 3...\n",
       "39535    POLYGON ((4452264.917 34492.957, 4452311.580 3...\n",
       "39536    MULTIPOLYGON (((4451896.604 34624.010, 4451814...\n",
       "Name: geometry, Length: 39537, dtype: geometry"
      ]
     },
     "execution_count": 69,
     "metadata": {},
     "output_type": "execute_result"
    }
   ],
   "source": [
    "projects= projects.to_crs('EPSG:3857')\n",
    "gdf=projects\n",
    "gdf[\"geometry\"]"
   ]
  },
  {
   "cell_type": "code",
   "execution_count": 79,
   "id": "8e2635d9",
   "metadata": {},
   "outputs": [
    {
     "name": "stdout",
     "output_type": "stream",
     "text": [
      "Total clusters created: 2319\n"
     ]
    }
   ],
   "source": [
    "import os\n",
    "import json\n",
    "from sklearn.cluster import DBSCAN\n",
    "from shapely.geometry import shape\n",
    "import numpy as np\n",
    "\n",
    "def load_and_group_features(geojson_file):\n",
    "    groups = {}\n",
    "    with open(geojson_file, 'r') as f:\n",
    "        data = json.load(f)\n",
    "    features = data['features'] if data['type'] == 'FeatureCollection' else [data]\n",
    "    for feature in features:\n",
    "        properties = feature['properties']\n",
    "        planting_date = properties.get('planting_date_reported')\n",
    "        ndvi_months = json.dumps(properties.get('Top_Three_NDVI_Months', '[7]'))  \n",
    "        key = (planting_date, ndvi_months)\n",
    "        if key not in groups:\n",
    "            groups[key] = []\n",
    "        groups[key].append(feature)\n",
    "    return groups\n",
    "\n",
    "def calculate_centroids(features):\n",
    "    centroids = []\n",
    "    for feature in features:\n",
    "        polygon = shape(feature['geometry'])\n",
    "        centroids.append(list(polygon.centroid.coords)[0])\n",
    "    return centroids\n",
    "\n",
    "def cluster_features(features, eps=0.1, min_samples=2):\n",
    "    centroids = calculate_centroids(features)\n",
    "    db = DBSCAN(eps=eps, min_samples=min_samples, metric='haversine').fit(np.radians(centroids))\n",
    "    num_clusters = len(set(db.labels_)) - (1 if -1 in db.labels_ else 0)\n",
    "    clusters = {}\n",
    "    for label, feature in zip(db.labels_, features):\n",
    "        if label not in clusters:\n",
    "            clusters[label] = []\n",
    "        clusters[label].append(feature)\n",
    "    return clusters, num_clusters\n",
    "\n",
    "def group_and_cluster_features(geojson_file):\n",
    "    grouped_features = load_and_group_features(geojson_file)\n",
    "    clustered_groups = {}\n",
    "    total_clusters = 0\n",
    "    for key, features in grouped_features.items():\n",
    "        clustered, num_clusters = cluster_features(features)\n",
    "        clustered_groups[key] = clustered\n",
    "        total_clusters += num_clusters\n",
    "    return clustered_groups, total_clusters\n",
    "\n",
    "\n",
    "geojson_file = '/home/idisc02/Forest_Monitoring/src/df_reforestation.geojson'\n",
    "\n",
    "clustered_features, total_clusters = group_and_cluster_features(geojson_file)\n",
    "print(f\"Total clusters created: {total_clusters}\")"
   ]
  },
  {
   "cell_type": "code",
   "execution_count": 80,
   "id": "3b916f0e",
   "metadata": {},
   "outputs": [
    {
     "name": "stdout",
     "output_type": "stream",
     "text": [
      "Clustered GeoJSON file created: /home/idisc02/Forest_Monitoring/src/clustered_geojson.gpkg\n"
     ]
    }
   ],
   "source": [
    "import json\n",
    "import numpy as np\n",
    "from shapely.geometry import mapping, box, shape\n",
    "\n",
    "class NumpyEncoder(json.JSONEncoder):\n",
    "    \"\"\" Custom encoder for numpy data types \"\"\"\n",
    "    def default(self, obj):\n",
    "        if isinstance(obj, np.integer):\n",
    "            return int(obj)\n",
    "        elif isinstance(obj, np.floating):\n",
    "            return float(obj)\n",
    "        elif isinstance(obj, np.ndarray):\n",
    "            return obj.tolist()\n",
    "        else:\n",
    "            return super(NumpyEncoder, self).default(obj)\n",
    "\n",
    "def add_bounding_box_to_clusters(clustered_groups):\n",
    "    geojson = {\n",
    "        \"type\": \"FeatureCollection\",\n",
    "        \"features\": []\n",
    "    }\n",
    "    for key, clusters in clustered_groups.items():\n",
    "        for cluster_id, features in clusters.items():\n",
    "            if cluster_id == -1:  # Skip noise if using DBSCAN\n",
    "                continue\n",
    "            minx, miny, maxx, maxy = float('inf'), float('inf'), float('-inf'), float('-inf')\n",
    "            for feature in features:\n",
    "                polygon = shape(feature['geometry'])\n",
    "                minx_, miny_, maxx_, maxy_ = polygon.bounds\n",
    "                minx, miny = min(minx, minx_), min(miny, miny_)\n",
    "                maxx, maxy = max(maxx, maxx_), max(maxy, maxy_)\n",
    "            bounding_box = box(minx, miny, maxx, maxy)\n",
    "            geojson['features'].append({\n",
    "                \"type\": \"Feature\",\n",
    "                \"properties\": {\"cluster_id\": int(cluster_id)}, \n",
    "                \"geometry\": mapping(bounding_box)\n",
    "            })\n",
    "    return geojson\n",
    "\n",
    "\n",
    "clustered_geojson = add_bounding_box_to_clusters(clustered_features)\n",
    "\n",
    "output_file = '/home/idisc02/Forest_Monitoring/src/clustered_geojson.gpkg'\n",
    "with open(output_file, 'w') as f:\n",
    "    json.dump(clustered_geojson, f, cls=NumpyEncoder)  \n",
    "\n",
    "print(f\"Clustered GeoJSON file created: {output_file}\")"
   ]
  },
  {
   "cell_type": "code",
   "execution_count": null,
   "id": "76978005",
   "metadata": {},
   "outputs": [],
   "source": []
  },
  {
   "cell_type": "code",
   "execution_count": null,
   "id": "d38aa018",
   "metadata": {},
   "outputs": [],
   "source": []
  },
  {
   "cell_type": "code",
   "execution_count": null,
   "id": "fc81bd30",
   "metadata": {},
   "outputs": [],
   "source": []
  },
  {
   "cell_type": "code",
   "execution_count": null,
   "id": "410a81f3",
   "metadata": {},
   "outputs": [],
   "source": []
  },
  {
   "cell_type": "code",
   "execution_count": null,
   "id": "eec820df",
   "metadata": {},
   "outputs": [],
   "source": []
  },
  {
   "cell_type": "code",
   "execution_count": null,
   "id": "45de0278",
   "metadata": {},
   "outputs": [],
   "source": []
  },
  {
   "cell_type": "code",
   "execution_count": null,
   "id": "b7e6f588",
   "metadata": {},
   "outputs": [],
   "source": []
  },
  {
   "cell_type": "code",
   "execution_count": null,
   "id": "61965e35",
   "metadata": {},
   "outputs": [],
   "source": []
  },
  {
   "cell_type": "code",
   "execution_count": null,
   "id": "10891ec6",
   "metadata": {},
   "outputs": [],
   "source": []
  },
  {
   "cell_type": "code",
   "execution_count": null,
   "id": "90009bd0",
   "metadata": {},
   "outputs": [],
   "source": []
  },
  {
   "cell_type": "code",
   "execution_count": null,
   "id": "31664608",
   "metadata": {},
   "outputs": [],
   "source": []
  },
  {
   "cell_type": "code",
   "execution_count": null,
   "id": "13e232ca",
   "metadata": {},
   "outputs": [],
   "source": []
  },
  {
   "cell_type": "code",
   "execution_count": null,
   "id": "3c3ad18c",
   "metadata": {},
   "outputs": [],
   "source": []
  },
  {
   "cell_type": "code",
   "execution_count": null,
   "id": "0d879b46",
   "metadata": {},
   "outputs": [],
   "source": []
  },
  {
   "cell_type": "code",
   "execution_count": null,
   "id": "6cf1e81a",
   "metadata": {},
   "outputs": [],
   "source": []
  },
  {
   "cell_type": "code",
   "execution_count": null,
   "id": "127bcd44",
   "metadata": {},
   "outputs": [],
   "source": []
  },
  {
   "cell_type": "code",
   "execution_count": null,
   "id": "28f475e0",
   "metadata": {},
   "outputs": [],
   "source": []
  },
  {
   "cell_type": "code",
   "execution_count": null,
   "id": "57061e31",
   "metadata": {},
   "outputs": [],
   "source": []
  },
  {
   "cell_type": "code",
   "execution_count": null,
   "id": "71949f74",
   "metadata": {},
   "outputs": [],
   "source": []
  },
  {
   "cell_type": "code",
   "execution_count": null,
   "id": "44405a73",
   "metadata": {},
   "outputs": [],
   "source": []
  },
  {
   "cell_type": "code",
   "execution_count": null,
   "id": "22e9fc37",
   "metadata": {},
   "outputs": [],
   "source": []
  },
  {
   "cell_type": "code",
   "execution_count": null,
   "id": "fa8e160c",
   "metadata": {},
   "outputs": [],
   "source": []
  },
  {
   "cell_type": "code",
   "execution_count": null,
   "id": "8cc408c7",
   "metadata": {},
   "outputs": [],
   "source": []
  },
  {
   "cell_type": "code",
   "execution_count": null,
   "id": "5f3b4763",
   "metadata": {},
   "outputs": [],
   "source": []
  },
  {
   "cell_type": "code",
   "execution_count": null,
   "id": "789eedf0",
   "metadata": {},
   "outputs": [],
   "source": []
  }
 ],
 "metadata": {
  "kernelspec": {
   "display_name": "Python 3 (ipykernel)",
   "language": "python",
   "name": "python3"
  },
  "language_info": {
   "codemirror_mode": {
    "name": "ipython",
    "version": 3
   },
   "file_extension": ".py",
   "mimetype": "text/x-python",
   "name": "python",
   "nbconvert_exporter": "python",
   "pygments_lexer": "ipython3",
   "version": "3.8.18"
  },
  "varInspector": {
   "cols": {
    "lenName": 16,
    "lenType": 16,
    "lenVar": 40
   },
   "kernels_config": {
    "python": {
     "delete_cmd_postfix": "",
     "delete_cmd_prefix": "del ",
     "library": "var_list.py",
     "varRefreshCmd": "print(var_dic_list())"
    },
    "r": {
     "delete_cmd_postfix": ") ",
     "delete_cmd_prefix": "rm(",
     "library": "var_list.r",
     "varRefreshCmd": "cat(var_dic_list()) "
    }
   },
   "types_to_exclude": [
    "module",
    "function",
    "builtin_function_or_method",
    "instance",
    "_Feature"
   ],
   "window_display": false
  }
 },
 "nbformat": 4,
 "nbformat_minor": 5
}
