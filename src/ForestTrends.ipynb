{
 "cells": [
  {
   "cell_type": "markdown",
   "metadata": {},
   "source": [
    "Extract data to json file from https://www.forest-trends.org/project-list/#close"
   ]
  },
  {
   "cell_type": "code",
   "execution_count": null,
   "metadata": {},
   "outputs": [],
   "source": [
    "import json\n",
    "import pandas as pd\n",
    "with open('../input/Forest_Trends/data.json', 'r') as file:\n",
    "    data = json.load(file)\n",
    "\n",
    "print(type(data))\n",
    "\n",
    "\n",
    "print(data[0])\n",
    "\n",
    "\n",
    "if isinstance(data, list) and isinstance(data[0], dict):\n",
    "    fd_df = pd.DataFrame(data)\n",
    "    fd_df.info()"
   ]
  },
  {
   "cell_type": "code",
   "execution_count": null,
   "metadata": {},
   "outputs": [],
   "source": [
    "fd_df['coordinates'] = fd_df.apply(lambda row: (row['markers.lng'], row['markers.lat']), axis=1)\n",
    "fd_df['country'] = fd_df['markers.location'].astype(str).apply(lambda x: x.split()[-1] if isinstance(x, str) else '')\n",
    "\n",
    "\n",
    "fd_df.head()"
   ]
  },
  {
   "cell_type": "code",
   "execution_count": null,
   "metadata": {},
   "outputs": [],
   "source": [
    "# Renaming the columns to follow our naming format in the paper columns section\n",
    "columns_rename_mapping = {\n",
    "    'markers.pid': 'project_id_reported',\n",
    "    'coordinates': 'geometry_reported',\n",
    "    'markers.title': 'description_reported',\n",
    "    'country': 'country',\n",
    "    #'date': 'planting_date_reported',\n",
    "    #'link': 'url',\n",
    "    #'survivalRate': 'survival_rate_reported',\n",
    "}\n",
    "\n",
    "fd_df = fd_df[list(columns_rename_mapping.keys())]\n",
    "\n",
    "\n",
    "fd_df.rename(columns=columns_rename_mapping, inplace=True)"
   ]
  },
  {
   "cell_type": "code",
   "execution_count": null,
   "metadata": {},
   "outputs": [],
   "source": [
    "#df['site_id_reported'] = ['tist_asia_{}'.format(i) for i in range(1, len(asia_df) + 1)]\n",
    "fd_df =fd_df.assign(site_sqkm=None,species_count_reported=None, species_planted_reported=None, survival_rate_reported=None,trees_planted_reported=None,site_id_reported=None,planting_date_reported=None)\n",
    "fd_df.info()"
   ]
  },
  {
   "cell_type": "code",
   "execution_count": null,
   "metadata": {},
   "outputs": [],
   "source": [
    "fd_df.to_csv('../input/Forest_Trends/data.csv', index=False)"
   ]
  }
 ],
 "metadata": {
  "language_info": {
   "name": "python"
  }
 },
 "nbformat": 4,
 "nbformat_minor": 2
}
