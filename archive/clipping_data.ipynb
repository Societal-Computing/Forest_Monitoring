{
 "cells": [
  {
   "cell_type": "markdown",
   "id": "4e1e7828",
   "metadata": {},
   "source": [
    "Data Clipping"
   ]
  },
  {
   "cell_type": "code",
   "execution_count": 27,
   "id": "2d3858f6",
   "metadata": {
    "_cell_guid": "b1076dfc-b9ad-4769-8c92-a6c4dae69d19",
    "_uuid": "8f2839f25d086af736a60e9eeb907d3b93b6e0e5",
    "execution": {
     "iopub.execute_input": "2023-05-14T14:05:23.018604Z",
     "iopub.status.busy": "2023-05-14T14:05:23.017728Z",
     "iopub.status.idle": "2023-05-14T14:05:25.629404Z",
     "shell.execute_reply": "2023-05-14T14:05:25.628306Z"
    },
    "papermill": {
     "duration": 2.622788,
     "end_time": "2023-05-14T14:05:25.632926",
     "exception": false,
     "start_time": "2023-05-14T14:05:23.010138",
     "status": "completed"
    },
    "tags": []
   },
   "outputs": [],
   "source": [
    "import numpy as np \n",
    "import pandas as pd \n",
    "import os\n",
    "from matplotlib import pyplot as plt\n",
    "import torch\n",
    "import cv2\n",
    "from pathlib import Path"
   ]
  },
  {
   "cell_type": "code",
   "execution_count": 39,
   "id": "0fa3e0a4",
   "metadata": {},
   "outputs": [],
   "source": [
    "import os\n",
    "from shapely.geometry import Polygon, box\n",
    "import json\n",
    "import pyproj\n",
    "from rasterio.mask import mask    \n",
    "import rasterio \n",
    "def crs_transform(x,y, input_crs=4326, target_crs=32630):\n",
    "        transformer = pyproj.Transformer.from_crs(pyproj.CRS.from_epsg(input_crs), pyproj.CRS.from_epsg(target_crs), always_xy=True)\n",
    "        reprojected_x , reprojected_y = transformer.transform(x, y)\n",
    "        return reprojected_x, reprojected_y\n",
    " \n",
    " \n",
    "def convert_all_points(ls_ls, input_crs=4326, target_crs=32630):\n",
    "    \"\"\" convert points to crs of geotiff image\"\"\"\n",
    "    t_t = []\n",
    "    for i in ls_ls:\n",
    "        l = list(crs_transform(i[0], i[1], input_crs, target_crs))\n",
    "        #l.append(i[2])\n",
    "        t_t.append(l)\n",
    "    return t_t\n",
    " \n",
    " \n",
    "def get_intersection_percentage(reprojected_polygon, geobox):\n",
    "    return reprojected_polygon.intersection(geobox).area / reprojected_polygon.area\n",
    " "
   ]
  },
  {
   "cell_type": "code",
   "execution_count": 85,
   "id": "68126bae",
   "metadata": {},
   "outputs": [],
   "source": [
    "def get_image_with_highest_intersection(geojson_file_path, root_dir):\n",
    "    with open(geojson_file_path, \"r\") as f:\n",
    "        geojson_file = json.load(f)\n",
    "\n",
    "    #print(geojson_file['features'])\n",
    "   \n",
    "    geojson_points_unprojected = geojson_file['features'][0]['geometry']['coordinates'][0]\n",
    "    #print(geojson_points_unprojected)\n",
    " \n",
    "    #print(geojson_points_unprojected)\n",
    "    best_match = None\n",
    "    best_match_percentage = 0\n",
    "    tif_files = [file for file in Path(root_dir).iterdir() if file.suffix in ['.tif', '.tiff']]\n",
    "    #print(tif_files)\n",
    "    # for each image for the geojson file\n",
    "    for image_path in tif_files:\n",
    "        #image_path = os.path.join(dir_path, tif_file)\n",
    "        #print(image_path)\n",
    "        with rasterio.open(image_path) as src:\n",
    "            image_geometry = box(*src.bounds)\n",
    "            crs = f\"{src.crs}\"\n",
    "            crs = int(crs.split(\":\")[-1])\n",
    "            reprojected_points = convert_all_points(geojson_points_unprojected,target_crs=crs)\n",
    "           \n",
    "            reprojected_polygon = Polygon(reprojected_points)\n",
    "            #print(reprojected_points)\n",
    "        intersection_percentage = get_intersection_percentage(reprojected_polygon, image_geometry)\n",
    "        if (intersection_percentage > best_match_percentage) and (intersection_percentage < 0.8):\n",
    "            best_match_percentage = intersection_percentage\n",
    "            best_match = image_path\n",
    "\n",
    "    return geojson_file_path, best_match.as_posix(), best_match_percentage\n",
    " \n"
   ]
  },
  {
   "cell_type": "code",
   "execution_count": 86,
   "id": "f3ed303c",
   "metadata": {},
   "outputs": [
    {
     "name": "stdout",
     "output_type": "stream",
     "text": [
      "0.787955096883202\n"
     ]
    }
   ],
   "source": [
    "geo_json_path = \"/home/idisc02/Saarland_Forest_monitoring_research/Reforestation_Monitoring/Plant_For_Planet_above200_dataset/polygon_7.geojson\"\n",
    "polygon_name = \"polygon_7\"\n",
    "# Directory path\n",
    "root_dir = f\"/home/idisc02/Saarland_Forest_monitoring_research/Reforestation_Monitoring/Plant_For_Planet_above200_dataset/{polygon_name}/1b146699-0721-4fc8-a15d-e7ce221cc7fd/PSScene\"\n",
    "\n",
    "geojson_file, match_image_path, _ = get_image_with_highest_intersection(geo_json_path, root_dir)\n",
    "print(_)\n"
   ]
  },
  {
   "cell_type": "code",
   "execution_count": 87,
   "id": "57222efc",
   "metadata": {},
   "outputs": [],
   "source": [
    "def get_masked_region(geojson_file, image_path):\n",
    "    with open(geojson_file, \"r\") as f:\n",
    "        geojson_file = json.load(f)\n",
    "   \n",
    "    geojson_points_unprojected = geojson_file['features'][0]['geometry']['coordinates'][0]\n",
    " \n",
    "    with rasterio.open(image_path) as src:\n",
    "        #image_geometry = box(*src.bounds)\n",
    "        crs = f\"{src.crs}\"\n",
    "        crs = int(crs.split(\":\")[-1])\n",
    "       \n",
    "        # Mask the image\n",
    "        reprojected_points = convert_all_points(geojson_points_unprojected,target_crs=crs)\n",
    "           \n",
    "        reprojected_polygon = Polygon(reprojected_points)\n",
    "        out_image, out_transform = rasterio.mask.mask(src, [reprojected_polygon], crop=True)\n",
    " \n",
    "        out_meta = src.meta.copy()\n",
    " \n",
    "        out_meta.update({\n",
    "            \"driver\": \"GTiff\",\n",
    "            \"height\": out_image.shape[1],\n",
    "            \"width\": out_image.shape[2],\n",
    "            \"transform\": out_transform\n",
    "        })\n",
    " \n",
    "        save_path = \"/home/idisc02/Saarland_Forest_monitoring_research/Reforestation_Monitoring/Plant_For_Planet_above200_dataset/polygon_7/1b146699-0721-4fc8-a15d-e7ce221cc7fd\"\n",
    "        # Write the masked image to a new file\n",
    "        with rasterio.open(f'{save_path}/masked_image.tif', 'w', **out_meta) as dest:\n",
    "            dest.write(out_image)"
   ]
  },
  {
   "cell_type": "code",
   "execution_count": 88,
   "id": "726783c0",
   "metadata": {},
   "outputs": [],
   "source": [
    "get_masked_region(geojson_file, match_image_path)"
   ]
  },
  {
   "cell_type": "code",
   "execution_count": null,
   "id": "0849984b",
   "metadata": {},
   "outputs": [],
   "source": []
  }
 ],
 "metadata": {
  "kernelspec": {
   "display_name": "base",
   "language": "python",
   "name": "base"
  },
  "language_info": {
   "codemirror_mode": {
    "name": "ipython",
    "version": 3
   },
   "file_extension": ".py",
   "mimetype": "text/x-python",
   "name": "python",
   "nbconvert_exporter": "python",
   "pygments_lexer": "ipython3",
   "version": "3.10.11"
  },
  "papermill": {
   "default_parameters": {},
   "duration": 162.000171,
   "end_time": "2023-05-14T14:07:54.573656",
   "environment_variables": {},
   "exception": null,
   "input_path": "__notebook__.ipynb",
   "output_path": "__notebook__.ipynb",
   "parameters": {},
   "start_time": "2023-05-14T14:05:12.573485",
   "version": "2.4.0"
  }
 },
 "nbformat": 4,
 "nbformat_minor": 5
}
